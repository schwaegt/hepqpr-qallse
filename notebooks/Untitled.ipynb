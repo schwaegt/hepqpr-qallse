{
 "cells": [
  {
   "cell_type": "code",
   "execution_count": 1,
   "id": "97857f4c",
   "metadata": {},
   "outputs": [],
   "source": [
    "import pickle"
   ]
  },
  {
   "cell_type": "code",
   "execution_count": 2,
   "id": "35d07426",
   "metadata": {},
   "outputs": [
    {
     "data": {
      "text/html": [
       "<script type=\"text/javascript\">window.PlotlyConfig = {MathJaxConfig: 'local'};</script><script type=\"text/javascript\">if (window.MathJax) {MathJax.Hub.Config({SVG: {font: \"STIX-Web\"}});}</script><script>requirejs.config({paths: { 'plotly': ['https://cdn.plot.ly/plotly-latest.min']},});if(!window._Plotly) {require(['plotly'],function(plotly) {window._Plotly=plotly;});}</script>"
      ],
      "text/vnd.plotly.v1+html": [
       "<script type=\"text/javascript\">window.PlotlyConfig = {MathJaxConfig: 'local'};</script><script type=\"text/javascript\">if (window.MathJax) {MathJax.Hub.Config({SVG: {font: \"STIX-Web\"}});}</script><script>requirejs.config({paths: { 'plotly': ['https://cdn.plot.ly/plotly-latest.min']},});if(!window._Plotly) {require(['plotly'],function(plotly) {window._Plotly=plotly;});}</script>"
      ]
     },
     "metadata": {},
     "output_type": "display_data"
    },
    {
     "data": {
      "application/vnd.plotly.v1+json": {
       "config": {
        "linkText": "Export to plot.ly",
        "plotlyServerURL": "https://plot.ly",
        "showLink": true
       },
       "data": [
        {
         "hoverinfo": "name+text",
         "legendgroup": "real_unfocused",
         "line": {
          "color": "darkseagreen",
          "width": 1
         },
         "name": "real_unfocused",
         "opacity": 1,
         "showlegend": true,
         "text": [
          "18246",
          "27129"
         ],
         "type": "scatter",
         "uid": "9a98a74c-efa3-4e42-b240-a9494de20c50",
         "x": [
          -21.7191,
          -49.4278
         ],
         "y": [
          -22.879,
          -53.6609
         ]
        },
        {
         "hoverinfo": "name+text",
         "legendgroup": "real_unfocused",
         "line": {
          "color": "darkseagreen",
          "width": 1
         },
         "name": "real_unfocused",
         "opacity": 1,
         "showlegend": false,
         "text": [
          "27129",
          "34226"
         ],
         "type": "scatter",
         "uid": "13605744-c5b5-4d32-82fa-5f7de5327758",
         "x": [
          -49.4278,
          -76.6251
         ],
         "y": [
          -53.6609,
          -85.78
         ]
        },
        {
         "hoverinfo": "name+text",
         "legendgroup": "real_unfocused",
         "line": {
          "color": "darkseagreen",
          "width": 1
         },
         "name": "real_unfocused",
         "opacity": 1,
         "showlegend": false,
         "text": [
          "34226",
          "40268"
         ],
         "type": "scatter",
         "uid": "7287706d-fdd2-4b7c-be07-78b343830fe1",
         "x": [
          -76.6251,
          -111.405
         ],
         "y": [
          -85.78,
          -130.203
         ]
        },
        {
         "hoverinfo": "name+text",
         "legendgroup": "real_unfocused",
         "line": {
          "color": "darkseagreen",
          "width": 1
         },
         "name": "real_unfocused",
         "opacity": 1,
         "showlegend": false,
         "text": [
          "40268",
          "72036"
         ],
         "type": "scatter",
         "uid": "f02a0562-5520-41d8-9678-e3edd0a461f5",
         "x": [
          -111.405,
          -163.782
         ],
         "y": [
          -130.203,
          -205.827
         ]
        },
        {
         "hoverinfo": "name+text",
         "legendgroup": "real_unfocused",
         "line": {
          "color": "darkseagreen",
          "width": 1
         },
         "name": "real_unfocused",
         "opacity": 1,
         "showlegend": false,
         "text": [
          "72036",
          "78762"
         ],
         "type": "scatter",
         "uid": "a344ff06-44de-4f8f-9f5f-14db565c348f",
         "x": [
          -163.782,
          -213.656
         ],
         "y": [
          -205.827,
          -290.52
         ]
        },
        {
         "hoverinfo": "name+text",
         "legendgroup": "real_unfocused",
         "line": {
          "color": "darkseagreen",
          "width": 1
         },
         "name": "real_unfocused",
         "opacity": 1,
         "showlegend": false,
         "text": [
          "23050",
          "30426"
         ],
         "type": "scatter",
         "uid": "0e4dfa20-c51a-4323-a246-66dc90fa93ea",
         "x": [
          -4.64343,
          -9.44367
         ],
         "y": [
          31.6821,
          70.8192
         ]
        },
        {
         "hoverinfo": "name+text",
         "legendgroup": "real_unfocused",
         "line": {
          "color": "darkseagreen",
          "width": 1
         },
         "name": "real_unfocused",
         "opacity": 1,
         "showlegend": false,
         "text": [
          "30426",
          "37198"
         ],
         "type": "scatter",
         "uid": "be6dab71-ae91-4741-9425-d0eec2de1524",
         "x": [
          -9.44367,
          -13.5617
         ],
         "y": [
          70.8192,
          114.204
         ]
        },
        {
         "hoverinfo": "name+text",
         "legendgroup": "real_unfocused",
         "line": {
          "color": "darkseagreen",
          "width": 1
         },
         "name": "real_unfocused",
         "opacity": 1,
         "showlegend": false,
         "text": [
          "37198",
          "44045"
         ],
         "type": "scatter",
         "uid": "35cc869a-7374-45d0-bac8-9686bd913cd5",
         "x": [
          -13.5617,
          -16.8728
         ],
         "y": [
          114.204,
          171.016
         ]
        },
        {
         "hoverinfo": "name+text",
         "legendgroup": "real_unfocused",
         "line": {
          "color": "darkseagreen",
          "width": 1
         },
         "name": "real_unfocused",
         "opacity": 1,
         "showlegend": false,
         "text": [
          "44045",
          "75480"
         ],
         "type": "scatter",
         "uid": "97db43d3-69f5-4fe7-8006-16f3e39b7255",
         "x": [
          -16.8728,
          -17.738
         ],
         "y": [
          171.016,
          257.521
         ]
        },
        {
         "hoverinfo": "name+text",
         "legendgroup": "real_unfocused",
         "line": {
          "color": "darkseagreen",
          "width": 1
         },
         "name": "real_unfocused",
         "opacity": 1,
         "showlegend": false,
         "text": [
          "75480",
          "82723"
         ],
         "type": "scatter",
         "uid": "1b120409-2091-48dd-a18f-fe42febb5d03",
         "x": [
          -17.738,
          -11.9561
         ],
         "y": [
          257.521,
          360.148
         ]
        },
        {
         "hoverinfo": "name+text",
         "legendgroup": "real_unfocused",
         "line": {
          "color": "darkseagreen",
          "width": 1
         },
         "name": "real_unfocused",
         "opacity": 1,
         "showlegend": false,
         "text": [
          "21405",
          "30694"
         ],
         "type": "scatter",
         "uid": "4c9772f3-6758-47c3-b5e3-bac0ab9f71ae",
         "x": [
          -33.5947,
          -73.825
         ],
         "y": [
          0.8266889999999999,
          0.838565
         ]
        },
        {
         "hoverinfo": "name+text",
         "legendgroup": "real_unfocused",
         "line": {
          "color": "darkseagreen",
          "width": 1
         },
         "name": "real_unfocused",
         "opacity": 1,
         "showlegend": false,
         "text": [
          "30694",
          "38058"
         ],
         "type": "scatter",
         "uid": "c31018db-a296-41e6-9cd0-bbae22e9180c",
         "x": [
          -73.825,
          -116.911
         ],
         "y": [
          0.838565,
          -0.235947
         ]
        },
        {
         "hoverinfo": "name+text",
         "legendgroup": "real_unfocused",
         "line": {
          "color": "darkseagreen",
          "width": 1
         },
         "name": "real_unfocused",
         "opacity": 1,
         "showlegend": false,
         "text": [
          "38058",
          "44664"
         ],
         "type": "scatter",
         "uid": "4b459aa2-d4f2-405b-8e51-c032d414cb7b",
         "x": [
          -116.911,
          -172.74200000000005
         ],
         "y": [
          -0.235947,
          -3.4674400000000003
         ]
        },
        {
         "hoverinfo": "name+text",
         "legendgroup": "real_unfocused",
         "line": {
          "color": "darkseagreen",
          "width": 1
         },
         "name": "real_unfocused",
         "opacity": 1,
         "showlegend": false,
         "text": [
          "44664",
          "76101"
         ],
         "type": "scatter",
         "uid": "339d120b-daa3-4b93-8a83-2b31ae2d1afd",
         "x": [
          -172.74200000000005,
          -257.127
         ],
         "y": [
          -3.4674400000000003,
          -12.2321
         ]
        },
        {
         "hoverinfo": "name+text",
         "legendgroup": "real_unfocused",
         "line": {
          "color": "darkseagreen",
          "width": 1
         },
         "name": "real_unfocused",
         "opacity": 1,
         "showlegend": false,
         "text": [
          "76101",
          "83615"
         ],
         "type": "scatter",
         "uid": "b69b18b8-0291-4a38-8c66-c49fd6d45bd5",
         "x": [
          -257.127,
          -358.775
         ],
         "y": [
          -12.2321,
          -29.005
         ]
        },
        {
         "hoverinfo": "name+text",
         "legendgroup": "real_unfocused",
         "line": {
          "color": "darkseagreen",
          "width": 1
         },
         "name": "real_unfocused",
         "opacity": 1,
         "showlegend": false,
         "text": [
          "83615",
          "90565"
         ],
         "type": "scatter",
         "uid": "22f861d9-efef-4323-95fc-da56de459efd",
         "x": [
          -358.775,
          -494.937
         ],
         "y": [
          -29.005,
          -62.5497
         ]
        },
        {
         "hoverinfo": "name+text",
         "legendgroup": "real_unfocused",
         "line": {
          "color": "darkseagreen",
          "width": 1
         },
         "name": "real_unfocused",
         "opacity": 1,
         "showlegend": false,
         "text": [
          "90565",
          "96738"
         ],
         "type": "scatter",
         "uid": "b1c05b56-ab6e-4cc0-936e-2a43a54b76ce",
         "x": [
          -494.937,
          -650.641
         ],
         "y": [
          -62.5497,
          -117.418
         ]
        },
        {
         "hoverinfo": "name+text",
         "legendgroup": "real_unfocused",
         "line": {
          "color": "darkseagreen",
          "width": 1
         },
         "name": "real_unfocused",
         "opacity": 1,
         "showlegend": false,
         "text": [
          "75184",
          "82090"
         ],
         "type": "scatter",
         "uid": "306157fd-6770-4828-b9fe-fbc7de5bc5e4",
         "x": [
          -1.10379,
          -15.6281
         ],
         "y": [
          -262.164,
          -358.871
         ]
        },
        {
         "hoverinfo": "name+text",
         "legendgroup": "real_unfocused",
         "line": {
          "color": "darkseagreen",
          "width": 1
         },
         "name": "real_unfocused",
         "opacity": 1,
         "showlegend": false,
         "text": [
          "82090",
          "88632"
         ],
         "type": "scatter",
         "uid": "30be4bd2-4cb6-40c1-8b9a-1645603dd863",
         "x": [
          -15.6281,
          -48.3976
         ],
         "y": [
          -358.871,
          -494.939
         ]
        },
        {
         "hoverinfo": "name+text",
         "legendgroup": "real_unfocused",
         "line": {
          "color": "darkseagreen",
          "width": 1
         },
         "name": "real_unfocused",
         "opacity": 1,
         "showlegend": false,
         "text": [
          "88632",
          "94896"
         ],
         "type": "scatter",
         "uid": "9dc1cbbe-07cc-4f3a-87b9-1f0af42060be",
         "x": [
          -48.3976,
          -107.941
         ],
         "y": [
          -494.939,
          -654.971
         ]
        },
        {
         "hoverinfo": "name+text",
         "legendgroup": "real_unfocused",
         "line": {
          "color": "darkseagreen",
          "width": 1
         },
         "name": "real_unfocused",
         "opacity": 1,
         "showlegend": false,
         "text": [
          "94896",
          "110783"
         ],
         "type": "scatter",
         "uid": "4b1a4bdb-d84c-4338-8f7f-2c66f5399c25",
         "x": [
          -107.941,
          -184.63
         ],
         "y": [
          -654.971,
          -801.703
         ]
        },
        {
         "hoverinfo": "name+text",
         "legendgroup": "real_unfocused",
         "line": {
          "color": "darkseagreen",
          "width": 1
         },
         "name": "real_unfocused",
         "opacity": 1,
         "showlegend": false,
         "text": [
          "110783",
          "116120"
         ],
         "type": "scatter",
         "uid": "84246386-b321-4b61-b0ae-8af614bd36e1",
         "x": [
          -184.63,
          -306.828
         ],
         "y": [
          -801.703,
          -971.876
         ]
        },
        {
         "hoverinfo": "name+text",
         "legendgroup": "real",
         "line": {
          "color": "green",
          "width": 1
         },
         "name": "real",
         "opacity": 1,
         "showlegend": true,
         "text": [
          "20764",
          "27487"
         ],
         "type": "scatter",
         "uid": "6688c8fe-9c65-494d-992f-358c0b46f17c",
         "x": [
          5.5706,
          10.5024
         ],
         "y": [
          31.671,
          72.0453
         ]
        },
        {
         "hoverinfo": "name+text",
         "legendgroup": "real",
         "line": {
          "color": "green",
          "width": 1
         },
         "name": "real",
         "opacity": 1,
         "showlegend": false,
         "text": [
          "27487",
          "34491"
         ],
         "type": "scatter",
         "uid": "0cce0671-667a-42b0-9b65-6b64e9a376f3",
         "x": [
          10.5024,
          14.7116
         ],
         "y": [
          72.0453,
          114.108
         ]
        },
        {
         "hoverinfo": "name+text",
         "legendgroup": "real",
         "line": {
          "color": "green",
          "width": 1
         },
         "name": "real",
         "opacity": 1,
         "showlegend": false,
         "text": [
          "34491",
          "40865"
         ],
         "type": "scatter",
         "uid": "daf2180b-4957-4c7b-9cf1-dad7ede7a400",
         "x": [
          14.7116,
          18.992
         ],
         "y": [
          114.108,
          171.997
         ]
        },
        {
         "hoverinfo": "name+text",
         "legendgroup": "real",
         "line": {
          "color": "green",
          "width": 1
         },
         "name": "real",
         "opacity": 1,
         "showlegend": false,
         "text": [
          "40865",
          "72549"
         ],
         "type": "scatter",
         "uid": "366518bb-341f-4836-8d36-a195f3555189",
         "x": [
          18.992,
          22.298
         ],
         "y": [
          171.997,
          257.23400000000004
         ]
        },
        {
         "hoverinfo": "name+text",
         "legendgroup": "real",
         "line": {
          "color": "green",
          "width": 1
         },
         "name": "real",
         "opacity": 1,
         "showlegend": false,
         "text": [
          "72549",
          "79138"
         ],
         "type": "scatter",
         "uid": "cedbac62-03ac-48fc-9a81-7fa89331feaf",
         "x": [
          22.298,
          21.6577
         ],
         "y": [
          257.23400000000004,
          357.611
         ]
        },
        {
         "hoverinfo": "name+text",
         "legendgroup": "real",
         "line": {
          "color": "green",
          "width": 1
         },
         "name": "real",
         "opacity": 1,
         "showlegend": false,
         "text": [
          "79138",
          "85537"
         ],
         "type": "scatter",
         "uid": "2d7b8e4e-59ba-421e-bf88-d9837c31324a",
         "x": [
          21.6577,
          12.251
         ],
         "y": [
          357.611,
          496.648
         ]
        },
        {
         "hoverinfo": "name+text",
         "legendgroup": "real",
         "line": {
          "color": "green",
          "width": 1
         },
         "name": "real",
         "opacity": 1,
         "showlegend": false,
         "text": [
          "23536",
          "31418"
         ],
         "type": "scatter",
         "uid": "912d71b0-4a41-4239-8e90-a0b44aa05fdc",
         "x": [
          -30.9263,
          -68.8454
         ],
         "y": [
          9.9814,
          22.8573
         ]
        },
        {
         "hoverinfo": "name+text",
         "legendgroup": "real",
         "line": {
          "color": "green",
          "width": 1
         },
         "name": "real",
         "opacity": 1,
         "showlegend": false,
         "text": [
          "31418",
          "38524"
         ],
         "type": "scatter",
         "uid": "d5d00abb-8c65-46da-b04c-a9bf3ddc9456",
         "x": [
          -68.8454,
          -109.987
         ],
         "y": [
          22.8573,
          37.6253
         ]
        },
        {
         "hoverinfo": "name+text",
         "legendgroup": "real",
         "line": {
          "color": "green",
          "width": 1
         },
         "name": "real",
         "opacity": 1,
         "showlegend": false,
         "text": [
          "38524",
          "45067"
         ],
         "type": "scatter",
         "uid": "4a0123fa-005f-425c-b521-2f10fa02262f",
         "x": [
          -109.987,
          -161.876
         ],
         "y": [
          37.6253,
          57.4577
         ]
        },
        {
         "hoverinfo": "name+text",
         "legendgroup": "real",
         "line": {
          "color": "green",
          "width": 1
         },
         "name": "real",
         "opacity": 1,
         "showlegend": false,
         "text": [
          "45067",
          "76902"
         ],
         "type": "scatter",
         "uid": "3013c1a9-373f-4c1d-8d33-85451c132785",
         "x": [
          -161.876,
          -246.02
         ],
         "y": [
          57.4577,
          92.7332
         ]
        },
        {
         "hoverinfo": "name+text",
         "legendgroup": "real",
         "line": {
          "color": "green",
          "width": 1
         },
         "name": "real",
         "opacity": 1,
         "showlegend": false,
         "text": [
          "76902",
          "83944"
         ],
         "type": "scatter",
         "uid": "8e305621-5262-466f-8a1d-c83ba9de6657",
         "x": [
          -246.02,
          -333.426
         ],
         "y": [
          92.7332,
          133.519
         ]
        },
        {
         "hoverinfo": "name+text",
         "legendgroup": "real",
         "line": {
          "color": "green",
          "width": 1
         },
         "name": "real",
         "opacity": 1,
         "showlegend": false,
         "text": [
          "83944",
          "90803"
         ],
         "type": "scatter",
         "uid": "4c653e1b-c814-41ea-bedb-3ed2aeba2332",
         "x": [
          -333.426,
          -459.273
         ],
         "y": [
          133.519,
          200.49400000000003
         ]
        },
        {
         "hoverinfo": "name+text",
         "legendgroup": "real",
         "line": {
          "color": "green",
          "width": 1
         },
         "name": "real",
         "opacity": 1,
         "showlegend": false,
         "text": [
          "90803",
          "96934"
         ],
         "type": "scatter",
         "uid": "c175b2b9-c5e8-46cc-a07f-72f6908303df",
         "x": [
          -459.273,
          -595.614
         ],
         "y": [
          200.49400000000003,
          284.758
         ]
        },
        {
         "hoverinfo": "name+text",
         "legendgroup": "real",
         "line": {
          "color": "green",
          "width": 1
         },
         "name": "real",
         "opacity": 1,
         "showlegend": false,
         "text": [
          "20262",
          "28058"
         ],
         "type": "scatter",
         "uid": "29af2288-9ceb-4d17-87ba-af7b5015d65a",
         "x": [
          32.2451,
          70.7765
         ],
         "y": [
          4.53326,
          9.61941
         ]
        },
        {
         "hoverinfo": "name+text",
         "legendgroup": "real",
         "line": {
          "color": "green",
          "width": 1
         },
         "name": "real",
         "opacity": 1,
         "showlegend": false,
         "text": [
          "28058",
          "34877"
         ],
         "type": "scatter",
         "uid": "1cae80b2-864b-43fc-82bc-a3fcd54a8d03",
         "x": [
          70.7765,
          114.433
         ],
         "y": [
          9.61941,
          14.9217
         ]
        },
        {
         "hoverinfo": "name+text",
         "legendgroup": "real",
         "line": {
          "color": "green",
          "width": 1
         },
         "name": "real",
         "opacity": 1,
         "showlegend": false,
         "text": [
          "34877",
          "41146"
         ],
         "type": "scatter",
         "uid": "8a10bac6-5559-42f7-8fdb-e6ef13aed1bd",
         "x": [
          114.433,
          170.40099999999995
         ],
         "y": [
          14.9217,
          21.0637
         ]
        },
        {
         "hoverinfo": "name+text",
         "legendgroup": "real",
         "line": {
          "color": "green",
          "width": 1
         },
         "name": "real",
         "opacity": 1,
         "showlegend": false,
         "text": [
          "41146",
          "73201"
         ],
         "type": "scatter",
         "uid": "fc1f904d-c8cf-4ee4-bb48-6a952ea3f002",
         "x": [
          170.40099999999995,
          258.338
         ],
         "y": [
          21.0637,
          29.1488
         ]
        },
        {
         "hoverinfo": "name+text",
         "legendgroup": "real",
         "line": {
          "color": "green",
          "width": 1
         },
         "name": "real",
         "opacity": 1,
         "showlegend": false,
         "text": [
          "73201",
          "79641"
         ],
         "type": "scatter",
         "uid": "49ff0fbe-1f6b-45fe-94c7-3a36af85ad9a",
         "x": [
          258.338,
          359.452
         ],
         "y": [
          29.1488,
          36.1999
         ]
        },
        {
         "hoverinfo": "name+text",
         "legendgroup": "real",
         "line": {
          "color": "green",
          "width": 1
         },
         "name": "real",
         "opacity": 1,
         "showlegend": false,
         "text": [
          "79641",
          "86195"
         ],
         "type": "scatter",
         "uid": "863cb79c-8c36-43a6-95f5-610ae6d54eef",
         "x": [
          359.452,
          503.503
         ],
         "y": [
          36.1999,
          42.0709
         ]
        },
        {
         "hoverinfo": "name+text",
         "legendgroup": "real",
         "line": {
          "color": "green",
          "width": 1
         },
         "name": "real",
         "opacity": 1,
         "showlegend": false,
         "text": [
          "86195",
          "91955"
         ],
         "type": "scatter",
         "uid": "06affcc5-45ef-4bb4-8bdb-3bb2db84d0d8",
         "x": [
          503.503,
          663.908
         ],
         "y": [
          42.0709,
          43.0984
         ]
        },
        {
         "hoverinfo": "name+text",
         "legendgroup": "real",
         "line": {
          "color": "green",
          "width": 1
         },
         "name": "real",
         "opacity": 1,
         "showlegend": false,
         "text": [
          "91955",
          "107743"
         ],
         "type": "scatter",
         "uid": "abc25f9a-a240-4ae4-a2d5-0c15b20c19b4",
         "x": [
          663.908,
          823.312
         ],
         "y": [
          43.0984,
          38.3265
         ]
        },
        {
         "hoverinfo": "name+text",
         "legendgroup": "real",
         "line": {
          "color": "green",
          "width": 1
         },
         "name": "real",
         "opacity": 1,
         "showlegend": false,
         "text": [
          "19698",
          "27827"
         ],
         "type": "scatter",
         "uid": "18cd852a-25e3-4eaf-b66a-3862f32131da",
         "x": [
          -4.16977,
          -9.16296
         ],
         "y": [
          -31.75,
          -71.4937
         ]
        },
        {
         "hoverinfo": "name+text",
         "legendgroup": "real",
         "line": {
          "color": "green",
          "width": 1
         },
         "name": "real",
         "opacity": 1,
         "showlegend": false,
         "text": [
          "27827",
          "35259"
         ],
         "type": "scatter",
         "uid": "b40ac13a-d178-4cd6-a851-9a5b6f3561a6",
         "x": [
          -9.16296,
          -14.2464
         ],
         "y": [
          -71.4937,
          -114.127
         ]
        },
        {
         "hoverinfo": "name+text",
         "legendgroup": "real",
         "line": {
          "color": "green",
          "width": 1
         },
         "name": "real",
         "opacity": 1,
         "showlegend": false,
         "text": [
          "35259",
          "41464"
         ],
         "type": "scatter",
         "uid": "c0e5636f-d613-4299-a428-3080c5a00027",
         "x": [
          -14.2464,
          -20.5217
         ],
         "y": [
          -114.127,
          -170.169
         ]
        },
        {
         "hoverinfo": "name+text",
         "legendgroup": "real",
         "line": {
          "color": "green",
          "width": 1
         },
         "name": "real",
         "opacity": 1,
         "showlegend": false,
         "text": [
          "41464",
          "73085"
         ],
         "type": "scatter",
         "uid": "2754b2ba-7afb-466b-bdeb-134c47d2a17b",
         "x": [
          -20.5217,
          -29.116
         ],
         "y": [
          -170.169,
          -255.648
         ]
        },
        {
         "hoverinfo": "name+text",
         "legendgroup": "real",
         "line": {
          "color": "green",
          "width": 1
         },
         "name": "real",
         "opacity": 1,
         "showlegend": false,
         "text": [
          "73085",
          "79880"
         ],
         "type": "scatter",
         "uid": "073c57f4-8279-45c0-b8cc-454ef25cbb40",
         "x": [
          -29.116,
          -38.3955
         ],
         "y": [
          -255.648,
          -363.693
         ]
        },
        {
         "hoverinfo": "name+text",
         "legendgroup": "real",
         "line": {
          "color": "green",
          "width": 1
         },
         "name": "real",
         "opacity": 1,
         "showlegend": false,
         "text": [
          "79880",
          "86402"
         ],
         "type": "scatter",
         "uid": "4c90b431-9f99-498f-be74-ef04abaef7de",
         "x": [
          -38.3955,
          -47.3072
         ],
         "y": [
          -363.693,
          -495.195
         ]
        },
        {
         "hoverinfo": "name+text",
         "legendgroup": "real",
         "line": {
          "color": "green",
          "width": 1
         },
         "name": "real",
         "opacity": 1,
         "showlegend": false,
         "text": [
          "86402",
          "92130"
         ],
         "type": "scatter",
         "uid": "11069c7b-a804-47b6-b230-d015db5ecb53",
         "x": [
          -47.3072,
          -54.4897
         ],
         "y": [
          -495.195,
          -654.254
         ]
        },
        {
         "hoverinfo": "name+text",
         "legendgroup": "real",
         "line": {
          "color": "green",
          "width": 1
         },
         "name": "real",
         "opacity": 1,
         "showlegend": false,
         "text": [
          "92130",
          "107883"
         ],
         "type": "scatter",
         "uid": "aa44fa98-b9ad-444a-81ad-7f2a2d046bb3",
         "x": [
          -54.4897,
          -57.8177
         ],
         "y": [
          -654.254,
          -817.466
         ]
        },
        {
         "hoverinfo": "name+text",
         "legendgroup": "real",
         "line": {
          "color": "green",
          "width": 1
         },
         "name": "real",
         "opacity": 1,
         "showlegend": false,
         "text": [
          "21265",
          "29504"
         ],
         "type": "scatter",
         "uid": "74c0f348-b6ff-4683-9374-86c7722331ca",
         "x": [
          -31.6364,
          -70.206
         ],
         "y": [
          6.18379,
          14.1226
         ]
        },
        {
         "hoverinfo": "name+text",
         "legendgroup": "real",
         "line": {
          "color": "green",
          "width": 1
         },
         "name": "real",
         "opacity": 1,
         "showlegend": false,
         "text": [
          "29504",
          "42350"
         ],
         "type": "scatter",
         "uid": "45239c74-c9ce-4cd8-b430-c1f4bf456c41",
         "x": [
          -70.206,
          -168.155
         ],
         "y": [
          14.1226,
          36.3725
         ]
        },
        {
         "hoverinfo": "name+text",
         "legendgroup": "real",
         "line": {
          "color": "green",
          "width": 1
         },
         "name": "real",
         "opacity": 1,
         "showlegend": false,
         "text": [
          "42350",
          "73830"
         ],
         "type": "scatter",
         "uid": "204a1da2-4c68-4146-b8cc-a014d0d66e53",
         "x": [
          -168.155,
          -255.151
         ],
         "y": [
          36.3725,
          58.8872
         ]
        },
        {
         "hoverinfo": "name+text",
         "legendgroup": "real",
         "line": {
          "color": "green",
          "width": 1
         },
         "name": "real",
         "opacity": 1,
         "showlegend": false,
         "text": [
          "73830",
          "80933"
         ],
         "type": "scatter",
         "uid": "5554e7f8-e2f3-4b73-9da2-3dbd1425a583",
         "x": [
          -255.151,
          -353.285
         ],
         "y": [
          58.8872,
          87.1991
         ]
        },
        {
         "hoverinfo": "name+text",
         "legendgroup": "real",
         "line": {
          "color": "green",
          "width": 1
         },
         "name": "real",
         "opacity": 1,
         "showlegend": false,
         "text": [
          "80933",
          "87292"
         ],
         "type": "scatter",
         "uid": "372c23d3-d6a8-4e9b-a4f5-2cba191d6092",
         "x": [
          -353.285,
          -482.875
         ],
         "y": [
          87.1991,
          129.892
         ]
        },
        {
         "hoverinfo": "name+text",
         "legendgroup": "real",
         "line": {
          "color": "green",
          "width": 1
         },
         "name": "real",
         "opacity": 1,
         "showlegend": false,
         "text": [
          "87292",
          "93165"
         ],
         "type": "scatter",
         "uid": "6ce5de35-8594-486c-84b1-67f9ea38a3f1",
         "x": [
          -482.875,
          -633.385
         ],
         "y": [
          129.892,
          187.317
         ]
        },
        {
         "hoverinfo": "name+text",
         "legendgroup": "real",
         "line": {
          "color": "green",
          "width": 1
         },
         "name": "real",
         "opacity": 1,
         "showlegend": false,
         "text": [
          "93165",
          "109022"
         ],
         "type": "scatter",
         "uid": "f4633d49-b2ee-4115-94ac-a01d867291dd",
         "x": [
          -633.385,
          -782.4169999999998
         ],
         "y": [
          187.317,
          252.867
         ]
        },
        {
         "hoverinfo": "name+text",
         "legendgroup": "real",
         "line": {
          "color": "green",
          "width": 1
         },
         "name": "real",
         "opacity": 1,
         "showlegend": false,
         "text": [
          "109022",
          "114036"
         ],
         "type": "scatter",
         "uid": "2ce8c525-75cd-4a24-9a33-047df15cecb5",
         "x": [
          -782.4169999999998,
          -962.827
         ],
         "y": [
          252.867,
          344.76199999999994
         ]
        }
       ],
       "layout": {
        "height": 800,
        "hovermode": "closest",
        "showlegend": true,
        "updatemenus": [
         {
          "buttons": [
           {
            "args": [
             "shapes",
             []
            ],
            "label": "hide layers",
            "method": "relayout"
           },
           {
            "args": [
             "shapes",
             [
              {
               "layer": "below",
               "line": {
                "color": "#ccc"
               },
               "opacity": 0.5,
               "type": "circle",
               "x0": -32,
               "x1": 32,
               "y0": -32,
               "y1": 32
              },
              {
               "layer": "below",
               "line": {
                "color": "#ccc"
               },
               "opacity": 0.5,
               "type": "circle",
               "x0": -72,
               "x1": 72,
               "y0": -72,
               "y1": 72
              },
              {
               "layer": "below",
               "line": {
                "color": "#ccc"
               },
               "opacity": 0.5,
               "type": "circle",
               "x0": -116,
               "x1": 116,
               "y0": -116,
               "y1": 116
              },
              {
               "layer": "below",
               "line": {
                "color": "#ccc"
               },
               "opacity": 0.5,
               "type": "circle",
               "x0": -172,
               "x1": 172,
               "y0": -172,
               "y1": 172
              },
              {
               "layer": "below",
               "line": {
                "color": "#cccc8d"
               },
               "opacity": 0.5,
               "type": "circle",
               "x0": -260,
               "x1": 260,
               "y0": -260,
               "y1": 260
              },
              {
               "layer": "below",
               "line": {
                "color": "#cccc8d"
               },
               "opacity": 0.5,
               "type": "circle",
               "x0": -360,
               "x1": 360,
               "y0": -360,
               "y1": 360
              },
              {
               "layer": "below",
               "line": {
                "color": "#cccc8d"
               },
               "opacity": 0.5,
               "type": "circle",
               "x0": -500,
               "x1": 500,
               "y0": -500,
               "y1": 500
              },
              {
               "layer": "below",
               "line": {
                "color": "#cccc8d"
               },
               "opacity": 0.5,
               "type": "circle",
               "x0": -660,
               "x1": 660,
               "y0": -660,
               "y1": 660
              },
              {
               "layer": "below",
               "line": {
                "color": "#ccc"
               },
               "opacity": 0.5,
               "type": "circle",
               "x0": -820,
               "x1": 820,
               "y0": -820,
               "y1": 820
              },
              {
               "layer": "below",
               "line": {
                "color": "#ccc"
               },
               "opacity": 0.5,
               "type": "circle",
               "x0": -1020,
               "x1": 1020,
               "y0": -1020,
               "y1": 1020
              }
             ]
            ],
            "label": "show layers",
            "method": "relayout"
           }
          ],
          "direction": "left",
          "pad": {
           "l": 0.1
          },
          "type": "buttons",
          "xanchor": "left",
          "y": 1.1,
          "yanchor": "top"
         },
         {
          "buttons": [
           {
            "args": [
             {
              "mode": "markers+lines"
             }
            ],
            "label": "hits+tracks",
            "method": "update"
           },
           {
            "args": [
             {
              "mode": "markers"
             }
            ],
            "label": "hits only",
            "method": "update"
           }
          ],
          "direction": "left",
          "pad": {
           "l": 200
          },
          "type": "buttons",
          "xanchor": "left",
          "y": 1.1,
          "yanchor": "top"
         },
         {
          "buttons": [
           {
            "args": [
             "yaxis.scaleanchor",
             null
            ],
            "label": "free",
            "method": "relayout"
           },
           {
            "args": [
             "yaxis.scaleanchor",
             "x"
            ],
            "label": "fixed",
            "method": "relayout"
           }
          ],
          "direction": "left",
          "pad": {
           "l": 380
          },
          "type": "buttons",
          "xanchor": "left",
          "y": 1.1,
          "yanchor": "top"
         }
        ],
        "width": 800,
        "xaxis": {
         "title": "x"
        },
        "yaxis": {
         "title": "y"
        }
       }
      },
      "text/html": [
       "<div id=\"99bd3bc9-11da-41dd-b5ee-09c616100733\" style=\"height: 800px; width: 800px;\" class=\"plotly-graph-div\"></div><script type=\"text/javascript\">require([\"plotly\"], function(Plotly) { window.PLOTLYENV=window.PLOTLYENV || {};window.PLOTLYENV.BASE_URL=\"https://plot.ly\";Plotly.newPlot(\"99bd3bc9-11da-41dd-b5ee-09c616100733\", [{\"hoverinfo\": \"name+text\", \"legendgroup\": \"real_unfocused\", \"line\": {\"color\": \"darkseagreen\", \"width\": 1}, \"name\": \"real_unfocused\", \"opacity\": 1, \"showlegend\": true, \"text\": [\"18246\", \"27129\"], \"x\": [-21.7191, -49.4278], \"y\": [-22.879, -53.6609], \"type\": \"scatter\", \"uid\": \"9a98a74c-efa3-4e42-b240-a9494de20c50\"}, {\"hoverinfo\": \"name+text\", \"legendgroup\": \"real_unfocused\", \"line\": {\"color\": \"darkseagreen\", \"width\": 1}, \"name\": \"real_unfocused\", \"opacity\": 1, \"showlegend\": false, \"text\": [\"27129\", \"34226\"], \"x\": [-49.4278, -76.6251], \"y\": [-53.6609, -85.78], \"type\": \"scatter\", \"uid\": \"13605744-c5b5-4d32-82fa-5f7de5327758\"}, {\"hoverinfo\": \"name+text\", \"legendgroup\": \"real_unfocused\", \"line\": {\"color\": \"darkseagreen\", \"width\": 1}, \"name\": \"real_unfocused\", \"opacity\": 1, \"showlegend\": false, \"text\": [\"34226\", \"40268\"], \"x\": [-76.6251, -111.405], \"y\": [-85.78, -130.203], \"type\": \"scatter\", \"uid\": \"7287706d-fdd2-4b7c-be07-78b343830fe1\"}, {\"hoverinfo\": \"name+text\", \"legendgroup\": \"real_unfocused\", \"line\": {\"color\": \"darkseagreen\", \"width\": 1}, \"name\": \"real_unfocused\", \"opacity\": 1, \"showlegend\": false, \"text\": [\"40268\", \"72036\"], \"x\": [-111.405, -163.782], \"y\": [-130.203, -205.827], \"type\": \"scatter\", \"uid\": \"f02a0562-5520-41d8-9678-e3edd0a461f5\"}, {\"hoverinfo\": \"name+text\", \"legendgroup\": \"real_unfocused\", \"line\": {\"color\": \"darkseagreen\", \"width\": 1}, \"name\": \"real_unfocused\", \"opacity\": 1, \"showlegend\": false, \"text\": [\"72036\", \"78762\"], \"x\": [-163.782, -213.656], \"y\": [-205.827, -290.52], \"type\": \"scatter\", \"uid\": \"a344ff06-44de-4f8f-9f5f-14db565c348f\"}, {\"hoverinfo\": \"name+text\", \"legendgroup\": \"real_unfocused\", \"line\": {\"color\": \"darkseagreen\", \"width\": 1}, \"name\": \"real_unfocused\", \"opacity\": 1, \"showlegend\": false, \"text\": [\"23050\", \"30426\"], \"x\": [-4.64343, -9.44367], \"y\": [31.6821, 70.8192], \"type\": \"scatter\", \"uid\": \"0e4dfa20-c51a-4323-a246-66dc90fa93ea\"}, {\"hoverinfo\": \"name+text\", \"legendgroup\": \"real_unfocused\", \"line\": {\"color\": \"darkseagreen\", \"width\": 1}, \"name\": \"real_unfocused\", \"opacity\": 1, \"showlegend\": false, \"text\": [\"30426\", \"37198\"], \"x\": [-9.44367, -13.5617], \"y\": [70.8192, 114.204], \"type\": \"scatter\", \"uid\": \"be6dab71-ae91-4741-9425-d0eec2de1524\"}, {\"hoverinfo\": \"name+text\", \"legendgroup\": \"real_unfocused\", \"line\": {\"color\": \"darkseagreen\", \"width\": 1}, \"name\": \"real_unfocused\", \"opacity\": 1, \"showlegend\": false, \"text\": [\"37198\", \"44045\"], \"x\": [-13.5617, -16.8728], \"y\": [114.204, 171.016], \"type\": \"scatter\", \"uid\": \"35cc869a-7374-45d0-bac8-9686bd913cd5\"}, {\"hoverinfo\": \"name+text\", \"legendgroup\": \"real_unfocused\", \"line\": {\"color\": \"darkseagreen\", \"width\": 1}, \"name\": \"real_unfocused\", \"opacity\": 1, \"showlegend\": false, \"text\": [\"44045\", \"75480\"], \"x\": [-16.8728, -17.738], \"y\": [171.016, 257.521], \"type\": \"scatter\", \"uid\": \"97db43d3-69f5-4fe7-8006-16f3e39b7255\"}, {\"hoverinfo\": \"name+text\", \"legendgroup\": \"real_unfocused\", \"line\": {\"color\": \"darkseagreen\", \"width\": 1}, \"name\": \"real_unfocused\", \"opacity\": 1, \"showlegend\": false, \"text\": [\"75480\", \"82723\"], \"x\": [-17.738, -11.9561], \"y\": [257.521, 360.148], \"type\": \"scatter\", \"uid\": \"1b120409-2091-48dd-a18f-fe42febb5d03\"}, {\"hoverinfo\": \"name+text\", \"legendgroup\": \"real_unfocused\", \"line\": {\"color\": \"darkseagreen\", \"width\": 1}, \"name\": \"real_unfocused\", \"opacity\": 1, \"showlegend\": false, \"text\": [\"21405\", \"30694\"], \"x\": [-33.5947, -73.825], \"y\": [0.8266889999999999, 0.838565], \"type\": \"scatter\", \"uid\": \"4c9772f3-6758-47c3-b5e3-bac0ab9f71ae\"}, {\"hoverinfo\": \"name+text\", \"legendgroup\": \"real_unfocused\", \"line\": {\"color\": \"darkseagreen\", \"width\": 1}, \"name\": \"real_unfocused\", \"opacity\": 1, \"showlegend\": false, \"text\": [\"30694\", \"38058\"], \"x\": [-73.825, -116.911], \"y\": [0.838565, -0.235947], \"type\": \"scatter\", \"uid\": \"c31018db-a296-41e6-9cd0-bbae22e9180c\"}, {\"hoverinfo\": \"name+text\", \"legendgroup\": \"real_unfocused\", \"line\": {\"color\": \"darkseagreen\", \"width\": 1}, \"name\": \"real_unfocused\", \"opacity\": 1, \"showlegend\": false, \"text\": [\"38058\", \"44664\"], \"x\": [-116.911, -172.74200000000005], \"y\": [-0.235947, -3.4674400000000003], \"type\": \"scatter\", \"uid\": \"4b459aa2-d4f2-405b-8e51-c032d414cb7b\"}, {\"hoverinfo\": \"name+text\", \"legendgroup\": \"real_unfocused\", \"line\": {\"color\": \"darkseagreen\", \"width\": 1}, \"name\": \"real_unfocused\", \"opacity\": 1, \"showlegend\": false, \"text\": [\"44664\", \"76101\"], \"x\": [-172.74200000000005, -257.127], \"y\": [-3.4674400000000003, -12.2321], \"type\": \"scatter\", \"uid\": \"339d120b-daa3-4b93-8a83-2b31ae2d1afd\"}, {\"hoverinfo\": \"name+text\", \"legendgroup\": \"real_unfocused\", \"line\": {\"color\": \"darkseagreen\", \"width\": 1}, \"name\": \"real_unfocused\", \"opacity\": 1, \"showlegend\": false, \"text\": [\"76101\", \"83615\"], \"x\": [-257.127, -358.775], \"y\": [-12.2321, -29.005], \"type\": \"scatter\", \"uid\": \"b69b18b8-0291-4a38-8c66-c49fd6d45bd5\"}, {\"hoverinfo\": \"name+text\", \"legendgroup\": \"real_unfocused\", \"line\": {\"color\": \"darkseagreen\", \"width\": 1}, \"name\": \"real_unfocused\", \"opacity\": 1, \"showlegend\": false, \"text\": [\"83615\", \"90565\"], \"x\": [-358.775, -494.937], \"y\": [-29.005, -62.5497], \"type\": \"scatter\", \"uid\": \"22f861d9-efef-4323-95fc-da56de459efd\"}, {\"hoverinfo\": \"name+text\", \"legendgroup\": \"real_unfocused\", \"line\": {\"color\": \"darkseagreen\", \"width\": 1}, \"name\": \"real_unfocused\", \"opacity\": 1, \"showlegend\": false, \"text\": [\"90565\", \"96738\"], \"x\": [-494.937, -650.641], \"y\": [-62.5497, -117.418], \"type\": \"scatter\", \"uid\": \"b1c05b56-ab6e-4cc0-936e-2a43a54b76ce\"}, {\"hoverinfo\": \"name+text\", \"legendgroup\": \"real_unfocused\", \"line\": {\"color\": \"darkseagreen\", \"width\": 1}, \"name\": \"real_unfocused\", \"opacity\": 1, \"showlegend\": false, \"text\": [\"75184\", \"82090\"], \"x\": [-1.10379, -15.6281], \"y\": [-262.164, -358.871], \"type\": \"scatter\", \"uid\": \"306157fd-6770-4828-b9fe-fbc7de5bc5e4\"}, {\"hoverinfo\": \"name+text\", \"legendgroup\": \"real_unfocused\", \"line\": {\"color\": \"darkseagreen\", \"width\": 1}, \"name\": \"real_unfocused\", \"opacity\": 1, \"showlegend\": false, \"text\": [\"82090\", \"88632\"], \"x\": [-15.6281, -48.3976], \"y\": [-358.871, -494.939], \"type\": \"scatter\", \"uid\": \"30be4bd2-4cb6-40c1-8b9a-1645603dd863\"}, {\"hoverinfo\": \"name+text\", \"legendgroup\": \"real_unfocused\", \"line\": {\"color\": \"darkseagreen\", \"width\": 1}, \"name\": \"real_unfocused\", \"opacity\": 1, \"showlegend\": false, \"text\": [\"88632\", \"94896\"], \"x\": [-48.3976, -107.941], \"y\": [-494.939, -654.971], \"type\": \"scatter\", \"uid\": \"9dc1cbbe-07cc-4f3a-87b9-1f0af42060be\"}, {\"hoverinfo\": \"name+text\", \"legendgroup\": \"real_unfocused\", \"line\": {\"color\": \"darkseagreen\", \"width\": 1}, \"name\": \"real_unfocused\", \"opacity\": 1, \"showlegend\": false, \"text\": [\"94896\", \"110783\"], \"x\": [-107.941, -184.63], \"y\": [-654.971, -801.703], \"type\": \"scatter\", \"uid\": \"4b1a4bdb-d84c-4338-8f7f-2c66f5399c25\"}, {\"hoverinfo\": \"name+text\", \"legendgroup\": \"real_unfocused\", \"line\": {\"color\": \"darkseagreen\", \"width\": 1}, \"name\": \"real_unfocused\", \"opacity\": 1, \"showlegend\": false, \"text\": [\"110783\", \"116120\"], \"x\": [-184.63, -306.828], \"y\": [-801.703, -971.876], \"type\": \"scatter\", \"uid\": \"84246386-b321-4b61-b0ae-8af614bd36e1\"}, {\"hoverinfo\": \"name+text\", \"legendgroup\": \"real\", \"line\": {\"color\": \"green\", \"width\": 1}, \"name\": \"real\", \"opacity\": 1, \"showlegend\": true, \"text\": [\"20764\", \"27487\"], \"x\": [5.5706, 10.5024], \"y\": [31.671, 72.0453], \"type\": \"scatter\", \"uid\": \"6688c8fe-9c65-494d-992f-358c0b46f17c\"}, {\"hoverinfo\": \"name+text\", \"legendgroup\": \"real\", \"line\": {\"color\": \"green\", \"width\": 1}, \"name\": \"real\", \"opacity\": 1, \"showlegend\": false, \"text\": [\"27487\", \"34491\"], \"x\": [10.5024, 14.7116], \"y\": [72.0453, 114.108], \"type\": \"scatter\", \"uid\": \"0cce0671-667a-42b0-9b65-6b64e9a376f3\"}, {\"hoverinfo\": \"name+text\", \"legendgroup\": \"real\", \"line\": {\"color\": \"green\", \"width\": 1}, \"name\": \"real\", \"opacity\": 1, \"showlegend\": false, \"text\": [\"34491\", \"40865\"], \"x\": [14.7116, 18.992], \"y\": [114.108, 171.997], \"type\": \"scatter\", \"uid\": \"daf2180b-4957-4c7b-9cf1-dad7ede7a400\"}, {\"hoverinfo\": \"name+text\", \"legendgroup\": \"real\", \"line\": {\"color\": \"green\", \"width\": 1}, \"name\": \"real\", \"opacity\": 1, \"showlegend\": false, \"text\": [\"40865\", \"72549\"], \"x\": [18.992, 22.298], \"y\": [171.997, 257.23400000000004], \"type\": \"scatter\", \"uid\": \"366518bb-341f-4836-8d36-a195f3555189\"}, {\"hoverinfo\": \"name+text\", \"legendgroup\": \"real\", \"line\": {\"color\": \"green\", \"width\": 1}, \"name\": \"real\", \"opacity\": 1, \"showlegend\": false, \"text\": [\"72549\", \"79138\"], \"x\": [22.298, 21.6577], \"y\": [257.23400000000004, 357.611], \"type\": \"scatter\", \"uid\": \"cedbac62-03ac-48fc-9a81-7fa89331feaf\"}, {\"hoverinfo\": \"name+text\", \"legendgroup\": \"real\", \"line\": {\"color\": \"green\", \"width\": 1}, \"name\": \"real\", \"opacity\": 1, \"showlegend\": false, \"text\": [\"79138\", \"85537\"], \"x\": [21.6577, 12.251], \"y\": [357.611, 496.648], \"type\": \"scatter\", \"uid\": \"2d7b8e4e-59ba-421e-bf88-d9837c31324a\"}, {\"hoverinfo\": \"name+text\", \"legendgroup\": \"real\", \"line\": {\"color\": \"green\", \"width\": 1}, \"name\": \"real\", \"opacity\": 1, \"showlegend\": false, \"text\": [\"23536\", \"31418\"], \"x\": [-30.9263, -68.8454], \"y\": [9.9814, 22.8573], \"type\": \"scatter\", \"uid\": \"912d71b0-4a41-4239-8e90-a0b44aa05fdc\"}, {\"hoverinfo\": \"name+text\", \"legendgroup\": \"real\", \"line\": {\"color\": \"green\", \"width\": 1}, \"name\": \"real\", \"opacity\": 1, \"showlegend\": false, \"text\": [\"31418\", \"38524\"], \"x\": [-68.8454, -109.987], \"y\": [22.8573, 37.6253], \"type\": \"scatter\", \"uid\": \"d5d00abb-8c65-46da-b04c-a9bf3ddc9456\"}, {\"hoverinfo\": \"name+text\", \"legendgroup\": \"real\", \"line\": {\"color\": \"green\", \"width\": 1}, \"name\": \"real\", \"opacity\": 1, \"showlegend\": false, \"text\": [\"38524\", \"45067\"], \"x\": [-109.987, -161.876], \"y\": [37.6253, 57.4577], \"type\": \"scatter\", \"uid\": \"4a0123fa-005f-425c-b521-2f10fa02262f\"}, {\"hoverinfo\": \"name+text\", \"legendgroup\": \"real\", \"line\": {\"color\": \"green\", \"width\": 1}, \"name\": \"real\", \"opacity\": 1, \"showlegend\": false, \"text\": [\"45067\", \"76902\"], \"x\": [-161.876, -246.02], \"y\": [57.4577, 92.7332], \"type\": \"scatter\", \"uid\": \"3013c1a9-373f-4c1d-8d33-85451c132785\"}, {\"hoverinfo\": \"name+text\", \"legendgroup\": \"real\", \"line\": {\"color\": \"green\", \"width\": 1}, \"name\": \"real\", \"opacity\": 1, \"showlegend\": false, \"text\": [\"76902\", \"83944\"], \"x\": [-246.02, -333.426], \"y\": [92.7332, 133.519], \"type\": \"scatter\", \"uid\": \"8e305621-5262-466f-8a1d-c83ba9de6657\"}, {\"hoverinfo\": \"name+text\", \"legendgroup\": \"real\", \"line\": {\"color\": \"green\", \"width\": 1}, \"name\": \"real\", \"opacity\": 1, \"showlegend\": false, \"text\": [\"83944\", \"90803\"], \"x\": [-333.426, -459.273], \"y\": [133.519, 200.49400000000003], \"type\": \"scatter\", \"uid\": \"4c653e1b-c814-41ea-bedb-3ed2aeba2332\"}, {\"hoverinfo\": \"name+text\", \"legendgroup\": \"real\", \"line\": {\"color\": \"green\", \"width\": 1}, \"name\": \"real\", \"opacity\": 1, \"showlegend\": false, \"text\": [\"90803\", \"96934\"], \"x\": [-459.273, -595.614], \"y\": [200.49400000000003, 284.758], \"type\": \"scatter\", \"uid\": \"c175b2b9-c5e8-46cc-a07f-72f6908303df\"}, {\"hoverinfo\": \"name+text\", \"legendgroup\": \"real\", \"line\": {\"color\": \"green\", \"width\": 1}, \"name\": \"real\", \"opacity\": 1, \"showlegend\": false, \"text\": [\"20262\", \"28058\"], \"x\": [32.2451, 70.7765], \"y\": [4.53326, 9.61941], \"type\": \"scatter\", \"uid\": \"29af2288-9ceb-4d17-87ba-af7b5015d65a\"}, {\"hoverinfo\": \"name+text\", \"legendgroup\": \"real\", \"line\": {\"color\": \"green\", \"width\": 1}, \"name\": \"real\", \"opacity\": 1, \"showlegend\": false, \"text\": [\"28058\", \"34877\"], \"x\": [70.7765, 114.433], \"y\": [9.61941, 14.9217], \"type\": \"scatter\", \"uid\": \"1cae80b2-864b-43fc-82bc-a3fcd54a8d03\"}, {\"hoverinfo\": \"name+text\", \"legendgroup\": \"real\", \"line\": {\"color\": \"green\", \"width\": 1}, \"name\": \"real\", \"opacity\": 1, \"showlegend\": false, \"text\": [\"34877\", \"41146\"], \"x\": [114.433, 170.40099999999995], \"y\": [14.9217, 21.0637], \"type\": \"scatter\", \"uid\": \"8a10bac6-5559-42f7-8fdb-e6ef13aed1bd\"}, {\"hoverinfo\": \"name+text\", \"legendgroup\": \"real\", \"line\": {\"color\": \"green\", \"width\": 1}, \"name\": \"real\", \"opacity\": 1, \"showlegend\": false, \"text\": [\"41146\", \"73201\"], \"x\": [170.40099999999995, 258.338], \"y\": [21.0637, 29.1488], \"type\": \"scatter\", \"uid\": \"fc1f904d-c8cf-4ee4-bb48-6a952ea3f002\"}, {\"hoverinfo\": \"name+text\", \"legendgroup\": \"real\", \"line\": {\"color\": \"green\", \"width\": 1}, \"name\": \"real\", \"opacity\": 1, \"showlegend\": false, \"text\": [\"73201\", \"79641\"], \"x\": [258.338, 359.452], \"y\": [29.1488, 36.1999], \"type\": \"scatter\", \"uid\": \"49ff0fbe-1f6b-45fe-94c7-3a36af85ad9a\"}, {\"hoverinfo\": \"name+text\", \"legendgroup\": \"real\", \"line\": {\"color\": \"green\", \"width\": 1}, \"name\": \"real\", \"opacity\": 1, \"showlegend\": false, \"text\": [\"79641\", \"86195\"], \"x\": [359.452, 503.503], \"y\": [36.1999, 42.0709], \"type\": \"scatter\", \"uid\": \"863cb79c-8c36-43a6-95f5-610ae6d54eef\"}, {\"hoverinfo\": \"name+text\", \"legendgroup\": \"real\", \"line\": {\"color\": \"green\", \"width\": 1}, \"name\": \"real\", \"opacity\": 1, \"showlegend\": false, \"text\": [\"86195\", \"91955\"], \"x\": [503.503, 663.908], \"y\": [42.0709, 43.0984], \"type\": \"scatter\", \"uid\": \"06affcc5-45ef-4bb4-8bdb-3bb2db84d0d8\"}, {\"hoverinfo\": \"name+text\", \"legendgroup\": \"real\", \"line\": {\"color\": \"green\", \"width\": 1}, \"name\": \"real\", \"opacity\": 1, \"showlegend\": false, \"text\": [\"91955\", \"107743\"], \"x\": [663.908, 823.312], \"y\": [43.0984, 38.3265], \"type\": \"scatter\", \"uid\": \"abc25f9a-a240-4ae4-a2d5-0c15b20c19b4\"}, {\"hoverinfo\": \"name+text\", \"legendgroup\": \"real\", \"line\": {\"color\": \"green\", \"width\": 1}, \"name\": \"real\", \"opacity\": 1, \"showlegend\": false, \"text\": [\"19698\", \"27827\"], \"x\": [-4.16977, -9.16296], \"y\": [-31.75, -71.4937], \"type\": \"scatter\", \"uid\": \"18cd852a-25e3-4eaf-b66a-3862f32131da\"}, {\"hoverinfo\": \"name+text\", \"legendgroup\": \"real\", \"line\": {\"color\": \"green\", \"width\": 1}, \"name\": \"real\", \"opacity\": 1, \"showlegend\": false, \"text\": [\"27827\", \"35259\"], \"x\": [-9.16296, -14.2464], \"y\": [-71.4937, -114.127], \"type\": \"scatter\", \"uid\": \"b40ac13a-d178-4cd6-a851-9a5b6f3561a6\"}, {\"hoverinfo\": \"name+text\", \"legendgroup\": \"real\", \"line\": {\"color\": \"green\", \"width\": 1}, \"name\": \"real\", \"opacity\": 1, \"showlegend\": false, \"text\": [\"35259\", \"41464\"], \"x\": [-14.2464, -20.5217], \"y\": [-114.127, -170.169], \"type\": \"scatter\", \"uid\": \"c0e5636f-d613-4299-a428-3080c5a00027\"}, {\"hoverinfo\": \"name+text\", \"legendgroup\": \"real\", \"line\": {\"color\": \"green\", \"width\": 1}, \"name\": \"real\", \"opacity\": 1, \"showlegend\": false, \"text\": [\"41464\", \"73085\"], \"x\": [-20.5217, -29.116], \"y\": [-170.169, -255.648], \"type\": \"scatter\", \"uid\": \"2754b2ba-7afb-466b-bdeb-134c47d2a17b\"}, {\"hoverinfo\": \"name+text\", \"legendgroup\": \"real\", \"line\": {\"color\": \"green\", \"width\": 1}, \"name\": \"real\", \"opacity\": 1, \"showlegend\": false, \"text\": [\"73085\", \"79880\"], \"x\": [-29.116, -38.3955], \"y\": [-255.648, -363.693], \"type\": \"scatter\", \"uid\": \"073c57f4-8279-45c0-b8cc-454ef25cbb40\"}, {\"hoverinfo\": \"name+text\", \"legendgroup\": \"real\", \"line\": {\"color\": \"green\", \"width\": 1}, \"name\": \"real\", \"opacity\": 1, \"showlegend\": false, \"text\": [\"79880\", \"86402\"], \"x\": [-38.3955, -47.3072], \"y\": [-363.693, -495.195], \"type\": \"scatter\", \"uid\": \"4c90b431-9f99-498f-be74-ef04abaef7de\"}, {\"hoverinfo\": \"name+text\", \"legendgroup\": \"real\", \"line\": {\"color\": \"green\", \"width\": 1}, \"name\": \"real\", \"opacity\": 1, \"showlegend\": false, \"text\": [\"86402\", \"92130\"], \"x\": [-47.3072, -54.4897], \"y\": [-495.195, -654.254], \"type\": \"scatter\", \"uid\": \"11069c7b-a804-47b6-b230-d015db5ecb53\"}, {\"hoverinfo\": \"name+text\", \"legendgroup\": \"real\", \"line\": {\"color\": \"green\", \"width\": 1}, \"name\": \"real\", \"opacity\": 1, \"showlegend\": false, \"text\": [\"92130\", \"107883\"], \"x\": [-54.4897, -57.8177], \"y\": [-654.254, -817.466], \"type\": \"scatter\", \"uid\": \"aa44fa98-b9ad-444a-81ad-7f2a2d046bb3\"}, {\"hoverinfo\": \"name+text\", \"legendgroup\": \"real\", \"line\": {\"color\": \"green\", \"width\": 1}, \"name\": \"real\", \"opacity\": 1, \"showlegend\": false, \"text\": [\"21265\", \"29504\"], \"x\": [-31.6364, -70.206], \"y\": [6.18379, 14.1226], \"type\": \"scatter\", \"uid\": \"74c0f348-b6ff-4683-9374-86c7722331ca\"}, {\"hoverinfo\": \"name+text\", \"legendgroup\": \"real\", \"line\": {\"color\": \"green\", \"width\": 1}, \"name\": \"real\", \"opacity\": 1, \"showlegend\": false, \"text\": [\"29504\", \"42350\"], \"x\": [-70.206, -168.155], \"y\": [14.1226, 36.3725], \"type\": \"scatter\", \"uid\": \"45239c74-c9ce-4cd8-b430-c1f4bf456c41\"}, {\"hoverinfo\": \"name+text\", \"legendgroup\": \"real\", \"line\": {\"color\": \"green\", \"width\": 1}, \"name\": \"real\", \"opacity\": 1, \"showlegend\": false, \"text\": [\"42350\", \"73830\"], \"x\": [-168.155, -255.151], \"y\": [36.3725, 58.8872], \"type\": \"scatter\", \"uid\": \"204a1da2-4c68-4146-b8cc-a014d0d66e53\"}, {\"hoverinfo\": \"name+text\", \"legendgroup\": \"real\", \"line\": {\"color\": \"green\", \"width\": 1}, \"name\": \"real\", \"opacity\": 1, \"showlegend\": false, \"text\": [\"73830\", \"80933\"], \"x\": [-255.151, -353.285], \"y\": [58.8872, 87.1991], \"type\": \"scatter\", \"uid\": \"5554e7f8-e2f3-4b73-9da2-3dbd1425a583\"}, {\"hoverinfo\": \"name+text\", \"legendgroup\": \"real\", \"line\": {\"color\": \"green\", \"width\": 1}, \"name\": \"real\", \"opacity\": 1, \"showlegend\": false, \"text\": [\"80933\", \"87292\"], \"x\": [-353.285, -482.875], \"y\": [87.1991, 129.892], \"type\": \"scatter\", \"uid\": \"372c23d3-d6a8-4e9b-a4f5-2cba191d6092\"}, {\"hoverinfo\": \"name+text\", \"legendgroup\": \"real\", \"line\": {\"color\": \"green\", \"width\": 1}, \"name\": \"real\", \"opacity\": 1, \"showlegend\": false, \"text\": [\"87292\", \"93165\"], \"x\": [-482.875, -633.385], \"y\": [129.892, 187.317], \"type\": \"scatter\", \"uid\": \"6ce5de35-8594-486c-84b1-67f9ea38a3f1\"}, {\"hoverinfo\": \"name+text\", \"legendgroup\": \"real\", \"line\": {\"color\": \"green\", \"width\": 1}, \"name\": \"real\", \"opacity\": 1, \"showlegend\": false, \"text\": [\"93165\", \"109022\"], \"x\": [-633.385, -782.4169999999998], \"y\": [187.317, 252.867], \"type\": \"scatter\", \"uid\": \"f4633d49-b2ee-4115-94ac-a01d867291dd\"}, {\"hoverinfo\": \"name+text\", \"legendgroup\": \"real\", \"line\": {\"color\": \"green\", \"width\": 1}, \"name\": \"real\", \"opacity\": 1, \"showlegend\": false, \"text\": [\"109022\", \"114036\"], \"x\": [-782.4169999999998, -962.827], \"y\": [252.867, 344.76199999999994], \"type\": \"scatter\", \"uid\": \"2ce8c525-75cd-4a24-9a33-047df15cecb5\"}], {\"height\": 800, \"hovermode\": \"closest\", \"showlegend\": true, \"updatemenus\": [{\"buttons\": [{\"args\": [\"shapes\", []], \"label\": \"hide layers\", \"method\": \"relayout\"}, {\"args\": [\"shapes\", [{\"type\": \"circle\", \"x0\": -32, \"x1\": 32, \"y0\": -32, \"y1\": 32, \"opacity\": 0.5, \"layer\": \"below\", \"line\": {\"color\": \"#ccc\"}}, {\"type\": \"circle\", \"x0\": -72, \"x1\": 72, \"y0\": -72, \"y1\": 72, \"opacity\": 0.5, \"layer\": \"below\", \"line\": {\"color\": \"#ccc\"}}, {\"type\": \"circle\", \"x0\": -116, \"x1\": 116, \"y0\": -116, \"y1\": 116, \"opacity\": 0.5, \"layer\": \"below\", \"line\": {\"color\": \"#ccc\"}}, {\"type\": \"circle\", \"x0\": -172, \"x1\": 172, \"y0\": -172, \"y1\": 172, \"opacity\": 0.5, \"layer\": \"below\", \"line\": {\"color\": \"#ccc\"}}, {\"type\": \"circle\", \"x0\": -260, \"x1\": 260, \"y0\": -260, \"y1\": 260, \"opacity\": 0.5, \"layer\": \"below\", \"line\": {\"color\": \"#cccc8d\"}}, {\"type\": \"circle\", \"x0\": -360, \"x1\": 360, \"y0\": -360, \"y1\": 360, \"opacity\": 0.5, \"layer\": \"below\", \"line\": {\"color\": \"#cccc8d\"}}, {\"type\": \"circle\", \"x0\": -500, \"x1\": 500, \"y0\": -500, \"y1\": 500, \"opacity\": 0.5, \"layer\": \"below\", \"line\": {\"color\": \"#cccc8d\"}}, {\"type\": \"circle\", \"x0\": -660, \"x1\": 660, \"y0\": -660, \"y1\": 660, \"opacity\": 0.5, \"layer\": \"below\", \"line\": {\"color\": \"#cccc8d\"}}, {\"type\": \"circle\", \"x0\": -820, \"x1\": 820, \"y0\": -820, \"y1\": 820, \"opacity\": 0.5, \"layer\": \"below\", \"line\": {\"color\": \"#ccc\"}}, {\"type\": \"circle\", \"x0\": -1020, \"x1\": 1020, \"y0\": -1020, \"y1\": 1020, \"opacity\": 0.5, \"layer\": \"below\", \"line\": {\"color\": \"#ccc\"}}]], \"label\": \"show layers\", \"method\": \"relayout\"}], \"direction\": \"left\", \"pad\": {\"l\": 0.1}, \"type\": \"buttons\", \"xanchor\": \"left\", \"y\": 1.1, \"yanchor\": \"top\"}, {\"buttons\": [{\"args\": [{\"mode\": \"markers+lines\"}], \"label\": \"hits+tracks\", \"method\": \"update\"}, {\"args\": [{\"mode\": \"markers\"}], \"label\": \"hits only\", \"method\": \"update\"}], \"direction\": \"left\", \"pad\": {\"l\": 200}, \"type\": \"buttons\", \"xanchor\": \"left\", \"y\": 1.1, \"yanchor\": \"top\"}, {\"buttons\": [{\"args\": [\"yaxis.scaleanchor\", null], \"label\": \"free\", \"method\": \"relayout\"}, {\"args\": [\"yaxis.scaleanchor\", \"x\"], \"label\": \"fixed\", \"method\": \"relayout\"}], \"direction\": \"left\", \"pad\": {\"l\": 380}, \"type\": \"buttons\", \"xanchor\": \"left\", \"y\": 1.1, \"yanchor\": \"top\"}], \"width\": 800, \"xaxis\": {\"title\": \"x\"}, \"yaxis\": {\"title\": \"y\"}}, {\"showLink\": true, \"linkText\": \"Export to plot.ly\", \"plotlyServerURL\": \"https://plot.ly\"})});</script>"
      ],
      "text/vnd.plotly.v1+html": [
       "<div id=\"99bd3bc9-11da-41dd-b5ee-09c616100733\" style=\"height: 800px; width: 800px;\" class=\"plotly-graph-div\"></div><script type=\"text/javascript\">require([\"plotly\"], function(Plotly) { window.PLOTLYENV=window.PLOTLYENV || {};window.PLOTLYENV.BASE_URL=\"https://plot.ly\";Plotly.newPlot(\"99bd3bc9-11da-41dd-b5ee-09c616100733\", [{\"hoverinfo\": \"name+text\", \"legendgroup\": \"real_unfocused\", \"line\": {\"color\": \"darkseagreen\", \"width\": 1}, \"name\": \"real_unfocused\", \"opacity\": 1, \"showlegend\": true, \"text\": [\"18246\", \"27129\"], \"x\": [-21.7191, -49.4278], \"y\": [-22.879, -53.6609], \"type\": \"scatter\", \"uid\": \"9a98a74c-efa3-4e42-b240-a9494de20c50\"}, {\"hoverinfo\": \"name+text\", \"legendgroup\": \"real_unfocused\", \"line\": {\"color\": \"darkseagreen\", \"width\": 1}, \"name\": \"real_unfocused\", \"opacity\": 1, \"showlegend\": false, \"text\": [\"27129\", \"34226\"], \"x\": [-49.4278, -76.6251], \"y\": [-53.6609, -85.78], \"type\": \"scatter\", \"uid\": \"13605744-c5b5-4d32-82fa-5f7de5327758\"}, {\"hoverinfo\": \"name+text\", \"legendgroup\": \"real_unfocused\", \"line\": {\"color\": \"darkseagreen\", \"width\": 1}, \"name\": \"real_unfocused\", \"opacity\": 1, \"showlegend\": false, \"text\": [\"34226\", \"40268\"], \"x\": [-76.6251, -111.405], \"y\": [-85.78, -130.203], \"type\": \"scatter\", \"uid\": \"7287706d-fdd2-4b7c-be07-78b343830fe1\"}, {\"hoverinfo\": \"name+text\", \"legendgroup\": \"real_unfocused\", \"line\": {\"color\": \"darkseagreen\", \"width\": 1}, \"name\": \"real_unfocused\", \"opacity\": 1, \"showlegend\": false, \"text\": [\"40268\", \"72036\"], \"x\": [-111.405, -163.782], \"y\": [-130.203, -205.827], \"type\": \"scatter\", \"uid\": \"f02a0562-5520-41d8-9678-e3edd0a461f5\"}, {\"hoverinfo\": \"name+text\", \"legendgroup\": \"real_unfocused\", \"line\": {\"color\": \"darkseagreen\", \"width\": 1}, \"name\": \"real_unfocused\", \"opacity\": 1, \"showlegend\": false, \"text\": [\"72036\", \"78762\"], \"x\": [-163.782, -213.656], \"y\": [-205.827, -290.52], \"type\": \"scatter\", \"uid\": \"a344ff06-44de-4f8f-9f5f-14db565c348f\"}, {\"hoverinfo\": \"name+text\", \"legendgroup\": \"real_unfocused\", \"line\": {\"color\": \"darkseagreen\", \"width\": 1}, \"name\": \"real_unfocused\", \"opacity\": 1, \"showlegend\": false, \"text\": [\"23050\", \"30426\"], \"x\": [-4.64343, -9.44367], \"y\": [31.6821, 70.8192], \"type\": \"scatter\", \"uid\": \"0e4dfa20-c51a-4323-a246-66dc90fa93ea\"}, {\"hoverinfo\": \"name+text\", \"legendgroup\": \"real_unfocused\", \"line\": {\"color\": \"darkseagreen\", \"width\": 1}, \"name\": \"real_unfocused\", \"opacity\": 1, \"showlegend\": false, \"text\": [\"30426\", \"37198\"], \"x\": [-9.44367, -13.5617], \"y\": [70.8192, 114.204], \"type\": \"scatter\", \"uid\": \"be6dab71-ae91-4741-9425-d0eec2de1524\"}, {\"hoverinfo\": \"name+text\", \"legendgroup\": \"real_unfocused\", \"line\": {\"color\": \"darkseagreen\", \"width\": 1}, \"name\": \"real_unfocused\", \"opacity\": 1, \"showlegend\": false, \"text\": [\"37198\", \"44045\"], \"x\": [-13.5617, -16.8728], \"y\": [114.204, 171.016], \"type\": \"scatter\", \"uid\": \"35cc869a-7374-45d0-bac8-9686bd913cd5\"}, {\"hoverinfo\": \"name+text\", \"legendgroup\": \"real_unfocused\", \"line\": {\"color\": \"darkseagreen\", \"width\": 1}, \"name\": \"real_unfocused\", \"opacity\": 1, \"showlegend\": false, \"text\": [\"44045\", \"75480\"], \"x\": [-16.8728, -17.738], \"y\": [171.016, 257.521], \"type\": \"scatter\", \"uid\": \"97db43d3-69f5-4fe7-8006-16f3e39b7255\"}, {\"hoverinfo\": \"name+text\", \"legendgroup\": \"real_unfocused\", \"line\": {\"color\": \"darkseagreen\", \"width\": 1}, \"name\": \"real_unfocused\", \"opacity\": 1, \"showlegend\": false, \"text\": [\"75480\", \"82723\"], \"x\": [-17.738, -11.9561], \"y\": [257.521, 360.148], \"type\": \"scatter\", \"uid\": \"1b120409-2091-48dd-a18f-fe42febb5d03\"}, {\"hoverinfo\": \"name+text\", \"legendgroup\": \"real_unfocused\", \"line\": {\"color\": \"darkseagreen\", \"width\": 1}, \"name\": \"real_unfocused\", \"opacity\": 1, \"showlegend\": false, \"text\": [\"21405\", \"30694\"], \"x\": [-33.5947, -73.825], \"y\": [0.8266889999999999, 0.838565], \"type\": \"scatter\", \"uid\": \"4c9772f3-6758-47c3-b5e3-bac0ab9f71ae\"}, {\"hoverinfo\": \"name+text\", \"legendgroup\": \"real_unfocused\", \"line\": {\"color\": \"darkseagreen\", \"width\": 1}, \"name\": \"real_unfocused\", \"opacity\": 1, \"showlegend\": false, \"text\": [\"30694\", \"38058\"], \"x\": [-73.825, -116.911], \"y\": [0.838565, -0.235947], \"type\": \"scatter\", \"uid\": \"c31018db-a296-41e6-9cd0-bbae22e9180c\"}, {\"hoverinfo\": \"name+text\", \"legendgroup\": \"real_unfocused\", \"line\": {\"color\": \"darkseagreen\", \"width\": 1}, \"name\": \"real_unfocused\", \"opacity\": 1, \"showlegend\": false, \"text\": [\"38058\", \"44664\"], \"x\": [-116.911, -172.74200000000005], \"y\": [-0.235947, -3.4674400000000003], \"type\": \"scatter\", \"uid\": \"4b459aa2-d4f2-405b-8e51-c032d414cb7b\"}, {\"hoverinfo\": \"name+text\", \"legendgroup\": \"real_unfocused\", \"line\": {\"color\": \"darkseagreen\", \"width\": 1}, \"name\": \"real_unfocused\", \"opacity\": 1, \"showlegend\": false, \"text\": [\"44664\", \"76101\"], \"x\": [-172.74200000000005, -257.127], \"y\": [-3.4674400000000003, -12.2321], \"type\": \"scatter\", \"uid\": \"339d120b-daa3-4b93-8a83-2b31ae2d1afd\"}, {\"hoverinfo\": \"name+text\", \"legendgroup\": \"real_unfocused\", \"line\": {\"color\": \"darkseagreen\", \"width\": 1}, \"name\": \"real_unfocused\", \"opacity\": 1, \"showlegend\": false, \"text\": [\"76101\", \"83615\"], \"x\": [-257.127, -358.775], \"y\": [-12.2321, -29.005], \"type\": \"scatter\", \"uid\": \"b69b18b8-0291-4a38-8c66-c49fd6d45bd5\"}, {\"hoverinfo\": \"name+text\", \"legendgroup\": \"real_unfocused\", \"line\": {\"color\": \"darkseagreen\", \"width\": 1}, \"name\": \"real_unfocused\", \"opacity\": 1, \"showlegend\": false, \"text\": [\"83615\", \"90565\"], \"x\": [-358.775, -494.937], \"y\": [-29.005, -62.5497], \"type\": \"scatter\", \"uid\": \"22f861d9-efef-4323-95fc-da56de459efd\"}, {\"hoverinfo\": \"name+text\", \"legendgroup\": \"real_unfocused\", \"line\": {\"color\": \"darkseagreen\", \"width\": 1}, \"name\": \"real_unfocused\", \"opacity\": 1, \"showlegend\": false, \"text\": [\"90565\", \"96738\"], \"x\": [-494.937, -650.641], \"y\": [-62.5497, -117.418], \"type\": \"scatter\", \"uid\": \"b1c05b56-ab6e-4cc0-936e-2a43a54b76ce\"}, {\"hoverinfo\": \"name+text\", \"legendgroup\": \"real_unfocused\", \"line\": {\"color\": \"darkseagreen\", \"width\": 1}, \"name\": \"real_unfocused\", \"opacity\": 1, \"showlegend\": false, \"text\": [\"75184\", \"82090\"], \"x\": [-1.10379, -15.6281], \"y\": [-262.164, -358.871], \"type\": \"scatter\", \"uid\": \"306157fd-6770-4828-b9fe-fbc7de5bc5e4\"}, {\"hoverinfo\": \"name+text\", \"legendgroup\": \"real_unfocused\", \"line\": {\"color\": \"darkseagreen\", \"width\": 1}, \"name\": \"real_unfocused\", \"opacity\": 1, \"showlegend\": false, \"text\": [\"82090\", \"88632\"], \"x\": [-15.6281, -48.3976], \"y\": [-358.871, -494.939], \"type\": \"scatter\", \"uid\": \"30be4bd2-4cb6-40c1-8b9a-1645603dd863\"}, {\"hoverinfo\": \"name+text\", \"legendgroup\": \"real_unfocused\", \"line\": {\"color\": \"darkseagreen\", \"width\": 1}, \"name\": \"real_unfocused\", \"opacity\": 1, \"showlegend\": false, \"text\": [\"88632\", \"94896\"], \"x\": [-48.3976, -107.941], \"y\": [-494.939, -654.971], \"type\": \"scatter\", \"uid\": \"9dc1cbbe-07cc-4f3a-87b9-1f0af42060be\"}, {\"hoverinfo\": \"name+text\", \"legendgroup\": \"real_unfocused\", \"line\": {\"color\": \"darkseagreen\", \"width\": 1}, \"name\": \"real_unfocused\", \"opacity\": 1, \"showlegend\": false, \"text\": [\"94896\", \"110783\"], \"x\": [-107.941, -184.63], \"y\": [-654.971, -801.703], \"type\": \"scatter\", \"uid\": \"4b1a4bdb-d84c-4338-8f7f-2c66f5399c25\"}, {\"hoverinfo\": \"name+text\", \"legendgroup\": \"real_unfocused\", \"line\": {\"color\": \"darkseagreen\", \"width\": 1}, \"name\": \"real_unfocused\", \"opacity\": 1, \"showlegend\": false, \"text\": [\"110783\", \"116120\"], \"x\": [-184.63, -306.828], \"y\": [-801.703, -971.876], \"type\": \"scatter\", \"uid\": \"84246386-b321-4b61-b0ae-8af614bd36e1\"}, {\"hoverinfo\": \"name+text\", \"legendgroup\": \"real\", \"line\": {\"color\": \"green\", \"width\": 1}, \"name\": \"real\", \"opacity\": 1, \"showlegend\": true, \"text\": [\"20764\", \"27487\"], \"x\": [5.5706, 10.5024], \"y\": [31.671, 72.0453], \"type\": \"scatter\", \"uid\": \"6688c8fe-9c65-494d-992f-358c0b46f17c\"}, {\"hoverinfo\": \"name+text\", \"legendgroup\": \"real\", \"line\": {\"color\": \"green\", \"width\": 1}, \"name\": \"real\", \"opacity\": 1, \"showlegend\": false, \"text\": [\"27487\", \"34491\"], \"x\": [10.5024, 14.7116], \"y\": [72.0453, 114.108], \"type\": \"scatter\", \"uid\": \"0cce0671-667a-42b0-9b65-6b64e9a376f3\"}, {\"hoverinfo\": \"name+text\", \"legendgroup\": \"real\", \"line\": {\"color\": \"green\", \"width\": 1}, \"name\": \"real\", \"opacity\": 1, \"showlegend\": false, \"text\": [\"34491\", \"40865\"], \"x\": [14.7116, 18.992], \"y\": [114.108, 171.997], \"type\": \"scatter\", \"uid\": \"daf2180b-4957-4c7b-9cf1-dad7ede7a400\"}, {\"hoverinfo\": \"name+text\", \"legendgroup\": \"real\", \"line\": {\"color\": \"green\", \"width\": 1}, \"name\": \"real\", \"opacity\": 1, \"showlegend\": false, \"text\": [\"40865\", \"72549\"], \"x\": [18.992, 22.298], \"y\": [171.997, 257.23400000000004], \"type\": \"scatter\", \"uid\": \"366518bb-341f-4836-8d36-a195f3555189\"}, {\"hoverinfo\": \"name+text\", \"legendgroup\": \"real\", \"line\": {\"color\": \"green\", \"width\": 1}, \"name\": \"real\", \"opacity\": 1, \"showlegend\": false, \"text\": [\"72549\", \"79138\"], \"x\": [22.298, 21.6577], \"y\": [257.23400000000004, 357.611], \"type\": \"scatter\", \"uid\": \"cedbac62-03ac-48fc-9a81-7fa89331feaf\"}, {\"hoverinfo\": \"name+text\", \"legendgroup\": \"real\", \"line\": {\"color\": \"green\", \"width\": 1}, \"name\": \"real\", \"opacity\": 1, \"showlegend\": false, \"text\": [\"79138\", \"85537\"], \"x\": [21.6577, 12.251], \"y\": [357.611, 496.648], \"type\": \"scatter\", \"uid\": \"2d7b8e4e-59ba-421e-bf88-d9837c31324a\"}, {\"hoverinfo\": \"name+text\", \"legendgroup\": \"real\", \"line\": {\"color\": \"green\", \"width\": 1}, \"name\": \"real\", \"opacity\": 1, \"showlegend\": false, \"text\": [\"23536\", \"31418\"], \"x\": [-30.9263, -68.8454], \"y\": [9.9814, 22.8573], \"type\": \"scatter\", \"uid\": \"912d71b0-4a41-4239-8e90-a0b44aa05fdc\"}, {\"hoverinfo\": \"name+text\", \"legendgroup\": \"real\", \"line\": {\"color\": \"green\", \"width\": 1}, \"name\": \"real\", \"opacity\": 1, \"showlegend\": false, \"text\": [\"31418\", \"38524\"], \"x\": [-68.8454, -109.987], \"y\": [22.8573, 37.6253], \"type\": \"scatter\", \"uid\": \"d5d00abb-8c65-46da-b04c-a9bf3ddc9456\"}, {\"hoverinfo\": \"name+text\", \"legendgroup\": \"real\", \"line\": {\"color\": \"green\", \"width\": 1}, \"name\": \"real\", \"opacity\": 1, \"showlegend\": false, \"text\": [\"38524\", \"45067\"], \"x\": [-109.987, -161.876], \"y\": [37.6253, 57.4577], \"type\": \"scatter\", \"uid\": \"4a0123fa-005f-425c-b521-2f10fa02262f\"}, {\"hoverinfo\": \"name+text\", \"legendgroup\": \"real\", \"line\": {\"color\": \"green\", \"width\": 1}, \"name\": \"real\", \"opacity\": 1, \"showlegend\": false, \"text\": [\"45067\", \"76902\"], \"x\": [-161.876, -246.02], \"y\": [57.4577, 92.7332], \"type\": \"scatter\", \"uid\": \"3013c1a9-373f-4c1d-8d33-85451c132785\"}, {\"hoverinfo\": \"name+text\", \"legendgroup\": \"real\", \"line\": {\"color\": \"green\", \"width\": 1}, \"name\": \"real\", \"opacity\": 1, \"showlegend\": false, \"text\": [\"76902\", \"83944\"], \"x\": [-246.02, -333.426], \"y\": [92.7332, 133.519], \"type\": \"scatter\", \"uid\": \"8e305621-5262-466f-8a1d-c83ba9de6657\"}, {\"hoverinfo\": \"name+text\", \"legendgroup\": \"real\", \"line\": {\"color\": \"green\", \"width\": 1}, \"name\": \"real\", \"opacity\": 1, \"showlegend\": false, \"text\": [\"83944\", \"90803\"], \"x\": [-333.426, -459.273], \"y\": [133.519, 200.49400000000003], \"type\": \"scatter\", \"uid\": \"4c653e1b-c814-41ea-bedb-3ed2aeba2332\"}, {\"hoverinfo\": \"name+text\", \"legendgroup\": \"real\", \"line\": {\"color\": \"green\", \"width\": 1}, \"name\": \"real\", \"opacity\": 1, \"showlegend\": false, \"text\": [\"90803\", \"96934\"], \"x\": [-459.273, -595.614], \"y\": [200.49400000000003, 284.758], \"type\": \"scatter\", \"uid\": \"c175b2b9-c5e8-46cc-a07f-72f6908303df\"}, {\"hoverinfo\": \"name+text\", \"legendgroup\": \"real\", \"line\": {\"color\": \"green\", \"width\": 1}, \"name\": \"real\", \"opacity\": 1, \"showlegend\": false, \"text\": [\"20262\", \"28058\"], \"x\": [32.2451, 70.7765], \"y\": [4.53326, 9.61941], \"type\": \"scatter\", \"uid\": \"29af2288-9ceb-4d17-87ba-af7b5015d65a\"}, {\"hoverinfo\": \"name+text\", \"legendgroup\": \"real\", \"line\": {\"color\": \"green\", \"width\": 1}, \"name\": \"real\", \"opacity\": 1, \"showlegend\": false, \"text\": [\"28058\", \"34877\"], \"x\": [70.7765, 114.433], \"y\": [9.61941, 14.9217], \"type\": \"scatter\", \"uid\": \"1cae80b2-864b-43fc-82bc-a3fcd54a8d03\"}, {\"hoverinfo\": \"name+text\", \"legendgroup\": \"real\", \"line\": {\"color\": \"green\", \"width\": 1}, \"name\": \"real\", \"opacity\": 1, \"showlegend\": false, \"text\": [\"34877\", \"41146\"], \"x\": [114.433, 170.40099999999995], \"y\": [14.9217, 21.0637], \"type\": \"scatter\", \"uid\": \"8a10bac6-5559-42f7-8fdb-e6ef13aed1bd\"}, {\"hoverinfo\": \"name+text\", \"legendgroup\": \"real\", \"line\": {\"color\": \"green\", \"width\": 1}, \"name\": \"real\", \"opacity\": 1, \"showlegend\": false, \"text\": [\"41146\", \"73201\"], \"x\": [170.40099999999995, 258.338], \"y\": [21.0637, 29.1488], \"type\": \"scatter\", \"uid\": \"fc1f904d-c8cf-4ee4-bb48-6a952ea3f002\"}, {\"hoverinfo\": \"name+text\", \"legendgroup\": \"real\", \"line\": {\"color\": \"green\", \"width\": 1}, \"name\": \"real\", \"opacity\": 1, \"showlegend\": false, \"text\": [\"73201\", \"79641\"], \"x\": [258.338, 359.452], \"y\": [29.1488, 36.1999], \"type\": \"scatter\", \"uid\": \"49ff0fbe-1f6b-45fe-94c7-3a36af85ad9a\"}, {\"hoverinfo\": \"name+text\", \"legendgroup\": \"real\", \"line\": {\"color\": \"green\", \"width\": 1}, \"name\": \"real\", \"opacity\": 1, \"showlegend\": false, \"text\": [\"79641\", \"86195\"], \"x\": [359.452, 503.503], \"y\": [36.1999, 42.0709], \"type\": \"scatter\", \"uid\": \"863cb79c-8c36-43a6-95f5-610ae6d54eef\"}, {\"hoverinfo\": \"name+text\", \"legendgroup\": \"real\", \"line\": {\"color\": \"green\", \"width\": 1}, \"name\": \"real\", \"opacity\": 1, \"showlegend\": false, \"text\": [\"86195\", \"91955\"], \"x\": [503.503, 663.908], \"y\": [42.0709, 43.0984], \"type\": \"scatter\", \"uid\": \"06affcc5-45ef-4bb4-8bdb-3bb2db84d0d8\"}, {\"hoverinfo\": \"name+text\", \"legendgroup\": \"real\", \"line\": {\"color\": \"green\", \"width\": 1}, \"name\": \"real\", \"opacity\": 1, \"showlegend\": false, \"text\": [\"91955\", \"107743\"], \"x\": [663.908, 823.312], \"y\": [43.0984, 38.3265], \"type\": \"scatter\", \"uid\": \"abc25f9a-a240-4ae4-a2d5-0c15b20c19b4\"}, {\"hoverinfo\": \"name+text\", \"legendgroup\": \"real\", \"line\": {\"color\": \"green\", \"width\": 1}, \"name\": \"real\", \"opacity\": 1, \"showlegend\": false, \"text\": [\"19698\", \"27827\"], \"x\": [-4.16977, -9.16296], \"y\": [-31.75, -71.4937], \"type\": \"scatter\", \"uid\": \"18cd852a-25e3-4eaf-b66a-3862f32131da\"}, {\"hoverinfo\": \"name+text\", \"legendgroup\": \"real\", \"line\": {\"color\": \"green\", \"width\": 1}, \"name\": \"real\", \"opacity\": 1, \"showlegend\": false, \"text\": [\"27827\", \"35259\"], \"x\": [-9.16296, -14.2464], \"y\": [-71.4937, -114.127], \"type\": \"scatter\", \"uid\": \"b40ac13a-d178-4cd6-a851-9a5b6f3561a6\"}, {\"hoverinfo\": \"name+text\", \"legendgroup\": \"real\", \"line\": {\"color\": \"green\", \"width\": 1}, \"name\": \"real\", \"opacity\": 1, \"showlegend\": false, \"text\": [\"35259\", \"41464\"], \"x\": [-14.2464, -20.5217], \"y\": [-114.127, -170.169], \"type\": \"scatter\", \"uid\": \"c0e5636f-d613-4299-a428-3080c5a00027\"}, {\"hoverinfo\": \"name+text\", \"legendgroup\": \"real\", \"line\": {\"color\": \"green\", \"width\": 1}, \"name\": \"real\", \"opacity\": 1, \"showlegend\": false, \"text\": [\"41464\", \"73085\"], \"x\": [-20.5217, -29.116], \"y\": [-170.169, -255.648], \"type\": \"scatter\", \"uid\": \"2754b2ba-7afb-466b-bdeb-134c47d2a17b\"}, {\"hoverinfo\": \"name+text\", \"legendgroup\": \"real\", \"line\": {\"color\": \"green\", \"width\": 1}, \"name\": \"real\", \"opacity\": 1, \"showlegend\": false, \"text\": [\"73085\", \"79880\"], \"x\": [-29.116, -38.3955], \"y\": [-255.648, -363.693], \"type\": \"scatter\", \"uid\": \"073c57f4-8279-45c0-b8cc-454ef25cbb40\"}, {\"hoverinfo\": \"name+text\", \"legendgroup\": \"real\", \"line\": {\"color\": \"green\", \"width\": 1}, \"name\": \"real\", \"opacity\": 1, \"showlegend\": false, \"text\": [\"79880\", \"86402\"], \"x\": [-38.3955, -47.3072], \"y\": [-363.693, -495.195], \"type\": \"scatter\", \"uid\": \"4c90b431-9f99-498f-be74-ef04abaef7de\"}, {\"hoverinfo\": \"name+text\", \"legendgroup\": \"real\", \"line\": {\"color\": \"green\", \"width\": 1}, \"name\": \"real\", \"opacity\": 1, \"showlegend\": false, \"text\": [\"86402\", \"92130\"], \"x\": [-47.3072, -54.4897], \"y\": [-495.195, -654.254], \"type\": \"scatter\", \"uid\": \"11069c7b-a804-47b6-b230-d015db5ecb53\"}, {\"hoverinfo\": \"name+text\", \"legendgroup\": \"real\", \"line\": {\"color\": \"green\", \"width\": 1}, \"name\": \"real\", \"opacity\": 1, \"showlegend\": false, \"text\": [\"92130\", \"107883\"], \"x\": [-54.4897, -57.8177], \"y\": [-654.254, -817.466], \"type\": \"scatter\", \"uid\": \"aa44fa98-b9ad-444a-81ad-7f2a2d046bb3\"}, {\"hoverinfo\": \"name+text\", \"legendgroup\": \"real\", \"line\": {\"color\": \"green\", \"width\": 1}, \"name\": \"real\", \"opacity\": 1, \"showlegend\": false, \"text\": [\"21265\", \"29504\"], \"x\": [-31.6364, -70.206], \"y\": [6.18379, 14.1226], \"type\": \"scatter\", \"uid\": \"74c0f348-b6ff-4683-9374-86c7722331ca\"}, {\"hoverinfo\": \"name+text\", \"legendgroup\": \"real\", \"line\": {\"color\": \"green\", \"width\": 1}, \"name\": \"real\", \"opacity\": 1, \"showlegend\": false, \"text\": [\"29504\", \"42350\"], \"x\": [-70.206, -168.155], \"y\": [14.1226, 36.3725], \"type\": \"scatter\", \"uid\": \"45239c74-c9ce-4cd8-b430-c1f4bf456c41\"}, {\"hoverinfo\": \"name+text\", \"legendgroup\": \"real\", \"line\": {\"color\": \"green\", \"width\": 1}, \"name\": \"real\", \"opacity\": 1, \"showlegend\": false, \"text\": [\"42350\", \"73830\"], \"x\": [-168.155, -255.151], \"y\": [36.3725, 58.8872], \"type\": \"scatter\", \"uid\": \"204a1da2-4c68-4146-b8cc-a014d0d66e53\"}, {\"hoverinfo\": \"name+text\", \"legendgroup\": \"real\", \"line\": {\"color\": \"green\", \"width\": 1}, \"name\": \"real\", \"opacity\": 1, \"showlegend\": false, \"text\": [\"73830\", \"80933\"], \"x\": [-255.151, -353.285], \"y\": [58.8872, 87.1991], \"type\": \"scatter\", \"uid\": \"5554e7f8-e2f3-4b73-9da2-3dbd1425a583\"}, {\"hoverinfo\": \"name+text\", \"legendgroup\": \"real\", \"line\": {\"color\": \"green\", \"width\": 1}, \"name\": \"real\", \"opacity\": 1, \"showlegend\": false, \"text\": [\"80933\", \"87292\"], \"x\": [-353.285, -482.875], \"y\": [87.1991, 129.892], \"type\": \"scatter\", \"uid\": \"372c23d3-d6a8-4e9b-a4f5-2cba191d6092\"}, {\"hoverinfo\": \"name+text\", \"legendgroup\": \"real\", \"line\": {\"color\": \"green\", \"width\": 1}, \"name\": \"real\", \"opacity\": 1, \"showlegend\": false, \"text\": [\"87292\", \"93165\"], \"x\": [-482.875, -633.385], \"y\": [129.892, 187.317], \"type\": \"scatter\", \"uid\": \"6ce5de35-8594-486c-84b1-67f9ea38a3f1\"}, {\"hoverinfo\": \"name+text\", \"legendgroup\": \"real\", \"line\": {\"color\": \"green\", \"width\": 1}, \"name\": \"real\", \"opacity\": 1, \"showlegend\": false, \"text\": [\"93165\", \"109022\"], \"x\": [-633.385, -782.4169999999998], \"y\": [187.317, 252.867], \"type\": \"scatter\", \"uid\": \"f4633d49-b2ee-4115-94ac-a01d867291dd\"}, {\"hoverinfo\": \"name+text\", \"legendgroup\": \"real\", \"line\": {\"color\": \"green\", \"width\": 1}, \"name\": \"real\", \"opacity\": 1, \"showlegend\": false, \"text\": [\"109022\", \"114036\"], \"x\": [-782.4169999999998, -962.827], \"y\": [252.867, 344.76199999999994], \"type\": \"scatter\", \"uid\": \"2ce8c525-75cd-4a24-9a33-047df15cecb5\"}], {\"height\": 800, \"hovermode\": \"closest\", \"showlegend\": true, \"updatemenus\": [{\"buttons\": [{\"args\": [\"shapes\", []], \"label\": \"hide layers\", \"method\": \"relayout\"}, {\"args\": [\"shapes\", [{\"type\": \"circle\", \"x0\": -32, \"x1\": 32, \"y0\": -32, \"y1\": 32, \"opacity\": 0.5, \"layer\": \"below\", \"line\": {\"color\": \"#ccc\"}}, {\"type\": \"circle\", \"x0\": -72, \"x1\": 72, \"y0\": -72, \"y1\": 72, \"opacity\": 0.5, \"layer\": \"below\", \"line\": {\"color\": \"#ccc\"}}, {\"type\": \"circle\", \"x0\": -116, \"x1\": 116, \"y0\": -116, \"y1\": 116, \"opacity\": 0.5, \"layer\": \"below\", \"line\": {\"color\": \"#ccc\"}}, {\"type\": \"circle\", \"x0\": -172, \"x1\": 172, \"y0\": -172, \"y1\": 172, \"opacity\": 0.5, \"layer\": \"below\", \"line\": {\"color\": \"#ccc\"}}, {\"type\": \"circle\", \"x0\": -260, \"x1\": 260, \"y0\": -260, \"y1\": 260, \"opacity\": 0.5, \"layer\": \"below\", \"line\": {\"color\": \"#cccc8d\"}}, {\"type\": \"circle\", \"x0\": -360, \"x1\": 360, \"y0\": -360, \"y1\": 360, \"opacity\": 0.5, \"layer\": \"below\", \"line\": {\"color\": \"#cccc8d\"}}, {\"type\": \"circle\", \"x0\": -500, \"x1\": 500, \"y0\": -500, \"y1\": 500, \"opacity\": 0.5, \"layer\": \"below\", \"line\": {\"color\": \"#cccc8d\"}}, {\"type\": \"circle\", \"x0\": -660, \"x1\": 660, \"y0\": -660, \"y1\": 660, \"opacity\": 0.5, \"layer\": \"below\", \"line\": {\"color\": \"#cccc8d\"}}, {\"type\": \"circle\", \"x0\": -820, \"x1\": 820, \"y0\": -820, \"y1\": 820, \"opacity\": 0.5, \"layer\": \"below\", \"line\": {\"color\": \"#ccc\"}}, {\"type\": \"circle\", \"x0\": -1020, \"x1\": 1020, \"y0\": -1020, \"y1\": 1020, \"opacity\": 0.5, \"layer\": \"below\", \"line\": {\"color\": \"#ccc\"}}]], \"label\": \"show layers\", \"method\": \"relayout\"}], \"direction\": \"left\", \"pad\": {\"l\": 0.1}, \"type\": \"buttons\", \"xanchor\": \"left\", \"y\": 1.1, \"yanchor\": \"top\"}, {\"buttons\": [{\"args\": [{\"mode\": \"markers+lines\"}], \"label\": \"hits+tracks\", \"method\": \"update\"}, {\"args\": [{\"mode\": \"markers\"}], \"label\": \"hits only\", \"method\": \"update\"}], \"direction\": \"left\", \"pad\": {\"l\": 200}, \"type\": \"buttons\", \"xanchor\": \"left\", \"y\": 1.1, \"yanchor\": \"top\"}, {\"buttons\": [{\"args\": [\"yaxis.scaleanchor\", null], \"label\": \"free\", \"method\": \"relayout\"}, {\"args\": [\"yaxis.scaleanchor\", \"x\"], \"label\": \"fixed\", \"method\": \"relayout\"}], \"direction\": \"left\", \"pad\": {\"l\": 380}, \"type\": \"buttons\", \"xanchor\": \"left\", \"y\": 1.1, \"yanchor\": \"top\"}], \"width\": 800, \"xaxis\": {\"title\": \"x\"}, \"yaxis\": {\"title\": \"y\"}}, {\"showLink\": true, \"linkText\": \"Export to plot.ly\", \"plotlyServerURL\": \"https://plot.ly\"})});</script>"
      ]
     },
     "metadata": {},
     "output_type": "display_data"
    },
    {
     "data": {
      "application/vnd.plotly.v1+json": {
       "config": {
        "linkText": "Export to plot.ly",
        "plotlyServerURL": "https://plot.ly",
        "showLink": true
       },
       "data": [
        {
         "hoverinfo": "name+text",
         "legendgroup": "real_unfocused",
         "line": {
          "color": "darkseagreen",
          "width": 1
         },
         "name": "real_unfocused",
         "opacity": 1,
         "showlegend": true,
         "text": [
          "18246",
          "27129"
         ],
         "type": "scatter",
         "uid": "320651e8-198f-49a2-85b8-73441fe1444d",
         "x": [
          -70.5503,
          -161.067
         ],
         "y": [
          31.546282598905375,
          72.95614848420934
         ]
        },
        {
         "hoverinfo": "name+text",
         "legendgroup": "real_unfocused",
         "line": {
          "color": "darkseagreen",
          "width": 1
         },
         "name": "real_unfocused",
         "opacity": 1,
         "showlegend": false,
         "text": [
          "27129",
          "34226"
         ],
         "type": "scatter",
         "uid": "3eabadb5-e2ab-4141-8868-03df0267b4b2",
         "x": [
          -161.067,
          -252.93400000000003
         ],
         "y": [
          72.95614848420934,
          115.02006064165504
         ]
        },
        {
         "hoverinfo": "name+text",
         "legendgroup": "real_unfocused",
         "line": {
          "color": "darkseagreen",
          "width": 1
         },
         "name": "real_unfocused",
         "opacity": 1,
         "showlegend": false,
         "text": [
          "34226",
          "40268"
         ],
         "type": "scatter",
         "uid": "8e5c350e-6fcd-45dc-a5a4-2d36dc8cdd13",
         "x": [
          -252.93400000000003,
          -376.026
         ],
         "y": [
          115.02006064165504,
          171.35896601578804
         ]
        },
        {
         "hoverinfo": "name+text",
         "legendgroup": "real_unfocused",
         "line": {
          "color": "darkseagreen",
          "width": 1
         },
         "name": "real_unfocused",
         "opacity": 1,
         "showlegend": false,
         "text": [
          "40268",
          "72036"
         ],
         "type": "scatter",
         "uid": "fef98511-d194-4736-baf5-70565328ef7a",
         "x": [
          -376.026,
          -576.2
         ],
         "y": [
          171.35896601578804,
          263.0385854831949
         ]
        },
        {
         "hoverinfo": "name+text",
         "legendgroup": "real_unfocused",
         "line": {
          "color": "darkseagreen",
          "width": 1
         },
         "name": "real_unfocused",
         "opacity": 1,
         "showlegend": false,
         "text": [
          "72036",
          "78762"
         ],
         "type": "scatter",
         "uid": "766262c4-d788-4d0f-97e5-0cfc4e871da3",
         "x": [
          -576.2,
          -790.6
         ],
         "y": [
          263.0385854831949,
          360.6255076058819
         ]
        },
        {
         "hoverinfo": "name+text",
         "legendgroup": "real_unfocused",
         "line": {
          "color": "darkseagreen",
          "width": 1
         },
         "name": "real_unfocused",
         "opacity": 1,
         "showlegend": false,
         "text": [
          "23050",
          "30426"
         ],
         "type": "scatter",
         "uid": "830a740c-d86a-4388-8da4-e9ea1dc7fa44",
         "x": [
          23.0524,
          40.2954
         ],
         "y": [
          32.02056999141177,
          71.44607751100754
         ]
        },
        {
         "hoverinfo": "name+text",
         "legendgroup": "real_unfocused",
         "line": {
          "color": "darkseagreen",
          "width": 1
         },
         "name": "real_unfocused",
         "opacity": 1,
         "showlegend": false,
         "text": [
          "30426",
          "37198"
         ],
         "type": "scatter",
         "uid": "b8f507e2-f0c3-4071-83b4-b85a7ca77ec9",
         "x": [
          40.2954,
          59.2064
         ],
         "y": [
          71.44607751100754,
          115.0064055732984
         ]
        },
        {
         "hoverinfo": "name+text",
         "legendgroup": "real_unfocused",
         "line": {
          "color": "darkseagreen",
          "width": 1
         },
         "name": "real_unfocused",
         "opacity": 1,
         "showlegend": false,
         "text": [
          "37198",
          "44045"
         ],
         "type": "scatter",
         "uid": "417608fc-a745-4a2a-b435-8cd956605c09",
         "x": [
          59.2064,
          83.8711
         ],
         "y": [
          115.0064055732984,
          171.8463372779298
         ]
        },
        {
         "hoverinfo": "name+text",
         "legendgroup": "real_unfocused",
         "line": {
          "color": "darkseagreen",
          "width": 1
         },
         "name": "real_unfocused",
         "opacity": 1,
         "showlegend": false,
         "text": [
          "44045",
          "75480"
         ],
         "type": "scatter",
         "uid": "131c19da-76b1-4717-b9f2-5c56d86c8924",
         "x": [
          83.8711,
          121.6
         ],
         "y": [
          171.8463372779298,
          258.1311722458177
         ]
        },
        {
         "hoverinfo": "name+text",
         "legendgroup": "real_unfocused",
         "line": {
          "color": "darkseagreen",
          "width": 1
         },
         "name": "real_unfocused",
         "opacity": 1,
         "showlegend": false,
         "text": [
          "75480",
          "82723"
         ],
         "type": "scatter",
         "uid": "6f940541-c40e-4a46-ac6f-55a91705317b",
         "x": [
          121.6,
          165.8
         ],
         "y": [
          258.1311722458177,
          360.3464031056922
         ]
        },
        {
         "hoverinfo": "name+text",
         "legendgroup": "real_unfocused",
         "line": {
          "color": "darkseagreen",
          "width": 1
         },
         "name": "real_unfocused",
         "opacity": 1,
         "showlegend": false,
         "text": [
          "21405",
          "30694"
         ],
         "type": "scatter",
         "uid": "ba43a62d-f123-4563-a8ee-3055a76a0cce",
         "x": [
          52.0145,
          107.158
         ],
         "y": [
          33.604869926734146,
          73.82976240148159
         ]
        },
        {
         "hoverinfo": "name+text",
         "legendgroup": "real_unfocused",
         "line": {
          "color": "darkseagreen",
          "width": 1
         },
         "name": "real_unfocused",
         "opacity": 1,
         "showlegend": false,
         "text": [
          "30694",
          "38058"
         ],
         "type": "scatter",
         "uid": "d326cfa4-a4ca-4c1c-aaeb-aa9fa38aa680",
         "x": [
          107.158,
          166.491
         ],
         "y": [
          73.82976240148159,
          116.91123809106979
         ]
        },
        {
         "hoverinfo": "name+text",
         "legendgroup": "real_unfocused",
         "line": {
          "color": "darkseagreen",
          "width": 1
         },
         "name": "real_unfocused",
         "opacity": 1,
         "showlegend": false,
         "text": [
          "38058",
          "44664"
         ],
         "type": "scatter",
         "uid": "7b617f7c-33b4-4432-a831-e264195872d5",
         "x": [
          166.491,
          243.461
         ],
         "y": [
          116.91123809106979,
          172.77679735471895
         ]
        },
        {
         "hoverinfo": "name+text",
         "legendgroup": "real_unfocused",
         "line": {
          "color": "darkseagreen",
          "width": 1
         },
         "name": "real_unfocused",
         "opacity": 1,
         "showlegend": false,
         "text": [
          "44664",
          "76101"
         ],
         "type": "scatter",
         "uid": "fe6e6ee9-414d-4c92-906c-0afbb64514e3",
         "x": [
          243.461,
          360.6
         ],
         "y": [
          172.77679735471895,
          257.4177895939012
         ]
        },
        {
         "hoverinfo": "name+text",
         "legendgroup": "real_unfocused",
         "line": {
          "color": "darkseagreen",
          "width": 1
         },
         "name": "real_unfocused",
         "opacity": 1,
         "showlegend": false,
         "text": [
          "76101",
          "83615"
         ],
         "type": "scatter",
         "uid": "246c2494-ee47-4e6e-9dec-34765f0e303d",
         "x": [
          360.6,
          502.8
         ],
         "y": [
          257.4177895939012,
          359.94553844991606
         ]
        },
        {
         "hoverinfo": "name+text",
         "legendgroup": "real_unfocused",
         "line": {
          "color": "darkseagreen",
          "width": 1
         },
         "name": "real_unfocused",
         "opacity": 1,
         "showlegend": false,
         "text": [
          "83615",
          "90565"
         ],
         "type": "scatter",
         "uid": "e33821dd-592c-444f-b8b1-72fa99abed82",
         "x": [
          502.8,
          698
         ],
         "y": [
          359.94553844991606,
          498.87383068175666
         ]
        },
        {
         "hoverinfo": "name+text",
         "legendgroup": "real_unfocused",
         "line": {
          "color": "darkseagreen",
          "width": 1
         },
         "name": "real_unfocused",
         "opacity": 1,
         "showlegend": false,
         "text": [
          "90565",
          "96738"
         ],
         "type": "scatter",
         "uid": "3c473b05-e0d8-4182-9d30-5d528b5b3c8d",
         "x": [
          698,
          928.2
         ],
         "y": [
          498.87383068175666,
          661.1510399333877
         ]
        },
        {
         "hoverinfo": "name+text",
         "legendgroup": "real_unfocused",
         "line": {
          "color": "darkseagreen",
          "width": 1
         },
         "name": "real_unfocused",
         "opacity": 1,
         "showlegend": false,
         "text": [
          "75184",
          "82090"
         ],
         "type": "scatter",
         "uid": "58bd68e0-0251-44c2-9df5-3276b6dfe619",
         "x": [
          77.2,
          104.8
         ],
         "y": [
          262.1663236351383,
          359.2111247589779
         ]
        },
        {
         "hoverinfo": "name+text",
         "legendgroup": "real_unfocused",
         "line": {
          "color": "darkseagreen",
          "width": 1
         },
         "name": "real_unfocused",
         "opacity": 1,
         "showlegend": false,
         "text": [
          "82090",
          "88632"
         ],
         "type": "scatter",
         "uid": "dfe9407a-0ae6-4e96-936b-b124c9bf48bd",
         "x": [
          104.8,
          145.6
         ],
         "y": [
          359.2111247589779,
          497.29964951401286
         ]
        },
        {
         "hoverinfo": "name+text",
         "legendgroup": "real_unfocused",
         "line": {
          "color": "darkseagreen",
          "width": 1
         },
         "name": "real_unfocused",
         "opacity": 1,
         "showlegend": false,
         "text": [
          "88632",
          "94896"
         ],
         "type": "scatter",
         "uid": "1c42fabe-97d5-4a6c-a41b-55a5357e5c29",
         "x": [
          145.6,
          194.6
         ],
         "y": [
          497.29964951401286,
          663.8058980771413
         ]
        },
        {
         "hoverinfo": "name+text",
         "legendgroup": "real_unfocused",
         "line": {
          "color": "darkseagreen",
          "width": 1
         },
         "name": "real_unfocused",
         "opacity": 1,
         "showlegend": false,
         "text": [
          "94896",
          "110783"
         ],
         "type": "scatter",
         "uid": "aa26ad7d-d79a-4b2d-8d74-9e819fe3daea",
         "x": [
          194.6,
          243.8
         ],
         "y": [
          663.8058980771413,
          822.6882381005577
         ]
        },
        {
         "hoverinfo": "name+text",
         "legendgroup": "real_unfocused",
         "line": {
          "color": "darkseagreen",
          "width": 1
         },
         "name": "real_unfocused",
         "opacity": 1,
         "showlegend": false,
         "text": [
          "110783",
          "116120"
         ],
         "type": "scatter",
         "uid": "02842b24-e6fd-4a8e-a4e3-7b495f7fb742",
         "x": [
          243.8,
          303.6
         ],
         "y": [
          822.6882381005577,
          1019.1596444914801
         ]
        },
        {
         "hoverinfo": "name+text",
         "legendgroup": "real",
         "line": {
          "color": "green",
          "width": 1
         },
         "name": "real",
         "opacity": 1,
         "showlegend": true,
         "text": [
          "20764",
          "27487"
         ],
         "type": "scatter",
         "uid": "fbc670bf-f447-4e9b-a672-7b1778df7a98",
         "x": [
          -67.8321,
          -145.30700000000004
         ],
         "y": [
          32.157173777557006,
          72.80676931336811
         ]
        },
        {
         "hoverinfo": "name+text",
         "legendgroup": "real",
         "line": {
          "color": "green",
          "width": 1
         },
         "name": "real",
         "opacity": 1,
         "showlegend": false,
         "text": [
          "27487",
          "34491"
         ],
         "type": "scatter",
         "uid": "84eada82-718d-440a-a390-8d96d2daec8d",
         "x": [
          -145.30700000000004,
          -225.866
         ],
         "y": [
          72.80676931336811,
          115.05245255343321
         ]
        },
        {
         "hoverinfo": "name+text",
         "legendgroup": "real",
         "line": {
          "color": "green",
          "width": 1
         },
         "name": "real",
         "opacity": 1,
         "showlegend": false,
         "text": [
          "34491",
          "40865"
         ],
         "type": "scatter",
         "uid": "dcac1ea2-ab52-49b0-a290-735c44c722d4",
         "x": [
          -225.866,
          -336.397
         ],
         "y": [
          115.05245255343321,
          173.0423765237868
         ]
        },
        {
         "hoverinfo": "name+text",
         "legendgroup": "real",
         "line": {
          "color": "green",
          "width": 1
         },
         "name": "real",
         "opacity": 1,
         "showlegend": false,
         "text": [
          "40865",
          "72549"
         ],
         "type": "scatter",
         "uid": "f4c9d740-b998-4b2e-bba1-c6fc168104e4",
         "x": [
          -336.397,
          -499.4
         ],
         "y": [
          173.0423765237868,
          258.1986281140936
         ]
        },
        {
         "hoverinfo": "name+text",
         "legendgroup": "real",
         "line": {
          "color": "green",
          "width": 1
         },
         "name": "real",
         "opacity": 1,
         "showlegend": false,
         "text": [
          "72549",
          "79138"
         ],
         "type": "scatter",
         "uid": "c430473b-b963-427b-99f7-b1a90dd95ee8",
         "x": [
          -499.4,
          -689.8
         ],
         "y": [
          258.1986281140936,
          358.26621846092326
         ]
        },
        {
         "hoverinfo": "name+text",
         "legendgroup": "real",
         "line": {
          "color": "green",
          "width": 1
         },
         "name": "real",
         "opacity": 1,
         "showlegend": false,
         "text": [
          "79138",
          "85537"
         ],
         "type": "scatter",
         "uid": "edfe17a4-7000-487a-80f7-be1c57cf093d",
         "x": [
          -689.8,
          -955.8
         ],
         "y": [
          358.26621846092326,
          496.7990769969284
         ]
        },
        {
         "hoverinfo": "name+text",
         "legendgroup": "real",
         "line": {
          "color": "green",
          "width": 1
         },
         "name": "real",
         "opacity": 1,
         "showlegend": false,
         "text": [
          "23536",
          "31418"
         ],
         "type": "scatter",
         "uid": "54b7a6ad-1989-447c-82fb-eead5c89fe45",
         "x": [
          41.7502,
          99.58
         ],
         "y": [
          32.49714414606305,
          72.54064560265508
         ]
        },
        {
         "hoverinfo": "name+text",
         "legendgroup": "real",
         "line": {
          "color": "green",
          "width": 1
         },
         "name": "real",
         "opacity": 1,
         "showlegend": false,
         "text": [
          "31418",
          "38524"
         ],
         "type": "scatter",
         "uid": "c65bbc36-f1bf-4b3e-9987-bc5c16291e73",
         "x": [
          99.58,
          162.741
         ],
         "y": [
          72.54064560265508,
          116.24458425703108
         ]
        },
        {
         "hoverinfo": "name+text",
         "legendgroup": "real",
         "line": {
          "color": "green",
          "width": 1
         },
         "name": "real",
         "opacity": 1,
         "showlegend": false,
         "text": [
          "38524",
          "45067"
         ],
         "type": "scatter",
         "uid": "762ea208-cc47-4778-a8ec-59017faf0fae",
         "x": [
          162.741,
          243.228
         ],
         "y": [
          116.24458425703108,
          171.77085511020198
         ]
        },
        {
         "hoverinfo": "name+text",
         "legendgroup": "real",
         "line": {
          "color": "green",
          "width": 1
         },
         "name": "real",
         "opacity": 1,
         "showlegend": false,
         "text": [
          "45067",
          "76902"
         ],
         "type": "scatter",
         "uid": "23fe722d-ca0c-480d-ac1e-4041f9bf300c",
         "x": [
          243.228,
          375.4
         ],
         "y": [
          171.77085511020198,
          262.9168818890107
         ]
        },
        {
         "hoverinfo": "name+text",
         "legendgroup": "real",
         "line": {
          "color": "green",
          "width": 1
         },
         "name": "real",
         "opacity": 1,
         "showlegend": false,
         "text": [
          "76902",
          "83944"
         ],
         "type": "scatter",
         "uid": "82ea1bcb-808d-49c3-a1a8-137a84957a43",
         "x": [
          375.4,
          515.6
         ],
         "y": [
          262.9168818890107,
          359.1660073517537
         ]
        },
        {
         "hoverinfo": "name+text",
         "legendgroup": "real",
         "line": {
          "color": "green",
          "width": 1
         },
         "name": "real",
         "opacity": 1,
         "showlegend": false,
         "text": [
          "83944",
          "90803"
         ],
         "type": "scatter",
         "uid": "d40ee436-2691-4cf5-b5ea-d98aa354ce50",
         "x": [
          515.6,
          722.2
         ],
         "y": [
          359.1660073517537,
          501.1282595952857
         ]
        },
        {
         "hoverinfo": "name+text",
         "legendgroup": "real",
         "line": {
          "color": "green",
          "width": 1
         },
         "name": "real",
         "opacity": 1,
         "showlegend": false,
         "text": [
          "90803",
          "96934"
         ],
         "type": "scatter",
         "uid": "f56c38aa-50cc-4f9d-9005-24c73e2684f1",
         "x": [
          722.2,
          956
         ],
         "y": [
          501.1282595952857,
          660.1841830580312
         ]
        },
        {
         "hoverinfo": "name+text",
         "legendgroup": "real",
         "line": {
          "color": "green",
          "width": 1
         },
         "name": "real",
         "opacity": 1,
         "showlegend": false,
         "text": [
          "20262",
          "28058"
         ],
         "type": "scatter",
         "uid": "8f6a67d0-cbe7-47e9-93b1-2fe186a9adac",
         "x": [
          -43.7904,
          -94.3151
         ],
         "y": [
          32.562200789221855,
          71.42720770825427
         ]
        },
        {
         "hoverinfo": "name+text",
         "legendgroup": "real",
         "line": {
          "color": "green",
          "width": 1
         },
         "name": "real",
         "opacity": 1,
         "showlegend": false,
         "text": [
          "28058",
          "34877"
         ],
         "type": "scatter",
         "uid": "bb025eb6-fc8c-4eb5-84a4-6bed589f29f7",
         "x": [
          -94.3151,
          -151.393
         ],
         "y": [
          71.42720770825427,
          115.4017704365492
         ]
        },
        {
         "hoverinfo": "name+text",
         "legendgroup": "real",
         "line": {
          "color": "green",
          "width": 1
         },
         "name": "real",
         "opacity": 1,
         "showlegend": false,
         "text": [
          "34877",
          "41146"
         ],
         "type": "scatter",
         "uid": "dbf9f551-b490-4d15-8ecb-25ec4544b2b7",
         "x": [
          -151.393,
          -224.485
         ],
         "y": [
          115.4017704365492,
          171.697933181183
         ]
        },
        {
         "hoverinfo": "name+text",
         "legendgroup": "real",
         "line": {
          "color": "green",
          "width": 1
         },
         "name": "real",
         "opacity": 1,
         "showlegend": false,
         "text": [
          "41146",
          "73201"
         ],
         "type": "scatter",
         "uid": "853d0cab-70d7-41fe-8373-a71d73f1a7e8",
         "x": [
          -224.485,
          -339
         ],
         "y": [
          171.697933181183,
          259.9772582081748
         ]
        },
        {
         "hoverinfo": "name+text",
         "legendgroup": "real",
         "line": {
          "color": "green",
          "width": 1
         },
         "name": "real",
         "opacity": 1,
         "showlegend": false,
         "text": [
          "73201",
          "79641"
         ],
         "type": "scatter",
         "uid": "3b786666-8b3d-4ca9-ba17-938b4a9c8409",
         "x": [
          -339,
          -470.6
         ],
         "y": [
          259.9772582081748,
          361.27022166795035
         ]
        },
        {
         "hoverinfo": "name+text",
         "legendgroup": "real",
         "line": {
          "color": "green",
          "width": 1
         },
         "name": "real",
         "opacity": 1,
         "showlegend": false,
         "text": [
          "79641",
          "86195"
         ],
         "type": "scatter",
         "uid": "01f6ff09-834e-4c10-8303-09b145fc9eb6",
         "x": [
          -470.6,
          -657.6
         ],
         "y": [
          361.27022166795035,
          505.25758938962014
         ]
        },
        {
         "hoverinfo": "name+text",
         "legendgroup": "real",
         "line": {
          "color": "green",
          "width": 1
         },
         "name": "real",
         "opacity": 1,
         "showlegend": false,
         "text": [
          "86195",
          "91955"
         ],
         "type": "scatter",
         "uid": "7c9676d8-abfb-4d5d-a5e5-1fb3dedf958c",
         "x": [
          -657.6,
          -865.4
         ],
         "y": [
          505.25758938962014,
          665.3054220029776
         ]
        },
        {
         "hoverinfo": "name+text",
         "legendgroup": "real",
         "line": {
          "color": "green",
          "width": 1
         },
         "name": "real",
         "opacity": 1,
         "showlegend": false,
         "text": [
          "91955",
          "107743"
         ],
         "type": "scatter",
         "uid": "c940cec1-c485-42b6-a080-7a21959a6fa5",
         "x": [
          -865.4,
          -1067.8
         ],
         "y": [
          665.3054220029776,
          824.2035973873507
         ]
        },
        {
         "hoverinfo": "name+text",
         "legendgroup": "real",
         "line": {
          "color": "green",
          "width": 1
         },
         "name": "real",
         "opacity": 1,
         "showlegend": false,
         "text": [
          "19698",
          "27827"
         ],
         "type": "scatter",
         "uid": "c1bfc163-fddc-4002-b736-7328cccf8515",
         "x": [
          -43.6337,
          -86.1783
         ],
         "y": [
          32.02264014494901,
          72.07849176870727
         ]
        },
        {
         "hoverinfo": "name+text",
         "legendgroup": "real",
         "line": {
          "color": "green",
          "width": 1
         },
         "name": "real",
         "opacity": 1,
         "showlegend": false,
         "text": [
          "27827",
          "35259"
         ],
         "type": "scatter",
         "uid": "6efee41c-70ce-4a2a-9d04-8ac8b164cc64",
         "x": [
          -86.1783,
          -131.795
         ],
         "y": [
          72.07849176870727,
          115.01274730202735
         ]
        },
        {
         "hoverinfo": "name+text",
         "legendgroup": "real",
         "line": {
          "color": "green",
          "width": 1
         },
         "name": "real",
         "opacity": 1,
         "showlegend": false,
         "text": [
          "35259",
          "41464"
         ],
         "type": "scatter",
         "uid": "ac432d4f-add0-48ff-9c43-78d6c4d3f7b4",
         "x": [
          -131.795,
          -191.758
         ],
         "y": [
          115.01274730202735,
          171.40195078204334
         ]
        },
        {
         "hoverinfo": "name+text",
         "legendgroup": "real",
         "line": {
          "color": "green",
          "width": 1
         },
         "name": "real",
         "opacity": 1,
         "showlegend": false,
         "text": [
          "41464",
          "73085"
         ],
         "type": "scatter",
         "uid": "cd482f35-863b-4c37-99d1-101c45f86c33",
         "x": [
          -191.758,
          -283.2
         ],
         "y": [
          171.40195078204334,
          257.30068278183796
         ]
        },
        {
         "hoverinfo": "name+text",
         "legendgroup": "real",
         "line": {
          "color": "green",
          "width": 1
         },
         "name": "real",
         "opacity": 1,
         "showlegend": false,
         "text": [
          "73085",
          "79880"
         ],
         "type": "scatter",
         "uid": "d11049ae-3e2b-4fc3-8e94-6feb38454557",
         "x": [
          -283.2,
          -398.2
         ],
         "y": [
          257.30068278183796,
          365.71411330334246
         ]
        },
        {
         "hoverinfo": "name+text",
         "legendgroup": "real",
         "line": {
          "color": "green",
          "width": 1
         },
         "name": "real",
         "opacity": 1,
         "showlegend": false,
         "text": [
          "79880",
          "86402"
         ],
         "type": "scatter",
         "uid": "155ed0c4-9230-46d7-bb8e-ca180004b618",
         "x": [
          -398.2,
          -538.4
         ],
         "y": [
          365.71411330334246,
          497.4495544242049
         ]
        },
        {
         "hoverinfo": "name+text",
         "legendgroup": "real",
         "line": {
          "color": "green",
          "width": 1
         },
         "name": "real",
         "opacity": 1,
         "showlegend": false,
         "text": [
          "86402",
          "92130"
         ],
         "type": "scatter",
         "uid": "0bfbcb5e-e703-40c4-b33b-7538f317b82f",
         "x": [
          -538.4,
          -707.2
         ],
         "y": [
          497.4495544242049,
          656.5191725472228
         ]
        },
        {
         "hoverinfo": "name+text",
         "legendgroup": "real",
         "line": {
          "color": "green",
          "width": 1
         },
         "name": "real",
         "opacity": 1,
         "showlegend": false,
         "text": [
          "92130",
          "107883"
         ],
         "type": "scatter",
         "uid": "3c6abb6c-7474-4c39-990e-7518726b304b",
         "x": [
          -707.2,
          -878.4
         ],
         "y": [
          656.5191725472228,
          819.5081131930848
         ]
        },
        {
         "hoverinfo": "name+text",
         "legendgroup": "real",
         "line": {
          "color": "green",
          "width": 1
         },
         "name": "real",
         "opacity": 1,
         "showlegend": false,
         "text": [
          "21265",
          "29504"
         ],
         "type": "scatter",
         "uid": "a2fce7e9-e5aa-43e0-ac84-6f59a595e6ca",
         "x": [
          -24.6702,
          -46.6699
         ],
         "y": [
          32.23509056485029,
          71.61236113102264
         ]
        },
        {
         "hoverinfo": "name+text",
         "legendgroup": "real",
         "line": {
          "color": "green",
          "width": 1
         },
         "name": "real",
         "opacity": 1,
         "showlegend": false,
         "text": [
          "29504",
          "42350"
         ],
         "type": "scatter",
         "uid": "e9e5b172-d81d-4e9c-83f9-1c1d6af3433d",
         "x": [
          -46.6699,
          -102.632
         ],
         "y": [
          71.61236113102264,
          172.0437815826251
         ]
        },
        {
         "hoverinfo": "name+text",
         "legendgroup": "real",
         "line": {
          "color": "green",
          "width": 1
         },
         "name": "real",
         "opacity": 1,
         "showlegend": false,
         "text": [
          "42350",
          "73830"
         ],
         "type": "scatter",
         "uid": "35b2800f-e52c-4f2b-a9c0-4556e8239b09",
         "x": [
          -102.632,
          -152.6
         ],
         "y": [
          172.0437815826251,
          261.85823478523645
         ]
        },
        {
         "hoverinfo": "name+text",
         "legendgroup": "real",
         "line": {
          "color": "green",
          "width": 1
         },
         "name": "real",
         "opacity": 1,
         "showlegend": false,
         "text": [
          "73830",
          "80933"
         ],
         "type": "scatter",
         "uid": "db353e9a-f702-457e-b139-126b62346480",
         "x": [
          -152.6,
          -209.6
         ],
         "y": [
          261.85823478523645,
          363.8873098444215
         ]
        },
        {
         "hoverinfo": "name+text",
         "legendgroup": "real",
         "line": {
          "color": "green",
          "width": 1
         },
         "name": "real",
         "opacity": 1,
         "showlegend": false,
         "text": [
          "80933",
          "87292"
         ],
         "type": "scatter",
         "uid": "cf8dab36-7e80-4cb9-9543-b766b35e77fa",
         "x": [
          -209.6,
          -285.6
         ],
         "y": [
          363.8873098444215,
          500.04019567330784
         ]
        },
        {
         "hoverinfo": "name+text",
         "legendgroup": "real",
         "line": {
          "color": "green",
          "width": 1
         },
         "name": "real",
         "opacity": 1,
         "showlegend": false,
         "text": [
          "87292",
          "93165"
         ],
         "type": "scatter",
         "uid": "21549852-2bf4-425f-aff4-8d34f421b84d",
         "x": [
          -285.6,
          -375.4
         ],
         "y": [
          500.04019567330784,
          660.5030028046807
         ]
        },
        {
         "hoverinfo": "name+text",
         "legendgroup": "real",
         "line": {
          "color": "green",
          "width": 1
         },
         "name": "real",
         "opacity": 1,
         "showlegend": false,
         "text": [
          "93165",
          "109022"
         ],
         "type": "scatter",
         "uid": "39b8ed5e-69f6-4d58-8b14-534c73ab123c",
         "x": [
          -375.4,
          -466.4
         ],
         "y": [
          660.5030028046807,
          822.2639974959379
         ]
        },
        {
         "hoverinfo": "name+text",
         "legendgroup": "real",
         "line": {
          "color": "green",
          "width": 1
         },
         "name": "real",
         "opacity": 1,
         "showlegend": false,
         "text": [
          "109022",
          "114036"
         ],
         "type": "scatter",
         "uid": "a75fbb35-a208-4af3-a981-5ed9a515e5f1",
         "x": [
          -466.4,
          -580.2
         ],
         "y": [
          822.2639974959379,
          1022.6908959079474
         ]
        }
       ],
       "layout": {
        "height": 800,
        "hovermode": "closest",
        "showlegend": true,
        "updatemenus": [
         {
          "buttons": [
           {
            "args": [
             "shapes",
             []
            ],
            "label": "hide layers",
            "method": "relayout"
           },
           {
            "args": [
             "shapes",
             [
              {
               "layer": "below",
               "line": {
                "color": "#ccc"
               },
               "opacity": 0.5,
               "type": "line",
               "x0": -455,
               "x1": 455,
               "y0": 32,
               "y1": 32
              },
              {
               "layer": "below",
               "line": {
                "color": "#ccc"
               },
               "opacity": 0.5,
               "type": "line",
               "x0": -455,
               "x1": 455,
               "y0": 72,
               "y1": 72
              },
              {
               "layer": "below",
               "line": {
                "color": "#ccc"
               },
               "opacity": 0.5,
               "type": "line",
               "x0": -455,
               "x1": 455,
               "y0": 116,
               "y1": 116
              },
              {
               "layer": "below",
               "line": {
                "color": "#ccc"
               },
               "opacity": 0.5,
               "type": "line",
               "x0": -455,
               "x1": 455,
               "y0": 172,
               "y1": 172
              },
              {
               "layer": "below",
               "line": {
                "color": "#cccc8d"
               },
               "opacity": 0.5,
               "type": "line",
               "x0": -1030,
               "x1": 1030,
               "y0": 260,
               "y1": 260
              },
              {
               "layer": "below",
               "line": {
                "color": "#cccc8d"
               },
               "opacity": 0.5,
               "type": "line",
               "x0": -1030,
               "x1": 1030,
               "y0": 360,
               "y1": 360
              },
              {
               "layer": "below",
               "line": {
                "color": "#cccc8d"
               },
               "opacity": 0.5,
               "type": "line",
               "x0": -1030,
               "x1": 1030,
               "y0": 500,
               "y1": 500
              },
              {
               "layer": "below",
               "line": {
                "color": "#cccc8d"
               },
               "opacity": 0.5,
               "type": "line",
               "x0": -1030,
               "x1": 1030,
               "y0": 660,
               "y1": 660
              },
              {
               "layer": "below",
               "line": {
                "color": "#ccc"
               },
               "opacity": 0.5,
               "type": "line",
               "x0": -1030,
               "x1": 1030,
               "y0": 820,
               "y1": 820
              },
              {
               "layer": "below",
               "line": {
                "color": "#ccc"
               },
               "opacity": 0.5,
               "type": "line",
               "x0": -1030,
               "x1": 1030,
               "y0": 1020,
               "y1": 1020
              }
             ]
            ],
            "label": "show layers",
            "method": "relayout"
           }
          ],
          "direction": "left",
          "pad": {
           "l": 0.1
          },
          "type": "buttons",
          "xanchor": "left",
          "y": 1.1,
          "yanchor": "top"
         },
         {
          "buttons": [
           {
            "args": [
             {
              "mode": "markers+lines"
             }
            ],
            "label": "hits+tracks",
            "method": "update"
           },
           {
            "args": [
             {
              "mode": "markers"
             }
            ],
            "label": "hits only",
            "method": "update"
           }
          ],
          "direction": "left",
          "pad": {
           "l": 200
          },
          "type": "buttons",
          "xanchor": "left",
          "y": 1.1,
          "yanchor": "top"
         },
         {
          "buttons": [
           {
            "args": [
             "yaxis.scaleanchor",
             null
            ],
            "label": "free",
            "method": "relayout"
           },
           {
            "args": [
             "yaxis.scaleanchor",
             "x"
            ],
            "label": "fixed",
            "method": "relayout"
           }
          ],
          "direction": "left",
          "pad": {
           "l": 380
          },
          "type": "buttons",
          "xanchor": "left",
          "y": 1.1,
          "yanchor": "top"
         }
        ],
        "width": 800,
        "xaxis": {
         "title": "z"
        },
        "yaxis": {
         "title": "r"
        }
       }
      },
      "text/html": [
       "<div id=\"a9309da2-ccfc-4d88-99f8-d619d219db4d\" style=\"height: 800px; width: 800px;\" class=\"plotly-graph-div\"></div><script type=\"text/javascript\">require([\"plotly\"], function(Plotly) { window.PLOTLYENV=window.PLOTLYENV || {};window.PLOTLYENV.BASE_URL=\"https://plot.ly\";Plotly.newPlot(\"a9309da2-ccfc-4d88-99f8-d619d219db4d\", [{\"hoverinfo\": \"name+text\", \"legendgroup\": \"real_unfocused\", \"line\": {\"color\": \"darkseagreen\", \"width\": 1}, \"name\": \"real_unfocused\", \"opacity\": 1, \"showlegend\": true, \"text\": [\"18246\", \"27129\"], \"x\": [-70.5503, -161.067], \"y\": [31.546282598905375, 72.95614848420934], \"type\": \"scatter\", \"uid\": \"320651e8-198f-49a2-85b8-73441fe1444d\"}, {\"hoverinfo\": \"name+text\", \"legendgroup\": \"real_unfocused\", \"line\": {\"color\": \"darkseagreen\", \"width\": 1}, \"name\": \"real_unfocused\", \"opacity\": 1, \"showlegend\": false, \"text\": [\"27129\", \"34226\"], \"x\": [-161.067, -252.93400000000003], \"y\": [72.95614848420934, 115.02006064165504], \"type\": \"scatter\", \"uid\": \"3eabadb5-e2ab-4141-8868-03df0267b4b2\"}, {\"hoverinfo\": \"name+text\", \"legendgroup\": \"real_unfocused\", \"line\": {\"color\": \"darkseagreen\", \"width\": 1}, \"name\": \"real_unfocused\", \"opacity\": 1, \"showlegend\": false, \"text\": [\"34226\", \"40268\"], \"x\": [-252.93400000000003, -376.026], \"y\": [115.02006064165504, 171.35896601578804], \"type\": \"scatter\", \"uid\": \"8e5c350e-6fcd-45dc-a5a4-2d36dc8cdd13\"}, {\"hoverinfo\": \"name+text\", \"legendgroup\": \"real_unfocused\", \"line\": {\"color\": \"darkseagreen\", \"width\": 1}, \"name\": \"real_unfocused\", \"opacity\": 1, \"showlegend\": false, \"text\": [\"40268\", \"72036\"], \"x\": [-376.026, -576.2], \"y\": [171.35896601578804, 263.0385854831949], \"type\": \"scatter\", \"uid\": \"fef98511-d194-4736-baf5-70565328ef7a\"}, {\"hoverinfo\": \"name+text\", \"legendgroup\": \"real_unfocused\", \"line\": {\"color\": \"darkseagreen\", \"width\": 1}, \"name\": \"real_unfocused\", \"opacity\": 1, \"showlegend\": false, \"text\": [\"72036\", \"78762\"], \"x\": [-576.2, -790.6], \"y\": [263.0385854831949, 360.6255076058819], \"type\": \"scatter\", \"uid\": \"766262c4-d788-4d0f-97e5-0cfc4e871da3\"}, {\"hoverinfo\": \"name+text\", \"legendgroup\": \"real_unfocused\", \"line\": {\"color\": \"darkseagreen\", \"width\": 1}, \"name\": \"real_unfocused\", \"opacity\": 1, \"showlegend\": false, \"text\": [\"23050\", \"30426\"], \"x\": [23.0524, 40.2954], \"y\": [32.02056999141177, 71.44607751100754], \"type\": \"scatter\", \"uid\": \"830a740c-d86a-4388-8da4-e9ea1dc7fa44\"}, {\"hoverinfo\": \"name+text\", \"legendgroup\": \"real_unfocused\", \"line\": {\"color\": \"darkseagreen\", \"width\": 1}, \"name\": \"real_unfocused\", \"opacity\": 1, \"showlegend\": false, \"text\": [\"30426\", \"37198\"], \"x\": [40.2954, 59.2064], \"y\": [71.44607751100754, 115.0064055732984], \"type\": \"scatter\", \"uid\": \"b8f507e2-f0c3-4071-83b4-b85a7ca77ec9\"}, {\"hoverinfo\": \"name+text\", \"legendgroup\": \"real_unfocused\", \"line\": {\"color\": \"darkseagreen\", \"width\": 1}, \"name\": \"real_unfocused\", \"opacity\": 1, \"showlegend\": false, \"text\": [\"37198\", \"44045\"], \"x\": [59.2064, 83.8711], \"y\": [115.0064055732984, 171.8463372779298], \"type\": \"scatter\", \"uid\": \"417608fc-a745-4a2a-b435-8cd956605c09\"}, {\"hoverinfo\": \"name+text\", \"legendgroup\": \"real_unfocused\", \"line\": {\"color\": \"darkseagreen\", \"width\": 1}, \"name\": \"real_unfocused\", \"opacity\": 1, \"showlegend\": false, \"text\": [\"44045\", \"75480\"], \"x\": [83.8711, 121.6], \"y\": [171.8463372779298, 258.1311722458177], \"type\": \"scatter\", \"uid\": \"131c19da-76b1-4717-b9f2-5c56d86c8924\"}, {\"hoverinfo\": \"name+text\", \"legendgroup\": \"real_unfocused\", \"line\": {\"color\": \"darkseagreen\", \"width\": 1}, \"name\": \"real_unfocused\", \"opacity\": 1, \"showlegend\": false, \"text\": [\"75480\", \"82723\"], \"x\": [121.6, 165.8], \"y\": [258.1311722458177, 360.3464031056922], \"type\": \"scatter\", \"uid\": \"6f940541-c40e-4a46-ac6f-55a91705317b\"}, {\"hoverinfo\": \"name+text\", \"legendgroup\": \"real_unfocused\", \"line\": {\"color\": \"darkseagreen\", \"width\": 1}, \"name\": \"real_unfocused\", \"opacity\": 1, \"showlegend\": false, \"text\": [\"21405\", \"30694\"], \"x\": [52.0145, 107.158], \"y\": [33.604869926734146, 73.82976240148159], \"type\": \"scatter\", \"uid\": \"ba43a62d-f123-4563-a8ee-3055a76a0cce\"}, {\"hoverinfo\": \"name+text\", \"legendgroup\": \"real_unfocused\", \"line\": {\"color\": \"darkseagreen\", \"width\": 1}, \"name\": \"real_unfocused\", \"opacity\": 1, \"showlegend\": false, \"text\": [\"30694\", \"38058\"], \"x\": [107.158, 166.491], \"y\": [73.82976240148159, 116.91123809106979], \"type\": \"scatter\", \"uid\": \"d326cfa4-a4ca-4c1c-aaeb-aa9fa38aa680\"}, {\"hoverinfo\": \"name+text\", \"legendgroup\": \"real_unfocused\", \"line\": {\"color\": \"darkseagreen\", \"width\": 1}, \"name\": \"real_unfocused\", \"opacity\": 1, \"showlegend\": false, \"text\": [\"38058\", \"44664\"], \"x\": [166.491, 243.461], \"y\": [116.91123809106979, 172.77679735471895], \"type\": \"scatter\", \"uid\": \"7b617f7c-33b4-4432-a831-e264195872d5\"}, {\"hoverinfo\": \"name+text\", \"legendgroup\": \"real_unfocused\", \"line\": {\"color\": \"darkseagreen\", \"width\": 1}, \"name\": \"real_unfocused\", \"opacity\": 1, \"showlegend\": false, \"text\": [\"44664\", \"76101\"], \"x\": [243.461, 360.6], \"y\": [172.77679735471895, 257.4177895939012], \"type\": \"scatter\", \"uid\": \"fe6e6ee9-414d-4c92-906c-0afbb64514e3\"}, {\"hoverinfo\": \"name+text\", \"legendgroup\": \"real_unfocused\", \"line\": {\"color\": \"darkseagreen\", \"width\": 1}, \"name\": \"real_unfocused\", \"opacity\": 1, \"showlegend\": false, \"text\": [\"76101\", \"83615\"], \"x\": [360.6, 502.8], \"y\": [257.4177895939012, 359.94553844991606], \"type\": \"scatter\", \"uid\": \"246c2494-ee47-4e6e-9dec-34765f0e303d\"}, {\"hoverinfo\": \"name+text\", \"legendgroup\": \"real_unfocused\", \"line\": {\"color\": \"darkseagreen\", \"width\": 1}, \"name\": \"real_unfocused\", \"opacity\": 1, \"showlegend\": false, \"text\": [\"83615\", \"90565\"], \"x\": [502.8, 698.0], \"y\": [359.94553844991606, 498.87383068175666], \"type\": \"scatter\", \"uid\": \"e33821dd-592c-444f-b8b1-72fa99abed82\"}, {\"hoverinfo\": \"name+text\", \"legendgroup\": \"real_unfocused\", \"line\": {\"color\": \"darkseagreen\", \"width\": 1}, \"name\": \"real_unfocused\", \"opacity\": 1, \"showlegend\": false, \"text\": [\"90565\", \"96738\"], \"x\": [698.0, 928.2], \"y\": [498.87383068175666, 661.1510399333877], \"type\": \"scatter\", \"uid\": \"3c473b05-e0d8-4182-9d30-5d528b5b3c8d\"}, {\"hoverinfo\": \"name+text\", \"legendgroup\": \"real_unfocused\", \"line\": {\"color\": \"darkseagreen\", \"width\": 1}, \"name\": \"real_unfocused\", \"opacity\": 1, \"showlegend\": false, \"text\": [\"75184\", \"82090\"], \"x\": [77.2, 104.8], \"y\": [262.1663236351383, 359.2111247589779], \"type\": \"scatter\", \"uid\": \"58bd68e0-0251-44c2-9df5-3276b6dfe619\"}, {\"hoverinfo\": \"name+text\", \"legendgroup\": \"real_unfocused\", \"line\": {\"color\": \"darkseagreen\", \"width\": 1}, \"name\": \"real_unfocused\", \"opacity\": 1, \"showlegend\": false, \"text\": [\"82090\", \"88632\"], \"x\": [104.8, 145.6], \"y\": [359.2111247589779, 497.29964951401286], \"type\": \"scatter\", \"uid\": \"dfe9407a-0ae6-4e96-936b-b124c9bf48bd\"}, {\"hoverinfo\": \"name+text\", \"legendgroup\": \"real_unfocused\", \"line\": {\"color\": \"darkseagreen\", \"width\": 1}, \"name\": \"real_unfocused\", \"opacity\": 1, \"showlegend\": false, \"text\": [\"88632\", \"94896\"], \"x\": [145.6, 194.6], \"y\": [497.29964951401286, 663.8058980771413], \"type\": \"scatter\", \"uid\": \"1c42fabe-97d5-4a6c-a41b-55a5357e5c29\"}, {\"hoverinfo\": \"name+text\", \"legendgroup\": \"real_unfocused\", \"line\": {\"color\": \"darkseagreen\", \"width\": 1}, \"name\": \"real_unfocused\", \"opacity\": 1, \"showlegend\": false, \"text\": [\"94896\", \"110783\"], \"x\": [194.6, 243.8], \"y\": [663.8058980771413, 822.6882381005577], \"type\": \"scatter\", \"uid\": \"aa26ad7d-d79a-4b2d-8d74-9e819fe3daea\"}, {\"hoverinfo\": \"name+text\", \"legendgroup\": \"real_unfocused\", \"line\": {\"color\": \"darkseagreen\", \"width\": 1}, \"name\": \"real_unfocused\", \"opacity\": 1, \"showlegend\": false, \"text\": [\"110783\", \"116120\"], \"x\": [243.8, 303.6], \"y\": [822.6882381005577, 1019.1596444914801], \"type\": \"scatter\", \"uid\": \"02842b24-e6fd-4a8e-a4e3-7b495f7fb742\"}, {\"hoverinfo\": \"name+text\", \"legendgroup\": \"real\", \"line\": {\"color\": \"green\", \"width\": 1}, \"name\": \"real\", \"opacity\": 1, \"showlegend\": true, \"text\": [\"20764\", \"27487\"], \"x\": [-67.8321, -145.30700000000004], \"y\": [32.157173777557006, 72.80676931336811], \"type\": \"scatter\", \"uid\": \"fbc670bf-f447-4e9b-a672-7b1778df7a98\"}, {\"hoverinfo\": \"name+text\", \"legendgroup\": \"real\", \"line\": {\"color\": \"green\", \"width\": 1}, \"name\": \"real\", \"opacity\": 1, \"showlegend\": false, \"text\": [\"27487\", \"34491\"], \"x\": [-145.30700000000004, -225.866], \"y\": [72.80676931336811, 115.05245255343321], \"type\": \"scatter\", \"uid\": \"84eada82-718d-440a-a390-8d96d2daec8d\"}, {\"hoverinfo\": \"name+text\", \"legendgroup\": \"real\", \"line\": {\"color\": \"green\", \"width\": 1}, \"name\": \"real\", \"opacity\": 1, \"showlegend\": false, \"text\": [\"34491\", \"40865\"], \"x\": [-225.866, -336.397], \"y\": [115.05245255343321, 173.0423765237868], \"type\": \"scatter\", \"uid\": \"dcac1ea2-ab52-49b0-a290-735c44c722d4\"}, {\"hoverinfo\": \"name+text\", \"legendgroup\": \"real\", \"line\": {\"color\": \"green\", \"width\": 1}, \"name\": \"real\", \"opacity\": 1, \"showlegend\": false, \"text\": [\"40865\", \"72549\"], \"x\": [-336.397, -499.4], \"y\": [173.0423765237868, 258.1986281140936], \"type\": \"scatter\", \"uid\": \"f4c9d740-b998-4b2e-bba1-c6fc168104e4\"}, {\"hoverinfo\": \"name+text\", \"legendgroup\": \"real\", \"line\": {\"color\": \"green\", \"width\": 1}, \"name\": \"real\", \"opacity\": 1, \"showlegend\": false, \"text\": [\"72549\", \"79138\"], \"x\": [-499.4, -689.8], \"y\": [258.1986281140936, 358.26621846092326], \"type\": \"scatter\", \"uid\": \"c430473b-b963-427b-99f7-b1a90dd95ee8\"}, {\"hoverinfo\": \"name+text\", \"legendgroup\": \"real\", \"line\": {\"color\": \"green\", \"width\": 1}, \"name\": \"real\", \"opacity\": 1, \"showlegend\": false, \"text\": [\"79138\", \"85537\"], \"x\": [-689.8, -955.8], \"y\": [358.26621846092326, 496.7990769969284], \"type\": \"scatter\", \"uid\": \"edfe17a4-7000-487a-80f7-be1c57cf093d\"}, {\"hoverinfo\": \"name+text\", \"legendgroup\": \"real\", \"line\": {\"color\": \"green\", \"width\": 1}, \"name\": \"real\", \"opacity\": 1, \"showlegend\": false, \"text\": [\"23536\", \"31418\"], \"x\": [41.7502, 99.58], \"y\": [32.49714414606305, 72.54064560265508], \"type\": \"scatter\", \"uid\": \"54b7a6ad-1989-447c-82fb-eead5c89fe45\"}, {\"hoverinfo\": \"name+text\", \"legendgroup\": \"real\", \"line\": {\"color\": \"green\", \"width\": 1}, \"name\": \"real\", \"opacity\": 1, \"showlegend\": false, \"text\": [\"31418\", \"38524\"], \"x\": [99.58, 162.741], \"y\": [72.54064560265508, 116.24458425703108], \"type\": \"scatter\", \"uid\": \"c65bbc36-f1bf-4b3e-9987-bc5c16291e73\"}, {\"hoverinfo\": \"name+text\", \"legendgroup\": \"real\", \"line\": {\"color\": \"green\", \"width\": 1}, \"name\": \"real\", \"opacity\": 1, \"showlegend\": false, \"text\": [\"38524\", \"45067\"], \"x\": [162.741, 243.228], \"y\": [116.24458425703108, 171.77085511020198], \"type\": \"scatter\", \"uid\": \"762ea208-cc47-4778-a8ec-59017faf0fae\"}, {\"hoverinfo\": \"name+text\", \"legendgroup\": \"real\", \"line\": {\"color\": \"green\", \"width\": 1}, \"name\": \"real\", \"opacity\": 1, \"showlegend\": false, \"text\": [\"45067\", \"76902\"], \"x\": [243.228, 375.4], \"y\": [171.77085511020198, 262.9168818890107], \"type\": \"scatter\", \"uid\": \"23fe722d-ca0c-480d-ac1e-4041f9bf300c\"}, {\"hoverinfo\": \"name+text\", \"legendgroup\": \"real\", \"line\": {\"color\": \"green\", \"width\": 1}, \"name\": \"real\", \"opacity\": 1, \"showlegend\": false, \"text\": [\"76902\", \"83944\"], \"x\": [375.4, 515.6], \"y\": [262.9168818890107, 359.1660073517537], \"type\": \"scatter\", \"uid\": \"82ea1bcb-808d-49c3-a1a8-137a84957a43\"}, {\"hoverinfo\": \"name+text\", \"legendgroup\": \"real\", \"line\": {\"color\": \"green\", \"width\": 1}, \"name\": \"real\", \"opacity\": 1, \"showlegend\": false, \"text\": [\"83944\", \"90803\"], \"x\": [515.6, 722.2], \"y\": [359.1660073517537, 501.1282595952857], \"type\": \"scatter\", \"uid\": \"d40ee436-2691-4cf5-b5ea-d98aa354ce50\"}, {\"hoverinfo\": \"name+text\", \"legendgroup\": \"real\", \"line\": {\"color\": \"green\", \"width\": 1}, \"name\": \"real\", \"opacity\": 1, \"showlegend\": false, \"text\": [\"90803\", \"96934\"], \"x\": [722.2, 956.0], \"y\": [501.1282595952857, 660.1841830580312], \"type\": \"scatter\", \"uid\": \"f56c38aa-50cc-4f9d-9005-24c73e2684f1\"}, {\"hoverinfo\": \"name+text\", \"legendgroup\": \"real\", \"line\": {\"color\": \"green\", \"width\": 1}, \"name\": \"real\", \"opacity\": 1, \"showlegend\": false, \"text\": [\"20262\", \"28058\"], \"x\": [-43.7904, -94.3151], \"y\": [32.562200789221855, 71.42720770825427], \"type\": \"scatter\", \"uid\": \"8f6a67d0-cbe7-47e9-93b1-2fe186a9adac\"}, {\"hoverinfo\": \"name+text\", \"legendgroup\": \"real\", \"line\": {\"color\": \"green\", \"width\": 1}, \"name\": \"real\", \"opacity\": 1, \"showlegend\": false, \"text\": [\"28058\", \"34877\"], \"x\": [-94.3151, -151.393], \"y\": [71.42720770825427, 115.4017704365492], \"type\": \"scatter\", \"uid\": \"bb025eb6-fc8c-4eb5-84a4-6bed589f29f7\"}, {\"hoverinfo\": \"name+text\", \"legendgroup\": \"real\", \"line\": {\"color\": \"green\", \"width\": 1}, \"name\": \"real\", \"opacity\": 1, \"showlegend\": false, \"text\": [\"34877\", \"41146\"], \"x\": [-151.393, -224.485], \"y\": [115.4017704365492, 171.697933181183], \"type\": \"scatter\", \"uid\": \"dbf9f551-b490-4d15-8ecb-25ec4544b2b7\"}, {\"hoverinfo\": \"name+text\", \"legendgroup\": \"real\", \"line\": {\"color\": \"green\", \"width\": 1}, \"name\": \"real\", \"opacity\": 1, \"showlegend\": false, \"text\": [\"41146\", \"73201\"], \"x\": [-224.485, -339.0], \"y\": [171.697933181183, 259.9772582081748], \"type\": \"scatter\", \"uid\": \"853d0cab-70d7-41fe-8373-a71d73f1a7e8\"}, {\"hoverinfo\": \"name+text\", \"legendgroup\": \"real\", \"line\": {\"color\": \"green\", \"width\": 1}, \"name\": \"real\", \"opacity\": 1, \"showlegend\": false, \"text\": [\"73201\", \"79641\"], \"x\": [-339.0, -470.6], \"y\": [259.9772582081748, 361.27022166795035], \"type\": \"scatter\", \"uid\": \"3b786666-8b3d-4ca9-ba17-938b4a9c8409\"}, {\"hoverinfo\": \"name+text\", \"legendgroup\": \"real\", \"line\": {\"color\": \"green\", \"width\": 1}, \"name\": \"real\", \"opacity\": 1, \"showlegend\": false, \"text\": [\"79641\", \"86195\"], \"x\": [-470.6, -657.6], \"y\": [361.27022166795035, 505.25758938962014], \"type\": \"scatter\", \"uid\": \"01f6ff09-834e-4c10-8303-09b145fc9eb6\"}, {\"hoverinfo\": \"name+text\", \"legendgroup\": \"real\", \"line\": {\"color\": \"green\", \"width\": 1}, \"name\": \"real\", \"opacity\": 1, \"showlegend\": false, \"text\": [\"86195\", \"91955\"], \"x\": [-657.6, -865.4], \"y\": [505.25758938962014, 665.3054220029776], \"type\": \"scatter\", \"uid\": \"7c9676d8-abfb-4d5d-a5e5-1fb3dedf958c\"}, {\"hoverinfo\": \"name+text\", \"legendgroup\": \"real\", \"line\": {\"color\": \"green\", \"width\": 1}, \"name\": \"real\", \"opacity\": 1, \"showlegend\": false, \"text\": [\"91955\", \"107743\"], \"x\": [-865.4, -1067.8], \"y\": [665.3054220029776, 824.2035973873507], \"type\": \"scatter\", \"uid\": \"c940cec1-c485-42b6-a080-7a21959a6fa5\"}, {\"hoverinfo\": \"name+text\", \"legendgroup\": \"real\", \"line\": {\"color\": \"green\", \"width\": 1}, \"name\": \"real\", \"opacity\": 1, \"showlegend\": false, \"text\": [\"19698\", \"27827\"], \"x\": [-43.6337, -86.1783], \"y\": [32.02264014494901, 72.07849176870727], \"type\": \"scatter\", \"uid\": \"c1bfc163-fddc-4002-b736-7328cccf8515\"}, {\"hoverinfo\": \"name+text\", \"legendgroup\": \"real\", \"line\": {\"color\": \"green\", \"width\": 1}, \"name\": \"real\", \"opacity\": 1, \"showlegend\": false, \"text\": [\"27827\", \"35259\"], \"x\": [-86.1783, -131.795], \"y\": [72.07849176870727, 115.01274730202735], \"type\": \"scatter\", \"uid\": \"6efee41c-70ce-4a2a-9d04-8ac8b164cc64\"}, {\"hoverinfo\": \"name+text\", \"legendgroup\": \"real\", \"line\": {\"color\": \"green\", \"width\": 1}, \"name\": \"real\", \"opacity\": 1, \"showlegend\": false, \"text\": [\"35259\", \"41464\"], \"x\": [-131.795, -191.758], \"y\": [115.01274730202735, 171.40195078204334], \"type\": \"scatter\", \"uid\": \"ac432d4f-add0-48ff-9c43-78d6c4d3f7b4\"}, {\"hoverinfo\": \"name+text\", \"legendgroup\": \"real\", \"line\": {\"color\": \"green\", \"width\": 1}, \"name\": \"real\", \"opacity\": 1, \"showlegend\": false, \"text\": [\"41464\", \"73085\"], \"x\": [-191.758, -283.2], \"y\": [171.40195078204334, 257.30068278183796], \"type\": \"scatter\", \"uid\": \"cd482f35-863b-4c37-99d1-101c45f86c33\"}, {\"hoverinfo\": \"name+text\", \"legendgroup\": \"real\", \"line\": {\"color\": \"green\", \"width\": 1}, \"name\": \"real\", \"opacity\": 1, \"showlegend\": false, \"text\": [\"73085\", \"79880\"], \"x\": [-283.2, -398.2], \"y\": [257.30068278183796, 365.71411330334246], \"type\": \"scatter\", \"uid\": \"d11049ae-3e2b-4fc3-8e94-6feb38454557\"}, {\"hoverinfo\": \"name+text\", \"legendgroup\": \"real\", \"line\": {\"color\": \"green\", \"width\": 1}, \"name\": \"real\", \"opacity\": 1, \"showlegend\": false, \"text\": [\"79880\", \"86402\"], \"x\": [-398.2, -538.4], \"y\": [365.71411330334246, 497.4495544242049], \"type\": \"scatter\", \"uid\": \"155ed0c4-9230-46d7-bb8e-ca180004b618\"}, {\"hoverinfo\": \"name+text\", \"legendgroup\": \"real\", \"line\": {\"color\": \"green\", \"width\": 1}, \"name\": \"real\", \"opacity\": 1, \"showlegend\": false, \"text\": [\"86402\", \"92130\"], \"x\": [-538.4, -707.2], \"y\": [497.4495544242049, 656.5191725472228], \"type\": \"scatter\", \"uid\": \"0bfbcb5e-e703-40c4-b33b-7538f317b82f\"}, {\"hoverinfo\": \"name+text\", \"legendgroup\": \"real\", \"line\": {\"color\": \"green\", \"width\": 1}, \"name\": \"real\", \"opacity\": 1, \"showlegend\": false, \"text\": [\"92130\", \"107883\"], \"x\": [-707.2, -878.4], \"y\": [656.5191725472228, 819.5081131930848], \"type\": \"scatter\", \"uid\": \"3c6abb6c-7474-4c39-990e-7518726b304b\"}, {\"hoverinfo\": \"name+text\", \"legendgroup\": \"real\", \"line\": {\"color\": \"green\", \"width\": 1}, \"name\": \"real\", \"opacity\": 1, \"showlegend\": false, \"text\": [\"21265\", \"29504\"], \"x\": [-24.6702, -46.6699], \"y\": [32.23509056485029, 71.61236113102264], \"type\": \"scatter\", \"uid\": \"a2fce7e9-e5aa-43e0-ac84-6f59a595e6ca\"}, {\"hoverinfo\": \"name+text\", \"legendgroup\": \"real\", \"line\": {\"color\": \"green\", \"width\": 1}, \"name\": \"real\", \"opacity\": 1, \"showlegend\": false, \"text\": [\"29504\", \"42350\"], \"x\": [-46.6699, -102.632], \"y\": [71.61236113102264, 172.0437815826251], \"type\": \"scatter\", \"uid\": \"e9e5b172-d81d-4e9c-83f9-1c1d6af3433d\"}, {\"hoverinfo\": \"name+text\", \"legendgroup\": \"real\", \"line\": {\"color\": \"green\", \"width\": 1}, \"name\": \"real\", \"opacity\": 1, \"showlegend\": false, \"text\": [\"42350\", \"73830\"], \"x\": [-102.632, -152.6], \"y\": [172.0437815826251, 261.85823478523645], \"type\": \"scatter\", \"uid\": \"35b2800f-e52c-4f2b-a9c0-4556e8239b09\"}, {\"hoverinfo\": \"name+text\", \"legendgroup\": \"real\", \"line\": {\"color\": \"green\", \"width\": 1}, \"name\": \"real\", \"opacity\": 1, \"showlegend\": false, \"text\": [\"73830\", \"80933\"], \"x\": [-152.6, -209.6], \"y\": [261.85823478523645, 363.8873098444215], \"type\": \"scatter\", \"uid\": \"db353e9a-f702-457e-b139-126b62346480\"}, {\"hoverinfo\": \"name+text\", \"legendgroup\": \"real\", \"line\": {\"color\": \"green\", \"width\": 1}, \"name\": \"real\", \"opacity\": 1, \"showlegend\": false, \"text\": [\"80933\", \"87292\"], \"x\": [-209.6, -285.6], \"y\": [363.8873098444215, 500.04019567330784], \"type\": \"scatter\", \"uid\": \"cf8dab36-7e80-4cb9-9543-b766b35e77fa\"}, {\"hoverinfo\": \"name+text\", \"legendgroup\": \"real\", \"line\": {\"color\": \"green\", \"width\": 1}, \"name\": \"real\", \"opacity\": 1, \"showlegend\": false, \"text\": [\"87292\", \"93165\"], \"x\": [-285.6, -375.4], \"y\": [500.04019567330784, 660.5030028046807], \"type\": \"scatter\", \"uid\": \"21549852-2bf4-425f-aff4-8d34f421b84d\"}, {\"hoverinfo\": \"name+text\", \"legendgroup\": \"real\", \"line\": {\"color\": \"green\", \"width\": 1}, \"name\": \"real\", \"opacity\": 1, \"showlegend\": false, \"text\": [\"93165\", \"109022\"], \"x\": [-375.4, -466.4], \"y\": [660.5030028046807, 822.2639974959379], \"type\": \"scatter\", \"uid\": \"39b8ed5e-69f6-4d58-8b14-534c73ab123c\"}, {\"hoverinfo\": \"name+text\", \"legendgroup\": \"real\", \"line\": {\"color\": \"green\", \"width\": 1}, \"name\": \"real\", \"opacity\": 1, \"showlegend\": false, \"text\": [\"109022\", \"114036\"], \"x\": [-466.4, -580.2], \"y\": [822.2639974959379, 1022.6908959079474], \"type\": \"scatter\", \"uid\": \"a75fbb35-a208-4af3-a981-5ed9a515e5f1\"}], {\"height\": 800, \"hovermode\": \"closest\", \"showlegend\": true, \"updatemenus\": [{\"buttons\": [{\"args\": [\"shapes\", []], \"label\": \"hide layers\", \"method\": \"relayout\"}, {\"args\": [\"shapes\", [{\"type\": \"line\", \"x0\": -455, \"x1\": 455, \"y0\": 32, \"y1\": 32, \"opacity\": 0.5, \"layer\": \"below\", \"line\": {\"color\": \"#ccc\"}}, {\"type\": \"line\", \"x0\": -455, \"x1\": 455, \"y0\": 72, \"y1\": 72, \"opacity\": 0.5, \"layer\": \"below\", \"line\": {\"color\": \"#ccc\"}}, {\"type\": \"line\", \"x0\": -455, \"x1\": 455, \"y0\": 116, \"y1\": 116, \"opacity\": 0.5, \"layer\": \"below\", \"line\": {\"color\": \"#ccc\"}}, {\"type\": \"line\", \"x0\": -455, \"x1\": 455, \"y0\": 172, \"y1\": 172, \"opacity\": 0.5, \"layer\": \"below\", \"line\": {\"color\": \"#ccc\"}}, {\"type\": \"line\", \"x0\": -1030, \"x1\": 1030, \"y0\": 260, \"y1\": 260, \"opacity\": 0.5, \"layer\": \"below\", \"line\": {\"color\": \"#cccc8d\"}}, {\"type\": \"line\", \"x0\": -1030, \"x1\": 1030, \"y0\": 360, \"y1\": 360, \"opacity\": 0.5, \"layer\": \"below\", \"line\": {\"color\": \"#cccc8d\"}}, {\"type\": \"line\", \"x0\": -1030, \"x1\": 1030, \"y0\": 500, \"y1\": 500, \"opacity\": 0.5, \"layer\": \"below\", \"line\": {\"color\": \"#cccc8d\"}}, {\"type\": \"line\", \"x0\": -1030, \"x1\": 1030, \"y0\": 660, \"y1\": 660, \"opacity\": 0.5, \"layer\": \"below\", \"line\": {\"color\": \"#cccc8d\"}}, {\"type\": \"line\", \"x0\": -1030, \"x1\": 1030, \"y0\": 820, \"y1\": 820, \"opacity\": 0.5, \"layer\": \"below\", \"line\": {\"color\": \"#ccc\"}}, {\"type\": \"line\", \"x0\": -1030, \"x1\": 1030, \"y0\": 1020, \"y1\": 1020, \"opacity\": 0.5, \"layer\": \"below\", \"line\": {\"color\": \"#ccc\"}}]], \"label\": \"show layers\", \"method\": \"relayout\"}], \"direction\": \"left\", \"pad\": {\"l\": 0.1}, \"type\": \"buttons\", \"xanchor\": \"left\", \"y\": 1.1, \"yanchor\": \"top\"}, {\"buttons\": [{\"args\": [{\"mode\": \"markers+lines\"}], \"label\": \"hits+tracks\", \"method\": \"update\"}, {\"args\": [{\"mode\": \"markers\"}], \"label\": \"hits only\", \"method\": \"update\"}], \"direction\": \"left\", \"pad\": {\"l\": 200}, \"type\": \"buttons\", \"xanchor\": \"left\", \"y\": 1.1, \"yanchor\": \"top\"}, {\"buttons\": [{\"args\": [\"yaxis.scaleanchor\", null], \"label\": \"free\", \"method\": \"relayout\"}, {\"args\": [\"yaxis.scaleanchor\", \"x\"], \"label\": \"fixed\", \"method\": \"relayout\"}], \"direction\": \"left\", \"pad\": {\"l\": 380}, \"type\": \"buttons\", \"xanchor\": \"left\", \"y\": 1.1, \"yanchor\": \"top\"}], \"width\": 800, \"xaxis\": {\"title\": \"z\"}, \"yaxis\": {\"title\": \"r\"}}, {\"showLink\": true, \"linkText\": \"Export to plot.ly\", \"plotlyServerURL\": \"https://plot.ly\"})});</script>"
      ],
      "text/vnd.plotly.v1+html": [
       "<div id=\"a9309da2-ccfc-4d88-99f8-d619d219db4d\" style=\"height: 800px; width: 800px;\" class=\"plotly-graph-div\"></div><script type=\"text/javascript\">require([\"plotly\"], function(Plotly) { window.PLOTLYENV=window.PLOTLYENV || {};window.PLOTLYENV.BASE_URL=\"https://plot.ly\";Plotly.newPlot(\"a9309da2-ccfc-4d88-99f8-d619d219db4d\", [{\"hoverinfo\": \"name+text\", \"legendgroup\": \"real_unfocused\", \"line\": {\"color\": \"darkseagreen\", \"width\": 1}, \"name\": \"real_unfocused\", \"opacity\": 1, \"showlegend\": true, \"text\": [\"18246\", \"27129\"], \"x\": [-70.5503, -161.067], \"y\": [31.546282598905375, 72.95614848420934], \"type\": \"scatter\", \"uid\": \"320651e8-198f-49a2-85b8-73441fe1444d\"}, {\"hoverinfo\": \"name+text\", \"legendgroup\": \"real_unfocused\", \"line\": {\"color\": \"darkseagreen\", \"width\": 1}, \"name\": \"real_unfocused\", \"opacity\": 1, \"showlegend\": false, \"text\": [\"27129\", \"34226\"], \"x\": [-161.067, -252.93400000000003], \"y\": [72.95614848420934, 115.02006064165504], \"type\": \"scatter\", \"uid\": \"3eabadb5-e2ab-4141-8868-03df0267b4b2\"}, {\"hoverinfo\": \"name+text\", \"legendgroup\": \"real_unfocused\", \"line\": {\"color\": \"darkseagreen\", \"width\": 1}, \"name\": \"real_unfocused\", \"opacity\": 1, \"showlegend\": false, \"text\": [\"34226\", \"40268\"], \"x\": [-252.93400000000003, -376.026], \"y\": [115.02006064165504, 171.35896601578804], \"type\": \"scatter\", \"uid\": \"8e5c350e-6fcd-45dc-a5a4-2d36dc8cdd13\"}, {\"hoverinfo\": \"name+text\", \"legendgroup\": \"real_unfocused\", \"line\": {\"color\": \"darkseagreen\", \"width\": 1}, \"name\": \"real_unfocused\", \"opacity\": 1, \"showlegend\": false, \"text\": [\"40268\", \"72036\"], \"x\": [-376.026, -576.2], \"y\": [171.35896601578804, 263.0385854831949], \"type\": \"scatter\", \"uid\": \"fef98511-d194-4736-baf5-70565328ef7a\"}, {\"hoverinfo\": \"name+text\", \"legendgroup\": \"real_unfocused\", \"line\": {\"color\": \"darkseagreen\", \"width\": 1}, \"name\": \"real_unfocused\", \"opacity\": 1, \"showlegend\": false, \"text\": [\"72036\", \"78762\"], \"x\": [-576.2, -790.6], \"y\": [263.0385854831949, 360.6255076058819], \"type\": \"scatter\", \"uid\": \"766262c4-d788-4d0f-97e5-0cfc4e871da3\"}, {\"hoverinfo\": \"name+text\", \"legendgroup\": \"real_unfocused\", \"line\": {\"color\": \"darkseagreen\", \"width\": 1}, \"name\": \"real_unfocused\", \"opacity\": 1, \"showlegend\": false, \"text\": [\"23050\", \"30426\"], \"x\": [23.0524, 40.2954], \"y\": [32.02056999141177, 71.44607751100754], \"type\": \"scatter\", \"uid\": \"830a740c-d86a-4388-8da4-e9ea1dc7fa44\"}, {\"hoverinfo\": \"name+text\", \"legendgroup\": \"real_unfocused\", \"line\": {\"color\": \"darkseagreen\", \"width\": 1}, \"name\": \"real_unfocused\", \"opacity\": 1, \"showlegend\": false, \"text\": [\"30426\", \"37198\"], \"x\": [40.2954, 59.2064], \"y\": [71.44607751100754, 115.0064055732984], \"type\": \"scatter\", \"uid\": \"b8f507e2-f0c3-4071-83b4-b85a7ca77ec9\"}, {\"hoverinfo\": \"name+text\", \"legendgroup\": \"real_unfocused\", \"line\": {\"color\": \"darkseagreen\", \"width\": 1}, \"name\": \"real_unfocused\", \"opacity\": 1, \"showlegend\": false, \"text\": [\"37198\", \"44045\"], \"x\": [59.2064, 83.8711], \"y\": [115.0064055732984, 171.8463372779298], \"type\": \"scatter\", \"uid\": \"417608fc-a745-4a2a-b435-8cd956605c09\"}, {\"hoverinfo\": \"name+text\", \"legendgroup\": \"real_unfocused\", \"line\": {\"color\": \"darkseagreen\", \"width\": 1}, \"name\": \"real_unfocused\", \"opacity\": 1, \"showlegend\": false, \"text\": [\"44045\", \"75480\"], \"x\": [83.8711, 121.6], \"y\": [171.8463372779298, 258.1311722458177], \"type\": \"scatter\", \"uid\": \"131c19da-76b1-4717-b9f2-5c56d86c8924\"}, {\"hoverinfo\": \"name+text\", \"legendgroup\": \"real_unfocused\", \"line\": {\"color\": \"darkseagreen\", \"width\": 1}, \"name\": \"real_unfocused\", \"opacity\": 1, \"showlegend\": false, \"text\": [\"75480\", \"82723\"], \"x\": [121.6, 165.8], \"y\": [258.1311722458177, 360.3464031056922], \"type\": \"scatter\", \"uid\": \"6f940541-c40e-4a46-ac6f-55a91705317b\"}, {\"hoverinfo\": \"name+text\", \"legendgroup\": \"real_unfocused\", \"line\": {\"color\": \"darkseagreen\", \"width\": 1}, \"name\": \"real_unfocused\", \"opacity\": 1, \"showlegend\": false, \"text\": [\"21405\", \"30694\"], \"x\": [52.0145, 107.158], \"y\": [33.604869926734146, 73.82976240148159], \"type\": \"scatter\", \"uid\": \"ba43a62d-f123-4563-a8ee-3055a76a0cce\"}, {\"hoverinfo\": \"name+text\", \"legendgroup\": \"real_unfocused\", \"line\": {\"color\": \"darkseagreen\", \"width\": 1}, \"name\": \"real_unfocused\", \"opacity\": 1, \"showlegend\": false, \"text\": [\"30694\", \"38058\"], \"x\": [107.158, 166.491], \"y\": [73.82976240148159, 116.91123809106979], \"type\": \"scatter\", \"uid\": \"d326cfa4-a4ca-4c1c-aaeb-aa9fa38aa680\"}, {\"hoverinfo\": \"name+text\", \"legendgroup\": \"real_unfocused\", \"line\": {\"color\": \"darkseagreen\", \"width\": 1}, \"name\": \"real_unfocused\", \"opacity\": 1, \"showlegend\": false, \"text\": [\"38058\", \"44664\"], \"x\": [166.491, 243.461], \"y\": [116.91123809106979, 172.77679735471895], \"type\": \"scatter\", \"uid\": \"7b617f7c-33b4-4432-a831-e264195872d5\"}, {\"hoverinfo\": \"name+text\", \"legendgroup\": \"real_unfocused\", \"line\": {\"color\": \"darkseagreen\", \"width\": 1}, \"name\": \"real_unfocused\", \"opacity\": 1, \"showlegend\": false, \"text\": [\"44664\", \"76101\"], \"x\": [243.461, 360.6], \"y\": [172.77679735471895, 257.4177895939012], \"type\": \"scatter\", \"uid\": \"fe6e6ee9-414d-4c92-906c-0afbb64514e3\"}, {\"hoverinfo\": \"name+text\", \"legendgroup\": \"real_unfocused\", \"line\": {\"color\": \"darkseagreen\", \"width\": 1}, \"name\": \"real_unfocused\", \"opacity\": 1, \"showlegend\": false, \"text\": [\"76101\", \"83615\"], \"x\": [360.6, 502.8], \"y\": [257.4177895939012, 359.94553844991606], \"type\": \"scatter\", \"uid\": \"246c2494-ee47-4e6e-9dec-34765f0e303d\"}, {\"hoverinfo\": \"name+text\", \"legendgroup\": \"real_unfocused\", \"line\": {\"color\": \"darkseagreen\", \"width\": 1}, \"name\": \"real_unfocused\", \"opacity\": 1, \"showlegend\": false, \"text\": [\"83615\", \"90565\"], \"x\": [502.8, 698.0], \"y\": [359.94553844991606, 498.87383068175666], \"type\": \"scatter\", \"uid\": \"e33821dd-592c-444f-b8b1-72fa99abed82\"}, {\"hoverinfo\": \"name+text\", \"legendgroup\": \"real_unfocused\", \"line\": {\"color\": \"darkseagreen\", \"width\": 1}, \"name\": \"real_unfocused\", \"opacity\": 1, \"showlegend\": false, \"text\": [\"90565\", \"96738\"], \"x\": [698.0, 928.2], \"y\": [498.87383068175666, 661.1510399333877], \"type\": \"scatter\", \"uid\": \"3c473b05-e0d8-4182-9d30-5d528b5b3c8d\"}, {\"hoverinfo\": \"name+text\", \"legendgroup\": \"real_unfocused\", \"line\": {\"color\": \"darkseagreen\", \"width\": 1}, \"name\": \"real_unfocused\", \"opacity\": 1, \"showlegend\": false, \"text\": [\"75184\", \"82090\"], \"x\": [77.2, 104.8], \"y\": [262.1663236351383, 359.2111247589779], \"type\": \"scatter\", \"uid\": \"58bd68e0-0251-44c2-9df5-3276b6dfe619\"}, {\"hoverinfo\": \"name+text\", \"legendgroup\": \"real_unfocused\", \"line\": {\"color\": \"darkseagreen\", \"width\": 1}, \"name\": \"real_unfocused\", \"opacity\": 1, \"showlegend\": false, \"text\": [\"82090\", \"88632\"], \"x\": [104.8, 145.6], \"y\": [359.2111247589779, 497.29964951401286], \"type\": \"scatter\", \"uid\": \"dfe9407a-0ae6-4e96-936b-b124c9bf48bd\"}, {\"hoverinfo\": \"name+text\", \"legendgroup\": \"real_unfocused\", \"line\": {\"color\": \"darkseagreen\", \"width\": 1}, \"name\": \"real_unfocused\", \"opacity\": 1, \"showlegend\": false, \"text\": [\"88632\", \"94896\"], \"x\": [145.6, 194.6], \"y\": [497.29964951401286, 663.8058980771413], \"type\": \"scatter\", \"uid\": \"1c42fabe-97d5-4a6c-a41b-55a5357e5c29\"}, {\"hoverinfo\": \"name+text\", \"legendgroup\": \"real_unfocused\", \"line\": {\"color\": \"darkseagreen\", \"width\": 1}, \"name\": \"real_unfocused\", \"opacity\": 1, \"showlegend\": false, \"text\": [\"94896\", \"110783\"], \"x\": [194.6, 243.8], \"y\": [663.8058980771413, 822.6882381005577], \"type\": \"scatter\", \"uid\": \"aa26ad7d-d79a-4b2d-8d74-9e819fe3daea\"}, {\"hoverinfo\": \"name+text\", \"legendgroup\": \"real_unfocused\", \"line\": {\"color\": \"darkseagreen\", \"width\": 1}, \"name\": \"real_unfocused\", \"opacity\": 1, \"showlegend\": false, \"text\": [\"110783\", \"116120\"], \"x\": [243.8, 303.6], \"y\": [822.6882381005577, 1019.1596444914801], \"type\": \"scatter\", \"uid\": \"02842b24-e6fd-4a8e-a4e3-7b495f7fb742\"}, {\"hoverinfo\": \"name+text\", \"legendgroup\": \"real\", \"line\": {\"color\": \"green\", \"width\": 1}, \"name\": \"real\", \"opacity\": 1, \"showlegend\": true, \"text\": [\"20764\", \"27487\"], \"x\": [-67.8321, -145.30700000000004], \"y\": [32.157173777557006, 72.80676931336811], \"type\": \"scatter\", \"uid\": \"fbc670bf-f447-4e9b-a672-7b1778df7a98\"}, {\"hoverinfo\": \"name+text\", \"legendgroup\": \"real\", \"line\": {\"color\": \"green\", \"width\": 1}, \"name\": \"real\", \"opacity\": 1, \"showlegend\": false, \"text\": [\"27487\", \"34491\"], \"x\": [-145.30700000000004, -225.866], \"y\": [72.80676931336811, 115.05245255343321], \"type\": \"scatter\", \"uid\": \"84eada82-718d-440a-a390-8d96d2daec8d\"}, {\"hoverinfo\": \"name+text\", \"legendgroup\": \"real\", \"line\": {\"color\": \"green\", \"width\": 1}, \"name\": \"real\", \"opacity\": 1, \"showlegend\": false, \"text\": [\"34491\", \"40865\"], \"x\": [-225.866, -336.397], \"y\": [115.05245255343321, 173.0423765237868], \"type\": \"scatter\", \"uid\": \"dcac1ea2-ab52-49b0-a290-735c44c722d4\"}, {\"hoverinfo\": \"name+text\", \"legendgroup\": \"real\", \"line\": {\"color\": \"green\", \"width\": 1}, \"name\": \"real\", \"opacity\": 1, \"showlegend\": false, \"text\": [\"40865\", \"72549\"], \"x\": [-336.397, -499.4], \"y\": [173.0423765237868, 258.1986281140936], \"type\": \"scatter\", \"uid\": \"f4c9d740-b998-4b2e-bba1-c6fc168104e4\"}, {\"hoverinfo\": \"name+text\", \"legendgroup\": \"real\", \"line\": {\"color\": \"green\", \"width\": 1}, \"name\": \"real\", \"opacity\": 1, \"showlegend\": false, \"text\": [\"72549\", \"79138\"], \"x\": [-499.4, -689.8], \"y\": [258.1986281140936, 358.26621846092326], \"type\": \"scatter\", \"uid\": \"c430473b-b963-427b-99f7-b1a90dd95ee8\"}, {\"hoverinfo\": \"name+text\", \"legendgroup\": \"real\", \"line\": {\"color\": \"green\", \"width\": 1}, \"name\": \"real\", \"opacity\": 1, \"showlegend\": false, \"text\": [\"79138\", \"85537\"], \"x\": [-689.8, -955.8], \"y\": [358.26621846092326, 496.7990769969284], \"type\": \"scatter\", \"uid\": \"edfe17a4-7000-487a-80f7-be1c57cf093d\"}, {\"hoverinfo\": \"name+text\", \"legendgroup\": \"real\", \"line\": {\"color\": \"green\", \"width\": 1}, \"name\": \"real\", \"opacity\": 1, \"showlegend\": false, \"text\": [\"23536\", \"31418\"], \"x\": [41.7502, 99.58], \"y\": [32.49714414606305, 72.54064560265508], \"type\": \"scatter\", \"uid\": \"54b7a6ad-1989-447c-82fb-eead5c89fe45\"}, {\"hoverinfo\": \"name+text\", \"legendgroup\": \"real\", \"line\": {\"color\": \"green\", \"width\": 1}, \"name\": \"real\", \"opacity\": 1, \"showlegend\": false, \"text\": [\"31418\", \"38524\"], \"x\": [99.58, 162.741], \"y\": [72.54064560265508, 116.24458425703108], \"type\": \"scatter\", \"uid\": \"c65bbc36-f1bf-4b3e-9987-bc5c16291e73\"}, {\"hoverinfo\": \"name+text\", \"legendgroup\": \"real\", \"line\": {\"color\": \"green\", \"width\": 1}, \"name\": \"real\", \"opacity\": 1, \"showlegend\": false, \"text\": [\"38524\", \"45067\"], \"x\": [162.741, 243.228], \"y\": [116.24458425703108, 171.77085511020198], \"type\": \"scatter\", \"uid\": \"762ea208-cc47-4778-a8ec-59017faf0fae\"}, {\"hoverinfo\": \"name+text\", \"legendgroup\": \"real\", \"line\": {\"color\": \"green\", \"width\": 1}, \"name\": \"real\", \"opacity\": 1, \"showlegend\": false, \"text\": [\"45067\", \"76902\"], \"x\": [243.228, 375.4], \"y\": [171.77085511020198, 262.9168818890107], \"type\": \"scatter\", \"uid\": \"23fe722d-ca0c-480d-ac1e-4041f9bf300c\"}, {\"hoverinfo\": \"name+text\", \"legendgroup\": \"real\", \"line\": {\"color\": \"green\", \"width\": 1}, \"name\": \"real\", \"opacity\": 1, \"showlegend\": false, \"text\": [\"76902\", \"83944\"], \"x\": [375.4, 515.6], \"y\": [262.9168818890107, 359.1660073517537], \"type\": \"scatter\", \"uid\": \"82ea1bcb-808d-49c3-a1a8-137a84957a43\"}, {\"hoverinfo\": \"name+text\", \"legendgroup\": \"real\", \"line\": {\"color\": \"green\", \"width\": 1}, \"name\": \"real\", \"opacity\": 1, \"showlegend\": false, \"text\": [\"83944\", \"90803\"], \"x\": [515.6, 722.2], \"y\": [359.1660073517537, 501.1282595952857], \"type\": \"scatter\", \"uid\": \"d40ee436-2691-4cf5-b5ea-d98aa354ce50\"}, {\"hoverinfo\": \"name+text\", \"legendgroup\": \"real\", \"line\": {\"color\": \"green\", \"width\": 1}, \"name\": \"real\", \"opacity\": 1, \"showlegend\": false, \"text\": [\"90803\", \"96934\"], \"x\": [722.2, 956.0], \"y\": [501.1282595952857, 660.1841830580312], \"type\": \"scatter\", \"uid\": \"f56c38aa-50cc-4f9d-9005-24c73e2684f1\"}, {\"hoverinfo\": \"name+text\", \"legendgroup\": \"real\", \"line\": {\"color\": \"green\", \"width\": 1}, \"name\": \"real\", \"opacity\": 1, \"showlegend\": false, \"text\": [\"20262\", \"28058\"], \"x\": [-43.7904, -94.3151], \"y\": [32.562200789221855, 71.42720770825427], \"type\": \"scatter\", \"uid\": \"8f6a67d0-cbe7-47e9-93b1-2fe186a9adac\"}, {\"hoverinfo\": \"name+text\", \"legendgroup\": \"real\", \"line\": {\"color\": \"green\", \"width\": 1}, \"name\": \"real\", \"opacity\": 1, \"showlegend\": false, \"text\": [\"28058\", \"34877\"], \"x\": [-94.3151, -151.393], \"y\": [71.42720770825427, 115.4017704365492], \"type\": \"scatter\", \"uid\": \"bb025eb6-fc8c-4eb5-84a4-6bed589f29f7\"}, {\"hoverinfo\": \"name+text\", \"legendgroup\": \"real\", \"line\": {\"color\": \"green\", \"width\": 1}, \"name\": \"real\", \"opacity\": 1, \"showlegend\": false, \"text\": [\"34877\", \"41146\"], \"x\": [-151.393, -224.485], \"y\": [115.4017704365492, 171.697933181183], \"type\": \"scatter\", \"uid\": \"dbf9f551-b490-4d15-8ecb-25ec4544b2b7\"}, {\"hoverinfo\": \"name+text\", \"legendgroup\": \"real\", \"line\": {\"color\": \"green\", \"width\": 1}, \"name\": \"real\", \"opacity\": 1, \"showlegend\": false, \"text\": [\"41146\", \"73201\"], \"x\": [-224.485, -339.0], \"y\": [171.697933181183, 259.9772582081748], \"type\": \"scatter\", \"uid\": \"853d0cab-70d7-41fe-8373-a71d73f1a7e8\"}, {\"hoverinfo\": \"name+text\", \"legendgroup\": \"real\", \"line\": {\"color\": \"green\", \"width\": 1}, \"name\": \"real\", \"opacity\": 1, \"showlegend\": false, \"text\": [\"73201\", \"79641\"], \"x\": [-339.0, -470.6], \"y\": [259.9772582081748, 361.27022166795035], \"type\": \"scatter\", \"uid\": \"3b786666-8b3d-4ca9-ba17-938b4a9c8409\"}, {\"hoverinfo\": \"name+text\", \"legendgroup\": \"real\", \"line\": {\"color\": \"green\", \"width\": 1}, \"name\": \"real\", \"opacity\": 1, \"showlegend\": false, \"text\": [\"79641\", \"86195\"], \"x\": [-470.6, -657.6], \"y\": [361.27022166795035, 505.25758938962014], \"type\": \"scatter\", \"uid\": \"01f6ff09-834e-4c10-8303-09b145fc9eb6\"}, {\"hoverinfo\": \"name+text\", \"legendgroup\": \"real\", \"line\": {\"color\": \"green\", \"width\": 1}, \"name\": \"real\", \"opacity\": 1, \"showlegend\": false, \"text\": [\"86195\", \"91955\"], \"x\": [-657.6, -865.4], \"y\": [505.25758938962014, 665.3054220029776], \"type\": \"scatter\", \"uid\": \"7c9676d8-abfb-4d5d-a5e5-1fb3dedf958c\"}, {\"hoverinfo\": \"name+text\", \"legendgroup\": \"real\", \"line\": {\"color\": \"green\", \"width\": 1}, \"name\": \"real\", \"opacity\": 1, \"showlegend\": false, \"text\": [\"91955\", \"107743\"], \"x\": [-865.4, -1067.8], \"y\": [665.3054220029776, 824.2035973873507], \"type\": \"scatter\", \"uid\": \"c940cec1-c485-42b6-a080-7a21959a6fa5\"}, {\"hoverinfo\": \"name+text\", \"legendgroup\": \"real\", \"line\": {\"color\": \"green\", \"width\": 1}, \"name\": \"real\", \"opacity\": 1, \"showlegend\": false, \"text\": [\"19698\", \"27827\"], \"x\": [-43.6337, -86.1783], \"y\": [32.02264014494901, 72.07849176870727], \"type\": \"scatter\", \"uid\": \"c1bfc163-fddc-4002-b736-7328cccf8515\"}, {\"hoverinfo\": \"name+text\", \"legendgroup\": \"real\", \"line\": {\"color\": \"green\", \"width\": 1}, \"name\": \"real\", \"opacity\": 1, \"showlegend\": false, \"text\": [\"27827\", \"35259\"], \"x\": [-86.1783, -131.795], \"y\": [72.07849176870727, 115.01274730202735], \"type\": \"scatter\", \"uid\": \"6efee41c-70ce-4a2a-9d04-8ac8b164cc64\"}, {\"hoverinfo\": \"name+text\", \"legendgroup\": \"real\", \"line\": {\"color\": \"green\", \"width\": 1}, \"name\": \"real\", \"opacity\": 1, \"showlegend\": false, \"text\": [\"35259\", \"41464\"], \"x\": [-131.795, -191.758], \"y\": [115.01274730202735, 171.40195078204334], \"type\": \"scatter\", \"uid\": \"ac432d4f-add0-48ff-9c43-78d6c4d3f7b4\"}, {\"hoverinfo\": \"name+text\", \"legendgroup\": \"real\", \"line\": {\"color\": \"green\", \"width\": 1}, \"name\": \"real\", \"opacity\": 1, \"showlegend\": false, \"text\": [\"41464\", \"73085\"], \"x\": [-191.758, -283.2], \"y\": [171.40195078204334, 257.30068278183796], \"type\": \"scatter\", \"uid\": \"cd482f35-863b-4c37-99d1-101c45f86c33\"}, {\"hoverinfo\": \"name+text\", \"legendgroup\": \"real\", \"line\": {\"color\": \"green\", \"width\": 1}, \"name\": \"real\", \"opacity\": 1, \"showlegend\": false, \"text\": [\"73085\", \"79880\"], \"x\": [-283.2, -398.2], \"y\": [257.30068278183796, 365.71411330334246], \"type\": \"scatter\", \"uid\": \"d11049ae-3e2b-4fc3-8e94-6feb38454557\"}, {\"hoverinfo\": \"name+text\", \"legendgroup\": \"real\", \"line\": {\"color\": \"green\", \"width\": 1}, \"name\": \"real\", \"opacity\": 1, \"showlegend\": false, \"text\": [\"79880\", \"86402\"], \"x\": [-398.2, -538.4], \"y\": [365.71411330334246, 497.4495544242049], \"type\": \"scatter\", \"uid\": \"155ed0c4-9230-46d7-bb8e-ca180004b618\"}, {\"hoverinfo\": \"name+text\", \"legendgroup\": \"real\", \"line\": {\"color\": \"green\", \"width\": 1}, \"name\": \"real\", \"opacity\": 1, \"showlegend\": false, \"text\": [\"86402\", \"92130\"], \"x\": [-538.4, -707.2], \"y\": [497.4495544242049, 656.5191725472228], \"type\": \"scatter\", \"uid\": \"0bfbcb5e-e703-40c4-b33b-7538f317b82f\"}, {\"hoverinfo\": \"name+text\", \"legendgroup\": \"real\", \"line\": {\"color\": \"green\", \"width\": 1}, \"name\": \"real\", \"opacity\": 1, \"showlegend\": false, \"text\": [\"92130\", \"107883\"], \"x\": [-707.2, -878.4], \"y\": [656.5191725472228, 819.5081131930848], \"type\": \"scatter\", \"uid\": \"3c6abb6c-7474-4c39-990e-7518726b304b\"}, {\"hoverinfo\": \"name+text\", \"legendgroup\": \"real\", \"line\": {\"color\": \"green\", \"width\": 1}, \"name\": \"real\", \"opacity\": 1, \"showlegend\": false, \"text\": [\"21265\", \"29504\"], \"x\": [-24.6702, -46.6699], \"y\": [32.23509056485029, 71.61236113102264], \"type\": \"scatter\", \"uid\": \"a2fce7e9-e5aa-43e0-ac84-6f59a595e6ca\"}, {\"hoverinfo\": \"name+text\", \"legendgroup\": \"real\", \"line\": {\"color\": \"green\", \"width\": 1}, \"name\": \"real\", \"opacity\": 1, \"showlegend\": false, \"text\": [\"29504\", \"42350\"], \"x\": [-46.6699, -102.632], \"y\": [71.61236113102264, 172.0437815826251], \"type\": \"scatter\", \"uid\": \"e9e5b172-d81d-4e9c-83f9-1c1d6af3433d\"}, {\"hoverinfo\": \"name+text\", \"legendgroup\": \"real\", \"line\": {\"color\": \"green\", \"width\": 1}, \"name\": \"real\", \"opacity\": 1, \"showlegend\": false, \"text\": [\"42350\", \"73830\"], \"x\": [-102.632, -152.6], \"y\": [172.0437815826251, 261.85823478523645], \"type\": \"scatter\", \"uid\": \"35b2800f-e52c-4f2b-a9c0-4556e8239b09\"}, {\"hoverinfo\": \"name+text\", \"legendgroup\": \"real\", \"line\": {\"color\": \"green\", \"width\": 1}, \"name\": \"real\", \"opacity\": 1, \"showlegend\": false, \"text\": [\"73830\", \"80933\"], \"x\": [-152.6, -209.6], \"y\": [261.85823478523645, 363.8873098444215], \"type\": \"scatter\", \"uid\": \"db353e9a-f702-457e-b139-126b62346480\"}, {\"hoverinfo\": \"name+text\", \"legendgroup\": \"real\", \"line\": {\"color\": \"green\", \"width\": 1}, \"name\": \"real\", \"opacity\": 1, \"showlegend\": false, \"text\": [\"80933\", \"87292\"], \"x\": [-209.6, -285.6], \"y\": [363.8873098444215, 500.04019567330784], \"type\": \"scatter\", \"uid\": \"cf8dab36-7e80-4cb9-9543-b766b35e77fa\"}, {\"hoverinfo\": \"name+text\", \"legendgroup\": \"real\", \"line\": {\"color\": \"green\", \"width\": 1}, \"name\": \"real\", \"opacity\": 1, \"showlegend\": false, \"text\": [\"87292\", \"93165\"], \"x\": [-285.6, -375.4], \"y\": [500.04019567330784, 660.5030028046807], \"type\": \"scatter\", \"uid\": \"21549852-2bf4-425f-aff4-8d34f421b84d\"}, {\"hoverinfo\": \"name+text\", \"legendgroup\": \"real\", \"line\": {\"color\": \"green\", \"width\": 1}, \"name\": \"real\", \"opacity\": 1, \"showlegend\": false, \"text\": [\"93165\", \"109022\"], \"x\": [-375.4, -466.4], \"y\": [660.5030028046807, 822.2639974959379], \"type\": \"scatter\", \"uid\": \"39b8ed5e-69f6-4d58-8b14-534c73ab123c\"}, {\"hoverinfo\": \"name+text\", \"legendgroup\": \"real\", \"line\": {\"color\": \"green\", \"width\": 1}, \"name\": \"real\", \"opacity\": 1, \"showlegend\": false, \"text\": [\"109022\", \"114036\"], \"x\": [-466.4, -580.2], \"y\": [822.2639974959379, 1022.6908959079474], \"type\": \"scatter\", \"uid\": \"a75fbb35-a208-4af3-a981-5ed9a515e5f1\"}], {\"height\": 800, \"hovermode\": \"closest\", \"showlegend\": true, \"updatemenus\": [{\"buttons\": [{\"args\": [\"shapes\", []], \"label\": \"hide layers\", \"method\": \"relayout\"}, {\"args\": [\"shapes\", [{\"type\": \"line\", \"x0\": -455, \"x1\": 455, \"y0\": 32, \"y1\": 32, \"opacity\": 0.5, \"layer\": \"below\", \"line\": {\"color\": \"#ccc\"}}, {\"type\": \"line\", \"x0\": -455, \"x1\": 455, \"y0\": 72, \"y1\": 72, \"opacity\": 0.5, \"layer\": \"below\", \"line\": {\"color\": \"#ccc\"}}, {\"type\": \"line\", \"x0\": -455, \"x1\": 455, \"y0\": 116, \"y1\": 116, \"opacity\": 0.5, \"layer\": \"below\", \"line\": {\"color\": \"#ccc\"}}, {\"type\": \"line\", \"x0\": -455, \"x1\": 455, \"y0\": 172, \"y1\": 172, \"opacity\": 0.5, \"layer\": \"below\", \"line\": {\"color\": \"#ccc\"}}, {\"type\": \"line\", \"x0\": -1030, \"x1\": 1030, \"y0\": 260, \"y1\": 260, \"opacity\": 0.5, \"layer\": \"below\", \"line\": {\"color\": \"#cccc8d\"}}, {\"type\": \"line\", \"x0\": -1030, \"x1\": 1030, \"y0\": 360, \"y1\": 360, \"opacity\": 0.5, \"layer\": \"below\", \"line\": {\"color\": \"#cccc8d\"}}, {\"type\": \"line\", \"x0\": -1030, \"x1\": 1030, \"y0\": 500, \"y1\": 500, \"opacity\": 0.5, \"layer\": \"below\", \"line\": {\"color\": \"#cccc8d\"}}, {\"type\": \"line\", \"x0\": -1030, \"x1\": 1030, \"y0\": 660, \"y1\": 660, \"opacity\": 0.5, \"layer\": \"below\", \"line\": {\"color\": \"#cccc8d\"}}, {\"type\": \"line\", \"x0\": -1030, \"x1\": 1030, \"y0\": 820, \"y1\": 820, \"opacity\": 0.5, \"layer\": \"below\", \"line\": {\"color\": \"#ccc\"}}, {\"type\": \"line\", \"x0\": -1030, \"x1\": 1030, \"y0\": 1020, \"y1\": 1020, \"opacity\": 0.5, \"layer\": \"below\", \"line\": {\"color\": \"#ccc\"}}]], \"label\": \"show layers\", \"method\": \"relayout\"}], \"direction\": \"left\", \"pad\": {\"l\": 0.1}, \"type\": \"buttons\", \"xanchor\": \"left\", \"y\": 1.1, \"yanchor\": \"top\"}, {\"buttons\": [{\"args\": [{\"mode\": \"markers+lines\"}], \"label\": \"hits+tracks\", \"method\": \"update\"}, {\"args\": [{\"mode\": \"markers\"}], \"label\": \"hits only\", \"method\": \"update\"}], \"direction\": \"left\", \"pad\": {\"l\": 200}, \"type\": \"buttons\", \"xanchor\": \"left\", \"y\": 1.1, \"yanchor\": \"top\"}, {\"buttons\": [{\"args\": [\"yaxis.scaleanchor\", null], \"label\": \"free\", \"method\": \"relayout\"}, {\"args\": [\"yaxis.scaleanchor\", \"x\"], \"label\": \"fixed\", \"method\": \"relayout\"}], \"direction\": \"left\", \"pad\": {\"l\": 380}, \"type\": \"buttons\", \"xanchor\": \"left\", \"y\": 1.1, \"yanchor\": \"top\"}], \"width\": 800, \"xaxis\": {\"title\": \"z\"}, \"yaxis\": {\"title\": \"r\"}}, {\"showLink\": true, \"linkText\": \"Export to plot.ly\", \"plotlyServerURL\": \"https://plot.ly\"})});</script>"
      ]
     },
     "metadata": {},
     "output_type": "display_data"
    },
    {
     "data": {
      "application/vnd.plotly.v1+json": {
       "config": {
        "linkText": "Export to plot.ly",
        "plotlyServerURL": "https://plot.ly",
        "showLink": true
       },
       "data": [
        {
         "hoverinfo": "name+text",
         "legendgroup": "True",
         "line": {
          "color": "darkseagreen",
          "width": 1
         },
         "name": "T0: real",
         "opacity": 1,
         "showlegend": true,
         "text": [
          "18246",
          "27129",
          "34226",
          "40268",
          "72036",
          "78762"
         ],
         "type": "scatter",
         "uid": "ac0f7d9e-cf44-4682-8a4f-a0f8bd6e868c",
         "x": [
          -21.7191,
          -49.4278
         ],
         "y": [
          -22.879,
          -53.6609
         ]
        },
        {
         "hoverinfo": "name+text",
         "legendgroup": "True",
         "line": {
          "color": "darkseagreen",
          "width": 1
         },
         "name": "T0: real",
         "opacity": 1,
         "showlegend": false,
         "text": [
          "18246",
          "27129",
          "34226",
          "40268",
          "72036",
          "78762"
         ],
         "type": "scatter",
         "uid": "3b9cfadf-2114-4c24-a7dd-f38ce444c3ba",
         "x": [
          -49.4278,
          -76.6251
         ],
         "y": [
          -53.6609,
          -85.78
         ]
        },
        {
         "hoverinfo": "name+text",
         "legendgroup": "True",
         "line": {
          "color": "darkseagreen",
          "width": 1
         },
         "name": "T0: real",
         "opacity": 1,
         "showlegend": false,
         "text": [
          "18246",
          "27129",
          "34226",
          "40268",
          "72036",
          "78762"
         ],
         "type": "scatter",
         "uid": "ac2c544f-609f-4620-af66-6ee3b2e7e97c",
         "x": [
          -76.6251,
          -111.405
         ],
         "y": [
          -85.78,
          -130.203
         ]
        },
        {
         "hoverinfo": "name+text",
         "legendgroup": "True",
         "line": {
          "color": "darkseagreen",
          "width": 1
         },
         "name": "T0: real",
         "opacity": 1,
         "showlegend": false,
         "text": [
          "18246",
          "27129",
          "34226",
          "40268",
          "72036",
          "78762"
         ],
         "type": "scatter",
         "uid": "a467169d-e599-4105-9ece-9f450d0cc4d3",
         "x": [
          -111.405,
          -163.782
         ],
         "y": [
          -130.203,
          -205.827
         ]
        },
        {
         "hoverinfo": "name+text",
         "legendgroup": "True",
         "line": {
          "color": "darkseagreen",
          "width": 1
         },
         "name": "T0: real",
         "opacity": 1,
         "showlegend": false,
         "text": [
          "18246",
          "27129",
          "34226",
          "40268",
          "72036",
          "78762"
         ],
         "type": "scatter",
         "uid": "b9c41727-b722-4ae1-b996-6331fbd90c8e",
         "x": [
          -163.782,
          -213.656
         ],
         "y": [
          -205.827,
          -290.52
         ]
        },
        {
         "hoverinfo": "name+text",
         "legendgroup": "True",
         "line": {
          "color": "darkseagreen",
          "width": 1
         },
         "name": "T1: real",
         "opacity": 1,
         "showlegend": false,
         "text": [
          "23050",
          "30426",
          "37198",
          "44045",
          "75480",
          "82723"
         ],
         "type": "scatter",
         "uid": "0878b979-e00c-478b-bbe1-f9abb8f0ee1e",
         "x": [
          -4.64343,
          -9.44367
         ],
         "y": [
          31.6821,
          70.8192
         ]
        },
        {
         "hoverinfo": "name+text",
         "legendgroup": "True",
         "line": {
          "color": "darkseagreen",
          "width": 1
         },
         "name": "T1: real",
         "opacity": 1,
         "showlegend": false,
         "text": [
          "23050",
          "30426",
          "37198",
          "44045",
          "75480",
          "82723"
         ],
         "type": "scatter",
         "uid": "192e05c4-5849-4ec0-a7d8-adf911ec283a",
         "x": [
          -9.44367,
          -13.5617
         ],
         "y": [
          70.8192,
          114.204
         ]
        },
        {
         "hoverinfo": "name+text",
         "legendgroup": "True",
         "line": {
          "color": "darkseagreen",
          "width": 1
         },
         "name": "T1: real",
         "opacity": 1,
         "showlegend": false,
         "text": [
          "23050",
          "30426",
          "37198",
          "44045",
          "75480",
          "82723"
         ],
         "type": "scatter",
         "uid": "5fe68cf0-18d7-4894-a985-debe2432bd3b",
         "x": [
          -13.5617,
          -16.8728
         ],
         "y": [
          114.204,
          171.016
         ]
        },
        {
         "hoverinfo": "name+text",
         "legendgroup": "True",
         "line": {
          "color": "darkseagreen",
          "width": 1
         },
         "name": "T1: real",
         "opacity": 1,
         "showlegend": false,
         "text": [
          "23050",
          "30426",
          "37198",
          "44045",
          "75480",
          "82723"
         ],
         "type": "scatter",
         "uid": "5ff90565-495a-42ff-8bd2-c7b666548e8b",
         "x": [
          -16.8728,
          -17.738
         ],
         "y": [
          171.016,
          257.521
         ]
        },
        {
         "hoverinfo": "name+text",
         "legendgroup": "True",
         "line": {
          "color": "darkseagreen",
          "width": 1
         },
         "name": "T1: real",
         "opacity": 1,
         "showlegend": false,
         "text": [
          "23050",
          "30426",
          "37198",
          "44045",
          "75480",
          "82723"
         ],
         "type": "scatter",
         "uid": "c656dedf-f354-419f-aba8-35d16729ac13",
         "x": [
          -17.738,
          -11.9561
         ],
         "y": [
          257.521,
          360.148
         ]
        },
        {
         "hoverinfo": "name+text",
         "legendgroup": "True",
         "line": {
          "color": "green",
          "width": 1
         },
         "name": "T2: real",
         "opacity": 1,
         "showlegend": false,
         "text": [
          "20764",
          "27487",
          "34491",
          "40865",
          "72549",
          "79138",
          "85537"
         ],
         "type": "scatter",
         "uid": "70be8b49-598e-4b7a-a133-a322d1e6d80d",
         "x": [
          5.5706,
          10.5024
         ],
         "y": [
          31.671,
          72.0453
         ]
        },
        {
         "hoverinfo": "name+text",
         "legendgroup": "True",
         "line": {
          "color": "green",
          "width": 1
         },
         "name": "T2: real",
         "opacity": 1,
         "showlegend": false,
         "text": [
          "20764",
          "27487",
          "34491",
          "40865",
          "72549",
          "79138",
          "85537"
         ],
         "type": "scatter",
         "uid": "b3adfb6a-bb26-4cd7-9b6f-89a8686fd4f9",
         "x": [
          10.5024,
          14.7116
         ],
         "y": [
          72.0453,
          114.108
         ]
        },
        {
         "hoverinfo": "name+text",
         "legendgroup": "True",
         "line": {
          "color": "green",
          "width": 1
         },
         "name": "T2: real",
         "opacity": 1,
         "showlegend": false,
         "text": [
          "20764",
          "27487",
          "34491",
          "40865",
          "72549",
          "79138",
          "85537"
         ],
         "type": "scatter",
         "uid": "a1066b95-5c13-4eb7-baef-be1fd26e2a9a",
         "x": [
          14.7116,
          18.992
         ],
         "y": [
          114.108,
          171.997
         ]
        },
        {
         "hoverinfo": "name+text",
         "legendgroup": "True",
         "line": {
          "color": "green",
          "width": 1
         },
         "name": "T2: real",
         "opacity": 1,
         "showlegend": false,
         "text": [
          "20764",
          "27487",
          "34491",
          "40865",
          "72549",
          "79138",
          "85537"
         ],
         "type": "scatter",
         "uid": "94a4ad5d-8768-4cfd-ae1a-5832e1f3cf82",
         "x": [
          18.992,
          22.298
         ],
         "y": [
          171.997,
          257.23400000000004
         ]
        },
        {
         "hoverinfo": "name+text",
         "legendgroup": "True",
         "line": {
          "color": "green",
          "width": 1
         },
         "name": "T2: real",
         "opacity": 1,
         "showlegend": false,
         "text": [
          "20764",
          "27487",
          "34491",
          "40865",
          "72549",
          "79138",
          "85537"
         ],
         "type": "scatter",
         "uid": "62f056b7-44a0-4d5f-a6ec-c805514971b8",
         "x": [
          22.298,
          21.6577
         ],
         "y": [
          257.23400000000004,
          357.611
         ]
        },
        {
         "hoverinfo": "name+text",
         "legendgroup": "True",
         "line": {
          "color": "green",
          "width": 1
         },
         "name": "T2: real",
         "opacity": 1,
         "showlegend": false,
         "text": [
          "20764",
          "27487",
          "34491",
          "40865",
          "72549",
          "79138",
          "85537"
         ],
         "type": "scatter",
         "uid": "c6f0b789-c70d-4484-9031-9735b0a2d6de",
         "x": [
          21.6577,
          12.251
         ],
         "y": [
          357.611,
          496.648
         ]
        },
        {
         "hoverinfo": "name+text",
         "legendgroup": "True",
         "line": {
          "color": "darkseagreen",
          "width": 1
         },
         "name": "T3: real",
         "opacity": 1,
         "showlegend": false,
         "text": [
          "21405",
          "30694",
          "38058",
          "44664",
          "76101",
          "83615",
          "90565",
          "96738"
         ],
         "type": "scatter",
         "uid": "63f64abb-4a34-49b9-b884-5d71123217f6",
         "x": [
          -33.5947,
          -73.825
         ],
         "y": [
          0.8266889999999999,
          0.838565
         ]
        },
        {
         "hoverinfo": "name+text",
         "legendgroup": "True",
         "line": {
          "color": "darkseagreen",
          "width": 1
         },
         "name": "T3: real",
         "opacity": 1,
         "showlegend": false,
         "text": [
          "21405",
          "30694",
          "38058",
          "44664",
          "76101",
          "83615",
          "90565",
          "96738"
         ],
         "type": "scatter",
         "uid": "a280f05a-f2da-46b7-b8c7-4a1ac5eb28db",
         "x": [
          -73.825,
          -116.911
         ],
         "y": [
          0.838565,
          -0.235947
         ]
        },
        {
         "hoverinfo": "name+text",
         "legendgroup": "True",
         "line": {
          "color": "darkseagreen",
          "width": 1
         },
         "name": "T3: real",
         "opacity": 1,
         "showlegend": false,
         "text": [
          "21405",
          "30694",
          "38058",
          "44664",
          "76101",
          "83615",
          "90565",
          "96738"
         ],
         "type": "scatter",
         "uid": "2d311953-deb6-4f45-8f8d-a65e39b4fdd7",
         "x": [
          -116.911,
          -172.74200000000005
         ],
         "y": [
          -0.235947,
          -3.4674400000000003
         ]
        },
        {
         "hoverinfo": "name+text",
         "legendgroup": "True",
         "line": {
          "color": "darkseagreen",
          "width": 1
         },
         "name": "T3: real",
         "opacity": 1,
         "showlegend": false,
         "text": [
          "21405",
          "30694",
          "38058",
          "44664",
          "76101",
          "83615",
          "90565",
          "96738"
         ],
         "type": "scatter",
         "uid": "b7a57786-2b67-42d3-bfb8-b8e0c992cba9",
         "x": [
          -172.74200000000005,
          -257.127
         ],
         "y": [
          -3.4674400000000003,
          -12.2321
         ]
        },
        {
         "hoverinfo": "name+text",
         "legendgroup": "True",
         "line": {
          "color": "darkseagreen",
          "width": 1
         },
         "name": "T3: real",
         "opacity": 1,
         "showlegend": false,
         "text": [
          "21405",
          "30694",
          "38058",
          "44664",
          "76101",
          "83615",
          "90565",
          "96738"
         ],
         "type": "scatter",
         "uid": "75a0b33c-a900-4206-a940-b5c59ad8d574",
         "x": [
          -257.127,
          -358.775
         ],
         "y": [
          -12.2321,
          -29.005
         ]
        },
        {
         "hoverinfo": "name+text",
         "legendgroup": "True",
         "line": {
          "color": "darkseagreen",
          "width": 1
         },
         "name": "T3: real",
         "opacity": 1,
         "showlegend": false,
         "text": [
          "21405",
          "30694",
          "38058",
          "44664",
          "76101",
          "83615",
          "90565",
          "96738"
         ],
         "type": "scatter",
         "uid": "9adfd169-47cc-47aa-a144-06d71b61e3fe",
         "x": [
          -358.775,
          -494.937
         ],
         "y": [
          -29.005,
          -62.5497
         ]
        },
        {
         "hoverinfo": "name+text",
         "legendgroup": "True",
         "line": {
          "color": "darkseagreen",
          "width": 1
         },
         "name": "T3: real",
         "opacity": 1,
         "showlegend": false,
         "text": [
          "21405",
          "30694",
          "38058",
          "44664",
          "76101",
          "83615",
          "90565",
          "96738"
         ],
         "type": "scatter",
         "uid": "70e8d98e-25de-40d7-badc-2a6643efa7cb",
         "x": [
          -494.937,
          -650.641
         ],
         "y": [
          -62.5497,
          -117.418
         ]
        },
        {
         "hoverinfo": "name+text",
         "legendgroup": "True",
         "line": {
          "color": "green",
          "width": 1
         },
         "name": "T4: real",
         "opacity": 1,
         "showlegend": false,
         "text": [
          "23536",
          "31418",
          "38524",
          "45067",
          "76902",
          "83944",
          "90803",
          "96934"
         ],
         "type": "scatter",
         "uid": "edacc3ce-9d0a-4852-bb39-de0f1edf18f1",
         "x": [
          -30.9263,
          -68.8454
         ],
         "y": [
          9.9814,
          22.8573
         ]
        },
        {
         "hoverinfo": "name+text",
         "legendgroup": "True",
         "line": {
          "color": "green",
          "width": 1
         },
         "name": "T4: real",
         "opacity": 1,
         "showlegend": false,
         "text": [
          "23536",
          "31418",
          "38524",
          "45067",
          "76902",
          "83944",
          "90803",
          "96934"
         ],
         "type": "scatter",
         "uid": "e5d5dbee-9b8b-422c-80da-f245f9a3c838",
         "x": [
          -68.8454,
          -109.987
         ],
         "y": [
          22.8573,
          37.6253
         ]
        },
        {
         "hoverinfo": "name+text",
         "legendgroup": "True",
         "line": {
          "color": "green",
          "width": 1
         },
         "name": "T4: real",
         "opacity": 1,
         "showlegend": false,
         "text": [
          "23536",
          "31418",
          "38524",
          "45067",
          "76902",
          "83944",
          "90803",
          "96934"
         ],
         "type": "scatter",
         "uid": "47786deb-4a1f-43fe-82df-29f59f2c7723",
         "x": [
          -109.987,
          -161.876
         ],
         "y": [
          37.6253,
          57.4577
         ]
        },
        {
         "hoverinfo": "name+text",
         "legendgroup": "True",
         "line": {
          "color": "green",
          "width": 1
         },
         "name": "T4: real",
         "opacity": 1,
         "showlegend": false,
         "text": [
          "23536",
          "31418",
          "38524",
          "45067",
          "76902",
          "83944",
          "90803",
          "96934"
         ],
         "type": "scatter",
         "uid": "eb9e93f4-a9be-4079-8289-3e04ff256b81",
         "x": [
          -161.876,
          -246.02
         ],
         "y": [
          57.4577,
          92.7332
         ]
        },
        {
         "hoverinfo": "name+text",
         "legendgroup": "True",
         "line": {
          "color": "green",
          "width": 1
         },
         "name": "T4: real",
         "opacity": 1,
         "showlegend": false,
         "text": [
          "23536",
          "31418",
          "38524",
          "45067",
          "76902",
          "83944",
          "90803",
          "96934"
         ],
         "type": "scatter",
         "uid": "a5213b1d-05fc-47a9-8f24-4fd0f28bd79c",
         "x": [
          -246.02,
          -333.426
         ],
         "y": [
          92.7332,
          133.519
         ]
        },
        {
         "hoverinfo": "name+text",
         "legendgroup": "True",
         "line": {
          "color": "green",
          "width": 1
         },
         "name": "T4: real",
         "opacity": 1,
         "showlegend": false,
         "text": [
          "23536",
          "31418",
          "38524",
          "45067",
          "76902",
          "83944",
          "90803",
          "96934"
         ],
         "type": "scatter",
         "uid": "94aaafd3-4b1a-405f-9f12-ab70306eba84",
         "x": [
          -333.426,
          -459.273
         ],
         "y": [
          133.519,
          200.49400000000003
         ]
        },
        {
         "hoverinfo": "name+text",
         "legendgroup": "True",
         "line": {
          "color": "green",
          "width": 1
         },
         "name": "T4: real",
         "opacity": 1,
         "showlegend": false,
         "text": [
          "23536",
          "31418",
          "38524",
          "45067",
          "76902",
          "83944",
          "90803",
          "96934"
         ],
         "type": "scatter",
         "uid": "6d597559-15eb-4a41-abd2-ac6319713ba0",
         "x": [
          -459.273,
          -595.614
         ],
         "y": [
          200.49400000000003,
          284.758
         ]
        },
        {
         "hoverinfo": "name+text",
         "legendgroup": "True",
         "line": {
          "color": "green",
          "width": 1
         },
         "name": "T5: real",
         "opacity": 1,
         "showlegend": false,
         "text": [
          "20262",
          "28058",
          "34877",
          "41146",
          "73201",
          "79641",
          "86195",
          "91955",
          "107743"
         ],
         "type": "scatter",
         "uid": "1ceed08e-8fd2-4d3c-86c2-c6d8b1e4c9a3",
         "x": [
          32.2451,
          70.7765
         ],
         "y": [
          4.53326,
          9.61941
         ]
        },
        {
         "hoverinfo": "name+text",
         "legendgroup": "True",
         "line": {
          "color": "green",
          "width": 1
         },
         "name": "T5: real",
         "opacity": 1,
         "showlegend": false,
         "text": [
          "20262",
          "28058",
          "34877",
          "41146",
          "73201",
          "79641",
          "86195",
          "91955",
          "107743"
         ],
         "type": "scatter",
         "uid": "d01a5d0a-9f7f-4c2c-9f49-6af63a8b897b",
         "x": [
          70.7765,
          114.433
         ],
         "y": [
          9.61941,
          14.9217
         ]
        },
        {
         "hoverinfo": "name+text",
         "legendgroup": "True",
         "line": {
          "color": "green",
          "width": 1
         },
         "name": "T5: real",
         "opacity": 1,
         "showlegend": false,
         "text": [
          "20262",
          "28058",
          "34877",
          "41146",
          "73201",
          "79641",
          "86195",
          "91955",
          "107743"
         ],
         "type": "scatter",
         "uid": "9405ed1a-4289-4871-b2b4-b164ed5a1c85",
         "x": [
          114.433,
          170.40099999999995
         ],
         "y": [
          14.9217,
          21.0637
         ]
        },
        {
         "hoverinfo": "name+text",
         "legendgroup": "True",
         "line": {
          "color": "green",
          "width": 1
         },
         "name": "T5: real",
         "opacity": 1,
         "showlegend": false,
         "text": [
          "20262",
          "28058",
          "34877",
          "41146",
          "73201",
          "79641",
          "86195",
          "91955",
          "107743"
         ],
         "type": "scatter",
         "uid": "2399f644-3c84-4d93-a843-187a99b87f47",
         "x": [
          170.40099999999995,
          258.338
         ],
         "y": [
          21.0637,
          29.1488
         ]
        },
        {
         "hoverinfo": "name+text",
         "legendgroup": "True",
         "line": {
          "color": "green",
          "width": 1
         },
         "name": "T5: real",
         "opacity": 1,
         "showlegend": false,
         "text": [
          "20262",
          "28058",
          "34877",
          "41146",
          "73201",
          "79641",
          "86195",
          "91955",
          "107743"
         ],
         "type": "scatter",
         "uid": "db931428-3b0a-4613-b178-bccfeba654ce",
         "x": [
          258.338,
          359.452
         ],
         "y": [
          29.1488,
          36.1999
         ]
        },
        {
         "hoverinfo": "name+text",
         "legendgroup": "True",
         "line": {
          "color": "green",
          "width": 1
         },
         "name": "T5: real",
         "opacity": 1,
         "showlegend": false,
         "text": [
          "20262",
          "28058",
          "34877",
          "41146",
          "73201",
          "79641",
          "86195",
          "91955",
          "107743"
         ],
         "type": "scatter",
         "uid": "d8b996e8-04a9-429e-89c0-a8b1912af9bf",
         "x": [
          359.452,
          503.503
         ],
         "y": [
          36.1999,
          42.0709
         ]
        },
        {
         "hoverinfo": "name+text",
         "legendgroup": "True",
         "line": {
          "color": "green",
          "width": 1
         },
         "name": "T5: real",
         "opacity": 1,
         "showlegend": false,
         "text": [
          "20262",
          "28058",
          "34877",
          "41146",
          "73201",
          "79641",
          "86195",
          "91955",
          "107743"
         ],
         "type": "scatter",
         "uid": "438b3536-4e5c-4b02-80ba-a3d26b30c338",
         "x": [
          503.503,
          663.908
         ],
         "y": [
          42.0709,
          43.0984
         ]
        },
        {
         "hoverinfo": "name+text",
         "legendgroup": "True",
         "line": {
          "color": "green",
          "width": 1
         },
         "name": "T5: real",
         "opacity": 1,
         "showlegend": false,
         "text": [
          "20262",
          "28058",
          "34877",
          "41146",
          "73201",
          "79641",
          "86195",
          "91955",
          "107743"
         ],
         "type": "scatter",
         "uid": "68968dd5-f7db-410c-8af0-f039c800d55c",
         "x": [
          663.908,
          823.312
         ],
         "y": [
          43.0984,
          38.3265
         ]
        },
        {
         "hoverinfo": "name+text",
         "legendgroup": "True",
         "line": {
          "color": "green",
          "width": 1
         },
         "name": "T6: real",
         "opacity": 1,
         "showlegend": false,
         "text": [
          "19698",
          "27827",
          "35259",
          "41464",
          "73085",
          "79880",
          "86402",
          "92130",
          "107883"
         ],
         "type": "scatter",
         "uid": "97170fa9-ddc7-43bb-99f4-b9ec207efd8c",
         "x": [
          -4.16977,
          -9.16296
         ],
         "y": [
          -31.75,
          -71.4937
         ]
        },
        {
         "hoverinfo": "name+text",
         "legendgroup": "True",
         "line": {
          "color": "green",
          "width": 1
         },
         "name": "T6: real",
         "opacity": 1,
         "showlegend": false,
         "text": [
          "19698",
          "27827",
          "35259",
          "41464",
          "73085",
          "79880",
          "86402",
          "92130",
          "107883"
         ],
         "type": "scatter",
         "uid": "231a4422-d91d-484f-bed5-133040c24c03",
         "x": [
          -9.16296,
          -14.2464
         ],
         "y": [
          -71.4937,
          -114.127
         ]
        },
        {
         "hoverinfo": "name+text",
         "legendgroup": "True",
         "line": {
          "color": "green",
          "width": 1
         },
         "name": "T6: real",
         "opacity": 1,
         "showlegend": false,
         "text": [
          "19698",
          "27827",
          "35259",
          "41464",
          "73085",
          "79880",
          "86402",
          "92130",
          "107883"
         ],
         "type": "scatter",
         "uid": "f51e09f6-b1c0-47ff-ba25-b52a91f53b4f",
         "x": [
          -14.2464,
          -20.5217
         ],
         "y": [
          -114.127,
          -170.169
         ]
        },
        {
         "hoverinfo": "name+text",
         "legendgroup": "True",
         "line": {
          "color": "green",
          "width": 1
         },
         "name": "T6: real",
         "opacity": 1,
         "showlegend": false,
         "text": [
          "19698",
          "27827",
          "35259",
          "41464",
          "73085",
          "79880",
          "86402",
          "92130",
          "107883"
         ],
         "type": "scatter",
         "uid": "7f56302e-9bba-4b51-8ee7-a943db08da7b",
         "x": [
          -20.5217,
          -29.116
         ],
         "y": [
          -170.169,
          -255.648
         ]
        },
        {
         "hoverinfo": "name+text",
         "legendgroup": "True",
         "line": {
          "color": "green",
          "width": 1
         },
         "name": "T6: real",
         "opacity": 1,
         "showlegend": false,
         "text": [
          "19698",
          "27827",
          "35259",
          "41464",
          "73085",
          "79880",
          "86402",
          "92130",
          "107883"
         ],
         "type": "scatter",
         "uid": "0e30d653-204c-4856-ae1e-bda975f7fab8",
         "x": [
          -29.116,
          -38.3955
         ],
         "y": [
          -255.648,
          -363.693
         ]
        },
        {
         "hoverinfo": "name+text",
         "legendgroup": "True",
         "line": {
          "color": "green",
          "width": 1
         },
         "name": "T6: real",
         "opacity": 1,
         "showlegend": false,
         "text": [
          "19698",
          "27827",
          "35259",
          "41464",
          "73085",
          "79880",
          "86402",
          "92130",
          "107883"
         ],
         "type": "scatter",
         "uid": "1664bbf5-5ddd-4d36-915b-6d33d36a6608",
         "x": [
          -38.3955,
          -47.3072
         ],
         "y": [
          -363.693,
          -495.195
         ]
        },
        {
         "hoverinfo": "name+text",
         "legendgroup": "True",
         "line": {
          "color": "green",
          "width": 1
         },
         "name": "T6: real",
         "opacity": 1,
         "showlegend": false,
         "text": [
          "19698",
          "27827",
          "35259",
          "41464",
          "73085",
          "79880",
          "86402",
          "92130",
          "107883"
         ],
         "type": "scatter",
         "uid": "fc6f3f35-49f3-4b73-b4eb-00490f016e4c",
         "x": [
          -47.3072,
          -54.4897
         ],
         "y": [
          -495.195,
          -654.254
         ]
        },
        {
         "hoverinfo": "name+text",
         "legendgroup": "True",
         "line": {
          "color": "green",
          "width": 1
         },
         "name": "T6: real",
         "opacity": 1,
         "showlegend": false,
         "text": [
          "19698",
          "27827",
          "35259",
          "41464",
          "73085",
          "79880",
          "86402",
          "92130",
          "107883"
         ],
         "type": "scatter",
         "uid": "9e2bcf32-26bd-488b-9422-a2b9c5b644be",
         "x": [
          -54.4897,
          -57.8177
         ],
         "y": [
          -654.254,
          -817.466
         ]
        },
        {
         "hoverinfo": "name+text",
         "legendgroup": "True",
         "line": {
          "color": "green",
          "width": 1
         },
         "name": "T7: real",
         "opacity": 1,
         "showlegend": false,
         "text": [
          "21265",
          "29504",
          "42350",
          "73830",
          "80933",
          "87292",
          "93165",
          "109022",
          "114036"
         ],
         "type": "scatter",
         "uid": "36c18b02-6bf1-46bc-b285-6912902e8fbe",
         "x": [
          -31.6364,
          -70.206
         ],
         "y": [
          6.18379,
          14.1226
         ]
        },
        {
         "hoverinfo": "name+text",
         "legendgroup": "True",
         "line": {
          "color": "green",
          "width": 1
         },
         "name": "T7: real",
         "opacity": 1,
         "showlegend": false,
         "text": [
          "21265",
          "29504",
          "42350",
          "73830",
          "80933",
          "87292",
          "93165",
          "109022",
          "114036"
         ],
         "type": "scatter",
         "uid": "2e95aded-3390-42a5-99aa-acd8db352a8f",
         "x": [
          -70.206,
          -168.155
         ],
         "y": [
          14.1226,
          36.3725
         ]
        },
        {
         "hoverinfo": "name+text",
         "legendgroup": "True",
         "line": {
          "color": "green",
          "width": 1
         },
         "name": "T7: real",
         "opacity": 1,
         "showlegend": false,
         "text": [
          "21265",
          "29504",
          "42350",
          "73830",
          "80933",
          "87292",
          "93165",
          "109022",
          "114036"
         ],
         "type": "scatter",
         "uid": "72a6027b-ea6f-4d07-a590-b6b73fe889a8",
         "x": [
          -168.155,
          -255.151
         ],
         "y": [
          36.3725,
          58.8872
         ]
        },
        {
         "hoverinfo": "name+text",
         "legendgroup": "True",
         "line": {
          "color": "green",
          "width": 1
         },
         "name": "T7: real",
         "opacity": 1,
         "showlegend": false,
         "text": [
          "21265",
          "29504",
          "42350",
          "73830",
          "80933",
          "87292",
          "93165",
          "109022",
          "114036"
         ],
         "type": "scatter",
         "uid": "4380cfd0-ee40-45c1-9afa-73474a69a35a",
         "x": [
          -255.151,
          -353.285
         ],
         "y": [
          58.8872,
          87.1991
         ]
        },
        {
         "hoverinfo": "name+text",
         "legendgroup": "True",
         "line": {
          "color": "green",
          "width": 1
         },
         "name": "T7: real",
         "opacity": 1,
         "showlegend": false,
         "text": [
          "21265",
          "29504",
          "42350",
          "73830",
          "80933",
          "87292",
          "93165",
          "109022",
          "114036"
         ],
         "type": "scatter",
         "uid": "30d45c8b-1ff5-4d06-9abb-44d837420d34",
         "x": [
          -353.285,
          -482.875
         ],
         "y": [
          87.1991,
          129.892
         ]
        },
        {
         "hoverinfo": "name+text",
         "legendgroup": "True",
         "line": {
          "color": "green",
          "width": 1
         },
         "name": "T7: real",
         "opacity": 1,
         "showlegend": false,
         "text": [
          "21265",
          "29504",
          "42350",
          "73830",
          "80933",
          "87292",
          "93165",
          "109022",
          "114036"
         ],
         "type": "scatter",
         "uid": "78b37a58-49af-41c9-ab52-5baf12a572b9",
         "x": [
          -482.875,
          -633.385
         ],
         "y": [
          129.892,
          187.317
         ]
        },
        {
         "hoverinfo": "name+text",
         "legendgroup": "True",
         "line": {
          "color": "green",
          "width": 1
         },
         "name": "T7: real",
         "opacity": 1,
         "showlegend": false,
         "text": [
          "21265",
          "29504",
          "42350",
          "73830",
          "80933",
          "87292",
          "93165",
          "109022",
          "114036"
         ],
         "type": "scatter",
         "uid": "9f338e65-21a7-44c2-a107-8f6027b01a8f",
         "x": [
          -633.385,
          -782.4169999999998
         ],
         "y": [
          187.317,
          252.867
         ]
        },
        {
         "hoverinfo": "name+text",
         "legendgroup": "True",
         "line": {
          "color": "green",
          "width": 1
         },
         "name": "T7: real",
         "opacity": 1,
         "showlegend": false,
         "text": [
          "21265",
          "29504",
          "42350",
          "73830",
          "80933",
          "87292",
          "93165",
          "109022",
          "114036"
         ],
         "type": "scatter",
         "uid": "3ecc0234-253d-4b85-906f-4bfc2c077533",
         "x": [
          -782.4169999999998,
          -962.827
         ],
         "y": [
          252.867,
          344.76199999999994
         ]
        },
        {
         "hoverinfo": "name+text",
         "legendgroup": "True",
         "line": {
          "color": "darkseagreen",
          "width": 1
         },
         "name": "T8: real",
         "opacity": 1,
         "showlegend": false,
         "text": [
          "75184",
          "82090",
          "88632",
          "94896",
          "110783",
          "116120"
         ],
         "type": "scatter",
         "uid": "39f5012e-0ef5-4671-a380-d627b3da7669",
         "x": [
          -1.10379,
          -15.6281
         ],
         "y": [
          -262.164,
          -358.871
         ]
        },
        {
         "hoverinfo": "name+text",
         "legendgroup": "True",
         "line": {
          "color": "darkseagreen",
          "width": 1
         },
         "name": "T8: real",
         "opacity": 1,
         "showlegend": false,
         "text": [
          "75184",
          "82090",
          "88632",
          "94896",
          "110783",
          "116120"
         ],
         "type": "scatter",
         "uid": "6ecd2abd-f32f-4016-936a-45a1311633f5",
         "x": [
          -15.6281,
          -48.3976
         ],
         "y": [
          -358.871,
          -494.939
         ]
        },
        {
         "hoverinfo": "name+text",
         "legendgroup": "True",
         "line": {
          "color": "darkseagreen",
          "width": 1
         },
         "name": "T8: real",
         "opacity": 1,
         "showlegend": false,
         "text": [
          "75184",
          "82090",
          "88632",
          "94896",
          "110783",
          "116120"
         ],
         "type": "scatter",
         "uid": "58b03d23-a8e1-45d7-a5b8-3583d6fe8de9",
         "x": [
          -48.3976,
          -107.941
         ],
         "y": [
          -494.939,
          -654.971
         ]
        },
        {
         "hoverinfo": "name+text",
         "legendgroup": "True",
         "line": {
          "color": "darkseagreen",
          "width": 1
         },
         "name": "T8: real",
         "opacity": 1,
         "showlegend": false,
         "text": [
          "75184",
          "82090",
          "88632",
          "94896",
          "110783",
          "116120"
         ],
         "type": "scatter",
         "uid": "4f383695-1035-4f76-82bf-6531b9f2c213",
         "x": [
          -107.941,
          -184.63
         ],
         "y": [
          -654.971,
          -801.703
         ]
        },
        {
         "hoverinfo": "name+text",
         "legendgroup": "True",
         "line": {
          "color": "darkseagreen",
          "width": 1
         },
         "name": "T8: real",
         "opacity": 1,
         "showlegend": false,
         "text": [
          "75184",
          "82090",
          "88632",
          "94896",
          "110783",
          "116120"
         ],
         "type": "scatter",
         "uid": "a090ccf4-4a10-4eb0-8fe7-ed2a8022779d",
         "x": [
          -184.63,
          -306.828
         ],
         "y": [
          -801.703,
          -971.876
         ]
        }
       ],
       "layout": {
        "height": 800,
        "hovermode": "closest",
        "showlegend": true,
        "updatemenus": [
         {
          "buttons": [
           {
            "args": [
             "shapes",
             []
            ],
            "label": "hide layers",
            "method": "relayout"
           },
           {
            "args": [
             "shapes",
             [
              {
               "layer": "below",
               "line": {
                "color": "#ccc"
               },
               "opacity": 0.5,
               "type": "circle",
               "x0": -32,
               "x1": 32,
               "y0": -32,
               "y1": 32
              },
              {
               "layer": "below",
               "line": {
                "color": "#ccc"
               },
               "opacity": 0.5,
               "type": "circle",
               "x0": -72,
               "x1": 72,
               "y0": -72,
               "y1": 72
              },
              {
               "layer": "below",
               "line": {
                "color": "#ccc"
               },
               "opacity": 0.5,
               "type": "circle",
               "x0": -116,
               "x1": 116,
               "y0": -116,
               "y1": 116
              },
              {
               "layer": "below",
               "line": {
                "color": "#ccc"
               },
               "opacity": 0.5,
               "type": "circle",
               "x0": -172,
               "x1": 172,
               "y0": -172,
               "y1": 172
              },
              {
               "layer": "below",
               "line": {
                "color": "#cccc8d"
               },
               "opacity": 0.5,
               "type": "circle",
               "x0": -260,
               "x1": 260,
               "y0": -260,
               "y1": 260
              },
              {
               "layer": "below",
               "line": {
                "color": "#cccc8d"
               },
               "opacity": 0.5,
               "type": "circle",
               "x0": -360,
               "x1": 360,
               "y0": -360,
               "y1": 360
              },
              {
               "layer": "below",
               "line": {
                "color": "#cccc8d"
               },
               "opacity": 0.5,
               "type": "circle",
               "x0": -500,
               "x1": 500,
               "y0": -500,
               "y1": 500
              },
              {
               "layer": "below",
               "line": {
                "color": "#cccc8d"
               },
               "opacity": 0.5,
               "type": "circle",
               "x0": -660,
               "x1": 660,
               "y0": -660,
               "y1": 660
              },
              {
               "layer": "below",
               "line": {
                "color": "#ccc"
               },
               "opacity": 0.5,
               "type": "circle",
               "x0": -820,
               "x1": 820,
               "y0": -820,
               "y1": 820
              },
              {
               "layer": "below",
               "line": {
                "color": "#ccc"
               },
               "opacity": 0.5,
               "type": "circle",
               "x0": -1020,
               "x1": 1020,
               "y0": -1020,
               "y1": 1020
              }
             ]
            ],
            "label": "show layers",
            "method": "relayout"
           }
          ],
          "direction": "left",
          "pad": {
           "l": 0.1
          },
          "type": "buttons",
          "xanchor": "left",
          "y": 1.1,
          "yanchor": "top"
         },
         {
          "buttons": [
           {
            "args": [
             {
              "mode": "markers+lines"
             }
            ],
            "label": "hits+tracks",
            "method": "update"
           },
           {
            "args": [
             {
              "mode": "markers"
             }
            ],
            "label": "hits only",
            "method": "update"
           }
          ],
          "direction": "left",
          "pad": {
           "l": 200
          },
          "type": "buttons",
          "xanchor": "left",
          "y": 1.1,
          "yanchor": "top"
         },
         {
          "buttons": [
           {
            "args": [
             "yaxis.scaleanchor",
             null
            ],
            "label": "free",
            "method": "relayout"
           },
           {
            "args": [
             "yaxis.scaleanchor",
             "x"
            ],
            "label": "fixed",
            "method": "relayout"
           }
          ],
          "direction": "left",
          "pad": {
           "l": 380
          },
          "type": "buttons",
          "xanchor": "left",
          "y": 1.1,
          "yanchor": "top"
         }
        ],
        "width": 800,
        "xaxis": {
         "title": "x"
        },
        "yaxis": {
         "title": "y"
        }
       }
      },
      "text/html": [
       "<div id=\"dab52219-eb27-4a8c-89a1-6ff3bbf99c80\" style=\"height: 800px; width: 800px;\" class=\"plotly-graph-div\"></div><script type=\"text/javascript\">require([\"plotly\"], function(Plotly) { window.PLOTLYENV=window.PLOTLYENV || {};window.PLOTLYENV.BASE_URL=\"https://plot.ly\";Plotly.newPlot(\"dab52219-eb27-4a8c-89a1-6ff3bbf99c80\", [{\"hoverinfo\": \"name+text\", \"legendgroup\": \"True\", \"line\": {\"color\": \"darkseagreen\", \"width\": 1}, \"name\": \"T0: real\", \"opacity\": 1, \"showlegend\": true, \"text\": [\"18246\", \"27129\", \"34226\", \"40268\", \"72036\", \"78762\"], \"x\": [-21.7191, -49.4278], \"y\": [-22.879, -53.6609], \"type\": \"scatter\", \"uid\": \"ac0f7d9e-cf44-4682-8a4f-a0f8bd6e868c\"}, {\"hoverinfo\": \"name+text\", \"legendgroup\": \"True\", \"line\": {\"color\": \"darkseagreen\", \"width\": 1}, \"name\": \"T0: real\", \"opacity\": 1, \"showlegend\": false, \"text\": [\"18246\", \"27129\", \"34226\", \"40268\", \"72036\", \"78762\"], \"x\": [-49.4278, -76.6251], \"y\": [-53.6609, -85.78], \"type\": \"scatter\", \"uid\": \"3b9cfadf-2114-4c24-a7dd-f38ce444c3ba\"}, {\"hoverinfo\": \"name+text\", \"legendgroup\": \"True\", \"line\": {\"color\": \"darkseagreen\", \"width\": 1}, \"name\": \"T0: real\", \"opacity\": 1, \"showlegend\": false, \"text\": [\"18246\", \"27129\", \"34226\", \"40268\", \"72036\", \"78762\"], \"x\": [-76.6251, -111.405], \"y\": [-85.78, -130.203], \"type\": \"scatter\", \"uid\": \"ac2c544f-609f-4620-af66-6ee3b2e7e97c\"}, {\"hoverinfo\": \"name+text\", \"legendgroup\": \"True\", \"line\": {\"color\": \"darkseagreen\", \"width\": 1}, \"name\": \"T0: real\", \"opacity\": 1, \"showlegend\": false, \"text\": [\"18246\", \"27129\", \"34226\", \"40268\", \"72036\", \"78762\"], \"x\": [-111.405, -163.782], \"y\": [-130.203, -205.827], \"type\": \"scatter\", \"uid\": \"a467169d-e599-4105-9ece-9f450d0cc4d3\"}, {\"hoverinfo\": \"name+text\", \"legendgroup\": \"True\", \"line\": {\"color\": \"darkseagreen\", \"width\": 1}, \"name\": \"T0: real\", \"opacity\": 1, \"showlegend\": false, \"text\": [\"18246\", \"27129\", \"34226\", \"40268\", \"72036\", \"78762\"], \"x\": [-163.782, -213.656], \"y\": [-205.827, -290.52], \"type\": \"scatter\", \"uid\": \"b9c41727-b722-4ae1-b996-6331fbd90c8e\"}, {\"hoverinfo\": \"name+text\", \"legendgroup\": \"True\", \"line\": {\"color\": \"darkseagreen\", \"width\": 1}, \"name\": \"T1: real\", \"opacity\": 1, \"showlegend\": false, \"text\": [\"23050\", \"30426\", \"37198\", \"44045\", \"75480\", \"82723\"], \"x\": [-4.64343, -9.44367], \"y\": [31.6821, 70.8192], \"type\": \"scatter\", \"uid\": \"0878b979-e00c-478b-bbe1-f9abb8f0ee1e\"}, {\"hoverinfo\": \"name+text\", \"legendgroup\": \"True\", \"line\": {\"color\": \"darkseagreen\", \"width\": 1}, \"name\": \"T1: real\", \"opacity\": 1, \"showlegend\": false, \"text\": [\"23050\", \"30426\", \"37198\", \"44045\", \"75480\", \"82723\"], \"x\": [-9.44367, -13.5617], \"y\": [70.8192, 114.204], \"type\": \"scatter\", \"uid\": \"192e05c4-5849-4ec0-a7d8-adf911ec283a\"}, {\"hoverinfo\": \"name+text\", \"legendgroup\": \"True\", \"line\": {\"color\": \"darkseagreen\", \"width\": 1}, \"name\": \"T1: real\", \"opacity\": 1, \"showlegend\": false, \"text\": [\"23050\", \"30426\", \"37198\", \"44045\", \"75480\", \"82723\"], \"x\": [-13.5617, -16.8728], \"y\": [114.204, 171.016], \"type\": \"scatter\", \"uid\": \"5fe68cf0-18d7-4894-a985-debe2432bd3b\"}, {\"hoverinfo\": \"name+text\", \"legendgroup\": \"True\", \"line\": {\"color\": \"darkseagreen\", \"width\": 1}, \"name\": \"T1: real\", \"opacity\": 1, \"showlegend\": false, \"text\": [\"23050\", \"30426\", \"37198\", \"44045\", \"75480\", \"82723\"], \"x\": [-16.8728, -17.738], \"y\": [171.016, 257.521], \"type\": \"scatter\", \"uid\": \"5ff90565-495a-42ff-8bd2-c7b666548e8b\"}, {\"hoverinfo\": \"name+text\", \"legendgroup\": \"True\", \"line\": {\"color\": \"darkseagreen\", \"width\": 1}, \"name\": \"T1: real\", \"opacity\": 1, \"showlegend\": false, \"text\": [\"23050\", \"30426\", \"37198\", \"44045\", \"75480\", \"82723\"], \"x\": [-17.738, -11.9561], \"y\": [257.521, 360.148], \"type\": \"scatter\", \"uid\": \"c656dedf-f354-419f-aba8-35d16729ac13\"}, {\"hoverinfo\": \"name+text\", \"legendgroup\": \"True\", \"line\": {\"color\": \"green\", \"width\": 1}, \"name\": \"T2: real\", \"opacity\": 1, \"showlegend\": false, \"text\": [\"20764\", \"27487\", \"34491\", \"40865\", \"72549\", \"79138\", \"85537\"], \"x\": [5.5706, 10.5024], \"y\": [31.671, 72.0453], \"type\": \"scatter\", \"uid\": \"70be8b49-598e-4b7a-a133-a322d1e6d80d\"}, {\"hoverinfo\": \"name+text\", \"legendgroup\": \"True\", \"line\": {\"color\": \"green\", \"width\": 1}, \"name\": \"T2: real\", \"opacity\": 1, \"showlegend\": false, \"text\": [\"20764\", \"27487\", \"34491\", \"40865\", \"72549\", \"79138\", \"85537\"], \"x\": [10.5024, 14.7116], \"y\": [72.0453, 114.108], \"type\": \"scatter\", \"uid\": \"b3adfb6a-bb26-4cd7-9b6f-89a8686fd4f9\"}, {\"hoverinfo\": \"name+text\", \"legendgroup\": \"True\", \"line\": {\"color\": \"green\", \"width\": 1}, \"name\": \"T2: real\", \"opacity\": 1, \"showlegend\": false, \"text\": [\"20764\", \"27487\", \"34491\", \"40865\", \"72549\", \"79138\", \"85537\"], \"x\": [14.7116, 18.992], \"y\": [114.108, 171.997], \"type\": \"scatter\", \"uid\": \"a1066b95-5c13-4eb7-baef-be1fd26e2a9a\"}, {\"hoverinfo\": \"name+text\", \"legendgroup\": \"True\", \"line\": {\"color\": \"green\", \"width\": 1}, \"name\": \"T2: real\", \"opacity\": 1, \"showlegend\": false, \"text\": [\"20764\", \"27487\", \"34491\", \"40865\", \"72549\", \"79138\", \"85537\"], \"x\": [18.992, 22.298], \"y\": [171.997, 257.23400000000004], \"type\": \"scatter\", \"uid\": \"94a4ad5d-8768-4cfd-ae1a-5832e1f3cf82\"}, {\"hoverinfo\": \"name+text\", \"legendgroup\": \"True\", \"line\": {\"color\": \"green\", \"width\": 1}, \"name\": \"T2: real\", \"opacity\": 1, \"showlegend\": false, \"text\": [\"20764\", \"27487\", \"34491\", \"40865\", \"72549\", \"79138\", \"85537\"], \"x\": [22.298, 21.6577], \"y\": [257.23400000000004, 357.611], \"type\": \"scatter\", \"uid\": \"62f056b7-44a0-4d5f-a6ec-c805514971b8\"}, {\"hoverinfo\": \"name+text\", \"legendgroup\": \"True\", \"line\": {\"color\": \"green\", \"width\": 1}, \"name\": \"T2: real\", \"opacity\": 1, \"showlegend\": false, \"text\": [\"20764\", \"27487\", \"34491\", \"40865\", \"72549\", \"79138\", \"85537\"], \"x\": [21.6577, 12.251], \"y\": [357.611, 496.648], \"type\": \"scatter\", \"uid\": \"c6f0b789-c70d-4484-9031-9735b0a2d6de\"}, {\"hoverinfo\": \"name+text\", \"legendgroup\": \"True\", \"line\": {\"color\": \"darkseagreen\", \"width\": 1}, \"name\": \"T3: real\", \"opacity\": 1, \"showlegend\": false, \"text\": [\"21405\", \"30694\", \"38058\", \"44664\", \"76101\", \"83615\", \"90565\", \"96738\"], \"x\": [-33.5947, -73.825], \"y\": [0.8266889999999999, 0.838565], \"type\": \"scatter\", \"uid\": \"63f64abb-4a34-49b9-b884-5d71123217f6\"}, {\"hoverinfo\": \"name+text\", \"legendgroup\": \"True\", \"line\": {\"color\": \"darkseagreen\", \"width\": 1}, \"name\": \"T3: real\", \"opacity\": 1, \"showlegend\": false, \"text\": [\"21405\", \"30694\", \"38058\", \"44664\", \"76101\", \"83615\", \"90565\", \"96738\"], \"x\": [-73.825, -116.911], \"y\": [0.838565, -0.235947], \"type\": \"scatter\", \"uid\": \"a280f05a-f2da-46b7-b8c7-4a1ac5eb28db\"}, {\"hoverinfo\": \"name+text\", \"legendgroup\": \"True\", \"line\": {\"color\": \"darkseagreen\", \"width\": 1}, \"name\": \"T3: real\", \"opacity\": 1, \"showlegend\": false, \"text\": [\"21405\", \"30694\", \"38058\", \"44664\", \"76101\", \"83615\", \"90565\", \"96738\"], \"x\": [-116.911, -172.74200000000005], \"y\": [-0.235947, -3.4674400000000003], \"type\": \"scatter\", \"uid\": \"2d311953-deb6-4f45-8f8d-a65e39b4fdd7\"}, {\"hoverinfo\": \"name+text\", \"legendgroup\": \"True\", \"line\": {\"color\": \"darkseagreen\", \"width\": 1}, \"name\": \"T3: real\", \"opacity\": 1, \"showlegend\": false, \"text\": [\"21405\", \"30694\", \"38058\", \"44664\", \"76101\", \"83615\", \"90565\", \"96738\"], \"x\": [-172.74200000000005, -257.127], \"y\": [-3.4674400000000003, -12.2321], \"type\": \"scatter\", \"uid\": \"b7a57786-2b67-42d3-bfb8-b8e0c992cba9\"}, {\"hoverinfo\": \"name+text\", \"legendgroup\": \"True\", \"line\": {\"color\": \"darkseagreen\", \"width\": 1}, \"name\": \"T3: real\", \"opacity\": 1, \"showlegend\": false, \"text\": [\"21405\", \"30694\", \"38058\", \"44664\", \"76101\", \"83615\", \"90565\", \"96738\"], \"x\": [-257.127, -358.775], \"y\": [-12.2321, -29.005], \"type\": \"scatter\", \"uid\": \"75a0b33c-a900-4206-a940-b5c59ad8d574\"}, {\"hoverinfo\": \"name+text\", \"legendgroup\": \"True\", \"line\": {\"color\": \"darkseagreen\", \"width\": 1}, \"name\": \"T3: real\", \"opacity\": 1, \"showlegend\": false, \"text\": [\"21405\", \"30694\", \"38058\", \"44664\", \"76101\", \"83615\", \"90565\", \"96738\"], \"x\": [-358.775, -494.937], \"y\": [-29.005, -62.5497], \"type\": \"scatter\", \"uid\": \"9adfd169-47cc-47aa-a144-06d71b61e3fe\"}, {\"hoverinfo\": \"name+text\", \"legendgroup\": \"True\", \"line\": {\"color\": \"darkseagreen\", \"width\": 1}, \"name\": \"T3: real\", \"opacity\": 1, \"showlegend\": false, \"text\": [\"21405\", \"30694\", \"38058\", \"44664\", \"76101\", \"83615\", \"90565\", \"96738\"], \"x\": [-494.937, -650.641], \"y\": [-62.5497, -117.418], \"type\": \"scatter\", \"uid\": \"70e8d98e-25de-40d7-badc-2a6643efa7cb\"}, {\"hoverinfo\": \"name+text\", \"legendgroup\": \"True\", \"line\": {\"color\": \"green\", \"width\": 1}, \"name\": \"T4: real\", \"opacity\": 1, \"showlegend\": false, \"text\": [\"23536\", \"31418\", \"38524\", \"45067\", \"76902\", \"83944\", \"90803\", \"96934\"], \"x\": [-30.9263, -68.8454], \"y\": [9.9814, 22.8573], \"type\": \"scatter\", \"uid\": \"edacc3ce-9d0a-4852-bb39-de0f1edf18f1\"}, {\"hoverinfo\": \"name+text\", \"legendgroup\": \"True\", \"line\": {\"color\": \"green\", \"width\": 1}, \"name\": \"T4: real\", \"opacity\": 1, \"showlegend\": false, \"text\": [\"23536\", \"31418\", \"38524\", \"45067\", \"76902\", \"83944\", \"90803\", \"96934\"], \"x\": [-68.8454, -109.987], \"y\": [22.8573, 37.6253], \"type\": \"scatter\", \"uid\": \"e5d5dbee-9b8b-422c-80da-f245f9a3c838\"}, {\"hoverinfo\": \"name+text\", \"legendgroup\": \"True\", \"line\": {\"color\": \"green\", \"width\": 1}, \"name\": \"T4: real\", \"opacity\": 1, \"showlegend\": false, \"text\": [\"23536\", \"31418\", \"38524\", \"45067\", \"76902\", \"83944\", \"90803\", \"96934\"], \"x\": [-109.987, -161.876], \"y\": [37.6253, 57.4577], \"type\": \"scatter\", \"uid\": \"47786deb-4a1f-43fe-82df-29f59f2c7723\"}, {\"hoverinfo\": \"name+text\", \"legendgroup\": \"True\", \"line\": {\"color\": \"green\", \"width\": 1}, \"name\": \"T4: real\", \"opacity\": 1, \"showlegend\": false, \"text\": [\"23536\", \"31418\", \"38524\", \"45067\", \"76902\", \"83944\", \"90803\", \"96934\"], \"x\": [-161.876, -246.02], \"y\": [57.4577, 92.7332], \"type\": \"scatter\", \"uid\": \"eb9e93f4-a9be-4079-8289-3e04ff256b81\"}, {\"hoverinfo\": \"name+text\", \"legendgroup\": \"True\", \"line\": {\"color\": \"green\", \"width\": 1}, \"name\": \"T4: real\", \"opacity\": 1, \"showlegend\": false, \"text\": [\"23536\", \"31418\", \"38524\", \"45067\", \"76902\", \"83944\", \"90803\", \"96934\"], \"x\": [-246.02, -333.426], \"y\": [92.7332, 133.519], \"type\": \"scatter\", \"uid\": \"a5213b1d-05fc-47a9-8f24-4fd0f28bd79c\"}, {\"hoverinfo\": \"name+text\", \"legendgroup\": \"True\", \"line\": {\"color\": \"green\", \"width\": 1}, \"name\": \"T4: real\", \"opacity\": 1, \"showlegend\": false, \"text\": [\"23536\", \"31418\", \"38524\", \"45067\", \"76902\", \"83944\", \"90803\", \"96934\"], \"x\": [-333.426, -459.273], \"y\": [133.519, 200.49400000000003], \"type\": \"scatter\", \"uid\": \"94aaafd3-4b1a-405f-9f12-ab70306eba84\"}, {\"hoverinfo\": \"name+text\", \"legendgroup\": \"True\", \"line\": {\"color\": \"green\", \"width\": 1}, \"name\": \"T4: real\", \"opacity\": 1, \"showlegend\": false, \"text\": [\"23536\", \"31418\", \"38524\", \"45067\", \"76902\", \"83944\", \"90803\", \"96934\"], \"x\": [-459.273, -595.614], \"y\": [200.49400000000003, 284.758], \"type\": \"scatter\", \"uid\": \"6d597559-15eb-4a41-abd2-ac6319713ba0\"}, {\"hoverinfo\": \"name+text\", \"legendgroup\": \"True\", \"line\": {\"color\": \"green\", \"width\": 1}, \"name\": \"T5: real\", \"opacity\": 1, \"showlegend\": false, \"text\": [\"20262\", \"28058\", \"34877\", \"41146\", \"73201\", \"79641\", \"86195\", \"91955\", \"107743\"], \"x\": [32.2451, 70.7765], \"y\": [4.53326, 9.61941], \"type\": \"scatter\", \"uid\": \"1ceed08e-8fd2-4d3c-86c2-c6d8b1e4c9a3\"}, {\"hoverinfo\": \"name+text\", \"legendgroup\": \"True\", \"line\": {\"color\": \"green\", \"width\": 1}, \"name\": \"T5: real\", \"opacity\": 1, \"showlegend\": false, \"text\": [\"20262\", \"28058\", \"34877\", \"41146\", \"73201\", \"79641\", \"86195\", \"91955\", \"107743\"], \"x\": [70.7765, 114.433], \"y\": [9.61941, 14.9217], \"type\": \"scatter\", \"uid\": \"d01a5d0a-9f7f-4c2c-9f49-6af63a8b897b\"}, {\"hoverinfo\": \"name+text\", \"legendgroup\": \"True\", \"line\": {\"color\": \"green\", \"width\": 1}, \"name\": \"T5: real\", \"opacity\": 1, \"showlegend\": false, \"text\": [\"20262\", \"28058\", \"34877\", \"41146\", \"73201\", \"79641\", \"86195\", \"91955\", \"107743\"], \"x\": [114.433, 170.40099999999995], \"y\": [14.9217, 21.0637], \"type\": \"scatter\", \"uid\": \"9405ed1a-4289-4871-b2b4-b164ed5a1c85\"}, {\"hoverinfo\": \"name+text\", \"legendgroup\": \"True\", \"line\": {\"color\": \"green\", \"width\": 1}, \"name\": \"T5: real\", \"opacity\": 1, \"showlegend\": false, \"text\": [\"20262\", \"28058\", \"34877\", \"41146\", \"73201\", \"79641\", \"86195\", \"91955\", \"107743\"], \"x\": [170.40099999999995, 258.338], \"y\": [21.0637, 29.1488], \"type\": \"scatter\", \"uid\": \"2399f644-3c84-4d93-a843-187a99b87f47\"}, {\"hoverinfo\": \"name+text\", \"legendgroup\": \"True\", \"line\": {\"color\": \"green\", \"width\": 1}, \"name\": \"T5: real\", \"opacity\": 1, \"showlegend\": false, \"text\": [\"20262\", \"28058\", \"34877\", \"41146\", \"73201\", \"79641\", \"86195\", \"91955\", \"107743\"], \"x\": [258.338, 359.452], \"y\": [29.1488, 36.1999], \"type\": \"scatter\", \"uid\": \"db931428-3b0a-4613-b178-bccfeba654ce\"}, {\"hoverinfo\": \"name+text\", \"legendgroup\": \"True\", \"line\": {\"color\": \"green\", \"width\": 1}, \"name\": \"T5: real\", \"opacity\": 1, \"showlegend\": false, \"text\": [\"20262\", \"28058\", \"34877\", \"41146\", \"73201\", \"79641\", \"86195\", \"91955\", \"107743\"], \"x\": [359.452, 503.503], \"y\": [36.1999, 42.0709], \"type\": \"scatter\", \"uid\": \"d8b996e8-04a9-429e-89c0-a8b1912af9bf\"}, {\"hoverinfo\": \"name+text\", \"legendgroup\": \"True\", \"line\": {\"color\": \"green\", \"width\": 1}, \"name\": \"T5: real\", \"opacity\": 1, \"showlegend\": false, \"text\": [\"20262\", \"28058\", \"34877\", \"41146\", \"73201\", \"79641\", \"86195\", \"91955\", \"107743\"], \"x\": [503.503, 663.908], \"y\": [42.0709, 43.0984], \"type\": \"scatter\", \"uid\": \"438b3536-4e5c-4b02-80ba-a3d26b30c338\"}, {\"hoverinfo\": \"name+text\", \"legendgroup\": \"True\", \"line\": {\"color\": \"green\", \"width\": 1}, \"name\": \"T5: real\", \"opacity\": 1, \"showlegend\": false, \"text\": [\"20262\", \"28058\", \"34877\", \"41146\", \"73201\", \"79641\", \"86195\", \"91955\", \"107743\"], \"x\": [663.908, 823.312], \"y\": [43.0984, 38.3265], \"type\": \"scatter\", \"uid\": \"68968dd5-f7db-410c-8af0-f039c800d55c\"}, {\"hoverinfo\": \"name+text\", \"legendgroup\": \"True\", \"line\": {\"color\": \"green\", \"width\": 1}, \"name\": \"T6: real\", \"opacity\": 1, \"showlegend\": false, \"text\": [\"19698\", \"27827\", \"35259\", \"41464\", \"73085\", \"79880\", \"86402\", \"92130\", \"107883\"], \"x\": [-4.16977, -9.16296], \"y\": [-31.75, -71.4937], \"type\": \"scatter\", \"uid\": \"97170fa9-ddc7-43bb-99f4-b9ec207efd8c\"}, {\"hoverinfo\": \"name+text\", \"legendgroup\": \"True\", \"line\": {\"color\": \"green\", \"width\": 1}, \"name\": \"T6: real\", \"opacity\": 1, \"showlegend\": false, \"text\": [\"19698\", \"27827\", \"35259\", \"41464\", \"73085\", \"79880\", \"86402\", \"92130\", \"107883\"], \"x\": [-9.16296, -14.2464], \"y\": [-71.4937, -114.127], \"type\": \"scatter\", \"uid\": \"231a4422-d91d-484f-bed5-133040c24c03\"}, {\"hoverinfo\": \"name+text\", \"legendgroup\": \"True\", \"line\": {\"color\": \"green\", \"width\": 1}, \"name\": \"T6: real\", \"opacity\": 1, \"showlegend\": false, \"text\": [\"19698\", \"27827\", \"35259\", \"41464\", \"73085\", \"79880\", \"86402\", \"92130\", \"107883\"], \"x\": [-14.2464, -20.5217], \"y\": [-114.127, -170.169], \"type\": \"scatter\", \"uid\": \"f51e09f6-b1c0-47ff-ba25-b52a91f53b4f\"}, {\"hoverinfo\": \"name+text\", \"legendgroup\": \"True\", \"line\": {\"color\": \"green\", \"width\": 1}, \"name\": \"T6: real\", \"opacity\": 1, \"showlegend\": false, \"text\": [\"19698\", \"27827\", \"35259\", \"41464\", \"73085\", \"79880\", \"86402\", \"92130\", \"107883\"], \"x\": [-20.5217, -29.116], \"y\": [-170.169, -255.648], \"type\": \"scatter\", \"uid\": \"7f56302e-9bba-4b51-8ee7-a943db08da7b\"}, {\"hoverinfo\": \"name+text\", \"legendgroup\": \"True\", \"line\": {\"color\": \"green\", \"width\": 1}, \"name\": \"T6: real\", \"opacity\": 1, \"showlegend\": false, \"text\": [\"19698\", \"27827\", \"35259\", \"41464\", \"73085\", \"79880\", \"86402\", \"92130\", \"107883\"], \"x\": [-29.116, -38.3955], \"y\": [-255.648, -363.693], \"type\": \"scatter\", \"uid\": \"0e30d653-204c-4856-ae1e-bda975f7fab8\"}, {\"hoverinfo\": \"name+text\", \"legendgroup\": \"True\", \"line\": {\"color\": \"green\", \"width\": 1}, \"name\": \"T6: real\", \"opacity\": 1, \"showlegend\": false, \"text\": [\"19698\", \"27827\", \"35259\", \"41464\", \"73085\", \"79880\", \"86402\", \"92130\", \"107883\"], \"x\": [-38.3955, -47.3072], \"y\": [-363.693, -495.195], \"type\": \"scatter\", \"uid\": \"1664bbf5-5ddd-4d36-915b-6d33d36a6608\"}, {\"hoverinfo\": \"name+text\", \"legendgroup\": \"True\", \"line\": {\"color\": \"green\", \"width\": 1}, \"name\": \"T6: real\", \"opacity\": 1, \"showlegend\": false, \"text\": [\"19698\", \"27827\", \"35259\", \"41464\", \"73085\", \"79880\", \"86402\", \"92130\", \"107883\"], \"x\": [-47.3072, -54.4897], \"y\": [-495.195, -654.254], \"type\": \"scatter\", \"uid\": \"fc6f3f35-49f3-4b73-b4eb-00490f016e4c\"}, {\"hoverinfo\": \"name+text\", \"legendgroup\": \"True\", \"line\": {\"color\": \"green\", \"width\": 1}, \"name\": \"T6: real\", \"opacity\": 1, \"showlegend\": false, \"text\": [\"19698\", \"27827\", \"35259\", \"41464\", \"73085\", \"79880\", \"86402\", \"92130\", \"107883\"], \"x\": [-54.4897, -57.8177], \"y\": [-654.254, -817.466], \"type\": \"scatter\", \"uid\": \"9e2bcf32-26bd-488b-9422-a2b9c5b644be\"}, {\"hoverinfo\": \"name+text\", \"legendgroup\": \"True\", \"line\": {\"color\": \"green\", \"width\": 1}, \"name\": \"T7: real\", \"opacity\": 1, \"showlegend\": false, \"text\": [\"21265\", \"29504\", \"42350\", \"73830\", \"80933\", \"87292\", \"93165\", \"109022\", \"114036\"], \"x\": [-31.6364, -70.206], \"y\": [6.18379, 14.1226], \"type\": \"scatter\", \"uid\": \"36c18b02-6bf1-46bc-b285-6912902e8fbe\"}, {\"hoverinfo\": \"name+text\", \"legendgroup\": \"True\", \"line\": {\"color\": \"green\", \"width\": 1}, \"name\": \"T7: real\", \"opacity\": 1, \"showlegend\": false, \"text\": [\"21265\", \"29504\", \"42350\", \"73830\", \"80933\", \"87292\", \"93165\", \"109022\", \"114036\"], \"x\": [-70.206, -168.155], \"y\": [14.1226, 36.3725], \"type\": \"scatter\", \"uid\": \"2e95aded-3390-42a5-99aa-acd8db352a8f\"}, {\"hoverinfo\": \"name+text\", \"legendgroup\": \"True\", \"line\": {\"color\": \"green\", \"width\": 1}, \"name\": \"T7: real\", \"opacity\": 1, \"showlegend\": false, \"text\": [\"21265\", \"29504\", \"42350\", \"73830\", \"80933\", \"87292\", \"93165\", \"109022\", \"114036\"], \"x\": [-168.155, -255.151], \"y\": [36.3725, 58.8872], \"type\": \"scatter\", \"uid\": \"72a6027b-ea6f-4d07-a590-b6b73fe889a8\"}, {\"hoverinfo\": \"name+text\", \"legendgroup\": \"True\", \"line\": {\"color\": \"green\", \"width\": 1}, \"name\": \"T7: real\", \"opacity\": 1, \"showlegend\": false, \"text\": [\"21265\", \"29504\", \"42350\", \"73830\", \"80933\", \"87292\", \"93165\", \"109022\", \"114036\"], \"x\": [-255.151, -353.285], \"y\": [58.8872, 87.1991], \"type\": \"scatter\", \"uid\": \"4380cfd0-ee40-45c1-9afa-73474a69a35a\"}, {\"hoverinfo\": \"name+text\", \"legendgroup\": \"True\", \"line\": {\"color\": \"green\", \"width\": 1}, \"name\": \"T7: real\", \"opacity\": 1, \"showlegend\": false, \"text\": [\"21265\", \"29504\", \"42350\", \"73830\", \"80933\", \"87292\", \"93165\", \"109022\", \"114036\"], \"x\": [-353.285, -482.875], \"y\": [87.1991, 129.892], \"type\": \"scatter\", \"uid\": \"30d45c8b-1ff5-4d06-9abb-44d837420d34\"}, {\"hoverinfo\": \"name+text\", \"legendgroup\": \"True\", \"line\": {\"color\": \"green\", \"width\": 1}, \"name\": \"T7: real\", \"opacity\": 1, \"showlegend\": false, \"text\": [\"21265\", \"29504\", \"42350\", \"73830\", \"80933\", \"87292\", \"93165\", \"109022\", \"114036\"], \"x\": [-482.875, -633.385], \"y\": [129.892, 187.317], \"type\": \"scatter\", \"uid\": \"78b37a58-49af-41c9-ab52-5baf12a572b9\"}, {\"hoverinfo\": \"name+text\", \"legendgroup\": \"True\", \"line\": {\"color\": \"green\", \"width\": 1}, \"name\": \"T7: real\", \"opacity\": 1, \"showlegend\": false, \"text\": [\"21265\", \"29504\", \"42350\", \"73830\", \"80933\", \"87292\", \"93165\", \"109022\", \"114036\"], \"x\": [-633.385, -782.4169999999998], \"y\": [187.317, 252.867], \"type\": \"scatter\", \"uid\": \"9f338e65-21a7-44c2-a107-8f6027b01a8f\"}, {\"hoverinfo\": \"name+text\", \"legendgroup\": \"True\", \"line\": {\"color\": \"green\", \"width\": 1}, \"name\": \"T7: real\", \"opacity\": 1, \"showlegend\": false, \"text\": [\"21265\", \"29504\", \"42350\", \"73830\", \"80933\", \"87292\", \"93165\", \"109022\", \"114036\"], \"x\": [-782.4169999999998, -962.827], \"y\": [252.867, 344.76199999999994], \"type\": \"scatter\", \"uid\": \"3ecc0234-253d-4b85-906f-4bfc2c077533\"}, {\"hoverinfo\": \"name+text\", \"legendgroup\": \"True\", \"line\": {\"color\": \"darkseagreen\", \"width\": 1}, \"name\": \"T8: real\", \"opacity\": 1, \"showlegend\": false, \"text\": [\"75184\", \"82090\", \"88632\", \"94896\", \"110783\", \"116120\"], \"x\": [-1.10379, -15.6281], \"y\": [-262.164, -358.871], \"type\": \"scatter\", \"uid\": \"39f5012e-0ef5-4671-a380-d627b3da7669\"}, {\"hoverinfo\": \"name+text\", \"legendgroup\": \"True\", \"line\": {\"color\": \"darkseagreen\", \"width\": 1}, \"name\": \"T8: real\", \"opacity\": 1, \"showlegend\": false, \"text\": [\"75184\", \"82090\", \"88632\", \"94896\", \"110783\", \"116120\"], \"x\": [-15.6281, -48.3976], \"y\": [-358.871, -494.939], \"type\": \"scatter\", \"uid\": \"6ecd2abd-f32f-4016-936a-45a1311633f5\"}, {\"hoverinfo\": \"name+text\", \"legendgroup\": \"True\", \"line\": {\"color\": \"darkseagreen\", \"width\": 1}, \"name\": \"T8: real\", \"opacity\": 1, \"showlegend\": false, \"text\": [\"75184\", \"82090\", \"88632\", \"94896\", \"110783\", \"116120\"], \"x\": [-48.3976, -107.941], \"y\": [-494.939, -654.971], \"type\": \"scatter\", \"uid\": \"58b03d23-a8e1-45d7-a5b8-3583d6fe8de9\"}, {\"hoverinfo\": \"name+text\", \"legendgroup\": \"True\", \"line\": {\"color\": \"darkseagreen\", \"width\": 1}, \"name\": \"T8: real\", \"opacity\": 1, \"showlegend\": false, \"text\": [\"75184\", \"82090\", \"88632\", \"94896\", \"110783\", \"116120\"], \"x\": [-107.941, -184.63], \"y\": [-654.971, -801.703], \"type\": \"scatter\", \"uid\": \"4f383695-1035-4f76-82bf-6531b9f2c213\"}, {\"hoverinfo\": \"name+text\", \"legendgroup\": \"True\", \"line\": {\"color\": \"darkseagreen\", \"width\": 1}, \"name\": \"T8: real\", \"opacity\": 1, \"showlegend\": false, \"text\": [\"75184\", \"82090\", \"88632\", \"94896\", \"110783\", \"116120\"], \"x\": [-184.63, -306.828], \"y\": [-801.703, -971.876], \"type\": \"scatter\", \"uid\": \"a090ccf4-4a10-4eb0-8fe7-ed2a8022779d\"}], {\"height\": 800, \"hovermode\": \"closest\", \"showlegend\": true, \"updatemenus\": [{\"buttons\": [{\"args\": [\"shapes\", []], \"label\": \"hide layers\", \"method\": \"relayout\"}, {\"args\": [\"shapes\", [{\"type\": \"circle\", \"x0\": -32, \"x1\": 32, \"y0\": -32, \"y1\": 32, \"opacity\": 0.5, \"layer\": \"below\", \"line\": {\"color\": \"#ccc\"}}, {\"type\": \"circle\", \"x0\": -72, \"x1\": 72, \"y0\": -72, \"y1\": 72, \"opacity\": 0.5, \"layer\": \"below\", \"line\": {\"color\": \"#ccc\"}}, {\"type\": \"circle\", \"x0\": -116, \"x1\": 116, \"y0\": -116, \"y1\": 116, \"opacity\": 0.5, \"layer\": \"below\", \"line\": {\"color\": \"#ccc\"}}, {\"type\": \"circle\", \"x0\": -172, \"x1\": 172, \"y0\": -172, \"y1\": 172, \"opacity\": 0.5, \"layer\": \"below\", \"line\": {\"color\": \"#ccc\"}}, {\"type\": \"circle\", \"x0\": -260, \"x1\": 260, \"y0\": -260, \"y1\": 260, \"opacity\": 0.5, \"layer\": \"below\", \"line\": {\"color\": \"#cccc8d\"}}, {\"type\": \"circle\", \"x0\": -360, \"x1\": 360, \"y0\": -360, \"y1\": 360, \"opacity\": 0.5, \"layer\": \"below\", \"line\": {\"color\": \"#cccc8d\"}}, {\"type\": \"circle\", \"x0\": -500, \"x1\": 500, \"y0\": -500, \"y1\": 500, \"opacity\": 0.5, \"layer\": \"below\", \"line\": {\"color\": \"#cccc8d\"}}, {\"type\": \"circle\", \"x0\": -660, \"x1\": 660, \"y0\": -660, \"y1\": 660, \"opacity\": 0.5, \"layer\": \"below\", \"line\": {\"color\": \"#cccc8d\"}}, {\"type\": \"circle\", \"x0\": -820, \"x1\": 820, \"y0\": -820, \"y1\": 820, \"opacity\": 0.5, \"layer\": \"below\", \"line\": {\"color\": \"#ccc\"}}, {\"type\": \"circle\", \"x0\": -1020, \"x1\": 1020, \"y0\": -1020, \"y1\": 1020, \"opacity\": 0.5, \"layer\": \"below\", \"line\": {\"color\": \"#ccc\"}}]], \"label\": \"show layers\", \"method\": \"relayout\"}], \"direction\": \"left\", \"pad\": {\"l\": 0.1}, \"type\": \"buttons\", \"xanchor\": \"left\", \"y\": 1.1, \"yanchor\": \"top\"}, {\"buttons\": [{\"args\": [{\"mode\": \"markers+lines\"}], \"label\": \"hits+tracks\", \"method\": \"update\"}, {\"args\": [{\"mode\": \"markers\"}], \"label\": \"hits only\", \"method\": \"update\"}], \"direction\": \"left\", \"pad\": {\"l\": 200}, \"type\": \"buttons\", \"xanchor\": \"left\", \"y\": 1.1, \"yanchor\": \"top\"}, {\"buttons\": [{\"args\": [\"yaxis.scaleanchor\", null], \"label\": \"free\", \"method\": \"relayout\"}, {\"args\": [\"yaxis.scaleanchor\", \"x\"], \"label\": \"fixed\", \"method\": \"relayout\"}], \"direction\": \"left\", \"pad\": {\"l\": 380}, \"type\": \"buttons\", \"xanchor\": \"left\", \"y\": 1.1, \"yanchor\": \"top\"}], \"width\": 800, \"xaxis\": {\"title\": \"x\"}, \"yaxis\": {\"title\": \"y\"}}, {\"showLink\": true, \"linkText\": \"Export to plot.ly\", \"plotlyServerURL\": \"https://plot.ly\"})});</script>"
      ],
      "text/vnd.plotly.v1+html": [
       "<div id=\"dab52219-eb27-4a8c-89a1-6ff3bbf99c80\" style=\"height: 800px; width: 800px;\" class=\"plotly-graph-div\"></div><script type=\"text/javascript\">require([\"plotly\"], function(Plotly) { window.PLOTLYENV=window.PLOTLYENV || {};window.PLOTLYENV.BASE_URL=\"https://plot.ly\";Plotly.newPlot(\"dab52219-eb27-4a8c-89a1-6ff3bbf99c80\", [{\"hoverinfo\": \"name+text\", \"legendgroup\": \"True\", \"line\": {\"color\": \"darkseagreen\", \"width\": 1}, \"name\": \"T0: real\", \"opacity\": 1, \"showlegend\": true, \"text\": [\"18246\", \"27129\", \"34226\", \"40268\", \"72036\", \"78762\"], \"x\": [-21.7191, -49.4278], \"y\": [-22.879, -53.6609], \"type\": \"scatter\", \"uid\": \"ac0f7d9e-cf44-4682-8a4f-a0f8bd6e868c\"}, {\"hoverinfo\": \"name+text\", \"legendgroup\": \"True\", \"line\": {\"color\": \"darkseagreen\", \"width\": 1}, \"name\": \"T0: real\", \"opacity\": 1, \"showlegend\": false, \"text\": [\"18246\", \"27129\", \"34226\", \"40268\", \"72036\", \"78762\"], \"x\": [-49.4278, -76.6251], \"y\": [-53.6609, -85.78], \"type\": \"scatter\", \"uid\": \"3b9cfadf-2114-4c24-a7dd-f38ce444c3ba\"}, {\"hoverinfo\": \"name+text\", \"legendgroup\": \"True\", \"line\": {\"color\": \"darkseagreen\", \"width\": 1}, \"name\": \"T0: real\", \"opacity\": 1, \"showlegend\": false, \"text\": [\"18246\", \"27129\", \"34226\", \"40268\", \"72036\", \"78762\"], \"x\": [-76.6251, -111.405], \"y\": [-85.78, -130.203], \"type\": \"scatter\", \"uid\": \"ac2c544f-609f-4620-af66-6ee3b2e7e97c\"}, {\"hoverinfo\": \"name+text\", \"legendgroup\": \"True\", \"line\": {\"color\": \"darkseagreen\", \"width\": 1}, \"name\": \"T0: real\", \"opacity\": 1, \"showlegend\": false, \"text\": [\"18246\", \"27129\", \"34226\", \"40268\", \"72036\", \"78762\"], \"x\": [-111.405, -163.782], \"y\": [-130.203, -205.827], \"type\": \"scatter\", \"uid\": \"a467169d-e599-4105-9ece-9f450d0cc4d3\"}, {\"hoverinfo\": \"name+text\", \"legendgroup\": \"True\", \"line\": {\"color\": \"darkseagreen\", \"width\": 1}, \"name\": \"T0: real\", \"opacity\": 1, \"showlegend\": false, \"text\": [\"18246\", \"27129\", \"34226\", \"40268\", \"72036\", \"78762\"], \"x\": [-163.782, -213.656], \"y\": [-205.827, -290.52], \"type\": \"scatter\", \"uid\": \"b9c41727-b722-4ae1-b996-6331fbd90c8e\"}, {\"hoverinfo\": \"name+text\", \"legendgroup\": \"True\", \"line\": {\"color\": \"darkseagreen\", \"width\": 1}, \"name\": \"T1: real\", \"opacity\": 1, \"showlegend\": false, \"text\": [\"23050\", \"30426\", \"37198\", \"44045\", \"75480\", \"82723\"], \"x\": [-4.64343, -9.44367], \"y\": [31.6821, 70.8192], \"type\": \"scatter\", \"uid\": \"0878b979-e00c-478b-bbe1-f9abb8f0ee1e\"}, {\"hoverinfo\": \"name+text\", \"legendgroup\": \"True\", \"line\": {\"color\": \"darkseagreen\", \"width\": 1}, \"name\": \"T1: real\", \"opacity\": 1, \"showlegend\": false, \"text\": [\"23050\", \"30426\", \"37198\", \"44045\", \"75480\", \"82723\"], \"x\": [-9.44367, -13.5617], \"y\": [70.8192, 114.204], \"type\": \"scatter\", \"uid\": \"192e05c4-5849-4ec0-a7d8-adf911ec283a\"}, {\"hoverinfo\": \"name+text\", \"legendgroup\": \"True\", \"line\": {\"color\": \"darkseagreen\", \"width\": 1}, \"name\": \"T1: real\", \"opacity\": 1, \"showlegend\": false, \"text\": [\"23050\", \"30426\", \"37198\", \"44045\", \"75480\", \"82723\"], \"x\": [-13.5617, -16.8728], \"y\": [114.204, 171.016], \"type\": \"scatter\", \"uid\": \"5fe68cf0-18d7-4894-a985-debe2432bd3b\"}, {\"hoverinfo\": \"name+text\", \"legendgroup\": \"True\", \"line\": {\"color\": \"darkseagreen\", \"width\": 1}, \"name\": \"T1: real\", \"opacity\": 1, \"showlegend\": false, \"text\": [\"23050\", \"30426\", \"37198\", \"44045\", \"75480\", \"82723\"], \"x\": [-16.8728, -17.738], \"y\": [171.016, 257.521], \"type\": \"scatter\", \"uid\": \"5ff90565-495a-42ff-8bd2-c7b666548e8b\"}, {\"hoverinfo\": \"name+text\", \"legendgroup\": \"True\", \"line\": {\"color\": \"darkseagreen\", \"width\": 1}, \"name\": \"T1: real\", \"opacity\": 1, \"showlegend\": false, \"text\": [\"23050\", \"30426\", \"37198\", \"44045\", \"75480\", \"82723\"], \"x\": [-17.738, -11.9561], \"y\": [257.521, 360.148], \"type\": \"scatter\", \"uid\": \"c656dedf-f354-419f-aba8-35d16729ac13\"}, {\"hoverinfo\": \"name+text\", \"legendgroup\": \"True\", \"line\": {\"color\": \"green\", \"width\": 1}, \"name\": \"T2: real\", \"opacity\": 1, \"showlegend\": false, \"text\": [\"20764\", \"27487\", \"34491\", \"40865\", \"72549\", \"79138\", \"85537\"], \"x\": [5.5706, 10.5024], \"y\": [31.671, 72.0453], \"type\": \"scatter\", \"uid\": \"70be8b49-598e-4b7a-a133-a322d1e6d80d\"}, {\"hoverinfo\": \"name+text\", \"legendgroup\": \"True\", \"line\": {\"color\": \"green\", \"width\": 1}, \"name\": \"T2: real\", \"opacity\": 1, \"showlegend\": false, \"text\": [\"20764\", \"27487\", \"34491\", \"40865\", \"72549\", \"79138\", \"85537\"], \"x\": [10.5024, 14.7116], \"y\": [72.0453, 114.108], \"type\": \"scatter\", \"uid\": \"b3adfb6a-bb26-4cd7-9b6f-89a8686fd4f9\"}, {\"hoverinfo\": \"name+text\", \"legendgroup\": \"True\", \"line\": {\"color\": \"green\", \"width\": 1}, \"name\": \"T2: real\", \"opacity\": 1, \"showlegend\": false, \"text\": [\"20764\", \"27487\", \"34491\", \"40865\", \"72549\", \"79138\", \"85537\"], \"x\": [14.7116, 18.992], \"y\": [114.108, 171.997], \"type\": \"scatter\", \"uid\": \"a1066b95-5c13-4eb7-baef-be1fd26e2a9a\"}, {\"hoverinfo\": \"name+text\", \"legendgroup\": \"True\", \"line\": {\"color\": \"green\", \"width\": 1}, \"name\": \"T2: real\", \"opacity\": 1, \"showlegend\": false, \"text\": [\"20764\", \"27487\", \"34491\", \"40865\", \"72549\", \"79138\", \"85537\"], \"x\": [18.992, 22.298], \"y\": [171.997, 257.23400000000004], \"type\": \"scatter\", \"uid\": \"94a4ad5d-8768-4cfd-ae1a-5832e1f3cf82\"}, {\"hoverinfo\": \"name+text\", \"legendgroup\": \"True\", \"line\": {\"color\": \"green\", \"width\": 1}, \"name\": \"T2: real\", \"opacity\": 1, \"showlegend\": false, \"text\": [\"20764\", \"27487\", \"34491\", \"40865\", \"72549\", \"79138\", \"85537\"], \"x\": [22.298, 21.6577], \"y\": [257.23400000000004, 357.611], \"type\": \"scatter\", \"uid\": \"62f056b7-44a0-4d5f-a6ec-c805514971b8\"}, {\"hoverinfo\": \"name+text\", \"legendgroup\": \"True\", \"line\": {\"color\": \"green\", \"width\": 1}, \"name\": \"T2: real\", \"opacity\": 1, \"showlegend\": false, \"text\": [\"20764\", \"27487\", \"34491\", \"40865\", \"72549\", \"79138\", \"85537\"], \"x\": [21.6577, 12.251], \"y\": [357.611, 496.648], \"type\": \"scatter\", \"uid\": \"c6f0b789-c70d-4484-9031-9735b0a2d6de\"}, {\"hoverinfo\": \"name+text\", \"legendgroup\": \"True\", \"line\": {\"color\": \"darkseagreen\", \"width\": 1}, \"name\": \"T3: real\", \"opacity\": 1, \"showlegend\": false, \"text\": [\"21405\", \"30694\", \"38058\", \"44664\", \"76101\", \"83615\", \"90565\", \"96738\"], \"x\": [-33.5947, -73.825], \"y\": [0.8266889999999999, 0.838565], \"type\": \"scatter\", \"uid\": \"63f64abb-4a34-49b9-b884-5d71123217f6\"}, {\"hoverinfo\": \"name+text\", \"legendgroup\": \"True\", \"line\": {\"color\": \"darkseagreen\", \"width\": 1}, \"name\": \"T3: real\", \"opacity\": 1, \"showlegend\": false, \"text\": [\"21405\", \"30694\", \"38058\", \"44664\", \"76101\", \"83615\", \"90565\", \"96738\"], \"x\": [-73.825, -116.911], \"y\": [0.838565, -0.235947], \"type\": \"scatter\", \"uid\": \"a280f05a-f2da-46b7-b8c7-4a1ac5eb28db\"}, {\"hoverinfo\": \"name+text\", \"legendgroup\": \"True\", \"line\": {\"color\": \"darkseagreen\", \"width\": 1}, \"name\": \"T3: real\", \"opacity\": 1, \"showlegend\": false, \"text\": [\"21405\", \"30694\", \"38058\", \"44664\", \"76101\", \"83615\", \"90565\", \"96738\"], \"x\": [-116.911, -172.74200000000005], \"y\": [-0.235947, -3.4674400000000003], \"type\": \"scatter\", \"uid\": \"2d311953-deb6-4f45-8f8d-a65e39b4fdd7\"}, {\"hoverinfo\": \"name+text\", \"legendgroup\": \"True\", \"line\": {\"color\": \"darkseagreen\", \"width\": 1}, \"name\": \"T3: real\", \"opacity\": 1, \"showlegend\": false, \"text\": [\"21405\", \"30694\", \"38058\", \"44664\", \"76101\", \"83615\", \"90565\", \"96738\"], \"x\": [-172.74200000000005, -257.127], \"y\": [-3.4674400000000003, -12.2321], \"type\": \"scatter\", \"uid\": \"b7a57786-2b67-42d3-bfb8-b8e0c992cba9\"}, {\"hoverinfo\": \"name+text\", \"legendgroup\": \"True\", \"line\": {\"color\": \"darkseagreen\", \"width\": 1}, \"name\": \"T3: real\", \"opacity\": 1, \"showlegend\": false, \"text\": [\"21405\", \"30694\", \"38058\", \"44664\", \"76101\", \"83615\", \"90565\", \"96738\"], \"x\": [-257.127, -358.775], \"y\": [-12.2321, -29.005], \"type\": \"scatter\", \"uid\": \"75a0b33c-a900-4206-a940-b5c59ad8d574\"}, {\"hoverinfo\": \"name+text\", \"legendgroup\": \"True\", \"line\": {\"color\": \"darkseagreen\", \"width\": 1}, \"name\": \"T3: real\", \"opacity\": 1, \"showlegend\": false, \"text\": [\"21405\", \"30694\", \"38058\", \"44664\", \"76101\", \"83615\", \"90565\", \"96738\"], \"x\": [-358.775, -494.937], \"y\": [-29.005, -62.5497], \"type\": \"scatter\", \"uid\": \"9adfd169-47cc-47aa-a144-06d71b61e3fe\"}, {\"hoverinfo\": \"name+text\", \"legendgroup\": \"True\", \"line\": {\"color\": \"darkseagreen\", \"width\": 1}, \"name\": \"T3: real\", \"opacity\": 1, \"showlegend\": false, \"text\": [\"21405\", \"30694\", \"38058\", \"44664\", \"76101\", \"83615\", \"90565\", \"96738\"], \"x\": [-494.937, -650.641], \"y\": [-62.5497, -117.418], \"type\": \"scatter\", \"uid\": \"70e8d98e-25de-40d7-badc-2a6643efa7cb\"}, {\"hoverinfo\": \"name+text\", \"legendgroup\": \"True\", \"line\": {\"color\": \"green\", \"width\": 1}, \"name\": \"T4: real\", \"opacity\": 1, \"showlegend\": false, \"text\": [\"23536\", \"31418\", \"38524\", \"45067\", \"76902\", \"83944\", \"90803\", \"96934\"], \"x\": [-30.9263, -68.8454], \"y\": [9.9814, 22.8573], \"type\": \"scatter\", \"uid\": \"edacc3ce-9d0a-4852-bb39-de0f1edf18f1\"}, {\"hoverinfo\": \"name+text\", \"legendgroup\": \"True\", \"line\": {\"color\": \"green\", \"width\": 1}, \"name\": \"T4: real\", \"opacity\": 1, \"showlegend\": false, \"text\": [\"23536\", \"31418\", \"38524\", \"45067\", \"76902\", \"83944\", \"90803\", \"96934\"], \"x\": [-68.8454, -109.987], \"y\": [22.8573, 37.6253], \"type\": \"scatter\", \"uid\": \"e5d5dbee-9b8b-422c-80da-f245f9a3c838\"}, {\"hoverinfo\": \"name+text\", \"legendgroup\": \"True\", \"line\": {\"color\": \"green\", \"width\": 1}, \"name\": \"T4: real\", \"opacity\": 1, \"showlegend\": false, \"text\": [\"23536\", \"31418\", \"38524\", \"45067\", \"76902\", \"83944\", \"90803\", \"96934\"], \"x\": [-109.987, -161.876], \"y\": [37.6253, 57.4577], \"type\": \"scatter\", \"uid\": \"47786deb-4a1f-43fe-82df-29f59f2c7723\"}, {\"hoverinfo\": \"name+text\", \"legendgroup\": \"True\", \"line\": {\"color\": \"green\", \"width\": 1}, \"name\": \"T4: real\", \"opacity\": 1, \"showlegend\": false, \"text\": [\"23536\", \"31418\", \"38524\", \"45067\", \"76902\", \"83944\", \"90803\", \"96934\"], \"x\": [-161.876, -246.02], \"y\": [57.4577, 92.7332], \"type\": \"scatter\", \"uid\": \"eb9e93f4-a9be-4079-8289-3e04ff256b81\"}, {\"hoverinfo\": \"name+text\", \"legendgroup\": \"True\", \"line\": {\"color\": \"green\", \"width\": 1}, \"name\": \"T4: real\", \"opacity\": 1, \"showlegend\": false, \"text\": [\"23536\", \"31418\", \"38524\", \"45067\", \"76902\", \"83944\", \"90803\", \"96934\"], \"x\": [-246.02, -333.426], \"y\": [92.7332, 133.519], \"type\": \"scatter\", \"uid\": \"a5213b1d-05fc-47a9-8f24-4fd0f28bd79c\"}, {\"hoverinfo\": \"name+text\", \"legendgroup\": \"True\", \"line\": {\"color\": \"green\", \"width\": 1}, \"name\": \"T4: real\", \"opacity\": 1, \"showlegend\": false, \"text\": [\"23536\", \"31418\", \"38524\", \"45067\", \"76902\", \"83944\", \"90803\", \"96934\"], \"x\": [-333.426, -459.273], \"y\": [133.519, 200.49400000000003], \"type\": \"scatter\", \"uid\": \"94aaafd3-4b1a-405f-9f12-ab70306eba84\"}, {\"hoverinfo\": \"name+text\", \"legendgroup\": \"True\", \"line\": {\"color\": \"green\", \"width\": 1}, \"name\": \"T4: real\", \"opacity\": 1, \"showlegend\": false, \"text\": [\"23536\", \"31418\", \"38524\", \"45067\", \"76902\", \"83944\", \"90803\", \"96934\"], \"x\": [-459.273, -595.614], \"y\": [200.49400000000003, 284.758], \"type\": \"scatter\", \"uid\": \"6d597559-15eb-4a41-abd2-ac6319713ba0\"}, {\"hoverinfo\": \"name+text\", \"legendgroup\": \"True\", \"line\": {\"color\": \"green\", \"width\": 1}, \"name\": \"T5: real\", \"opacity\": 1, \"showlegend\": false, \"text\": [\"20262\", \"28058\", \"34877\", \"41146\", \"73201\", \"79641\", \"86195\", \"91955\", \"107743\"], \"x\": [32.2451, 70.7765], \"y\": [4.53326, 9.61941], \"type\": \"scatter\", \"uid\": \"1ceed08e-8fd2-4d3c-86c2-c6d8b1e4c9a3\"}, {\"hoverinfo\": \"name+text\", \"legendgroup\": \"True\", \"line\": {\"color\": \"green\", \"width\": 1}, \"name\": \"T5: real\", \"opacity\": 1, \"showlegend\": false, \"text\": [\"20262\", \"28058\", \"34877\", \"41146\", \"73201\", \"79641\", \"86195\", \"91955\", \"107743\"], \"x\": [70.7765, 114.433], \"y\": [9.61941, 14.9217], \"type\": \"scatter\", \"uid\": \"d01a5d0a-9f7f-4c2c-9f49-6af63a8b897b\"}, {\"hoverinfo\": \"name+text\", \"legendgroup\": \"True\", \"line\": {\"color\": \"green\", \"width\": 1}, \"name\": \"T5: real\", \"opacity\": 1, \"showlegend\": false, \"text\": [\"20262\", \"28058\", \"34877\", \"41146\", \"73201\", \"79641\", \"86195\", \"91955\", \"107743\"], \"x\": [114.433, 170.40099999999995], \"y\": [14.9217, 21.0637], \"type\": \"scatter\", \"uid\": \"9405ed1a-4289-4871-b2b4-b164ed5a1c85\"}, {\"hoverinfo\": \"name+text\", \"legendgroup\": \"True\", \"line\": {\"color\": \"green\", \"width\": 1}, \"name\": \"T5: real\", \"opacity\": 1, \"showlegend\": false, \"text\": [\"20262\", \"28058\", \"34877\", \"41146\", \"73201\", \"79641\", \"86195\", \"91955\", \"107743\"], \"x\": [170.40099999999995, 258.338], \"y\": [21.0637, 29.1488], \"type\": \"scatter\", \"uid\": \"2399f644-3c84-4d93-a843-187a99b87f47\"}, {\"hoverinfo\": \"name+text\", \"legendgroup\": \"True\", \"line\": {\"color\": \"green\", \"width\": 1}, \"name\": \"T5: real\", \"opacity\": 1, \"showlegend\": false, \"text\": [\"20262\", \"28058\", \"34877\", \"41146\", \"73201\", \"79641\", \"86195\", \"91955\", \"107743\"], \"x\": [258.338, 359.452], \"y\": [29.1488, 36.1999], \"type\": \"scatter\", \"uid\": \"db931428-3b0a-4613-b178-bccfeba654ce\"}, {\"hoverinfo\": \"name+text\", \"legendgroup\": \"True\", \"line\": {\"color\": \"green\", \"width\": 1}, \"name\": \"T5: real\", \"opacity\": 1, \"showlegend\": false, \"text\": [\"20262\", \"28058\", \"34877\", \"41146\", \"73201\", \"79641\", \"86195\", \"91955\", \"107743\"], \"x\": [359.452, 503.503], \"y\": [36.1999, 42.0709], \"type\": \"scatter\", \"uid\": \"d8b996e8-04a9-429e-89c0-a8b1912af9bf\"}, {\"hoverinfo\": \"name+text\", \"legendgroup\": \"True\", \"line\": {\"color\": \"green\", \"width\": 1}, \"name\": \"T5: real\", \"opacity\": 1, \"showlegend\": false, \"text\": [\"20262\", \"28058\", \"34877\", \"41146\", \"73201\", \"79641\", \"86195\", \"91955\", \"107743\"], \"x\": [503.503, 663.908], \"y\": [42.0709, 43.0984], \"type\": \"scatter\", \"uid\": \"438b3536-4e5c-4b02-80ba-a3d26b30c338\"}, {\"hoverinfo\": \"name+text\", \"legendgroup\": \"True\", \"line\": {\"color\": \"green\", \"width\": 1}, \"name\": \"T5: real\", \"opacity\": 1, \"showlegend\": false, \"text\": [\"20262\", \"28058\", \"34877\", \"41146\", \"73201\", \"79641\", \"86195\", \"91955\", \"107743\"], \"x\": [663.908, 823.312], \"y\": [43.0984, 38.3265], \"type\": \"scatter\", \"uid\": \"68968dd5-f7db-410c-8af0-f039c800d55c\"}, {\"hoverinfo\": \"name+text\", \"legendgroup\": \"True\", \"line\": {\"color\": \"green\", \"width\": 1}, \"name\": \"T6: real\", \"opacity\": 1, \"showlegend\": false, \"text\": [\"19698\", \"27827\", \"35259\", \"41464\", \"73085\", \"79880\", \"86402\", \"92130\", \"107883\"], \"x\": [-4.16977, -9.16296], \"y\": [-31.75, -71.4937], \"type\": \"scatter\", \"uid\": \"97170fa9-ddc7-43bb-99f4-b9ec207efd8c\"}, {\"hoverinfo\": \"name+text\", \"legendgroup\": \"True\", \"line\": {\"color\": \"green\", \"width\": 1}, \"name\": \"T6: real\", \"opacity\": 1, \"showlegend\": false, \"text\": [\"19698\", \"27827\", \"35259\", \"41464\", \"73085\", \"79880\", \"86402\", \"92130\", \"107883\"], \"x\": [-9.16296, -14.2464], \"y\": [-71.4937, -114.127], \"type\": \"scatter\", \"uid\": \"231a4422-d91d-484f-bed5-133040c24c03\"}, {\"hoverinfo\": \"name+text\", \"legendgroup\": \"True\", \"line\": {\"color\": \"green\", \"width\": 1}, \"name\": \"T6: real\", \"opacity\": 1, \"showlegend\": false, \"text\": [\"19698\", \"27827\", \"35259\", \"41464\", \"73085\", \"79880\", \"86402\", \"92130\", \"107883\"], \"x\": [-14.2464, -20.5217], \"y\": [-114.127, -170.169], \"type\": \"scatter\", \"uid\": \"f51e09f6-b1c0-47ff-ba25-b52a91f53b4f\"}, {\"hoverinfo\": \"name+text\", \"legendgroup\": \"True\", \"line\": {\"color\": \"green\", \"width\": 1}, \"name\": \"T6: real\", \"opacity\": 1, \"showlegend\": false, \"text\": [\"19698\", \"27827\", \"35259\", \"41464\", \"73085\", \"79880\", \"86402\", \"92130\", \"107883\"], \"x\": [-20.5217, -29.116], \"y\": [-170.169, -255.648], \"type\": \"scatter\", \"uid\": \"7f56302e-9bba-4b51-8ee7-a943db08da7b\"}, {\"hoverinfo\": \"name+text\", \"legendgroup\": \"True\", \"line\": {\"color\": \"green\", \"width\": 1}, \"name\": \"T6: real\", \"opacity\": 1, \"showlegend\": false, \"text\": [\"19698\", \"27827\", \"35259\", \"41464\", \"73085\", \"79880\", \"86402\", \"92130\", \"107883\"], \"x\": [-29.116, -38.3955], \"y\": [-255.648, -363.693], \"type\": \"scatter\", \"uid\": \"0e30d653-204c-4856-ae1e-bda975f7fab8\"}, {\"hoverinfo\": \"name+text\", \"legendgroup\": \"True\", \"line\": {\"color\": \"green\", \"width\": 1}, \"name\": \"T6: real\", \"opacity\": 1, \"showlegend\": false, \"text\": [\"19698\", \"27827\", \"35259\", \"41464\", \"73085\", \"79880\", \"86402\", \"92130\", \"107883\"], \"x\": [-38.3955, -47.3072], \"y\": [-363.693, -495.195], \"type\": \"scatter\", \"uid\": \"1664bbf5-5ddd-4d36-915b-6d33d36a6608\"}, {\"hoverinfo\": \"name+text\", \"legendgroup\": \"True\", \"line\": {\"color\": \"green\", \"width\": 1}, \"name\": \"T6: real\", \"opacity\": 1, \"showlegend\": false, \"text\": [\"19698\", \"27827\", \"35259\", \"41464\", \"73085\", \"79880\", \"86402\", \"92130\", \"107883\"], \"x\": [-47.3072, -54.4897], \"y\": [-495.195, -654.254], \"type\": \"scatter\", \"uid\": \"fc6f3f35-49f3-4b73-b4eb-00490f016e4c\"}, {\"hoverinfo\": \"name+text\", \"legendgroup\": \"True\", \"line\": {\"color\": \"green\", \"width\": 1}, \"name\": \"T6: real\", \"opacity\": 1, \"showlegend\": false, \"text\": [\"19698\", \"27827\", \"35259\", \"41464\", \"73085\", \"79880\", \"86402\", \"92130\", \"107883\"], \"x\": [-54.4897, -57.8177], \"y\": [-654.254, -817.466], \"type\": \"scatter\", \"uid\": \"9e2bcf32-26bd-488b-9422-a2b9c5b644be\"}, {\"hoverinfo\": \"name+text\", \"legendgroup\": \"True\", \"line\": {\"color\": \"green\", \"width\": 1}, \"name\": \"T7: real\", \"opacity\": 1, \"showlegend\": false, \"text\": [\"21265\", \"29504\", \"42350\", \"73830\", \"80933\", \"87292\", \"93165\", \"109022\", \"114036\"], \"x\": [-31.6364, -70.206], \"y\": [6.18379, 14.1226], \"type\": \"scatter\", \"uid\": \"36c18b02-6bf1-46bc-b285-6912902e8fbe\"}, {\"hoverinfo\": \"name+text\", \"legendgroup\": \"True\", \"line\": {\"color\": \"green\", \"width\": 1}, \"name\": \"T7: real\", \"opacity\": 1, \"showlegend\": false, \"text\": [\"21265\", \"29504\", \"42350\", \"73830\", \"80933\", \"87292\", \"93165\", \"109022\", \"114036\"], \"x\": [-70.206, -168.155], \"y\": [14.1226, 36.3725], \"type\": \"scatter\", \"uid\": \"2e95aded-3390-42a5-99aa-acd8db352a8f\"}, {\"hoverinfo\": \"name+text\", \"legendgroup\": \"True\", \"line\": {\"color\": \"green\", \"width\": 1}, \"name\": \"T7: real\", \"opacity\": 1, \"showlegend\": false, \"text\": [\"21265\", \"29504\", \"42350\", \"73830\", \"80933\", \"87292\", \"93165\", \"109022\", \"114036\"], \"x\": [-168.155, -255.151], \"y\": [36.3725, 58.8872], \"type\": \"scatter\", \"uid\": \"72a6027b-ea6f-4d07-a590-b6b73fe889a8\"}, {\"hoverinfo\": \"name+text\", \"legendgroup\": \"True\", \"line\": {\"color\": \"green\", \"width\": 1}, \"name\": \"T7: real\", \"opacity\": 1, \"showlegend\": false, \"text\": [\"21265\", \"29504\", \"42350\", \"73830\", \"80933\", \"87292\", \"93165\", \"109022\", \"114036\"], \"x\": [-255.151, -353.285], \"y\": [58.8872, 87.1991], \"type\": \"scatter\", \"uid\": \"4380cfd0-ee40-45c1-9afa-73474a69a35a\"}, {\"hoverinfo\": \"name+text\", \"legendgroup\": \"True\", \"line\": {\"color\": \"green\", \"width\": 1}, \"name\": \"T7: real\", \"opacity\": 1, \"showlegend\": false, \"text\": [\"21265\", \"29504\", \"42350\", \"73830\", \"80933\", \"87292\", \"93165\", \"109022\", \"114036\"], \"x\": [-353.285, -482.875], \"y\": [87.1991, 129.892], \"type\": \"scatter\", \"uid\": \"30d45c8b-1ff5-4d06-9abb-44d837420d34\"}, {\"hoverinfo\": \"name+text\", \"legendgroup\": \"True\", \"line\": {\"color\": \"green\", \"width\": 1}, \"name\": \"T7: real\", \"opacity\": 1, \"showlegend\": false, \"text\": [\"21265\", \"29504\", \"42350\", \"73830\", \"80933\", \"87292\", \"93165\", \"109022\", \"114036\"], \"x\": [-482.875, -633.385], \"y\": [129.892, 187.317], \"type\": \"scatter\", \"uid\": \"78b37a58-49af-41c9-ab52-5baf12a572b9\"}, {\"hoverinfo\": \"name+text\", \"legendgroup\": \"True\", \"line\": {\"color\": \"green\", \"width\": 1}, \"name\": \"T7: real\", \"opacity\": 1, \"showlegend\": false, \"text\": [\"21265\", \"29504\", \"42350\", \"73830\", \"80933\", \"87292\", \"93165\", \"109022\", \"114036\"], \"x\": [-633.385, -782.4169999999998], \"y\": [187.317, 252.867], \"type\": \"scatter\", \"uid\": \"9f338e65-21a7-44c2-a107-8f6027b01a8f\"}, {\"hoverinfo\": \"name+text\", \"legendgroup\": \"True\", \"line\": {\"color\": \"green\", \"width\": 1}, \"name\": \"T7: real\", \"opacity\": 1, \"showlegend\": false, \"text\": [\"21265\", \"29504\", \"42350\", \"73830\", \"80933\", \"87292\", \"93165\", \"109022\", \"114036\"], \"x\": [-782.4169999999998, -962.827], \"y\": [252.867, 344.76199999999994], \"type\": \"scatter\", \"uid\": \"3ecc0234-253d-4b85-906f-4bfc2c077533\"}, {\"hoverinfo\": \"name+text\", \"legendgroup\": \"True\", \"line\": {\"color\": \"darkseagreen\", \"width\": 1}, \"name\": \"T8: real\", \"opacity\": 1, \"showlegend\": false, \"text\": [\"75184\", \"82090\", \"88632\", \"94896\", \"110783\", \"116120\"], \"x\": [-1.10379, -15.6281], \"y\": [-262.164, -358.871], \"type\": \"scatter\", \"uid\": \"39f5012e-0ef5-4671-a380-d627b3da7669\"}, {\"hoverinfo\": \"name+text\", \"legendgroup\": \"True\", \"line\": {\"color\": \"darkseagreen\", \"width\": 1}, \"name\": \"T8: real\", \"opacity\": 1, \"showlegend\": false, \"text\": [\"75184\", \"82090\", \"88632\", \"94896\", \"110783\", \"116120\"], \"x\": [-15.6281, -48.3976], \"y\": [-358.871, -494.939], \"type\": \"scatter\", \"uid\": \"6ecd2abd-f32f-4016-936a-45a1311633f5\"}, {\"hoverinfo\": \"name+text\", \"legendgroup\": \"True\", \"line\": {\"color\": \"darkseagreen\", \"width\": 1}, \"name\": \"T8: real\", \"opacity\": 1, \"showlegend\": false, \"text\": [\"75184\", \"82090\", \"88632\", \"94896\", \"110783\", \"116120\"], \"x\": [-48.3976, -107.941], \"y\": [-494.939, -654.971], \"type\": \"scatter\", \"uid\": \"58b03d23-a8e1-45d7-a5b8-3583d6fe8de9\"}, {\"hoverinfo\": \"name+text\", \"legendgroup\": \"True\", \"line\": {\"color\": \"darkseagreen\", \"width\": 1}, \"name\": \"T8: real\", \"opacity\": 1, \"showlegend\": false, \"text\": [\"75184\", \"82090\", \"88632\", \"94896\", \"110783\", \"116120\"], \"x\": [-107.941, -184.63], \"y\": [-654.971, -801.703], \"type\": \"scatter\", \"uid\": \"4f383695-1035-4f76-82bf-6531b9f2c213\"}, {\"hoverinfo\": \"name+text\", \"legendgroup\": \"True\", \"line\": {\"color\": \"darkseagreen\", \"width\": 1}, \"name\": \"T8: real\", \"opacity\": 1, \"showlegend\": false, \"text\": [\"75184\", \"82090\", \"88632\", \"94896\", \"110783\", \"116120\"], \"x\": [-184.63, -306.828], \"y\": [-801.703, -971.876], \"type\": \"scatter\", \"uid\": \"a090ccf4-4a10-4eb0-8fe7-ed2a8022779d\"}], {\"height\": 800, \"hovermode\": \"closest\", \"showlegend\": true, \"updatemenus\": [{\"buttons\": [{\"args\": [\"shapes\", []], \"label\": \"hide layers\", \"method\": \"relayout\"}, {\"args\": [\"shapes\", [{\"type\": \"circle\", \"x0\": -32, \"x1\": 32, \"y0\": -32, \"y1\": 32, \"opacity\": 0.5, \"layer\": \"below\", \"line\": {\"color\": \"#ccc\"}}, {\"type\": \"circle\", \"x0\": -72, \"x1\": 72, \"y0\": -72, \"y1\": 72, \"opacity\": 0.5, \"layer\": \"below\", \"line\": {\"color\": \"#ccc\"}}, {\"type\": \"circle\", \"x0\": -116, \"x1\": 116, \"y0\": -116, \"y1\": 116, \"opacity\": 0.5, \"layer\": \"below\", \"line\": {\"color\": \"#ccc\"}}, {\"type\": \"circle\", \"x0\": -172, \"x1\": 172, \"y0\": -172, \"y1\": 172, \"opacity\": 0.5, \"layer\": \"below\", \"line\": {\"color\": \"#ccc\"}}, {\"type\": \"circle\", \"x0\": -260, \"x1\": 260, \"y0\": -260, \"y1\": 260, \"opacity\": 0.5, \"layer\": \"below\", \"line\": {\"color\": \"#cccc8d\"}}, {\"type\": \"circle\", \"x0\": -360, \"x1\": 360, \"y0\": -360, \"y1\": 360, \"opacity\": 0.5, \"layer\": \"below\", \"line\": {\"color\": \"#cccc8d\"}}, {\"type\": \"circle\", \"x0\": -500, \"x1\": 500, \"y0\": -500, \"y1\": 500, \"opacity\": 0.5, \"layer\": \"below\", \"line\": {\"color\": \"#cccc8d\"}}, {\"type\": \"circle\", \"x0\": -660, \"x1\": 660, \"y0\": -660, \"y1\": 660, \"opacity\": 0.5, \"layer\": \"below\", \"line\": {\"color\": \"#cccc8d\"}}, {\"type\": \"circle\", \"x0\": -820, \"x1\": 820, \"y0\": -820, \"y1\": 820, \"opacity\": 0.5, \"layer\": \"below\", \"line\": {\"color\": \"#ccc\"}}, {\"type\": \"circle\", \"x0\": -1020, \"x1\": 1020, \"y0\": -1020, \"y1\": 1020, \"opacity\": 0.5, \"layer\": \"below\", \"line\": {\"color\": \"#ccc\"}}]], \"label\": \"show layers\", \"method\": \"relayout\"}], \"direction\": \"left\", \"pad\": {\"l\": 0.1}, \"type\": \"buttons\", \"xanchor\": \"left\", \"y\": 1.1, \"yanchor\": \"top\"}, {\"buttons\": [{\"args\": [{\"mode\": \"markers+lines\"}], \"label\": \"hits+tracks\", \"method\": \"update\"}, {\"args\": [{\"mode\": \"markers\"}], \"label\": \"hits only\", \"method\": \"update\"}], \"direction\": \"left\", \"pad\": {\"l\": 200}, \"type\": \"buttons\", \"xanchor\": \"left\", \"y\": 1.1, \"yanchor\": \"top\"}, {\"buttons\": [{\"args\": [\"yaxis.scaleanchor\", null], \"label\": \"free\", \"method\": \"relayout\"}, {\"args\": [\"yaxis.scaleanchor\", \"x\"], \"label\": \"fixed\", \"method\": \"relayout\"}], \"direction\": \"left\", \"pad\": {\"l\": 380}, \"type\": \"buttons\", \"xanchor\": \"left\", \"y\": 1.1, \"yanchor\": \"top\"}], \"width\": 800, \"xaxis\": {\"title\": \"x\"}, \"yaxis\": {\"title\": \"y\"}}, {\"showLink\": true, \"linkText\": \"Export to plot.ly\", \"plotlyServerURL\": \"https://plot.ly\"})});</script>"
      ]
     },
     "metadata": {},
     "output_type": "display_data"
    }
   ],
   "source": [
    "from hepqpr.qallse import DataWrapper\n",
    "from hepqpr.qallse.cli.func import process_response\n",
    "from hepqpr.qallse.plotting import *\n",
    "\n",
    "set_notebook_mode() # if running inside a notebook\n",
    "\n",
    "# load the dataset and the response_neal (created using the qallse tool)\n",
    "dw = DataWrapper.from_path('C:/Users/timsc/hepqpr-qallse-data/ds1/event000001000-hits.csv')\n",
    "with open('C:/Users/timsc/hepqpr-qallse-data/ds1/evt1000-ds1-neal-0-response.pickle', 'rb') as f: \n",
    "    import pickle\n",
    "    response_neal = pickle.load(f)\n",
    "\n",
    "# process the response_neal and get the set of missing doublets\n",
    "final_doublets, final_tracks = process_response(response_neal)\n",
    "precision, recall, missings = dw.compute_score(final_doublets)\n",
    "\n",
    "# plotting examples\n",
    "iplot_results(dw, final_doublets, missings)\n",
    "iplot_results(dw, final_doublets, missings, dims=list('zr'))\n",
    "iplot_results_tracks(dw, final_tracks)"
   ]
  },
  {
   "cell_type": "code",
   "execution_count": 4,
   "id": "0638c3ec",
   "metadata": {},
   "outputs": [
    {
     "data": {
      "text/html": [
       "<script type=\"text/javascript\">window.PlotlyConfig = {MathJaxConfig: 'local'};</script><script type=\"text/javascript\">if (window.MathJax) {MathJax.Hub.Config({SVG: {font: \"STIX-Web\"}});}</script><script>requirejs.config({paths: { 'plotly': ['https://cdn.plot.ly/plotly-latest.min']},});if(!window._Plotly) {require(['plotly'],function(plotly) {window._Plotly=plotly;});}</script>"
      ],
      "text/vnd.plotly.v1+html": [
       "<script type=\"text/javascript\">window.PlotlyConfig = {MathJaxConfig: 'local'};</script><script type=\"text/javascript\">if (window.MathJax) {MathJax.Hub.Config({SVG: {font: \"STIX-Web\"}});}</script><script>requirejs.config({paths: { 'plotly': ['https://cdn.plot.ly/plotly-latest.min']},});if(!window._Plotly) {require(['plotly'],function(plotly) {window._Plotly=plotly;});}</script>"
      ]
     },
     "metadata": {},
     "output_type": "display_data"
    },
    {
     "data": {
      "application/vnd.plotly.v1+json": {
       "config": {
        "linkText": "Export to plot.ly",
        "plotlyServerURL": "https://plot.ly",
        "showLink": true
       },
       "data": [
        {
         "hoverinfo": "name+text",
         "legendgroup": "fake",
         "line": {
          "color": "red",
          "width": 1
         },
         "name": "fake",
         "opacity": 1,
         "showlegend": true,
         "text": [
          "20262",
          "34877"
         ],
         "type": "scatter",
         "uid": "ce961534-acf9-4c7a-ac68-a94916b6cc7a",
         "x": [
          32.2451,
          114.433
         ],
         "y": [
          4.53326,
          14.9217
         ]
        },
        {
         "hoverinfo": "name+text",
         "legendgroup": "fake",
         "line": {
          "color": "red",
          "width": 1
         },
         "name": "fake",
         "opacity": 1,
         "showlegend": false,
         "text": [
          "41146",
          "79641"
         ],
         "type": "scatter",
         "uid": "ba2462d5-17e6-46da-8e4c-6cd6002f9518",
         "x": [
          170.40099999999995,
          359.452
         ],
         "y": [
          21.0637,
          36.1999
         ]
        },
        {
         "hoverinfo": "name+text",
         "legendgroup": "real_unfocused",
         "line": {
          "color": "darkseagreen",
          "width": 1
         },
         "name": "real_unfocused",
         "opacity": 1,
         "showlegend": true,
         "text": [
          "82090",
          "88632"
         ],
         "type": "scatter",
         "uid": "375e6c4c-e76a-4636-b806-543208871ddc",
         "x": [
          -15.6281,
          -48.3976
         ],
         "y": [
          -358.871,
          -494.939
         ]
        },
        {
         "hoverinfo": "name+text",
         "legendgroup": "real_unfocused",
         "line": {
          "color": "darkseagreen",
          "width": 1
         },
         "name": "real_unfocused",
         "opacity": 1,
         "showlegend": false,
         "text": [
          "88632",
          "94896"
         ],
         "type": "scatter",
         "uid": "24b663a8-53e0-4db0-9728-79658fb300b4",
         "x": [
          -48.3976,
          -107.941
         ],
         "y": [
          -494.939,
          -654.971
         ]
        },
        {
         "hoverinfo": "name+text",
         "legendgroup": "real_unfocused",
         "line": {
          "color": "darkseagreen",
          "width": 1
         },
         "name": "real_unfocused",
         "opacity": 1,
         "showlegend": false,
         "text": [
          "94896",
          "110783"
         ],
         "type": "scatter",
         "uid": "3773b738-1ddb-481f-8e84-3221c5ba7d6f",
         "x": [
          -107.941,
          -184.63
         ],
         "y": [
          -654.971,
          -801.703
         ]
        },
        {
         "hoverinfo": "name+text",
         "legendgroup": "real_unfocused",
         "line": {
          "color": "darkseagreen",
          "width": 1
         },
         "name": "real_unfocused",
         "opacity": 1,
         "showlegend": false,
         "text": [
          "110783",
          "116120"
         ],
         "type": "scatter",
         "uid": "7334bb8c-784d-44e2-b8fb-b6c592acc14c",
         "x": [
          -184.63,
          -306.828
         ],
         "y": [
          -801.703,
          -971.876
         ]
        },
        {
         "hoverinfo": "name+text",
         "legendgroup": "real_unfocused",
         "line": {
          "color": "darkseagreen",
          "width": 1
         },
         "name": "real_unfocused",
         "opacity": 1,
         "showlegend": false,
         "text": [
          "37198",
          "44045"
         ],
         "type": "scatter",
         "uid": "79994a23-f838-4f95-9ae3-2f7663bd057b",
         "x": [
          -13.5617,
          -16.8728
         ],
         "y": [
          114.204,
          171.016
         ]
        },
        {
         "hoverinfo": "name+text",
         "legendgroup": "real_unfocused",
         "line": {
          "color": "darkseagreen",
          "width": 1
         },
         "name": "real_unfocused",
         "opacity": 1,
         "showlegend": false,
         "text": [
          "44045",
          "75480"
         ],
         "type": "scatter",
         "uid": "d4f0071b-4f68-4802-a44c-50b2a7318c1b",
         "x": [
          -16.8728,
          -17.738
         ],
         "y": [
          171.016,
          257.521
         ]
        },
        {
         "hoverinfo": "name+text",
         "legendgroup": "real_unfocused",
         "line": {
          "color": "darkseagreen",
          "width": 1
         },
         "name": "real_unfocused",
         "opacity": 1,
         "showlegend": false,
         "text": [
          "75480",
          "82723"
         ],
         "type": "scatter",
         "uid": "b94e40c2-4f37-4330-898f-97b127282604",
         "x": [
          -17.738,
          -11.9561
         ],
         "y": [
          257.521,
          360.148
         ]
        },
        {
         "hoverinfo": "name+text",
         "legendgroup": "real_unfocused",
         "line": {
          "color": "darkseagreen",
          "width": 1
         },
         "name": "real_unfocused",
         "opacity": 1,
         "showlegend": false,
         "text": [
          "82723",
          "95378"
         ],
         "type": "scatter",
         "uid": "ef6ab7e1-f106-41e8-8920-ad525cb71845",
         "x": [
          -11.9561,
          48.5453
         ],
         "y": [
          360.148,
          655.5310000000002
         ]
        },
        {
         "hoverinfo": "name+text",
         "legendgroup": "real_unfocused",
         "line": {
          "color": "darkseagreen",
          "width": 1
         },
         "name": "real_unfocused",
         "opacity": 1,
         "showlegend": false,
         "text": [
          "95378",
          "111471"
         ],
         "type": "scatter",
         "uid": "d6e0c429-49d8-4224-b24f-04e1ade638ec",
         "x": [
          48.5453,
          109.848
         ],
         "y": [
          655.5310000000002,
          813.716
         ]
        },
        {
         "hoverinfo": "name+text",
         "legendgroup": "real",
         "line": {
          "color": "green",
          "width": 1
         },
         "name": "real",
         "opacity": 1,
         "showlegend": true,
         "text": [
          "21265",
          "29504"
         ],
         "type": "scatter",
         "uid": "707d783b-66f1-4dee-bdc2-0500db0c670d",
         "x": [
          -31.6364,
          -70.206
         ],
         "y": [
          6.18379,
          14.1226
         ]
        },
        {
         "hoverinfo": "name+text",
         "legendgroup": "real",
         "line": {
          "color": "green",
          "width": 1
         },
         "name": "real",
         "opacity": 1,
         "showlegend": false,
         "text": [
          "29504",
          "42350"
         ],
         "type": "scatter",
         "uid": "cee53a09-1501-40f5-af7e-3106b03d86a6",
         "x": [
          -70.206,
          -168.155
         ],
         "y": [
          14.1226,
          36.3725
         ]
        },
        {
         "hoverinfo": "name+text",
         "legendgroup": "real",
         "line": {
          "color": "green",
          "width": 1
         },
         "name": "real",
         "opacity": 1,
         "showlegend": false,
         "text": [
          "42350",
          "73830"
         ],
         "type": "scatter",
         "uid": "9d7109ea-8f87-4cd1-b2e7-62e74bc29f80",
         "x": [
          -168.155,
          -255.151
         ],
         "y": [
          36.3725,
          58.8872
         ]
        },
        {
         "hoverinfo": "name+text",
         "legendgroup": "real",
         "line": {
          "color": "green",
          "width": 1
         },
         "name": "real",
         "opacity": 1,
         "showlegend": false,
         "text": [
          "73830",
          "80933"
         ],
         "type": "scatter",
         "uid": "5606c4fd-37ce-4e05-8948-70ac0f7c69c4",
         "x": [
          -255.151,
          -353.285
         ],
         "y": [
          58.8872,
          87.1991
         ]
        },
        {
         "hoverinfo": "name+text",
         "legendgroup": "real",
         "line": {
          "color": "green",
          "width": 1
         },
         "name": "real",
         "opacity": 1,
         "showlegend": false,
         "text": [
          "23536",
          "31418"
         ],
         "type": "scatter",
         "uid": "433d473d-f46e-414a-9040-90558ca81b3d",
         "x": [
          -30.9263,
          -68.8454
         ],
         "y": [
          9.9814,
          22.8573
         ]
        },
        {
         "hoverinfo": "name+text",
         "legendgroup": "real",
         "line": {
          "color": "green",
          "width": 1
         },
         "name": "real",
         "opacity": 1,
         "showlegend": false,
         "text": [
          "31418",
          "38524"
         ],
         "type": "scatter",
         "uid": "dbd76c91-9d73-4b85-a4c5-d7b65cd29642",
         "x": [
          -68.8454,
          -109.987
         ],
         "y": [
          22.8573,
          37.6253
         ]
        },
        {
         "hoverinfo": "name+text",
         "legendgroup": "real",
         "line": {
          "color": "green",
          "width": 1
         },
         "name": "real",
         "opacity": 1,
         "showlegend": false,
         "text": [
          "38524",
          "45067"
         ],
         "type": "scatter",
         "uid": "8008b19d-316c-47d0-abb0-1557bd69a10d",
         "x": [
          -109.987,
          -161.876
         ],
         "y": [
          37.6253,
          57.4577
         ]
        },
        {
         "hoverinfo": "name+text",
         "legendgroup": "real",
         "line": {
          "color": "green",
          "width": 1
         },
         "name": "real",
         "opacity": 1,
         "showlegend": false,
         "text": [
          "45067",
          "76902"
         ],
         "type": "scatter",
         "uid": "e39a3d02-8011-456b-8a1d-c3b8ef8140cd",
         "x": [
          -161.876,
          -246.02
         ],
         "y": [
          57.4577,
          92.7332
         ]
        },
        {
         "hoverinfo": "name+text",
         "legendgroup": "real",
         "line": {
          "color": "green",
          "width": 1
         },
         "name": "real",
         "opacity": 1,
         "showlegend": false,
         "text": [
          "34877",
          "41146"
         ],
         "type": "scatter",
         "uid": "1cbed17b-da05-41d6-a1fd-22725df24ec4",
         "x": [
          114.433,
          170.40099999999995
         ],
         "y": [
          14.9217,
          21.0637
         ]
        },
        {
         "hoverinfo": "name+text",
         "legendgroup": "real",
         "line": {
          "color": "green",
          "width": 1
         },
         "name": "real",
         "opacity": 1,
         "showlegend": false,
         "text": [
          "79641",
          "86195"
         ],
         "type": "scatter",
         "uid": "e5c3403f-3eab-46e0-967f-c4cc4f8222af",
         "x": [
          359.452,
          503.503
         ],
         "y": [
          36.1999,
          42.0709
         ]
        },
        {
         "hoverinfo": "name+text",
         "legendgroup": "missing",
         "line": {
          "color": "blue",
          "width": 1
         },
         "name": "missing",
         "opacity": 1,
         "showlegend": true,
         "text": [
          "19698",
          "27827"
         ],
         "type": "scatter",
         "uid": "dfa2402d-d661-444e-add3-8a08dffe3868",
         "x": [
          -4.16977,
          -9.16296
         ],
         "y": [
          -31.75,
          -71.4937
         ]
        },
        {
         "hoverinfo": "name+text",
         "legendgroup": "missing",
         "line": {
          "color": "blue",
          "width": 1
         },
         "name": "missing",
         "opacity": 1,
         "showlegend": false,
         "text": [
          "20262",
          "28058"
         ],
         "type": "scatter",
         "uid": "758c7a87-d0f6-4586-aeb5-0c12b2b5c401",
         "x": [
          32.2451,
          70.7765
         ],
         "y": [
          4.53326,
          9.61941
         ]
        },
        {
         "hoverinfo": "name+text",
         "legendgroup": "missing",
         "line": {
          "color": "blue",
          "width": 1
         },
         "name": "missing",
         "opacity": 1,
         "showlegend": false,
         "text": [
          "20764",
          "27487"
         ],
         "type": "scatter",
         "uid": "9cae107a-5b56-4448-8309-5df137e68916",
         "x": [
          5.5706,
          10.5024
         ],
         "y": [
          31.671,
          72.0453
         ]
        },
        {
         "hoverinfo": "name+text",
         "legendgroup": "missing",
         "line": {
          "color": "blue",
          "width": 1
         },
         "name": "missing",
         "opacity": 1,
         "showlegend": false,
         "text": [
          "27487",
          "34491"
         ],
         "type": "scatter",
         "uid": "c46eccf7-8fca-4468-af00-7a3d1a4298d8",
         "x": [
          10.5024,
          14.7116
         ],
         "y": [
          72.0453,
          114.108
         ]
        },
        {
         "hoverinfo": "name+text",
         "legendgroup": "missing",
         "line": {
          "color": "blue",
          "width": 1
         },
         "name": "missing",
         "opacity": 1,
         "showlegend": false,
         "text": [
          "27827",
          "35259"
         ],
         "type": "scatter",
         "uid": "cd180145-5699-47cf-ad17-7e71b689dba2",
         "x": [
          -9.16296,
          -14.2464
         ],
         "y": [
          -71.4937,
          -114.127
         ]
        },
        {
         "hoverinfo": "name+text",
         "legendgroup": "missing",
         "line": {
          "color": "blue",
          "width": 1
         },
         "name": "missing",
         "opacity": 1,
         "showlegend": false,
         "text": [
          "28058",
          "34877"
         ],
         "type": "scatter",
         "uid": "0a181093-da5f-4166-bfe6-247b7e00af2c",
         "x": [
          70.7765,
          114.433
         ],
         "y": [
          9.61941,
          14.9217
         ]
        },
        {
         "hoverinfo": "name+text",
         "legendgroup": "missing",
         "line": {
          "color": "blue",
          "width": 1
         },
         "name": "missing",
         "opacity": 1,
         "showlegend": false,
         "text": [
          "34491",
          "40865"
         ],
         "type": "scatter",
         "uid": "2aaf7aeb-b786-4215-800c-f873a0554b96",
         "x": [
          14.7116,
          18.992
         ],
         "y": [
          114.108,
          171.997
         ]
        },
        {
         "hoverinfo": "name+text",
         "legendgroup": "missing",
         "line": {
          "color": "blue",
          "width": 1
         },
         "name": "missing",
         "opacity": 1,
         "showlegend": false,
         "text": [
          "35259",
          "41464"
         ],
         "type": "scatter",
         "uid": "0031af5a-38f6-47d1-b585-6859e06ed10e",
         "x": [
          -14.2464,
          -20.5217
         ],
         "y": [
          -114.127,
          -170.169
         ]
        },
        {
         "hoverinfo": "name+text",
         "legendgroup": "missing",
         "line": {
          "color": "blue",
          "width": 1
         },
         "name": "missing",
         "opacity": 1,
         "showlegend": false,
         "text": [
          "40865",
          "72549"
         ],
         "type": "scatter",
         "uid": "52aa14b4-33c8-4123-83eb-c8552fc1e72a",
         "x": [
          18.992,
          22.298
         ],
         "y": [
          171.997,
          257.23400000000004
         ]
        },
        {
         "hoverinfo": "name+text",
         "legendgroup": "missing",
         "line": {
          "color": "blue",
          "width": 1
         },
         "name": "missing",
         "opacity": 1,
         "showlegend": false,
         "text": [
          "41146",
          "73201"
         ],
         "type": "scatter",
         "uid": "24b18a43-858a-4d64-950a-ae0f1baa351a",
         "x": [
          170.40099999999995,
          258.338
         ],
         "y": [
          21.0637,
          29.1488
         ]
        },
        {
         "hoverinfo": "name+text",
         "legendgroup": "missing",
         "line": {
          "color": "blue",
          "width": 1
         },
         "name": "missing",
         "opacity": 1,
         "showlegend": false,
         "text": [
          "41464",
          "73085"
         ],
         "type": "scatter",
         "uid": "4dab3189-307d-40c4-9849-054e28a0775a",
         "x": [
          -20.5217,
          -29.116
         ],
         "y": [
          -170.169,
          -255.648
         ]
        },
        {
         "hoverinfo": "name+text",
         "legendgroup": "missing",
         "line": {
          "color": "blue",
          "width": 1
         },
         "name": "missing",
         "opacity": 1,
         "showlegend": false,
         "text": [
          "72549",
          "79138"
         ],
         "type": "scatter",
         "uid": "d7cfd9bf-225a-4830-8a60-6e3511d98368",
         "x": [
          22.298,
          21.6577
         ],
         "y": [
          257.23400000000004,
          357.611
         ]
        },
        {
         "hoverinfo": "name+text",
         "legendgroup": "missing",
         "line": {
          "color": "blue",
          "width": 1
         },
         "name": "missing",
         "opacity": 1,
         "showlegend": false,
         "text": [
          "73085",
          "79880"
         ],
         "type": "scatter",
         "uid": "32843f83-2588-46ef-b581-b0e33f689239",
         "x": [
          -29.116,
          -38.3955
         ],
         "y": [
          -255.648,
          -363.693
         ]
        },
        {
         "hoverinfo": "name+text",
         "legendgroup": "missing",
         "line": {
          "color": "blue",
          "width": 1
         },
         "name": "missing",
         "opacity": 1,
         "showlegend": false,
         "text": [
          "73201",
          "79641"
         ],
         "type": "scatter",
         "uid": "b8ecad33-0383-44f4-ae62-c02fa7bb55c1",
         "x": [
          258.338,
          359.452
         ],
         "y": [
          29.1488,
          36.1999
         ]
        },
        {
         "hoverinfo": "name+text",
         "legendgroup": "missing",
         "line": {
          "color": "blue",
          "width": 1
         },
         "name": "missing",
         "opacity": 1,
         "showlegend": false,
         "text": [
          "76902",
          "83944"
         ],
         "type": "scatter",
         "uid": "f706c255-cbe3-4c96-a410-6a7ddb67b636",
         "x": [
          -246.02,
          -333.426
         ],
         "y": [
          92.7332,
          133.519
         ]
        },
        {
         "hoverinfo": "name+text",
         "legendgroup": "missing",
         "line": {
          "color": "blue",
          "width": 1
         },
         "name": "missing",
         "opacity": 1,
         "showlegend": false,
         "text": [
          "79138",
          "85537"
         ],
         "type": "scatter",
         "uid": "49fb7c82-fcd0-4d9c-9372-08c8f49f7a05",
         "x": [
          21.6577,
          12.251
         ],
         "y": [
          357.611,
          496.648
         ]
        },
        {
         "hoverinfo": "name+text",
         "legendgroup": "missing",
         "line": {
          "color": "blue",
          "width": 1
         },
         "name": "missing",
         "opacity": 1,
         "showlegend": false,
         "text": [
          "79880",
          "86402"
         ],
         "type": "scatter",
         "uid": "295eb556-219a-4db3-9085-891071c1bf19",
         "x": [
          -38.3955,
          -47.3072
         ],
         "y": [
          -363.693,
          -495.195
         ]
        },
        {
         "hoverinfo": "name+text",
         "legendgroup": "missing",
         "line": {
          "color": "blue",
          "width": 1
         },
         "name": "missing",
         "opacity": 1,
         "showlegend": false,
         "text": [
          "80933",
          "87292"
         ],
         "type": "scatter",
         "uid": "226ba971-2f9b-4cda-8fa7-477dea46086b",
         "x": [
          -353.285,
          -482.875
         ],
         "y": [
          87.1991,
          129.892
         ]
        },
        {
         "hoverinfo": "name+text",
         "legendgroup": "missing",
         "line": {
          "color": "blue",
          "width": 1
         },
         "name": "missing",
         "opacity": 1,
         "showlegend": false,
         "text": [
          "83944",
          "90803"
         ],
         "type": "scatter",
         "uid": "cd2dabac-e622-4fe2-b7a7-ba8eb69c8cf8",
         "x": [
          -333.426,
          -459.273
         ],
         "y": [
          133.519,
          200.49400000000003
         ]
        },
        {
         "hoverinfo": "name+text",
         "legendgroup": "missing",
         "line": {
          "color": "blue",
          "width": 1
         },
         "name": "missing",
         "opacity": 1,
         "showlegend": false,
         "text": [
          "86195",
          "91955"
         ],
         "type": "scatter",
         "uid": "13edc4d1-bf70-43db-af04-f6aa252f27dd",
         "x": [
          503.503,
          663.908
         ],
         "y": [
          42.0709,
          43.0984
         ]
        },
        {
         "hoverinfo": "name+text",
         "legendgroup": "missing",
         "line": {
          "color": "blue",
          "width": 1
         },
         "name": "missing",
         "opacity": 1,
         "showlegend": false,
         "text": [
          "86402",
          "92130"
         ],
         "type": "scatter",
         "uid": "44b5a3cb-a0ca-4063-b9b8-f66e1ea127e2",
         "x": [
          -47.3072,
          -54.4897
         ],
         "y": [
          -495.195,
          -654.254
         ]
        },
        {
         "hoverinfo": "name+text",
         "legendgroup": "missing",
         "line": {
          "color": "blue",
          "width": 1
         },
         "name": "missing",
         "opacity": 1,
         "showlegend": false,
         "text": [
          "87292",
          "93165"
         ],
         "type": "scatter",
         "uid": "acad5d3a-a826-4e53-8a01-69cee82b8d34",
         "x": [
          -482.875,
          -633.385
         ],
         "y": [
          129.892,
          187.317
         ]
        },
        {
         "hoverinfo": "name+text",
         "legendgroup": "missing",
         "line": {
          "color": "blue",
          "width": 1
         },
         "name": "missing",
         "opacity": 1,
         "showlegend": false,
         "text": [
          "90803",
          "96934"
         ],
         "type": "scatter",
         "uid": "351e9b05-aaee-45ad-ada0-6f4e62d6b0c1",
         "x": [
          -459.273,
          -595.614
         ],
         "y": [
          200.49400000000003,
          284.758
         ]
        },
        {
         "hoverinfo": "name+text",
         "legendgroup": "missing",
         "line": {
          "color": "blue",
          "width": 1
         },
         "name": "missing",
         "opacity": 1,
         "showlegend": false,
         "text": [
          "91955",
          "107743"
         ],
         "type": "scatter",
         "uid": "aeea3626-3881-4119-9b40-55211835cd11",
         "x": [
          663.908,
          823.312
         ],
         "y": [
          43.0984,
          38.3265
         ]
        },
        {
         "hoverinfo": "name+text",
         "legendgroup": "missing",
         "line": {
          "color": "blue",
          "width": 1
         },
         "name": "missing",
         "opacity": 1,
         "showlegend": false,
         "text": [
          "92130",
          "107883"
         ],
         "type": "scatter",
         "uid": "9ef0f4a2-ea6e-4bd8-893f-79f7fdf5144c",
         "x": [
          -54.4897,
          -57.8177
         ],
         "y": [
          -654.254,
          -817.466
         ]
        },
        {
         "hoverinfo": "name+text",
         "legendgroup": "missing",
         "line": {
          "color": "blue",
          "width": 1
         },
         "name": "missing",
         "opacity": 1,
         "showlegend": false,
         "text": [
          "93165",
          "109022"
         ],
         "type": "scatter",
         "uid": "287906e3-d7c7-4a01-a2a4-c488ea0122b4",
         "x": [
          -633.385,
          -782.4169999999998
         ],
         "y": [
          187.317,
          252.867
         ]
        },
        {
         "hoverinfo": "name+text",
         "legendgroup": "missing",
         "line": {
          "color": "blue",
          "width": 1
         },
         "name": "missing",
         "opacity": 1,
         "showlegend": false,
         "text": [
          "109022",
          "114036"
         ],
         "type": "scatter",
         "uid": "c47abf4e-5880-493b-9bce-90b5f9c0f2c4",
         "x": [
          -782.4169999999998,
          -962.827
         ],
         "y": [
          252.867,
          344.76199999999994
         ]
        }
       ],
       "layout": {
        "height": 800,
        "hovermode": "closest",
        "showlegend": true,
        "updatemenus": [
         {
          "buttons": [
           {
            "args": [
             "shapes",
             []
            ],
            "label": "hide layers",
            "method": "relayout"
           },
           {
            "args": [
             "shapes",
             [
              {
               "layer": "below",
               "line": {
                "color": "#ccc"
               },
               "opacity": 0.5,
               "type": "circle",
               "x0": -32,
               "x1": 32,
               "y0": -32,
               "y1": 32
              },
              {
               "layer": "below",
               "line": {
                "color": "#ccc"
               },
               "opacity": 0.5,
               "type": "circle",
               "x0": -72,
               "x1": 72,
               "y0": -72,
               "y1": 72
              },
              {
               "layer": "below",
               "line": {
                "color": "#ccc"
               },
               "opacity": 0.5,
               "type": "circle",
               "x0": -116,
               "x1": 116,
               "y0": -116,
               "y1": 116
              },
              {
               "layer": "below",
               "line": {
                "color": "#ccc"
               },
               "opacity": 0.5,
               "type": "circle",
               "x0": -172,
               "x1": 172,
               "y0": -172,
               "y1": 172
              },
              {
               "layer": "below",
               "line": {
                "color": "#cccc8d"
               },
               "opacity": 0.5,
               "type": "circle",
               "x0": -260,
               "x1": 260,
               "y0": -260,
               "y1": 260
              },
              {
               "layer": "below",
               "line": {
                "color": "#cccc8d"
               },
               "opacity": 0.5,
               "type": "circle",
               "x0": -360,
               "x1": 360,
               "y0": -360,
               "y1": 360
              },
              {
               "layer": "below",
               "line": {
                "color": "#cccc8d"
               },
               "opacity": 0.5,
               "type": "circle",
               "x0": -500,
               "x1": 500,
               "y0": -500,
               "y1": 500
              },
              {
               "layer": "below",
               "line": {
                "color": "#cccc8d"
               },
               "opacity": 0.5,
               "type": "circle",
               "x0": -660,
               "x1": 660,
               "y0": -660,
               "y1": 660
              },
              {
               "layer": "below",
               "line": {
                "color": "#ccc"
               },
               "opacity": 0.5,
               "type": "circle",
               "x0": -820,
               "x1": 820,
               "y0": -820,
               "y1": 820
              },
              {
               "layer": "below",
               "line": {
                "color": "#ccc"
               },
               "opacity": 0.5,
               "type": "circle",
               "x0": -1020,
               "x1": 1020,
               "y0": -1020,
               "y1": 1020
              }
             ]
            ],
            "label": "show layers",
            "method": "relayout"
           }
          ],
          "direction": "left",
          "pad": {
           "l": 0.1
          },
          "type": "buttons",
          "xanchor": "left",
          "y": 1.1,
          "yanchor": "top"
         },
         {
          "buttons": [
           {
            "args": [
             {
              "mode": "markers+lines"
             }
            ],
            "label": "hits+tracks",
            "method": "update"
           },
           {
            "args": [
             {
              "mode": "markers"
             }
            ],
            "label": "hits only",
            "method": "update"
           }
          ],
          "direction": "left",
          "pad": {
           "l": 200
          },
          "type": "buttons",
          "xanchor": "left",
          "y": 1.1,
          "yanchor": "top"
         },
         {
          "buttons": [
           {
            "args": [
             "yaxis.scaleanchor",
             null
            ],
            "label": "free",
            "method": "relayout"
           },
           {
            "args": [
             "yaxis.scaleanchor",
             "x"
            ],
            "label": "fixed",
            "method": "relayout"
           }
          ],
          "direction": "left",
          "pad": {
           "l": 380
          },
          "type": "buttons",
          "xanchor": "left",
          "y": 1.1,
          "yanchor": "top"
         }
        ],
        "width": 800,
        "xaxis": {
         "title": "x"
        },
        "yaxis": {
         "title": "y"
        }
       }
      },
      "text/html": [
       "<div id=\"f6d5c5e5-bb59-41f0-bc81-9230f3d6de0e\" style=\"height: 800px; width: 800px;\" class=\"plotly-graph-div\"></div><script type=\"text/javascript\">require([\"plotly\"], function(Plotly) { window.PLOTLYENV=window.PLOTLYENV || {};window.PLOTLYENV.BASE_URL=\"https://plot.ly\";Plotly.newPlot(\"f6d5c5e5-bb59-41f0-bc81-9230f3d6de0e\", [{\"hoverinfo\": \"name+text\", \"legendgroup\": \"fake\", \"line\": {\"color\": \"red\", \"width\": 1}, \"name\": \"fake\", \"opacity\": 1, \"showlegend\": true, \"text\": [\"20262\", \"34877\"], \"x\": [32.2451, 114.433], \"y\": [4.53326, 14.9217], \"type\": \"scatter\", \"uid\": \"ce961534-acf9-4c7a-ac68-a94916b6cc7a\"}, {\"hoverinfo\": \"name+text\", \"legendgroup\": \"fake\", \"line\": {\"color\": \"red\", \"width\": 1}, \"name\": \"fake\", \"opacity\": 1, \"showlegend\": false, \"text\": [\"41146\", \"79641\"], \"x\": [170.40099999999995, 359.452], \"y\": [21.0637, 36.1999], \"type\": \"scatter\", \"uid\": \"ba2462d5-17e6-46da-8e4c-6cd6002f9518\"}, {\"hoverinfo\": \"name+text\", \"legendgroup\": \"real_unfocused\", \"line\": {\"color\": \"darkseagreen\", \"width\": 1}, \"name\": \"real_unfocused\", \"opacity\": 1, \"showlegend\": true, \"text\": [\"82090\", \"88632\"], \"x\": [-15.6281, -48.3976], \"y\": [-358.871, -494.939], \"type\": \"scatter\", \"uid\": \"375e6c4c-e76a-4636-b806-543208871ddc\"}, {\"hoverinfo\": \"name+text\", \"legendgroup\": \"real_unfocused\", \"line\": {\"color\": \"darkseagreen\", \"width\": 1}, \"name\": \"real_unfocused\", \"opacity\": 1, \"showlegend\": false, \"text\": [\"88632\", \"94896\"], \"x\": [-48.3976, -107.941], \"y\": [-494.939, -654.971], \"type\": \"scatter\", \"uid\": \"24b663a8-53e0-4db0-9728-79658fb300b4\"}, {\"hoverinfo\": \"name+text\", \"legendgroup\": \"real_unfocused\", \"line\": {\"color\": \"darkseagreen\", \"width\": 1}, \"name\": \"real_unfocused\", \"opacity\": 1, \"showlegend\": false, \"text\": [\"94896\", \"110783\"], \"x\": [-107.941, -184.63], \"y\": [-654.971, -801.703], \"type\": \"scatter\", \"uid\": \"3773b738-1ddb-481f-8e84-3221c5ba7d6f\"}, {\"hoverinfo\": \"name+text\", \"legendgroup\": \"real_unfocused\", \"line\": {\"color\": \"darkseagreen\", \"width\": 1}, \"name\": \"real_unfocused\", \"opacity\": 1, \"showlegend\": false, \"text\": [\"110783\", \"116120\"], \"x\": [-184.63, -306.828], \"y\": [-801.703, -971.876], \"type\": \"scatter\", \"uid\": \"7334bb8c-784d-44e2-b8fb-b6c592acc14c\"}, {\"hoverinfo\": \"name+text\", \"legendgroup\": \"real_unfocused\", \"line\": {\"color\": \"darkseagreen\", \"width\": 1}, \"name\": \"real_unfocused\", \"opacity\": 1, \"showlegend\": false, \"text\": [\"37198\", \"44045\"], \"x\": [-13.5617, -16.8728], \"y\": [114.204, 171.016], \"type\": \"scatter\", \"uid\": \"79994a23-f838-4f95-9ae3-2f7663bd057b\"}, {\"hoverinfo\": \"name+text\", \"legendgroup\": \"real_unfocused\", \"line\": {\"color\": \"darkseagreen\", \"width\": 1}, \"name\": \"real_unfocused\", \"opacity\": 1, \"showlegend\": false, \"text\": [\"44045\", \"75480\"], \"x\": [-16.8728, -17.738], \"y\": [171.016, 257.521], \"type\": \"scatter\", \"uid\": \"d4f0071b-4f68-4802-a44c-50b2a7318c1b\"}, {\"hoverinfo\": \"name+text\", \"legendgroup\": \"real_unfocused\", \"line\": {\"color\": \"darkseagreen\", \"width\": 1}, \"name\": \"real_unfocused\", \"opacity\": 1, \"showlegend\": false, \"text\": [\"75480\", \"82723\"], \"x\": [-17.738, -11.9561], \"y\": [257.521, 360.148], \"type\": \"scatter\", \"uid\": \"b94e40c2-4f37-4330-898f-97b127282604\"}, {\"hoverinfo\": \"name+text\", \"legendgroup\": \"real_unfocused\", \"line\": {\"color\": \"darkseagreen\", \"width\": 1}, \"name\": \"real_unfocused\", \"opacity\": 1, \"showlegend\": false, \"text\": [\"82723\", \"95378\"], \"x\": [-11.9561, 48.5453], \"y\": [360.148, 655.5310000000002], \"type\": \"scatter\", \"uid\": \"ef6ab7e1-f106-41e8-8920-ad525cb71845\"}, {\"hoverinfo\": \"name+text\", \"legendgroup\": \"real_unfocused\", \"line\": {\"color\": \"darkseagreen\", \"width\": 1}, \"name\": \"real_unfocused\", \"opacity\": 1, \"showlegend\": false, \"text\": [\"95378\", \"111471\"], \"x\": [48.5453, 109.848], \"y\": [655.5310000000002, 813.716], \"type\": \"scatter\", \"uid\": \"d6e0c429-49d8-4224-b24f-04e1ade638ec\"}, {\"hoverinfo\": \"name+text\", \"legendgroup\": \"real\", \"line\": {\"color\": \"green\", \"width\": 1}, \"name\": \"real\", \"opacity\": 1, \"showlegend\": true, \"text\": [\"21265\", \"29504\"], \"x\": [-31.6364, -70.206], \"y\": [6.18379, 14.1226], \"type\": \"scatter\", \"uid\": \"707d783b-66f1-4dee-bdc2-0500db0c670d\"}, {\"hoverinfo\": \"name+text\", \"legendgroup\": \"real\", \"line\": {\"color\": \"green\", \"width\": 1}, \"name\": \"real\", \"opacity\": 1, \"showlegend\": false, \"text\": [\"29504\", \"42350\"], \"x\": [-70.206, -168.155], \"y\": [14.1226, 36.3725], \"type\": \"scatter\", \"uid\": \"cee53a09-1501-40f5-af7e-3106b03d86a6\"}, {\"hoverinfo\": \"name+text\", \"legendgroup\": \"real\", \"line\": {\"color\": \"green\", \"width\": 1}, \"name\": \"real\", \"opacity\": 1, \"showlegend\": false, \"text\": [\"42350\", \"73830\"], \"x\": [-168.155, -255.151], \"y\": [36.3725, 58.8872], \"type\": \"scatter\", \"uid\": \"9d7109ea-8f87-4cd1-b2e7-62e74bc29f80\"}, {\"hoverinfo\": \"name+text\", \"legendgroup\": \"real\", \"line\": {\"color\": \"green\", \"width\": 1}, \"name\": \"real\", \"opacity\": 1, \"showlegend\": false, \"text\": [\"73830\", \"80933\"], \"x\": [-255.151, -353.285], \"y\": [58.8872, 87.1991], \"type\": \"scatter\", \"uid\": \"5606c4fd-37ce-4e05-8948-70ac0f7c69c4\"}, {\"hoverinfo\": \"name+text\", \"legendgroup\": \"real\", \"line\": {\"color\": \"green\", \"width\": 1}, \"name\": \"real\", \"opacity\": 1, \"showlegend\": false, \"text\": [\"23536\", \"31418\"], \"x\": [-30.9263, -68.8454], \"y\": [9.9814, 22.8573], \"type\": \"scatter\", \"uid\": \"433d473d-f46e-414a-9040-90558ca81b3d\"}, {\"hoverinfo\": \"name+text\", \"legendgroup\": \"real\", \"line\": {\"color\": \"green\", \"width\": 1}, \"name\": \"real\", \"opacity\": 1, \"showlegend\": false, \"text\": [\"31418\", \"38524\"], \"x\": [-68.8454, -109.987], \"y\": [22.8573, 37.6253], \"type\": \"scatter\", \"uid\": \"dbd76c91-9d73-4b85-a4c5-d7b65cd29642\"}, {\"hoverinfo\": \"name+text\", \"legendgroup\": \"real\", \"line\": {\"color\": \"green\", \"width\": 1}, \"name\": \"real\", \"opacity\": 1, \"showlegend\": false, \"text\": [\"38524\", \"45067\"], \"x\": [-109.987, -161.876], \"y\": [37.6253, 57.4577], \"type\": \"scatter\", \"uid\": \"8008b19d-316c-47d0-abb0-1557bd69a10d\"}, {\"hoverinfo\": \"name+text\", \"legendgroup\": \"real\", \"line\": {\"color\": \"green\", \"width\": 1}, \"name\": \"real\", \"opacity\": 1, \"showlegend\": false, \"text\": [\"45067\", \"76902\"], \"x\": [-161.876, -246.02], \"y\": [57.4577, 92.7332], \"type\": \"scatter\", \"uid\": \"e39a3d02-8011-456b-8a1d-c3b8ef8140cd\"}, {\"hoverinfo\": \"name+text\", \"legendgroup\": \"real\", \"line\": {\"color\": \"green\", \"width\": 1}, \"name\": \"real\", \"opacity\": 1, \"showlegend\": false, \"text\": [\"34877\", \"41146\"], \"x\": [114.433, 170.40099999999995], \"y\": [14.9217, 21.0637], \"type\": \"scatter\", \"uid\": \"1cbed17b-da05-41d6-a1fd-22725df24ec4\"}, {\"hoverinfo\": \"name+text\", \"legendgroup\": \"real\", \"line\": {\"color\": \"green\", \"width\": 1}, \"name\": \"real\", \"opacity\": 1, \"showlegend\": false, \"text\": [\"79641\", \"86195\"], \"x\": [359.452, 503.503], \"y\": [36.1999, 42.0709], \"type\": \"scatter\", \"uid\": \"e5c3403f-3eab-46e0-967f-c4cc4f8222af\"}, {\"hoverinfo\": \"name+text\", \"legendgroup\": \"missing\", \"line\": {\"color\": \"blue\", \"width\": 1}, \"name\": \"missing\", \"opacity\": 1, \"showlegend\": true, \"text\": [\"19698\", \"27827\"], \"x\": [-4.16977, -9.16296], \"y\": [-31.75, -71.4937], \"type\": \"scatter\", \"uid\": \"dfa2402d-d661-444e-add3-8a08dffe3868\"}, {\"hoverinfo\": \"name+text\", \"legendgroup\": \"missing\", \"line\": {\"color\": \"blue\", \"width\": 1}, \"name\": \"missing\", \"opacity\": 1, \"showlegend\": false, \"text\": [\"20262\", \"28058\"], \"x\": [32.2451, 70.7765], \"y\": [4.53326, 9.61941], \"type\": \"scatter\", \"uid\": \"758c7a87-d0f6-4586-aeb5-0c12b2b5c401\"}, {\"hoverinfo\": \"name+text\", \"legendgroup\": \"missing\", \"line\": {\"color\": \"blue\", \"width\": 1}, \"name\": \"missing\", \"opacity\": 1, \"showlegend\": false, \"text\": [\"20764\", \"27487\"], \"x\": [5.5706, 10.5024], \"y\": [31.671, 72.0453], \"type\": \"scatter\", \"uid\": \"9cae107a-5b56-4448-8309-5df137e68916\"}, {\"hoverinfo\": \"name+text\", \"legendgroup\": \"missing\", \"line\": {\"color\": \"blue\", \"width\": 1}, \"name\": \"missing\", \"opacity\": 1, \"showlegend\": false, \"text\": [\"27487\", \"34491\"], \"x\": [10.5024, 14.7116], \"y\": [72.0453, 114.108], \"type\": \"scatter\", \"uid\": \"c46eccf7-8fca-4468-af00-7a3d1a4298d8\"}, {\"hoverinfo\": \"name+text\", \"legendgroup\": \"missing\", \"line\": {\"color\": \"blue\", \"width\": 1}, \"name\": \"missing\", \"opacity\": 1, \"showlegend\": false, \"text\": [\"27827\", \"35259\"], \"x\": [-9.16296, -14.2464], \"y\": [-71.4937, -114.127], \"type\": \"scatter\", \"uid\": \"cd180145-5699-47cf-ad17-7e71b689dba2\"}, {\"hoverinfo\": \"name+text\", \"legendgroup\": \"missing\", \"line\": {\"color\": \"blue\", \"width\": 1}, \"name\": \"missing\", \"opacity\": 1, \"showlegend\": false, \"text\": [\"28058\", \"34877\"], \"x\": [70.7765, 114.433], \"y\": [9.61941, 14.9217], \"type\": \"scatter\", \"uid\": \"0a181093-da5f-4166-bfe6-247b7e00af2c\"}, {\"hoverinfo\": \"name+text\", \"legendgroup\": \"missing\", \"line\": {\"color\": \"blue\", \"width\": 1}, \"name\": \"missing\", \"opacity\": 1, \"showlegend\": false, \"text\": [\"34491\", \"40865\"], \"x\": [14.7116, 18.992], \"y\": [114.108, 171.997], \"type\": \"scatter\", \"uid\": \"2aaf7aeb-b786-4215-800c-f873a0554b96\"}, {\"hoverinfo\": \"name+text\", \"legendgroup\": \"missing\", \"line\": {\"color\": \"blue\", \"width\": 1}, \"name\": \"missing\", \"opacity\": 1, \"showlegend\": false, \"text\": [\"35259\", \"41464\"], \"x\": [-14.2464, -20.5217], \"y\": [-114.127, -170.169], \"type\": \"scatter\", \"uid\": \"0031af5a-38f6-47d1-b585-6859e06ed10e\"}, {\"hoverinfo\": \"name+text\", \"legendgroup\": \"missing\", \"line\": {\"color\": \"blue\", \"width\": 1}, \"name\": \"missing\", \"opacity\": 1, \"showlegend\": false, \"text\": [\"40865\", \"72549\"], \"x\": [18.992, 22.298], \"y\": [171.997, 257.23400000000004], \"type\": \"scatter\", \"uid\": \"52aa14b4-33c8-4123-83eb-c8552fc1e72a\"}, {\"hoverinfo\": \"name+text\", \"legendgroup\": \"missing\", \"line\": {\"color\": \"blue\", \"width\": 1}, \"name\": \"missing\", \"opacity\": 1, \"showlegend\": false, \"text\": [\"41146\", \"73201\"], \"x\": [170.40099999999995, 258.338], \"y\": [21.0637, 29.1488], \"type\": \"scatter\", \"uid\": \"24b18a43-858a-4d64-950a-ae0f1baa351a\"}, {\"hoverinfo\": \"name+text\", \"legendgroup\": \"missing\", \"line\": {\"color\": \"blue\", \"width\": 1}, \"name\": \"missing\", \"opacity\": 1, \"showlegend\": false, \"text\": [\"41464\", \"73085\"], \"x\": [-20.5217, -29.116], \"y\": [-170.169, -255.648], \"type\": \"scatter\", \"uid\": \"4dab3189-307d-40c4-9849-054e28a0775a\"}, {\"hoverinfo\": \"name+text\", \"legendgroup\": \"missing\", \"line\": {\"color\": \"blue\", \"width\": 1}, \"name\": \"missing\", \"opacity\": 1, \"showlegend\": false, \"text\": [\"72549\", \"79138\"], \"x\": [22.298, 21.6577], \"y\": [257.23400000000004, 357.611], \"type\": \"scatter\", \"uid\": \"d7cfd9bf-225a-4830-8a60-6e3511d98368\"}, {\"hoverinfo\": \"name+text\", \"legendgroup\": \"missing\", \"line\": {\"color\": \"blue\", \"width\": 1}, \"name\": \"missing\", \"opacity\": 1, \"showlegend\": false, \"text\": [\"73085\", \"79880\"], \"x\": [-29.116, -38.3955], \"y\": [-255.648, -363.693], \"type\": \"scatter\", \"uid\": \"32843f83-2588-46ef-b581-b0e33f689239\"}, {\"hoverinfo\": \"name+text\", \"legendgroup\": \"missing\", \"line\": {\"color\": \"blue\", \"width\": 1}, \"name\": \"missing\", \"opacity\": 1, \"showlegend\": false, \"text\": [\"73201\", \"79641\"], \"x\": [258.338, 359.452], \"y\": [29.1488, 36.1999], \"type\": \"scatter\", \"uid\": \"b8ecad33-0383-44f4-ae62-c02fa7bb55c1\"}, {\"hoverinfo\": \"name+text\", \"legendgroup\": \"missing\", \"line\": {\"color\": \"blue\", \"width\": 1}, \"name\": \"missing\", \"opacity\": 1, \"showlegend\": false, \"text\": [\"76902\", \"83944\"], \"x\": [-246.02, -333.426], \"y\": [92.7332, 133.519], \"type\": \"scatter\", \"uid\": \"f706c255-cbe3-4c96-a410-6a7ddb67b636\"}, {\"hoverinfo\": \"name+text\", \"legendgroup\": \"missing\", \"line\": {\"color\": \"blue\", \"width\": 1}, \"name\": \"missing\", \"opacity\": 1, \"showlegend\": false, \"text\": [\"79138\", \"85537\"], \"x\": [21.6577, 12.251], \"y\": [357.611, 496.648], \"type\": \"scatter\", \"uid\": \"49fb7c82-fcd0-4d9c-9372-08c8f49f7a05\"}, {\"hoverinfo\": \"name+text\", \"legendgroup\": \"missing\", \"line\": {\"color\": \"blue\", \"width\": 1}, \"name\": \"missing\", \"opacity\": 1, \"showlegend\": false, \"text\": [\"79880\", \"86402\"], \"x\": [-38.3955, -47.3072], \"y\": [-363.693, -495.195], \"type\": \"scatter\", \"uid\": \"295eb556-219a-4db3-9085-891071c1bf19\"}, {\"hoverinfo\": \"name+text\", \"legendgroup\": \"missing\", \"line\": {\"color\": \"blue\", \"width\": 1}, \"name\": \"missing\", \"opacity\": 1, \"showlegend\": false, \"text\": [\"80933\", \"87292\"], \"x\": [-353.285, -482.875], \"y\": [87.1991, 129.892], \"type\": \"scatter\", \"uid\": \"226ba971-2f9b-4cda-8fa7-477dea46086b\"}, {\"hoverinfo\": \"name+text\", \"legendgroup\": \"missing\", \"line\": {\"color\": \"blue\", \"width\": 1}, \"name\": \"missing\", \"opacity\": 1, \"showlegend\": false, \"text\": [\"83944\", \"90803\"], \"x\": [-333.426, -459.273], \"y\": [133.519, 200.49400000000003], \"type\": \"scatter\", \"uid\": \"cd2dabac-e622-4fe2-b7a7-ba8eb69c8cf8\"}, {\"hoverinfo\": \"name+text\", \"legendgroup\": \"missing\", \"line\": {\"color\": \"blue\", \"width\": 1}, \"name\": \"missing\", \"opacity\": 1, \"showlegend\": false, \"text\": [\"86195\", \"91955\"], \"x\": [503.503, 663.908], \"y\": [42.0709, 43.0984], \"type\": \"scatter\", \"uid\": \"13edc4d1-bf70-43db-af04-f6aa252f27dd\"}, {\"hoverinfo\": \"name+text\", \"legendgroup\": \"missing\", \"line\": {\"color\": \"blue\", \"width\": 1}, \"name\": \"missing\", \"opacity\": 1, \"showlegend\": false, \"text\": [\"86402\", \"92130\"], \"x\": [-47.3072, -54.4897], \"y\": [-495.195, -654.254], \"type\": \"scatter\", \"uid\": \"44b5a3cb-a0ca-4063-b9b8-f66e1ea127e2\"}, {\"hoverinfo\": \"name+text\", \"legendgroup\": \"missing\", \"line\": {\"color\": \"blue\", \"width\": 1}, \"name\": \"missing\", \"opacity\": 1, \"showlegend\": false, \"text\": [\"87292\", \"93165\"], \"x\": [-482.875, -633.385], \"y\": [129.892, 187.317], \"type\": \"scatter\", \"uid\": \"acad5d3a-a826-4e53-8a01-69cee82b8d34\"}, {\"hoverinfo\": \"name+text\", \"legendgroup\": \"missing\", \"line\": {\"color\": \"blue\", \"width\": 1}, \"name\": \"missing\", \"opacity\": 1, \"showlegend\": false, \"text\": [\"90803\", \"96934\"], \"x\": [-459.273, -595.614], \"y\": [200.49400000000003, 284.758], \"type\": \"scatter\", \"uid\": \"351e9b05-aaee-45ad-ada0-6f4e62d6b0c1\"}, {\"hoverinfo\": \"name+text\", \"legendgroup\": \"missing\", \"line\": {\"color\": \"blue\", \"width\": 1}, \"name\": \"missing\", \"opacity\": 1, \"showlegend\": false, \"text\": [\"91955\", \"107743\"], \"x\": [663.908, 823.312], \"y\": [43.0984, 38.3265], \"type\": \"scatter\", \"uid\": \"aeea3626-3881-4119-9b40-55211835cd11\"}, {\"hoverinfo\": \"name+text\", \"legendgroup\": \"missing\", \"line\": {\"color\": \"blue\", \"width\": 1}, \"name\": \"missing\", \"opacity\": 1, \"showlegend\": false, \"text\": [\"92130\", \"107883\"], \"x\": [-54.4897, -57.8177], \"y\": [-654.254, -817.466], \"type\": \"scatter\", \"uid\": \"9ef0f4a2-ea6e-4bd8-893f-79f7fdf5144c\"}, {\"hoverinfo\": \"name+text\", \"legendgroup\": \"missing\", \"line\": {\"color\": \"blue\", \"width\": 1}, \"name\": \"missing\", \"opacity\": 1, \"showlegend\": false, \"text\": [\"93165\", \"109022\"], \"x\": [-633.385, -782.4169999999998], \"y\": [187.317, 252.867], \"type\": \"scatter\", \"uid\": \"287906e3-d7c7-4a01-a2a4-c488ea0122b4\"}, {\"hoverinfo\": \"name+text\", \"legendgroup\": \"missing\", \"line\": {\"color\": \"blue\", \"width\": 1}, \"name\": \"missing\", \"opacity\": 1, \"showlegend\": false, \"text\": [\"109022\", \"114036\"], \"x\": [-782.4169999999998, -962.827], \"y\": [252.867, 344.76199999999994], \"type\": \"scatter\", \"uid\": \"c47abf4e-5880-493b-9bce-90b5f9c0f2c4\"}], {\"height\": 800, \"hovermode\": \"closest\", \"showlegend\": true, \"updatemenus\": [{\"buttons\": [{\"args\": [\"shapes\", []], \"label\": \"hide layers\", \"method\": \"relayout\"}, {\"args\": [\"shapes\", [{\"type\": \"circle\", \"x0\": -32, \"x1\": 32, \"y0\": -32, \"y1\": 32, \"opacity\": 0.5, \"layer\": \"below\", \"line\": {\"color\": \"#ccc\"}}, {\"type\": \"circle\", \"x0\": -72, \"x1\": 72, \"y0\": -72, \"y1\": 72, \"opacity\": 0.5, \"layer\": \"below\", \"line\": {\"color\": \"#ccc\"}}, {\"type\": \"circle\", \"x0\": -116, \"x1\": 116, \"y0\": -116, \"y1\": 116, \"opacity\": 0.5, \"layer\": \"below\", \"line\": {\"color\": \"#ccc\"}}, {\"type\": \"circle\", \"x0\": -172, \"x1\": 172, \"y0\": -172, \"y1\": 172, \"opacity\": 0.5, \"layer\": \"below\", \"line\": {\"color\": \"#ccc\"}}, {\"type\": \"circle\", \"x0\": -260, \"x1\": 260, \"y0\": -260, \"y1\": 260, \"opacity\": 0.5, \"layer\": \"below\", \"line\": {\"color\": \"#cccc8d\"}}, {\"type\": \"circle\", \"x0\": -360, \"x1\": 360, \"y0\": -360, \"y1\": 360, \"opacity\": 0.5, \"layer\": \"below\", \"line\": {\"color\": \"#cccc8d\"}}, {\"type\": \"circle\", \"x0\": -500, \"x1\": 500, \"y0\": -500, \"y1\": 500, \"opacity\": 0.5, \"layer\": \"below\", \"line\": {\"color\": \"#cccc8d\"}}, {\"type\": \"circle\", \"x0\": -660, \"x1\": 660, \"y0\": -660, \"y1\": 660, \"opacity\": 0.5, \"layer\": \"below\", \"line\": {\"color\": \"#cccc8d\"}}, {\"type\": \"circle\", \"x0\": -820, \"x1\": 820, \"y0\": -820, \"y1\": 820, \"opacity\": 0.5, \"layer\": \"below\", \"line\": {\"color\": \"#ccc\"}}, {\"type\": \"circle\", \"x0\": -1020, \"x1\": 1020, \"y0\": -1020, \"y1\": 1020, \"opacity\": 0.5, \"layer\": \"below\", \"line\": {\"color\": \"#ccc\"}}]], \"label\": \"show layers\", \"method\": \"relayout\"}], \"direction\": \"left\", \"pad\": {\"l\": 0.1}, \"type\": \"buttons\", \"xanchor\": \"left\", \"y\": 1.1, \"yanchor\": \"top\"}, {\"buttons\": [{\"args\": [{\"mode\": \"markers+lines\"}], \"label\": \"hits+tracks\", \"method\": \"update\"}, {\"args\": [{\"mode\": \"markers\"}], \"label\": \"hits only\", \"method\": \"update\"}], \"direction\": \"left\", \"pad\": {\"l\": 200}, \"type\": \"buttons\", \"xanchor\": \"left\", \"y\": 1.1, \"yanchor\": \"top\"}, {\"buttons\": [{\"args\": [\"yaxis.scaleanchor\", null], \"label\": \"free\", \"method\": \"relayout\"}, {\"args\": [\"yaxis.scaleanchor\", \"x\"], \"label\": \"fixed\", \"method\": \"relayout\"}], \"direction\": \"left\", \"pad\": {\"l\": 380}, \"type\": \"buttons\", \"xanchor\": \"left\", \"y\": 1.1, \"yanchor\": \"top\"}], \"width\": 800, \"xaxis\": {\"title\": \"x\"}, \"yaxis\": {\"title\": \"y\"}}, {\"showLink\": true, \"linkText\": \"Export to plot.ly\", \"plotlyServerURL\": \"https://plot.ly\"})});</script>"
      ],
      "text/vnd.plotly.v1+html": [
       "<div id=\"f6d5c5e5-bb59-41f0-bc81-9230f3d6de0e\" style=\"height: 800px; width: 800px;\" class=\"plotly-graph-div\"></div><script type=\"text/javascript\">require([\"plotly\"], function(Plotly) { window.PLOTLYENV=window.PLOTLYENV || {};window.PLOTLYENV.BASE_URL=\"https://plot.ly\";Plotly.newPlot(\"f6d5c5e5-bb59-41f0-bc81-9230f3d6de0e\", [{\"hoverinfo\": \"name+text\", \"legendgroup\": \"fake\", \"line\": {\"color\": \"red\", \"width\": 1}, \"name\": \"fake\", \"opacity\": 1, \"showlegend\": true, \"text\": [\"20262\", \"34877\"], \"x\": [32.2451, 114.433], \"y\": [4.53326, 14.9217], \"type\": \"scatter\", \"uid\": \"ce961534-acf9-4c7a-ac68-a94916b6cc7a\"}, {\"hoverinfo\": \"name+text\", \"legendgroup\": \"fake\", \"line\": {\"color\": \"red\", \"width\": 1}, \"name\": \"fake\", \"opacity\": 1, \"showlegend\": false, \"text\": [\"41146\", \"79641\"], \"x\": [170.40099999999995, 359.452], \"y\": [21.0637, 36.1999], \"type\": \"scatter\", \"uid\": \"ba2462d5-17e6-46da-8e4c-6cd6002f9518\"}, {\"hoverinfo\": \"name+text\", \"legendgroup\": \"real_unfocused\", \"line\": {\"color\": \"darkseagreen\", \"width\": 1}, \"name\": \"real_unfocused\", \"opacity\": 1, \"showlegend\": true, \"text\": [\"82090\", \"88632\"], \"x\": [-15.6281, -48.3976], \"y\": [-358.871, -494.939], \"type\": \"scatter\", \"uid\": \"375e6c4c-e76a-4636-b806-543208871ddc\"}, {\"hoverinfo\": \"name+text\", \"legendgroup\": \"real_unfocused\", \"line\": {\"color\": \"darkseagreen\", \"width\": 1}, \"name\": \"real_unfocused\", \"opacity\": 1, \"showlegend\": false, \"text\": [\"88632\", \"94896\"], \"x\": [-48.3976, -107.941], \"y\": [-494.939, -654.971], \"type\": \"scatter\", \"uid\": \"24b663a8-53e0-4db0-9728-79658fb300b4\"}, {\"hoverinfo\": \"name+text\", \"legendgroup\": \"real_unfocused\", \"line\": {\"color\": \"darkseagreen\", \"width\": 1}, \"name\": \"real_unfocused\", \"opacity\": 1, \"showlegend\": false, \"text\": [\"94896\", \"110783\"], \"x\": [-107.941, -184.63], \"y\": [-654.971, -801.703], \"type\": \"scatter\", \"uid\": \"3773b738-1ddb-481f-8e84-3221c5ba7d6f\"}, {\"hoverinfo\": \"name+text\", \"legendgroup\": \"real_unfocused\", \"line\": {\"color\": \"darkseagreen\", \"width\": 1}, \"name\": \"real_unfocused\", \"opacity\": 1, \"showlegend\": false, \"text\": [\"110783\", \"116120\"], \"x\": [-184.63, -306.828], \"y\": [-801.703, -971.876], \"type\": \"scatter\", \"uid\": \"7334bb8c-784d-44e2-b8fb-b6c592acc14c\"}, {\"hoverinfo\": \"name+text\", \"legendgroup\": \"real_unfocused\", \"line\": {\"color\": \"darkseagreen\", \"width\": 1}, \"name\": \"real_unfocused\", \"opacity\": 1, \"showlegend\": false, \"text\": [\"37198\", \"44045\"], \"x\": [-13.5617, -16.8728], \"y\": [114.204, 171.016], \"type\": \"scatter\", \"uid\": \"79994a23-f838-4f95-9ae3-2f7663bd057b\"}, {\"hoverinfo\": \"name+text\", \"legendgroup\": \"real_unfocused\", \"line\": {\"color\": \"darkseagreen\", \"width\": 1}, \"name\": \"real_unfocused\", \"opacity\": 1, \"showlegend\": false, \"text\": [\"44045\", \"75480\"], \"x\": [-16.8728, -17.738], \"y\": [171.016, 257.521], \"type\": \"scatter\", \"uid\": \"d4f0071b-4f68-4802-a44c-50b2a7318c1b\"}, {\"hoverinfo\": \"name+text\", \"legendgroup\": \"real_unfocused\", \"line\": {\"color\": \"darkseagreen\", \"width\": 1}, \"name\": \"real_unfocused\", \"opacity\": 1, \"showlegend\": false, \"text\": [\"75480\", \"82723\"], \"x\": [-17.738, -11.9561], \"y\": [257.521, 360.148], \"type\": \"scatter\", \"uid\": \"b94e40c2-4f37-4330-898f-97b127282604\"}, {\"hoverinfo\": \"name+text\", \"legendgroup\": \"real_unfocused\", \"line\": {\"color\": \"darkseagreen\", \"width\": 1}, \"name\": \"real_unfocused\", \"opacity\": 1, \"showlegend\": false, \"text\": [\"82723\", \"95378\"], \"x\": [-11.9561, 48.5453], \"y\": [360.148, 655.5310000000002], \"type\": \"scatter\", \"uid\": \"ef6ab7e1-f106-41e8-8920-ad525cb71845\"}, {\"hoverinfo\": \"name+text\", \"legendgroup\": \"real_unfocused\", \"line\": {\"color\": \"darkseagreen\", \"width\": 1}, \"name\": \"real_unfocused\", \"opacity\": 1, \"showlegend\": false, \"text\": [\"95378\", \"111471\"], \"x\": [48.5453, 109.848], \"y\": [655.5310000000002, 813.716], \"type\": \"scatter\", \"uid\": \"d6e0c429-49d8-4224-b24f-04e1ade638ec\"}, {\"hoverinfo\": \"name+text\", \"legendgroup\": \"real\", \"line\": {\"color\": \"green\", \"width\": 1}, \"name\": \"real\", \"opacity\": 1, \"showlegend\": true, \"text\": [\"21265\", \"29504\"], \"x\": [-31.6364, -70.206], \"y\": [6.18379, 14.1226], \"type\": \"scatter\", \"uid\": \"707d783b-66f1-4dee-bdc2-0500db0c670d\"}, {\"hoverinfo\": \"name+text\", \"legendgroup\": \"real\", \"line\": {\"color\": \"green\", \"width\": 1}, \"name\": \"real\", \"opacity\": 1, \"showlegend\": false, \"text\": [\"29504\", \"42350\"], \"x\": [-70.206, -168.155], \"y\": [14.1226, 36.3725], \"type\": \"scatter\", \"uid\": \"cee53a09-1501-40f5-af7e-3106b03d86a6\"}, {\"hoverinfo\": \"name+text\", \"legendgroup\": \"real\", \"line\": {\"color\": \"green\", \"width\": 1}, \"name\": \"real\", \"opacity\": 1, \"showlegend\": false, \"text\": [\"42350\", \"73830\"], \"x\": [-168.155, -255.151], \"y\": [36.3725, 58.8872], \"type\": \"scatter\", \"uid\": \"9d7109ea-8f87-4cd1-b2e7-62e74bc29f80\"}, {\"hoverinfo\": \"name+text\", \"legendgroup\": \"real\", \"line\": {\"color\": \"green\", \"width\": 1}, \"name\": \"real\", \"opacity\": 1, \"showlegend\": false, \"text\": [\"73830\", \"80933\"], \"x\": [-255.151, -353.285], \"y\": [58.8872, 87.1991], \"type\": \"scatter\", \"uid\": \"5606c4fd-37ce-4e05-8948-70ac0f7c69c4\"}, {\"hoverinfo\": \"name+text\", \"legendgroup\": \"real\", \"line\": {\"color\": \"green\", \"width\": 1}, \"name\": \"real\", \"opacity\": 1, \"showlegend\": false, \"text\": [\"23536\", \"31418\"], \"x\": [-30.9263, -68.8454], \"y\": [9.9814, 22.8573], \"type\": \"scatter\", \"uid\": \"433d473d-f46e-414a-9040-90558ca81b3d\"}, {\"hoverinfo\": \"name+text\", \"legendgroup\": \"real\", \"line\": {\"color\": \"green\", \"width\": 1}, \"name\": \"real\", \"opacity\": 1, \"showlegend\": false, \"text\": [\"31418\", \"38524\"], \"x\": [-68.8454, -109.987], \"y\": [22.8573, 37.6253], \"type\": \"scatter\", \"uid\": \"dbd76c91-9d73-4b85-a4c5-d7b65cd29642\"}, {\"hoverinfo\": \"name+text\", \"legendgroup\": \"real\", \"line\": {\"color\": \"green\", \"width\": 1}, \"name\": \"real\", \"opacity\": 1, \"showlegend\": false, \"text\": [\"38524\", \"45067\"], \"x\": [-109.987, -161.876], \"y\": [37.6253, 57.4577], \"type\": \"scatter\", \"uid\": \"8008b19d-316c-47d0-abb0-1557bd69a10d\"}, {\"hoverinfo\": \"name+text\", \"legendgroup\": \"real\", \"line\": {\"color\": \"green\", \"width\": 1}, \"name\": \"real\", \"opacity\": 1, \"showlegend\": false, \"text\": [\"45067\", \"76902\"], \"x\": [-161.876, -246.02], \"y\": [57.4577, 92.7332], \"type\": \"scatter\", \"uid\": \"e39a3d02-8011-456b-8a1d-c3b8ef8140cd\"}, {\"hoverinfo\": \"name+text\", \"legendgroup\": \"real\", \"line\": {\"color\": \"green\", \"width\": 1}, \"name\": \"real\", \"opacity\": 1, \"showlegend\": false, \"text\": [\"34877\", \"41146\"], \"x\": [114.433, 170.40099999999995], \"y\": [14.9217, 21.0637], \"type\": \"scatter\", \"uid\": \"1cbed17b-da05-41d6-a1fd-22725df24ec4\"}, {\"hoverinfo\": \"name+text\", \"legendgroup\": \"real\", \"line\": {\"color\": \"green\", \"width\": 1}, \"name\": \"real\", \"opacity\": 1, \"showlegend\": false, \"text\": [\"79641\", \"86195\"], \"x\": [359.452, 503.503], \"y\": [36.1999, 42.0709], \"type\": \"scatter\", \"uid\": \"e5c3403f-3eab-46e0-967f-c4cc4f8222af\"}, {\"hoverinfo\": \"name+text\", \"legendgroup\": \"missing\", \"line\": {\"color\": \"blue\", \"width\": 1}, \"name\": \"missing\", \"opacity\": 1, \"showlegend\": true, \"text\": [\"19698\", \"27827\"], \"x\": [-4.16977, -9.16296], \"y\": [-31.75, -71.4937], \"type\": \"scatter\", \"uid\": \"dfa2402d-d661-444e-add3-8a08dffe3868\"}, {\"hoverinfo\": \"name+text\", \"legendgroup\": \"missing\", \"line\": {\"color\": \"blue\", \"width\": 1}, \"name\": \"missing\", \"opacity\": 1, \"showlegend\": false, \"text\": [\"20262\", \"28058\"], \"x\": [32.2451, 70.7765], \"y\": [4.53326, 9.61941], \"type\": \"scatter\", \"uid\": \"758c7a87-d0f6-4586-aeb5-0c12b2b5c401\"}, {\"hoverinfo\": \"name+text\", \"legendgroup\": \"missing\", \"line\": {\"color\": \"blue\", \"width\": 1}, \"name\": \"missing\", \"opacity\": 1, \"showlegend\": false, \"text\": [\"20764\", \"27487\"], \"x\": [5.5706, 10.5024], \"y\": [31.671, 72.0453], \"type\": \"scatter\", \"uid\": \"9cae107a-5b56-4448-8309-5df137e68916\"}, {\"hoverinfo\": \"name+text\", \"legendgroup\": \"missing\", \"line\": {\"color\": \"blue\", \"width\": 1}, \"name\": \"missing\", \"opacity\": 1, \"showlegend\": false, \"text\": [\"27487\", \"34491\"], \"x\": [10.5024, 14.7116], \"y\": [72.0453, 114.108], \"type\": \"scatter\", \"uid\": \"c46eccf7-8fca-4468-af00-7a3d1a4298d8\"}, {\"hoverinfo\": \"name+text\", \"legendgroup\": \"missing\", \"line\": {\"color\": \"blue\", \"width\": 1}, \"name\": \"missing\", \"opacity\": 1, \"showlegend\": false, \"text\": [\"27827\", \"35259\"], \"x\": [-9.16296, -14.2464], \"y\": [-71.4937, -114.127], \"type\": \"scatter\", \"uid\": \"cd180145-5699-47cf-ad17-7e71b689dba2\"}, {\"hoverinfo\": \"name+text\", \"legendgroup\": \"missing\", \"line\": {\"color\": \"blue\", \"width\": 1}, \"name\": \"missing\", \"opacity\": 1, \"showlegend\": false, \"text\": [\"28058\", \"34877\"], \"x\": [70.7765, 114.433], \"y\": [9.61941, 14.9217], \"type\": \"scatter\", \"uid\": \"0a181093-da5f-4166-bfe6-247b7e00af2c\"}, {\"hoverinfo\": \"name+text\", \"legendgroup\": \"missing\", \"line\": {\"color\": \"blue\", \"width\": 1}, \"name\": \"missing\", \"opacity\": 1, \"showlegend\": false, \"text\": [\"34491\", \"40865\"], \"x\": [14.7116, 18.992], \"y\": [114.108, 171.997], \"type\": \"scatter\", \"uid\": \"2aaf7aeb-b786-4215-800c-f873a0554b96\"}, {\"hoverinfo\": \"name+text\", \"legendgroup\": \"missing\", \"line\": {\"color\": \"blue\", \"width\": 1}, \"name\": \"missing\", \"opacity\": 1, \"showlegend\": false, \"text\": [\"35259\", \"41464\"], \"x\": [-14.2464, -20.5217], \"y\": [-114.127, -170.169], \"type\": \"scatter\", \"uid\": \"0031af5a-38f6-47d1-b585-6859e06ed10e\"}, {\"hoverinfo\": \"name+text\", \"legendgroup\": \"missing\", \"line\": {\"color\": \"blue\", \"width\": 1}, \"name\": \"missing\", \"opacity\": 1, \"showlegend\": false, \"text\": [\"40865\", \"72549\"], \"x\": [18.992, 22.298], \"y\": [171.997, 257.23400000000004], \"type\": \"scatter\", \"uid\": \"52aa14b4-33c8-4123-83eb-c8552fc1e72a\"}, {\"hoverinfo\": \"name+text\", \"legendgroup\": \"missing\", \"line\": {\"color\": \"blue\", \"width\": 1}, \"name\": \"missing\", \"opacity\": 1, \"showlegend\": false, \"text\": [\"41146\", \"73201\"], \"x\": [170.40099999999995, 258.338], \"y\": [21.0637, 29.1488], \"type\": \"scatter\", \"uid\": \"24b18a43-858a-4d64-950a-ae0f1baa351a\"}, {\"hoverinfo\": \"name+text\", \"legendgroup\": \"missing\", \"line\": {\"color\": \"blue\", \"width\": 1}, \"name\": \"missing\", \"opacity\": 1, \"showlegend\": false, \"text\": [\"41464\", \"73085\"], \"x\": [-20.5217, -29.116], \"y\": [-170.169, -255.648], \"type\": \"scatter\", \"uid\": \"4dab3189-307d-40c4-9849-054e28a0775a\"}, {\"hoverinfo\": \"name+text\", \"legendgroup\": \"missing\", \"line\": {\"color\": \"blue\", \"width\": 1}, \"name\": \"missing\", \"opacity\": 1, \"showlegend\": false, \"text\": [\"72549\", \"79138\"], \"x\": [22.298, 21.6577], \"y\": [257.23400000000004, 357.611], \"type\": \"scatter\", \"uid\": \"d7cfd9bf-225a-4830-8a60-6e3511d98368\"}, {\"hoverinfo\": \"name+text\", \"legendgroup\": \"missing\", \"line\": {\"color\": \"blue\", \"width\": 1}, \"name\": \"missing\", \"opacity\": 1, \"showlegend\": false, \"text\": [\"73085\", \"79880\"], \"x\": [-29.116, -38.3955], \"y\": [-255.648, -363.693], \"type\": \"scatter\", \"uid\": \"32843f83-2588-46ef-b581-b0e33f689239\"}, {\"hoverinfo\": \"name+text\", \"legendgroup\": \"missing\", \"line\": {\"color\": \"blue\", \"width\": 1}, \"name\": \"missing\", \"opacity\": 1, \"showlegend\": false, \"text\": [\"73201\", \"79641\"], \"x\": [258.338, 359.452], \"y\": [29.1488, 36.1999], \"type\": \"scatter\", \"uid\": \"b8ecad33-0383-44f4-ae62-c02fa7bb55c1\"}, {\"hoverinfo\": \"name+text\", \"legendgroup\": \"missing\", \"line\": {\"color\": \"blue\", \"width\": 1}, \"name\": \"missing\", \"opacity\": 1, \"showlegend\": false, \"text\": [\"76902\", \"83944\"], \"x\": [-246.02, -333.426], \"y\": [92.7332, 133.519], \"type\": \"scatter\", \"uid\": \"f706c255-cbe3-4c96-a410-6a7ddb67b636\"}, {\"hoverinfo\": \"name+text\", \"legendgroup\": \"missing\", \"line\": {\"color\": \"blue\", \"width\": 1}, \"name\": \"missing\", \"opacity\": 1, \"showlegend\": false, \"text\": [\"79138\", \"85537\"], \"x\": [21.6577, 12.251], \"y\": [357.611, 496.648], \"type\": \"scatter\", \"uid\": \"49fb7c82-fcd0-4d9c-9372-08c8f49f7a05\"}, {\"hoverinfo\": \"name+text\", \"legendgroup\": \"missing\", \"line\": {\"color\": \"blue\", \"width\": 1}, \"name\": \"missing\", \"opacity\": 1, \"showlegend\": false, \"text\": [\"79880\", \"86402\"], \"x\": [-38.3955, -47.3072], \"y\": [-363.693, -495.195], \"type\": \"scatter\", \"uid\": \"295eb556-219a-4db3-9085-891071c1bf19\"}, {\"hoverinfo\": \"name+text\", \"legendgroup\": \"missing\", \"line\": {\"color\": \"blue\", \"width\": 1}, \"name\": \"missing\", \"opacity\": 1, \"showlegend\": false, \"text\": [\"80933\", \"87292\"], \"x\": [-353.285, -482.875], \"y\": [87.1991, 129.892], \"type\": \"scatter\", \"uid\": \"226ba971-2f9b-4cda-8fa7-477dea46086b\"}, {\"hoverinfo\": \"name+text\", \"legendgroup\": \"missing\", \"line\": {\"color\": \"blue\", \"width\": 1}, \"name\": \"missing\", \"opacity\": 1, \"showlegend\": false, \"text\": [\"83944\", \"90803\"], \"x\": [-333.426, -459.273], \"y\": [133.519, 200.49400000000003], \"type\": \"scatter\", \"uid\": \"cd2dabac-e622-4fe2-b7a7-ba8eb69c8cf8\"}, {\"hoverinfo\": \"name+text\", \"legendgroup\": \"missing\", \"line\": {\"color\": \"blue\", \"width\": 1}, \"name\": \"missing\", \"opacity\": 1, \"showlegend\": false, \"text\": [\"86195\", \"91955\"], \"x\": [503.503, 663.908], \"y\": [42.0709, 43.0984], \"type\": \"scatter\", \"uid\": \"13edc4d1-bf70-43db-af04-f6aa252f27dd\"}, {\"hoverinfo\": \"name+text\", \"legendgroup\": \"missing\", \"line\": {\"color\": \"blue\", \"width\": 1}, \"name\": \"missing\", \"opacity\": 1, \"showlegend\": false, \"text\": [\"86402\", \"92130\"], \"x\": [-47.3072, -54.4897], \"y\": [-495.195, -654.254], \"type\": \"scatter\", \"uid\": \"44b5a3cb-a0ca-4063-b9b8-f66e1ea127e2\"}, {\"hoverinfo\": \"name+text\", \"legendgroup\": \"missing\", \"line\": {\"color\": \"blue\", \"width\": 1}, \"name\": \"missing\", \"opacity\": 1, \"showlegend\": false, \"text\": [\"87292\", \"93165\"], \"x\": [-482.875, -633.385], \"y\": [129.892, 187.317], \"type\": \"scatter\", \"uid\": \"acad5d3a-a826-4e53-8a01-69cee82b8d34\"}, {\"hoverinfo\": \"name+text\", \"legendgroup\": \"missing\", \"line\": {\"color\": \"blue\", \"width\": 1}, \"name\": \"missing\", \"opacity\": 1, \"showlegend\": false, \"text\": [\"90803\", \"96934\"], \"x\": [-459.273, -595.614], \"y\": [200.49400000000003, 284.758], \"type\": \"scatter\", \"uid\": \"351e9b05-aaee-45ad-ada0-6f4e62d6b0c1\"}, {\"hoverinfo\": \"name+text\", \"legendgroup\": \"missing\", \"line\": {\"color\": \"blue\", \"width\": 1}, \"name\": \"missing\", \"opacity\": 1, \"showlegend\": false, \"text\": [\"91955\", \"107743\"], \"x\": [663.908, 823.312], \"y\": [43.0984, 38.3265], \"type\": \"scatter\", \"uid\": \"aeea3626-3881-4119-9b40-55211835cd11\"}, {\"hoverinfo\": \"name+text\", \"legendgroup\": \"missing\", \"line\": {\"color\": \"blue\", \"width\": 1}, \"name\": \"missing\", \"opacity\": 1, \"showlegend\": false, \"text\": [\"92130\", \"107883\"], \"x\": [-54.4897, -57.8177], \"y\": [-654.254, -817.466], \"type\": \"scatter\", \"uid\": \"9ef0f4a2-ea6e-4bd8-893f-79f7fdf5144c\"}, {\"hoverinfo\": \"name+text\", \"legendgroup\": \"missing\", \"line\": {\"color\": \"blue\", \"width\": 1}, \"name\": \"missing\", \"opacity\": 1, \"showlegend\": false, \"text\": [\"93165\", \"109022\"], \"x\": [-633.385, -782.4169999999998], \"y\": [187.317, 252.867], \"type\": \"scatter\", \"uid\": \"287906e3-d7c7-4a01-a2a4-c488ea0122b4\"}, {\"hoverinfo\": \"name+text\", \"legendgroup\": \"missing\", \"line\": {\"color\": \"blue\", \"width\": 1}, \"name\": \"missing\", \"opacity\": 1, \"showlegend\": false, \"text\": [\"109022\", \"114036\"], \"x\": [-782.4169999999998, -962.827], \"y\": [252.867, 344.76199999999994], \"type\": \"scatter\", \"uid\": \"c47abf4e-5880-493b-9bce-90b5f9c0f2c4\"}], {\"height\": 800, \"hovermode\": \"closest\", \"showlegend\": true, \"updatemenus\": [{\"buttons\": [{\"args\": [\"shapes\", []], \"label\": \"hide layers\", \"method\": \"relayout\"}, {\"args\": [\"shapes\", [{\"type\": \"circle\", \"x0\": -32, \"x1\": 32, \"y0\": -32, \"y1\": 32, \"opacity\": 0.5, \"layer\": \"below\", \"line\": {\"color\": \"#ccc\"}}, {\"type\": \"circle\", \"x0\": -72, \"x1\": 72, \"y0\": -72, \"y1\": 72, \"opacity\": 0.5, \"layer\": \"below\", \"line\": {\"color\": \"#ccc\"}}, {\"type\": \"circle\", \"x0\": -116, \"x1\": 116, \"y0\": -116, \"y1\": 116, \"opacity\": 0.5, \"layer\": \"below\", \"line\": {\"color\": \"#ccc\"}}, {\"type\": \"circle\", \"x0\": -172, \"x1\": 172, \"y0\": -172, \"y1\": 172, \"opacity\": 0.5, \"layer\": \"below\", \"line\": {\"color\": \"#ccc\"}}, {\"type\": \"circle\", \"x0\": -260, \"x1\": 260, \"y0\": -260, \"y1\": 260, \"opacity\": 0.5, \"layer\": \"below\", \"line\": {\"color\": \"#cccc8d\"}}, {\"type\": \"circle\", \"x0\": -360, \"x1\": 360, \"y0\": -360, \"y1\": 360, \"opacity\": 0.5, \"layer\": \"below\", \"line\": {\"color\": \"#cccc8d\"}}, {\"type\": \"circle\", \"x0\": -500, \"x1\": 500, \"y0\": -500, \"y1\": 500, \"opacity\": 0.5, \"layer\": \"below\", \"line\": {\"color\": \"#cccc8d\"}}, {\"type\": \"circle\", \"x0\": -660, \"x1\": 660, \"y0\": -660, \"y1\": 660, \"opacity\": 0.5, \"layer\": \"below\", \"line\": {\"color\": \"#cccc8d\"}}, {\"type\": \"circle\", \"x0\": -820, \"x1\": 820, \"y0\": -820, \"y1\": 820, \"opacity\": 0.5, \"layer\": \"below\", \"line\": {\"color\": \"#ccc\"}}, {\"type\": \"circle\", \"x0\": -1020, \"x1\": 1020, \"y0\": -1020, \"y1\": 1020, \"opacity\": 0.5, \"layer\": \"below\", \"line\": {\"color\": \"#ccc\"}}]], \"label\": \"show layers\", \"method\": \"relayout\"}], \"direction\": \"left\", \"pad\": {\"l\": 0.1}, \"type\": \"buttons\", \"xanchor\": \"left\", \"y\": 1.1, \"yanchor\": \"top\"}, {\"buttons\": [{\"args\": [{\"mode\": \"markers+lines\"}], \"label\": \"hits+tracks\", \"method\": \"update\"}, {\"args\": [{\"mode\": \"markers\"}], \"label\": \"hits only\", \"method\": \"update\"}], \"direction\": \"left\", \"pad\": {\"l\": 200}, \"type\": \"buttons\", \"xanchor\": \"left\", \"y\": 1.1, \"yanchor\": \"top\"}, {\"buttons\": [{\"args\": [\"yaxis.scaleanchor\", null], \"label\": \"free\", \"method\": \"relayout\"}, {\"args\": [\"yaxis.scaleanchor\", \"x\"], \"label\": \"fixed\", \"method\": \"relayout\"}], \"direction\": \"left\", \"pad\": {\"l\": 380}, \"type\": \"buttons\", \"xanchor\": \"left\", \"y\": 1.1, \"yanchor\": \"top\"}], \"width\": 800, \"xaxis\": {\"title\": \"x\"}, \"yaxis\": {\"title\": \"y\"}}, {\"showLink\": true, \"linkText\": \"Export to plot.ly\", \"plotlyServerURL\": \"https://plot.ly\"})});</script>"
      ]
     },
     "metadata": {},
     "output_type": "display_data"
    },
    {
     "data": {
      "application/vnd.plotly.v1+json": {
       "config": {
        "linkText": "Export to plot.ly",
        "plotlyServerURL": "https://plot.ly",
        "showLink": true
       },
       "data": [
        {
         "hoverinfo": "name+text",
         "legendgroup": "fake",
         "line": {
          "color": "red",
          "width": 1
         },
         "name": "fake",
         "opacity": 1,
         "showlegend": true,
         "text": [
          "20262",
          "34877"
         ],
         "type": "scatter",
         "uid": "3d7a48a7-6476-4819-a764-62122d3740f9",
         "x": [
          -43.7904,
          -151.393
         ],
         "y": [
          32.562200789221855,
          115.4017704365492
         ]
        },
        {
         "hoverinfo": "name+text",
         "legendgroup": "fake",
         "line": {
          "color": "red",
          "width": 1
         },
         "name": "fake",
         "opacity": 1,
         "showlegend": false,
         "text": [
          "41146",
          "79641"
         ],
         "type": "scatter",
         "uid": "561c1926-20e6-4c52-bf1b-a1d2f4973625",
         "x": [
          -224.485,
          -470.6
         ],
         "y": [
          171.697933181183,
          361.27022166795035
         ]
        },
        {
         "hoverinfo": "name+text",
         "legendgroup": "real_unfocused",
         "line": {
          "color": "darkseagreen",
          "width": 1
         },
         "name": "real_unfocused",
         "opacity": 1,
         "showlegend": true,
         "text": [
          "82090",
          "88632"
         ],
         "type": "scatter",
         "uid": "b3b6e316-8272-4510-a252-92d4fc3beb3d",
         "x": [
          104.8,
          145.6
         ],
         "y": [
          359.2111247589779,
          497.29964951401286
         ]
        },
        {
         "hoverinfo": "name+text",
         "legendgroup": "real_unfocused",
         "line": {
          "color": "darkseagreen",
          "width": 1
         },
         "name": "real_unfocused",
         "opacity": 1,
         "showlegend": false,
         "text": [
          "88632",
          "94896"
         ],
         "type": "scatter",
         "uid": "73c84e4d-57ce-419a-8b9b-2787d012fd10",
         "x": [
          145.6,
          194.6
         ],
         "y": [
          497.29964951401286,
          663.8058980771413
         ]
        },
        {
         "hoverinfo": "name+text",
         "legendgroup": "real_unfocused",
         "line": {
          "color": "darkseagreen",
          "width": 1
         },
         "name": "real_unfocused",
         "opacity": 1,
         "showlegend": false,
         "text": [
          "94896",
          "110783"
         ],
         "type": "scatter",
         "uid": "8aeb0313-7b61-428f-b24e-2f61633c9d50",
         "x": [
          194.6,
          243.8
         ],
         "y": [
          663.8058980771413,
          822.6882381005577
         ]
        },
        {
         "hoverinfo": "name+text",
         "legendgroup": "real_unfocused",
         "line": {
          "color": "darkseagreen",
          "width": 1
         },
         "name": "real_unfocused",
         "opacity": 1,
         "showlegend": false,
         "text": [
          "110783",
          "116120"
         ],
         "type": "scatter",
         "uid": "442595eb-d771-40c9-ad5e-331ffbfb31f9",
         "x": [
          243.8,
          303.6
         ],
         "y": [
          822.6882381005577,
          1019.1596444914801
         ]
        },
        {
         "hoverinfo": "name+text",
         "legendgroup": "real_unfocused",
         "line": {
          "color": "darkseagreen",
          "width": 1
         },
         "name": "real_unfocused",
         "opacity": 1,
         "showlegend": false,
         "text": [
          "37198",
          "44045"
         ],
         "type": "scatter",
         "uid": "2fcfe321-cb07-444f-a18d-392d98c17c41",
         "x": [
          59.2064,
          83.8711
         ],
         "y": [
          115.0064055732984,
          171.8463372779298
         ]
        },
        {
         "hoverinfo": "name+text",
         "legendgroup": "real_unfocused",
         "line": {
          "color": "darkseagreen",
          "width": 1
         },
         "name": "real_unfocused",
         "opacity": 1,
         "showlegend": false,
         "text": [
          "44045",
          "75480"
         ],
         "type": "scatter",
         "uid": "527a298b-98e3-4302-859f-96aeb5d731a3",
         "x": [
          83.8711,
          121.6
         ],
         "y": [
          171.8463372779298,
          258.1311722458177
         ]
        },
        {
         "hoverinfo": "name+text",
         "legendgroup": "real_unfocused",
         "line": {
          "color": "darkseagreen",
          "width": 1
         },
         "name": "real_unfocused",
         "opacity": 1,
         "showlegend": false,
         "text": [
          "75480",
          "82723"
         ],
         "type": "scatter",
         "uid": "9c0bec10-19fd-4d90-b0da-7c9c2beadb42",
         "x": [
          121.6,
          165.8
         ],
         "y": [
          258.1311722458177,
          360.3464031056922
         ]
        },
        {
         "hoverinfo": "name+text",
         "legendgroup": "real_unfocused",
         "line": {
          "color": "darkseagreen",
          "width": 1
         },
         "name": "real_unfocused",
         "opacity": 1,
         "showlegend": false,
         "text": [
          "82723",
          "95378"
         ],
         "type": "scatter",
         "uid": "1d06602b-b8dc-4e35-b713-08a88de2f517",
         "x": [
          165.8,
          297.6
         ],
         "y": [
          360.3464031056922,
          657.3260516007944
         ]
        },
        {
         "hoverinfo": "name+text",
         "legendgroup": "real_unfocused",
         "line": {
          "color": "darkseagreen",
          "width": 1
         },
         "name": "real_unfocused",
         "opacity": 1,
         "showlegend": false,
         "text": [
          "95378",
          "111471"
         ],
         "type": "scatter",
         "uid": "ae8cef3b-efb5-4125-98a2-f45470704b3f",
         "x": [
          297.6,
          374.2
         ],
         "y": [
          657.3260516007944,
          821.0970172640989
         ]
        },
        {
         "hoverinfo": "name+text",
         "legendgroup": "real",
         "line": {
          "color": "green",
          "width": 1
         },
         "name": "real",
         "opacity": 1,
         "showlegend": true,
         "text": [
          "21265",
          "29504"
         ],
         "type": "scatter",
         "uid": "5e805535-464a-41f0-b00f-4d3eae69568f",
         "x": [
          -24.6702,
          -46.6699
         ],
         "y": [
          32.23509056485029,
          71.61236113102264
         ]
        },
        {
         "hoverinfo": "name+text",
         "legendgroup": "real",
         "line": {
          "color": "green",
          "width": 1
         },
         "name": "real",
         "opacity": 1,
         "showlegend": false,
         "text": [
          "29504",
          "42350"
         ],
         "type": "scatter",
         "uid": "1b709daa-fb9b-4879-b53b-1857f6aee9db",
         "x": [
          -46.6699,
          -102.632
         ],
         "y": [
          71.61236113102264,
          172.0437815826251
         ]
        },
        {
         "hoverinfo": "name+text",
         "legendgroup": "real",
         "line": {
          "color": "green",
          "width": 1
         },
         "name": "real",
         "opacity": 1,
         "showlegend": false,
         "text": [
          "42350",
          "73830"
         ],
         "type": "scatter",
         "uid": "5ce618f0-a648-43ee-8f23-491b9b3c6ab1",
         "x": [
          -102.632,
          -152.6
         ],
         "y": [
          172.0437815826251,
          261.85823478523645
         ]
        },
        {
         "hoverinfo": "name+text",
         "legendgroup": "real",
         "line": {
          "color": "green",
          "width": 1
         },
         "name": "real",
         "opacity": 1,
         "showlegend": false,
         "text": [
          "73830",
          "80933"
         ],
         "type": "scatter",
         "uid": "b56cae87-e3fd-486d-9f87-6188a92ee280",
         "x": [
          -152.6,
          -209.6
         ],
         "y": [
          261.85823478523645,
          363.8873098444215
         ]
        },
        {
         "hoverinfo": "name+text",
         "legendgroup": "real",
         "line": {
          "color": "green",
          "width": 1
         },
         "name": "real",
         "opacity": 1,
         "showlegend": false,
         "text": [
          "23536",
          "31418"
         ],
         "type": "scatter",
         "uid": "a408f95e-ce12-40b1-89e1-bd6f02ead45c",
         "x": [
          41.7502,
          99.58
         ],
         "y": [
          32.49714414606305,
          72.54064560265508
         ]
        },
        {
         "hoverinfo": "name+text",
         "legendgroup": "real",
         "line": {
          "color": "green",
          "width": 1
         },
         "name": "real",
         "opacity": 1,
         "showlegend": false,
         "text": [
          "31418",
          "38524"
         ],
         "type": "scatter",
         "uid": "f5b9d56d-9b30-4b37-90f6-074c5a36107d",
         "x": [
          99.58,
          162.741
         ],
         "y": [
          72.54064560265508,
          116.24458425703108
         ]
        },
        {
         "hoverinfo": "name+text",
         "legendgroup": "real",
         "line": {
          "color": "green",
          "width": 1
         },
         "name": "real",
         "opacity": 1,
         "showlegend": false,
         "text": [
          "38524",
          "45067"
         ],
         "type": "scatter",
         "uid": "a915e53b-4165-4e85-a7d3-2d00d6ba776a",
         "x": [
          162.741,
          243.228
         ],
         "y": [
          116.24458425703108,
          171.77085511020198
         ]
        },
        {
         "hoverinfo": "name+text",
         "legendgroup": "real",
         "line": {
          "color": "green",
          "width": 1
         },
         "name": "real",
         "opacity": 1,
         "showlegend": false,
         "text": [
          "45067",
          "76902"
         ],
         "type": "scatter",
         "uid": "61577169-70b8-44ac-8a1f-02d849935536",
         "x": [
          243.228,
          375.4
         ],
         "y": [
          171.77085511020198,
          262.9168818890107
         ]
        },
        {
         "hoverinfo": "name+text",
         "legendgroup": "real",
         "line": {
          "color": "green",
          "width": 1
         },
         "name": "real",
         "opacity": 1,
         "showlegend": false,
         "text": [
          "34877",
          "41146"
         ],
         "type": "scatter",
         "uid": "a081f26c-1d5c-4492-854d-9d2fd1c0176e",
         "x": [
          -151.393,
          -224.485
         ],
         "y": [
          115.4017704365492,
          171.697933181183
         ]
        },
        {
         "hoverinfo": "name+text",
         "legendgroup": "real",
         "line": {
          "color": "green",
          "width": 1
         },
         "name": "real",
         "opacity": 1,
         "showlegend": false,
         "text": [
          "79641",
          "86195"
         ],
         "type": "scatter",
         "uid": "3259abcf-63b7-4ac0-a0b2-e41eb7407c02",
         "x": [
          -470.6,
          -657.6
         ],
         "y": [
          361.27022166795035,
          505.25758938962014
         ]
        },
        {
         "hoverinfo": "name+text",
         "legendgroup": "missing",
         "line": {
          "color": "blue",
          "width": 1
         },
         "name": "missing",
         "opacity": 1,
         "showlegend": true,
         "text": [
          "19698",
          "27827"
         ],
         "type": "scatter",
         "uid": "e9b4ca80-6845-44bf-b6e3-b6a4899d96a3",
         "x": [
          -43.6337,
          -86.1783
         ],
         "y": [
          32.02264014494901,
          72.07849176870727
         ]
        },
        {
         "hoverinfo": "name+text",
         "legendgroup": "missing",
         "line": {
          "color": "blue",
          "width": 1
         },
         "name": "missing",
         "opacity": 1,
         "showlegend": false,
         "text": [
          "20262",
          "28058"
         ],
         "type": "scatter",
         "uid": "57aa842e-c830-40bd-b370-2e15f3eb2951",
         "x": [
          -43.7904,
          -94.3151
         ],
         "y": [
          32.562200789221855,
          71.42720770825427
         ]
        },
        {
         "hoverinfo": "name+text",
         "legendgroup": "missing",
         "line": {
          "color": "blue",
          "width": 1
         },
         "name": "missing",
         "opacity": 1,
         "showlegend": false,
         "text": [
          "20764",
          "27487"
         ],
         "type": "scatter",
         "uid": "c72e7987-320c-49ee-8648-163e0257723b",
         "x": [
          -67.8321,
          -145.30700000000004
         ],
         "y": [
          32.157173777557006,
          72.80676931336811
         ]
        },
        {
         "hoverinfo": "name+text",
         "legendgroup": "missing",
         "line": {
          "color": "blue",
          "width": 1
         },
         "name": "missing",
         "opacity": 1,
         "showlegend": false,
         "text": [
          "27487",
          "34491"
         ],
         "type": "scatter",
         "uid": "3a4b7f16-13f8-42c1-abe9-0f76b49a2e6a",
         "x": [
          -145.30700000000004,
          -225.866
         ],
         "y": [
          72.80676931336811,
          115.05245255343321
         ]
        },
        {
         "hoverinfo": "name+text",
         "legendgroup": "missing",
         "line": {
          "color": "blue",
          "width": 1
         },
         "name": "missing",
         "opacity": 1,
         "showlegend": false,
         "text": [
          "27827",
          "35259"
         ],
         "type": "scatter",
         "uid": "9684d95b-d759-4d98-884b-caf7a4e81431",
         "x": [
          -86.1783,
          -131.795
         ],
         "y": [
          72.07849176870727,
          115.01274730202735
         ]
        },
        {
         "hoverinfo": "name+text",
         "legendgroup": "missing",
         "line": {
          "color": "blue",
          "width": 1
         },
         "name": "missing",
         "opacity": 1,
         "showlegend": false,
         "text": [
          "28058",
          "34877"
         ],
         "type": "scatter",
         "uid": "fe3c4d92-e3fa-4cba-927d-c738b4cead0e",
         "x": [
          -94.3151,
          -151.393
         ],
         "y": [
          71.42720770825427,
          115.4017704365492
         ]
        },
        {
         "hoverinfo": "name+text",
         "legendgroup": "missing",
         "line": {
          "color": "blue",
          "width": 1
         },
         "name": "missing",
         "opacity": 1,
         "showlegend": false,
         "text": [
          "34491",
          "40865"
         ],
         "type": "scatter",
         "uid": "adc17242-948b-4c40-baa7-c2f72542e3fc",
         "x": [
          -225.866,
          -336.397
         ],
         "y": [
          115.05245255343321,
          173.0423765237868
         ]
        },
        {
         "hoverinfo": "name+text",
         "legendgroup": "missing",
         "line": {
          "color": "blue",
          "width": 1
         },
         "name": "missing",
         "opacity": 1,
         "showlegend": false,
         "text": [
          "35259",
          "41464"
         ],
         "type": "scatter",
         "uid": "db596201-24b1-4aba-a2ab-7b924678ab65",
         "x": [
          -131.795,
          -191.758
         ],
         "y": [
          115.01274730202735,
          171.40195078204334
         ]
        },
        {
         "hoverinfo": "name+text",
         "legendgroup": "missing",
         "line": {
          "color": "blue",
          "width": 1
         },
         "name": "missing",
         "opacity": 1,
         "showlegend": false,
         "text": [
          "40865",
          "72549"
         ],
         "type": "scatter",
         "uid": "e90cb09e-cd6a-4b8e-aea2-b4deaf1ae099",
         "x": [
          -336.397,
          -499.4
         ],
         "y": [
          173.0423765237868,
          258.1986281140936
         ]
        },
        {
         "hoverinfo": "name+text",
         "legendgroup": "missing",
         "line": {
          "color": "blue",
          "width": 1
         },
         "name": "missing",
         "opacity": 1,
         "showlegend": false,
         "text": [
          "41146",
          "73201"
         ],
         "type": "scatter",
         "uid": "affde36a-703e-4835-815d-e3b9c0d973db",
         "x": [
          -224.485,
          -339
         ],
         "y": [
          171.697933181183,
          259.9772582081748
         ]
        },
        {
         "hoverinfo": "name+text",
         "legendgroup": "missing",
         "line": {
          "color": "blue",
          "width": 1
         },
         "name": "missing",
         "opacity": 1,
         "showlegend": false,
         "text": [
          "41464",
          "73085"
         ],
         "type": "scatter",
         "uid": "b1d7c049-aef7-4207-aee1-730f75778954",
         "x": [
          -191.758,
          -283.2
         ],
         "y": [
          171.40195078204334,
          257.30068278183796
         ]
        },
        {
         "hoverinfo": "name+text",
         "legendgroup": "missing",
         "line": {
          "color": "blue",
          "width": 1
         },
         "name": "missing",
         "opacity": 1,
         "showlegend": false,
         "text": [
          "72549",
          "79138"
         ],
         "type": "scatter",
         "uid": "590b2dff-0bcf-4937-8fc0-63d79e5deae3",
         "x": [
          -499.4,
          -689.8
         ],
         "y": [
          258.1986281140936,
          358.26621846092326
         ]
        },
        {
         "hoverinfo": "name+text",
         "legendgroup": "missing",
         "line": {
          "color": "blue",
          "width": 1
         },
         "name": "missing",
         "opacity": 1,
         "showlegend": false,
         "text": [
          "73085",
          "79880"
         ],
         "type": "scatter",
         "uid": "405d5aab-499c-465b-adc2-3b31f12ccb34",
         "x": [
          -283.2,
          -398.2
         ],
         "y": [
          257.30068278183796,
          365.71411330334246
         ]
        },
        {
         "hoverinfo": "name+text",
         "legendgroup": "missing",
         "line": {
          "color": "blue",
          "width": 1
         },
         "name": "missing",
         "opacity": 1,
         "showlegend": false,
         "text": [
          "73201",
          "79641"
         ],
         "type": "scatter",
         "uid": "fba9daaf-342c-4673-92f9-ab1e0d36153b",
         "x": [
          -339,
          -470.6
         ],
         "y": [
          259.9772582081748,
          361.27022166795035
         ]
        },
        {
         "hoverinfo": "name+text",
         "legendgroup": "missing",
         "line": {
          "color": "blue",
          "width": 1
         },
         "name": "missing",
         "opacity": 1,
         "showlegend": false,
         "text": [
          "76902",
          "83944"
         ],
         "type": "scatter",
         "uid": "66c84d65-4792-4a51-b169-73b6cc4d380a",
         "x": [
          375.4,
          515.6
         ],
         "y": [
          262.9168818890107,
          359.1660073517537
         ]
        },
        {
         "hoverinfo": "name+text",
         "legendgroup": "missing",
         "line": {
          "color": "blue",
          "width": 1
         },
         "name": "missing",
         "opacity": 1,
         "showlegend": false,
         "text": [
          "79138",
          "85537"
         ],
         "type": "scatter",
         "uid": "d2d8381a-75e9-467e-bd2a-1c0b172e68b1",
         "x": [
          -689.8,
          -955.8
         ],
         "y": [
          358.26621846092326,
          496.7990769969284
         ]
        },
        {
         "hoverinfo": "name+text",
         "legendgroup": "missing",
         "line": {
          "color": "blue",
          "width": 1
         },
         "name": "missing",
         "opacity": 1,
         "showlegend": false,
         "text": [
          "79880",
          "86402"
         ],
         "type": "scatter",
         "uid": "9890e249-5a5f-4b65-9672-7f407081e117",
         "x": [
          -398.2,
          -538.4
         ],
         "y": [
          365.71411330334246,
          497.4495544242049
         ]
        },
        {
         "hoverinfo": "name+text",
         "legendgroup": "missing",
         "line": {
          "color": "blue",
          "width": 1
         },
         "name": "missing",
         "opacity": 1,
         "showlegend": false,
         "text": [
          "80933",
          "87292"
         ],
         "type": "scatter",
         "uid": "59b9f387-944b-4455-96a7-d7ded2934cc2",
         "x": [
          -209.6,
          -285.6
         ],
         "y": [
          363.8873098444215,
          500.04019567330784
         ]
        },
        {
         "hoverinfo": "name+text",
         "legendgroup": "missing",
         "line": {
          "color": "blue",
          "width": 1
         },
         "name": "missing",
         "opacity": 1,
         "showlegend": false,
         "text": [
          "83944",
          "90803"
         ],
         "type": "scatter",
         "uid": "6746e0c4-8efb-4313-89d5-3fee28f2520f",
         "x": [
          515.6,
          722.2
         ],
         "y": [
          359.1660073517537,
          501.1282595952857
         ]
        },
        {
         "hoverinfo": "name+text",
         "legendgroup": "missing",
         "line": {
          "color": "blue",
          "width": 1
         },
         "name": "missing",
         "opacity": 1,
         "showlegend": false,
         "text": [
          "86195",
          "91955"
         ],
         "type": "scatter",
         "uid": "5267d174-dbc6-4d2d-9d65-994b3def1e9b",
         "x": [
          -657.6,
          -865.4
         ],
         "y": [
          505.25758938962014,
          665.3054220029776
         ]
        },
        {
         "hoverinfo": "name+text",
         "legendgroup": "missing",
         "line": {
          "color": "blue",
          "width": 1
         },
         "name": "missing",
         "opacity": 1,
         "showlegend": false,
         "text": [
          "86402",
          "92130"
         ],
         "type": "scatter",
         "uid": "9e03e26f-ae8a-4e69-9399-0e1cc52f0393",
         "x": [
          -538.4,
          -707.2
         ],
         "y": [
          497.4495544242049,
          656.5191725472228
         ]
        },
        {
         "hoverinfo": "name+text",
         "legendgroup": "missing",
         "line": {
          "color": "blue",
          "width": 1
         },
         "name": "missing",
         "opacity": 1,
         "showlegend": false,
         "text": [
          "87292",
          "93165"
         ],
         "type": "scatter",
         "uid": "d5653b2b-084d-4094-81f2-e4053f304b18",
         "x": [
          -285.6,
          -375.4
         ],
         "y": [
          500.04019567330784,
          660.5030028046807
         ]
        },
        {
         "hoverinfo": "name+text",
         "legendgroup": "missing",
         "line": {
          "color": "blue",
          "width": 1
         },
         "name": "missing",
         "opacity": 1,
         "showlegend": false,
         "text": [
          "90803",
          "96934"
         ],
         "type": "scatter",
         "uid": "5376a414-3913-4cd4-a3d4-84969477a2c7",
         "x": [
          722.2,
          956
         ],
         "y": [
          501.1282595952857,
          660.1841830580312
         ]
        },
        {
         "hoverinfo": "name+text",
         "legendgroup": "missing",
         "line": {
          "color": "blue",
          "width": 1
         },
         "name": "missing",
         "opacity": 1,
         "showlegend": false,
         "text": [
          "91955",
          "107743"
         ],
         "type": "scatter",
         "uid": "52d43264-9895-4b4d-911e-87f6a16feb32",
         "x": [
          -865.4,
          -1067.8
         ],
         "y": [
          665.3054220029776,
          824.2035973873507
         ]
        },
        {
         "hoverinfo": "name+text",
         "legendgroup": "missing",
         "line": {
          "color": "blue",
          "width": 1
         },
         "name": "missing",
         "opacity": 1,
         "showlegend": false,
         "text": [
          "92130",
          "107883"
         ],
         "type": "scatter",
         "uid": "f6a6b817-f1c4-401c-bd09-f4473879c9cb",
         "x": [
          -707.2,
          -878.4
         ],
         "y": [
          656.5191725472228,
          819.5081131930848
         ]
        },
        {
         "hoverinfo": "name+text",
         "legendgroup": "missing",
         "line": {
          "color": "blue",
          "width": 1
         },
         "name": "missing",
         "opacity": 1,
         "showlegend": false,
         "text": [
          "93165",
          "109022"
         ],
         "type": "scatter",
         "uid": "b0b7bb74-7b03-4668-abac-d7f0d160e246",
         "x": [
          -375.4,
          -466.4
         ],
         "y": [
          660.5030028046807,
          822.2639974959379
         ]
        },
        {
         "hoverinfo": "name+text",
         "legendgroup": "missing",
         "line": {
          "color": "blue",
          "width": 1
         },
         "name": "missing",
         "opacity": 1,
         "showlegend": false,
         "text": [
          "109022",
          "114036"
         ],
         "type": "scatter",
         "uid": "9ec0f59b-090a-4c38-9204-0502ddeb6cc6",
         "x": [
          -466.4,
          -580.2
         ],
         "y": [
          822.2639974959379,
          1022.6908959079474
         ]
        }
       ],
       "layout": {
        "height": 800,
        "hovermode": "closest",
        "showlegend": true,
        "updatemenus": [
         {
          "buttons": [
           {
            "args": [
             "shapes",
             []
            ],
            "label": "hide layers",
            "method": "relayout"
           },
           {
            "args": [
             "shapes",
             [
              {
               "layer": "below",
               "line": {
                "color": "#ccc"
               },
               "opacity": 0.5,
               "type": "line",
               "x0": -455,
               "x1": 455,
               "y0": 32,
               "y1": 32
              },
              {
               "layer": "below",
               "line": {
                "color": "#ccc"
               },
               "opacity": 0.5,
               "type": "line",
               "x0": -455,
               "x1": 455,
               "y0": 72,
               "y1": 72
              },
              {
               "layer": "below",
               "line": {
                "color": "#ccc"
               },
               "opacity": 0.5,
               "type": "line",
               "x0": -455,
               "x1": 455,
               "y0": 116,
               "y1": 116
              },
              {
               "layer": "below",
               "line": {
                "color": "#ccc"
               },
               "opacity": 0.5,
               "type": "line",
               "x0": -455,
               "x1": 455,
               "y0": 172,
               "y1": 172
              },
              {
               "layer": "below",
               "line": {
                "color": "#cccc8d"
               },
               "opacity": 0.5,
               "type": "line",
               "x0": -1030,
               "x1": 1030,
               "y0": 260,
               "y1": 260
              },
              {
               "layer": "below",
               "line": {
                "color": "#cccc8d"
               },
               "opacity": 0.5,
               "type": "line",
               "x0": -1030,
               "x1": 1030,
               "y0": 360,
               "y1": 360
              },
              {
               "layer": "below",
               "line": {
                "color": "#cccc8d"
               },
               "opacity": 0.5,
               "type": "line",
               "x0": -1030,
               "x1": 1030,
               "y0": 500,
               "y1": 500
              },
              {
               "layer": "below",
               "line": {
                "color": "#cccc8d"
               },
               "opacity": 0.5,
               "type": "line",
               "x0": -1030,
               "x1": 1030,
               "y0": 660,
               "y1": 660
              },
              {
               "layer": "below",
               "line": {
                "color": "#ccc"
               },
               "opacity": 0.5,
               "type": "line",
               "x0": -1030,
               "x1": 1030,
               "y0": 820,
               "y1": 820
              },
              {
               "layer": "below",
               "line": {
                "color": "#ccc"
               },
               "opacity": 0.5,
               "type": "line",
               "x0": -1030,
               "x1": 1030,
               "y0": 1020,
               "y1": 1020
              }
             ]
            ],
            "label": "show layers",
            "method": "relayout"
           }
          ],
          "direction": "left",
          "pad": {
           "l": 0.1
          },
          "type": "buttons",
          "xanchor": "left",
          "y": 1.1,
          "yanchor": "top"
         },
         {
          "buttons": [
           {
            "args": [
             {
              "mode": "markers+lines"
             }
            ],
            "label": "hits+tracks",
            "method": "update"
           },
           {
            "args": [
             {
              "mode": "markers"
             }
            ],
            "label": "hits only",
            "method": "update"
           }
          ],
          "direction": "left",
          "pad": {
           "l": 200
          },
          "type": "buttons",
          "xanchor": "left",
          "y": 1.1,
          "yanchor": "top"
         },
         {
          "buttons": [
           {
            "args": [
             "yaxis.scaleanchor",
             null
            ],
            "label": "free",
            "method": "relayout"
           },
           {
            "args": [
             "yaxis.scaleanchor",
             "x"
            ],
            "label": "fixed",
            "method": "relayout"
           }
          ],
          "direction": "left",
          "pad": {
           "l": 380
          },
          "type": "buttons",
          "xanchor": "left",
          "y": 1.1,
          "yanchor": "top"
         }
        ],
        "width": 800,
        "xaxis": {
         "title": "z"
        },
        "yaxis": {
         "title": "r"
        }
       }
      },
      "text/html": [
       "<div id=\"049d40ab-3845-4ecf-8a5f-9d6eb9e7749c\" style=\"height: 800px; width: 800px;\" class=\"plotly-graph-div\"></div><script type=\"text/javascript\">require([\"plotly\"], function(Plotly) { window.PLOTLYENV=window.PLOTLYENV || {};window.PLOTLYENV.BASE_URL=\"https://plot.ly\";Plotly.newPlot(\"049d40ab-3845-4ecf-8a5f-9d6eb9e7749c\", [{\"hoverinfo\": \"name+text\", \"legendgroup\": \"fake\", \"line\": {\"color\": \"red\", \"width\": 1}, \"name\": \"fake\", \"opacity\": 1, \"showlegend\": true, \"text\": [\"20262\", \"34877\"], \"x\": [-43.7904, -151.393], \"y\": [32.562200789221855, 115.4017704365492], \"type\": \"scatter\", \"uid\": \"3d7a48a7-6476-4819-a764-62122d3740f9\"}, {\"hoverinfo\": \"name+text\", \"legendgroup\": \"fake\", \"line\": {\"color\": \"red\", \"width\": 1}, \"name\": \"fake\", \"opacity\": 1, \"showlegend\": false, \"text\": [\"41146\", \"79641\"], \"x\": [-224.485, -470.6], \"y\": [171.697933181183, 361.27022166795035], \"type\": \"scatter\", \"uid\": \"561c1926-20e6-4c52-bf1b-a1d2f4973625\"}, {\"hoverinfo\": \"name+text\", \"legendgroup\": \"real_unfocused\", \"line\": {\"color\": \"darkseagreen\", \"width\": 1}, \"name\": \"real_unfocused\", \"opacity\": 1, \"showlegend\": true, \"text\": [\"82090\", \"88632\"], \"x\": [104.8, 145.6], \"y\": [359.2111247589779, 497.29964951401286], \"type\": \"scatter\", \"uid\": \"b3b6e316-8272-4510-a252-92d4fc3beb3d\"}, {\"hoverinfo\": \"name+text\", \"legendgroup\": \"real_unfocused\", \"line\": {\"color\": \"darkseagreen\", \"width\": 1}, \"name\": \"real_unfocused\", \"opacity\": 1, \"showlegend\": false, \"text\": [\"88632\", \"94896\"], \"x\": [145.6, 194.6], \"y\": [497.29964951401286, 663.8058980771413], \"type\": \"scatter\", \"uid\": \"73c84e4d-57ce-419a-8b9b-2787d012fd10\"}, {\"hoverinfo\": \"name+text\", \"legendgroup\": \"real_unfocused\", \"line\": {\"color\": \"darkseagreen\", \"width\": 1}, \"name\": \"real_unfocused\", \"opacity\": 1, \"showlegend\": false, \"text\": [\"94896\", \"110783\"], \"x\": [194.6, 243.8], \"y\": [663.8058980771413, 822.6882381005577], \"type\": \"scatter\", \"uid\": \"8aeb0313-7b61-428f-b24e-2f61633c9d50\"}, {\"hoverinfo\": \"name+text\", \"legendgroup\": \"real_unfocused\", \"line\": {\"color\": \"darkseagreen\", \"width\": 1}, \"name\": \"real_unfocused\", \"opacity\": 1, \"showlegend\": false, \"text\": [\"110783\", \"116120\"], \"x\": [243.8, 303.6], \"y\": [822.6882381005577, 1019.1596444914801], \"type\": \"scatter\", \"uid\": \"442595eb-d771-40c9-ad5e-331ffbfb31f9\"}, {\"hoverinfo\": \"name+text\", \"legendgroup\": \"real_unfocused\", \"line\": {\"color\": \"darkseagreen\", \"width\": 1}, \"name\": \"real_unfocused\", \"opacity\": 1, \"showlegend\": false, \"text\": [\"37198\", \"44045\"], \"x\": [59.2064, 83.8711], \"y\": [115.0064055732984, 171.8463372779298], \"type\": \"scatter\", \"uid\": \"2fcfe321-cb07-444f-a18d-392d98c17c41\"}, {\"hoverinfo\": \"name+text\", \"legendgroup\": \"real_unfocused\", \"line\": {\"color\": \"darkseagreen\", \"width\": 1}, \"name\": \"real_unfocused\", \"opacity\": 1, \"showlegend\": false, \"text\": [\"44045\", \"75480\"], \"x\": [83.8711, 121.6], \"y\": [171.8463372779298, 258.1311722458177], \"type\": \"scatter\", \"uid\": \"527a298b-98e3-4302-859f-96aeb5d731a3\"}, {\"hoverinfo\": \"name+text\", \"legendgroup\": \"real_unfocused\", \"line\": {\"color\": \"darkseagreen\", \"width\": 1}, \"name\": \"real_unfocused\", \"opacity\": 1, \"showlegend\": false, \"text\": [\"75480\", \"82723\"], \"x\": [121.6, 165.8], \"y\": [258.1311722458177, 360.3464031056922], \"type\": \"scatter\", \"uid\": \"9c0bec10-19fd-4d90-b0da-7c9c2beadb42\"}, {\"hoverinfo\": \"name+text\", \"legendgroup\": \"real_unfocused\", \"line\": {\"color\": \"darkseagreen\", \"width\": 1}, \"name\": \"real_unfocused\", \"opacity\": 1, \"showlegend\": false, \"text\": [\"82723\", \"95378\"], \"x\": [165.8, 297.6], \"y\": [360.3464031056922, 657.3260516007944], \"type\": \"scatter\", \"uid\": \"1d06602b-b8dc-4e35-b713-08a88de2f517\"}, {\"hoverinfo\": \"name+text\", \"legendgroup\": \"real_unfocused\", \"line\": {\"color\": \"darkseagreen\", \"width\": 1}, \"name\": \"real_unfocused\", \"opacity\": 1, \"showlegend\": false, \"text\": [\"95378\", \"111471\"], \"x\": [297.6, 374.2], \"y\": [657.3260516007944, 821.0970172640989], \"type\": \"scatter\", \"uid\": \"ae8cef3b-efb5-4125-98a2-f45470704b3f\"}, {\"hoverinfo\": \"name+text\", \"legendgroup\": \"real\", \"line\": {\"color\": \"green\", \"width\": 1}, \"name\": \"real\", \"opacity\": 1, \"showlegend\": true, \"text\": [\"21265\", \"29504\"], \"x\": [-24.6702, -46.6699], \"y\": [32.23509056485029, 71.61236113102264], \"type\": \"scatter\", \"uid\": \"5e805535-464a-41f0-b00f-4d3eae69568f\"}, {\"hoverinfo\": \"name+text\", \"legendgroup\": \"real\", \"line\": {\"color\": \"green\", \"width\": 1}, \"name\": \"real\", \"opacity\": 1, \"showlegend\": false, \"text\": [\"29504\", \"42350\"], \"x\": [-46.6699, -102.632], \"y\": [71.61236113102264, 172.0437815826251], \"type\": \"scatter\", \"uid\": \"1b709daa-fb9b-4879-b53b-1857f6aee9db\"}, {\"hoverinfo\": \"name+text\", \"legendgroup\": \"real\", \"line\": {\"color\": \"green\", \"width\": 1}, \"name\": \"real\", \"opacity\": 1, \"showlegend\": false, \"text\": [\"42350\", \"73830\"], \"x\": [-102.632, -152.6], \"y\": [172.0437815826251, 261.85823478523645], \"type\": \"scatter\", \"uid\": \"5ce618f0-a648-43ee-8f23-491b9b3c6ab1\"}, {\"hoverinfo\": \"name+text\", \"legendgroup\": \"real\", \"line\": {\"color\": \"green\", \"width\": 1}, \"name\": \"real\", \"opacity\": 1, \"showlegend\": false, \"text\": [\"73830\", \"80933\"], \"x\": [-152.6, -209.6], \"y\": [261.85823478523645, 363.8873098444215], \"type\": \"scatter\", \"uid\": \"b56cae87-e3fd-486d-9f87-6188a92ee280\"}, {\"hoverinfo\": \"name+text\", \"legendgroup\": \"real\", \"line\": {\"color\": \"green\", \"width\": 1}, \"name\": \"real\", \"opacity\": 1, \"showlegend\": false, \"text\": [\"23536\", \"31418\"], \"x\": [41.7502, 99.58], \"y\": [32.49714414606305, 72.54064560265508], \"type\": \"scatter\", \"uid\": \"a408f95e-ce12-40b1-89e1-bd6f02ead45c\"}, {\"hoverinfo\": \"name+text\", \"legendgroup\": \"real\", \"line\": {\"color\": \"green\", \"width\": 1}, \"name\": \"real\", \"opacity\": 1, \"showlegend\": false, \"text\": [\"31418\", \"38524\"], \"x\": [99.58, 162.741], \"y\": [72.54064560265508, 116.24458425703108], \"type\": \"scatter\", \"uid\": \"f5b9d56d-9b30-4b37-90f6-074c5a36107d\"}, {\"hoverinfo\": \"name+text\", \"legendgroup\": \"real\", \"line\": {\"color\": \"green\", \"width\": 1}, \"name\": \"real\", \"opacity\": 1, \"showlegend\": false, \"text\": [\"38524\", \"45067\"], \"x\": [162.741, 243.228], \"y\": [116.24458425703108, 171.77085511020198], \"type\": \"scatter\", \"uid\": \"a915e53b-4165-4e85-a7d3-2d00d6ba776a\"}, {\"hoverinfo\": \"name+text\", \"legendgroup\": \"real\", \"line\": {\"color\": \"green\", \"width\": 1}, \"name\": \"real\", \"opacity\": 1, \"showlegend\": false, \"text\": [\"45067\", \"76902\"], \"x\": [243.228, 375.4], \"y\": [171.77085511020198, 262.9168818890107], \"type\": \"scatter\", \"uid\": \"61577169-70b8-44ac-8a1f-02d849935536\"}, {\"hoverinfo\": \"name+text\", \"legendgroup\": \"real\", \"line\": {\"color\": \"green\", \"width\": 1}, \"name\": \"real\", \"opacity\": 1, \"showlegend\": false, \"text\": [\"34877\", \"41146\"], \"x\": [-151.393, -224.485], \"y\": [115.4017704365492, 171.697933181183], \"type\": \"scatter\", \"uid\": \"a081f26c-1d5c-4492-854d-9d2fd1c0176e\"}, {\"hoverinfo\": \"name+text\", \"legendgroup\": \"real\", \"line\": {\"color\": \"green\", \"width\": 1}, \"name\": \"real\", \"opacity\": 1, \"showlegend\": false, \"text\": [\"79641\", \"86195\"], \"x\": [-470.6, -657.6], \"y\": [361.27022166795035, 505.25758938962014], \"type\": \"scatter\", \"uid\": \"3259abcf-63b7-4ac0-a0b2-e41eb7407c02\"}, {\"hoverinfo\": \"name+text\", \"legendgroup\": \"missing\", \"line\": {\"color\": \"blue\", \"width\": 1}, \"name\": \"missing\", \"opacity\": 1, \"showlegend\": true, \"text\": [\"19698\", \"27827\"], \"x\": [-43.6337, -86.1783], \"y\": [32.02264014494901, 72.07849176870727], \"type\": \"scatter\", \"uid\": \"e9b4ca80-6845-44bf-b6e3-b6a4899d96a3\"}, {\"hoverinfo\": \"name+text\", \"legendgroup\": \"missing\", \"line\": {\"color\": \"blue\", \"width\": 1}, \"name\": \"missing\", \"opacity\": 1, \"showlegend\": false, \"text\": [\"20262\", \"28058\"], \"x\": [-43.7904, -94.3151], \"y\": [32.562200789221855, 71.42720770825427], \"type\": \"scatter\", \"uid\": \"57aa842e-c830-40bd-b370-2e15f3eb2951\"}, {\"hoverinfo\": \"name+text\", \"legendgroup\": \"missing\", \"line\": {\"color\": \"blue\", \"width\": 1}, \"name\": \"missing\", \"opacity\": 1, \"showlegend\": false, \"text\": [\"20764\", \"27487\"], \"x\": [-67.8321, -145.30700000000004], \"y\": [32.157173777557006, 72.80676931336811], \"type\": \"scatter\", \"uid\": \"c72e7987-320c-49ee-8648-163e0257723b\"}, {\"hoverinfo\": \"name+text\", \"legendgroup\": \"missing\", \"line\": {\"color\": \"blue\", \"width\": 1}, \"name\": \"missing\", \"opacity\": 1, \"showlegend\": false, \"text\": [\"27487\", \"34491\"], \"x\": [-145.30700000000004, -225.866], \"y\": [72.80676931336811, 115.05245255343321], \"type\": \"scatter\", \"uid\": \"3a4b7f16-13f8-42c1-abe9-0f76b49a2e6a\"}, {\"hoverinfo\": \"name+text\", \"legendgroup\": \"missing\", \"line\": {\"color\": \"blue\", \"width\": 1}, \"name\": \"missing\", \"opacity\": 1, \"showlegend\": false, \"text\": [\"27827\", \"35259\"], \"x\": [-86.1783, -131.795], \"y\": [72.07849176870727, 115.01274730202735], \"type\": \"scatter\", \"uid\": \"9684d95b-d759-4d98-884b-caf7a4e81431\"}, {\"hoverinfo\": \"name+text\", \"legendgroup\": \"missing\", \"line\": {\"color\": \"blue\", \"width\": 1}, \"name\": \"missing\", \"opacity\": 1, \"showlegend\": false, \"text\": [\"28058\", \"34877\"], \"x\": [-94.3151, -151.393], \"y\": [71.42720770825427, 115.4017704365492], \"type\": \"scatter\", \"uid\": \"fe3c4d92-e3fa-4cba-927d-c738b4cead0e\"}, {\"hoverinfo\": \"name+text\", \"legendgroup\": \"missing\", \"line\": {\"color\": \"blue\", \"width\": 1}, \"name\": \"missing\", \"opacity\": 1, \"showlegend\": false, \"text\": [\"34491\", \"40865\"], \"x\": [-225.866, -336.397], \"y\": [115.05245255343321, 173.0423765237868], \"type\": \"scatter\", \"uid\": \"adc17242-948b-4c40-baa7-c2f72542e3fc\"}, {\"hoverinfo\": \"name+text\", \"legendgroup\": \"missing\", \"line\": {\"color\": \"blue\", \"width\": 1}, \"name\": \"missing\", \"opacity\": 1, \"showlegend\": false, \"text\": [\"35259\", \"41464\"], \"x\": [-131.795, -191.758], \"y\": [115.01274730202735, 171.40195078204334], \"type\": \"scatter\", \"uid\": \"db596201-24b1-4aba-a2ab-7b924678ab65\"}, {\"hoverinfo\": \"name+text\", \"legendgroup\": \"missing\", \"line\": {\"color\": \"blue\", \"width\": 1}, \"name\": \"missing\", \"opacity\": 1, \"showlegend\": false, \"text\": [\"40865\", \"72549\"], \"x\": [-336.397, -499.4], \"y\": [173.0423765237868, 258.1986281140936], \"type\": \"scatter\", \"uid\": \"e90cb09e-cd6a-4b8e-aea2-b4deaf1ae099\"}, {\"hoverinfo\": \"name+text\", \"legendgroup\": \"missing\", \"line\": {\"color\": \"blue\", \"width\": 1}, \"name\": \"missing\", \"opacity\": 1, \"showlegend\": false, \"text\": [\"41146\", \"73201\"], \"x\": [-224.485, -339.0], \"y\": [171.697933181183, 259.9772582081748], \"type\": \"scatter\", \"uid\": \"affde36a-703e-4835-815d-e3b9c0d973db\"}, {\"hoverinfo\": \"name+text\", \"legendgroup\": \"missing\", \"line\": {\"color\": \"blue\", \"width\": 1}, \"name\": \"missing\", \"opacity\": 1, \"showlegend\": false, \"text\": [\"41464\", \"73085\"], \"x\": [-191.758, -283.2], \"y\": [171.40195078204334, 257.30068278183796], \"type\": \"scatter\", \"uid\": \"b1d7c049-aef7-4207-aee1-730f75778954\"}, {\"hoverinfo\": \"name+text\", \"legendgroup\": \"missing\", \"line\": {\"color\": \"blue\", \"width\": 1}, \"name\": \"missing\", \"opacity\": 1, \"showlegend\": false, \"text\": [\"72549\", \"79138\"], \"x\": [-499.4, -689.8], \"y\": [258.1986281140936, 358.26621846092326], \"type\": \"scatter\", \"uid\": \"590b2dff-0bcf-4937-8fc0-63d79e5deae3\"}, {\"hoverinfo\": \"name+text\", \"legendgroup\": \"missing\", \"line\": {\"color\": \"blue\", \"width\": 1}, \"name\": \"missing\", \"opacity\": 1, \"showlegend\": false, \"text\": [\"73085\", \"79880\"], \"x\": [-283.2, -398.2], \"y\": [257.30068278183796, 365.71411330334246], \"type\": \"scatter\", \"uid\": \"405d5aab-499c-465b-adc2-3b31f12ccb34\"}, {\"hoverinfo\": \"name+text\", \"legendgroup\": \"missing\", \"line\": {\"color\": \"blue\", \"width\": 1}, \"name\": \"missing\", \"opacity\": 1, \"showlegend\": false, \"text\": [\"73201\", \"79641\"], \"x\": [-339.0, -470.6], \"y\": [259.9772582081748, 361.27022166795035], \"type\": \"scatter\", \"uid\": \"fba9daaf-342c-4673-92f9-ab1e0d36153b\"}, {\"hoverinfo\": \"name+text\", \"legendgroup\": \"missing\", \"line\": {\"color\": \"blue\", \"width\": 1}, \"name\": \"missing\", \"opacity\": 1, \"showlegend\": false, \"text\": [\"76902\", \"83944\"], \"x\": [375.4, 515.6], \"y\": [262.9168818890107, 359.1660073517537], \"type\": \"scatter\", \"uid\": \"66c84d65-4792-4a51-b169-73b6cc4d380a\"}, {\"hoverinfo\": \"name+text\", \"legendgroup\": \"missing\", \"line\": {\"color\": \"blue\", \"width\": 1}, \"name\": \"missing\", \"opacity\": 1, \"showlegend\": false, \"text\": [\"79138\", \"85537\"], \"x\": [-689.8, -955.8], \"y\": [358.26621846092326, 496.7990769969284], \"type\": \"scatter\", \"uid\": \"d2d8381a-75e9-467e-bd2a-1c0b172e68b1\"}, {\"hoverinfo\": \"name+text\", \"legendgroup\": \"missing\", \"line\": {\"color\": \"blue\", \"width\": 1}, \"name\": \"missing\", \"opacity\": 1, \"showlegend\": false, \"text\": [\"79880\", \"86402\"], \"x\": [-398.2, -538.4], \"y\": [365.71411330334246, 497.4495544242049], \"type\": \"scatter\", \"uid\": \"9890e249-5a5f-4b65-9672-7f407081e117\"}, {\"hoverinfo\": \"name+text\", \"legendgroup\": \"missing\", \"line\": {\"color\": \"blue\", \"width\": 1}, \"name\": \"missing\", \"opacity\": 1, \"showlegend\": false, \"text\": [\"80933\", \"87292\"], \"x\": [-209.6, -285.6], \"y\": [363.8873098444215, 500.04019567330784], \"type\": \"scatter\", \"uid\": \"59b9f387-944b-4455-96a7-d7ded2934cc2\"}, {\"hoverinfo\": \"name+text\", \"legendgroup\": \"missing\", \"line\": {\"color\": \"blue\", \"width\": 1}, \"name\": \"missing\", \"opacity\": 1, \"showlegend\": false, \"text\": [\"83944\", \"90803\"], \"x\": [515.6, 722.2], \"y\": [359.1660073517537, 501.1282595952857], \"type\": \"scatter\", \"uid\": \"6746e0c4-8efb-4313-89d5-3fee28f2520f\"}, {\"hoverinfo\": \"name+text\", \"legendgroup\": \"missing\", \"line\": {\"color\": \"blue\", \"width\": 1}, \"name\": \"missing\", \"opacity\": 1, \"showlegend\": false, \"text\": [\"86195\", \"91955\"], \"x\": [-657.6, -865.4], \"y\": [505.25758938962014, 665.3054220029776], \"type\": \"scatter\", \"uid\": \"5267d174-dbc6-4d2d-9d65-994b3def1e9b\"}, {\"hoverinfo\": \"name+text\", \"legendgroup\": \"missing\", \"line\": {\"color\": \"blue\", \"width\": 1}, \"name\": \"missing\", \"opacity\": 1, \"showlegend\": false, \"text\": [\"86402\", \"92130\"], \"x\": [-538.4, -707.2], \"y\": [497.4495544242049, 656.5191725472228], \"type\": \"scatter\", \"uid\": \"9e03e26f-ae8a-4e69-9399-0e1cc52f0393\"}, {\"hoverinfo\": \"name+text\", \"legendgroup\": \"missing\", \"line\": {\"color\": \"blue\", \"width\": 1}, \"name\": \"missing\", \"opacity\": 1, \"showlegend\": false, \"text\": [\"87292\", \"93165\"], \"x\": [-285.6, -375.4], \"y\": [500.04019567330784, 660.5030028046807], \"type\": \"scatter\", \"uid\": \"d5653b2b-084d-4094-81f2-e4053f304b18\"}, {\"hoverinfo\": \"name+text\", \"legendgroup\": \"missing\", \"line\": {\"color\": \"blue\", \"width\": 1}, \"name\": \"missing\", \"opacity\": 1, \"showlegend\": false, \"text\": [\"90803\", \"96934\"], \"x\": [722.2, 956.0], \"y\": [501.1282595952857, 660.1841830580312], \"type\": \"scatter\", \"uid\": \"5376a414-3913-4cd4-a3d4-84969477a2c7\"}, {\"hoverinfo\": \"name+text\", \"legendgroup\": \"missing\", \"line\": {\"color\": \"blue\", \"width\": 1}, \"name\": \"missing\", \"opacity\": 1, \"showlegend\": false, \"text\": [\"91955\", \"107743\"], \"x\": [-865.4, -1067.8], \"y\": [665.3054220029776, 824.2035973873507], \"type\": \"scatter\", \"uid\": \"52d43264-9895-4b4d-911e-87f6a16feb32\"}, {\"hoverinfo\": \"name+text\", \"legendgroup\": \"missing\", \"line\": {\"color\": \"blue\", \"width\": 1}, \"name\": \"missing\", \"opacity\": 1, \"showlegend\": false, \"text\": [\"92130\", \"107883\"], \"x\": [-707.2, -878.4], \"y\": [656.5191725472228, 819.5081131930848], \"type\": \"scatter\", \"uid\": \"f6a6b817-f1c4-401c-bd09-f4473879c9cb\"}, {\"hoverinfo\": \"name+text\", \"legendgroup\": \"missing\", \"line\": {\"color\": \"blue\", \"width\": 1}, \"name\": \"missing\", \"opacity\": 1, \"showlegend\": false, \"text\": [\"93165\", \"109022\"], \"x\": [-375.4, -466.4], \"y\": [660.5030028046807, 822.2639974959379], \"type\": \"scatter\", \"uid\": \"b0b7bb74-7b03-4668-abac-d7f0d160e246\"}, {\"hoverinfo\": \"name+text\", \"legendgroup\": \"missing\", \"line\": {\"color\": \"blue\", \"width\": 1}, \"name\": \"missing\", \"opacity\": 1, \"showlegend\": false, \"text\": [\"109022\", \"114036\"], \"x\": [-466.4, -580.2], \"y\": [822.2639974959379, 1022.6908959079474], \"type\": \"scatter\", \"uid\": \"9ec0f59b-090a-4c38-9204-0502ddeb6cc6\"}], {\"height\": 800, \"hovermode\": \"closest\", \"showlegend\": true, \"updatemenus\": [{\"buttons\": [{\"args\": [\"shapes\", []], \"label\": \"hide layers\", \"method\": \"relayout\"}, {\"args\": [\"shapes\", [{\"type\": \"line\", \"x0\": -455, \"x1\": 455, \"y0\": 32, \"y1\": 32, \"opacity\": 0.5, \"layer\": \"below\", \"line\": {\"color\": \"#ccc\"}}, {\"type\": \"line\", \"x0\": -455, \"x1\": 455, \"y0\": 72, \"y1\": 72, \"opacity\": 0.5, \"layer\": \"below\", \"line\": {\"color\": \"#ccc\"}}, {\"type\": \"line\", \"x0\": -455, \"x1\": 455, \"y0\": 116, \"y1\": 116, \"opacity\": 0.5, \"layer\": \"below\", \"line\": {\"color\": \"#ccc\"}}, {\"type\": \"line\", \"x0\": -455, \"x1\": 455, \"y0\": 172, \"y1\": 172, \"opacity\": 0.5, \"layer\": \"below\", \"line\": {\"color\": \"#ccc\"}}, {\"type\": \"line\", \"x0\": -1030, \"x1\": 1030, \"y0\": 260, \"y1\": 260, \"opacity\": 0.5, \"layer\": \"below\", \"line\": {\"color\": \"#cccc8d\"}}, {\"type\": \"line\", \"x0\": -1030, \"x1\": 1030, \"y0\": 360, \"y1\": 360, \"opacity\": 0.5, \"layer\": \"below\", \"line\": {\"color\": \"#cccc8d\"}}, {\"type\": \"line\", \"x0\": -1030, \"x1\": 1030, \"y0\": 500, \"y1\": 500, \"opacity\": 0.5, \"layer\": \"below\", \"line\": {\"color\": \"#cccc8d\"}}, {\"type\": \"line\", \"x0\": -1030, \"x1\": 1030, \"y0\": 660, \"y1\": 660, \"opacity\": 0.5, \"layer\": \"below\", \"line\": {\"color\": \"#cccc8d\"}}, {\"type\": \"line\", \"x0\": -1030, \"x1\": 1030, \"y0\": 820, \"y1\": 820, \"opacity\": 0.5, \"layer\": \"below\", \"line\": {\"color\": \"#ccc\"}}, {\"type\": \"line\", \"x0\": -1030, \"x1\": 1030, \"y0\": 1020, \"y1\": 1020, \"opacity\": 0.5, \"layer\": \"below\", \"line\": {\"color\": \"#ccc\"}}]], \"label\": \"show layers\", \"method\": \"relayout\"}], \"direction\": \"left\", \"pad\": {\"l\": 0.1}, \"type\": \"buttons\", \"xanchor\": \"left\", \"y\": 1.1, \"yanchor\": \"top\"}, {\"buttons\": [{\"args\": [{\"mode\": \"markers+lines\"}], \"label\": \"hits+tracks\", \"method\": \"update\"}, {\"args\": [{\"mode\": \"markers\"}], \"label\": \"hits only\", \"method\": \"update\"}], \"direction\": \"left\", \"pad\": {\"l\": 200}, \"type\": \"buttons\", \"xanchor\": \"left\", \"y\": 1.1, \"yanchor\": \"top\"}, {\"buttons\": [{\"args\": [\"yaxis.scaleanchor\", null], \"label\": \"free\", \"method\": \"relayout\"}, {\"args\": [\"yaxis.scaleanchor\", \"x\"], \"label\": \"fixed\", \"method\": \"relayout\"}], \"direction\": \"left\", \"pad\": {\"l\": 380}, \"type\": \"buttons\", \"xanchor\": \"left\", \"y\": 1.1, \"yanchor\": \"top\"}], \"width\": 800, \"xaxis\": {\"title\": \"z\"}, \"yaxis\": {\"title\": \"r\"}}, {\"showLink\": true, \"linkText\": \"Export to plot.ly\", \"plotlyServerURL\": \"https://plot.ly\"})});</script>"
      ],
      "text/vnd.plotly.v1+html": [
       "<div id=\"049d40ab-3845-4ecf-8a5f-9d6eb9e7749c\" style=\"height: 800px; width: 800px;\" class=\"plotly-graph-div\"></div><script type=\"text/javascript\">require([\"plotly\"], function(Plotly) { window.PLOTLYENV=window.PLOTLYENV || {};window.PLOTLYENV.BASE_URL=\"https://plot.ly\";Plotly.newPlot(\"049d40ab-3845-4ecf-8a5f-9d6eb9e7749c\", [{\"hoverinfo\": \"name+text\", \"legendgroup\": \"fake\", \"line\": {\"color\": \"red\", \"width\": 1}, \"name\": \"fake\", \"opacity\": 1, \"showlegend\": true, \"text\": [\"20262\", \"34877\"], \"x\": [-43.7904, -151.393], \"y\": [32.562200789221855, 115.4017704365492], \"type\": \"scatter\", \"uid\": \"3d7a48a7-6476-4819-a764-62122d3740f9\"}, {\"hoverinfo\": \"name+text\", \"legendgroup\": \"fake\", \"line\": {\"color\": \"red\", \"width\": 1}, \"name\": \"fake\", \"opacity\": 1, \"showlegend\": false, \"text\": [\"41146\", \"79641\"], \"x\": [-224.485, -470.6], \"y\": [171.697933181183, 361.27022166795035], \"type\": \"scatter\", \"uid\": \"561c1926-20e6-4c52-bf1b-a1d2f4973625\"}, {\"hoverinfo\": \"name+text\", \"legendgroup\": \"real_unfocused\", \"line\": {\"color\": \"darkseagreen\", \"width\": 1}, \"name\": \"real_unfocused\", \"opacity\": 1, \"showlegend\": true, \"text\": [\"82090\", \"88632\"], \"x\": [104.8, 145.6], \"y\": [359.2111247589779, 497.29964951401286], \"type\": \"scatter\", \"uid\": \"b3b6e316-8272-4510-a252-92d4fc3beb3d\"}, {\"hoverinfo\": \"name+text\", \"legendgroup\": \"real_unfocused\", \"line\": {\"color\": \"darkseagreen\", \"width\": 1}, \"name\": \"real_unfocused\", \"opacity\": 1, \"showlegend\": false, \"text\": [\"88632\", \"94896\"], \"x\": [145.6, 194.6], \"y\": [497.29964951401286, 663.8058980771413], \"type\": \"scatter\", \"uid\": \"73c84e4d-57ce-419a-8b9b-2787d012fd10\"}, {\"hoverinfo\": \"name+text\", \"legendgroup\": \"real_unfocused\", \"line\": {\"color\": \"darkseagreen\", \"width\": 1}, \"name\": \"real_unfocused\", \"opacity\": 1, \"showlegend\": false, \"text\": [\"94896\", \"110783\"], \"x\": [194.6, 243.8], \"y\": [663.8058980771413, 822.6882381005577], \"type\": \"scatter\", \"uid\": \"8aeb0313-7b61-428f-b24e-2f61633c9d50\"}, {\"hoverinfo\": \"name+text\", \"legendgroup\": \"real_unfocused\", \"line\": {\"color\": \"darkseagreen\", \"width\": 1}, \"name\": \"real_unfocused\", \"opacity\": 1, \"showlegend\": false, \"text\": [\"110783\", \"116120\"], \"x\": [243.8, 303.6], \"y\": [822.6882381005577, 1019.1596444914801], \"type\": \"scatter\", \"uid\": \"442595eb-d771-40c9-ad5e-331ffbfb31f9\"}, {\"hoverinfo\": \"name+text\", \"legendgroup\": \"real_unfocused\", \"line\": {\"color\": \"darkseagreen\", \"width\": 1}, \"name\": \"real_unfocused\", \"opacity\": 1, \"showlegend\": false, \"text\": [\"37198\", \"44045\"], \"x\": [59.2064, 83.8711], \"y\": [115.0064055732984, 171.8463372779298], \"type\": \"scatter\", \"uid\": \"2fcfe321-cb07-444f-a18d-392d98c17c41\"}, {\"hoverinfo\": \"name+text\", \"legendgroup\": \"real_unfocused\", \"line\": {\"color\": \"darkseagreen\", \"width\": 1}, \"name\": \"real_unfocused\", \"opacity\": 1, \"showlegend\": false, \"text\": [\"44045\", \"75480\"], \"x\": [83.8711, 121.6], \"y\": [171.8463372779298, 258.1311722458177], \"type\": \"scatter\", \"uid\": \"527a298b-98e3-4302-859f-96aeb5d731a3\"}, {\"hoverinfo\": \"name+text\", \"legendgroup\": \"real_unfocused\", \"line\": {\"color\": \"darkseagreen\", \"width\": 1}, \"name\": \"real_unfocused\", \"opacity\": 1, \"showlegend\": false, \"text\": [\"75480\", \"82723\"], \"x\": [121.6, 165.8], \"y\": [258.1311722458177, 360.3464031056922], \"type\": \"scatter\", \"uid\": \"9c0bec10-19fd-4d90-b0da-7c9c2beadb42\"}, {\"hoverinfo\": \"name+text\", \"legendgroup\": \"real_unfocused\", \"line\": {\"color\": \"darkseagreen\", \"width\": 1}, \"name\": \"real_unfocused\", \"opacity\": 1, \"showlegend\": false, \"text\": [\"82723\", \"95378\"], \"x\": [165.8, 297.6], \"y\": [360.3464031056922, 657.3260516007944], \"type\": \"scatter\", \"uid\": \"1d06602b-b8dc-4e35-b713-08a88de2f517\"}, {\"hoverinfo\": \"name+text\", \"legendgroup\": \"real_unfocused\", \"line\": {\"color\": \"darkseagreen\", \"width\": 1}, \"name\": \"real_unfocused\", \"opacity\": 1, \"showlegend\": false, \"text\": [\"95378\", \"111471\"], \"x\": [297.6, 374.2], \"y\": [657.3260516007944, 821.0970172640989], \"type\": \"scatter\", \"uid\": \"ae8cef3b-efb5-4125-98a2-f45470704b3f\"}, {\"hoverinfo\": \"name+text\", \"legendgroup\": \"real\", \"line\": {\"color\": \"green\", \"width\": 1}, \"name\": \"real\", \"opacity\": 1, \"showlegend\": true, \"text\": [\"21265\", \"29504\"], \"x\": [-24.6702, -46.6699], \"y\": [32.23509056485029, 71.61236113102264], \"type\": \"scatter\", \"uid\": \"5e805535-464a-41f0-b00f-4d3eae69568f\"}, {\"hoverinfo\": \"name+text\", \"legendgroup\": \"real\", \"line\": {\"color\": \"green\", \"width\": 1}, \"name\": \"real\", \"opacity\": 1, \"showlegend\": false, \"text\": [\"29504\", \"42350\"], \"x\": [-46.6699, -102.632], \"y\": [71.61236113102264, 172.0437815826251], \"type\": \"scatter\", \"uid\": \"1b709daa-fb9b-4879-b53b-1857f6aee9db\"}, {\"hoverinfo\": \"name+text\", \"legendgroup\": \"real\", \"line\": {\"color\": \"green\", \"width\": 1}, \"name\": \"real\", \"opacity\": 1, \"showlegend\": false, \"text\": [\"42350\", \"73830\"], \"x\": [-102.632, -152.6], \"y\": [172.0437815826251, 261.85823478523645], \"type\": \"scatter\", \"uid\": \"5ce618f0-a648-43ee-8f23-491b9b3c6ab1\"}, {\"hoverinfo\": \"name+text\", \"legendgroup\": \"real\", \"line\": {\"color\": \"green\", \"width\": 1}, \"name\": \"real\", \"opacity\": 1, \"showlegend\": false, \"text\": [\"73830\", \"80933\"], \"x\": [-152.6, -209.6], \"y\": [261.85823478523645, 363.8873098444215], \"type\": \"scatter\", \"uid\": \"b56cae87-e3fd-486d-9f87-6188a92ee280\"}, {\"hoverinfo\": \"name+text\", \"legendgroup\": \"real\", \"line\": {\"color\": \"green\", \"width\": 1}, \"name\": \"real\", \"opacity\": 1, \"showlegend\": false, \"text\": [\"23536\", \"31418\"], \"x\": [41.7502, 99.58], \"y\": [32.49714414606305, 72.54064560265508], \"type\": \"scatter\", \"uid\": \"a408f95e-ce12-40b1-89e1-bd6f02ead45c\"}, {\"hoverinfo\": \"name+text\", \"legendgroup\": \"real\", \"line\": {\"color\": \"green\", \"width\": 1}, \"name\": \"real\", \"opacity\": 1, \"showlegend\": false, \"text\": [\"31418\", \"38524\"], \"x\": [99.58, 162.741], \"y\": [72.54064560265508, 116.24458425703108], \"type\": \"scatter\", \"uid\": \"f5b9d56d-9b30-4b37-90f6-074c5a36107d\"}, {\"hoverinfo\": \"name+text\", \"legendgroup\": \"real\", \"line\": {\"color\": \"green\", \"width\": 1}, \"name\": \"real\", \"opacity\": 1, \"showlegend\": false, \"text\": [\"38524\", \"45067\"], \"x\": [162.741, 243.228], \"y\": [116.24458425703108, 171.77085511020198], \"type\": \"scatter\", \"uid\": \"a915e53b-4165-4e85-a7d3-2d00d6ba776a\"}, {\"hoverinfo\": \"name+text\", \"legendgroup\": \"real\", \"line\": {\"color\": \"green\", \"width\": 1}, \"name\": \"real\", \"opacity\": 1, \"showlegend\": false, \"text\": [\"45067\", \"76902\"], \"x\": [243.228, 375.4], \"y\": [171.77085511020198, 262.9168818890107], \"type\": \"scatter\", \"uid\": \"61577169-70b8-44ac-8a1f-02d849935536\"}, {\"hoverinfo\": \"name+text\", \"legendgroup\": \"real\", \"line\": {\"color\": \"green\", \"width\": 1}, \"name\": \"real\", \"opacity\": 1, \"showlegend\": false, \"text\": [\"34877\", \"41146\"], \"x\": [-151.393, -224.485], \"y\": [115.4017704365492, 171.697933181183], \"type\": \"scatter\", \"uid\": \"a081f26c-1d5c-4492-854d-9d2fd1c0176e\"}, {\"hoverinfo\": \"name+text\", \"legendgroup\": \"real\", \"line\": {\"color\": \"green\", \"width\": 1}, \"name\": \"real\", \"opacity\": 1, \"showlegend\": false, \"text\": [\"79641\", \"86195\"], \"x\": [-470.6, -657.6], \"y\": [361.27022166795035, 505.25758938962014], \"type\": \"scatter\", \"uid\": \"3259abcf-63b7-4ac0-a0b2-e41eb7407c02\"}, {\"hoverinfo\": \"name+text\", \"legendgroup\": \"missing\", \"line\": {\"color\": \"blue\", \"width\": 1}, \"name\": \"missing\", \"opacity\": 1, \"showlegend\": true, \"text\": [\"19698\", \"27827\"], \"x\": [-43.6337, -86.1783], \"y\": [32.02264014494901, 72.07849176870727], \"type\": \"scatter\", \"uid\": \"e9b4ca80-6845-44bf-b6e3-b6a4899d96a3\"}, {\"hoverinfo\": \"name+text\", \"legendgroup\": \"missing\", \"line\": {\"color\": \"blue\", \"width\": 1}, \"name\": \"missing\", \"opacity\": 1, \"showlegend\": false, \"text\": [\"20262\", \"28058\"], \"x\": [-43.7904, -94.3151], \"y\": [32.562200789221855, 71.42720770825427], \"type\": \"scatter\", \"uid\": \"57aa842e-c830-40bd-b370-2e15f3eb2951\"}, {\"hoverinfo\": \"name+text\", \"legendgroup\": \"missing\", \"line\": {\"color\": \"blue\", \"width\": 1}, \"name\": \"missing\", \"opacity\": 1, \"showlegend\": false, \"text\": [\"20764\", \"27487\"], \"x\": [-67.8321, -145.30700000000004], \"y\": [32.157173777557006, 72.80676931336811], \"type\": \"scatter\", \"uid\": \"c72e7987-320c-49ee-8648-163e0257723b\"}, {\"hoverinfo\": \"name+text\", \"legendgroup\": \"missing\", \"line\": {\"color\": \"blue\", \"width\": 1}, \"name\": \"missing\", \"opacity\": 1, \"showlegend\": false, \"text\": [\"27487\", \"34491\"], \"x\": [-145.30700000000004, -225.866], \"y\": [72.80676931336811, 115.05245255343321], \"type\": \"scatter\", \"uid\": \"3a4b7f16-13f8-42c1-abe9-0f76b49a2e6a\"}, {\"hoverinfo\": \"name+text\", \"legendgroup\": \"missing\", \"line\": {\"color\": \"blue\", \"width\": 1}, \"name\": \"missing\", \"opacity\": 1, \"showlegend\": false, \"text\": [\"27827\", \"35259\"], \"x\": [-86.1783, -131.795], \"y\": [72.07849176870727, 115.01274730202735], \"type\": \"scatter\", \"uid\": \"9684d95b-d759-4d98-884b-caf7a4e81431\"}, {\"hoverinfo\": \"name+text\", \"legendgroup\": \"missing\", \"line\": {\"color\": \"blue\", \"width\": 1}, \"name\": \"missing\", \"opacity\": 1, \"showlegend\": false, \"text\": [\"28058\", \"34877\"], \"x\": [-94.3151, -151.393], \"y\": [71.42720770825427, 115.4017704365492], \"type\": \"scatter\", \"uid\": \"fe3c4d92-e3fa-4cba-927d-c738b4cead0e\"}, {\"hoverinfo\": \"name+text\", \"legendgroup\": \"missing\", \"line\": {\"color\": \"blue\", \"width\": 1}, \"name\": \"missing\", \"opacity\": 1, \"showlegend\": false, \"text\": [\"34491\", \"40865\"], \"x\": [-225.866, -336.397], \"y\": [115.05245255343321, 173.0423765237868], \"type\": \"scatter\", \"uid\": \"adc17242-948b-4c40-baa7-c2f72542e3fc\"}, {\"hoverinfo\": \"name+text\", \"legendgroup\": \"missing\", \"line\": {\"color\": \"blue\", \"width\": 1}, \"name\": \"missing\", \"opacity\": 1, \"showlegend\": false, \"text\": [\"35259\", \"41464\"], \"x\": [-131.795, -191.758], \"y\": [115.01274730202735, 171.40195078204334], \"type\": \"scatter\", \"uid\": \"db596201-24b1-4aba-a2ab-7b924678ab65\"}, {\"hoverinfo\": \"name+text\", \"legendgroup\": \"missing\", \"line\": {\"color\": \"blue\", \"width\": 1}, \"name\": \"missing\", \"opacity\": 1, \"showlegend\": false, \"text\": [\"40865\", \"72549\"], \"x\": [-336.397, -499.4], \"y\": [173.0423765237868, 258.1986281140936], \"type\": \"scatter\", \"uid\": \"e90cb09e-cd6a-4b8e-aea2-b4deaf1ae099\"}, {\"hoverinfo\": \"name+text\", \"legendgroup\": \"missing\", \"line\": {\"color\": \"blue\", \"width\": 1}, \"name\": \"missing\", \"opacity\": 1, \"showlegend\": false, \"text\": [\"41146\", \"73201\"], \"x\": [-224.485, -339.0], \"y\": [171.697933181183, 259.9772582081748], \"type\": \"scatter\", \"uid\": \"affde36a-703e-4835-815d-e3b9c0d973db\"}, {\"hoverinfo\": \"name+text\", \"legendgroup\": \"missing\", \"line\": {\"color\": \"blue\", \"width\": 1}, \"name\": \"missing\", \"opacity\": 1, \"showlegend\": false, \"text\": [\"41464\", \"73085\"], \"x\": [-191.758, -283.2], \"y\": [171.40195078204334, 257.30068278183796], \"type\": \"scatter\", \"uid\": \"b1d7c049-aef7-4207-aee1-730f75778954\"}, {\"hoverinfo\": \"name+text\", \"legendgroup\": \"missing\", \"line\": {\"color\": \"blue\", \"width\": 1}, \"name\": \"missing\", \"opacity\": 1, \"showlegend\": false, \"text\": [\"72549\", \"79138\"], \"x\": [-499.4, -689.8], \"y\": [258.1986281140936, 358.26621846092326], \"type\": \"scatter\", \"uid\": \"590b2dff-0bcf-4937-8fc0-63d79e5deae3\"}, {\"hoverinfo\": \"name+text\", \"legendgroup\": \"missing\", \"line\": {\"color\": \"blue\", \"width\": 1}, \"name\": \"missing\", \"opacity\": 1, \"showlegend\": false, \"text\": [\"73085\", \"79880\"], \"x\": [-283.2, -398.2], \"y\": [257.30068278183796, 365.71411330334246], \"type\": \"scatter\", \"uid\": \"405d5aab-499c-465b-adc2-3b31f12ccb34\"}, {\"hoverinfo\": \"name+text\", \"legendgroup\": \"missing\", \"line\": {\"color\": \"blue\", \"width\": 1}, \"name\": \"missing\", \"opacity\": 1, \"showlegend\": false, \"text\": [\"73201\", \"79641\"], \"x\": [-339.0, -470.6], \"y\": [259.9772582081748, 361.27022166795035], \"type\": \"scatter\", \"uid\": \"fba9daaf-342c-4673-92f9-ab1e0d36153b\"}, {\"hoverinfo\": \"name+text\", \"legendgroup\": \"missing\", \"line\": {\"color\": \"blue\", \"width\": 1}, \"name\": \"missing\", \"opacity\": 1, \"showlegend\": false, \"text\": [\"76902\", \"83944\"], \"x\": [375.4, 515.6], \"y\": [262.9168818890107, 359.1660073517537], \"type\": \"scatter\", \"uid\": \"66c84d65-4792-4a51-b169-73b6cc4d380a\"}, {\"hoverinfo\": \"name+text\", \"legendgroup\": \"missing\", \"line\": {\"color\": \"blue\", \"width\": 1}, \"name\": \"missing\", \"opacity\": 1, \"showlegend\": false, \"text\": [\"79138\", \"85537\"], \"x\": [-689.8, -955.8], \"y\": [358.26621846092326, 496.7990769969284], \"type\": \"scatter\", \"uid\": \"d2d8381a-75e9-467e-bd2a-1c0b172e68b1\"}, {\"hoverinfo\": \"name+text\", \"legendgroup\": \"missing\", \"line\": {\"color\": \"blue\", \"width\": 1}, \"name\": \"missing\", \"opacity\": 1, \"showlegend\": false, \"text\": [\"79880\", \"86402\"], \"x\": [-398.2, -538.4], \"y\": [365.71411330334246, 497.4495544242049], \"type\": \"scatter\", \"uid\": \"9890e249-5a5f-4b65-9672-7f407081e117\"}, {\"hoverinfo\": \"name+text\", \"legendgroup\": \"missing\", \"line\": {\"color\": \"blue\", \"width\": 1}, \"name\": \"missing\", \"opacity\": 1, \"showlegend\": false, \"text\": [\"80933\", \"87292\"], \"x\": [-209.6, -285.6], \"y\": [363.8873098444215, 500.04019567330784], \"type\": \"scatter\", \"uid\": \"59b9f387-944b-4455-96a7-d7ded2934cc2\"}, {\"hoverinfo\": \"name+text\", \"legendgroup\": \"missing\", \"line\": {\"color\": \"blue\", \"width\": 1}, \"name\": \"missing\", \"opacity\": 1, \"showlegend\": false, \"text\": [\"83944\", \"90803\"], \"x\": [515.6, 722.2], \"y\": [359.1660073517537, 501.1282595952857], \"type\": \"scatter\", \"uid\": \"6746e0c4-8efb-4313-89d5-3fee28f2520f\"}, {\"hoverinfo\": \"name+text\", \"legendgroup\": \"missing\", \"line\": {\"color\": \"blue\", \"width\": 1}, \"name\": \"missing\", \"opacity\": 1, \"showlegend\": false, \"text\": [\"86195\", \"91955\"], \"x\": [-657.6, -865.4], \"y\": [505.25758938962014, 665.3054220029776], \"type\": \"scatter\", \"uid\": \"5267d174-dbc6-4d2d-9d65-994b3def1e9b\"}, {\"hoverinfo\": \"name+text\", \"legendgroup\": \"missing\", \"line\": {\"color\": \"blue\", \"width\": 1}, \"name\": \"missing\", \"opacity\": 1, \"showlegend\": false, \"text\": [\"86402\", \"92130\"], \"x\": [-538.4, -707.2], \"y\": [497.4495544242049, 656.5191725472228], \"type\": \"scatter\", \"uid\": \"9e03e26f-ae8a-4e69-9399-0e1cc52f0393\"}, {\"hoverinfo\": \"name+text\", \"legendgroup\": \"missing\", \"line\": {\"color\": \"blue\", \"width\": 1}, \"name\": \"missing\", \"opacity\": 1, \"showlegend\": false, \"text\": [\"87292\", \"93165\"], \"x\": [-285.6, -375.4], \"y\": [500.04019567330784, 660.5030028046807], \"type\": \"scatter\", \"uid\": \"d5653b2b-084d-4094-81f2-e4053f304b18\"}, {\"hoverinfo\": \"name+text\", \"legendgroup\": \"missing\", \"line\": {\"color\": \"blue\", \"width\": 1}, \"name\": \"missing\", \"opacity\": 1, \"showlegend\": false, \"text\": [\"90803\", \"96934\"], \"x\": [722.2, 956.0], \"y\": [501.1282595952857, 660.1841830580312], \"type\": \"scatter\", \"uid\": \"5376a414-3913-4cd4-a3d4-84969477a2c7\"}, {\"hoverinfo\": \"name+text\", \"legendgroup\": \"missing\", \"line\": {\"color\": \"blue\", \"width\": 1}, \"name\": \"missing\", \"opacity\": 1, \"showlegend\": false, \"text\": [\"91955\", \"107743\"], \"x\": [-865.4, -1067.8], \"y\": [665.3054220029776, 824.2035973873507], \"type\": \"scatter\", \"uid\": \"52d43264-9895-4b4d-911e-87f6a16feb32\"}, {\"hoverinfo\": \"name+text\", \"legendgroup\": \"missing\", \"line\": {\"color\": \"blue\", \"width\": 1}, \"name\": \"missing\", \"opacity\": 1, \"showlegend\": false, \"text\": [\"92130\", \"107883\"], \"x\": [-707.2, -878.4], \"y\": [656.5191725472228, 819.5081131930848], \"type\": \"scatter\", \"uid\": \"f6a6b817-f1c4-401c-bd09-f4473879c9cb\"}, {\"hoverinfo\": \"name+text\", \"legendgroup\": \"missing\", \"line\": {\"color\": \"blue\", \"width\": 1}, \"name\": \"missing\", \"opacity\": 1, \"showlegend\": false, \"text\": [\"93165\", \"109022\"], \"x\": [-375.4, -466.4], \"y\": [660.5030028046807, 822.2639974959379], \"type\": \"scatter\", \"uid\": \"b0b7bb74-7b03-4668-abac-d7f0d160e246\"}, {\"hoverinfo\": \"name+text\", \"legendgroup\": \"missing\", \"line\": {\"color\": \"blue\", \"width\": 1}, \"name\": \"missing\", \"opacity\": 1, \"showlegend\": false, \"text\": [\"109022\", \"114036\"], \"x\": [-466.4, -580.2], \"y\": [822.2639974959379, 1022.6908959079474], \"type\": \"scatter\", \"uid\": \"9ec0f59b-090a-4c38-9204-0502ddeb6cc6\"}], {\"height\": 800, \"hovermode\": \"closest\", \"showlegend\": true, \"updatemenus\": [{\"buttons\": [{\"args\": [\"shapes\", []], \"label\": \"hide layers\", \"method\": \"relayout\"}, {\"args\": [\"shapes\", [{\"type\": \"line\", \"x0\": -455, \"x1\": 455, \"y0\": 32, \"y1\": 32, \"opacity\": 0.5, \"layer\": \"below\", \"line\": {\"color\": \"#ccc\"}}, {\"type\": \"line\", \"x0\": -455, \"x1\": 455, \"y0\": 72, \"y1\": 72, \"opacity\": 0.5, \"layer\": \"below\", \"line\": {\"color\": \"#ccc\"}}, {\"type\": \"line\", \"x0\": -455, \"x1\": 455, \"y0\": 116, \"y1\": 116, \"opacity\": 0.5, \"layer\": \"below\", \"line\": {\"color\": \"#ccc\"}}, {\"type\": \"line\", \"x0\": -455, \"x1\": 455, \"y0\": 172, \"y1\": 172, \"opacity\": 0.5, \"layer\": \"below\", \"line\": {\"color\": \"#ccc\"}}, {\"type\": \"line\", \"x0\": -1030, \"x1\": 1030, \"y0\": 260, \"y1\": 260, \"opacity\": 0.5, \"layer\": \"below\", \"line\": {\"color\": \"#cccc8d\"}}, {\"type\": \"line\", \"x0\": -1030, \"x1\": 1030, \"y0\": 360, \"y1\": 360, \"opacity\": 0.5, \"layer\": \"below\", \"line\": {\"color\": \"#cccc8d\"}}, {\"type\": \"line\", \"x0\": -1030, \"x1\": 1030, \"y0\": 500, \"y1\": 500, \"opacity\": 0.5, \"layer\": \"below\", \"line\": {\"color\": \"#cccc8d\"}}, {\"type\": \"line\", \"x0\": -1030, \"x1\": 1030, \"y0\": 660, \"y1\": 660, \"opacity\": 0.5, \"layer\": \"below\", \"line\": {\"color\": \"#cccc8d\"}}, {\"type\": \"line\", \"x0\": -1030, \"x1\": 1030, \"y0\": 820, \"y1\": 820, \"opacity\": 0.5, \"layer\": \"below\", \"line\": {\"color\": \"#ccc\"}}, {\"type\": \"line\", \"x0\": -1030, \"x1\": 1030, \"y0\": 1020, \"y1\": 1020, \"opacity\": 0.5, \"layer\": \"below\", \"line\": {\"color\": \"#ccc\"}}]], \"label\": \"show layers\", \"method\": \"relayout\"}], \"direction\": \"left\", \"pad\": {\"l\": 0.1}, \"type\": \"buttons\", \"xanchor\": \"left\", \"y\": 1.1, \"yanchor\": \"top\"}, {\"buttons\": [{\"args\": [{\"mode\": \"markers+lines\"}], \"label\": \"hits+tracks\", \"method\": \"update\"}, {\"args\": [{\"mode\": \"markers\"}], \"label\": \"hits only\", \"method\": \"update\"}], \"direction\": \"left\", \"pad\": {\"l\": 200}, \"type\": \"buttons\", \"xanchor\": \"left\", \"y\": 1.1, \"yanchor\": \"top\"}, {\"buttons\": [{\"args\": [\"yaxis.scaleanchor\", null], \"label\": \"free\", \"method\": \"relayout\"}, {\"args\": [\"yaxis.scaleanchor\", \"x\"], \"label\": \"fixed\", \"method\": \"relayout\"}], \"direction\": \"left\", \"pad\": {\"l\": 380}, \"type\": \"buttons\", \"xanchor\": \"left\", \"y\": 1.1, \"yanchor\": \"top\"}], \"width\": 800, \"xaxis\": {\"title\": \"z\"}, \"yaxis\": {\"title\": \"r\"}}, {\"showLink\": true, \"linkText\": \"Export to plot.ly\", \"plotlyServerURL\": \"https://plot.ly\"})});</script>"
      ]
     },
     "metadata": {},
     "output_type": "display_data"
    },
    {
     "data": {
      "application/vnd.plotly.v1+json": {
       "config": {
        "linkText": "Export to plot.ly",
        "plotlyServerURL": "https://plot.ly",
        "showLink": true
       },
       "data": [
        {
         "hoverinfo": "name+text",
         "legendgroup": "True",
         "line": {
          "color": "darkseagreen",
          "width": 1
         },
         "name": "T0: real",
         "opacity": 1,
         "showlegend": true,
         "text": [
          "82090",
          "88632",
          "94896",
          "110783",
          "116120"
         ],
         "type": "scatter",
         "uid": "32ff2da2-57ec-423a-898c-58e790ffa1ce",
         "x": [
          -15.6281,
          -48.3976
         ],
         "y": [
          -358.871,
          -494.939
         ]
        },
        {
         "hoverinfo": "name+text",
         "legendgroup": "True",
         "line": {
          "color": "darkseagreen",
          "width": 1
         },
         "name": "T0: real",
         "opacity": 1,
         "showlegend": false,
         "text": [
          "82090",
          "88632",
          "94896",
          "110783",
          "116120"
         ],
         "type": "scatter",
         "uid": "30df9cd7-9cae-4da4-8a43-3d464a99d566",
         "x": [
          -48.3976,
          -107.941
         ],
         "y": [
          -494.939,
          -654.971
         ]
        },
        {
         "hoverinfo": "name+text",
         "legendgroup": "True",
         "line": {
          "color": "darkseagreen",
          "width": 1
         },
         "name": "T0: real",
         "opacity": 1,
         "showlegend": false,
         "text": [
          "82090",
          "88632",
          "94896",
          "110783",
          "116120"
         ],
         "type": "scatter",
         "uid": "471a1d36-285a-45e9-ac10-4234b25bef04",
         "x": [
          -107.941,
          -184.63
         ],
         "y": [
          -654.971,
          -801.703
         ]
        },
        {
         "hoverinfo": "name+text",
         "legendgroup": "True",
         "line": {
          "color": "darkseagreen",
          "width": 1
         },
         "name": "T0: real",
         "opacity": 1,
         "showlegend": false,
         "text": [
          "82090",
          "88632",
          "94896",
          "110783",
          "116120"
         ],
         "type": "scatter",
         "uid": "0a1cbec4-99e1-40b5-9140-04dffe58b1f9",
         "x": [
          -184.63,
          -306.828
         ],
         "y": [
          -801.703,
          -971.876
         ]
        },
        {
         "hoverinfo": "name+text",
         "legendgroup": "True",
         "line": {
          "color": "darkseagreen",
          "width": 1
         },
         "name": "T1: real",
         "opacity": 1,
         "showlegend": false,
         "text": [
          "37198",
          "44045",
          "75480",
          "82723",
          "95378",
          "111471"
         ],
         "type": "scatter",
         "uid": "449e57fc-44d7-4d32-aa80-cf0c748d9344",
         "x": [
          -13.5617,
          -16.8728
         ],
         "y": [
          114.204,
          171.016
         ]
        },
        {
         "hoverinfo": "name+text",
         "legendgroup": "True",
         "line": {
          "color": "darkseagreen",
          "width": 1
         },
         "name": "T1: real",
         "opacity": 1,
         "showlegend": false,
         "text": [
          "37198",
          "44045",
          "75480",
          "82723",
          "95378",
          "111471"
         ],
         "type": "scatter",
         "uid": "8bb1c81f-d0ff-4a43-8b8b-2675a3739ded",
         "x": [
          -16.8728,
          -17.738
         ],
         "y": [
          171.016,
          257.521
         ]
        },
        {
         "hoverinfo": "name+text",
         "legendgroup": "True",
         "line": {
          "color": "darkseagreen",
          "width": 1
         },
         "name": "T1: real",
         "opacity": 1,
         "showlegend": false,
         "text": [
          "37198",
          "44045",
          "75480",
          "82723",
          "95378",
          "111471"
         ],
         "type": "scatter",
         "uid": "41f3b913-b698-47fa-a050-dd5a1c216cff",
         "x": [
          -17.738,
          -11.9561
         ],
         "y": [
          257.521,
          360.148
         ]
        },
        {
         "hoverinfo": "name+text",
         "legendgroup": "True",
         "line": {
          "color": "darkseagreen",
          "width": 1
         },
         "name": "T1: real",
         "opacity": 1,
         "showlegend": false,
         "text": [
          "37198",
          "44045",
          "75480",
          "82723",
          "95378",
          "111471"
         ],
         "type": "scatter",
         "uid": "6a53d702-1617-4c08-b958-63786179b8d5",
         "x": [
          -11.9561,
          48.5453
         ],
         "y": [
          360.148,
          655.5310000000002
         ]
        },
        {
         "hoverinfo": "name+text",
         "legendgroup": "True",
         "line": {
          "color": "darkseagreen",
          "width": 1
         },
         "name": "T1: real",
         "opacity": 1,
         "showlegend": false,
         "text": [
          "37198",
          "44045",
          "75480",
          "82723",
          "95378",
          "111471"
         ],
         "type": "scatter",
         "uid": "70201960-2443-4a0d-98bc-ef4b3d463344",
         "x": [
          48.5453,
          109.848
         ],
         "y": [
          655.5310000000002,
          813.716
         ]
        },
        {
         "hoverinfo": "name+text",
         "legendgroup": "True",
         "line": {
          "color": "green",
          "width": 1
         },
         "name": "T2: real",
         "opacity": 1,
         "showlegend": false,
         "text": [
          "21265",
          "29504",
          "42350",
          "73830",
          "80933"
         ],
         "type": "scatter",
         "uid": "e5358cb2-20a6-4167-9e06-a1d217cffc17",
         "x": [
          -31.6364,
          -70.206
         ],
         "y": [
          6.18379,
          14.1226
         ]
        },
        {
         "hoverinfo": "name+text",
         "legendgroup": "True",
         "line": {
          "color": "green",
          "width": 1
         },
         "name": "T2: real",
         "opacity": 1,
         "showlegend": false,
         "text": [
          "21265",
          "29504",
          "42350",
          "73830",
          "80933"
         ],
         "type": "scatter",
         "uid": "5fef5a44-9dcf-4b9b-82c2-b990f663778b",
         "x": [
          -70.206,
          -168.155
         ],
         "y": [
          14.1226,
          36.3725
         ]
        },
        {
         "hoverinfo": "name+text",
         "legendgroup": "True",
         "line": {
          "color": "green",
          "width": 1
         },
         "name": "T2: real",
         "opacity": 1,
         "showlegend": false,
         "text": [
          "21265",
          "29504",
          "42350",
          "73830",
          "80933"
         ],
         "type": "scatter",
         "uid": "5887972e-7695-4c42-9f6a-f1f022205bd0",
         "x": [
          -168.155,
          -255.151
         ],
         "y": [
          36.3725,
          58.8872
         ]
        },
        {
         "hoverinfo": "name+text",
         "legendgroup": "True",
         "line": {
          "color": "green",
          "width": 1
         },
         "name": "T2: real",
         "opacity": 1,
         "showlegend": false,
         "text": [
          "21265",
          "29504",
          "42350",
          "73830",
          "80933"
         ],
         "type": "scatter",
         "uid": "6e9179cd-762b-43b6-9963-8cca2f4dd286",
         "x": [
          -255.151,
          -353.285
         ],
         "y": [
          58.8872,
          87.1991
         ]
        },
        {
         "hoverinfo": "name+text",
         "legendgroup": "True",
         "line": {
          "color": "green",
          "width": 1
         },
         "name": "T3: real",
         "opacity": 1,
         "showlegend": false,
         "text": [
          "23536",
          "31418",
          "38524",
          "45067",
          "76902"
         ],
         "type": "scatter",
         "uid": "17f3d054-dd99-4bc9-806b-325ad5d128ea",
         "x": [
          -30.9263,
          -68.8454
         ],
         "y": [
          9.9814,
          22.8573
         ]
        },
        {
         "hoverinfo": "name+text",
         "legendgroup": "True",
         "line": {
          "color": "green",
          "width": 1
         },
         "name": "T3: real",
         "opacity": 1,
         "showlegend": false,
         "text": [
          "23536",
          "31418",
          "38524",
          "45067",
          "76902"
         ],
         "type": "scatter",
         "uid": "217f44e9-cadd-4e38-b915-98f32934d9aa",
         "x": [
          -68.8454,
          -109.987
         ],
         "y": [
          22.8573,
          37.6253
         ]
        },
        {
         "hoverinfo": "name+text",
         "legendgroup": "True",
         "line": {
          "color": "green",
          "width": 1
         },
         "name": "T3: real",
         "opacity": 1,
         "showlegend": false,
         "text": [
          "23536",
          "31418",
          "38524",
          "45067",
          "76902"
         ],
         "type": "scatter",
         "uid": "242c61cf-57ae-477f-8850-477a1997939a",
         "x": [
          -109.987,
          -161.876
         ],
         "y": [
          37.6253,
          57.4577
         ]
        },
        {
         "hoverinfo": "name+text",
         "legendgroup": "True",
         "line": {
          "color": "green",
          "width": 1
         },
         "name": "T3: real",
         "opacity": 1,
         "showlegend": false,
         "text": [
          "23536",
          "31418",
          "38524",
          "45067",
          "76902"
         ],
         "type": "scatter",
         "uid": "24267186-5196-4bbf-9049-247218bee17a",
         "x": [
          -161.876,
          -246.02
         ],
         "y": [
          57.4577,
          92.7332
         ]
        },
        {
         "hoverinfo": "name+text",
         "legendgroup": "4",
         "line": {
          "color": "red",
          "width": 1
         },
         "name": "T4: 2/4 ok",
         "opacity": 1,
         "showlegend": true,
         "text": [
          "20262",
          "34877",
          "41146",
          "79641",
          "86195"
         ],
         "type": "scatter",
         "uid": "06fc7efe-aa1a-4023-ae3e-4636ddd0f22b",
         "x": [
          32.2451,
          114.433
         ],
         "y": [
          4.53326,
          14.9217
         ]
        },
        {
         "hoverinfo": "name+text",
         "legendgroup": "4",
         "line": {
          "color": "green",
          "width": 1
         },
         "name": "T4: 2/4 ok",
         "opacity": 1,
         "showlegend": false,
         "text": [
          "20262",
          "34877",
          "41146",
          "79641",
          "86195"
         ],
         "type": "scatter",
         "uid": "040a103e-892a-46b1-b8ea-a4767bc9464f",
         "x": [
          114.433,
          170.40099999999995
         ],
         "y": [
          14.9217,
          21.0637
         ]
        },
        {
         "hoverinfo": "name+text",
         "legendgroup": "4",
         "line": {
          "color": "red",
          "width": 1
         },
         "name": "T4: 2/4 ok",
         "opacity": 1,
         "showlegend": false,
         "text": [
          "20262",
          "34877",
          "41146",
          "79641",
          "86195"
         ],
         "type": "scatter",
         "uid": "956c8e98-9dc9-4f06-bbff-f47448e4673c",
         "x": [
          170.40099999999995,
          359.452
         ],
         "y": [
          21.0637,
          36.1999
         ]
        },
        {
         "hoverinfo": "name+text",
         "legendgroup": "4",
         "line": {
          "color": "green",
          "width": 1
         },
         "name": "T4: 2/4 ok",
         "opacity": 1,
         "showlegend": false,
         "text": [
          "20262",
          "34877",
          "41146",
          "79641",
          "86195"
         ],
         "type": "scatter",
         "uid": "fb97b465-9157-4110-9ce4-499fc8b4377a",
         "x": [
          359.452,
          503.503
         ],
         "y": [
          36.1999,
          42.0709
         ]
        }
       ],
       "layout": {
        "height": 800,
        "hovermode": "closest",
        "showlegend": true,
        "updatemenus": [
         {
          "buttons": [
           {
            "args": [
             "shapes",
             []
            ],
            "label": "hide layers",
            "method": "relayout"
           },
           {
            "args": [
             "shapes",
             [
              {
               "layer": "below",
               "line": {
                "color": "#ccc"
               },
               "opacity": 0.5,
               "type": "circle",
               "x0": -32,
               "x1": 32,
               "y0": -32,
               "y1": 32
              },
              {
               "layer": "below",
               "line": {
                "color": "#ccc"
               },
               "opacity": 0.5,
               "type": "circle",
               "x0": -72,
               "x1": 72,
               "y0": -72,
               "y1": 72
              },
              {
               "layer": "below",
               "line": {
                "color": "#ccc"
               },
               "opacity": 0.5,
               "type": "circle",
               "x0": -116,
               "x1": 116,
               "y0": -116,
               "y1": 116
              },
              {
               "layer": "below",
               "line": {
                "color": "#ccc"
               },
               "opacity": 0.5,
               "type": "circle",
               "x0": -172,
               "x1": 172,
               "y0": -172,
               "y1": 172
              },
              {
               "layer": "below",
               "line": {
                "color": "#cccc8d"
               },
               "opacity": 0.5,
               "type": "circle",
               "x0": -260,
               "x1": 260,
               "y0": -260,
               "y1": 260
              },
              {
               "layer": "below",
               "line": {
                "color": "#cccc8d"
               },
               "opacity": 0.5,
               "type": "circle",
               "x0": -360,
               "x1": 360,
               "y0": -360,
               "y1": 360
              },
              {
               "layer": "below",
               "line": {
                "color": "#cccc8d"
               },
               "opacity": 0.5,
               "type": "circle",
               "x0": -500,
               "x1": 500,
               "y0": -500,
               "y1": 500
              },
              {
               "layer": "below",
               "line": {
                "color": "#cccc8d"
               },
               "opacity": 0.5,
               "type": "circle",
               "x0": -660,
               "x1": 660,
               "y0": -660,
               "y1": 660
              },
              {
               "layer": "below",
               "line": {
                "color": "#ccc"
               },
               "opacity": 0.5,
               "type": "circle",
               "x0": -820,
               "x1": 820,
               "y0": -820,
               "y1": 820
              },
              {
               "layer": "below",
               "line": {
                "color": "#ccc"
               },
               "opacity": 0.5,
               "type": "circle",
               "x0": -1020,
               "x1": 1020,
               "y0": -1020,
               "y1": 1020
              }
             ]
            ],
            "label": "show layers",
            "method": "relayout"
           }
          ],
          "direction": "left",
          "pad": {
           "l": 0.1
          },
          "type": "buttons",
          "xanchor": "left",
          "y": 1.1,
          "yanchor": "top"
         },
         {
          "buttons": [
           {
            "args": [
             {
              "mode": "markers+lines"
             }
            ],
            "label": "hits+tracks",
            "method": "update"
           },
           {
            "args": [
             {
              "mode": "markers"
             }
            ],
            "label": "hits only",
            "method": "update"
           }
          ],
          "direction": "left",
          "pad": {
           "l": 200
          },
          "type": "buttons",
          "xanchor": "left",
          "y": 1.1,
          "yanchor": "top"
         },
         {
          "buttons": [
           {
            "args": [
             "yaxis.scaleanchor",
             null
            ],
            "label": "free",
            "method": "relayout"
           },
           {
            "args": [
             "yaxis.scaleanchor",
             "x"
            ],
            "label": "fixed",
            "method": "relayout"
           }
          ],
          "direction": "left",
          "pad": {
           "l": 380
          },
          "type": "buttons",
          "xanchor": "left",
          "y": 1.1,
          "yanchor": "top"
         }
        ],
        "width": 800,
        "xaxis": {
         "title": "x"
        },
        "yaxis": {
         "title": "y"
        }
       }
      },
      "text/html": [
       "<div id=\"6cb22ce3-5792-4e44-8091-c09efb7abfbb\" style=\"height: 800px; width: 800px;\" class=\"plotly-graph-div\"></div><script type=\"text/javascript\">require([\"plotly\"], function(Plotly) { window.PLOTLYENV=window.PLOTLYENV || {};window.PLOTLYENV.BASE_URL=\"https://plot.ly\";Plotly.newPlot(\"6cb22ce3-5792-4e44-8091-c09efb7abfbb\", [{\"hoverinfo\": \"name+text\", \"legendgroup\": \"True\", \"line\": {\"color\": \"darkseagreen\", \"width\": 1}, \"name\": \"T0: real\", \"opacity\": 1, \"showlegend\": true, \"text\": [\"82090\", \"88632\", \"94896\", \"110783\", \"116120\"], \"x\": [-15.6281, -48.3976], \"y\": [-358.871, -494.939], \"type\": \"scatter\", \"uid\": \"32ff2da2-57ec-423a-898c-58e790ffa1ce\"}, {\"hoverinfo\": \"name+text\", \"legendgroup\": \"True\", \"line\": {\"color\": \"darkseagreen\", \"width\": 1}, \"name\": \"T0: real\", \"opacity\": 1, \"showlegend\": false, \"text\": [\"82090\", \"88632\", \"94896\", \"110783\", \"116120\"], \"x\": [-48.3976, -107.941], \"y\": [-494.939, -654.971], \"type\": \"scatter\", \"uid\": \"30df9cd7-9cae-4da4-8a43-3d464a99d566\"}, {\"hoverinfo\": \"name+text\", \"legendgroup\": \"True\", \"line\": {\"color\": \"darkseagreen\", \"width\": 1}, \"name\": \"T0: real\", \"opacity\": 1, \"showlegend\": false, \"text\": [\"82090\", \"88632\", \"94896\", \"110783\", \"116120\"], \"x\": [-107.941, -184.63], \"y\": [-654.971, -801.703], \"type\": \"scatter\", \"uid\": \"471a1d36-285a-45e9-ac10-4234b25bef04\"}, {\"hoverinfo\": \"name+text\", \"legendgroup\": \"True\", \"line\": {\"color\": \"darkseagreen\", \"width\": 1}, \"name\": \"T0: real\", \"opacity\": 1, \"showlegend\": false, \"text\": [\"82090\", \"88632\", \"94896\", \"110783\", \"116120\"], \"x\": [-184.63, -306.828], \"y\": [-801.703, -971.876], \"type\": \"scatter\", \"uid\": \"0a1cbec4-99e1-40b5-9140-04dffe58b1f9\"}, {\"hoverinfo\": \"name+text\", \"legendgroup\": \"True\", \"line\": {\"color\": \"darkseagreen\", \"width\": 1}, \"name\": \"T1: real\", \"opacity\": 1, \"showlegend\": false, \"text\": [\"37198\", \"44045\", \"75480\", \"82723\", \"95378\", \"111471\"], \"x\": [-13.5617, -16.8728], \"y\": [114.204, 171.016], \"type\": \"scatter\", \"uid\": \"449e57fc-44d7-4d32-aa80-cf0c748d9344\"}, {\"hoverinfo\": \"name+text\", \"legendgroup\": \"True\", \"line\": {\"color\": \"darkseagreen\", \"width\": 1}, \"name\": \"T1: real\", \"opacity\": 1, \"showlegend\": false, \"text\": [\"37198\", \"44045\", \"75480\", \"82723\", \"95378\", \"111471\"], \"x\": [-16.8728, -17.738], \"y\": [171.016, 257.521], \"type\": \"scatter\", \"uid\": \"8bb1c81f-d0ff-4a43-8b8b-2675a3739ded\"}, {\"hoverinfo\": \"name+text\", \"legendgroup\": \"True\", \"line\": {\"color\": \"darkseagreen\", \"width\": 1}, \"name\": \"T1: real\", \"opacity\": 1, \"showlegend\": false, \"text\": [\"37198\", \"44045\", \"75480\", \"82723\", \"95378\", \"111471\"], \"x\": [-17.738, -11.9561], \"y\": [257.521, 360.148], \"type\": \"scatter\", \"uid\": \"41f3b913-b698-47fa-a050-dd5a1c216cff\"}, {\"hoverinfo\": \"name+text\", \"legendgroup\": \"True\", \"line\": {\"color\": \"darkseagreen\", \"width\": 1}, \"name\": \"T1: real\", \"opacity\": 1, \"showlegend\": false, \"text\": [\"37198\", \"44045\", \"75480\", \"82723\", \"95378\", \"111471\"], \"x\": [-11.9561, 48.5453], \"y\": [360.148, 655.5310000000002], \"type\": \"scatter\", \"uid\": \"6a53d702-1617-4c08-b958-63786179b8d5\"}, {\"hoverinfo\": \"name+text\", \"legendgroup\": \"True\", \"line\": {\"color\": \"darkseagreen\", \"width\": 1}, \"name\": \"T1: real\", \"opacity\": 1, \"showlegend\": false, \"text\": [\"37198\", \"44045\", \"75480\", \"82723\", \"95378\", \"111471\"], \"x\": [48.5453, 109.848], \"y\": [655.5310000000002, 813.716], \"type\": \"scatter\", \"uid\": \"70201960-2443-4a0d-98bc-ef4b3d463344\"}, {\"hoverinfo\": \"name+text\", \"legendgroup\": \"True\", \"line\": {\"color\": \"green\", \"width\": 1}, \"name\": \"T2: real\", \"opacity\": 1, \"showlegend\": false, \"text\": [\"21265\", \"29504\", \"42350\", \"73830\", \"80933\"], \"x\": [-31.6364, -70.206], \"y\": [6.18379, 14.1226], \"type\": \"scatter\", \"uid\": \"e5358cb2-20a6-4167-9e06-a1d217cffc17\"}, {\"hoverinfo\": \"name+text\", \"legendgroup\": \"True\", \"line\": {\"color\": \"green\", \"width\": 1}, \"name\": \"T2: real\", \"opacity\": 1, \"showlegend\": false, \"text\": [\"21265\", \"29504\", \"42350\", \"73830\", \"80933\"], \"x\": [-70.206, -168.155], \"y\": [14.1226, 36.3725], \"type\": \"scatter\", \"uid\": \"5fef5a44-9dcf-4b9b-82c2-b990f663778b\"}, {\"hoverinfo\": \"name+text\", \"legendgroup\": \"True\", \"line\": {\"color\": \"green\", \"width\": 1}, \"name\": \"T2: real\", \"opacity\": 1, \"showlegend\": false, \"text\": [\"21265\", \"29504\", \"42350\", \"73830\", \"80933\"], \"x\": [-168.155, -255.151], \"y\": [36.3725, 58.8872], \"type\": \"scatter\", \"uid\": \"5887972e-7695-4c42-9f6a-f1f022205bd0\"}, {\"hoverinfo\": \"name+text\", \"legendgroup\": \"True\", \"line\": {\"color\": \"green\", \"width\": 1}, \"name\": \"T2: real\", \"opacity\": 1, \"showlegend\": false, \"text\": [\"21265\", \"29504\", \"42350\", \"73830\", \"80933\"], \"x\": [-255.151, -353.285], \"y\": [58.8872, 87.1991], \"type\": \"scatter\", \"uid\": \"6e9179cd-762b-43b6-9963-8cca2f4dd286\"}, {\"hoverinfo\": \"name+text\", \"legendgroup\": \"True\", \"line\": {\"color\": \"green\", \"width\": 1}, \"name\": \"T3: real\", \"opacity\": 1, \"showlegend\": false, \"text\": [\"23536\", \"31418\", \"38524\", \"45067\", \"76902\"], \"x\": [-30.9263, -68.8454], \"y\": [9.9814, 22.8573], \"type\": \"scatter\", \"uid\": \"17f3d054-dd99-4bc9-806b-325ad5d128ea\"}, {\"hoverinfo\": \"name+text\", \"legendgroup\": \"True\", \"line\": {\"color\": \"green\", \"width\": 1}, \"name\": \"T3: real\", \"opacity\": 1, \"showlegend\": false, \"text\": [\"23536\", \"31418\", \"38524\", \"45067\", \"76902\"], \"x\": [-68.8454, -109.987], \"y\": [22.8573, 37.6253], \"type\": \"scatter\", \"uid\": \"217f44e9-cadd-4e38-b915-98f32934d9aa\"}, {\"hoverinfo\": \"name+text\", \"legendgroup\": \"True\", \"line\": {\"color\": \"green\", \"width\": 1}, \"name\": \"T3: real\", \"opacity\": 1, \"showlegend\": false, \"text\": [\"23536\", \"31418\", \"38524\", \"45067\", \"76902\"], \"x\": [-109.987, -161.876], \"y\": [37.6253, 57.4577], \"type\": \"scatter\", \"uid\": \"242c61cf-57ae-477f-8850-477a1997939a\"}, {\"hoverinfo\": \"name+text\", \"legendgroup\": \"True\", \"line\": {\"color\": \"green\", \"width\": 1}, \"name\": \"T3: real\", \"opacity\": 1, \"showlegend\": false, \"text\": [\"23536\", \"31418\", \"38524\", \"45067\", \"76902\"], \"x\": [-161.876, -246.02], \"y\": [57.4577, 92.7332], \"type\": \"scatter\", \"uid\": \"24267186-5196-4bbf-9049-247218bee17a\"}, {\"hoverinfo\": \"name+text\", \"legendgroup\": \"4\", \"line\": {\"color\": \"red\", \"width\": 1}, \"name\": \"T4: 2/4 ok\", \"opacity\": 1, \"showlegend\": true, \"text\": [\"20262\", \"34877\", \"41146\", \"79641\", \"86195\"], \"x\": [32.2451, 114.433], \"y\": [4.53326, 14.9217], \"type\": \"scatter\", \"uid\": \"06fc7efe-aa1a-4023-ae3e-4636ddd0f22b\"}, {\"hoverinfo\": \"name+text\", \"legendgroup\": \"4\", \"line\": {\"color\": \"green\", \"width\": 1}, \"name\": \"T4: 2/4 ok\", \"opacity\": 1, \"showlegend\": false, \"text\": [\"20262\", \"34877\", \"41146\", \"79641\", \"86195\"], \"x\": [114.433, 170.40099999999995], \"y\": [14.9217, 21.0637], \"type\": \"scatter\", \"uid\": \"040a103e-892a-46b1-b8ea-a4767bc9464f\"}, {\"hoverinfo\": \"name+text\", \"legendgroup\": \"4\", \"line\": {\"color\": \"red\", \"width\": 1}, \"name\": \"T4: 2/4 ok\", \"opacity\": 1, \"showlegend\": false, \"text\": [\"20262\", \"34877\", \"41146\", \"79641\", \"86195\"], \"x\": [170.40099999999995, 359.452], \"y\": [21.0637, 36.1999], \"type\": \"scatter\", \"uid\": \"956c8e98-9dc9-4f06-bbff-f47448e4673c\"}, {\"hoverinfo\": \"name+text\", \"legendgroup\": \"4\", \"line\": {\"color\": \"green\", \"width\": 1}, \"name\": \"T4: 2/4 ok\", \"opacity\": 1, \"showlegend\": false, \"text\": [\"20262\", \"34877\", \"41146\", \"79641\", \"86195\"], \"x\": [359.452, 503.503], \"y\": [36.1999, 42.0709], \"type\": \"scatter\", \"uid\": \"fb97b465-9157-4110-9ce4-499fc8b4377a\"}], {\"height\": 800, \"hovermode\": \"closest\", \"showlegend\": true, \"updatemenus\": [{\"buttons\": [{\"args\": [\"shapes\", []], \"label\": \"hide layers\", \"method\": \"relayout\"}, {\"args\": [\"shapes\", [{\"type\": \"circle\", \"x0\": -32, \"x1\": 32, \"y0\": -32, \"y1\": 32, \"opacity\": 0.5, \"layer\": \"below\", \"line\": {\"color\": \"#ccc\"}}, {\"type\": \"circle\", \"x0\": -72, \"x1\": 72, \"y0\": -72, \"y1\": 72, \"opacity\": 0.5, \"layer\": \"below\", \"line\": {\"color\": \"#ccc\"}}, {\"type\": \"circle\", \"x0\": -116, \"x1\": 116, \"y0\": -116, \"y1\": 116, \"opacity\": 0.5, \"layer\": \"below\", \"line\": {\"color\": \"#ccc\"}}, {\"type\": \"circle\", \"x0\": -172, \"x1\": 172, \"y0\": -172, \"y1\": 172, \"opacity\": 0.5, \"layer\": \"below\", \"line\": {\"color\": \"#ccc\"}}, {\"type\": \"circle\", \"x0\": -260, \"x1\": 260, \"y0\": -260, \"y1\": 260, \"opacity\": 0.5, \"layer\": \"below\", \"line\": {\"color\": \"#cccc8d\"}}, {\"type\": \"circle\", \"x0\": -360, \"x1\": 360, \"y0\": -360, \"y1\": 360, \"opacity\": 0.5, \"layer\": \"below\", \"line\": {\"color\": \"#cccc8d\"}}, {\"type\": \"circle\", \"x0\": -500, \"x1\": 500, \"y0\": -500, \"y1\": 500, \"opacity\": 0.5, \"layer\": \"below\", \"line\": {\"color\": \"#cccc8d\"}}, {\"type\": \"circle\", \"x0\": -660, \"x1\": 660, \"y0\": -660, \"y1\": 660, \"opacity\": 0.5, \"layer\": \"below\", \"line\": {\"color\": \"#cccc8d\"}}, {\"type\": \"circle\", \"x0\": -820, \"x1\": 820, \"y0\": -820, \"y1\": 820, \"opacity\": 0.5, \"layer\": \"below\", \"line\": {\"color\": \"#ccc\"}}, {\"type\": \"circle\", \"x0\": -1020, \"x1\": 1020, \"y0\": -1020, \"y1\": 1020, \"opacity\": 0.5, \"layer\": \"below\", \"line\": {\"color\": \"#ccc\"}}]], \"label\": \"show layers\", \"method\": \"relayout\"}], \"direction\": \"left\", \"pad\": {\"l\": 0.1}, \"type\": \"buttons\", \"xanchor\": \"left\", \"y\": 1.1, \"yanchor\": \"top\"}, {\"buttons\": [{\"args\": [{\"mode\": \"markers+lines\"}], \"label\": \"hits+tracks\", \"method\": \"update\"}, {\"args\": [{\"mode\": \"markers\"}], \"label\": \"hits only\", \"method\": \"update\"}], \"direction\": \"left\", \"pad\": {\"l\": 200}, \"type\": \"buttons\", \"xanchor\": \"left\", \"y\": 1.1, \"yanchor\": \"top\"}, {\"buttons\": [{\"args\": [\"yaxis.scaleanchor\", null], \"label\": \"free\", \"method\": \"relayout\"}, {\"args\": [\"yaxis.scaleanchor\", \"x\"], \"label\": \"fixed\", \"method\": \"relayout\"}], \"direction\": \"left\", \"pad\": {\"l\": 380}, \"type\": \"buttons\", \"xanchor\": \"left\", \"y\": 1.1, \"yanchor\": \"top\"}], \"width\": 800, \"xaxis\": {\"title\": \"x\"}, \"yaxis\": {\"title\": \"y\"}}, {\"showLink\": true, \"linkText\": \"Export to plot.ly\", \"plotlyServerURL\": \"https://plot.ly\"})});</script>"
      ],
      "text/vnd.plotly.v1+html": [
       "<div id=\"6cb22ce3-5792-4e44-8091-c09efb7abfbb\" style=\"height: 800px; width: 800px;\" class=\"plotly-graph-div\"></div><script type=\"text/javascript\">require([\"plotly\"], function(Plotly) { window.PLOTLYENV=window.PLOTLYENV || {};window.PLOTLYENV.BASE_URL=\"https://plot.ly\";Plotly.newPlot(\"6cb22ce3-5792-4e44-8091-c09efb7abfbb\", [{\"hoverinfo\": \"name+text\", \"legendgroup\": \"True\", \"line\": {\"color\": \"darkseagreen\", \"width\": 1}, \"name\": \"T0: real\", \"opacity\": 1, \"showlegend\": true, \"text\": [\"82090\", \"88632\", \"94896\", \"110783\", \"116120\"], \"x\": [-15.6281, -48.3976], \"y\": [-358.871, -494.939], \"type\": \"scatter\", \"uid\": \"32ff2da2-57ec-423a-898c-58e790ffa1ce\"}, {\"hoverinfo\": \"name+text\", \"legendgroup\": \"True\", \"line\": {\"color\": \"darkseagreen\", \"width\": 1}, \"name\": \"T0: real\", \"opacity\": 1, \"showlegend\": false, \"text\": [\"82090\", \"88632\", \"94896\", \"110783\", \"116120\"], \"x\": [-48.3976, -107.941], \"y\": [-494.939, -654.971], \"type\": \"scatter\", \"uid\": \"30df9cd7-9cae-4da4-8a43-3d464a99d566\"}, {\"hoverinfo\": \"name+text\", \"legendgroup\": \"True\", \"line\": {\"color\": \"darkseagreen\", \"width\": 1}, \"name\": \"T0: real\", \"opacity\": 1, \"showlegend\": false, \"text\": [\"82090\", \"88632\", \"94896\", \"110783\", \"116120\"], \"x\": [-107.941, -184.63], \"y\": [-654.971, -801.703], \"type\": \"scatter\", \"uid\": \"471a1d36-285a-45e9-ac10-4234b25bef04\"}, {\"hoverinfo\": \"name+text\", \"legendgroup\": \"True\", \"line\": {\"color\": \"darkseagreen\", \"width\": 1}, \"name\": \"T0: real\", \"opacity\": 1, \"showlegend\": false, \"text\": [\"82090\", \"88632\", \"94896\", \"110783\", \"116120\"], \"x\": [-184.63, -306.828], \"y\": [-801.703, -971.876], \"type\": \"scatter\", \"uid\": \"0a1cbec4-99e1-40b5-9140-04dffe58b1f9\"}, {\"hoverinfo\": \"name+text\", \"legendgroup\": \"True\", \"line\": {\"color\": \"darkseagreen\", \"width\": 1}, \"name\": \"T1: real\", \"opacity\": 1, \"showlegend\": false, \"text\": [\"37198\", \"44045\", \"75480\", \"82723\", \"95378\", \"111471\"], \"x\": [-13.5617, -16.8728], \"y\": [114.204, 171.016], \"type\": \"scatter\", \"uid\": \"449e57fc-44d7-4d32-aa80-cf0c748d9344\"}, {\"hoverinfo\": \"name+text\", \"legendgroup\": \"True\", \"line\": {\"color\": \"darkseagreen\", \"width\": 1}, \"name\": \"T1: real\", \"opacity\": 1, \"showlegend\": false, \"text\": [\"37198\", \"44045\", \"75480\", \"82723\", \"95378\", \"111471\"], \"x\": [-16.8728, -17.738], \"y\": [171.016, 257.521], \"type\": \"scatter\", \"uid\": \"8bb1c81f-d0ff-4a43-8b8b-2675a3739ded\"}, {\"hoverinfo\": \"name+text\", \"legendgroup\": \"True\", \"line\": {\"color\": \"darkseagreen\", \"width\": 1}, \"name\": \"T1: real\", \"opacity\": 1, \"showlegend\": false, \"text\": [\"37198\", \"44045\", \"75480\", \"82723\", \"95378\", \"111471\"], \"x\": [-17.738, -11.9561], \"y\": [257.521, 360.148], \"type\": \"scatter\", \"uid\": \"41f3b913-b698-47fa-a050-dd5a1c216cff\"}, {\"hoverinfo\": \"name+text\", \"legendgroup\": \"True\", \"line\": {\"color\": \"darkseagreen\", \"width\": 1}, \"name\": \"T1: real\", \"opacity\": 1, \"showlegend\": false, \"text\": [\"37198\", \"44045\", \"75480\", \"82723\", \"95378\", \"111471\"], \"x\": [-11.9561, 48.5453], \"y\": [360.148, 655.5310000000002], \"type\": \"scatter\", \"uid\": \"6a53d702-1617-4c08-b958-63786179b8d5\"}, {\"hoverinfo\": \"name+text\", \"legendgroup\": \"True\", \"line\": {\"color\": \"darkseagreen\", \"width\": 1}, \"name\": \"T1: real\", \"opacity\": 1, \"showlegend\": false, \"text\": [\"37198\", \"44045\", \"75480\", \"82723\", \"95378\", \"111471\"], \"x\": [48.5453, 109.848], \"y\": [655.5310000000002, 813.716], \"type\": \"scatter\", \"uid\": \"70201960-2443-4a0d-98bc-ef4b3d463344\"}, {\"hoverinfo\": \"name+text\", \"legendgroup\": \"True\", \"line\": {\"color\": \"green\", \"width\": 1}, \"name\": \"T2: real\", \"opacity\": 1, \"showlegend\": false, \"text\": [\"21265\", \"29504\", \"42350\", \"73830\", \"80933\"], \"x\": [-31.6364, -70.206], \"y\": [6.18379, 14.1226], \"type\": \"scatter\", \"uid\": \"e5358cb2-20a6-4167-9e06-a1d217cffc17\"}, {\"hoverinfo\": \"name+text\", \"legendgroup\": \"True\", \"line\": {\"color\": \"green\", \"width\": 1}, \"name\": \"T2: real\", \"opacity\": 1, \"showlegend\": false, \"text\": [\"21265\", \"29504\", \"42350\", \"73830\", \"80933\"], \"x\": [-70.206, -168.155], \"y\": [14.1226, 36.3725], \"type\": \"scatter\", \"uid\": \"5fef5a44-9dcf-4b9b-82c2-b990f663778b\"}, {\"hoverinfo\": \"name+text\", \"legendgroup\": \"True\", \"line\": {\"color\": \"green\", \"width\": 1}, \"name\": \"T2: real\", \"opacity\": 1, \"showlegend\": false, \"text\": [\"21265\", \"29504\", \"42350\", \"73830\", \"80933\"], \"x\": [-168.155, -255.151], \"y\": [36.3725, 58.8872], \"type\": \"scatter\", \"uid\": \"5887972e-7695-4c42-9f6a-f1f022205bd0\"}, {\"hoverinfo\": \"name+text\", \"legendgroup\": \"True\", \"line\": {\"color\": \"green\", \"width\": 1}, \"name\": \"T2: real\", \"opacity\": 1, \"showlegend\": false, \"text\": [\"21265\", \"29504\", \"42350\", \"73830\", \"80933\"], \"x\": [-255.151, -353.285], \"y\": [58.8872, 87.1991], \"type\": \"scatter\", \"uid\": \"6e9179cd-762b-43b6-9963-8cca2f4dd286\"}, {\"hoverinfo\": \"name+text\", \"legendgroup\": \"True\", \"line\": {\"color\": \"green\", \"width\": 1}, \"name\": \"T3: real\", \"opacity\": 1, \"showlegend\": false, \"text\": [\"23536\", \"31418\", \"38524\", \"45067\", \"76902\"], \"x\": [-30.9263, -68.8454], \"y\": [9.9814, 22.8573], \"type\": \"scatter\", \"uid\": \"17f3d054-dd99-4bc9-806b-325ad5d128ea\"}, {\"hoverinfo\": \"name+text\", \"legendgroup\": \"True\", \"line\": {\"color\": \"green\", \"width\": 1}, \"name\": \"T3: real\", \"opacity\": 1, \"showlegend\": false, \"text\": [\"23536\", \"31418\", \"38524\", \"45067\", \"76902\"], \"x\": [-68.8454, -109.987], \"y\": [22.8573, 37.6253], \"type\": \"scatter\", \"uid\": \"217f44e9-cadd-4e38-b915-98f32934d9aa\"}, {\"hoverinfo\": \"name+text\", \"legendgroup\": \"True\", \"line\": {\"color\": \"green\", \"width\": 1}, \"name\": \"T3: real\", \"opacity\": 1, \"showlegend\": false, \"text\": [\"23536\", \"31418\", \"38524\", \"45067\", \"76902\"], \"x\": [-109.987, -161.876], \"y\": [37.6253, 57.4577], \"type\": \"scatter\", \"uid\": \"242c61cf-57ae-477f-8850-477a1997939a\"}, {\"hoverinfo\": \"name+text\", \"legendgroup\": \"True\", \"line\": {\"color\": \"green\", \"width\": 1}, \"name\": \"T3: real\", \"opacity\": 1, \"showlegend\": false, \"text\": [\"23536\", \"31418\", \"38524\", \"45067\", \"76902\"], \"x\": [-161.876, -246.02], \"y\": [57.4577, 92.7332], \"type\": \"scatter\", \"uid\": \"24267186-5196-4bbf-9049-247218bee17a\"}, {\"hoverinfo\": \"name+text\", \"legendgroup\": \"4\", \"line\": {\"color\": \"red\", \"width\": 1}, \"name\": \"T4: 2/4 ok\", \"opacity\": 1, \"showlegend\": true, \"text\": [\"20262\", \"34877\", \"41146\", \"79641\", \"86195\"], \"x\": [32.2451, 114.433], \"y\": [4.53326, 14.9217], \"type\": \"scatter\", \"uid\": \"06fc7efe-aa1a-4023-ae3e-4636ddd0f22b\"}, {\"hoverinfo\": \"name+text\", \"legendgroup\": \"4\", \"line\": {\"color\": \"green\", \"width\": 1}, \"name\": \"T4: 2/4 ok\", \"opacity\": 1, \"showlegend\": false, \"text\": [\"20262\", \"34877\", \"41146\", \"79641\", \"86195\"], \"x\": [114.433, 170.40099999999995], \"y\": [14.9217, 21.0637], \"type\": \"scatter\", \"uid\": \"040a103e-892a-46b1-b8ea-a4767bc9464f\"}, {\"hoverinfo\": \"name+text\", \"legendgroup\": \"4\", \"line\": {\"color\": \"red\", \"width\": 1}, \"name\": \"T4: 2/4 ok\", \"opacity\": 1, \"showlegend\": false, \"text\": [\"20262\", \"34877\", \"41146\", \"79641\", \"86195\"], \"x\": [170.40099999999995, 359.452], \"y\": [21.0637, 36.1999], \"type\": \"scatter\", \"uid\": \"956c8e98-9dc9-4f06-bbff-f47448e4673c\"}, {\"hoverinfo\": \"name+text\", \"legendgroup\": \"4\", \"line\": {\"color\": \"green\", \"width\": 1}, \"name\": \"T4: 2/4 ok\", \"opacity\": 1, \"showlegend\": false, \"text\": [\"20262\", \"34877\", \"41146\", \"79641\", \"86195\"], \"x\": [359.452, 503.503], \"y\": [36.1999, 42.0709], \"type\": \"scatter\", \"uid\": \"fb97b465-9157-4110-9ce4-499fc8b4377a\"}], {\"height\": 800, \"hovermode\": \"closest\", \"showlegend\": true, \"updatemenus\": [{\"buttons\": [{\"args\": [\"shapes\", []], \"label\": \"hide layers\", \"method\": \"relayout\"}, {\"args\": [\"shapes\", [{\"type\": \"circle\", \"x0\": -32, \"x1\": 32, \"y0\": -32, \"y1\": 32, \"opacity\": 0.5, \"layer\": \"below\", \"line\": {\"color\": \"#ccc\"}}, {\"type\": \"circle\", \"x0\": -72, \"x1\": 72, \"y0\": -72, \"y1\": 72, \"opacity\": 0.5, \"layer\": \"below\", \"line\": {\"color\": \"#ccc\"}}, {\"type\": \"circle\", \"x0\": -116, \"x1\": 116, \"y0\": -116, \"y1\": 116, \"opacity\": 0.5, \"layer\": \"below\", \"line\": {\"color\": \"#ccc\"}}, {\"type\": \"circle\", \"x0\": -172, \"x1\": 172, \"y0\": -172, \"y1\": 172, \"opacity\": 0.5, \"layer\": \"below\", \"line\": {\"color\": \"#ccc\"}}, {\"type\": \"circle\", \"x0\": -260, \"x1\": 260, \"y0\": -260, \"y1\": 260, \"opacity\": 0.5, \"layer\": \"below\", \"line\": {\"color\": \"#cccc8d\"}}, {\"type\": \"circle\", \"x0\": -360, \"x1\": 360, \"y0\": -360, \"y1\": 360, \"opacity\": 0.5, \"layer\": \"below\", \"line\": {\"color\": \"#cccc8d\"}}, {\"type\": \"circle\", \"x0\": -500, \"x1\": 500, \"y0\": -500, \"y1\": 500, \"opacity\": 0.5, \"layer\": \"below\", \"line\": {\"color\": \"#cccc8d\"}}, {\"type\": \"circle\", \"x0\": -660, \"x1\": 660, \"y0\": -660, \"y1\": 660, \"opacity\": 0.5, \"layer\": \"below\", \"line\": {\"color\": \"#cccc8d\"}}, {\"type\": \"circle\", \"x0\": -820, \"x1\": 820, \"y0\": -820, \"y1\": 820, \"opacity\": 0.5, \"layer\": \"below\", \"line\": {\"color\": \"#ccc\"}}, {\"type\": \"circle\", \"x0\": -1020, \"x1\": 1020, \"y0\": -1020, \"y1\": 1020, \"opacity\": 0.5, \"layer\": \"below\", \"line\": {\"color\": \"#ccc\"}}]], \"label\": \"show layers\", \"method\": \"relayout\"}], \"direction\": \"left\", \"pad\": {\"l\": 0.1}, \"type\": \"buttons\", \"xanchor\": \"left\", \"y\": 1.1, \"yanchor\": \"top\"}, {\"buttons\": [{\"args\": [{\"mode\": \"markers+lines\"}], \"label\": \"hits+tracks\", \"method\": \"update\"}, {\"args\": [{\"mode\": \"markers\"}], \"label\": \"hits only\", \"method\": \"update\"}], \"direction\": \"left\", \"pad\": {\"l\": 200}, \"type\": \"buttons\", \"xanchor\": \"left\", \"y\": 1.1, \"yanchor\": \"top\"}, {\"buttons\": [{\"args\": [\"yaxis.scaleanchor\", null], \"label\": \"free\", \"method\": \"relayout\"}, {\"args\": [\"yaxis.scaleanchor\", \"x\"], \"label\": \"fixed\", \"method\": \"relayout\"}], \"direction\": \"left\", \"pad\": {\"l\": 380}, \"type\": \"buttons\", \"xanchor\": \"left\", \"y\": 1.1, \"yanchor\": \"top\"}], \"width\": 800, \"xaxis\": {\"title\": \"x\"}, \"yaxis\": {\"title\": \"y\"}}, {\"showLink\": true, \"linkText\": \"Export to plot.ly\", \"plotlyServerURL\": \"https://plot.ly\"})});</script>"
      ]
     },
     "metadata": {},
     "output_type": "display_data"
    }
   ],
   "source": [
    "from hepqpr.qallse import DataWrapper\n",
    "from hepqpr.qallse.cli.func import process_response_vqe\n",
    "from hepqpr.qallse.plotting import *\n",
    "\n",
    "set_notebook_mode() # if running inside a notebook\n",
    "\n",
    "# load the dataset and the response_vqe (created using the qallse tool)\n",
    "dw = DataWrapper.from_path('C:/Users/timsc/hepqpr-qallse-data/ds1/event000001000-hits.csv')\n",
    "with open('C:/Users/timsc/hepqpr-qallse-data/ds1/evt1000-ds1-vqe-0-response.pickle', 'rb') as f: \n",
    "    import pickle\n",
    "    response_vqe = pickle.load(f)\n",
    "\n",
    "# process the response_vqe and get the set of missing doublets\n",
    "final_doublets, final_tracks, energy = process_response_vqe(response_vqe)\n",
    "precision, recall, missings = dw.compute_score(final_doublets)\n",
    "\n",
    "# plotting examples\n",
    "iplot_results(dw, final_doublets, missings)\n",
    "iplot_results(dw, final_doublets, missings, dims=list('zr'))\n",
    "iplot_results_tracks(dw, final_tracks)"
   ]
  },
  {
   "cell_type": "code",
   "execution_count": 5,
   "id": "77e0b1c6",
   "metadata": {},
   "outputs": [],
   "source": [
    "import numpy as np\n",
    "from numpy.random import random_sample\n",
    "import matplotlib.pyplot as plt\n",
    "import pylab\n",
    "from qiskit import Aer\n",
    "from qiskit import IBMQ\n",
    "from qiskit import QuantumCircuit\n",
    "from qiskit.opflow import X, Z, I, CircuitSampler, ExpectationFactory, PauliExpectation, CircuitStateFn, StateFn\n",
    "from qiskit.utils import QuantumInstance, algorithm_globals\n",
    "from qiskit.algorithms import VQE, NumPyMinimumEigensolver\n",
    "from qiskit.algorithms.optimizers import COBYLA, L_BFGS_B, SPSA, QNSPSA, NFT\n",
    "from qiskit.circuit import ParameterVector\n",
    "from qiskit.circuit.library import EfficientSU2\n",
    "from qiskit.providers.aer.noise import NoiseModel, ReadoutError\n",
    "import os\n",
    "from os import listdir\n",
    "from os.path import isfile, join\n",
    "import ast\n",
    "import pickle\n",
    "import argparse\n",
    "from math import sqrt\n",
    "import threading\n",
    "import concurrent.futures\n",
    "from copy import copy"
   ]
  },
  {
   "cell_type": "code",
   "execution_count": 8,
   "id": "eaf047e4",
   "metadata": {},
   "outputs": [],
   "source": [
    "with open('C:/Users/timsc/hepqpr-qallse-data/ds1/sub_qubos/evt1000-ds1-sub0-qubo.pickle', 'rb') as f:\n",
    "    sub_qubo = pickle.load(f)"
   ]
  },
  {
   "cell_type": "code",
   "execution_count": 23,
   "id": "c8e6fdaf",
   "metadata": {},
   "outputs": [],
   "source": [
    "def slice_qubo(Q, xplets):\n",
    "\n",
    "    '''Split QUBO into sub-QUBOs. Implementation not efficient !'''\n",
    "\n",
    "    def linear_qubo(Q):\n",
    "        Q_linear = {}\n",
    "        triplets = []\n",
    "        for key, item in Q.items():\n",
    "            if key[0] == key[1]:\n",
    "                Q_linear[key] = item\n",
    "                triplets.append(key[0])\n",
    "\n",
    "        for key in Q:\n",
    "            if key[0] not in triplets:\n",
    "                Q_linear[(key[0], key[1])] = 0.\n",
    "                triplets.append(key[0])\n",
    "            if key[1] not in triplets:\n",
    "                Q_linear[(key[1], key[1])] = 0.\n",
    "                triplets.append(key[0])\n",
    "\n",
    "        return Q_linear\n",
    "\n",
    "    def max_rz_angle(qubo_entry, xplets):\n",
    "\n",
    "        rz_t1_d1 = xplets[xplets[qubo_entry[0][0]]['d1']]['rz_angle']\n",
    "        rz_t1_d2 = xplets[xplets[qubo_entry[0][0]]['d2']]['rz_angle']\n",
    "        rz_t2_d1 = xplets[xplets[qubo_entry[0][1]]['d1']]['rz_angle']\n",
    "        rz_t2_d2 = xplets[xplets[qubo_entry[0][1]]['d2']]['rz_angle']\n",
    "\n",
    "        return max(rz_t1_d1, rz_t1_d2, rz_t2_d1 ,rz_t2_d2)\n",
    "\n",
    "    Q_linear = linear_qubo(Q)\n",
    "    Q_linear_list = sorted(Q_linear.items(), key = lambda qubo_entry: max_rz_angle(qubo_entry, xplets))\n",
    "    size = 19\n",
    "    Q_linear_slices = [dict(Q_linear_list[i*size:(i+1)*size]) for i in range(len(Q_linear_list)//size)]\n",
    "    if len(Q_linear_list) % size != 0:\n",
    "        Q_linear_slices.append(dict(Q_linear_list[-(len(Q_linear_list) % size):]))\n",
    "\n",
    "    Q_slices = []\n",
    "    for Q_linear_slice in Q_linear_slices:\n",
    "        triplets = [x[0] for x in Q_linear_slice.keys()]\n",
    "        Q_slice = {}\n",
    "        for key, item in Q.items():\n",
    "            if key[0] in triplets and key[1] in triplets:\n",
    "                Q_slice[(key[0], key[1])] = item\n",
    "        Q_slices.append(Q_slice)\n",
    "\n",
    "    return Q_slices\n",
    "\n",
    "\n",
    "def prepare_data_dicts(data):\n",
    "\n",
    "    '''Translate input data into iterable dictionaries'''\n",
    "\n",
    "    b_ij = {}\n",
    "    a_i = {}\n",
    "    relations = {}\n",
    "    k = 0\n",
    "\n",
    "    def complete_b_ij(b_ij, nqubits):\n",
    "\n",
    "        for i in range(nqubits):\n",
    "            for j in range(i):\n",
    "                if (i, j) not in b_ij:\n",
    "\n",
    "                    b_ij[(i, j)] = 0\n",
    "\n",
    "        return b_ij\n",
    "\n",
    "\n",
    "    def complete_a_i(a_i, nqubits):\n",
    "\n",
    "        for i in range(nqubits):\n",
    "            if i not in a_i:\n",
    "\n",
    "                a_i[i] = 0\n",
    "\n",
    "        return a_i\n",
    "\n",
    "    for key in data:\n",
    "        if key[1] in relations:\n",
    "\n",
    "            j = relations[key[1]]\n",
    "\n",
    "        else:\n",
    "\n",
    "            j = k\n",
    "            relations[key[1]] = j\n",
    "            k += 1\n",
    "\n",
    "\n",
    "        if key[0] in relations:\n",
    "\n",
    "            i = relations[key[0]]\n",
    "\n",
    "        else:\n",
    "\n",
    "            i = k\n",
    "            relations[key[0]] = i\n",
    "            k += 1\n",
    "\n",
    "        if i > j:\n",
    "\n",
    "            b_ij.update({(i, j) : data[(key[0], key[1])]})\n",
    "\n",
    "        elif i < j:\n",
    "\n",
    "            b_ij.update({(j, i) : data[(key[0], key[1])]})\n",
    "\n",
    "        elif i == j:\n",
    "\n",
    "            a_i.update({i : data[(key[0], key[1])]})\n",
    "\n",
    "    nqubits = len(relations)\n",
    "    b_ij = complete_b_ij(b_ij, nqubits)\n",
    "    a_i = complete_a_i(a_i, nqubits)\n",
    "\n",
    "    return b_ij, a_i, relations\n",
    "\n",
    "\n",
    "def Tracking_Hamiltonian(b_ij, a_i):\n",
    "\n",
    "    '''Given coupling strenghts b_ij and bias weights a_i return the tracking Hamiltonian as a Qiskit PauliOp object'''\n",
    "\n",
    "    nqubits = len(a_i)\n",
    "\n",
    "    H = I - I\n",
    "    H = H^nqubits\n",
    "\n",
    "    #prepare quadratic term\n",
    "    for i in range(nqubits):\n",
    "        for j in range(i):\n",
    "\n",
    "            n_left = nqubits - i - 1\n",
    "            n_middle = i - j - 1\n",
    "            n_right = j\n",
    "\n",
    "            temp = Z\n",
    "\n",
    "            if n_left > 0:\n",
    "\n",
    "                id_left = I^n_left\n",
    "                temp = id_left^temp\n",
    "\n",
    "            if n_middle > 0:\n",
    "\n",
    "                id_middle = I^n_middle\n",
    "                temp = temp^id_middle\n",
    "\n",
    "            temp = temp^Z\n",
    "\n",
    "            if n_right > 0:\n",
    "\n",
    "                id_right = I^n_right\n",
    "                temp = temp^id_right\n",
    "\n",
    "            H += b_ij[(i, j)] * temp\n",
    "\n",
    "    #prepare linear term\n",
    "    for i in range(nqubits):\n",
    "\n",
    "        bias = 0\n",
    "        for j in range(nqubits):\n",
    "            if j<i:\n",
    "                bias += b_ij[(i,j)]\n",
    "            if i<j:\n",
    "                bias += b_ij[(j,i)]\n",
    "\n",
    "        bias += 2*a_i[i]\n",
    "\n",
    "        n_left = nqubits - i - 1\n",
    "        n_right = i\n",
    "\n",
    "        temp = Z\n",
    "\n",
    "        if n_left > 0:\n",
    "\n",
    "            id_left = I^n_left\n",
    "            temp = id_left^temp\n",
    "\n",
    "        if n_right > 0:\n",
    "\n",
    "            id_right = I^n_right\n",
    "            temp = temp^id_right\n",
    "\n",
    "        H += -1.0 * bias * temp\n",
    "\n",
    "    return H\n",
    "\n",
    "\n",
    "def construct_rotation_layer(n_qubits, gate, params):\n",
    "\n",
    "    qc = QuantumCircuit(n_qubits)\n",
    "\n",
    "    for i in range(n_qubits):\n",
    "        if gate == 'rx':\n",
    "            qc.rx(params[i], i)\n",
    "\n",
    "        elif gate == 'ry':\n",
    "            qc.ry(params[i], i)\n",
    "\n",
    "        elif gate == 'rz':\n",
    "            qc.rz(params[i], i)\n",
    "\n",
    "    return qc\n",
    "\n",
    "def construct_entanglement_layer(n_qubits, entanglement, inverse=False):\n",
    "\n",
    "    qc = QuantumCircuit(n_qubits)\n",
    "\n",
    "    if inverse==False:\n",
    "        if entanglement == 'full':\n",
    "            for i in range(n_qubits):\n",
    "                for j in range(i):\n",
    "                    qc.cnot(j, i)\n",
    "\n",
    "        elif entanglement == 'linear':\n",
    "            for i in range(n_qubits-1):\n",
    "                qc.cnot(i,i+1)\n",
    "\n",
    "        elif entanglement == None:\n",
    "            pass\n",
    "\n",
    "    elif inverse==True:\n",
    "        if entanglement == 'full':\n",
    "            for i in reversed(range(n_qubits)):\n",
    "                for j in range(i):\n",
    "                    qc.cnot(j, i)\n",
    "\n",
    "        elif entanglement == 'linear':\n",
    "            for i in reversed(range(n_qubits-1)):\n",
    "                qc.cnot(i,i+1)\n",
    "\n",
    "        elif entanglement == None:\n",
    "            pass\n",
    "\n",
    "    return qc\n",
    "\n",
    "\n",
    "def translate_vqe_result(result, relations):\n",
    "\n",
    "    result_translated = {}\n",
    "    relations_inv = {v: k for k, v in relations.items()}\n",
    "    counts = result['eigenstate']\n",
    "    key_max = max(counts, key = lambda x: counts[x])\n",
    "    #reverse string because of qiskit convention for counting qubits\n",
    "    key_max_reverse = key_max[::-1]\n",
    "    for count, value in enumerate(key_max_reverse):\n",
    "        result_translated[relations_inv[count]]=int(value)\n",
    "\n",
    "    return result_translated\n",
    "\n",
    "\n",
    "def solve_vqe(Q_slices):\n",
    "\n",
    "    n_slices = len(Q_slices)\n",
    "\n",
    "    result_dict = {}\n",
    "    result_total = {}\n",
    "    energy_total = 0\n",
    "\n",
    "    global lock\n",
    "    lock = threading.Lock()\n",
    "    with concurrent.futures.ThreadPoolExecutor(max_workers=n_slices+1) as executor:\n",
    "         for result_best in executor.map(solve_vqe_ten, Q_slices):\n",
    "            result_total.update(result_best['counts'])\n",
    "            energy_total += result_best['energy']\n",
    "\n",
    "    result_dict['counts'] = result_total\n",
    "    result_dict['energy'] = energy_total\n",
    "\n",
    "    return result_dict\n",
    "\n",
    "\n",
    "def solve_vqe_ten(Q):\n",
    "\n",
    "    b_ij, a_i, relations = prepare_data_dicts(Q)\n",
    "    op = Tracking_Hamiltonian(b_ij, a_i)\n",
    "    n_qubits = len(relations)\n",
    "    params = ParameterVector('params', n_qubits)\n",
    "    ansatz = construct_rotation_layer(n_qubits, 'ry', params[0:n_qubits])\n",
    "    optimizer = COBYLA(maxiter=0)\n",
    "    initial_point = [2 * np.pi * x for x in random_sample(n_qubits)]\n",
    "    options = {'backend_name': 'ibmq_qasm_simulator'}\n",
    "    runtime_inputs = {\n",
    "    'ansatz': ansatz,\n",
    "    'aux_operators': None,\n",
    "    'initial_layout': None,\n",
    "    'initial_parameters': initial_point,\n",
    "    'measurement_error_mitigation': None,\n",
    "    'operator': op,\n",
    "    'optimizer': optimizer,\n",
    "    'shots': 512\n",
    "    }\n",
    "    IBMQ.load_account()\n",
    "    provider = IBMQ.get_provider(hub='ibm-q-desy', group='internal', project='tracking')\n",
    "    \n",
    "    job = provider.runtime.run(program_id='vqe',options=options,inputs=runtime_inputs)\n",
    "    result = job.result()\n",
    "    energy = result['optimal_value']\n",
    "    result_translated = translate_vqe_result(result, relations)\n",
    "\n",
    "\n",
    "    return result_translated, energy"
   ]
  },
  {
   "cell_type": "code",
   "execution_count": 24,
   "id": "d89088b4",
   "metadata": {},
   "outputs": [
    {
     "name": "stderr",
     "output_type": "stream",
     "text": [
      "ibmqfactory.load_account:WARNING:2022-06-17 13:08:13,262: Credentials are already in use. The existing account in the session will be replaced.\n"
     ]
    }
   ],
   "source": [
    "result_translated, energy = solve_vqe_ten(sub_qubo[1])"
   ]
  },
  {
   "cell_type": "code",
   "execution_count": null,
   "id": "0106585c",
   "metadata": {},
   "outputs": [],
   "source": []
  }
 ],
 "metadata": {
  "kernelspec": {
   "display_name": "Python 3 (ipykernel)",
   "language": "python",
   "name": "python3"
  },
  "language_info": {
   "codemirror_mode": {
    "name": "ipython",
    "version": 3
   },
   "file_extension": ".py",
   "mimetype": "text/x-python",
   "name": "python",
   "nbconvert_exporter": "python",
   "pygments_lexer": "ipython3",
   "version": "3.7.13"
  }
 },
 "nbformat": 4,
 "nbformat_minor": 5
}
