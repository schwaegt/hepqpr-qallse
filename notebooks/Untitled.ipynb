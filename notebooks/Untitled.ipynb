{
 "cells": [
  {
   "cell_type": "code",
   "execution_count": 1,
   "id": "97857f4c",
   "metadata": {},
   "outputs": [],
   "source": [
    "import pickle\n",
    "from hepqpr.qallse import DataWrapper\n",
    "from hepqpr.qallse.cli.func import process_response, process_response_vqe, process_response_eigensolver\n",
    "from hepqpr.qallse.plotting import *"
   ]
  },
  {
   "cell_type": "code",
   "execution_count": 2,
   "id": "35d07426",
   "metadata": {},
   "outputs": [
    {
     "data": {
      "text/html": [
       "<script type=\"text/javascript\">window.PlotlyConfig = {MathJaxConfig: 'local'};</script><script type=\"text/javascript\">if (window.MathJax) {MathJax.Hub.Config({SVG: {font: \"STIX-Web\"}});}</script><script>requirejs.config({paths: { 'plotly': ['https://cdn.plot.ly/plotly-latest.min']},});if(!window._Plotly) {require(['plotly'],function(plotly) {window._Plotly=plotly;});}</script>"
      ],
      "text/vnd.plotly.v1+html": [
       "<script type=\"text/javascript\">window.PlotlyConfig = {MathJaxConfig: 'local'};</script><script type=\"text/javascript\">if (window.MathJax) {MathJax.Hub.Config({SVG: {font: \"STIX-Web\"}});}</script><script>requirejs.config({paths: { 'plotly': ['https://cdn.plot.ly/plotly-latest.min']},});if(!window._Plotly) {require(['plotly'],function(plotly) {window._Plotly=plotly;});}</script>"
      ]
     },
     "metadata": {},
     "output_type": "display_data"
    },
    {
     "data": {
      "application/vnd.plotly.v1+json": {
       "config": {
        "linkText": "Export to plot.ly",
        "plotlyServerURL": "https://plot.ly",
        "showLink": true
       },
       "data": [
        {
         "hoverinfo": "name+text",
         "legendgroup": "real_unfocused",
         "line": {
          "color": "darkseagreen",
          "width": 1
         },
         "name": "real_unfocused",
         "opacity": 1,
         "showlegend": true,
         "text": [
          "18246",
          "27129"
         ],
         "type": "scatter",
         "uid": "4613b4bb-27c7-4a00-89f5-1b73b439c7d2",
         "x": [
          -21.7191,
          -49.4278
         ],
         "y": [
          -22.879,
          -53.6609
         ]
        },
        {
         "hoverinfo": "name+text",
         "legendgroup": "real_unfocused",
         "line": {
          "color": "darkseagreen",
          "width": 1
         },
         "name": "real_unfocused",
         "opacity": 1,
         "showlegend": false,
         "text": [
          "27129",
          "34226"
         ],
         "type": "scatter",
         "uid": "2fb01647-ecd1-41c7-addc-1ad7989ebc1c",
         "x": [
          -49.4278,
          -76.6251
         ],
         "y": [
          -53.6609,
          -85.78
         ]
        },
        {
         "hoverinfo": "name+text",
         "legendgroup": "real_unfocused",
         "line": {
          "color": "darkseagreen",
          "width": 1
         },
         "name": "real_unfocused",
         "opacity": 1,
         "showlegend": false,
         "text": [
          "34226",
          "40268"
         ],
         "type": "scatter",
         "uid": "fc3477d5-c063-495e-9f84-1655a75a8feb",
         "x": [
          -76.6251,
          -111.405
         ],
         "y": [
          -85.78,
          -130.203
         ]
        },
        {
         "hoverinfo": "name+text",
         "legendgroup": "real_unfocused",
         "line": {
          "color": "darkseagreen",
          "width": 1
         },
         "name": "real_unfocused",
         "opacity": 1,
         "showlegend": false,
         "text": [
          "40268",
          "72036"
         ],
         "type": "scatter",
         "uid": "dabd2e21-9fd1-4b89-a7dc-e4cbc2e3e9ab",
         "x": [
          -111.405,
          -163.782
         ],
         "y": [
          -130.203,
          -205.827
         ]
        },
        {
         "hoverinfo": "name+text",
         "legendgroup": "real_unfocused",
         "line": {
          "color": "darkseagreen",
          "width": 1
         },
         "name": "real_unfocused",
         "opacity": 1,
         "showlegend": false,
         "text": [
          "72036",
          "78762"
         ],
         "type": "scatter",
         "uid": "7d484f20-c63c-4a89-9251-2874c9c90744",
         "x": [
          -163.782,
          -213.656
         ],
         "y": [
          -205.827,
          -290.52
         ]
        },
        {
         "hoverinfo": "name+text",
         "legendgroup": "real_unfocused",
         "line": {
          "color": "darkseagreen",
          "width": 1
         },
         "name": "real_unfocused",
         "opacity": 1,
         "showlegend": false,
         "text": [
          "23050",
          "30426"
         ],
         "type": "scatter",
         "uid": "db85cd74-889a-4d2d-9c4b-12daa76dbeb6",
         "x": [
          -4.64343,
          -9.44367
         ],
         "y": [
          31.6821,
          70.8192
         ]
        },
        {
         "hoverinfo": "name+text",
         "legendgroup": "real_unfocused",
         "line": {
          "color": "darkseagreen",
          "width": 1
         },
         "name": "real_unfocused",
         "opacity": 1,
         "showlegend": false,
         "text": [
          "30426",
          "37198"
         ],
         "type": "scatter",
         "uid": "325a04a3-97f1-4bf3-b178-a13e32288556",
         "x": [
          -9.44367,
          -13.5617
         ],
         "y": [
          70.8192,
          114.204
         ]
        },
        {
         "hoverinfo": "name+text",
         "legendgroup": "real_unfocused",
         "line": {
          "color": "darkseagreen",
          "width": 1
         },
         "name": "real_unfocused",
         "opacity": 1,
         "showlegend": false,
         "text": [
          "37198",
          "44045"
         ],
         "type": "scatter",
         "uid": "e3320ee7-e4e9-4245-8380-5335c8432e67",
         "x": [
          -13.5617,
          -16.8728
         ],
         "y": [
          114.204,
          171.016
         ]
        },
        {
         "hoverinfo": "name+text",
         "legendgroup": "real_unfocused",
         "line": {
          "color": "darkseagreen",
          "width": 1
         },
         "name": "real_unfocused",
         "opacity": 1,
         "showlegend": false,
         "text": [
          "44045",
          "75480"
         ],
         "type": "scatter",
         "uid": "34a93ac4-d88d-4039-bbe0-6196ad2a17bf",
         "x": [
          -16.8728,
          -17.738
         ],
         "y": [
          171.016,
          257.521
         ]
        },
        {
         "hoverinfo": "name+text",
         "legendgroup": "real_unfocused",
         "line": {
          "color": "darkseagreen",
          "width": 1
         },
         "name": "real_unfocused",
         "opacity": 1,
         "showlegend": false,
         "text": [
          "75480",
          "82723"
         ],
         "type": "scatter",
         "uid": "08d5c3db-5e52-4fd8-b58d-76e9eed78a9d",
         "x": [
          -17.738,
          -11.9561
         ],
         "y": [
          257.521,
          360.148
         ]
        },
        {
         "hoverinfo": "name+text",
         "legendgroup": "real_unfocused",
         "line": {
          "color": "darkseagreen",
          "width": 1
         },
         "name": "real_unfocused",
         "opacity": 1,
         "showlegend": false,
         "text": [
          "21405",
          "30694"
         ],
         "type": "scatter",
         "uid": "bd6e7cf7-9af5-4937-b838-81bf843bb6f2",
         "x": [
          -33.5947,
          -73.825
         ],
         "y": [
          0.8266889999999999,
          0.838565
         ]
        },
        {
         "hoverinfo": "name+text",
         "legendgroup": "real_unfocused",
         "line": {
          "color": "darkseagreen",
          "width": 1
         },
         "name": "real_unfocused",
         "opacity": 1,
         "showlegend": false,
         "text": [
          "30694",
          "38058"
         ],
         "type": "scatter",
         "uid": "7478a481-492b-4817-80aa-501c55bb7c21",
         "x": [
          -73.825,
          -116.911
         ],
         "y": [
          0.838565,
          -0.235947
         ]
        },
        {
         "hoverinfo": "name+text",
         "legendgroup": "real_unfocused",
         "line": {
          "color": "darkseagreen",
          "width": 1
         },
         "name": "real_unfocused",
         "opacity": 1,
         "showlegend": false,
         "text": [
          "38058",
          "44664"
         ],
         "type": "scatter",
         "uid": "7efdf525-e903-4639-b245-5d9b3eda7a57",
         "x": [
          -116.911,
          -172.74200000000005
         ],
         "y": [
          -0.235947,
          -3.4674400000000003
         ]
        },
        {
         "hoverinfo": "name+text",
         "legendgroup": "real_unfocused",
         "line": {
          "color": "darkseagreen",
          "width": 1
         },
         "name": "real_unfocused",
         "opacity": 1,
         "showlegend": false,
         "text": [
          "44664",
          "76101"
         ],
         "type": "scatter",
         "uid": "cd90b548-8618-4fa7-bd0e-6490356d7589",
         "x": [
          -172.74200000000005,
          -257.127
         ],
         "y": [
          -3.4674400000000003,
          -12.2321
         ]
        },
        {
         "hoverinfo": "name+text",
         "legendgroup": "real_unfocused",
         "line": {
          "color": "darkseagreen",
          "width": 1
         },
         "name": "real_unfocused",
         "opacity": 1,
         "showlegend": false,
         "text": [
          "76101",
          "83615"
         ],
         "type": "scatter",
         "uid": "98e8db94-9862-4fb6-83c2-e0f1d1e1c905",
         "x": [
          -257.127,
          -358.775
         ],
         "y": [
          -12.2321,
          -29.005
         ]
        },
        {
         "hoverinfo": "name+text",
         "legendgroup": "real_unfocused",
         "line": {
          "color": "darkseagreen",
          "width": 1
         },
         "name": "real_unfocused",
         "opacity": 1,
         "showlegend": false,
         "text": [
          "83615",
          "90565"
         ],
         "type": "scatter",
         "uid": "91016202-e0e1-47d6-aa8a-ed5cc5d1408f",
         "x": [
          -358.775,
          -494.937
         ],
         "y": [
          -29.005,
          -62.5497
         ]
        },
        {
         "hoverinfo": "name+text",
         "legendgroup": "real_unfocused",
         "line": {
          "color": "darkseagreen",
          "width": 1
         },
         "name": "real_unfocused",
         "opacity": 1,
         "showlegend": false,
         "text": [
          "90565",
          "96738"
         ],
         "type": "scatter",
         "uid": "aaec2af7-25a9-4af3-9773-9a6f911a4222",
         "x": [
          -494.937,
          -650.641
         ],
         "y": [
          -62.5497,
          -117.418
         ]
        },
        {
         "hoverinfo": "name+text",
         "legendgroup": "real_unfocused",
         "line": {
          "color": "darkseagreen",
          "width": 1
         },
         "name": "real_unfocused",
         "opacity": 1,
         "showlegend": false,
         "text": [
          "75184",
          "82090"
         ],
         "type": "scatter",
         "uid": "01b17159-aa33-45f7-997b-3ea26f58486a",
         "x": [
          -1.10379,
          -15.6281
         ],
         "y": [
          -262.164,
          -358.871
         ]
        },
        {
         "hoverinfo": "name+text",
         "legendgroup": "real_unfocused",
         "line": {
          "color": "darkseagreen",
          "width": 1
         },
         "name": "real_unfocused",
         "opacity": 1,
         "showlegend": false,
         "text": [
          "82090",
          "88632"
         ],
         "type": "scatter",
         "uid": "e127de48-f2f8-4197-a91c-4eb192184d90",
         "x": [
          -15.6281,
          -48.3976
         ],
         "y": [
          -358.871,
          -494.939
         ]
        },
        {
         "hoverinfo": "name+text",
         "legendgroup": "real_unfocused",
         "line": {
          "color": "darkseagreen",
          "width": 1
         },
         "name": "real_unfocused",
         "opacity": 1,
         "showlegend": false,
         "text": [
          "88632",
          "94896"
         ],
         "type": "scatter",
         "uid": "c0154c46-d5b4-4950-9296-55610caf8a44",
         "x": [
          -48.3976,
          -107.941
         ],
         "y": [
          -494.939,
          -654.971
         ]
        },
        {
         "hoverinfo": "name+text",
         "legendgroup": "real_unfocused",
         "line": {
          "color": "darkseagreen",
          "width": 1
         },
         "name": "real_unfocused",
         "opacity": 1,
         "showlegend": false,
         "text": [
          "94896",
          "110783"
         ],
         "type": "scatter",
         "uid": "378a1c39-2973-4cc2-a520-4ef654ef6d39",
         "x": [
          -107.941,
          -184.63
         ],
         "y": [
          -654.971,
          -801.703
         ]
        },
        {
         "hoverinfo": "name+text",
         "legendgroup": "real_unfocused",
         "line": {
          "color": "darkseagreen",
          "width": 1
         },
         "name": "real_unfocused",
         "opacity": 1,
         "showlegend": false,
         "text": [
          "110783",
          "116120"
         ],
         "type": "scatter",
         "uid": "eb2f5f93-2969-469f-986d-21fb058b5714",
         "x": [
          -184.63,
          -306.828
         ],
         "y": [
          -801.703,
          -971.876
         ]
        },
        {
         "hoverinfo": "name+text",
         "legendgroup": "real",
         "line": {
          "color": "green",
          "width": 1
         },
         "name": "real",
         "opacity": 1,
         "showlegend": true,
         "text": [
          "20764",
          "27487"
         ],
         "type": "scatter",
         "uid": "4cd5bf2d-e42e-4a46-a0c8-372970fb8c59",
         "x": [
          5.5706,
          10.5024
         ],
         "y": [
          31.671,
          72.0453
         ]
        },
        {
         "hoverinfo": "name+text",
         "legendgroup": "real",
         "line": {
          "color": "green",
          "width": 1
         },
         "name": "real",
         "opacity": 1,
         "showlegend": false,
         "text": [
          "27487",
          "34491"
         ],
         "type": "scatter",
         "uid": "32ff2726-7595-4cd2-9f28-e54ea4fd4a8d",
         "x": [
          10.5024,
          14.7116
         ],
         "y": [
          72.0453,
          114.108
         ]
        },
        {
         "hoverinfo": "name+text",
         "legendgroup": "real",
         "line": {
          "color": "green",
          "width": 1
         },
         "name": "real",
         "opacity": 1,
         "showlegend": false,
         "text": [
          "34491",
          "40865"
         ],
         "type": "scatter",
         "uid": "f50d7013-94ea-412a-a10d-bae8539b6983",
         "x": [
          14.7116,
          18.992
         ],
         "y": [
          114.108,
          171.997
         ]
        },
        {
         "hoverinfo": "name+text",
         "legendgroup": "real",
         "line": {
          "color": "green",
          "width": 1
         },
         "name": "real",
         "opacity": 1,
         "showlegend": false,
         "text": [
          "40865",
          "72549"
         ],
         "type": "scatter",
         "uid": "c56dbdb9-8ae6-4ba6-af50-fbf572905199",
         "x": [
          18.992,
          22.298
         ],
         "y": [
          171.997,
          257.23400000000004
         ]
        },
        {
         "hoverinfo": "name+text",
         "legendgroup": "real",
         "line": {
          "color": "green",
          "width": 1
         },
         "name": "real",
         "opacity": 1,
         "showlegend": false,
         "text": [
          "72549",
          "79138"
         ],
         "type": "scatter",
         "uid": "56c3d0dd-8a64-48b5-a53f-4517f07dcdb3",
         "x": [
          22.298,
          21.6577
         ],
         "y": [
          257.23400000000004,
          357.611
         ]
        },
        {
         "hoverinfo": "name+text",
         "legendgroup": "real",
         "line": {
          "color": "green",
          "width": 1
         },
         "name": "real",
         "opacity": 1,
         "showlegend": false,
         "text": [
          "79138",
          "85537"
         ],
         "type": "scatter",
         "uid": "f5e54530-1d53-40cd-ac31-39895dabd45f",
         "x": [
          21.6577,
          12.251
         ],
         "y": [
          357.611,
          496.648
         ]
        },
        {
         "hoverinfo": "name+text",
         "legendgroup": "real",
         "line": {
          "color": "green",
          "width": 1
         },
         "name": "real",
         "opacity": 1,
         "showlegend": false,
         "text": [
          "23536",
          "31418"
         ],
         "type": "scatter",
         "uid": "d975c369-562c-495d-a3c0-3e27779db1dd",
         "x": [
          -30.9263,
          -68.8454
         ],
         "y": [
          9.9814,
          22.8573
         ]
        },
        {
         "hoverinfo": "name+text",
         "legendgroup": "real",
         "line": {
          "color": "green",
          "width": 1
         },
         "name": "real",
         "opacity": 1,
         "showlegend": false,
         "text": [
          "31418",
          "38524"
         ],
         "type": "scatter",
         "uid": "112e206d-89d5-412c-883c-328f9d164527",
         "x": [
          -68.8454,
          -109.987
         ],
         "y": [
          22.8573,
          37.6253
         ]
        },
        {
         "hoverinfo": "name+text",
         "legendgroup": "real",
         "line": {
          "color": "green",
          "width": 1
         },
         "name": "real",
         "opacity": 1,
         "showlegend": false,
         "text": [
          "38524",
          "45067"
         ],
         "type": "scatter",
         "uid": "05863249-ce5f-4349-aaa7-2c4a1f347459",
         "x": [
          -109.987,
          -161.876
         ],
         "y": [
          37.6253,
          57.4577
         ]
        },
        {
         "hoverinfo": "name+text",
         "legendgroup": "real",
         "line": {
          "color": "green",
          "width": 1
         },
         "name": "real",
         "opacity": 1,
         "showlegend": false,
         "text": [
          "45067",
          "76902"
         ],
         "type": "scatter",
         "uid": "803a53f0-46d8-4421-b6c3-3912bc15606c",
         "x": [
          -161.876,
          -246.02
         ],
         "y": [
          57.4577,
          92.7332
         ]
        },
        {
         "hoverinfo": "name+text",
         "legendgroup": "real",
         "line": {
          "color": "green",
          "width": 1
         },
         "name": "real",
         "opacity": 1,
         "showlegend": false,
         "text": [
          "76902",
          "83944"
         ],
         "type": "scatter",
         "uid": "70a1f5ad-7f48-4eb1-aedf-0a66906d13ae",
         "x": [
          -246.02,
          -333.426
         ],
         "y": [
          92.7332,
          133.519
         ]
        },
        {
         "hoverinfo": "name+text",
         "legendgroup": "real",
         "line": {
          "color": "green",
          "width": 1
         },
         "name": "real",
         "opacity": 1,
         "showlegend": false,
         "text": [
          "83944",
          "90803"
         ],
         "type": "scatter",
         "uid": "486d1b51-05c1-4570-bc84-f526d9516a1d",
         "x": [
          -333.426,
          -459.273
         ],
         "y": [
          133.519,
          200.49400000000003
         ]
        },
        {
         "hoverinfo": "name+text",
         "legendgroup": "real",
         "line": {
          "color": "green",
          "width": 1
         },
         "name": "real",
         "opacity": 1,
         "showlegend": false,
         "text": [
          "90803",
          "96934"
         ],
         "type": "scatter",
         "uid": "0063601e-29b1-4418-a54e-bcf94b312090",
         "x": [
          -459.273,
          -595.614
         ],
         "y": [
          200.49400000000003,
          284.758
         ]
        },
        {
         "hoverinfo": "name+text",
         "legendgroup": "real",
         "line": {
          "color": "green",
          "width": 1
         },
         "name": "real",
         "opacity": 1,
         "showlegend": false,
         "text": [
          "20262",
          "28058"
         ],
         "type": "scatter",
         "uid": "c6205802-9d7e-4611-91b4-93d76d3212ed",
         "x": [
          32.2451,
          70.7765
         ],
         "y": [
          4.53326,
          9.61941
         ]
        },
        {
         "hoverinfo": "name+text",
         "legendgroup": "real",
         "line": {
          "color": "green",
          "width": 1
         },
         "name": "real",
         "opacity": 1,
         "showlegend": false,
         "text": [
          "28058",
          "34877"
         ],
         "type": "scatter",
         "uid": "ca07a9ce-eb7c-4649-85de-dbcdd8748f29",
         "x": [
          70.7765,
          114.433
         ],
         "y": [
          9.61941,
          14.9217
         ]
        },
        {
         "hoverinfo": "name+text",
         "legendgroup": "real",
         "line": {
          "color": "green",
          "width": 1
         },
         "name": "real",
         "opacity": 1,
         "showlegend": false,
         "text": [
          "34877",
          "41146"
         ],
         "type": "scatter",
         "uid": "fb88dc57-9f2f-45a5-a6bd-86fae5a2a14c",
         "x": [
          114.433,
          170.40099999999995
         ],
         "y": [
          14.9217,
          21.0637
         ]
        },
        {
         "hoverinfo": "name+text",
         "legendgroup": "real",
         "line": {
          "color": "green",
          "width": 1
         },
         "name": "real",
         "opacity": 1,
         "showlegend": false,
         "text": [
          "41146",
          "73201"
         ],
         "type": "scatter",
         "uid": "06dc77dc-7113-4510-9528-d7c3a75aaf9a",
         "x": [
          170.40099999999995,
          258.338
         ],
         "y": [
          21.0637,
          29.1488
         ]
        },
        {
         "hoverinfo": "name+text",
         "legendgroup": "real",
         "line": {
          "color": "green",
          "width": 1
         },
         "name": "real",
         "opacity": 1,
         "showlegend": false,
         "text": [
          "73201",
          "79641"
         ],
         "type": "scatter",
         "uid": "ac70051f-dd7a-4fef-bd82-ac5dcf6f43f9",
         "x": [
          258.338,
          359.452
         ],
         "y": [
          29.1488,
          36.1999
         ]
        },
        {
         "hoverinfo": "name+text",
         "legendgroup": "real",
         "line": {
          "color": "green",
          "width": 1
         },
         "name": "real",
         "opacity": 1,
         "showlegend": false,
         "text": [
          "79641",
          "86195"
         ],
         "type": "scatter",
         "uid": "77e425e0-3d5a-4668-91d7-21acc34ce9ee",
         "x": [
          359.452,
          503.503
         ],
         "y": [
          36.1999,
          42.0709
         ]
        },
        {
         "hoverinfo": "name+text",
         "legendgroup": "real",
         "line": {
          "color": "green",
          "width": 1
         },
         "name": "real",
         "opacity": 1,
         "showlegend": false,
         "text": [
          "86195",
          "91955"
         ],
         "type": "scatter",
         "uid": "66ba33fd-b307-443b-8a0a-7174155d7842",
         "x": [
          503.503,
          663.908
         ],
         "y": [
          42.0709,
          43.0984
         ]
        },
        {
         "hoverinfo": "name+text",
         "legendgroup": "real",
         "line": {
          "color": "green",
          "width": 1
         },
         "name": "real",
         "opacity": 1,
         "showlegend": false,
         "text": [
          "91955",
          "107743"
         ],
         "type": "scatter",
         "uid": "9aba88c7-f002-4d87-86d9-9380cbcb6b79",
         "x": [
          663.908,
          823.312
         ],
         "y": [
          43.0984,
          38.3265
         ]
        },
        {
         "hoverinfo": "name+text",
         "legendgroup": "real",
         "line": {
          "color": "green",
          "width": 1
         },
         "name": "real",
         "opacity": 1,
         "showlegend": false,
         "text": [
          "19698",
          "27827"
         ],
         "type": "scatter",
         "uid": "e24fc22a-c723-4c04-9f0f-9ee1c54e8a85",
         "x": [
          -4.16977,
          -9.16296
         ],
         "y": [
          -31.75,
          -71.4937
         ]
        },
        {
         "hoverinfo": "name+text",
         "legendgroup": "real",
         "line": {
          "color": "green",
          "width": 1
         },
         "name": "real",
         "opacity": 1,
         "showlegend": false,
         "text": [
          "27827",
          "35259"
         ],
         "type": "scatter",
         "uid": "d902505c-60c5-4848-950c-b8e36a7f5a28",
         "x": [
          -9.16296,
          -14.2464
         ],
         "y": [
          -71.4937,
          -114.127
         ]
        },
        {
         "hoverinfo": "name+text",
         "legendgroup": "real",
         "line": {
          "color": "green",
          "width": 1
         },
         "name": "real",
         "opacity": 1,
         "showlegend": false,
         "text": [
          "35259",
          "41464"
         ],
         "type": "scatter",
         "uid": "1d2ed597-0eb3-4c37-8009-8b1c0909af82",
         "x": [
          -14.2464,
          -20.5217
         ],
         "y": [
          -114.127,
          -170.169
         ]
        },
        {
         "hoverinfo": "name+text",
         "legendgroup": "real",
         "line": {
          "color": "green",
          "width": 1
         },
         "name": "real",
         "opacity": 1,
         "showlegend": false,
         "text": [
          "41464",
          "73085"
         ],
         "type": "scatter",
         "uid": "23e70e2d-63c6-4cbe-af32-ceebf60aa03a",
         "x": [
          -20.5217,
          -29.116
         ],
         "y": [
          -170.169,
          -255.648
         ]
        },
        {
         "hoverinfo": "name+text",
         "legendgroup": "real",
         "line": {
          "color": "green",
          "width": 1
         },
         "name": "real",
         "opacity": 1,
         "showlegend": false,
         "text": [
          "73085",
          "79880"
         ],
         "type": "scatter",
         "uid": "783a4a34-b148-4c13-bf2f-a686bb2f09b9",
         "x": [
          -29.116,
          -38.3955
         ],
         "y": [
          -255.648,
          -363.693
         ]
        },
        {
         "hoverinfo": "name+text",
         "legendgroup": "real",
         "line": {
          "color": "green",
          "width": 1
         },
         "name": "real",
         "opacity": 1,
         "showlegend": false,
         "text": [
          "79880",
          "86402"
         ],
         "type": "scatter",
         "uid": "856c2fee-4fd2-4b75-b4e7-2891c40f2c84",
         "x": [
          -38.3955,
          -47.3072
         ],
         "y": [
          -363.693,
          -495.195
         ]
        },
        {
         "hoverinfo": "name+text",
         "legendgroup": "real",
         "line": {
          "color": "green",
          "width": 1
         },
         "name": "real",
         "opacity": 1,
         "showlegend": false,
         "text": [
          "86402",
          "92130"
         ],
         "type": "scatter",
         "uid": "80d85a3e-3273-46b4-bee2-10e41a2862a7",
         "x": [
          -47.3072,
          -54.4897
         ],
         "y": [
          -495.195,
          -654.254
         ]
        },
        {
         "hoverinfo": "name+text",
         "legendgroup": "real",
         "line": {
          "color": "green",
          "width": 1
         },
         "name": "real",
         "opacity": 1,
         "showlegend": false,
         "text": [
          "92130",
          "107883"
         ],
         "type": "scatter",
         "uid": "088a8e49-c7ca-491d-b05e-e7619e1252fb",
         "x": [
          -54.4897,
          -57.8177
         ],
         "y": [
          -654.254,
          -817.466
         ]
        },
        {
         "hoverinfo": "name+text",
         "legendgroup": "real",
         "line": {
          "color": "green",
          "width": 1
         },
         "name": "real",
         "opacity": 1,
         "showlegend": false,
         "text": [
          "21265",
          "29504"
         ],
         "type": "scatter",
         "uid": "0607d166-9c96-40aa-a58e-8d34f2ce1398",
         "x": [
          -31.6364,
          -70.206
         ],
         "y": [
          6.18379,
          14.1226
         ]
        },
        {
         "hoverinfo": "name+text",
         "legendgroup": "real",
         "line": {
          "color": "green",
          "width": 1
         },
         "name": "real",
         "opacity": 1,
         "showlegend": false,
         "text": [
          "29504",
          "42350"
         ],
         "type": "scatter",
         "uid": "d4108bba-d685-4373-a466-6497ec4b409a",
         "x": [
          -70.206,
          -168.155
         ],
         "y": [
          14.1226,
          36.3725
         ]
        },
        {
         "hoverinfo": "name+text",
         "legendgroup": "real",
         "line": {
          "color": "green",
          "width": 1
         },
         "name": "real",
         "opacity": 1,
         "showlegend": false,
         "text": [
          "42350",
          "73830"
         ],
         "type": "scatter",
         "uid": "ff2ebfd9-e67d-4ad3-8bb5-6c47d9cd41c9",
         "x": [
          -168.155,
          -255.151
         ],
         "y": [
          36.3725,
          58.8872
         ]
        },
        {
         "hoverinfo": "name+text",
         "legendgroup": "real",
         "line": {
          "color": "green",
          "width": 1
         },
         "name": "real",
         "opacity": 1,
         "showlegend": false,
         "text": [
          "73830",
          "80933"
         ],
         "type": "scatter",
         "uid": "ac1505de-2283-4319-b550-7e293cdc32f3",
         "x": [
          -255.151,
          -353.285
         ],
         "y": [
          58.8872,
          87.1991
         ]
        },
        {
         "hoverinfo": "name+text",
         "legendgroup": "real",
         "line": {
          "color": "green",
          "width": 1
         },
         "name": "real",
         "opacity": 1,
         "showlegend": false,
         "text": [
          "80933",
          "87292"
         ],
         "type": "scatter",
         "uid": "51478e3e-6d54-4cd9-ac2e-549f7311a0bd",
         "x": [
          -353.285,
          -482.875
         ],
         "y": [
          87.1991,
          129.892
         ]
        },
        {
         "hoverinfo": "name+text",
         "legendgroup": "real",
         "line": {
          "color": "green",
          "width": 1
         },
         "name": "real",
         "opacity": 1,
         "showlegend": false,
         "text": [
          "87292",
          "93165"
         ],
         "type": "scatter",
         "uid": "0c564428-3118-4cbc-8069-45d94a18d6ac",
         "x": [
          -482.875,
          -633.385
         ],
         "y": [
          129.892,
          187.317
         ]
        },
        {
         "hoverinfo": "name+text",
         "legendgroup": "real",
         "line": {
          "color": "green",
          "width": 1
         },
         "name": "real",
         "opacity": 1,
         "showlegend": false,
         "text": [
          "93165",
          "109022"
         ],
         "type": "scatter",
         "uid": "552a67f9-cd97-42ca-a579-c667e6c06e16",
         "x": [
          -633.385,
          -782.4169999999998
         ],
         "y": [
          187.317,
          252.867
         ]
        },
        {
         "hoverinfo": "name+text",
         "legendgroup": "real",
         "line": {
          "color": "green",
          "width": 1
         },
         "name": "real",
         "opacity": 1,
         "showlegend": false,
         "text": [
          "109022",
          "114036"
         ],
         "type": "scatter",
         "uid": "d6e70b52-5006-4667-a552-fa68134d2ce9",
         "x": [
          -782.4169999999998,
          -962.827
         ],
         "y": [
          252.867,
          344.76199999999994
         ]
        }
       ],
       "layout": {
        "height": 800,
        "hovermode": "closest",
        "showlegend": true,
        "updatemenus": [
         {
          "buttons": [
           {
            "args": [
             "shapes",
             []
            ],
            "label": "hide layers",
            "method": "relayout"
           },
           {
            "args": [
             "shapes",
             [
              {
               "layer": "below",
               "line": {
                "color": "#ccc"
               },
               "opacity": 0.5,
               "type": "circle",
               "x0": -32,
               "x1": 32,
               "y0": -32,
               "y1": 32
              },
              {
               "layer": "below",
               "line": {
                "color": "#ccc"
               },
               "opacity": 0.5,
               "type": "circle",
               "x0": -72,
               "x1": 72,
               "y0": -72,
               "y1": 72
              },
              {
               "layer": "below",
               "line": {
                "color": "#ccc"
               },
               "opacity": 0.5,
               "type": "circle",
               "x0": -116,
               "x1": 116,
               "y0": -116,
               "y1": 116
              },
              {
               "layer": "below",
               "line": {
                "color": "#ccc"
               },
               "opacity": 0.5,
               "type": "circle",
               "x0": -172,
               "x1": 172,
               "y0": -172,
               "y1": 172
              },
              {
               "layer": "below",
               "line": {
                "color": "#cccc8d"
               },
               "opacity": 0.5,
               "type": "circle",
               "x0": -260,
               "x1": 260,
               "y0": -260,
               "y1": 260
              },
              {
               "layer": "below",
               "line": {
                "color": "#cccc8d"
               },
               "opacity": 0.5,
               "type": "circle",
               "x0": -360,
               "x1": 360,
               "y0": -360,
               "y1": 360
              },
              {
               "layer": "below",
               "line": {
                "color": "#cccc8d"
               },
               "opacity": 0.5,
               "type": "circle",
               "x0": -500,
               "x1": 500,
               "y0": -500,
               "y1": 500
              },
              {
               "layer": "below",
               "line": {
                "color": "#cccc8d"
               },
               "opacity": 0.5,
               "type": "circle",
               "x0": -660,
               "x1": 660,
               "y0": -660,
               "y1": 660
              },
              {
               "layer": "below",
               "line": {
                "color": "#ccc"
               },
               "opacity": 0.5,
               "type": "circle",
               "x0": -820,
               "x1": 820,
               "y0": -820,
               "y1": 820
              },
              {
               "layer": "below",
               "line": {
                "color": "#ccc"
               },
               "opacity": 0.5,
               "type": "circle",
               "x0": -1020,
               "x1": 1020,
               "y0": -1020,
               "y1": 1020
              }
             ]
            ],
            "label": "show layers",
            "method": "relayout"
           }
          ],
          "direction": "left",
          "pad": {
           "l": 0.1
          },
          "type": "buttons",
          "xanchor": "left",
          "y": 1.1,
          "yanchor": "top"
         },
         {
          "buttons": [
           {
            "args": [
             {
              "mode": "markers+lines"
             }
            ],
            "label": "hits+tracks",
            "method": "update"
           },
           {
            "args": [
             {
              "mode": "markers"
             }
            ],
            "label": "hits only",
            "method": "update"
           }
          ],
          "direction": "left",
          "pad": {
           "l": 200
          },
          "type": "buttons",
          "xanchor": "left",
          "y": 1.1,
          "yanchor": "top"
         },
         {
          "buttons": [
           {
            "args": [
             "yaxis.scaleanchor",
             null
            ],
            "label": "free",
            "method": "relayout"
           },
           {
            "args": [
             "yaxis.scaleanchor",
             "x"
            ],
            "label": "fixed",
            "method": "relayout"
           }
          ],
          "direction": "left",
          "pad": {
           "l": 380
          },
          "type": "buttons",
          "xanchor": "left",
          "y": 1.1,
          "yanchor": "top"
         }
        ],
        "width": 800,
        "xaxis": {
         "title": "x"
        },
        "yaxis": {
         "title": "y"
        }
       }
      },
      "text/html": [
       "<div id=\"adc9c0b7-c3ae-4730-b0af-602fb7e369ee\" style=\"height: 800px; width: 800px;\" class=\"plotly-graph-div\"></div><script type=\"text/javascript\">require([\"plotly\"], function(Plotly) { window.PLOTLYENV=window.PLOTLYENV || {};window.PLOTLYENV.BASE_URL=\"https://plot.ly\";Plotly.newPlot(\"adc9c0b7-c3ae-4730-b0af-602fb7e369ee\", [{\"hoverinfo\": \"name+text\", \"legendgroup\": \"real_unfocused\", \"line\": {\"color\": \"darkseagreen\", \"width\": 1}, \"name\": \"real_unfocused\", \"opacity\": 1, \"showlegend\": true, \"text\": [\"18246\", \"27129\"], \"x\": [-21.7191, -49.4278], \"y\": [-22.879, -53.6609], \"type\": \"scatter\", \"uid\": \"4613b4bb-27c7-4a00-89f5-1b73b439c7d2\"}, {\"hoverinfo\": \"name+text\", \"legendgroup\": \"real_unfocused\", \"line\": {\"color\": \"darkseagreen\", \"width\": 1}, \"name\": \"real_unfocused\", \"opacity\": 1, \"showlegend\": false, \"text\": [\"27129\", \"34226\"], \"x\": [-49.4278, -76.6251], \"y\": [-53.6609, -85.78], \"type\": \"scatter\", \"uid\": \"2fb01647-ecd1-41c7-addc-1ad7989ebc1c\"}, {\"hoverinfo\": \"name+text\", \"legendgroup\": \"real_unfocused\", \"line\": {\"color\": \"darkseagreen\", \"width\": 1}, \"name\": \"real_unfocused\", \"opacity\": 1, \"showlegend\": false, \"text\": [\"34226\", \"40268\"], \"x\": [-76.6251, -111.405], \"y\": [-85.78, -130.203], \"type\": \"scatter\", \"uid\": \"fc3477d5-c063-495e-9f84-1655a75a8feb\"}, {\"hoverinfo\": \"name+text\", \"legendgroup\": \"real_unfocused\", \"line\": {\"color\": \"darkseagreen\", \"width\": 1}, \"name\": \"real_unfocused\", \"opacity\": 1, \"showlegend\": false, \"text\": [\"40268\", \"72036\"], \"x\": [-111.405, -163.782], \"y\": [-130.203, -205.827], \"type\": \"scatter\", \"uid\": \"dabd2e21-9fd1-4b89-a7dc-e4cbc2e3e9ab\"}, {\"hoverinfo\": \"name+text\", \"legendgroup\": \"real_unfocused\", \"line\": {\"color\": \"darkseagreen\", \"width\": 1}, \"name\": \"real_unfocused\", \"opacity\": 1, \"showlegend\": false, \"text\": [\"72036\", \"78762\"], \"x\": [-163.782, -213.656], \"y\": [-205.827, -290.52], \"type\": \"scatter\", \"uid\": \"7d484f20-c63c-4a89-9251-2874c9c90744\"}, {\"hoverinfo\": \"name+text\", \"legendgroup\": \"real_unfocused\", \"line\": {\"color\": \"darkseagreen\", \"width\": 1}, \"name\": \"real_unfocused\", \"opacity\": 1, \"showlegend\": false, \"text\": [\"23050\", \"30426\"], \"x\": [-4.64343, -9.44367], \"y\": [31.6821, 70.8192], \"type\": \"scatter\", \"uid\": \"db85cd74-889a-4d2d-9c4b-12daa76dbeb6\"}, {\"hoverinfo\": \"name+text\", \"legendgroup\": \"real_unfocused\", \"line\": {\"color\": \"darkseagreen\", \"width\": 1}, \"name\": \"real_unfocused\", \"opacity\": 1, \"showlegend\": false, \"text\": [\"30426\", \"37198\"], \"x\": [-9.44367, -13.5617], \"y\": [70.8192, 114.204], \"type\": \"scatter\", \"uid\": \"325a04a3-97f1-4bf3-b178-a13e32288556\"}, {\"hoverinfo\": \"name+text\", \"legendgroup\": \"real_unfocused\", \"line\": {\"color\": \"darkseagreen\", \"width\": 1}, \"name\": \"real_unfocused\", \"opacity\": 1, \"showlegend\": false, \"text\": [\"37198\", \"44045\"], \"x\": [-13.5617, -16.8728], \"y\": [114.204, 171.016], \"type\": \"scatter\", \"uid\": \"e3320ee7-e4e9-4245-8380-5335c8432e67\"}, {\"hoverinfo\": \"name+text\", \"legendgroup\": \"real_unfocused\", \"line\": {\"color\": \"darkseagreen\", \"width\": 1}, \"name\": \"real_unfocused\", \"opacity\": 1, \"showlegend\": false, \"text\": [\"44045\", \"75480\"], \"x\": [-16.8728, -17.738], \"y\": [171.016, 257.521], \"type\": \"scatter\", \"uid\": \"34a93ac4-d88d-4039-bbe0-6196ad2a17bf\"}, {\"hoverinfo\": \"name+text\", \"legendgroup\": \"real_unfocused\", \"line\": {\"color\": \"darkseagreen\", \"width\": 1}, \"name\": \"real_unfocused\", \"opacity\": 1, \"showlegend\": false, \"text\": [\"75480\", \"82723\"], \"x\": [-17.738, -11.9561], \"y\": [257.521, 360.148], \"type\": \"scatter\", \"uid\": \"08d5c3db-5e52-4fd8-b58d-76e9eed78a9d\"}, {\"hoverinfo\": \"name+text\", \"legendgroup\": \"real_unfocused\", \"line\": {\"color\": \"darkseagreen\", \"width\": 1}, \"name\": \"real_unfocused\", \"opacity\": 1, \"showlegend\": false, \"text\": [\"21405\", \"30694\"], \"x\": [-33.5947, -73.825], \"y\": [0.8266889999999999, 0.838565], \"type\": \"scatter\", \"uid\": \"bd6e7cf7-9af5-4937-b838-81bf843bb6f2\"}, {\"hoverinfo\": \"name+text\", \"legendgroup\": \"real_unfocused\", \"line\": {\"color\": \"darkseagreen\", \"width\": 1}, \"name\": \"real_unfocused\", \"opacity\": 1, \"showlegend\": false, \"text\": [\"30694\", \"38058\"], \"x\": [-73.825, -116.911], \"y\": [0.838565, -0.235947], \"type\": \"scatter\", \"uid\": \"7478a481-492b-4817-80aa-501c55bb7c21\"}, {\"hoverinfo\": \"name+text\", \"legendgroup\": \"real_unfocused\", \"line\": {\"color\": \"darkseagreen\", \"width\": 1}, \"name\": \"real_unfocused\", \"opacity\": 1, \"showlegend\": false, \"text\": [\"38058\", \"44664\"], \"x\": [-116.911, -172.74200000000005], \"y\": [-0.235947, -3.4674400000000003], \"type\": \"scatter\", \"uid\": \"7efdf525-e903-4639-b245-5d9b3eda7a57\"}, {\"hoverinfo\": \"name+text\", \"legendgroup\": \"real_unfocused\", \"line\": {\"color\": \"darkseagreen\", \"width\": 1}, \"name\": \"real_unfocused\", \"opacity\": 1, \"showlegend\": false, \"text\": [\"44664\", \"76101\"], \"x\": [-172.74200000000005, -257.127], \"y\": [-3.4674400000000003, -12.2321], \"type\": \"scatter\", \"uid\": \"cd90b548-8618-4fa7-bd0e-6490356d7589\"}, {\"hoverinfo\": \"name+text\", \"legendgroup\": \"real_unfocused\", \"line\": {\"color\": \"darkseagreen\", \"width\": 1}, \"name\": \"real_unfocused\", \"opacity\": 1, \"showlegend\": false, \"text\": [\"76101\", \"83615\"], \"x\": [-257.127, -358.775], \"y\": [-12.2321, -29.005], \"type\": \"scatter\", \"uid\": \"98e8db94-9862-4fb6-83c2-e0f1d1e1c905\"}, {\"hoverinfo\": \"name+text\", \"legendgroup\": \"real_unfocused\", \"line\": {\"color\": \"darkseagreen\", \"width\": 1}, \"name\": \"real_unfocused\", \"opacity\": 1, \"showlegend\": false, \"text\": [\"83615\", \"90565\"], \"x\": [-358.775, -494.937], \"y\": [-29.005, -62.5497], \"type\": \"scatter\", \"uid\": \"91016202-e0e1-47d6-aa8a-ed5cc5d1408f\"}, {\"hoverinfo\": \"name+text\", \"legendgroup\": \"real_unfocused\", \"line\": {\"color\": \"darkseagreen\", \"width\": 1}, \"name\": \"real_unfocused\", \"opacity\": 1, \"showlegend\": false, \"text\": [\"90565\", \"96738\"], \"x\": [-494.937, -650.641], \"y\": [-62.5497, -117.418], \"type\": \"scatter\", \"uid\": \"aaec2af7-25a9-4af3-9773-9a6f911a4222\"}, {\"hoverinfo\": \"name+text\", \"legendgroup\": \"real_unfocused\", \"line\": {\"color\": \"darkseagreen\", \"width\": 1}, \"name\": \"real_unfocused\", \"opacity\": 1, \"showlegend\": false, \"text\": [\"75184\", \"82090\"], \"x\": [-1.10379, -15.6281], \"y\": [-262.164, -358.871], \"type\": \"scatter\", \"uid\": \"01b17159-aa33-45f7-997b-3ea26f58486a\"}, {\"hoverinfo\": \"name+text\", \"legendgroup\": \"real_unfocused\", \"line\": {\"color\": \"darkseagreen\", \"width\": 1}, \"name\": \"real_unfocused\", \"opacity\": 1, \"showlegend\": false, \"text\": [\"82090\", \"88632\"], \"x\": [-15.6281, -48.3976], \"y\": [-358.871, -494.939], \"type\": \"scatter\", \"uid\": \"e127de48-f2f8-4197-a91c-4eb192184d90\"}, {\"hoverinfo\": \"name+text\", \"legendgroup\": \"real_unfocused\", \"line\": {\"color\": \"darkseagreen\", \"width\": 1}, \"name\": \"real_unfocused\", \"opacity\": 1, \"showlegend\": false, \"text\": [\"88632\", \"94896\"], \"x\": [-48.3976, -107.941], \"y\": [-494.939, -654.971], \"type\": \"scatter\", \"uid\": \"c0154c46-d5b4-4950-9296-55610caf8a44\"}, {\"hoverinfo\": \"name+text\", \"legendgroup\": \"real_unfocused\", \"line\": {\"color\": \"darkseagreen\", \"width\": 1}, \"name\": \"real_unfocused\", \"opacity\": 1, \"showlegend\": false, \"text\": [\"94896\", \"110783\"], \"x\": [-107.941, -184.63], \"y\": [-654.971, -801.703], \"type\": \"scatter\", \"uid\": \"378a1c39-2973-4cc2-a520-4ef654ef6d39\"}, {\"hoverinfo\": \"name+text\", \"legendgroup\": \"real_unfocused\", \"line\": {\"color\": \"darkseagreen\", \"width\": 1}, \"name\": \"real_unfocused\", \"opacity\": 1, \"showlegend\": false, \"text\": [\"110783\", \"116120\"], \"x\": [-184.63, -306.828], \"y\": [-801.703, -971.876], \"type\": \"scatter\", \"uid\": \"eb2f5f93-2969-469f-986d-21fb058b5714\"}, {\"hoverinfo\": \"name+text\", \"legendgroup\": \"real\", \"line\": {\"color\": \"green\", \"width\": 1}, \"name\": \"real\", \"opacity\": 1, \"showlegend\": true, \"text\": [\"20764\", \"27487\"], \"x\": [5.5706, 10.5024], \"y\": [31.671, 72.0453], \"type\": \"scatter\", \"uid\": \"4cd5bf2d-e42e-4a46-a0c8-372970fb8c59\"}, {\"hoverinfo\": \"name+text\", \"legendgroup\": \"real\", \"line\": {\"color\": \"green\", \"width\": 1}, \"name\": \"real\", \"opacity\": 1, \"showlegend\": false, \"text\": [\"27487\", \"34491\"], \"x\": [10.5024, 14.7116], \"y\": [72.0453, 114.108], \"type\": \"scatter\", \"uid\": \"32ff2726-7595-4cd2-9f28-e54ea4fd4a8d\"}, {\"hoverinfo\": \"name+text\", \"legendgroup\": \"real\", \"line\": {\"color\": \"green\", \"width\": 1}, \"name\": \"real\", \"opacity\": 1, \"showlegend\": false, \"text\": [\"34491\", \"40865\"], \"x\": [14.7116, 18.992], \"y\": [114.108, 171.997], \"type\": \"scatter\", \"uid\": \"f50d7013-94ea-412a-a10d-bae8539b6983\"}, {\"hoverinfo\": \"name+text\", \"legendgroup\": \"real\", \"line\": {\"color\": \"green\", \"width\": 1}, \"name\": \"real\", \"opacity\": 1, \"showlegend\": false, \"text\": [\"40865\", \"72549\"], \"x\": [18.992, 22.298], \"y\": [171.997, 257.23400000000004], \"type\": \"scatter\", \"uid\": \"c56dbdb9-8ae6-4ba6-af50-fbf572905199\"}, {\"hoverinfo\": \"name+text\", \"legendgroup\": \"real\", \"line\": {\"color\": \"green\", \"width\": 1}, \"name\": \"real\", \"opacity\": 1, \"showlegend\": false, \"text\": [\"72549\", \"79138\"], \"x\": [22.298, 21.6577], \"y\": [257.23400000000004, 357.611], \"type\": \"scatter\", \"uid\": \"56c3d0dd-8a64-48b5-a53f-4517f07dcdb3\"}, {\"hoverinfo\": \"name+text\", \"legendgroup\": \"real\", \"line\": {\"color\": \"green\", \"width\": 1}, \"name\": \"real\", \"opacity\": 1, \"showlegend\": false, \"text\": [\"79138\", \"85537\"], \"x\": [21.6577, 12.251], \"y\": [357.611, 496.648], \"type\": \"scatter\", \"uid\": \"f5e54530-1d53-40cd-ac31-39895dabd45f\"}, {\"hoverinfo\": \"name+text\", \"legendgroup\": \"real\", \"line\": {\"color\": \"green\", \"width\": 1}, \"name\": \"real\", \"opacity\": 1, \"showlegend\": false, \"text\": [\"23536\", \"31418\"], \"x\": [-30.9263, -68.8454], \"y\": [9.9814, 22.8573], \"type\": \"scatter\", \"uid\": \"d975c369-562c-495d-a3c0-3e27779db1dd\"}, {\"hoverinfo\": \"name+text\", \"legendgroup\": \"real\", \"line\": {\"color\": \"green\", \"width\": 1}, \"name\": \"real\", \"opacity\": 1, \"showlegend\": false, \"text\": [\"31418\", \"38524\"], \"x\": [-68.8454, -109.987], \"y\": [22.8573, 37.6253], \"type\": \"scatter\", \"uid\": \"112e206d-89d5-412c-883c-328f9d164527\"}, {\"hoverinfo\": \"name+text\", \"legendgroup\": \"real\", \"line\": {\"color\": \"green\", \"width\": 1}, \"name\": \"real\", \"opacity\": 1, \"showlegend\": false, \"text\": [\"38524\", \"45067\"], \"x\": [-109.987, -161.876], \"y\": [37.6253, 57.4577], \"type\": \"scatter\", \"uid\": \"05863249-ce5f-4349-aaa7-2c4a1f347459\"}, {\"hoverinfo\": \"name+text\", \"legendgroup\": \"real\", \"line\": {\"color\": \"green\", \"width\": 1}, \"name\": \"real\", \"opacity\": 1, \"showlegend\": false, \"text\": [\"45067\", \"76902\"], \"x\": [-161.876, -246.02], \"y\": [57.4577, 92.7332], \"type\": \"scatter\", \"uid\": \"803a53f0-46d8-4421-b6c3-3912bc15606c\"}, {\"hoverinfo\": \"name+text\", \"legendgroup\": \"real\", \"line\": {\"color\": \"green\", \"width\": 1}, \"name\": \"real\", \"opacity\": 1, \"showlegend\": false, \"text\": [\"76902\", \"83944\"], \"x\": [-246.02, -333.426], \"y\": [92.7332, 133.519], \"type\": \"scatter\", \"uid\": \"70a1f5ad-7f48-4eb1-aedf-0a66906d13ae\"}, {\"hoverinfo\": \"name+text\", \"legendgroup\": \"real\", \"line\": {\"color\": \"green\", \"width\": 1}, \"name\": \"real\", \"opacity\": 1, \"showlegend\": false, \"text\": [\"83944\", \"90803\"], \"x\": [-333.426, -459.273], \"y\": [133.519, 200.49400000000003], \"type\": \"scatter\", \"uid\": \"486d1b51-05c1-4570-bc84-f526d9516a1d\"}, {\"hoverinfo\": \"name+text\", \"legendgroup\": \"real\", \"line\": {\"color\": \"green\", \"width\": 1}, \"name\": \"real\", \"opacity\": 1, \"showlegend\": false, \"text\": [\"90803\", \"96934\"], \"x\": [-459.273, -595.614], \"y\": [200.49400000000003, 284.758], \"type\": \"scatter\", \"uid\": \"0063601e-29b1-4418-a54e-bcf94b312090\"}, {\"hoverinfo\": \"name+text\", \"legendgroup\": \"real\", \"line\": {\"color\": \"green\", \"width\": 1}, \"name\": \"real\", \"opacity\": 1, \"showlegend\": false, \"text\": [\"20262\", \"28058\"], \"x\": [32.2451, 70.7765], \"y\": [4.53326, 9.61941], \"type\": \"scatter\", \"uid\": \"c6205802-9d7e-4611-91b4-93d76d3212ed\"}, {\"hoverinfo\": \"name+text\", \"legendgroup\": \"real\", \"line\": {\"color\": \"green\", \"width\": 1}, \"name\": \"real\", \"opacity\": 1, \"showlegend\": false, \"text\": [\"28058\", \"34877\"], \"x\": [70.7765, 114.433], \"y\": [9.61941, 14.9217], \"type\": \"scatter\", \"uid\": \"ca07a9ce-eb7c-4649-85de-dbcdd8748f29\"}, {\"hoverinfo\": \"name+text\", \"legendgroup\": \"real\", \"line\": {\"color\": \"green\", \"width\": 1}, \"name\": \"real\", \"opacity\": 1, \"showlegend\": false, \"text\": [\"34877\", \"41146\"], \"x\": [114.433, 170.40099999999995], \"y\": [14.9217, 21.0637], \"type\": \"scatter\", \"uid\": \"fb88dc57-9f2f-45a5-a6bd-86fae5a2a14c\"}, {\"hoverinfo\": \"name+text\", \"legendgroup\": \"real\", \"line\": {\"color\": \"green\", \"width\": 1}, \"name\": \"real\", \"opacity\": 1, \"showlegend\": false, \"text\": [\"41146\", \"73201\"], \"x\": [170.40099999999995, 258.338], \"y\": [21.0637, 29.1488], \"type\": \"scatter\", \"uid\": \"06dc77dc-7113-4510-9528-d7c3a75aaf9a\"}, {\"hoverinfo\": \"name+text\", \"legendgroup\": \"real\", \"line\": {\"color\": \"green\", \"width\": 1}, \"name\": \"real\", \"opacity\": 1, \"showlegend\": false, \"text\": [\"73201\", \"79641\"], \"x\": [258.338, 359.452], \"y\": [29.1488, 36.1999], \"type\": \"scatter\", \"uid\": \"ac70051f-dd7a-4fef-bd82-ac5dcf6f43f9\"}, {\"hoverinfo\": \"name+text\", \"legendgroup\": \"real\", \"line\": {\"color\": \"green\", \"width\": 1}, \"name\": \"real\", \"opacity\": 1, \"showlegend\": false, \"text\": [\"79641\", \"86195\"], \"x\": [359.452, 503.503], \"y\": [36.1999, 42.0709], \"type\": \"scatter\", \"uid\": \"77e425e0-3d5a-4668-91d7-21acc34ce9ee\"}, {\"hoverinfo\": \"name+text\", \"legendgroup\": \"real\", \"line\": {\"color\": \"green\", \"width\": 1}, \"name\": \"real\", \"opacity\": 1, \"showlegend\": false, \"text\": [\"86195\", \"91955\"], \"x\": [503.503, 663.908], \"y\": [42.0709, 43.0984], \"type\": \"scatter\", \"uid\": \"66ba33fd-b307-443b-8a0a-7174155d7842\"}, {\"hoverinfo\": \"name+text\", \"legendgroup\": \"real\", \"line\": {\"color\": \"green\", \"width\": 1}, \"name\": \"real\", \"opacity\": 1, \"showlegend\": false, \"text\": [\"91955\", \"107743\"], \"x\": [663.908, 823.312], \"y\": [43.0984, 38.3265], \"type\": \"scatter\", \"uid\": \"9aba88c7-f002-4d87-86d9-9380cbcb6b79\"}, {\"hoverinfo\": \"name+text\", \"legendgroup\": \"real\", \"line\": {\"color\": \"green\", \"width\": 1}, \"name\": \"real\", \"opacity\": 1, \"showlegend\": false, \"text\": [\"19698\", \"27827\"], \"x\": [-4.16977, -9.16296], \"y\": [-31.75, -71.4937], \"type\": \"scatter\", \"uid\": \"e24fc22a-c723-4c04-9f0f-9ee1c54e8a85\"}, {\"hoverinfo\": \"name+text\", \"legendgroup\": \"real\", \"line\": {\"color\": \"green\", \"width\": 1}, \"name\": \"real\", \"opacity\": 1, \"showlegend\": false, \"text\": [\"27827\", \"35259\"], \"x\": [-9.16296, -14.2464], \"y\": [-71.4937, -114.127], \"type\": \"scatter\", \"uid\": \"d902505c-60c5-4848-950c-b8e36a7f5a28\"}, {\"hoverinfo\": \"name+text\", \"legendgroup\": \"real\", \"line\": {\"color\": \"green\", \"width\": 1}, \"name\": \"real\", \"opacity\": 1, \"showlegend\": false, \"text\": [\"35259\", \"41464\"], \"x\": [-14.2464, -20.5217], \"y\": [-114.127, -170.169], \"type\": \"scatter\", \"uid\": \"1d2ed597-0eb3-4c37-8009-8b1c0909af82\"}, {\"hoverinfo\": \"name+text\", \"legendgroup\": \"real\", \"line\": {\"color\": \"green\", \"width\": 1}, \"name\": \"real\", \"opacity\": 1, \"showlegend\": false, \"text\": [\"41464\", \"73085\"], \"x\": [-20.5217, -29.116], \"y\": [-170.169, -255.648], \"type\": \"scatter\", \"uid\": \"23e70e2d-63c6-4cbe-af32-ceebf60aa03a\"}, {\"hoverinfo\": \"name+text\", \"legendgroup\": \"real\", \"line\": {\"color\": \"green\", \"width\": 1}, \"name\": \"real\", \"opacity\": 1, \"showlegend\": false, \"text\": [\"73085\", \"79880\"], \"x\": [-29.116, -38.3955], \"y\": [-255.648, -363.693], \"type\": \"scatter\", \"uid\": \"783a4a34-b148-4c13-bf2f-a686bb2f09b9\"}, {\"hoverinfo\": \"name+text\", \"legendgroup\": \"real\", \"line\": {\"color\": \"green\", \"width\": 1}, \"name\": \"real\", \"opacity\": 1, \"showlegend\": false, \"text\": [\"79880\", \"86402\"], \"x\": [-38.3955, -47.3072], \"y\": [-363.693, -495.195], \"type\": \"scatter\", \"uid\": \"856c2fee-4fd2-4b75-b4e7-2891c40f2c84\"}, {\"hoverinfo\": \"name+text\", \"legendgroup\": \"real\", \"line\": {\"color\": \"green\", \"width\": 1}, \"name\": \"real\", \"opacity\": 1, \"showlegend\": false, \"text\": [\"86402\", \"92130\"], \"x\": [-47.3072, -54.4897], \"y\": [-495.195, -654.254], \"type\": \"scatter\", \"uid\": \"80d85a3e-3273-46b4-bee2-10e41a2862a7\"}, {\"hoverinfo\": \"name+text\", \"legendgroup\": \"real\", \"line\": {\"color\": \"green\", \"width\": 1}, \"name\": \"real\", \"opacity\": 1, \"showlegend\": false, \"text\": [\"92130\", \"107883\"], \"x\": [-54.4897, -57.8177], \"y\": [-654.254, -817.466], \"type\": \"scatter\", \"uid\": \"088a8e49-c7ca-491d-b05e-e7619e1252fb\"}, {\"hoverinfo\": \"name+text\", \"legendgroup\": \"real\", \"line\": {\"color\": \"green\", \"width\": 1}, \"name\": \"real\", \"opacity\": 1, \"showlegend\": false, \"text\": [\"21265\", \"29504\"], \"x\": [-31.6364, -70.206], \"y\": [6.18379, 14.1226], \"type\": \"scatter\", \"uid\": \"0607d166-9c96-40aa-a58e-8d34f2ce1398\"}, {\"hoverinfo\": \"name+text\", \"legendgroup\": \"real\", \"line\": {\"color\": \"green\", \"width\": 1}, \"name\": \"real\", \"opacity\": 1, \"showlegend\": false, \"text\": [\"29504\", \"42350\"], \"x\": [-70.206, -168.155], \"y\": [14.1226, 36.3725], \"type\": \"scatter\", \"uid\": \"d4108bba-d685-4373-a466-6497ec4b409a\"}, {\"hoverinfo\": \"name+text\", \"legendgroup\": \"real\", \"line\": {\"color\": \"green\", \"width\": 1}, \"name\": \"real\", \"opacity\": 1, \"showlegend\": false, \"text\": [\"42350\", \"73830\"], \"x\": [-168.155, -255.151], \"y\": [36.3725, 58.8872], \"type\": \"scatter\", \"uid\": \"ff2ebfd9-e67d-4ad3-8bb5-6c47d9cd41c9\"}, {\"hoverinfo\": \"name+text\", \"legendgroup\": \"real\", \"line\": {\"color\": \"green\", \"width\": 1}, \"name\": \"real\", \"opacity\": 1, \"showlegend\": false, \"text\": [\"73830\", \"80933\"], \"x\": [-255.151, -353.285], \"y\": [58.8872, 87.1991], \"type\": \"scatter\", \"uid\": \"ac1505de-2283-4319-b550-7e293cdc32f3\"}, {\"hoverinfo\": \"name+text\", \"legendgroup\": \"real\", \"line\": {\"color\": \"green\", \"width\": 1}, \"name\": \"real\", \"opacity\": 1, \"showlegend\": false, \"text\": [\"80933\", \"87292\"], \"x\": [-353.285, -482.875], \"y\": [87.1991, 129.892], \"type\": \"scatter\", \"uid\": \"51478e3e-6d54-4cd9-ac2e-549f7311a0bd\"}, {\"hoverinfo\": \"name+text\", \"legendgroup\": \"real\", \"line\": {\"color\": \"green\", \"width\": 1}, \"name\": \"real\", \"opacity\": 1, \"showlegend\": false, \"text\": [\"87292\", \"93165\"], \"x\": [-482.875, -633.385], \"y\": [129.892, 187.317], \"type\": \"scatter\", \"uid\": \"0c564428-3118-4cbc-8069-45d94a18d6ac\"}, {\"hoverinfo\": \"name+text\", \"legendgroup\": \"real\", \"line\": {\"color\": \"green\", \"width\": 1}, \"name\": \"real\", \"opacity\": 1, \"showlegend\": false, \"text\": [\"93165\", \"109022\"], \"x\": [-633.385, -782.4169999999998], \"y\": [187.317, 252.867], \"type\": \"scatter\", \"uid\": \"552a67f9-cd97-42ca-a579-c667e6c06e16\"}, {\"hoverinfo\": \"name+text\", \"legendgroup\": \"real\", \"line\": {\"color\": \"green\", \"width\": 1}, \"name\": \"real\", \"opacity\": 1, \"showlegend\": false, \"text\": [\"109022\", \"114036\"], \"x\": [-782.4169999999998, -962.827], \"y\": [252.867, 344.76199999999994], \"type\": \"scatter\", \"uid\": \"d6e70b52-5006-4667-a552-fa68134d2ce9\"}], {\"height\": 800, \"hovermode\": \"closest\", \"showlegend\": true, \"updatemenus\": [{\"buttons\": [{\"args\": [\"shapes\", []], \"label\": \"hide layers\", \"method\": \"relayout\"}, {\"args\": [\"shapes\", [{\"type\": \"circle\", \"x0\": -32, \"x1\": 32, \"y0\": -32, \"y1\": 32, \"opacity\": 0.5, \"layer\": \"below\", \"line\": {\"color\": \"#ccc\"}}, {\"type\": \"circle\", \"x0\": -72, \"x1\": 72, \"y0\": -72, \"y1\": 72, \"opacity\": 0.5, \"layer\": \"below\", \"line\": {\"color\": \"#ccc\"}}, {\"type\": \"circle\", \"x0\": -116, \"x1\": 116, \"y0\": -116, \"y1\": 116, \"opacity\": 0.5, \"layer\": \"below\", \"line\": {\"color\": \"#ccc\"}}, {\"type\": \"circle\", \"x0\": -172, \"x1\": 172, \"y0\": -172, \"y1\": 172, \"opacity\": 0.5, \"layer\": \"below\", \"line\": {\"color\": \"#ccc\"}}, {\"type\": \"circle\", \"x0\": -260, \"x1\": 260, \"y0\": -260, \"y1\": 260, \"opacity\": 0.5, \"layer\": \"below\", \"line\": {\"color\": \"#cccc8d\"}}, {\"type\": \"circle\", \"x0\": -360, \"x1\": 360, \"y0\": -360, \"y1\": 360, \"opacity\": 0.5, \"layer\": \"below\", \"line\": {\"color\": \"#cccc8d\"}}, {\"type\": \"circle\", \"x0\": -500, \"x1\": 500, \"y0\": -500, \"y1\": 500, \"opacity\": 0.5, \"layer\": \"below\", \"line\": {\"color\": \"#cccc8d\"}}, {\"type\": \"circle\", \"x0\": -660, \"x1\": 660, \"y0\": -660, \"y1\": 660, \"opacity\": 0.5, \"layer\": \"below\", \"line\": {\"color\": \"#cccc8d\"}}, {\"type\": \"circle\", \"x0\": -820, \"x1\": 820, \"y0\": -820, \"y1\": 820, \"opacity\": 0.5, \"layer\": \"below\", \"line\": {\"color\": \"#ccc\"}}, {\"type\": \"circle\", \"x0\": -1020, \"x1\": 1020, \"y0\": -1020, \"y1\": 1020, \"opacity\": 0.5, \"layer\": \"below\", \"line\": {\"color\": \"#ccc\"}}]], \"label\": \"show layers\", \"method\": \"relayout\"}], \"direction\": \"left\", \"pad\": {\"l\": 0.1}, \"type\": \"buttons\", \"xanchor\": \"left\", \"y\": 1.1, \"yanchor\": \"top\"}, {\"buttons\": [{\"args\": [{\"mode\": \"markers+lines\"}], \"label\": \"hits+tracks\", \"method\": \"update\"}, {\"args\": [{\"mode\": \"markers\"}], \"label\": \"hits only\", \"method\": \"update\"}], \"direction\": \"left\", \"pad\": {\"l\": 200}, \"type\": \"buttons\", \"xanchor\": \"left\", \"y\": 1.1, \"yanchor\": \"top\"}, {\"buttons\": [{\"args\": [\"yaxis.scaleanchor\", null], \"label\": \"free\", \"method\": \"relayout\"}, {\"args\": [\"yaxis.scaleanchor\", \"x\"], \"label\": \"fixed\", \"method\": \"relayout\"}], \"direction\": \"left\", \"pad\": {\"l\": 380}, \"type\": \"buttons\", \"xanchor\": \"left\", \"y\": 1.1, \"yanchor\": \"top\"}], \"width\": 800, \"xaxis\": {\"title\": \"x\"}, \"yaxis\": {\"title\": \"y\"}}, {\"showLink\": true, \"linkText\": \"Export to plot.ly\", \"plotlyServerURL\": \"https://plot.ly\"})});</script>"
      ],
      "text/vnd.plotly.v1+html": [
       "<div id=\"adc9c0b7-c3ae-4730-b0af-602fb7e369ee\" style=\"height: 800px; width: 800px;\" class=\"plotly-graph-div\"></div><script type=\"text/javascript\">require([\"plotly\"], function(Plotly) { window.PLOTLYENV=window.PLOTLYENV || {};window.PLOTLYENV.BASE_URL=\"https://plot.ly\";Plotly.newPlot(\"adc9c0b7-c3ae-4730-b0af-602fb7e369ee\", [{\"hoverinfo\": \"name+text\", \"legendgroup\": \"real_unfocused\", \"line\": {\"color\": \"darkseagreen\", \"width\": 1}, \"name\": \"real_unfocused\", \"opacity\": 1, \"showlegend\": true, \"text\": [\"18246\", \"27129\"], \"x\": [-21.7191, -49.4278], \"y\": [-22.879, -53.6609], \"type\": \"scatter\", \"uid\": \"4613b4bb-27c7-4a00-89f5-1b73b439c7d2\"}, {\"hoverinfo\": \"name+text\", \"legendgroup\": \"real_unfocused\", \"line\": {\"color\": \"darkseagreen\", \"width\": 1}, \"name\": \"real_unfocused\", \"opacity\": 1, \"showlegend\": false, \"text\": [\"27129\", \"34226\"], \"x\": [-49.4278, -76.6251], \"y\": [-53.6609, -85.78], \"type\": \"scatter\", \"uid\": \"2fb01647-ecd1-41c7-addc-1ad7989ebc1c\"}, {\"hoverinfo\": \"name+text\", \"legendgroup\": \"real_unfocused\", \"line\": {\"color\": \"darkseagreen\", \"width\": 1}, \"name\": \"real_unfocused\", \"opacity\": 1, \"showlegend\": false, \"text\": [\"34226\", \"40268\"], \"x\": [-76.6251, -111.405], \"y\": [-85.78, -130.203], \"type\": \"scatter\", \"uid\": \"fc3477d5-c063-495e-9f84-1655a75a8feb\"}, {\"hoverinfo\": \"name+text\", \"legendgroup\": \"real_unfocused\", \"line\": {\"color\": \"darkseagreen\", \"width\": 1}, \"name\": \"real_unfocused\", \"opacity\": 1, \"showlegend\": false, \"text\": [\"40268\", \"72036\"], \"x\": [-111.405, -163.782], \"y\": [-130.203, -205.827], \"type\": \"scatter\", \"uid\": \"dabd2e21-9fd1-4b89-a7dc-e4cbc2e3e9ab\"}, {\"hoverinfo\": \"name+text\", \"legendgroup\": \"real_unfocused\", \"line\": {\"color\": \"darkseagreen\", \"width\": 1}, \"name\": \"real_unfocused\", \"opacity\": 1, \"showlegend\": false, \"text\": [\"72036\", \"78762\"], \"x\": [-163.782, -213.656], \"y\": [-205.827, -290.52], \"type\": \"scatter\", \"uid\": \"7d484f20-c63c-4a89-9251-2874c9c90744\"}, {\"hoverinfo\": \"name+text\", \"legendgroup\": \"real_unfocused\", \"line\": {\"color\": \"darkseagreen\", \"width\": 1}, \"name\": \"real_unfocused\", \"opacity\": 1, \"showlegend\": false, \"text\": [\"23050\", \"30426\"], \"x\": [-4.64343, -9.44367], \"y\": [31.6821, 70.8192], \"type\": \"scatter\", \"uid\": \"db85cd74-889a-4d2d-9c4b-12daa76dbeb6\"}, {\"hoverinfo\": \"name+text\", \"legendgroup\": \"real_unfocused\", \"line\": {\"color\": \"darkseagreen\", \"width\": 1}, \"name\": \"real_unfocused\", \"opacity\": 1, \"showlegend\": false, \"text\": [\"30426\", \"37198\"], \"x\": [-9.44367, -13.5617], \"y\": [70.8192, 114.204], \"type\": \"scatter\", \"uid\": \"325a04a3-97f1-4bf3-b178-a13e32288556\"}, {\"hoverinfo\": \"name+text\", \"legendgroup\": \"real_unfocused\", \"line\": {\"color\": \"darkseagreen\", \"width\": 1}, \"name\": \"real_unfocused\", \"opacity\": 1, \"showlegend\": false, \"text\": [\"37198\", \"44045\"], \"x\": [-13.5617, -16.8728], \"y\": [114.204, 171.016], \"type\": \"scatter\", \"uid\": \"e3320ee7-e4e9-4245-8380-5335c8432e67\"}, {\"hoverinfo\": \"name+text\", \"legendgroup\": \"real_unfocused\", \"line\": {\"color\": \"darkseagreen\", \"width\": 1}, \"name\": \"real_unfocused\", \"opacity\": 1, \"showlegend\": false, \"text\": [\"44045\", \"75480\"], \"x\": [-16.8728, -17.738], \"y\": [171.016, 257.521], \"type\": \"scatter\", \"uid\": \"34a93ac4-d88d-4039-bbe0-6196ad2a17bf\"}, {\"hoverinfo\": \"name+text\", \"legendgroup\": \"real_unfocused\", \"line\": {\"color\": \"darkseagreen\", \"width\": 1}, \"name\": \"real_unfocused\", \"opacity\": 1, \"showlegend\": false, \"text\": [\"75480\", \"82723\"], \"x\": [-17.738, -11.9561], \"y\": [257.521, 360.148], \"type\": \"scatter\", \"uid\": \"08d5c3db-5e52-4fd8-b58d-76e9eed78a9d\"}, {\"hoverinfo\": \"name+text\", \"legendgroup\": \"real_unfocused\", \"line\": {\"color\": \"darkseagreen\", \"width\": 1}, \"name\": \"real_unfocused\", \"opacity\": 1, \"showlegend\": false, \"text\": [\"21405\", \"30694\"], \"x\": [-33.5947, -73.825], \"y\": [0.8266889999999999, 0.838565], \"type\": \"scatter\", \"uid\": \"bd6e7cf7-9af5-4937-b838-81bf843bb6f2\"}, {\"hoverinfo\": \"name+text\", \"legendgroup\": \"real_unfocused\", \"line\": {\"color\": \"darkseagreen\", \"width\": 1}, \"name\": \"real_unfocused\", \"opacity\": 1, \"showlegend\": false, \"text\": [\"30694\", \"38058\"], \"x\": [-73.825, -116.911], \"y\": [0.838565, -0.235947], \"type\": \"scatter\", \"uid\": \"7478a481-492b-4817-80aa-501c55bb7c21\"}, {\"hoverinfo\": \"name+text\", \"legendgroup\": \"real_unfocused\", \"line\": {\"color\": \"darkseagreen\", \"width\": 1}, \"name\": \"real_unfocused\", \"opacity\": 1, \"showlegend\": false, \"text\": [\"38058\", \"44664\"], \"x\": [-116.911, -172.74200000000005], \"y\": [-0.235947, -3.4674400000000003], \"type\": \"scatter\", \"uid\": \"7efdf525-e903-4639-b245-5d9b3eda7a57\"}, {\"hoverinfo\": \"name+text\", \"legendgroup\": \"real_unfocused\", \"line\": {\"color\": \"darkseagreen\", \"width\": 1}, \"name\": \"real_unfocused\", \"opacity\": 1, \"showlegend\": false, \"text\": [\"44664\", \"76101\"], \"x\": [-172.74200000000005, -257.127], \"y\": [-3.4674400000000003, -12.2321], \"type\": \"scatter\", \"uid\": \"cd90b548-8618-4fa7-bd0e-6490356d7589\"}, {\"hoverinfo\": \"name+text\", \"legendgroup\": \"real_unfocused\", \"line\": {\"color\": \"darkseagreen\", \"width\": 1}, \"name\": \"real_unfocused\", \"opacity\": 1, \"showlegend\": false, \"text\": [\"76101\", \"83615\"], \"x\": [-257.127, -358.775], \"y\": [-12.2321, -29.005], \"type\": \"scatter\", \"uid\": \"98e8db94-9862-4fb6-83c2-e0f1d1e1c905\"}, {\"hoverinfo\": \"name+text\", \"legendgroup\": \"real_unfocused\", \"line\": {\"color\": \"darkseagreen\", \"width\": 1}, \"name\": \"real_unfocused\", \"opacity\": 1, \"showlegend\": false, \"text\": [\"83615\", \"90565\"], \"x\": [-358.775, -494.937], \"y\": [-29.005, -62.5497], \"type\": \"scatter\", \"uid\": \"91016202-e0e1-47d6-aa8a-ed5cc5d1408f\"}, {\"hoverinfo\": \"name+text\", \"legendgroup\": \"real_unfocused\", \"line\": {\"color\": \"darkseagreen\", \"width\": 1}, \"name\": \"real_unfocused\", \"opacity\": 1, \"showlegend\": false, \"text\": [\"90565\", \"96738\"], \"x\": [-494.937, -650.641], \"y\": [-62.5497, -117.418], \"type\": \"scatter\", \"uid\": \"aaec2af7-25a9-4af3-9773-9a6f911a4222\"}, {\"hoverinfo\": \"name+text\", \"legendgroup\": \"real_unfocused\", \"line\": {\"color\": \"darkseagreen\", \"width\": 1}, \"name\": \"real_unfocused\", \"opacity\": 1, \"showlegend\": false, \"text\": [\"75184\", \"82090\"], \"x\": [-1.10379, -15.6281], \"y\": [-262.164, -358.871], \"type\": \"scatter\", \"uid\": \"01b17159-aa33-45f7-997b-3ea26f58486a\"}, {\"hoverinfo\": \"name+text\", \"legendgroup\": \"real_unfocused\", \"line\": {\"color\": \"darkseagreen\", \"width\": 1}, \"name\": \"real_unfocused\", \"opacity\": 1, \"showlegend\": false, \"text\": [\"82090\", \"88632\"], \"x\": [-15.6281, -48.3976], \"y\": [-358.871, -494.939], \"type\": \"scatter\", \"uid\": \"e127de48-f2f8-4197-a91c-4eb192184d90\"}, {\"hoverinfo\": \"name+text\", \"legendgroup\": \"real_unfocused\", \"line\": {\"color\": \"darkseagreen\", \"width\": 1}, \"name\": \"real_unfocused\", \"opacity\": 1, \"showlegend\": false, \"text\": [\"88632\", \"94896\"], \"x\": [-48.3976, -107.941], \"y\": [-494.939, -654.971], \"type\": \"scatter\", \"uid\": \"c0154c46-d5b4-4950-9296-55610caf8a44\"}, {\"hoverinfo\": \"name+text\", \"legendgroup\": \"real_unfocused\", \"line\": {\"color\": \"darkseagreen\", \"width\": 1}, \"name\": \"real_unfocused\", \"opacity\": 1, \"showlegend\": false, \"text\": [\"94896\", \"110783\"], \"x\": [-107.941, -184.63], \"y\": [-654.971, -801.703], \"type\": \"scatter\", \"uid\": \"378a1c39-2973-4cc2-a520-4ef654ef6d39\"}, {\"hoverinfo\": \"name+text\", \"legendgroup\": \"real_unfocused\", \"line\": {\"color\": \"darkseagreen\", \"width\": 1}, \"name\": \"real_unfocused\", \"opacity\": 1, \"showlegend\": false, \"text\": [\"110783\", \"116120\"], \"x\": [-184.63, -306.828], \"y\": [-801.703, -971.876], \"type\": \"scatter\", \"uid\": \"eb2f5f93-2969-469f-986d-21fb058b5714\"}, {\"hoverinfo\": \"name+text\", \"legendgroup\": \"real\", \"line\": {\"color\": \"green\", \"width\": 1}, \"name\": \"real\", \"opacity\": 1, \"showlegend\": true, \"text\": [\"20764\", \"27487\"], \"x\": [5.5706, 10.5024], \"y\": [31.671, 72.0453], \"type\": \"scatter\", \"uid\": \"4cd5bf2d-e42e-4a46-a0c8-372970fb8c59\"}, {\"hoverinfo\": \"name+text\", \"legendgroup\": \"real\", \"line\": {\"color\": \"green\", \"width\": 1}, \"name\": \"real\", \"opacity\": 1, \"showlegend\": false, \"text\": [\"27487\", \"34491\"], \"x\": [10.5024, 14.7116], \"y\": [72.0453, 114.108], \"type\": \"scatter\", \"uid\": \"32ff2726-7595-4cd2-9f28-e54ea4fd4a8d\"}, {\"hoverinfo\": \"name+text\", \"legendgroup\": \"real\", \"line\": {\"color\": \"green\", \"width\": 1}, \"name\": \"real\", \"opacity\": 1, \"showlegend\": false, \"text\": [\"34491\", \"40865\"], \"x\": [14.7116, 18.992], \"y\": [114.108, 171.997], \"type\": \"scatter\", \"uid\": \"f50d7013-94ea-412a-a10d-bae8539b6983\"}, {\"hoverinfo\": \"name+text\", \"legendgroup\": \"real\", \"line\": {\"color\": \"green\", \"width\": 1}, \"name\": \"real\", \"opacity\": 1, \"showlegend\": false, \"text\": [\"40865\", \"72549\"], \"x\": [18.992, 22.298], \"y\": [171.997, 257.23400000000004], \"type\": \"scatter\", \"uid\": \"c56dbdb9-8ae6-4ba6-af50-fbf572905199\"}, {\"hoverinfo\": \"name+text\", \"legendgroup\": \"real\", \"line\": {\"color\": \"green\", \"width\": 1}, \"name\": \"real\", \"opacity\": 1, \"showlegend\": false, \"text\": [\"72549\", \"79138\"], \"x\": [22.298, 21.6577], \"y\": [257.23400000000004, 357.611], \"type\": \"scatter\", \"uid\": \"56c3d0dd-8a64-48b5-a53f-4517f07dcdb3\"}, {\"hoverinfo\": \"name+text\", \"legendgroup\": \"real\", \"line\": {\"color\": \"green\", \"width\": 1}, \"name\": \"real\", \"opacity\": 1, \"showlegend\": false, \"text\": [\"79138\", \"85537\"], \"x\": [21.6577, 12.251], \"y\": [357.611, 496.648], \"type\": \"scatter\", \"uid\": \"f5e54530-1d53-40cd-ac31-39895dabd45f\"}, {\"hoverinfo\": \"name+text\", \"legendgroup\": \"real\", \"line\": {\"color\": \"green\", \"width\": 1}, \"name\": \"real\", \"opacity\": 1, \"showlegend\": false, \"text\": [\"23536\", \"31418\"], \"x\": [-30.9263, -68.8454], \"y\": [9.9814, 22.8573], \"type\": \"scatter\", \"uid\": \"d975c369-562c-495d-a3c0-3e27779db1dd\"}, {\"hoverinfo\": \"name+text\", \"legendgroup\": \"real\", \"line\": {\"color\": \"green\", \"width\": 1}, \"name\": \"real\", \"opacity\": 1, \"showlegend\": false, \"text\": [\"31418\", \"38524\"], \"x\": [-68.8454, -109.987], \"y\": [22.8573, 37.6253], \"type\": \"scatter\", \"uid\": \"112e206d-89d5-412c-883c-328f9d164527\"}, {\"hoverinfo\": \"name+text\", \"legendgroup\": \"real\", \"line\": {\"color\": \"green\", \"width\": 1}, \"name\": \"real\", \"opacity\": 1, \"showlegend\": false, \"text\": [\"38524\", \"45067\"], \"x\": [-109.987, -161.876], \"y\": [37.6253, 57.4577], \"type\": \"scatter\", \"uid\": \"05863249-ce5f-4349-aaa7-2c4a1f347459\"}, {\"hoverinfo\": \"name+text\", \"legendgroup\": \"real\", \"line\": {\"color\": \"green\", \"width\": 1}, \"name\": \"real\", \"opacity\": 1, \"showlegend\": false, \"text\": [\"45067\", \"76902\"], \"x\": [-161.876, -246.02], \"y\": [57.4577, 92.7332], \"type\": \"scatter\", \"uid\": \"803a53f0-46d8-4421-b6c3-3912bc15606c\"}, {\"hoverinfo\": \"name+text\", \"legendgroup\": \"real\", \"line\": {\"color\": \"green\", \"width\": 1}, \"name\": \"real\", \"opacity\": 1, \"showlegend\": false, \"text\": [\"76902\", \"83944\"], \"x\": [-246.02, -333.426], \"y\": [92.7332, 133.519], \"type\": \"scatter\", \"uid\": \"70a1f5ad-7f48-4eb1-aedf-0a66906d13ae\"}, {\"hoverinfo\": \"name+text\", \"legendgroup\": \"real\", \"line\": {\"color\": \"green\", \"width\": 1}, \"name\": \"real\", \"opacity\": 1, \"showlegend\": false, \"text\": [\"83944\", \"90803\"], \"x\": [-333.426, -459.273], \"y\": [133.519, 200.49400000000003], \"type\": \"scatter\", \"uid\": \"486d1b51-05c1-4570-bc84-f526d9516a1d\"}, {\"hoverinfo\": \"name+text\", \"legendgroup\": \"real\", \"line\": {\"color\": \"green\", \"width\": 1}, \"name\": \"real\", \"opacity\": 1, \"showlegend\": false, \"text\": [\"90803\", \"96934\"], \"x\": [-459.273, -595.614], \"y\": [200.49400000000003, 284.758], \"type\": \"scatter\", \"uid\": \"0063601e-29b1-4418-a54e-bcf94b312090\"}, {\"hoverinfo\": \"name+text\", \"legendgroup\": \"real\", \"line\": {\"color\": \"green\", \"width\": 1}, \"name\": \"real\", \"opacity\": 1, \"showlegend\": false, \"text\": [\"20262\", \"28058\"], \"x\": [32.2451, 70.7765], \"y\": [4.53326, 9.61941], \"type\": \"scatter\", \"uid\": \"c6205802-9d7e-4611-91b4-93d76d3212ed\"}, {\"hoverinfo\": \"name+text\", \"legendgroup\": \"real\", \"line\": {\"color\": \"green\", \"width\": 1}, \"name\": \"real\", \"opacity\": 1, \"showlegend\": false, \"text\": [\"28058\", \"34877\"], \"x\": [70.7765, 114.433], \"y\": [9.61941, 14.9217], \"type\": \"scatter\", \"uid\": \"ca07a9ce-eb7c-4649-85de-dbcdd8748f29\"}, {\"hoverinfo\": \"name+text\", \"legendgroup\": \"real\", \"line\": {\"color\": \"green\", \"width\": 1}, \"name\": \"real\", \"opacity\": 1, \"showlegend\": false, \"text\": [\"34877\", \"41146\"], \"x\": [114.433, 170.40099999999995], \"y\": [14.9217, 21.0637], \"type\": \"scatter\", \"uid\": \"fb88dc57-9f2f-45a5-a6bd-86fae5a2a14c\"}, {\"hoverinfo\": \"name+text\", \"legendgroup\": \"real\", \"line\": {\"color\": \"green\", \"width\": 1}, \"name\": \"real\", \"opacity\": 1, \"showlegend\": false, \"text\": [\"41146\", \"73201\"], \"x\": [170.40099999999995, 258.338], \"y\": [21.0637, 29.1488], \"type\": \"scatter\", \"uid\": \"06dc77dc-7113-4510-9528-d7c3a75aaf9a\"}, {\"hoverinfo\": \"name+text\", \"legendgroup\": \"real\", \"line\": {\"color\": \"green\", \"width\": 1}, \"name\": \"real\", \"opacity\": 1, \"showlegend\": false, \"text\": [\"73201\", \"79641\"], \"x\": [258.338, 359.452], \"y\": [29.1488, 36.1999], \"type\": \"scatter\", \"uid\": \"ac70051f-dd7a-4fef-bd82-ac5dcf6f43f9\"}, {\"hoverinfo\": \"name+text\", \"legendgroup\": \"real\", \"line\": {\"color\": \"green\", \"width\": 1}, \"name\": \"real\", \"opacity\": 1, \"showlegend\": false, \"text\": [\"79641\", \"86195\"], \"x\": [359.452, 503.503], \"y\": [36.1999, 42.0709], \"type\": \"scatter\", \"uid\": \"77e425e0-3d5a-4668-91d7-21acc34ce9ee\"}, {\"hoverinfo\": \"name+text\", \"legendgroup\": \"real\", \"line\": {\"color\": \"green\", \"width\": 1}, \"name\": \"real\", \"opacity\": 1, \"showlegend\": false, \"text\": [\"86195\", \"91955\"], \"x\": [503.503, 663.908], \"y\": [42.0709, 43.0984], \"type\": \"scatter\", \"uid\": \"66ba33fd-b307-443b-8a0a-7174155d7842\"}, {\"hoverinfo\": \"name+text\", \"legendgroup\": \"real\", \"line\": {\"color\": \"green\", \"width\": 1}, \"name\": \"real\", \"opacity\": 1, \"showlegend\": false, \"text\": [\"91955\", \"107743\"], \"x\": [663.908, 823.312], \"y\": [43.0984, 38.3265], \"type\": \"scatter\", \"uid\": \"9aba88c7-f002-4d87-86d9-9380cbcb6b79\"}, {\"hoverinfo\": \"name+text\", \"legendgroup\": \"real\", \"line\": {\"color\": \"green\", \"width\": 1}, \"name\": \"real\", \"opacity\": 1, \"showlegend\": false, \"text\": [\"19698\", \"27827\"], \"x\": [-4.16977, -9.16296], \"y\": [-31.75, -71.4937], \"type\": \"scatter\", \"uid\": \"e24fc22a-c723-4c04-9f0f-9ee1c54e8a85\"}, {\"hoverinfo\": \"name+text\", \"legendgroup\": \"real\", \"line\": {\"color\": \"green\", \"width\": 1}, \"name\": \"real\", \"opacity\": 1, \"showlegend\": false, \"text\": [\"27827\", \"35259\"], \"x\": [-9.16296, -14.2464], \"y\": [-71.4937, -114.127], \"type\": \"scatter\", \"uid\": \"d902505c-60c5-4848-950c-b8e36a7f5a28\"}, {\"hoverinfo\": \"name+text\", \"legendgroup\": \"real\", \"line\": {\"color\": \"green\", \"width\": 1}, \"name\": \"real\", \"opacity\": 1, \"showlegend\": false, \"text\": [\"35259\", \"41464\"], \"x\": [-14.2464, -20.5217], \"y\": [-114.127, -170.169], \"type\": \"scatter\", \"uid\": \"1d2ed597-0eb3-4c37-8009-8b1c0909af82\"}, {\"hoverinfo\": \"name+text\", \"legendgroup\": \"real\", \"line\": {\"color\": \"green\", \"width\": 1}, \"name\": \"real\", \"opacity\": 1, \"showlegend\": false, \"text\": [\"41464\", \"73085\"], \"x\": [-20.5217, -29.116], \"y\": [-170.169, -255.648], \"type\": \"scatter\", \"uid\": \"23e70e2d-63c6-4cbe-af32-ceebf60aa03a\"}, {\"hoverinfo\": \"name+text\", \"legendgroup\": \"real\", \"line\": {\"color\": \"green\", \"width\": 1}, \"name\": \"real\", \"opacity\": 1, \"showlegend\": false, \"text\": [\"73085\", \"79880\"], \"x\": [-29.116, -38.3955], \"y\": [-255.648, -363.693], \"type\": \"scatter\", \"uid\": \"783a4a34-b148-4c13-bf2f-a686bb2f09b9\"}, {\"hoverinfo\": \"name+text\", \"legendgroup\": \"real\", \"line\": {\"color\": \"green\", \"width\": 1}, \"name\": \"real\", \"opacity\": 1, \"showlegend\": false, \"text\": [\"79880\", \"86402\"], \"x\": [-38.3955, -47.3072], \"y\": [-363.693, -495.195], \"type\": \"scatter\", \"uid\": \"856c2fee-4fd2-4b75-b4e7-2891c40f2c84\"}, {\"hoverinfo\": \"name+text\", \"legendgroup\": \"real\", \"line\": {\"color\": \"green\", \"width\": 1}, \"name\": \"real\", \"opacity\": 1, \"showlegend\": false, \"text\": [\"86402\", \"92130\"], \"x\": [-47.3072, -54.4897], \"y\": [-495.195, -654.254], \"type\": \"scatter\", \"uid\": \"80d85a3e-3273-46b4-bee2-10e41a2862a7\"}, {\"hoverinfo\": \"name+text\", \"legendgroup\": \"real\", \"line\": {\"color\": \"green\", \"width\": 1}, \"name\": \"real\", \"opacity\": 1, \"showlegend\": false, \"text\": [\"92130\", \"107883\"], \"x\": [-54.4897, -57.8177], \"y\": [-654.254, -817.466], \"type\": \"scatter\", \"uid\": \"088a8e49-c7ca-491d-b05e-e7619e1252fb\"}, {\"hoverinfo\": \"name+text\", \"legendgroup\": \"real\", \"line\": {\"color\": \"green\", \"width\": 1}, \"name\": \"real\", \"opacity\": 1, \"showlegend\": false, \"text\": [\"21265\", \"29504\"], \"x\": [-31.6364, -70.206], \"y\": [6.18379, 14.1226], \"type\": \"scatter\", \"uid\": \"0607d166-9c96-40aa-a58e-8d34f2ce1398\"}, {\"hoverinfo\": \"name+text\", \"legendgroup\": \"real\", \"line\": {\"color\": \"green\", \"width\": 1}, \"name\": \"real\", \"opacity\": 1, \"showlegend\": false, \"text\": [\"29504\", \"42350\"], \"x\": [-70.206, -168.155], \"y\": [14.1226, 36.3725], \"type\": \"scatter\", \"uid\": \"d4108bba-d685-4373-a466-6497ec4b409a\"}, {\"hoverinfo\": \"name+text\", \"legendgroup\": \"real\", \"line\": {\"color\": \"green\", \"width\": 1}, \"name\": \"real\", \"opacity\": 1, \"showlegend\": false, \"text\": [\"42350\", \"73830\"], \"x\": [-168.155, -255.151], \"y\": [36.3725, 58.8872], \"type\": \"scatter\", \"uid\": \"ff2ebfd9-e67d-4ad3-8bb5-6c47d9cd41c9\"}, {\"hoverinfo\": \"name+text\", \"legendgroup\": \"real\", \"line\": {\"color\": \"green\", \"width\": 1}, \"name\": \"real\", \"opacity\": 1, \"showlegend\": false, \"text\": [\"73830\", \"80933\"], \"x\": [-255.151, -353.285], \"y\": [58.8872, 87.1991], \"type\": \"scatter\", \"uid\": \"ac1505de-2283-4319-b550-7e293cdc32f3\"}, {\"hoverinfo\": \"name+text\", \"legendgroup\": \"real\", \"line\": {\"color\": \"green\", \"width\": 1}, \"name\": \"real\", \"opacity\": 1, \"showlegend\": false, \"text\": [\"80933\", \"87292\"], \"x\": [-353.285, -482.875], \"y\": [87.1991, 129.892], \"type\": \"scatter\", \"uid\": \"51478e3e-6d54-4cd9-ac2e-549f7311a0bd\"}, {\"hoverinfo\": \"name+text\", \"legendgroup\": \"real\", \"line\": {\"color\": \"green\", \"width\": 1}, \"name\": \"real\", \"opacity\": 1, \"showlegend\": false, \"text\": [\"87292\", \"93165\"], \"x\": [-482.875, -633.385], \"y\": [129.892, 187.317], \"type\": \"scatter\", \"uid\": \"0c564428-3118-4cbc-8069-45d94a18d6ac\"}, {\"hoverinfo\": \"name+text\", \"legendgroup\": \"real\", \"line\": {\"color\": \"green\", \"width\": 1}, \"name\": \"real\", \"opacity\": 1, \"showlegend\": false, \"text\": [\"93165\", \"109022\"], \"x\": [-633.385, -782.4169999999998], \"y\": [187.317, 252.867], \"type\": \"scatter\", \"uid\": \"552a67f9-cd97-42ca-a579-c667e6c06e16\"}, {\"hoverinfo\": \"name+text\", \"legendgroup\": \"real\", \"line\": {\"color\": \"green\", \"width\": 1}, \"name\": \"real\", \"opacity\": 1, \"showlegend\": false, \"text\": [\"109022\", \"114036\"], \"x\": [-782.4169999999998, -962.827], \"y\": [252.867, 344.76199999999994], \"type\": \"scatter\", \"uid\": \"d6e70b52-5006-4667-a552-fa68134d2ce9\"}], {\"height\": 800, \"hovermode\": \"closest\", \"showlegend\": true, \"updatemenus\": [{\"buttons\": [{\"args\": [\"shapes\", []], \"label\": \"hide layers\", \"method\": \"relayout\"}, {\"args\": [\"shapes\", [{\"type\": \"circle\", \"x0\": -32, \"x1\": 32, \"y0\": -32, \"y1\": 32, \"opacity\": 0.5, \"layer\": \"below\", \"line\": {\"color\": \"#ccc\"}}, {\"type\": \"circle\", \"x0\": -72, \"x1\": 72, \"y0\": -72, \"y1\": 72, \"opacity\": 0.5, \"layer\": \"below\", \"line\": {\"color\": \"#ccc\"}}, {\"type\": \"circle\", \"x0\": -116, \"x1\": 116, \"y0\": -116, \"y1\": 116, \"opacity\": 0.5, \"layer\": \"below\", \"line\": {\"color\": \"#ccc\"}}, {\"type\": \"circle\", \"x0\": -172, \"x1\": 172, \"y0\": -172, \"y1\": 172, \"opacity\": 0.5, \"layer\": \"below\", \"line\": {\"color\": \"#ccc\"}}, {\"type\": \"circle\", \"x0\": -260, \"x1\": 260, \"y0\": -260, \"y1\": 260, \"opacity\": 0.5, \"layer\": \"below\", \"line\": {\"color\": \"#cccc8d\"}}, {\"type\": \"circle\", \"x0\": -360, \"x1\": 360, \"y0\": -360, \"y1\": 360, \"opacity\": 0.5, \"layer\": \"below\", \"line\": {\"color\": \"#cccc8d\"}}, {\"type\": \"circle\", \"x0\": -500, \"x1\": 500, \"y0\": -500, \"y1\": 500, \"opacity\": 0.5, \"layer\": \"below\", \"line\": {\"color\": \"#cccc8d\"}}, {\"type\": \"circle\", \"x0\": -660, \"x1\": 660, \"y0\": -660, \"y1\": 660, \"opacity\": 0.5, \"layer\": \"below\", \"line\": {\"color\": \"#cccc8d\"}}, {\"type\": \"circle\", \"x0\": -820, \"x1\": 820, \"y0\": -820, \"y1\": 820, \"opacity\": 0.5, \"layer\": \"below\", \"line\": {\"color\": \"#ccc\"}}, {\"type\": \"circle\", \"x0\": -1020, \"x1\": 1020, \"y0\": -1020, \"y1\": 1020, \"opacity\": 0.5, \"layer\": \"below\", \"line\": {\"color\": \"#ccc\"}}]], \"label\": \"show layers\", \"method\": \"relayout\"}], \"direction\": \"left\", \"pad\": {\"l\": 0.1}, \"type\": \"buttons\", \"xanchor\": \"left\", \"y\": 1.1, \"yanchor\": \"top\"}, {\"buttons\": [{\"args\": [{\"mode\": \"markers+lines\"}], \"label\": \"hits+tracks\", \"method\": \"update\"}, {\"args\": [{\"mode\": \"markers\"}], \"label\": \"hits only\", \"method\": \"update\"}], \"direction\": \"left\", \"pad\": {\"l\": 200}, \"type\": \"buttons\", \"xanchor\": \"left\", \"y\": 1.1, \"yanchor\": \"top\"}, {\"buttons\": [{\"args\": [\"yaxis.scaleanchor\", null], \"label\": \"free\", \"method\": \"relayout\"}, {\"args\": [\"yaxis.scaleanchor\", \"x\"], \"label\": \"fixed\", \"method\": \"relayout\"}], \"direction\": \"left\", \"pad\": {\"l\": 380}, \"type\": \"buttons\", \"xanchor\": \"left\", \"y\": 1.1, \"yanchor\": \"top\"}], \"width\": 800, \"xaxis\": {\"title\": \"x\"}, \"yaxis\": {\"title\": \"y\"}}, {\"showLink\": true, \"linkText\": \"Export to plot.ly\", \"plotlyServerURL\": \"https://plot.ly\"})});</script>"
      ]
     },
     "metadata": {},
     "output_type": "display_data"
    },
    {
     "data": {
      "application/vnd.plotly.v1+json": {
       "config": {
        "linkText": "Export to plot.ly",
        "plotlyServerURL": "https://plot.ly",
        "showLink": true
       },
       "data": [
        {
         "hoverinfo": "name+text",
         "legendgroup": "real_unfocused",
         "line": {
          "color": "darkseagreen",
          "width": 1
         },
         "name": "real_unfocused",
         "opacity": 1,
         "showlegend": true,
         "text": [
          "18246",
          "27129"
         ],
         "type": "scatter",
         "uid": "61104dc5-9b4e-4625-9ec1-b8929649b512",
         "x": [
          -70.5503,
          -161.067
         ],
         "y": [
          31.546282598905375,
          72.95614848420934
         ]
        },
        {
         "hoverinfo": "name+text",
         "legendgroup": "real_unfocused",
         "line": {
          "color": "darkseagreen",
          "width": 1
         },
         "name": "real_unfocused",
         "opacity": 1,
         "showlegend": false,
         "text": [
          "27129",
          "34226"
         ],
         "type": "scatter",
         "uid": "5d37ffd3-4213-42eb-968c-6afb66f80923",
         "x": [
          -161.067,
          -252.93400000000003
         ],
         "y": [
          72.95614848420934,
          115.02006064165504
         ]
        },
        {
         "hoverinfo": "name+text",
         "legendgroup": "real_unfocused",
         "line": {
          "color": "darkseagreen",
          "width": 1
         },
         "name": "real_unfocused",
         "opacity": 1,
         "showlegend": false,
         "text": [
          "34226",
          "40268"
         ],
         "type": "scatter",
         "uid": "4e0838a9-8c61-47fd-a196-6f8e14ec5981",
         "x": [
          -252.93400000000003,
          -376.026
         ],
         "y": [
          115.02006064165504,
          171.35896601578804
         ]
        },
        {
         "hoverinfo": "name+text",
         "legendgroup": "real_unfocused",
         "line": {
          "color": "darkseagreen",
          "width": 1
         },
         "name": "real_unfocused",
         "opacity": 1,
         "showlegend": false,
         "text": [
          "40268",
          "72036"
         ],
         "type": "scatter",
         "uid": "9f034d21-dd71-4e85-85dd-686908a444a6",
         "x": [
          -376.026,
          -576.2
         ],
         "y": [
          171.35896601578804,
          263.0385854831949
         ]
        },
        {
         "hoverinfo": "name+text",
         "legendgroup": "real_unfocused",
         "line": {
          "color": "darkseagreen",
          "width": 1
         },
         "name": "real_unfocused",
         "opacity": 1,
         "showlegend": false,
         "text": [
          "72036",
          "78762"
         ],
         "type": "scatter",
         "uid": "61d259f4-3947-49be-b4b5-721db2dee815",
         "x": [
          -576.2,
          -790.6
         ],
         "y": [
          263.0385854831949,
          360.6255076058819
         ]
        },
        {
         "hoverinfo": "name+text",
         "legendgroup": "real_unfocused",
         "line": {
          "color": "darkseagreen",
          "width": 1
         },
         "name": "real_unfocused",
         "opacity": 1,
         "showlegend": false,
         "text": [
          "23050",
          "30426"
         ],
         "type": "scatter",
         "uid": "0be77d1c-5f50-47af-9ee3-0b71cd50d3b0",
         "x": [
          23.0524,
          40.2954
         ],
         "y": [
          32.02056999141177,
          71.44607751100754
         ]
        },
        {
         "hoverinfo": "name+text",
         "legendgroup": "real_unfocused",
         "line": {
          "color": "darkseagreen",
          "width": 1
         },
         "name": "real_unfocused",
         "opacity": 1,
         "showlegend": false,
         "text": [
          "30426",
          "37198"
         ],
         "type": "scatter",
         "uid": "7fbdd8ff-6821-4b2b-abcd-81eb028e64ff",
         "x": [
          40.2954,
          59.2064
         ],
         "y": [
          71.44607751100754,
          115.0064055732984
         ]
        },
        {
         "hoverinfo": "name+text",
         "legendgroup": "real_unfocused",
         "line": {
          "color": "darkseagreen",
          "width": 1
         },
         "name": "real_unfocused",
         "opacity": 1,
         "showlegend": false,
         "text": [
          "37198",
          "44045"
         ],
         "type": "scatter",
         "uid": "599e0753-b3e4-48a4-8311-408055832007",
         "x": [
          59.2064,
          83.8711
         ],
         "y": [
          115.0064055732984,
          171.8463372779298
         ]
        },
        {
         "hoverinfo": "name+text",
         "legendgroup": "real_unfocused",
         "line": {
          "color": "darkseagreen",
          "width": 1
         },
         "name": "real_unfocused",
         "opacity": 1,
         "showlegend": false,
         "text": [
          "44045",
          "75480"
         ],
         "type": "scatter",
         "uid": "ecafe1f5-7bb4-4cc8-aee3-f52ca5a98f71",
         "x": [
          83.8711,
          121.6
         ],
         "y": [
          171.8463372779298,
          258.1311722458177
         ]
        },
        {
         "hoverinfo": "name+text",
         "legendgroup": "real_unfocused",
         "line": {
          "color": "darkseagreen",
          "width": 1
         },
         "name": "real_unfocused",
         "opacity": 1,
         "showlegend": false,
         "text": [
          "75480",
          "82723"
         ],
         "type": "scatter",
         "uid": "508180c8-a1d2-4882-8d1f-69775cd42a4e",
         "x": [
          121.6,
          165.8
         ],
         "y": [
          258.1311722458177,
          360.3464031056922
         ]
        },
        {
         "hoverinfo": "name+text",
         "legendgroup": "real_unfocused",
         "line": {
          "color": "darkseagreen",
          "width": 1
         },
         "name": "real_unfocused",
         "opacity": 1,
         "showlegend": false,
         "text": [
          "21405",
          "30694"
         ],
         "type": "scatter",
         "uid": "8b5bd3de-19e0-44a1-ac53-63ee67c5f40a",
         "x": [
          52.0145,
          107.158
         ],
         "y": [
          33.604869926734146,
          73.82976240148159
         ]
        },
        {
         "hoverinfo": "name+text",
         "legendgroup": "real_unfocused",
         "line": {
          "color": "darkseagreen",
          "width": 1
         },
         "name": "real_unfocused",
         "opacity": 1,
         "showlegend": false,
         "text": [
          "30694",
          "38058"
         ],
         "type": "scatter",
         "uid": "650423f5-5f59-4c74-952d-9639a529f1e4",
         "x": [
          107.158,
          166.491
         ],
         "y": [
          73.82976240148159,
          116.91123809106979
         ]
        },
        {
         "hoverinfo": "name+text",
         "legendgroup": "real_unfocused",
         "line": {
          "color": "darkseagreen",
          "width": 1
         },
         "name": "real_unfocused",
         "opacity": 1,
         "showlegend": false,
         "text": [
          "38058",
          "44664"
         ],
         "type": "scatter",
         "uid": "97d139c9-b813-48bb-b254-a4d11ab3669b",
         "x": [
          166.491,
          243.461
         ],
         "y": [
          116.91123809106979,
          172.77679735471895
         ]
        },
        {
         "hoverinfo": "name+text",
         "legendgroup": "real_unfocused",
         "line": {
          "color": "darkseagreen",
          "width": 1
         },
         "name": "real_unfocused",
         "opacity": 1,
         "showlegend": false,
         "text": [
          "44664",
          "76101"
         ],
         "type": "scatter",
         "uid": "04e6042a-fd46-4270-b392-fe9b3ad0635e",
         "x": [
          243.461,
          360.6
         ],
         "y": [
          172.77679735471895,
          257.4177895939012
         ]
        },
        {
         "hoverinfo": "name+text",
         "legendgroup": "real_unfocused",
         "line": {
          "color": "darkseagreen",
          "width": 1
         },
         "name": "real_unfocused",
         "opacity": 1,
         "showlegend": false,
         "text": [
          "76101",
          "83615"
         ],
         "type": "scatter",
         "uid": "04c9745b-d396-4926-822d-d14078639390",
         "x": [
          360.6,
          502.8
         ],
         "y": [
          257.4177895939012,
          359.94553844991606
         ]
        },
        {
         "hoverinfo": "name+text",
         "legendgroup": "real_unfocused",
         "line": {
          "color": "darkseagreen",
          "width": 1
         },
         "name": "real_unfocused",
         "opacity": 1,
         "showlegend": false,
         "text": [
          "83615",
          "90565"
         ],
         "type": "scatter",
         "uid": "9c9d89f1-c7d6-44a0-a03d-1f8c2fb6a61d",
         "x": [
          502.8,
          698
         ],
         "y": [
          359.94553844991606,
          498.87383068175666
         ]
        },
        {
         "hoverinfo": "name+text",
         "legendgroup": "real_unfocused",
         "line": {
          "color": "darkseagreen",
          "width": 1
         },
         "name": "real_unfocused",
         "opacity": 1,
         "showlegend": false,
         "text": [
          "90565",
          "96738"
         ],
         "type": "scatter",
         "uid": "5d7a5937-2619-48e9-9f6c-04f3da6f46fb",
         "x": [
          698,
          928.2
         ],
         "y": [
          498.87383068175666,
          661.1510399333877
         ]
        },
        {
         "hoverinfo": "name+text",
         "legendgroup": "real_unfocused",
         "line": {
          "color": "darkseagreen",
          "width": 1
         },
         "name": "real_unfocused",
         "opacity": 1,
         "showlegend": false,
         "text": [
          "75184",
          "82090"
         ],
         "type": "scatter",
         "uid": "5a608917-5616-41e7-9b5c-316858f6a72b",
         "x": [
          77.2,
          104.8
         ],
         "y": [
          262.1663236351383,
          359.2111247589779
         ]
        },
        {
         "hoverinfo": "name+text",
         "legendgroup": "real_unfocused",
         "line": {
          "color": "darkseagreen",
          "width": 1
         },
         "name": "real_unfocused",
         "opacity": 1,
         "showlegend": false,
         "text": [
          "82090",
          "88632"
         ],
         "type": "scatter",
         "uid": "289a836d-3d02-4496-a95f-42180a717a04",
         "x": [
          104.8,
          145.6
         ],
         "y": [
          359.2111247589779,
          497.29964951401286
         ]
        },
        {
         "hoverinfo": "name+text",
         "legendgroup": "real_unfocused",
         "line": {
          "color": "darkseagreen",
          "width": 1
         },
         "name": "real_unfocused",
         "opacity": 1,
         "showlegend": false,
         "text": [
          "88632",
          "94896"
         ],
         "type": "scatter",
         "uid": "e44a7ec3-6c99-4632-a3bd-c6f453bbe92a",
         "x": [
          145.6,
          194.6
         ],
         "y": [
          497.29964951401286,
          663.8058980771413
         ]
        },
        {
         "hoverinfo": "name+text",
         "legendgroup": "real_unfocused",
         "line": {
          "color": "darkseagreen",
          "width": 1
         },
         "name": "real_unfocused",
         "opacity": 1,
         "showlegend": false,
         "text": [
          "94896",
          "110783"
         ],
         "type": "scatter",
         "uid": "6f7e42c6-7c92-446a-ac83-d163c9600833",
         "x": [
          194.6,
          243.8
         ],
         "y": [
          663.8058980771413,
          822.6882381005577
         ]
        },
        {
         "hoverinfo": "name+text",
         "legendgroup": "real_unfocused",
         "line": {
          "color": "darkseagreen",
          "width": 1
         },
         "name": "real_unfocused",
         "opacity": 1,
         "showlegend": false,
         "text": [
          "110783",
          "116120"
         ],
         "type": "scatter",
         "uid": "792f8a9f-6507-48ce-b983-cdfc36b843f7",
         "x": [
          243.8,
          303.6
         ],
         "y": [
          822.6882381005577,
          1019.1596444914801
         ]
        },
        {
         "hoverinfo": "name+text",
         "legendgroup": "real",
         "line": {
          "color": "green",
          "width": 1
         },
         "name": "real",
         "opacity": 1,
         "showlegend": true,
         "text": [
          "20764",
          "27487"
         ],
         "type": "scatter",
         "uid": "c293e886-2cc8-42d0-8eee-217cee8ad8d9",
         "x": [
          -67.8321,
          -145.30700000000004
         ],
         "y": [
          32.157173777557006,
          72.80676931336811
         ]
        },
        {
         "hoverinfo": "name+text",
         "legendgroup": "real",
         "line": {
          "color": "green",
          "width": 1
         },
         "name": "real",
         "opacity": 1,
         "showlegend": false,
         "text": [
          "27487",
          "34491"
         ],
         "type": "scatter",
         "uid": "ba78efc0-5586-4c53-8fcc-d92f380787da",
         "x": [
          -145.30700000000004,
          -225.866
         ],
         "y": [
          72.80676931336811,
          115.05245255343321
         ]
        },
        {
         "hoverinfo": "name+text",
         "legendgroup": "real",
         "line": {
          "color": "green",
          "width": 1
         },
         "name": "real",
         "opacity": 1,
         "showlegend": false,
         "text": [
          "34491",
          "40865"
         ],
         "type": "scatter",
         "uid": "e267c06c-8e02-4b7f-96ce-747aa9ee96d2",
         "x": [
          -225.866,
          -336.397
         ],
         "y": [
          115.05245255343321,
          173.0423765237868
         ]
        },
        {
         "hoverinfo": "name+text",
         "legendgroup": "real",
         "line": {
          "color": "green",
          "width": 1
         },
         "name": "real",
         "opacity": 1,
         "showlegend": false,
         "text": [
          "40865",
          "72549"
         ],
         "type": "scatter",
         "uid": "02f9a893-1d65-45ca-9adf-603a6bcba337",
         "x": [
          -336.397,
          -499.4
         ],
         "y": [
          173.0423765237868,
          258.1986281140936
         ]
        },
        {
         "hoverinfo": "name+text",
         "legendgroup": "real",
         "line": {
          "color": "green",
          "width": 1
         },
         "name": "real",
         "opacity": 1,
         "showlegend": false,
         "text": [
          "72549",
          "79138"
         ],
         "type": "scatter",
         "uid": "d7f020d3-7080-478f-bbeb-5a09b0ed7146",
         "x": [
          -499.4,
          -689.8
         ],
         "y": [
          258.1986281140936,
          358.26621846092326
         ]
        },
        {
         "hoverinfo": "name+text",
         "legendgroup": "real",
         "line": {
          "color": "green",
          "width": 1
         },
         "name": "real",
         "opacity": 1,
         "showlegend": false,
         "text": [
          "79138",
          "85537"
         ],
         "type": "scatter",
         "uid": "5f04d016-0a0d-41dc-9029-94ce4e32adee",
         "x": [
          -689.8,
          -955.8
         ],
         "y": [
          358.26621846092326,
          496.7990769969284
         ]
        },
        {
         "hoverinfo": "name+text",
         "legendgroup": "real",
         "line": {
          "color": "green",
          "width": 1
         },
         "name": "real",
         "opacity": 1,
         "showlegend": false,
         "text": [
          "23536",
          "31418"
         ],
         "type": "scatter",
         "uid": "a26a5304-7b84-4d47-935a-fa2b019564b4",
         "x": [
          41.7502,
          99.58
         ],
         "y": [
          32.49714414606305,
          72.54064560265508
         ]
        },
        {
         "hoverinfo": "name+text",
         "legendgroup": "real",
         "line": {
          "color": "green",
          "width": 1
         },
         "name": "real",
         "opacity": 1,
         "showlegend": false,
         "text": [
          "31418",
          "38524"
         ],
         "type": "scatter",
         "uid": "55d692fd-dff7-4dd3-af50-c0a40aed43dc",
         "x": [
          99.58,
          162.741
         ],
         "y": [
          72.54064560265508,
          116.24458425703108
         ]
        },
        {
         "hoverinfo": "name+text",
         "legendgroup": "real",
         "line": {
          "color": "green",
          "width": 1
         },
         "name": "real",
         "opacity": 1,
         "showlegend": false,
         "text": [
          "38524",
          "45067"
         ],
         "type": "scatter",
         "uid": "cab1fa0b-cf3e-4c94-afa6-877721157de1",
         "x": [
          162.741,
          243.228
         ],
         "y": [
          116.24458425703108,
          171.77085511020198
         ]
        },
        {
         "hoverinfo": "name+text",
         "legendgroup": "real",
         "line": {
          "color": "green",
          "width": 1
         },
         "name": "real",
         "opacity": 1,
         "showlegend": false,
         "text": [
          "45067",
          "76902"
         ],
         "type": "scatter",
         "uid": "596f6fd1-7640-4b29-8e76-daeab33fd382",
         "x": [
          243.228,
          375.4
         ],
         "y": [
          171.77085511020198,
          262.9168818890107
         ]
        },
        {
         "hoverinfo": "name+text",
         "legendgroup": "real",
         "line": {
          "color": "green",
          "width": 1
         },
         "name": "real",
         "opacity": 1,
         "showlegend": false,
         "text": [
          "76902",
          "83944"
         ],
         "type": "scatter",
         "uid": "042ee780-6642-440d-b7b9-0a99ff7867d3",
         "x": [
          375.4,
          515.6
         ],
         "y": [
          262.9168818890107,
          359.1660073517537
         ]
        },
        {
         "hoverinfo": "name+text",
         "legendgroup": "real",
         "line": {
          "color": "green",
          "width": 1
         },
         "name": "real",
         "opacity": 1,
         "showlegend": false,
         "text": [
          "83944",
          "90803"
         ],
         "type": "scatter",
         "uid": "cba6c05b-c2c1-40d1-863a-52c5b9b04e84",
         "x": [
          515.6,
          722.2
         ],
         "y": [
          359.1660073517537,
          501.1282595952857
         ]
        },
        {
         "hoverinfo": "name+text",
         "legendgroup": "real",
         "line": {
          "color": "green",
          "width": 1
         },
         "name": "real",
         "opacity": 1,
         "showlegend": false,
         "text": [
          "90803",
          "96934"
         ],
         "type": "scatter",
         "uid": "eff9977a-e316-47c0-8be9-06c8950cce1c",
         "x": [
          722.2,
          956
         ],
         "y": [
          501.1282595952857,
          660.1841830580312
         ]
        },
        {
         "hoverinfo": "name+text",
         "legendgroup": "real",
         "line": {
          "color": "green",
          "width": 1
         },
         "name": "real",
         "opacity": 1,
         "showlegend": false,
         "text": [
          "20262",
          "28058"
         ],
         "type": "scatter",
         "uid": "0b33ae01-8fdd-409a-aa8f-34568f8d4bf2",
         "x": [
          -43.7904,
          -94.3151
         ],
         "y": [
          32.562200789221855,
          71.42720770825427
         ]
        },
        {
         "hoverinfo": "name+text",
         "legendgroup": "real",
         "line": {
          "color": "green",
          "width": 1
         },
         "name": "real",
         "opacity": 1,
         "showlegend": false,
         "text": [
          "28058",
          "34877"
         ],
         "type": "scatter",
         "uid": "308afe30-db59-46ee-8478-e0226f6426d0",
         "x": [
          -94.3151,
          -151.393
         ],
         "y": [
          71.42720770825427,
          115.4017704365492
         ]
        },
        {
         "hoverinfo": "name+text",
         "legendgroup": "real",
         "line": {
          "color": "green",
          "width": 1
         },
         "name": "real",
         "opacity": 1,
         "showlegend": false,
         "text": [
          "34877",
          "41146"
         ],
         "type": "scatter",
         "uid": "124812fc-ed5c-44e4-93e1-a9d2588e40b9",
         "x": [
          -151.393,
          -224.485
         ],
         "y": [
          115.4017704365492,
          171.697933181183
         ]
        },
        {
         "hoverinfo": "name+text",
         "legendgroup": "real",
         "line": {
          "color": "green",
          "width": 1
         },
         "name": "real",
         "opacity": 1,
         "showlegend": false,
         "text": [
          "41146",
          "73201"
         ],
         "type": "scatter",
         "uid": "f6601e92-38c7-447e-8143-3317d2537b8c",
         "x": [
          -224.485,
          -339
         ],
         "y": [
          171.697933181183,
          259.9772582081748
         ]
        },
        {
         "hoverinfo": "name+text",
         "legendgroup": "real",
         "line": {
          "color": "green",
          "width": 1
         },
         "name": "real",
         "opacity": 1,
         "showlegend": false,
         "text": [
          "73201",
          "79641"
         ],
         "type": "scatter",
         "uid": "0fa8c01d-ea76-4f44-8e3c-f35372076a89",
         "x": [
          -339,
          -470.6
         ],
         "y": [
          259.9772582081748,
          361.27022166795035
         ]
        },
        {
         "hoverinfo": "name+text",
         "legendgroup": "real",
         "line": {
          "color": "green",
          "width": 1
         },
         "name": "real",
         "opacity": 1,
         "showlegend": false,
         "text": [
          "79641",
          "86195"
         ],
         "type": "scatter",
         "uid": "97658125-53ce-463d-9132-6b6c51059227",
         "x": [
          -470.6,
          -657.6
         ],
         "y": [
          361.27022166795035,
          505.25758938962014
         ]
        },
        {
         "hoverinfo": "name+text",
         "legendgroup": "real",
         "line": {
          "color": "green",
          "width": 1
         },
         "name": "real",
         "opacity": 1,
         "showlegend": false,
         "text": [
          "86195",
          "91955"
         ],
         "type": "scatter",
         "uid": "cdab41da-fad5-4809-9b22-a9c832611a2a",
         "x": [
          -657.6,
          -865.4
         ],
         "y": [
          505.25758938962014,
          665.3054220029776
         ]
        },
        {
         "hoverinfo": "name+text",
         "legendgroup": "real",
         "line": {
          "color": "green",
          "width": 1
         },
         "name": "real",
         "opacity": 1,
         "showlegend": false,
         "text": [
          "91955",
          "107743"
         ],
         "type": "scatter",
         "uid": "43093822-30c7-48ba-9261-333712172700",
         "x": [
          -865.4,
          -1067.8
         ],
         "y": [
          665.3054220029776,
          824.2035973873507
         ]
        },
        {
         "hoverinfo": "name+text",
         "legendgroup": "real",
         "line": {
          "color": "green",
          "width": 1
         },
         "name": "real",
         "opacity": 1,
         "showlegend": false,
         "text": [
          "19698",
          "27827"
         ],
         "type": "scatter",
         "uid": "10a8d058-55ff-4303-9fec-028293aa02f4",
         "x": [
          -43.6337,
          -86.1783
         ],
         "y": [
          32.02264014494901,
          72.07849176870727
         ]
        },
        {
         "hoverinfo": "name+text",
         "legendgroup": "real",
         "line": {
          "color": "green",
          "width": 1
         },
         "name": "real",
         "opacity": 1,
         "showlegend": false,
         "text": [
          "27827",
          "35259"
         ],
         "type": "scatter",
         "uid": "6b562698-c5d6-41ea-bbf4-dcfbf9ce6c56",
         "x": [
          -86.1783,
          -131.795
         ],
         "y": [
          72.07849176870727,
          115.01274730202735
         ]
        },
        {
         "hoverinfo": "name+text",
         "legendgroup": "real",
         "line": {
          "color": "green",
          "width": 1
         },
         "name": "real",
         "opacity": 1,
         "showlegend": false,
         "text": [
          "35259",
          "41464"
         ],
         "type": "scatter",
         "uid": "d160798a-5c01-452c-b827-2177e8b5f63a",
         "x": [
          -131.795,
          -191.758
         ],
         "y": [
          115.01274730202735,
          171.40195078204334
         ]
        },
        {
         "hoverinfo": "name+text",
         "legendgroup": "real",
         "line": {
          "color": "green",
          "width": 1
         },
         "name": "real",
         "opacity": 1,
         "showlegend": false,
         "text": [
          "41464",
          "73085"
         ],
         "type": "scatter",
         "uid": "94d9daa3-a443-4e8b-8015-4e7af657817f",
         "x": [
          -191.758,
          -283.2
         ],
         "y": [
          171.40195078204334,
          257.30068278183796
         ]
        },
        {
         "hoverinfo": "name+text",
         "legendgroup": "real",
         "line": {
          "color": "green",
          "width": 1
         },
         "name": "real",
         "opacity": 1,
         "showlegend": false,
         "text": [
          "73085",
          "79880"
         ],
         "type": "scatter",
         "uid": "2d3b98a4-e36a-453a-93a0-02705f09d30f",
         "x": [
          -283.2,
          -398.2
         ],
         "y": [
          257.30068278183796,
          365.71411330334246
         ]
        },
        {
         "hoverinfo": "name+text",
         "legendgroup": "real",
         "line": {
          "color": "green",
          "width": 1
         },
         "name": "real",
         "opacity": 1,
         "showlegend": false,
         "text": [
          "79880",
          "86402"
         ],
         "type": "scatter",
         "uid": "ce19f4cd-7ac0-42d2-97d9-431e2cf05a34",
         "x": [
          -398.2,
          -538.4
         ],
         "y": [
          365.71411330334246,
          497.4495544242049
         ]
        },
        {
         "hoverinfo": "name+text",
         "legendgroup": "real",
         "line": {
          "color": "green",
          "width": 1
         },
         "name": "real",
         "opacity": 1,
         "showlegend": false,
         "text": [
          "86402",
          "92130"
         ],
         "type": "scatter",
         "uid": "9d7c56cd-715b-4be9-b463-e7ad9df02af7",
         "x": [
          -538.4,
          -707.2
         ],
         "y": [
          497.4495544242049,
          656.5191725472228
         ]
        },
        {
         "hoverinfo": "name+text",
         "legendgroup": "real",
         "line": {
          "color": "green",
          "width": 1
         },
         "name": "real",
         "opacity": 1,
         "showlegend": false,
         "text": [
          "92130",
          "107883"
         ],
         "type": "scatter",
         "uid": "29bcf609-068f-445c-bf7c-6ef77fab1588",
         "x": [
          -707.2,
          -878.4
         ],
         "y": [
          656.5191725472228,
          819.5081131930848
         ]
        },
        {
         "hoverinfo": "name+text",
         "legendgroup": "real",
         "line": {
          "color": "green",
          "width": 1
         },
         "name": "real",
         "opacity": 1,
         "showlegend": false,
         "text": [
          "21265",
          "29504"
         ],
         "type": "scatter",
         "uid": "ae713040-11b4-4fa8-ac71-ec258fa70e1c",
         "x": [
          -24.6702,
          -46.6699
         ],
         "y": [
          32.23509056485029,
          71.61236113102264
         ]
        },
        {
         "hoverinfo": "name+text",
         "legendgroup": "real",
         "line": {
          "color": "green",
          "width": 1
         },
         "name": "real",
         "opacity": 1,
         "showlegend": false,
         "text": [
          "29504",
          "42350"
         ],
         "type": "scatter",
         "uid": "c04bc52a-d17c-4f94-a160-7fcdcf7003ae",
         "x": [
          -46.6699,
          -102.632
         ],
         "y": [
          71.61236113102264,
          172.0437815826251
         ]
        },
        {
         "hoverinfo": "name+text",
         "legendgroup": "real",
         "line": {
          "color": "green",
          "width": 1
         },
         "name": "real",
         "opacity": 1,
         "showlegend": false,
         "text": [
          "42350",
          "73830"
         ],
         "type": "scatter",
         "uid": "db307f67-a290-4e44-9a26-3478b55c3f47",
         "x": [
          -102.632,
          -152.6
         ],
         "y": [
          172.0437815826251,
          261.85823478523645
         ]
        },
        {
         "hoverinfo": "name+text",
         "legendgroup": "real",
         "line": {
          "color": "green",
          "width": 1
         },
         "name": "real",
         "opacity": 1,
         "showlegend": false,
         "text": [
          "73830",
          "80933"
         ],
         "type": "scatter",
         "uid": "2534bff1-05e7-4a72-bd61-402260b94d2a",
         "x": [
          -152.6,
          -209.6
         ],
         "y": [
          261.85823478523645,
          363.8873098444215
         ]
        },
        {
         "hoverinfo": "name+text",
         "legendgroup": "real",
         "line": {
          "color": "green",
          "width": 1
         },
         "name": "real",
         "opacity": 1,
         "showlegend": false,
         "text": [
          "80933",
          "87292"
         ],
         "type": "scatter",
         "uid": "b4d9012a-b5b0-4fba-9e74-03b14ca6177b",
         "x": [
          -209.6,
          -285.6
         ],
         "y": [
          363.8873098444215,
          500.04019567330784
         ]
        },
        {
         "hoverinfo": "name+text",
         "legendgroup": "real",
         "line": {
          "color": "green",
          "width": 1
         },
         "name": "real",
         "opacity": 1,
         "showlegend": false,
         "text": [
          "87292",
          "93165"
         ],
         "type": "scatter",
         "uid": "80da676b-3bfd-455d-abb9-813cc459e373",
         "x": [
          -285.6,
          -375.4
         ],
         "y": [
          500.04019567330784,
          660.5030028046807
         ]
        },
        {
         "hoverinfo": "name+text",
         "legendgroup": "real",
         "line": {
          "color": "green",
          "width": 1
         },
         "name": "real",
         "opacity": 1,
         "showlegend": false,
         "text": [
          "93165",
          "109022"
         ],
         "type": "scatter",
         "uid": "16082b64-8922-4c22-a5be-5ba01dae513a",
         "x": [
          -375.4,
          -466.4
         ],
         "y": [
          660.5030028046807,
          822.2639974959379
         ]
        },
        {
         "hoverinfo": "name+text",
         "legendgroup": "real",
         "line": {
          "color": "green",
          "width": 1
         },
         "name": "real",
         "opacity": 1,
         "showlegend": false,
         "text": [
          "109022",
          "114036"
         ],
         "type": "scatter",
         "uid": "6db8ddca-2879-4be9-8af0-18ac40876808",
         "x": [
          -466.4,
          -580.2
         ],
         "y": [
          822.2639974959379,
          1022.6908959079474
         ]
        }
       ],
       "layout": {
        "height": 800,
        "hovermode": "closest",
        "showlegend": true,
        "updatemenus": [
         {
          "buttons": [
           {
            "args": [
             "shapes",
             []
            ],
            "label": "hide layers",
            "method": "relayout"
           },
           {
            "args": [
             "shapes",
             [
              {
               "layer": "below",
               "line": {
                "color": "#ccc"
               },
               "opacity": 0.5,
               "type": "line",
               "x0": -455,
               "x1": 455,
               "y0": 32,
               "y1": 32
              },
              {
               "layer": "below",
               "line": {
                "color": "#ccc"
               },
               "opacity": 0.5,
               "type": "line",
               "x0": -455,
               "x1": 455,
               "y0": 72,
               "y1": 72
              },
              {
               "layer": "below",
               "line": {
                "color": "#ccc"
               },
               "opacity": 0.5,
               "type": "line",
               "x0": -455,
               "x1": 455,
               "y0": 116,
               "y1": 116
              },
              {
               "layer": "below",
               "line": {
                "color": "#ccc"
               },
               "opacity": 0.5,
               "type": "line",
               "x0": -455,
               "x1": 455,
               "y0": 172,
               "y1": 172
              },
              {
               "layer": "below",
               "line": {
                "color": "#cccc8d"
               },
               "opacity": 0.5,
               "type": "line",
               "x0": -1030,
               "x1": 1030,
               "y0": 260,
               "y1": 260
              },
              {
               "layer": "below",
               "line": {
                "color": "#cccc8d"
               },
               "opacity": 0.5,
               "type": "line",
               "x0": -1030,
               "x1": 1030,
               "y0": 360,
               "y1": 360
              },
              {
               "layer": "below",
               "line": {
                "color": "#cccc8d"
               },
               "opacity": 0.5,
               "type": "line",
               "x0": -1030,
               "x1": 1030,
               "y0": 500,
               "y1": 500
              },
              {
               "layer": "below",
               "line": {
                "color": "#cccc8d"
               },
               "opacity": 0.5,
               "type": "line",
               "x0": -1030,
               "x1": 1030,
               "y0": 660,
               "y1": 660
              },
              {
               "layer": "below",
               "line": {
                "color": "#ccc"
               },
               "opacity": 0.5,
               "type": "line",
               "x0": -1030,
               "x1": 1030,
               "y0": 820,
               "y1": 820
              },
              {
               "layer": "below",
               "line": {
                "color": "#ccc"
               },
               "opacity": 0.5,
               "type": "line",
               "x0": -1030,
               "x1": 1030,
               "y0": 1020,
               "y1": 1020
              }
             ]
            ],
            "label": "show layers",
            "method": "relayout"
           }
          ],
          "direction": "left",
          "pad": {
           "l": 0.1
          },
          "type": "buttons",
          "xanchor": "left",
          "y": 1.1,
          "yanchor": "top"
         },
         {
          "buttons": [
           {
            "args": [
             {
              "mode": "markers+lines"
             }
            ],
            "label": "hits+tracks",
            "method": "update"
           },
           {
            "args": [
             {
              "mode": "markers"
             }
            ],
            "label": "hits only",
            "method": "update"
           }
          ],
          "direction": "left",
          "pad": {
           "l": 200
          },
          "type": "buttons",
          "xanchor": "left",
          "y": 1.1,
          "yanchor": "top"
         },
         {
          "buttons": [
           {
            "args": [
             "yaxis.scaleanchor",
             null
            ],
            "label": "free",
            "method": "relayout"
           },
           {
            "args": [
             "yaxis.scaleanchor",
             "x"
            ],
            "label": "fixed",
            "method": "relayout"
           }
          ],
          "direction": "left",
          "pad": {
           "l": 380
          },
          "type": "buttons",
          "xanchor": "left",
          "y": 1.1,
          "yanchor": "top"
         }
        ],
        "width": 800,
        "xaxis": {
         "title": "z"
        },
        "yaxis": {
         "title": "r"
        }
       }
      },
      "text/html": [
       "<div id=\"fd43560a-5c6a-4be7-950a-4ef537b5c475\" style=\"height: 800px; width: 800px;\" class=\"plotly-graph-div\"></div><script type=\"text/javascript\">require([\"plotly\"], function(Plotly) { window.PLOTLYENV=window.PLOTLYENV || {};window.PLOTLYENV.BASE_URL=\"https://plot.ly\";Plotly.newPlot(\"fd43560a-5c6a-4be7-950a-4ef537b5c475\", [{\"hoverinfo\": \"name+text\", \"legendgroup\": \"real_unfocused\", \"line\": {\"color\": \"darkseagreen\", \"width\": 1}, \"name\": \"real_unfocused\", \"opacity\": 1, \"showlegend\": true, \"text\": [\"18246\", \"27129\"], \"x\": [-70.5503, -161.067], \"y\": [31.546282598905375, 72.95614848420934], \"type\": \"scatter\", \"uid\": \"61104dc5-9b4e-4625-9ec1-b8929649b512\"}, {\"hoverinfo\": \"name+text\", \"legendgroup\": \"real_unfocused\", \"line\": {\"color\": \"darkseagreen\", \"width\": 1}, \"name\": \"real_unfocused\", \"opacity\": 1, \"showlegend\": false, \"text\": [\"27129\", \"34226\"], \"x\": [-161.067, -252.93400000000003], \"y\": [72.95614848420934, 115.02006064165504], \"type\": \"scatter\", \"uid\": \"5d37ffd3-4213-42eb-968c-6afb66f80923\"}, {\"hoverinfo\": \"name+text\", \"legendgroup\": \"real_unfocused\", \"line\": {\"color\": \"darkseagreen\", \"width\": 1}, \"name\": \"real_unfocused\", \"opacity\": 1, \"showlegend\": false, \"text\": [\"34226\", \"40268\"], \"x\": [-252.93400000000003, -376.026], \"y\": [115.02006064165504, 171.35896601578804], \"type\": \"scatter\", \"uid\": \"4e0838a9-8c61-47fd-a196-6f8e14ec5981\"}, {\"hoverinfo\": \"name+text\", \"legendgroup\": \"real_unfocused\", \"line\": {\"color\": \"darkseagreen\", \"width\": 1}, \"name\": \"real_unfocused\", \"opacity\": 1, \"showlegend\": false, \"text\": [\"40268\", \"72036\"], \"x\": [-376.026, -576.2], \"y\": [171.35896601578804, 263.0385854831949], \"type\": \"scatter\", \"uid\": \"9f034d21-dd71-4e85-85dd-686908a444a6\"}, {\"hoverinfo\": \"name+text\", \"legendgroup\": \"real_unfocused\", \"line\": {\"color\": \"darkseagreen\", \"width\": 1}, \"name\": \"real_unfocused\", \"opacity\": 1, \"showlegend\": false, \"text\": [\"72036\", \"78762\"], \"x\": [-576.2, -790.6], \"y\": [263.0385854831949, 360.6255076058819], \"type\": \"scatter\", \"uid\": \"61d259f4-3947-49be-b4b5-721db2dee815\"}, {\"hoverinfo\": \"name+text\", \"legendgroup\": \"real_unfocused\", \"line\": {\"color\": \"darkseagreen\", \"width\": 1}, \"name\": \"real_unfocused\", \"opacity\": 1, \"showlegend\": false, \"text\": [\"23050\", \"30426\"], \"x\": [23.0524, 40.2954], \"y\": [32.02056999141177, 71.44607751100754], \"type\": \"scatter\", \"uid\": \"0be77d1c-5f50-47af-9ee3-0b71cd50d3b0\"}, {\"hoverinfo\": \"name+text\", \"legendgroup\": \"real_unfocused\", \"line\": {\"color\": \"darkseagreen\", \"width\": 1}, \"name\": \"real_unfocused\", \"opacity\": 1, \"showlegend\": false, \"text\": [\"30426\", \"37198\"], \"x\": [40.2954, 59.2064], \"y\": [71.44607751100754, 115.0064055732984], \"type\": \"scatter\", \"uid\": \"7fbdd8ff-6821-4b2b-abcd-81eb028e64ff\"}, {\"hoverinfo\": \"name+text\", \"legendgroup\": \"real_unfocused\", \"line\": {\"color\": \"darkseagreen\", \"width\": 1}, \"name\": \"real_unfocused\", \"opacity\": 1, \"showlegend\": false, \"text\": [\"37198\", \"44045\"], \"x\": [59.2064, 83.8711], \"y\": [115.0064055732984, 171.8463372779298], \"type\": \"scatter\", \"uid\": \"599e0753-b3e4-48a4-8311-408055832007\"}, {\"hoverinfo\": \"name+text\", \"legendgroup\": \"real_unfocused\", \"line\": {\"color\": \"darkseagreen\", \"width\": 1}, \"name\": \"real_unfocused\", \"opacity\": 1, \"showlegend\": false, \"text\": [\"44045\", \"75480\"], \"x\": [83.8711, 121.6], \"y\": [171.8463372779298, 258.1311722458177], \"type\": \"scatter\", \"uid\": \"ecafe1f5-7bb4-4cc8-aee3-f52ca5a98f71\"}, {\"hoverinfo\": \"name+text\", \"legendgroup\": \"real_unfocused\", \"line\": {\"color\": \"darkseagreen\", \"width\": 1}, \"name\": \"real_unfocused\", \"opacity\": 1, \"showlegend\": false, \"text\": [\"75480\", \"82723\"], \"x\": [121.6, 165.8], \"y\": [258.1311722458177, 360.3464031056922], \"type\": \"scatter\", \"uid\": \"508180c8-a1d2-4882-8d1f-69775cd42a4e\"}, {\"hoverinfo\": \"name+text\", \"legendgroup\": \"real_unfocused\", \"line\": {\"color\": \"darkseagreen\", \"width\": 1}, \"name\": \"real_unfocused\", \"opacity\": 1, \"showlegend\": false, \"text\": [\"21405\", \"30694\"], \"x\": [52.0145, 107.158], \"y\": [33.604869926734146, 73.82976240148159], \"type\": \"scatter\", \"uid\": \"8b5bd3de-19e0-44a1-ac53-63ee67c5f40a\"}, {\"hoverinfo\": \"name+text\", \"legendgroup\": \"real_unfocused\", \"line\": {\"color\": \"darkseagreen\", \"width\": 1}, \"name\": \"real_unfocused\", \"opacity\": 1, \"showlegend\": false, \"text\": [\"30694\", \"38058\"], \"x\": [107.158, 166.491], \"y\": [73.82976240148159, 116.91123809106979], \"type\": \"scatter\", \"uid\": \"650423f5-5f59-4c74-952d-9639a529f1e4\"}, {\"hoverinfo\": \"name+text\", \"legendgroup\": \"real_unfocused\", \"line\": {\"color\": \"darkseagreen\", \"width\": 1}, \"name\": \"real_unfocused\", \"opacity\": 1, \"showlegend\": false, \"text\": [\"38058\", \"44664\"], \"x\": [166.491, 243.461], \"y\": [116.91123809106979, 172.77679735471895], \"type\": \"scatter\", \"uid\": \"97d139c9-b813-48bb-b254-a4d11ab3669b\"}, {\"hoverinfo\": \"name+text\", \"legendgroup\": \"real_unfocused\", \"line\": {\"color\": \"darkseagreen\", \"width\": 1}, \"name\": \"real_unfocused\", \"opacity\": 1, \"showlegend\": false, \"text\": [\"44664\", \"76101\"], \"x\": [243.461, 360.6], \"y\": [172.77679735471895, 257.4177895939012], \"type\": \"scatter\", \"uid\": \"04e6042a-fd46-4270-b392-fe9b3ad0635e\"}, {\"hoverinfo\": \"name+text\", \"legendgroup\": \"real_unfocused\", \"line\": {\"color\": \"darkseagreen\", \"width\": 1}, \"name\": \"real_unfocused\", \"opacity\": 1, \"showlegend\": false, \"text\": [\"76101\", \"83615\"], \"x\": [360.6, 502.8], \"y\": [257.4177895939012, 359.94553844991606], \"type\": \"scatter\", \"uid\": \"04c9745b-d396-4926-822d-d14078639390\"}, {\"hoverinfo\": \"name+text\", \"legendgroup\": \"real_unfocused\", \"line\": {\"color\": \"darkseagreen\", \"width\": 1}, \"name\": \"real_unfocused\", \"opacity\": 1, \"showlegend\": false, \"text\": [\"83615\", \"90565\"], \"x\": [502.8, 698.0], \"y\": [359.94553844991606, 498.87383068175666], \"type\": \"scatter\", \"uid\": \"9c9d89f1-c7d6-44a0-a03d-1f8c2fb6a61d\"}, {\"hoverinfo\": \"name+text\", \"legendgroup\": \"real_unfocused\", \"line\": {\"color\": \"darkseagreen\", \"width\": 1}, \"name\": \"real_unfocused\", \"opacity\": 1, \"showlegend\": false, \"text\": [\"90565\", \"96738\"], \"x\": [698.0, 928.2], \"y\": [498.87383068175666, 661.1510399333877], \"type\": \"scatter\", \"uid\": \"5d7a5937-2619-48e9-9f6c-04f3da6f46fb\"}, {\"hoverinfo\": \"name+text\", \"legendgroup\": \"real_unfocused\", \"line\": {\"color\": \"darkseagreen\", \"width\": 1}, \"name\": \"real_unfocused\", \"opacity\": 1, \"showlegend\": false, \"text\": [\"75184\", \"82090\"], \"x\": [77.2, 104.8], \"y\": [262.1663236351383, 359.2111247589779], \"type\": \"scatter\", \"uid\": \"5a608917-5616-41e7-9b5c-316858f6a72b\"}, {\"hoverinfo\": \"name+text\", \"legendgroup\": \"real_unfocused\", \"line\": {\"color\": \"darkseagreen\", \"width\": 1}, \"name\": \"real_unfocused\", \"opacity\": 1, \"showlegend\": false, \"text\": [\"82090\", \"88632\"], \"x\": [104.8, 145.6], \"y\": [359.2111247589779, 497.29964951401286], \"type\": \"scatter\", \"uid\": \"289a836d-3d02-4496-a95f-42180a717a04\"}, {\"hoverinfo\": \"name+text\", \"legendgroup\": \"real_unfocused\", \"line\": {\"color\": \"darkseagreen\", \"width\": 1}, \"name\": \"real_unfocused\", \"opacity\": 1, \"showlegend\": false, \"text\": [\"88632\", \"94896\"], \"x\": [145.6, 194.6], \"y\": [497.29964951401286, 663.8058980771413], \"type\": \"scatter\", \"uid\": \"e44a7ec3-6c99-4632-a3bd-c6f453bbe92a\"}, {\"hoverinfo\": \"name+text\", \"legendgroup\": \"real_unfocused\", \"line\": {\"color\": \"darkseagreen\", \"width\": 1}, \"name\": \"real_unfocused\", \"opacity\": 1, \"showlegend\": false, \"text\": [\"94896\", \"110783\"], \"x\": [194.6, 243.8], \"y\": [663.8058980771413, 822.6882381005577], \"type\": \"scatter\", \"uid\": \"6f7e42c6-7c92-446a-ac83-d163c9600833\"}, {\"hoverinfo\": \"name+text\", \"legendgroup\": \"real_unfocused\", \"line\": {\"color\": \"darkseagreen\", \"width\": 1}, \"name\": \"real_unfocused\", \"opacity\": 1, \"showlegend\": false, \"text\": [\"110783\", \"116120\"], \"x\": [243.8, 303.6], \"y\": [822.6882381005577, 1019.1596444914801], \"type\": \"scatter\", \"uid\": \"792f8a9f-6507-48ce-b983-cdfc36b843f7\"}, {\"hoverinfo\": \"name+text\", \"legendgroup\": \"real\", \"line\": {\"color\": \"green\", \"width\": 1}, \"name\": \"real\", \"opacity\": 1, \"showlegend\": true, \"text\": [\"20764\", \"27487\"], \"x\": [-67.8321, -145.30700000000004], \"y\": [32.157173777557006, 72.80676931336811], \"type\": \"scatter\", \"uid\": \"c293e886-2cc8-42d0-8eee-217cee8ad8d9\"}, {\"hoverinfo\": \"name+text\", \"legendgroup\": \"real\", \"line\": {\"color\": \"green\", \"width\": 1}, \"name\": \"real\", \"opacity\": 1, \"showlegend\": false, \"text\": [\"27487\", \"34491\"], \"x\": [-145.30700000000004, -225.866], \"y\": [72.80676931336811, 115.05245255343321], \"type\": \"scatter\", \"uid\": \"ba78efc0-5586-4c53-8fcc-d92f380787da\"}, {\"hoverinfo\": \"name+text\", \"legendgroup\": \"real\", \"line\": {\"color\": \"green\", \"width\": 1}, \"name\": \"real\", \"opacity\": 1, \"showlegend\": false, \"text\": [\"34491\", \"40865\"], \"x\": [-225.866, -336.397], \"y\": [115.05245255343321, 173.0423765237868], \"type\": \"scatter\", \"uid\": \"e267c06c-8e02-4b7f-96ce-747aa9ee96d2\"}, {\"hoverinfo\": \"name+text\", \"legendgroup\": \"real\", \"line\": {\"color\": \"green\", \"width\": 1}, \"name\": \"real\", \"opacity\": 1, \"showlegend\": false, \"text\": [\"40865\", \"72549\"], \"x\": [-336.397, -499.4], \"y\": [173.0423765237868, 258.1986281140936], \"type\": \"scatter\", \"uid\": \"02f9a893-1d65-45ca-9adf-603a6bcba337\"}, {\"hoverinfo\": \"name+text\", \"legendgroup\": \"real\", \"line\": {\"color\": \"green\", \"width\": 1}, \"name\": \"real\", \"opacity\": 1, \"showlegend\": false, \"text\": [\"72549\", \"79138\"], \"x\": [-499.4, -689.8], \"y\": [258.1986281140936, 358.26621846092326], \"type\": \"scatter\", \"uid\": \"d7f020d3-7080-478f-bbeb-5a09b0ed7146\"}, {\"hoverinfo\": \"name+text\", \"legendgroup\": \"real\", \"line\": {\"color\": \"green\", \"width\": 1}, \"name\": \"real\", \"opacity\": 1, \"showlegend\": false, \"text\": [\"79138\", \"85537\"], \"x\": [-689.8, -955.8], \"y\": [358.26621846092326, 496.7990769969284], \"type\": \"scatter\", \"uid\": \"5f04d016-0a0d-41dc-9029-94ce4e32adee\"}, {\"hoverinfo\": \"name+text\", \"legendgroup\": \"real\", \"line\": {\"color\": \"green\", \"width\": 1}, \"name\": \"real\", \"opacity\": 1, \"showlegend\": false, \"text\": [\"23536\", \"31418\"], \"x\": [41.7502, 99.58], \"y\": [32.49714414606305, 72.54064560265508], \"type\": \"scatter\", \"uid\": \"a26a5304-7b84-4d47-935a-fa2b019564b4\"}, {\"hoverinfo\": \"name+text\", \"legendgroup\": \"real\", \"line\": {\"color\": \"green\", \"width\": 1}, \"name\": \"real\", \"opacity\": 1, \"showlegend\": false, \"text\": [\"31418\", \"38524\"], \"x\": [99.58, 162.741], \"y\": [72.54064560265508, 116.24458425703108], \"type\": \"scatter\", \"uid\": \"55d692fd-dff7-4dd3-af50-c0a40aed43dc\"}, {\"hoverinfo\": \"name+text\", \"legendgroup\": \"real\", \"line\": {\"color\": \"green\", \"width\": 1}, \"name\": \"real\", \"opacity\": 1, \"showlegend\": false, \"text\": [\"38524\", \"45067\"], \"x\": [162.741, 243.228], \"y\": [116.24458425703108, 171.77085511020198], \"type\": \"scatter\", \"uid\": \"cab1fa0b-cf3e-4c94-afa6-877721157de1\"}, {\"hoverinfo\": \"name+text\", \"legendgroup\": \"real\", \"line\": {\"color\": \"green\", \"width\": 1}, \"name\": \"real\", \"opacity\": 1, \"showlegend\": false, \"text\": [\"45067\", \"76902\"], \"x\": [243.228, 375.4], \"y\": [171.77085511020198, 262.9168818890107], \"type\": \"scatter\", \"uid\": \"596f6fd1-7640-4b29-8e76-daeab33fd382\"}, {\"hoverinfo\": \"name+text\", \"legendgroup\": \"real\", \"line\": {\"color\": \"green\", \"width\": 1}, \"name\": \"real\", \"opacity\": 1, \"showlegend\": false, \"text\": [\"76902\", \"83944\"], \"x\": [375.4, 515.6], \"y\": [262.9168818890107, 359.1660073517537], \"type\": \"scatter\", \"uid\": \"042ee780-6642-440d-b7b9-0a99ff7867d3\"}, {\"hoverinfo\": \"name+text\", \"legendgroup\": \"real\", \"line\": {\"color\": \"green\", \"width\": 1}, \"name\": \"real\", \"opacity\": 1, \"showlegend\": false, \"text\": [\"83944\", \"90803\"], \"x\": [515.6, 722.2], \"y\": [359.1660073517537, 501.1282595952857], \"type\": \"scatter\", \"uid\": \"cba6c05b-c2c1-40d1-863a-52c5b9b04e84\"}, {\"hoverinfo\": \"name+text\", \"legendgroup\": \"real\", \"line\": {\"color\": \"green\", \"width\": 1}, \"name\": \"real\", \"opacity\": 1, \"showlegend\": false, \"text\": [\"90803\", \"96934\"], \"x\": [722.2, 956.0], \"y\": [501.1282595952857, 660.1841830580312], \"type\": \"scatter\", \"uid\": \"eff9977a-e316-47c0-8be9-06c8950cce1c\"}, {\"hoverinfo\": \"name+text\", \"legendgroup\": \"real\", \"line\": {\"color\": \"green\", \"width\": 1}, \"name\": \"real\", \"opacity\": 1, \"showlegend\": false, \"text\": [\"20262\", \"28058\"], \"x\": [-43.7904, -94.3151], \"y\": [32.562200789221855, 71.42720770825427], \"type\": \"scatter\", \"uid\": \"0b33ae01-8fdd-409a-aa8f-34568f8d4bf2\"}, {\"hoverinfo\": \"name+text\", \"legendgroup\": \"real\", \"line\": {\"color\": \"green\", \"width\": 1}, \"name\": \"real\", \"opacity\": 1, \"showlegend\": false, \"text\": [\"28058\", \"34877\"], \"x\": [-94.3151, -151.393], \"y\": [71.42720770825427, 115.4017704365492], \"type\": \"scatter\", \"uid\": \"308afe30-db59-46ee-8478-e0226f6426d0\"}, {\"hoverinfo\": \"name+text\", \"legendgroup\": \"real\", \"line\": {\"color\": \"green\", \"width\": 1}, \"name\": \"real\", \"opacity\": 1, \"showlegend\": false, \"text\": [\"34877\", \"41146\"], \"x\": [-151.393, -224.485], \"y\": [115.4017704365492, 171.697933181183], \"type\": \"scatter\", \"uid\": \"124812fc-ed5c-44e4-93e1-a9d2588e40b9\"}, {\"hoverinfo\": \"name+text\", \"legendgroup\": \"real\", \"line\": {\"color\": \"green\", \"width\": 1}, \"name\": \"real\", \"opacity\": 1, \"showlegend\": false, \"text\": [\"41146\", \"73201\"], \"x\": [-224.485, -339.0], \"y\": [171.697933181183, 259.9772582081748], \"type\": \"scatter\", \"uid\": \"f6601e92-38c7-447e-8143-3317d2537b8c\"}, {\"hoverinfo\": \"name+text\", \"legendgroup\": \"real\", \"line\": {\"color\": \"green\", \"width\": 1}, \"name\": \"real\", \"opacity\": 1, \"showlegend\": false, \"text\": [\"73201\", \"79641\"], \"x\": [-339.0, -470.6], \"y\": [259.9772582081748, 361.27022166795035], \"type\": \"scatter\", \"uid\": \"0fa8c01d-ea76-4f44-8e3c-f35372076a89\"}, {\"hoverinfo\": \"name+text\", \"legendgroup\": \"real\", \"line\": {\"color\": \"green\", \"width\": 1}, \"name\": \"real\", \"opacity\": 1, \"showlegend\": false, \"text\": [\"79641\", \"86195\"], \"x\": [-470.6, -657.6], \"y\": [361.27022166795035, 505.25758938962014], \"type\": \"scatter\", \"uid\": \"97658125-53ce-463d-9132-6b6c51059227\"}, {\"hoverinfo\": \"name+text\", \"legendgroup\": \"real\", \"line\": {\"color\": \"green\", \"width\": 1}, \"name\": \"real\", \"opacity\": 1, \"showlegend\": false, \"text\": [\"86195\", \"91955\"], \"x\": [-657.6, -865.4], \"y\": [505.25758938962014, 665.3054220029776], \"type\": \"scatter\", \"uid\": \"cdab41da-fad5-4809-9b22-a9c832611a2a\"}, {\"hoverinfo\": \"name+text\", \"legendgroup\": \"real\", \"line\": {\"color\": \"green\", \"width\": 1}, \"name\": \"real\", \"opacity\": 1, \"showlegend\": false, \"text\": [\"91955\", \"107743\"], \"x\": [-865.4, -1067.8], \"y\": [665.3054220029776, 824.2035973873507], \"type\": \"scatter\", \"uid\": \"43093822-30c7-48ba-9261-333712172700\"}, {\"hoverinfo\": \"name+text\", \"legendgroup\": \"real\", \"line\": {\"color\": \"green\", \"width\": 1}, \"name\": \"real\", \"opacity\": 1, \"showlegend\": false, \"text\": [\"19698\", \"27827\"], \"x\": [-43.6337, -86.1783], \"y\": [32.02264014494901, 72.07849176870727], \"type\": \"scatter\", \"uid\": \"10a8d058-55ff-4303-9fec-028293aa02f4\"}, {\"hoverinfo\": \"name+text\", \"legendgroup\": \"real\", \"line\": {\"color\": \"green\", \"width\": 1}, \"name\": \"real\", \"opacity\": 1, \"showlegend\": false, \"text\": [\"27827\", \"35259\"], \"x\": [-86.1783, -131.795], \"y\": [72.07849176870727, 115.01274730202735], \"type\": \"scatter\", \"uid\": \"6b562698-c5d6-41ea-bbf4-dcfbf9ce6c56\"}, {\"hoverinfo\": \"name+text\", \"legendgroup\": \"real\", \"line\": {\"color\": \"green\", \"width\": 1}, \"name\": \"real\", \"opacity\": 1, \"showlegend\": false, \"text\": [\"35259\", \"41464\"], \"x\": [-131.795, -191.758], \"y\": [115.01274730202735, 171.40195078204334], \"type\": \"scatter\", \"uid\": \"d160798a-5c01-452c-b827-2177e8b5f63a\"}, {\"hoverinfo\": \"name+text\", \"legendgroup\": \"real\", \"line\": {\"color\": \"green\", \"width\": 1}, \"name\": \"real\", \"opacity\": 1, \"showlegend\": false, \"text\": [\"41464\", \"73085\"], \"x\": [-191.758, -283.2], \"y\": [171.40195078204334, 257.30068278183796], \"type\": \"scatter\", \"uid\": \"94d9daa3-a443-4e8b-8015-4e7af657817f\"}, {\"hoverinfo\": \"name+text\", \"legendgroup\": \"real\", \"line\": {\"color\": \"green\", \"width\": 1}, \"name\": \"real\", \"opacity\": 1, \"showlegend\": false, \"text\": [\"73085\", \"79880\"], \"x\": [-283.2, -398.2], \"y\": [257.30068278183796, 365.71411330334246], \"type\": \"scatter\", \"uid\": \"2d3b98a4-e36a-453a-93a0-02705f09d30f\"}, {\"hoverinfo\": \"name+text\", \"legendgroup\": \"real\", \"line\": {\"color\": \"green\", \"width\": 1}, \"name\": \"real\", \"opacity\": 1, \"showlegend\": false, \"text\": [\"79880\", \"86402\"], \"x\": [-398.2, -538.4], \"y\": [365.71411330334246, 497.4495544242049], \"type\": \"scatter\", \"uid\": \"ce19f4cd-7ac0-42d2-97d9-431e2cf05a34\"}, {\"hoverinfo\": \"name+text\", \"legendgroup\": \"real\", \"line\": {\"color\": \"green\", \"width\": 1}, \"name\": \"real\", \"opacity\": 1, \"showlegend\": false, \"text\": [\"86402\", \"92130\"], \"x\": [-538.4, -707.2], \"y\": [497.4495544242049, 656.5191725472228], \"type\": \"scatter\", \"uid\": \"9d7c56cd-715b-4be9-b463-e7ad9df02af7\"}, {\"hoverinfo\": \"name+text\", \"legendgroup\": \"real\", \"line\": {\"color\": \"green\", \"width\": 1}, \"name\": \"real\", \"opacity\": 1, \"showlegend\": false, \"text\": [\"92130\", \"107883\"], \"x\": [-707.2, -878.4], \"y\": [656.5191725472228, 819.5081131930848], \"type\": \"scatter\", \"uid\": \"29bcf609-068f-445c-bf7c-6ef77fab1588\"}, {\"hoverinfo\": \"name+text\", \"legendgroup\": \"real\", \"line\": {\"color\": \"green\", \"width\": 1}, \"name\": \"real\", \"opacity\": 1, \"showlegend\": false, \"text\": [\"21265\", \"29504\"], \"x\": [-24.6702, -46.6699], \"y\": [32.23509056485029, 71.61236113102264], \"type\": \"scatter\", \"uid\": \"ae713040-11b4-4fa8-ac71-ec258fa70e1c\"}, {\"hoverinfo\": \"name+text\", \"legendgroup\": \"real\", \"line\": {\"color\": \"green\", \"width\": 1}, \"name\": \"real\", \"opacity\": 1, \"showlegend\": false, \"text\": [\"29504\", \"42350\"], \"x\": [-46.6699, -102.632], \"y\": [71.61236113102264, 172.0437815826251], \"type\": \"scatter\", \"uid\": \"c04bc52a-d17c-4f94-a160-7fcdcf7003ae\"}, {\"hoverinfo\": \"name+text\", \"legendgroup\": \"real\", \"line\": {\"color\": \"green\", \"width\": 1}, \"name\": \"real\", \"opacity\": 1, \"showlegend\": false, \"text\": [\"42350\", \"73830\"], \"x\": [-102.632, -152.6], \"y\": [172.0437815826251, 261.85823478523645], \"type\": \"scatter\", \"uid\": \"db307f67-a290-4e44-9a26-3478b55c3f47\"}, {\"hoverinfo\": \"name+text\", \"legendgroup\": \"real\", \"line\": {\"color\": \"green\", \"width\": 1}, \"name\": \"real\", \"opacity\": 1, \"showlegend\": false, \"text\": [\"73830\", \"80933\"], \"x\": [-152.6, -209.6], \"y\": [261.85823478523645, 363.8873098444215], \"type\": \"scatter\", \"uid\": \"2534bff1-05e7-4a72-bd61-402260b94d2a\"}, {\"hoverinfo\": \"name+text\", \"legendgroup\": \"real\", \"line\": {\"color\": \"green\", \"width\": 1}, \"name\": \"real\", \"opacity\": 1, \"showlegend\": false, \"text\": [\"80933\", \"87292\"], \"x\": [-209.6, -285.6], \"y\": [363.8873098444215, 500.04019567330784], \"type\": \"scatter\", \"uid\": \"b4d9012a-b5b0-4fba-9e74-03b14ca6177b\"}, {\"hoverinfo\": \"name+text\", \"legendgroup\": \"real\", \"line\": {\"color\": \"green\", \"width\": 1}, \"name\": \"real\", \"opacity\": 1, \"showlegend\": false, \"text\": [\"87292\", \"93165\"], \"x\": [-285.6, -375.4], \"y\": [500.04019567330784, 660.5030028046807], \"type\": \"scatter\", \"uid\": \"80da676b-3bfd-455d-abb9-813cc459e373\"}, {\"hoverinfo\": \"name+text\", \"legendgroup\": \"real\", \"line\": {\"color\": \"green\", \"width\": 1}, \"name\": \"real\", \"opacity\": 1, \"showlegend\": false, \"text\": [\"93165\", \"109022\"], \"x\": [-375.4, -466.4], \"y\": [660.5030028046807, 822.2639974959379], \"type\": \"scatter\", \"uid\": \"16082b64-8922-4c22-a5be-5ba01dae513a\"}, {\"hoverinfo\": \"name+text\", \"legendgroup\": \"real\", \"line\": {\"color\": \"green\", \"width\": 1}, \"name\": \"real\", \"opacity\": 1, \"showlegend\": false, \"text\": [\"109022\", \"114036\"], \"x\": [-466.4, -580.2], \"y\": [822.2639974959379, 1022.6908959079474], \"type\": \"scatter\", \"uid\": \"6db8ddca-2879-4be9-8af0-18ac40876808\"}], {\"height\": 800, \"hovermode\": \"closest\", \"showlegend\": true, \"updatemenus\": [{\"buttons\": [{\"args\": [\"shapes\", []], \"label\": \"hide layers\", \"method\": \"relayout\"}, {\"args\": [\"shapes\", [{\"type\": \"line\", \"x0\": -455, \"x1\": 455, \"y0\": 32, \"y1\": 32, \"opacity\": 0.5, \"layer\": \"below\", \"line\": {\"color\": \"#ccc\"}}, {\"type\": \"line\", \"x0\": -455, \"x1\": 455, \"y0\": 72, \"y1\": 72, \"opacity\": 0.5, \"layer\": \"below\", \"line\": {\"color\": \"#ccc\"}}, {\"type\": \"line\", \"x0\": -455, \"x1\": 455, \"y0\": 116, \"y1\": 116, \"opacity\": 0.5, \"layer\": \"below\", \"line\": {\"color\": \"#ccc\"}}, {\"type\": \"line\", \"x0\": -455, \"x1\": 455, \"y0\": 172, \"y1\": 172, \"opacity\": 0.5, \"layer\": \"below\", \"line\": {\"color\": \"#ccc\"}}, {\"type\": \"line\", \"x0\": -1030, \"x1\": 1030, \"y0\": 260, \"y1\": 260, \"opacity\": 0.5, \"layer\": \"below\", \"line\": {\"color\": \"#cccc8d\"}}, {\"type\": \"line\", \"x0\": -1030, \"x1\": 1030, \"y0\": 360, \"y1\": 360, \"opacity\": 0.5, \"layer\": \"below\", \"line\": {\"color\": \"#cccc8d\"}}, {\"type\": \"line\", \"x0\": -1030, \"x1\": 1030, \"y0\": 500, \"y1\": 500, \"opacity\": 0.5, \"layer\": \"below\", \"line\": {\"color\": \"#cccc8d\"}}, {\"type\": \"line\", \"x0\": -1030, \"x1\": 1030, \"y0\": 660, \"y1\": 660, \"opacity\": 0.5, \"layer\": \"below\", \"line\": {\"color\": \"#cccc8d\"}}, {\"type\": \"line\", \"x0\": -1030, \"x1\": 1030, \"y0\": 820, \"y1\": 820, \"opacity\": 0.5, \"layer\": \"below\", \"line\": {\"color\": \"#ccc\"}}, {\"type\": \"line\", \"x0\": -1030, \"x1\": 1030, \"y0\": 1020, \"y1\": 1020, \"opacity\": 0.5, \"layer\": \"below\", \"line\": {\"color\": \"#ccc\"}}]], \"label\": \"show layers\", \"method\": \"relayout\"}], \"direction\": \"left\", \"pad\": {\"l\": 0.1}, \"type\": \"buttons\", \"xanchor\": \"left\", \"y\": 1.1, \"yanchor\": \"top\"}, {\"buttons\": [{\"args\": [{\"mode\": \"markers+lines\"}], \"label\": \"hits+tracks\", \"method\": \"update\"}, {\"args\": [{\"mode\": \"markers\"}], \"label\": \"hits only\", \"method\": \"update\"}], \"direction\": \"left\", \"pad\": {\"l\": 200}, \"type\": \"buttons\", \"xanchor\": \"left\", \"y\": 1.1, \"yanchor\": \"top\"}, {\"buttons\": [{\"args\": [\"yaxis.scaleanchor\", null], \"label\": \"free\", \"method\": \"relayout\"}, {\"args\": [\"yaxis.scaleanchor\", \"x\"], \"label\": \"fixed\", \"method\": \"relayout\"}], \"direction\": \"left\", \"pad\": {\"l\": 380}, \"type\": \"buttons\", \"xanchor\": \"left\", \"y\": 1.1, \"yanchor\": \"top\"}], \"width\": 800, \"xaxis\": {\"title\": \"z\"}, \"yaxis\": {\"title\": \"r\"}}, {\"showLink\": true, \"linkText\": \"Export to plot.ly\", \"plotlyServerURL\": \"https://plot.ly\"})});</script>"
      ],
      "text/vnd.plotly.v1+html": [
       "<div id=\"fd43560a-5c6a-4be7-950a-4ef537b5c475\" style=\"height: 800px; width: 800px;\" class=\"plotly-graph-div\"></div><script type=\"text/javascript\">require([\"plotly\"], function(Plotly) { window.PLOTLYENV=window.PLOTLYENV || {};window.PLOTLYENV.BASE_URL=\"https://plot.ly\";Plotly.newPlot(\"fd43560a-5c6a-4be7-950a-4ef537b5c475\", [{\"hoverinfo\": \"name+text\", \"legendgroup\": \"real_unfocused\", \"line\": {\"color\": \"darkseagreen\", \"width\": 1}, \"name\": \"real_unfocused\", \"opacity\": 1, \"showlegend\": true, \"text\": [\"18246\", \"27129\"], \"x\": [-70.5503, -161.067], \"y\": [31.546282598905375, 72.95614848420934], \"type\": \"scatter\", \"uid\": \"61104dc5-9b4e-4625-9ec1-b8929649b512\"}, {\"hoverinfo\": \"name+text\", \"legendgroup\": \"real_unfocused\", \"line\": {\"color\": \"darkseagreen\", \"width\": 1}, \"name\": \"real_unfocused\", \"opacity\": 1, \"showlegend\": false, \"text\": [\"27129\", \"34226\"], \"x\": [-161.067, -252.93400000000003], \"y\": [72.95614848420934, 115.02006064165504], \"type\": \"scatter\", \"uid\": \"5d37ffd3-4213-42eb-968c-6afb66f80923\"}, {\"hoverinfo\": \"name+text\", \"legendgroup\": \"real_unfocused\", \"line\": {\"color\": \"darkseagreen\", \"width\": 1}, \"name\": \"real_unfocused\", \"opacity\": 1, \"showlegend\": false, \"text\": [\"34226\", \"40268\"], \"x\": [-252.93400000000003, -376.026], \"y\": [115.02006064165504, 171.35896601578804], \"type\": \"scatter\", \"uid\": \"4e0838a9-8c61-47fd-a196-6f8e14ec5981\"}, {\"hoverinfo\": \"name+text\", \"legendgroup\": \"real_unfocused\", \"line\": {\"color\": \"darkseagreen\", \"width\": 1}, \"name\": \"real_unfocused\", \"opacity\": 1, \"showlegend\": false, \"text\": [\"40268\", \"72036\"], \"x\": [-376.026, -576.2], \"y\": [171.35896601578804, 263.0385854831949], \"type\": \"scatter\", \"uid\": \"9f034d21-dd71-4e85-85dd-686908a444a6\"}, {\"hoverinfo\": \"name+text\", \"legendgroup\": \"real_unfocused\", \"line\": {\"color\": \"darkseagreen\", \"width\": 1}, \"name\": \"real_unfocused\", \"opacity\": 1, \"showlegend\": false, \"text\": [\"72036\", \"78762\"], \"x\": [-576.2, -790.6], \"y\": [263.0385854831949, 360.6255076058819], \"type\": \"scatter\", \"uid\": \"61d259f4-3947-49be-b4b5-721db2dee815\"}, {\"hoverinfo\": \"name+text\", \"legendgroup\": \"real_unfocused\", \"line\": {\"color\": \"darkseagreen\", \"width\": 1}, \"name\": \"real_unfocused\", \"opacity\": 1, \"showlegend\": false, \"text\": [\"23050\", \"30426\"], \"x\": [23.0524, 40.2954], \"y\": [32.02056999141177, 71.44607751100754], \"type\": \"scatter\", \"uid\": \"0be77d1c-5f50-47af-9ee3-0b71cd50d3b0\"}, {\"hoverinfo\": \"name+text\", \"legendgroup\": \"real_unfocused\", \"line\": {\"color\": \"darkseagreen\", \"width\": 1}, \"name\": \"real_unfocused\", \"opacity\": 1, \"showlegend\": false, \"text\": [\"30426\", \"37198\"], \"x\": [40.2954, 59.2064], \"y\": [71.44607751100754, 115.0064055732984], \"type\": \"scatter\", \"uid\": \"7fbdd8ff-6821-4b2b-abcd-81eb028e64ff\"}, {\"hoverinfo\": \"name+text\", \"legendgroup\": \"real_unfocused\", \"line\": {\"color\": \"darkseagreen\", \"width\": 1}, \"name\": \"real_unfocused\", \"opacity\": 1, \"showlegend\": false, \"text\": [\"37198\", \"44045\"], \"x\": [59.2064, 83.8711], \"y\": [115.0064055732984, 171.8463372779298], \"type\": \"scatter\", \"uid\": \"599e0753-b3e4-48a4-8311-408055832007\"}, {\"hoverinfo\": \"name+text\", \"legendgroup\": \"real_unfocused\", \"line\": {\"color\": \"darkseagreen\", \"width\": 1}, \"name\": \"real_unfocused\", \"opacity\": 1, \"showlegend\": false, \"text\": [\"44045\", \"75480\"], \"x\": [83.8711, 121.6], \"y\": [171.8463372779298, 258.1311722458177], \"type\": \"scatter\", \"uid\": \"ecafe1f5-7bb4-4cc8-aee3-f52ca5a98f71\"}, {\"hoverinfo\": \"name+text\", \"legendgroup\": \"real_unfocused\", \"line\": {\"color\": \"darkseagreen\", \"width\": 1}, \"name\": \"real_unfocused\", \"opacity\": 1, \"showlegend\": false, \"text\": [\"75480\", \"82723\"], \"x\": [121.6, 165.8], \"y\": [258.1311722458177, 360.3464031056922], \"type\": \"scatter\", \"uid\": \"508180c8-a1d2-4882-8d1f-69775cd42a4e\"}, {\"hoverinfo\": \"name+text\", \"legendgroup\": \"real_unfocused\", \"line\": {\"color\": \"darkseagreen\", \"width\": 1}, \"name\": \"real_unfocused\", \"opacity\": 1, \"showlegend\": false, \"text\": [\"21405\", \"30694\"], \"x\": [52.0145, 107.158], \"y\": [33.604869926734146, 73.82976240148159], \"type\": \"scatter\", \"uid\": \"8b5bd3de-19e0-44a1-ac53-63ee67c5f40a\"}, {\"hoverinfo\": \"name+text\", \"legendgroup\": \"real_unfocused\", \"line\": {\"color\": \"darkseagreen\", \"width\": 1}, \"name\": \"real_unfocused\", \"opacity\": 1, \"showlegend\": false, \"text\": [\"30694\", \"38058\"], \"x\": [107.158, 166.491], \"y\": [73.82976240148159, 116.91123809106979], \"type\": \"scatter\", \"uid\": \"650423f5-5f59-4c74-952d-9639a529f1e4\"}, {\"hoverinfo\": \"name+text\", \"legendgroup\": \"real_unfocused\", \"line\": {\"color\": \"darkseagreen\", \"width\": 1}, \"name\": \"real_unfocused\", \"opacity\": 1, \"showlegend\": false, \"text\": [\"38058\", \"44664\"], \"x\": [166.491, 243.461], \"y\": [116.91123809106979, 172.77679735471895], \"type\": \"scatter\", \"uid\": \"97d139c9-b813-48bb-b254-a4d11ab3669b\"}, {\"hoverinfo\": \"name+text\", \"legendgroup\": \"real_unfocused\", \"line\": {\"color\": \"darkseagreen\", \"width\": 1}, \"name\": \"real_unfocused\", \"opacity\": 1, \"showlegend\": false, \"text\": [\"44664\", \"76101\"], \"x\": [243.461, 360.6], \"y\": [172.77679735471895, 257.4177895939012], \"type\": \"scatter\", \"uid\": \"04e6042a-fd46-4270-b392-fe9b3ad0635e\"}, {\"hoverinfo\": \"name+text\", \"legendgroup\": \"real_unfocused\", \"line\": {\"color\": \"darkseagreen\", \"width\": 1}, \"name\": \"real_unfocused\", \"opacity\": 1, \"showlegend\": false, \"text\": [\"76101\", \"83615\"], \"x\": [360.6, 502.8], \"y\": [257.4177895939012, 359.94553844991606], \"type\": \"scatter\", \"uid\": \"04c9745b-d396-4926-822d-d14078639390\"}, {\"hoverinfo\": \"name+text\", \"legendgroup\": \"real_unfocused\", \"line\": {\"color\": \"darkseagreen\", \"width\": 1}, \"name\": \"real_unfocused\", \"opacity\": 1, \"showlegend\": false, \"text\": [\"83615\", \"90565\"], \"x\": [502.8, 698.0], \"y\": [359.94553844991606, 498.87383068175666], \"type\": \"scatter\", \"uid\": \"9c9d89f1-c7d6-44a0-a03d-1f8c2fb6a61d\"}, {\"hoverinfo\": \"name+text\", \"legendgroup\": \"real_unfocused\", \"line\": {\"color\": \"darkseagreen\", \"width\": 1}, \"name\": \"real_unfocused\", \"opacity\": 1, \"showlegend\": false, \"text\": [\"90565\", \"96738\"], \"x\": [698.0, 928.2], \"y\": [498.87383068175666, 661.1510399333877], \"type\": \"scatter\", \"uid\": \"5d7a5937-2619-48e9-9f6c-04f3da6f46fb\"}, {\"hoverinfo\": \"name+text\", \"legendgroup\": \"real_unfocused\", \"line\": {\"color\": \"darkseagreen\", \"width\": 1}, \"name\": \"real_unfocused\", \"opacity\": 1, \"showlegend\": false, \"text\": [\"75184\", \"82090\"], \"x\": [77.2, 104.8], \"y\": [262.1663236351383, 359.2111247589779], \"type\": \"scatter\", \"uid\": \"5a608917-5616-41e7-9b5c-316858f6a72b\"}, {\"hoverinfo\": \"name+text\", \"legendgroup\": \"real_unfocused\", \"line\": {\"color\": \"darkseagreen\", \"width\": 1}, \"name\": \"real_unfocused\", \"opacity\": 1, \"showlegend\": false, \"text\": [\"82090\", \"88632\"], \"x\": [104.8, 145.6], \"y\": [359.2111247589779, 497.29964951401286], \"type\": \"scatter\", \"uid\": \"289a836d-3d02-4496-a95f-42180a717a04\"}, {\"hoverinfo\": \"name+text\", \"legendgroup\": \"real_unfocused\", \"line\": {\"color\": \"darkseagreen\", \"width\": 1}, \"name\": \"real_unfocused\", \"opacity\": 1, \"showlegend\": false, \"text\": [\"88632\", \"94896\"], \"x\": [145.6, 194.6], \"y\": [497.29964951401286, 663.8058980771413], \"type\": \"scatter\", \"uid\": \"e44a7ec3-6c99-4632-a3bd-c6f453bbe92a\"}, {\"hoverinfo\": \"name+text\", \"legendgroup\": \"real_unfocused\", \"line\": {\"color\": \"darkseagreen\", \"width\": 1}, \"name\": \"real_unfocused\", \"opacity\": 1, \"showlegend\": false, \"text\": [\"94896\", \"110783\"], \"x\": [194.6, 243.8], \"y\": [663.8058980771413, 822.6882381005577], \"type\": \"scatter\", \"uid\": \"6f7e42c6-7c92-446a-ac83-d163c9600833\"}, {\"hoverinfo\": \"name+text\", \"legendgroup\": \"real_unfocused\", \"line\": {\"color\": \"darkseagreen\", \"width\": 1}, \"name\": \"real_unfocused\", \"opacity\": 1, \"showlegend\": false, \"text\": [\"110783\", \"116120\"], \"x\": [243.8, 303.6], \"y\": [822.6882381005577, 1019.1596444914801], \"type\": \"scatter\", \"uid\": \"792f8a9f-6507-48ce-b983-cdfc36b843f7\"}, {\"hoverinfo\": \"name+text\", \"legendgroup\": \"real\", \"line\": {\"color\": \"green\", \"width\": 1}, \"name\": \"real\", \"opacity\": 1, \"showlegend\": true, \"text\": [\"20764\", \"27487\"], \"x\": [-67.8321, -145.30700000000004], \"y\": [32.157173777557006, 72.80676931336811], \"type\": \"scatter\", \"uid\": \"c293e886-2cc8-42d0-8eee-217cee8ad8d9\"}, {\"hoverinfo\": \"name+text\", \"legendgroup\": \"real\", \"line\": {\"color\": \"green\", \"width\": 1}, \"name\": \"real\", \"opacity\": 1, \"showlegend\": false, \"text\": [\"27487\", \"34491\"], \"x\": [-145.30700000000004, -225.866], \"y\": [72.80676931336811, 115.05245255343321], \"type\": \"scatter\", \"uid\": \"ba78efc0-5586-4c53-8fcc-d92f380787da\"}, {\"hoverinfo\": \"name+text\", \"legendgroup\": \"real\", \"line\": {\"color\": \"green\", \"width\": 1}, \"name\": \"real\", \"opacity\": 1, \"showlegend\": false, \"text\": [\"34491\", \"40865\"], \"x\": [-225.866, -336.397], \"y\": [115.05245255343321, 173.0423765237868], \"type\": \"scatter\", \"uid\": \"e267c06c-8e02-4b7f-96ce-747aa9ee96d2\"}, {\"hoverinfo\": \"name+text\", \"legendgroup\": \"real\", \"line\": {\"color\": \"green\", \"width\": 1}, \"name\": \"real\", \"opacity\": 1, \"showlegend\": false, \"text\": [\"40865\", \"72549\"], \"x\": [-336.397, -499.4], \"y\": [173.0423765237868, 258.1986281140936], \"type\": \"scatter\", \"uid\": \"02f9a893-1d65-45ca-9adf-603a6bcba337\"}, {\"hoverinfo\": \"name+text\", \"legendgroup\": \"real\", \"line\": {\"color\": \"green\", \"width\": 1}, \"name\": \"real\", \"opacity\": 1, \"showlegend\": false, \"text\": [\"72549\", \"79138\"], \"x\": [-499.4, -689.8], \"y\": [258.1986281140936, 358.26621846092326], \"type\": \"scatter\", \"uid\": \"d7f020d3-7080-478f-bbeb-5a09b0ed7146\"}, {\"hoverinfo\": \"name+text\", \"legendgroup\": \"real\", \"line\": {\"color\": \"green\", \"width\": 1}, \"name\": \"real\", \"opacity\": 1, \"showlegend\": false, \"text\": [\"79138\", \"85537\"], \"x\": [-689.8, -955.8], \"y\": [358.26621846092326, 496.7990769969284], \"type\": \"scatter\", \"uid\": \"5f04d016-0a0d-41dc-9029-94ce4e32adee\"}, {\"hoverinfo\": \"name+text\", \"legendgroup\": \"real\", \"line\": {\"color\": \"green\", \"width\": 1}, \"name\": \"real\", \"opacity\": 1, \"showlegend\": false, \"text\": [\"23536\", \"31418\"], \"x\": [41.7502, 99.58], \"y\": [32.49714414606305, 72.54064560265508], \"type\": \"scatter\", \"uid\": \"a26a5304-7b84-4d47-935a-fa2b019564b4\"}, {\"hoverinfo\": \"name+text\", \"legendgroup\": \"real\", \"line\": {\"color\": \"green\", \"width\": 1}, \"name\": \"real\", \"opacity\": 1, \"showlegend\": false, \"text\": [\"31418\", \"38524\"], \"x\": [99.58, 162.741], \"y\": [72.54064560265508, 116.24458425703108], \"type\": \"scatter\", \"uid\": \"55d692fd-dff7-4dd3-af50-c0a40aed43dc\"}, {\"hoverinfo\": \"name+text\", \"legendgroup\": \"real\", \"line\": {\"color\": \"green\", \"width\": 1}, \"name\": \"real\", \"opacity\": 1, \"showlegend\": false, \"text\": [\"38524\", \"45067\"], \"x\": [162.741, 243.228], \"y\": [116.24458425703108, 171.77085511020198], \"type\": \"scatter\", \"uid\": \"cab1fa0b-cf3e-4c94-afa6-877721157de1\"}, {\"hoverinfo\": \"name+text\", \"legendgroup\": \"real\", \"line\": {\"color\": \"green\", \"width\": 1}, \"name\": \"real\", \"opacity\": 1, \"showlegend\": false, \"text\": [\"45067\", \"76902\"], \"x\": [243.228, 375.4], \"y\": [171.77085511020198, 262.9168818890107], \"type\": \"scatter\", \"uid\": \"596f6fd1-7640-4b29-8e76-daeab33fd382\"}, {\"hoverinfo\": \"name+text\", \"legendgroup\": \"real\", \"line\": {\"color\": \"green\", \"width\": 1}, \"name\": \"real\", \"opacity\": 1, \"showlegend\": false, \"text\": [\"76902\", \"83944\"], \"x\": [375.4, 515.6], \"y\": [262.9168818890107, 359.1660073517537], \"type\": \"scatter\", \"uid\": \"042ee780-6642-440d-b7b9-0a99ff7867d3\"}, {\"hoverinfo\": \"name+text\", \"legendgroup\": \"real\", \"line\": {\"color\": \"green\", \"width\": 1}, \"name\": \"real\", \"opacity\": 1, \"showlegend\": false, \"text\": [\"83944\", \"90803\"], \"x\": [515.6, 722.2], \"y\": [359.1660073517537, 501.1282595952857], \"type\": \"scatter\", \"uid\": \"cba6c05b-c2c1-40d1-863a-52c5b9b04e84\"}, {\"hoverinfo\": \"name+text\", \"legendgroup\": \"real\", \"line\": {\"color\": \"green\", \"width\": 1}, \"name\": \"real\", \"opacity\": 1, \"showlegend\": false, \"text\": [\"90803\", \"96934\"], \"x\": [722.2, 956.0], \"y\": [501.1282595952857, 660.1841830580312], \"type\": \"scatter\", \"uid\": \"eff9977a-e316-47c0-8be9-06c8950cce1c\"}, {\"hoverinfo\": \"name+text\", \"legendgroup\": \"real\", \"line\": {\"color\": \"green\", \"width\": 1}, \"name\": \"real\", \"opacity\": 1, \"showlegend\": false, \"text\": [\"20262\", \"28058\"], \"x\": [-43.7904, -94.3151], \"y\": [32.562200789221855, 71.42720770825427], \"type\": \"scatter\", \"uid\": \"0b33ae01-8fdd-409a-aa8f-34568f8d4bf2\"}, {\"hoverinfo\": \"name+text\", \"legendgroup\": \"real\", \"line\": {\"color\": \"green\", \"width\": 1}, \"name\": \"real\", \"opacity\": 1, \"showlegend\": false, \"text\": [\"28058\", \"34877\"], \"x\": [-94.3151, -151.393], \"y\": [71.42720770825427, 115.4017704365492], \"type\": \"scatter\", \"uid\": \"308afe30-db59-46ee-8478-e0226f6426d0\"}, {\"hoverinfo\": \"name+text\", \"legendgroup\": \"real\", \"line\": {\"color\": \"green\", \"width\": 1}, \"name\": \"real\", \"opacity\": 1, \"showlegend\": false, \"text\": [\"34877\", \"41146\"], \"x\": [-151.393, -224.485], \"y\": [115.4017704365492, 171.697933181183], \"type\": \"scatter\", \"uid\": \"124812fc-ed5c-44e4-93e1-a9d2588e40b9\"}, {\"hoverinfo\": \"name+text\", \"legendgroup\": \"real\", \"line\": {\"color\": \"green\", \"width\": 1}, \"name\": \"real\", \"opacity\": 1, \"showlegend\": false, \"text\": [\"41146\", \"73201\"], \"x\": [-224.485, -339.0], \"y\": [171.697933181183, 259.9772582081748], \"type\": \"scatter\", \"uid\": \"f6601e92-38c7-447e-8143-3317d2537b8c\"}, {\"hoverinfo\": \"name+text\", \"legendgroup\": \"real\", \"line\": {\"color\": \"green\", \"width\": 1}, \"name\": \"real\", \"opacity\": 1, \"showlegend\": false, \"text\": [\"73201\", \"79641\"], \"x\": [-339.0, -470.6], \"y\": [259.9772582081748, 361.27022166795035], \"type\": \"scatter\", \"uid\": \"0fa8c01d-ea76-4f44-8e3c-f35372076a89\"}, {\"hoverinfo\": \"name+text\", \"legendgroup\": \"real\", \"line\": {\"color\": \"green\", \"width\": 1}, \"name\": \"real\", \"opacity\": 1, \"showlegend\": false, \"text\": [\"79641\", \"86195\"], \"x\": [-470.6, -657.6], \"y\": [361.27022166795035, 505.25758938962014], \"type\": \"scatter\", \"uid\": \"97658125-53ce-463d-9132-6b6c51059227\"}, {\"hoverinfo\": \"name+text\", \"legendgroup\": \"real\", \"line\": {\"color\": \"green\", \"width\": 1}, \"name\": \"real\", \"opacity\": 1, \"showlegend\": false, \"text\": [\"86195\", \"91955\"], \"x\": [-657.6, -865.4], \"y\": [505.25758938962014, 665.3054220029776], \"type\": \"scatter\", \"uid\": \"cdab41da-fad5-4809-9b22-a9c832611a2a\"}, {\"hoverinfo\": \"name+text\", \"legendgroup\": \"real\", \"line\": {\"color\": \"green\", \"width\": 1}, \"name\": \"real\", \"opacity\": 1, \"showlegend\": false, \"text\": [\"91955\", \"107743\"], \"x\": [-865.4, -1067.8], \"y\": [665.3054220029776, 824.2035973873507], \"type\": \"scatter\", \"uid\": \"43093822-30c7-48ba-9261-333712172700\"}, {\"hoverinfo\": \"name+text\", \"legendgroup\": \"real\", \"line\": {\"color\": \"green\", \"width\": 1}, \"name\": \"real\", \"opacity\": 1, \"showlegend\": false, \"text\": [\"19698\", \"27827\"], \"x\": [-43.6337, -86.1783], \"y\": [32.02264014494901, 72.07849176870727], \"type\": \"scatter\", \"uid\": \"10a8d058-55ff-4303-9fec-028293aa02f4\"}, {\"hoverinfo\": \"name+text\", \"legendgroup\": \"real\", \"line\": {\"color\": \"green\", \"width\": 1}, \"name\": \"real\", \"opacity\": 1, \"showlegend\": false, \"text\": [\"27827\", \"35259\"], \"x\": [-86.1783, -131.795], \"y\": [72.07849176870727, 115.01274730202735], \"type\": \"scatter\", \"uid\": \"6b562698-c5d6-41ea-bbf4-dcfbf9ce6c56\"}, {\"hoverinfo\": \"name+text\", \"legendgroup\": \"real\", \"line\": {\"color\": \"green\", \"width\": 1}, \"name\": \"real\", \"opacity\": 1, \"showlegend\": false, \"text\": [\"35259\", \"41464\"], \"x\": [-131.795, -191.758], \"y\": [115.01274730202735, 171.40195078204334], \"type\": \"scatter\", \"uid\": \"d160798a-5c01-452c-b827-2177e8b5f63a\"}, {\"hoverinfo\": \"name+text\", \"legendgroup\": \"real\", \"line\": {\"color\": \"green\", \"width\": 1}, \"name\": \"real\", \"opacity\": 1, \"showlegend\": false, \"text\": [\"41464\", \"73085\"], \"x\": [-191.758, -283.2], \"y\": [171.40195078204334, 257.30068278183796], \"type\": \"scatter\", \"uid\": \"94d9daa3-a443-4e8b-8015-4e7af657817f\"}, {\"hoverinfo\": \"name+text\", \"legendgroup\": \"real\", \"line\": {\"color\": \"green\", \"width\": 1}, \"name\": \"real\", \"opacity\": 1, \"showlegend\": false, \"text\": [\"73085\", \"79880\"], \"x\": [-283.2, -398.2], \"y\": [257.30068278183796, 365.71411330334246], \"type\": \"scatter\", \"uid\": \"2d3b98a4-e36a-453a-93a0-02705f09d30f\"}, {\"hoverinfo\": \"name+text\", \"legendgroup\": \"real\", \"line\": {\"color\": \"green\", \"width\": 1}, \"name\": \"real\", \"opacity\": 1, \"showlegend\": false, \"text\": [\"79880\", \"86402\"], \"x\": [-398.2, -538.4], \"y\": [365.71411330334246, 497.4495544242049], \"type\": \"scatter\", \"uid\": \"ce19f4cd-7ac0-42d2-97d9-431e2cf05a34\"}, {\"hoverinfo\": \"name+text\", \"legendgroup\": \"real\", \"line\": {\"color\": \"green\", \"width\": 1}, \"name\": \"real\", \"opacity\": 1, \"showlegend\": false, \"text\": [\"86402\", \"92130\"], \"x\": [-538.4, -707.2], \"y\": [497.4495544242049, 656.5191725472228], \"type\": \"scatter\", \"uid\": \"9d7c56cd-715b-4be9-b463-e7ad9df02af7\"}, {\"hoverinfo\": \"name+text\", \"legendgroup\": \"real\", \"line\": {\"color\": \"green\", \"width\": 1}, \"name\": \"real\", \"opacity\": 1, \"showlegend\": false, \"text\": [\"92130\", \"107883\"], \"x\": [-707.2, -878.4], \"y\": [656.5191725472228, 819.5081131930848], \"type\": \"scatter\", \"uid\": \"29bcf609-068f-445c-bf7c-6ef77fab1588\"}, {\"hoverinfo\": \"name+text\", \"legendgroup\": \"real\", \"line\": {\"color\": \"green\", \"width\": 1}, \"name\": \"real\", \"opacity\": 1, \"showlegend\": false, \"text\": [\"21265\", \"29504\"], \"x\": [-24.6702, -46.6699], \"y\": [32.23509056485029, 71.61236113102264], \"type\": \"scatter\", \"uid\": \"ae713040-11b4-4fa8-ac71-ec258fa70e1c\"}, {\"hoverinfo\": \"name+text\", \"legendgroup\": \"real\", \"line\": {\"color\": \"green\", \"width\": 1}, \"name\": \"real\", \"opacity\": 1, \"showlegend\": false, \"text\": [\"29504\", \"42350\"], \"x\": [-46.6699, -102.632], \"y\": [71.61236113102264, 172.0437815826251], \"type\": \"scatter\", \"uid\": \"c04bc52a-d17c-4f94-a160-7fcdcf7003ae\"}, {\"hoverinfo\": \"name+text\", \"legendgroup\": \"real\", \"line\": {\"color\": \"green\", \"width\": 1}, \"name\": \"real\", \"opacity\": 1, \"showlegend\": false, \"text\": [\"42350\", \"73830\"], \"x\": [-102.632, -152.6], \"y\": [172.0437815826251, 261.85823478523645], \"type\": \"scatter\", \"uid\": \"db307f67-a290-4e44-9a26-3478b55c3f47\"}, {\"hoverinfo\": \"name+text\", \"legendgroup\": \"real\", \"line\": {\"color\": \"green\", \"width\": 1}, \"name\": \"real\", \"opacity\": 1, \"showlegend\": false, \"text\": [\"73830\", \"80933\"], \"x\": [-152.6, -209.6], \"y\": [261.85823478523645, 363.8873098444215], \"type\": \"scatter\", \"uid\": \"2534bff1-05e7-4a72-bd61-402260b94d2a\"}, {\"hoverinfo\": \"name+text\", \"legendgroup\": \"real\", \"line\": {\"color\": \"green\", \"width\": 1}, \"name\": \"real\", \"opacity\": 1, \"showlegend\": false, \"text\": [\"80933\", \"87292\"], \"x\": [-209.6, -285.6], \"y\": [363.8873098444215, 500.04019567330784], \"type\": \"scatter\", \"uid\": \"b4d9012a-b5b0-4fba-9e74-03b14ca6177b\"}, {\"hoverinfo\": \"name+text\", \"legendgroup\": \"real\", \"line\": {\"color\": \"green\", \"width\": 1}, \"name\": \"real\", \"opacity\": 1, \"showlegend\": false, \"text\": [\"87292\", \"93165\"], \"x\": [-285.6, -375.4], \"y\": [500.04019567330784, 660.5030028046807], \"type\": \"scatter\", \"uid\": \"80da676b-3bfd-455d-abb9-813cc459e373\"}, {\"hoverinfo\": \"name+text\", \"legendgroup\": \"real\", \"line\": {\"color\": \"green\", \"width\": 1}, \"name\": \"real\", \"opacity\": 1, \"showlegend\": false, \"text\": [\"93165\", \"109022\"], \"x\": [-375.4, -466.4], \"y\": [660.5030028046807, 822.2639974959379], \"type\": \"scatter\", \"uid\": \"16082b64-8922-4c22-a5be-5ba01dae513a\"}, {\"hoverinfo\": \"name+text\", \"legendgroup\": \"real\", \"line\": {\"color\": \"green\", \"width\": 1}, \"name\": \"real\", \"opacity\": 1, \"showlegend\": false, \"text\": [\"109022\", \"114036\"], \"x\": [-466.4, -580.2], \"y\": [822.2639974959379, 1022.6908959079474], \"type\": \"scatter\", \"uid\": \"6db8ddca-2879-4be9-8af0-18ac40876808\"}], {\"height\": 800, \"hovermode\": \"closest\", \"showlegend\": true, \"updatemenus\": [{\"buttons\": [{\"args\": [\"shapes\", []], \"label\": \"hide layers\", \"method\": \"relayout\"}, {\"args\": [\"shapes\", [{\"type\": \"line\", \"x0\": -455, \"x1\": 455, \"y0\": 32, \"y1\": 32, \"opacity\": 0.5, \"layer\": \"below\", \"line\": {\"color\": \"#ccc\"}}, {\"type\": \"line\", \"x0\": -455, \"x1\": 455, \"y0\": 72, \"y1\": 72, \"opacity\": 0.5, \"layer\": \"below\", \"line\": {\"color\": \"#ccc\"}}, {\"type\": \"line\", \"x0\": -455, \"x1\": 455, \"y0\": 116, \"y1\": 116, \"opacity\": 0.5, \"layer\": \"below\", \"line\": {\"color\": \"#ccc\"}}, {\"type\": \"line\", \"x0\": -455, \"x1\": 455, \"y0\": 172, \"y1\": 172, \"opacity\": 0.5, \"layer\": \"below\", \"line\": {\"color\": \"#ccc\"}}, {\"type\": \"line\", \"x0\": -1030, \"x1\": 1030, \"y0\": 260, \"y1\": 260, \"opacity\": 0.5, \"layer\": \"below\", \"line\": {\"color\": \"#cccc8d\"}}, {\"type\": \"line\", \"x0\": -1030, \"x1\": 1030, \"y0\": 360, \"y1\": 360, \"opacity\": 0.5, \"layer\": \"below\", \"line\": {\"color\": \"#cccc8d\"}}, {\"type\": \"line\", \"x0\": -1030, \"x1\": 1030, \"y0\": 500, \"y1\": 500, \"opacity\": 0.5, \"layer\": \"below\", \"line\": {\"color\": \"#cccc8d\"}}, {\"type\": \"line\", \"x0\": -1030, \"x1\": 1030, \"y0\": 660, \"y1\": 660, \"opacity\": 0.5, \"layer\": \"below\", \"line\": {\"color\": \"#cccc8d\"}}, {\"type\": \"line\", \"x0\": -1030, \"x1\": 1030, \"y0\": 820, \"y1\": 820, \"opacity\": 0.5, \"layer\": \"below\", \"line\": {\"color\": \"#ccc\"}}, {\"type\": \"line\", \"x0\": -1030, \"x1\": 1030, \"y0\": 1020, \"y1\": 1020, \"opacity\": 0.5, \"layer\": \"below\", \"line\": {\"color\": \"#ccc\"}}]], \"label\": \"show layers\", \"method\": \"relayout\"}], \"direction\": \"left\", \"pad\": {\"l\": 0.1}, \"type\": \"buttons\", \"xanchor\": \"left\", \"y\": 1.1, \"yanchor\": \"top\"}, {\"buttons\": [{\"args\": [{\"mode\": \"markers+lines\"}], \"label\": \"hits+tracks\", \"method\": \"update\"}, {\"args\": [{\"mode\": \"markers\"}], \"label\": \"hits only\", \"method\": \"update\"}], \"direction\": \"left\", \"pad\": {\"l\": 200}, \"type\": \"buttons\", \"xanchor\": \"left\", \"y\": 1.1, \"yanchor\": \"top\"}, {\"buttons\": [{\"args\": [\"yaxis.scaleanchor\", null], \"label\": \"free\", \"method\": \"relayout\"}, {\"args\": [\"yaxis.scaleanchor\", \"x\"], \"label\": \"fixed\", \"method\": \"relayout\"}], \"direction\": \"left\", \"pad\": {\"l\": 380}, \"type\": \"buttons\", \"xanchor\": \"left\", \"y\": 1.1, \"yanchor\": \"top\"}], \"width\": 800, \"xaxis\": {\"title\": \"z\"}, \"yaxis\": {\"title\": \"r\"}}, {\"showLink\": true, \"linkText\": \"Export to plot.ly\", \"plotlyServerURL\": \"https://plot.ly\"})});</script>"
      ]
     },
     "metadata": {},
     "output_type": "display_data"
    },
    {
     "data": {
      "application/vnd.plotly.v1+json": {
       "config": {
        "linkText": "Export to plot.ly",
        "plotlyServerURL": "https://plot.ly",
        "showLink": true
       },
       "data": [
        {
         "hoverinfo": "name+text",
         "legendgroup": "True",
         "line": {
          "color": "darkseagreen",
          "width": 1
         },
         "name": "T0: real",
         "opacity": 1,
         "showlegend": true,
         "text": [
          "18246",
          "27129",
          "34226",
          "40268",
          "72036",
          "78762"
         ],
         "type": "scatter",
         "uid": "8228daff-664d-4e34-8b30-3f2572c459d4",
         "x": [
          -21.7191,
          -49.4278
         ],
         "y": [
          -22.879,
          -53.6609
         ]
        },
        {
         "hoverinfo": "name+text",
         "legendgroup": "True",
         "line": {
          "color": "darkseagreen",
          "width": 1
         },
         "name": "T0: real",
         "opacity": 1,
         "showlegend": false,
         "text": [
          "18246",
          "27129",
          "34226",
          "40268",
          "72036",
          "78762"
         ],
         "type": "scatter",
         "uid": "d5f02d00-1d03-4155-adbe-52b480852272",
         "x": [
          -49.4278,
          -76.6251
         ],
         "y": [
          -53.6609,
          -85.78
         ]
        },
        {
         "hoverinfo": "name+text",
         "legendgroup": "True",
         "line": {
          "color": "darkseagreen",
          "width": 1
         },
         "name": "T0: real",
         "opacity": 1,
         "showlegend": false,
         "text": [
          "18246",
          "27129",
          "34226",
          "40268",
          "72036",
          "78762"
         ],
         "type": "scatter",
         "uid": "47860204-31f3-4e7c-9888-f36b51b87257",
         "x": [
          -76.6251,
          -111.405
         ],
         "y": [
          -85.78,
          -130.203
         ]
        },
        {
         "hoverinfo": "name+text",
         "legendgroup": "True",
         "line": {
          "color": "darkseagreen",
          "width": 1
         },
         "name": "T0: real",
         "opacity": 1,
         "showlegend": false,
         "text": [
          "18246",
          "27129",
          "34226",
          "40268",
          "72036",
          "78762"
         ],
         "type": "scatter",
         "uid": "f6d38053-9690-48e6-8fd3-111d5ab40dfd",
         "x": [
          -111.405,
          -163.782
         ],
         "y": [
          -130.203,
          -205.827
         ]
        },
        {
         "hoverinfo": "name+text",
         "legendgroup": "True",
         "line": {
          "color": "darkseagreen",
          "width": 1
         },
         "name": "T0: real",
         "opacity": 1,
         "showlegend": false,
         "text": [
          "18246",
          "27129",
          "34226",
          "40268",
          "72036",
          "78762"
         ],
         "type": "scatter",
         "uid": "7109765a-ed14-45e5-ac55-5ed9e698afa0",
         "x": [
          -163.782,
          -213.656
         ],
         "y": [
          -205.827,
          -290.52
         ]
        },
        {
         "hoverinfo": "name+text",
         "legendgroup": "True",
         "line": {
          "color": "darkseagreen",
          "width": 1
         },
         "name": "T1: real",
         "opacity": 1,
         "showlegend": false,
         "text": [
          "23050",
          "30426",
          "37198",
          "44045",
          "75480",
          "82723"
         ],
         "type": "scatter",
         "uid": "8d283b94-e0d7-44a1-8f61-85abde6a328a",
         "x": [
          -4.64343,
          -9.44367
         ],
         "y": [
          31.6821,
          70.8192
         ]
        },
        {
         "hoverinfo": "name+text",
         "legendgroup": "True",
         "line": {
          "color": "darkseagreen",
          "width": 1
         },
         "name": "T1: real",
         "opacity": 1,
         "showlegend": false,
         "text": [
          "23050",
          "30426",
          "37198",
          "44045",
          "75480",
          "82723"
         ],
         "type": "scatter",
         "uid": "ccf9adfd-5619-4609-b4bb-095316e799a2",
         "x": [
          -9.44367,
          -13.5617
         ],
         "y": [
          70.8192,
          114.204
         ]
        },
        {
         "hoverinfo": "name+text",
         "legendgroup": "True",
         "line": {
          "color": "darkseagreen",
          "width": 1
         },
         "name": "T1: real",
         "opacity": 1,
         "showlegend": false,
         "text": [
          "23050",
          "30426",
          "37198",
          "44045",
          "75480",
          "82723"
         ],
         "type": "scatter",
         "uid": "3d4674b9-2b30-4960-88ea-3213a7c2bf2d",
         "x": [
          -13.5617,
          -16.8728
         ],
         "y": [
          114.204,
          171.016
         ]
        },
        {
         "hoverinfo": "name+text",
         "legendgroup": "True",
         "line": {
          "color": "darkseagreen",
          "width": 1
         },
         "name": "T1: real",
         "opacity": 1,
         "showlegend": false,
         "text": [
          "23050",
          "30426",
          "37198",
          "44045",
          "75480",
          "82723"
         ],
         "type": "scatter",
         "uid": "b0db98d1-0361-4b2d-a0bc-68a9f3a88b1b",
         "x": [
          -16.8728,
          -17.738
         ],
         "y": [
          171.016,
          257.521
         ]
        },
        {
         "hoverinfo": "name+text",
         "legendgroup": "True",
         "line": {
          "color": "darkseagreen",
          "width": 1
         },
         "name": "T1: real",
         "opacity": 1,
         "showlegend": false,
         "text": [
          "23050",
          "30426",
          "37198",
          "44045",
          "75480",
          "82723"
         ],
         "type": "scatter",
         "uid": "b3300106-6ebe-4540-b0fb-7d302b57fff9",
         "x": [
          -17.738,
          -11.9561
         ],
         "y": [
          257.521,
          360.148
         ]
        },
        {
         "hoverinfo": "name+text",
         "legendgroup": "True",
         "line": {
          "color": "green",
          "width": 1
         },
         "name": "T2: real",
         "opacity": 1,
         "showlegend": false,
         "text": [
          "20764",
          "27487",
          "34491",
          "40865",
          "72549",
          "79138",
          "85537"
         ],
         "type": "scatter",
         "uid": "d7051a95-862e-41d4-8ea0-8841497d3faf",
         "x": [
          5.5706,
          10.5024
         ],
         "y": [
          31.671,
          72.0453
         ]
        },
        {
         "hoverinfo": "name+text",
         "legendgroup": "True",
         "line": {
          "color": "green",
          "width": 1
         },
         "name": "T2: real",
         "opacity": 1,
         "showlegend": false,
         "text": [
          "20764",
          "27487",
          "34491",
          "40865",
          "72549",
          "79138",
          "85537"
         ],
         "type": "scatter",
         "uid": "033e31c6-7903-4be7-aec0-4aed26646a35",
         "x": [
          10.5024,
          14.7116
         ],
         "y": [
          72.0453,
          114.108
         ]
        },
        {
         "hoverinfo": "name+text",
         "legendgroup": "True",
         "line": {
          "color": "green",
          "width": 1
         },
         "name": "T2: real",
         "opacity": 1,
         "showlegend": false,
         "text": [
          "20764",
          "27487",
          "34491",
          "40865",
          "72549",
          "79138",
          "85537"
         ],
         "type": "scatter",
         "uid": "82708030-b3bf-4133-9528-2d1d3a266fdf",
         "x": [
          14.7116,
          18.992
         ],
         "y": [
          114.108,
          171.997
         ]
        },
        {
         "hoverinfo": "name+text",
         "legendgroup": "True",
         "line": {
          "color": "green",
          "width": 1
         },
         "name": "T2: real",
         "opacity": 1,
         "showlegend": false,
         "text": [
          "20764",
          "27487",
          "34491",
          "40865",
          "72549",
          "79138",
          "85537"
         ],
         "type": "scatter",
         "uid": "8224db40-4aa0-4844-80c0-31529c536364",
         "x": [
          18.992,
          22.298
         ],
         "y": [
          171.997,
          257.23400000000004
         ]
        },
        {
         "hoverinfo": "name+text",
         "legendgroup": "True",
         "line": {
          "color": "green",
          "width": 1
         },
         "name": "T2: real",
         "opacity": 1,
         "showlegend": false,
         "text": [
          "20764",
          "27487",
          "34491",
          "40865",
          "72549",
          "79138",
          "85537"
         ],
         "type": "scatter",
         "uid": "e540515f-dfc6-4a99-a850-b6848862acbe",
         "x": [
          22.298,
          21.6577
         ],
         "y": [
          257.23400000000004,
          357.611
         ]
        },
        {
         "hoverinfo": "name+text",
         "legendgroup": "True",
         "line": {
          "color": "green",
          "width": 1
         },
         "name": "T2: real",
         "opacity": 1,
         "showlegend": false,
         "text": [
          "20764",
          "27487",
          "34491",
          "40865",
          "72549",
          "79138",
          "85537"
         ],
         "type": "scatter",
         "uid": "333594c7-461b-45ca-a2c3-37d9596d1daa",
         "x": [
          21.6577,
          12.251
         ],
         "y": [
          357.611,
          496.648
         ]
        },
        {
         "hoverinfo": "name+text",
         "legendgroup": "True",
         "line": {
          "color": "darkseagreen",
          "width": 1
         },
         "name": "T3: real",
         "opacity": 1,
         "showlegend": false,
         "text": [
          "21405",
          "30694",
          "38058",
          "44664",
          "76101",
          "83615",
          "90565",
          "96738"
         ],
         "type": "scatter",
         "uid": "18531c4a-de71-4cd1-a5b9-e05d343f1cf5",
         "x": [
          -33.5947,
          -73.825
         ],
         "y": [
          0.8266889999999999,
          0.838565
         ]
        },
        {
         "hoverinfo": "name+text",
         "legendgroup": "True",
         "line": {
          "color": "darkseagreen",
          "width": 1
         },
         "name": "T3: real",
         "opacity": 1,
         "showlegend": false,
         "text": [
          "21405",
          "30694",
          "38058",
          "44664",
          "76101",
          "83615",
          "90565",
          "96738"
         ],
         "type": "scatter",
         "uid": "52c668dd-f89e-4934-8f43-4a2e2d8394b4",
         "x": [
          -73.825,
          -116.911
         ],
         "y": [
          0.838565,
          -0.235947
         ]
        },
        {
         "hoverinfo": "name+text",
         "legendgroup": "True",
         "line": {
          "color": "darkseagreen",
          "width": 1
         },
         "name": "T3: real",
         "opacity": 1,
         "showlegend": false,
         "text": [
          "21405",
          "30694",
          "38058",
          "44664",
          "76101",
          "83615",
          "90565",
          "96738"
         ],
         "type": "scatter",
         "uid": "576447ab-c31f-4ce2-8a4d-02b7e31c50cd",
         "x": [
          -116.911,
          -172.74200000000005
         ],
         "y": [
          -0.235947,
          -3.4674400000000003
         ]
        },
        {
         "hoverinfo": "name+text",
         "legendgroup": "True",
         "line": {
          "color": "darkseagreen",
          "width": 1
         },
         "name": "T3: real",
         "opacity": 1,
         "showlegend": false,
         "text": [
          "21405",
          "30694",
          "38058",
          "44664",
          "76101",
          "83615",
          "90565",
          "96738"
         ],
         "type": "scatter",
         "uid": "4e8579a0-6af7-4014-88a1-55be5a28efab",
         "x": [
          -172.74200000000005,
          -257.127
         ],
         "y": [
          -3.4674400000000003,
          -12.2321
         ]
        },
        {
         "hoverinfo": "name+text",
         "legendgroup": "True",
         "line": {
          "color": "darkseagreen",
          "width": 1
         },
         "name": "T3: real",
         "opacity": 1,
         "showlegend": false,
         "text": [
          "21405",
          "30694",
          "38058",
          "44664",
          "76101",
          "83615",
          "90565",
          "96738"
         ],
         "type": "scatter",
         "uid": "906dee1f-c62b-469c-b359-f24609ea4b55",
         "x": [
          -257.127,
          -358.775
         ],
         "y": [
          -12.2321,
          -29.005
         ]
        },
        {
         "hoverinfo": "name+text",
         "legendgroup": "True",
         "line": {
          "color": "darkseagreen",
          "width": 1
         },
         "name": "T3: real",
         "opacity": 1,
         "showlegend": false,
         "text": [
          "21405",
          "30694",
          "38058",
          "44664",
          "76101",
          "83615",
          "90565",
          "96738"
         ],
         "type": "scatter",
         "uid": "a911e841-67aa-47c3-a11d-544e72a46444",
         "x": [
          -358.775,
          -494.937
         ],
         "y": [
          -29.005,
          -62.5497
         ]
        },
        {
         "hoverinfo": "name+text",
         "legendgroup": "True",
         "line": {
          "color": "darkseagreen",
          "width": 1
         },
         "name": "T3: real",
         "opacity": 1,
         "showlegend": false,
         "text": [
          "21405",
          "30694",
          "38058",
          "44664",
          "76101",
          "83615",
          "90565",
          "96738"
         ],
         "type": "scatter",
         "uid": "b2dac6df-00dc-4d12-a60b-139fa7acc5b7",
         "x": [
          -494.937,
          -650.641
         ],
         "y": [
          -62.5497,
          -117.418
         ]
        },
        {
         "hoverinfo": "name+text",
         "legendgroup": "True",
         "line": {
          "color": "green",
          "width": 1
         },
         "name": "T4: real",
         "opacity": 1,
         "showlegend": false,
         "text": [
          "23536",
          "31418",
          "38524",
          "45067",
          "76902",
          "83944",
          "90803",
          "96934"
         ],
         "type": "scatter",
         "uid": "9cdfa6f5-8467-477a-895e-c56eee94d186",
         "x": [
          -30.9263,
          -68.8454
         ],
         "y": [
          9.9814,
          22.8573
         ]
        },
        {
         "hoverinfo": "name+text",
         "legendgroup": "True",
         "line": {
          "color": "green",
          "width": 1
         },
         "name": "T4: real",
         "opacity": 1,
         "showlegend": false,
         "text": [
          "23536",
          "31418",
          "38524",
          "45067",
          "76902",
          "83944",
          "90803",
          "96934"
         ],
         "type": "scatter",
         "uid": "b064581d-99e8-4349-8556-2ba40608c367",
         "x": [
          -68.8454,
          -109.987
         ],
         "y": [
          22.8573,
          37.6253
         ]
        },
        {
         "hoverinfo": "name+text",
         "legendgroup": "True",
         "line": {
          "color": "green",
          "width": 1
         },
         "name": "T4: real",
         "opacity": 1,
         "showlegend": false,
         "text": [
          "23536",
          "31418",
          "38524",
          "45067",
          "76902",
          "83944",
          "90803",
          "96934"
         ],
         "type": "scatter",
         "uid": "02a5f727-1ca0-4db8-9e2f-62085d0c9de4",
         "x": [
          -109.987,
          -161.876
         ],
         "y": [
          37.6253,
          57.4577
         ]
        },
        {
         "hoverinfo": "name+text",
         "legendgroup": "True",
         "line": {
          "color": "green",
          "width": 1
         },
         "name": "T4: real",
         "opacity": 1,
         "showlegend": false,
         "text": [
          "23536",
          "31418",
          "38524",
          "45067",
          "76902",
          "83944",
          "90803",
          "96934"
         ],
         "type": "scatter",
         "uid": "37a90aff-aa22-4956-b1be-d8d0359d52a3",
         "x": [
          -161.876,
          -246.02
         ],
         "y": [
          57.4577,
          92.7332
         ]
        },
        {
         "hoverinfo": "name+text",
         "legendgroup": "True",
         "line": {
          "color": "green",
          "width": 1
         },
         "name": "T4: real",
         "opacity": 1,
         "showlegend": false,
         "text": [
          "23536",
          "31418",
          "38524",
          "45067",
          "76902",
          "83944",
          "90803",
          "96934"
         ],
         "type": "scatter",
         "uid": "314c9945-d334-4ab8-bb74-302dcafb8891",
         "x": [
          -246.02,
          -333.426
         ],
         "y": [
          92.7332,
          133.519
         ]
        },
        {
         "hoverinfo": "name+text",
         "legendgroup": "True",
         "line": {
          "color": "green",
          "width": 1
         },
         "name": "T4: real",
         "opacity": 1,
         "showlegend": false,
         "text": [
          "23536",
          "31418",
          "38524",
          "45067",
          "76902",
          "83944",
          "90803",
          "96934"
         ],
         "type": "scatter",
         "uid": "0c7ab9d1-83e7-4617-b8be-6498ca7eae1f",
         "x": [
          -333.426,
          -459.273
         ],
         "y": [
          133.519,
          200.49400000000003
         ]
        },
        {
         "hoverinfo": "name+text",
         "legendgroup": "True",
         "line": {
          "color": "green",
          "width": 1
         },
         "name": "T4: real",
         "opacity": 1,
         "showlegend": false,
         "text": [
          "23536",
          "31418",
          "38524",
          "45067",
          "76902",
          "83944",
          "90803",
          "96934"
         ],
         "type": "scatter",
         "uid": "29cb43c5-49d2-4471-9e23-e1c3efe14a25",
         "x": [
          -459.273,
          -595.614
         ],
         "y": [
          200.49400000000003,
          284.758
         ]
        },
        {
         "hoverinfo": "name+text",
         "legendgroup": "True",
         "line": {
          "color": "green",
          "width": 1
         },
         "name": "T5: real",
         "opacity": 1,
         "showlegend": false,
         "text": [
          "20262",
          "28058",
          "34877",
          "41146",
          "73201",
          "79641",
          "86195",
          "91955",
          "107743"
         ],
         "type": "scatter",
         "uid": "d9e0d073-bbc1-468c-b4df-4211e7ba482c",
         "x": [
          32.2451,
          70.7765
         ],
         "y": [
          4.53326,
          9.61941
         ]
        },
        {
         "hoverinfo": "name+text",
         "legendgroup": "True",
         "line": {
          "color": "green",
          "width": 1
         },
         "name": "T5: real",
         "opacity": 1,
         "showlegend": false,
         "text": [
          "20262",
          "28058",
          "34877",
          "41146",
          "73201",
          "79641",
          "86195",
          "91955",
          "107743"
         ],
         "type": "scatter",
         "uid": "974efc9a-3e3f-49fb-87dc-509a619ce55d",
         "x": [
          70.7765,
          114.433
         ],
         "y": [
          9.61941,
          14.9217
         ]
        },
        {
         "hoverinfo": "name+text",
         "legendgroup": "True",
         "line": {
          "color": "green",
          "width": 1
         },
         "name": "T5: real",
         "opacity": 1,
         "showlegend": false,
         "text": [
          "20262",
          "28058",
          "34877",
          "41146",
          "73201",
          "79641",
          "86195",
          "91955",
          "107743"
         ],
         "type": "scatter",
         "uid": "d7a8175c-85f2-4f23-a112-9ab23a2f10fa",
         "x": [
          114.433,
          170.40099999999995
         ],
         "y": [
          14.9217,
          21.0637
         ]
        },
        {
         "hoverinfo": "name+text",
         "legendgroup": "True",
         "line": {
          "color": "green",
          "width": 1
         },
         "name": "T5: real",
         "opacity": 1,
         "showlegend": false,
         "text": [
          "20262",
          "28058",
          "34877",
          "41146",
          "73201",
          "79641",
          "86195",
          "91955",
          "107743"
         ],
         "type": "scatter",
         "uid": "27ef4e2f-75c2-40a2-a83e-58b268f09bb8",
         "x": [
          170.40099999999995,
          258.338
         ],
         "y": [
          21.0637,
          29.1488
         ]
        },
        {
         "hoverinfo": "name+text",
         "legendgroup": "True",
         "line": {
          "color": "green",
          "width": 1
         },
         "name": "T5: real",
         "opacity": 1,
         "showlegend": false,
         "text": [
          "20262",
          "28058",
          "34877",
          "41146",
          "73201",
          "79641",
          "86195",
          "91955",
          "107743"
         ],
         "type": "scatter",
         "uid": "59829b20-8369-473f-b4b9-073d372744f1",
         "x": [
          258.338,
          359.452
         ],
         "y": [
          29.1488,
          36.1999
         ]
        },
        {
         "hoverinfo": "name+text",
         "legendgroup": "True",
         "line": {
          "color": "green",
          "width": 1
         },
         "name": "T5: real",
         "opacity": 1,
         "showlegend": false,
         "text": [
          "20262",
          "28058",
          "34877",
          "41146",
          "73201",
          "79641",
          "86195",
          "91955",
          "107743"
         ],
         "type": "scatter",
         "uid": "8fd33fc9-07cc-4694-9f43-622126684bc0",
         "x": [
          359.452,
          503.503
         ],
         "y": [
          36.1999,
          42.0709
         ]
        },
        {
         "hoverinfo": "name+text",
         "legendgroup": "True",
         "line": {
          "color": "green",
          "width": 1
         },
         "name": "T5: real",
         "opacity": 1,
         "showlegend": false,
         "text": [
          "20262",
          "28058",
          "34877",
          "41146",
          "73201",
          "79641",
          "86195",
          "91955",
          "107743"
         ],
         "type": "scatter",
         "uid": "861e5541-abbb-4b05-873b-df1e7dacedf8",
         "x": [
          503.503,
          663.908
         ],
         "y": [
          42.0709,
          43.0984
         ]
        },
        {
         "hoverinfo": "name+text",
         "legendgroup": "True",
         "line": {
          "color": "green",
          "width": 1
         },
         "name": "T5: real",
         "opacity": 1,
         "showlegend": false,
         "text": [
          "20262",
          "28058",
          "34877",
          "41146",
          "73201",
          "79641",
          "86195",
          "91955",
          "107743"
         ],
         "type": "scatter",
         "uid": "00d21db3-05f4-4f34-8d82-2548affb3573",
         "x": [
          663.908,
          823.312
         ],
         "y": [
          43.0984,
          38.3265
         ]
        },
        {
         "hoverinfo": "name+text",
         "legendgroup": "True",
         "line": {
          "color": "green",
          "width": 1
         },
         "name": "T6: real",
         "opacity": 1,
         "showlegend": false,
         "text": [
          "19698",
          "27827",
          "35259",
          "41464",
          "73085",
          "79880",
          "86402",
          "92130",
          "107883"
         ],
         "type": "scatter",
         "uid": "09db1f37-234e-4f27-8e88-efacb19ec646",
         "x": [
          -4.16977,
          -9.16296
         ],
         "y": [
          -31.75,
          -71.4937
         ]
        },
        {
         "hoverinfo": "name+text",
         "legendgroup": "True",
         "line": {
          "color": "green",
          "width": 1
         },
         "name": "T6: real",
         "opacity": 1,
         "showlegend": false,
         "text": [
          "19698",
          "27827",
          "35259",
          "41464",
          "73085",
          "79880",
          "86402",
          "92130",
          "107883"
         ],
         "type": "scatter",
         "uid": "2a84a813-c255-41ea-a599-fec87eb9ea54",
         "x": [
          -9.16296,
          -14.2464
         ],
         "y": [
          -71.4937,
          -114.127
         ]
        },
        {
         "hoverinfo": "name+text",
         "legendgroup": "True",
         "line": {
          "color": "green",
          "width": 1
         },
         "name": "T6: real",
         "opacity": 1,
         "showlegend": false,
         "text": [
          "19698",
          "27827",
          "35259",
          "41464",
          "73085",
          "79880",
          "86402",
          "92130",
          "107883"
         ],
         "type": "scatter",
         "uid": "3b4e39e9-0e40-45c3-8600-035ce2b8bfff",
         "x": [
          -14.2464,
          -20.5217
         ],
         "y": [
          -114.127,
          -170.169
         ]
        },
        {
         "hoverinfo": "name+text",
         "legendgroup": "True",
         "line": {
          "color": "green",
          "width": 1
         },
         "name": "T6: real",
         "opacity": 1,
         "showlegend": false,
         "text": [
          "19698",
          "27827",
          "35259",
          "41464",
          "73085",
          "79880",
          "86402",
          "92130",
          "107883"
         ],
         "type": "scatter",
         "uid": "132dfc69-a30f-4f97-aff3-b4446070a094",
         "x": [
          -20.5217,
          -29.116
         ],
         "y": [
          -170.169,
          -255.648
         ]
        },
        {
         "hoverinfo": "name+text",
         "legendgroup": "True",
         "line": {
          "color": "green",
          "width": 1
         },
         "name": "T6: real",
         "opacity": 1,
         "showlegend": false,
         "text": [
          "19698",
          "27827",
          "35259",
          "41464",
          "73085",
          "79880",
          "86402",
          "92130",
          "107883"
         ],
         "type": "scatter",
         "uid": "ef21ecd9-01b9-435b-a86c-382f0eee6a38",
         "x": [
          -29.116,
          -38.3955
         ],
         "y": [
          -255.648,
          -363.693
         ]
        },
        {
         "hoverinfo": "name+text",
         "legendgroup": "True",
         "line": {
          "color": "green",
          "width": 1
         },
         "name": "T6: real",
         "opacity": 1,
         "showlegend": false,
         "text": [
          "19698",
          "27827",
          "35259",
          "41464",
          "73085",
          "79880",
          "86402",
          "92130",
          "107883"
         ],
         "type": "scatter",
         "uid": "f0c5f2c9-da0f-4f88-8d14-d96974b53d4a",
         "x": [
          -38.3955,
          -47.3072
         ],
         "y": [
          -363.693,
          -495.195
         ]
        },
        {
         "hoverinfo": "name+text",
         "legendgroup": "True",
         "line": {
          "color": "green",
          "width": 1
         },
         "name": "T6: real",
         "opacity": 1,
         "showlegend": false,
         "text": [
          "19698",
          "27827",
          "35259",
          "41464",
          "73085",
          "79880",
          "86402",
          "92130",
          "107883"
         ],
         "type": "scatter",
         "uid": "9c370bcd-9a59-413a-aba4-e9f22b5d9053",
         "x": [
          -47.3072,
          -54.4897
         ],
         "y": [
          -495.195,
          -654.254
         ]
        },
        {
         "hoverinfo": "name+text",
         "legendgroup": "True",
         "line": {
          "color": "green",
          "width": 1
         },
         "name": "T6: real",
         "opacity": 1,
         "showlegend": false,
         "text": [
          "19698",
          "27827",
          "35259",
          "41464",
          "73085",
          "79880",
          "86402",
          "92130",
          "107883"
         ],
         "type": "scatter",
         "uid": "77c3e648-07a7-4b6a-9d16-c60acd6ba65e",
         "x": [
          -54.4897,
          -57.8177
         ],
         "y": [
          -654.254,
          -817.466
         ]
        },
        {
         "hoverinfo": "name+text",
         "legendgroup": "True",
         "line": {
          "color": "green",
          "width": 1
         },
         "name": "T7: real",
         "opacity": 1,
         "showlegend": false,
         "text": [
          "21265",
          "29504",
          "42350",
          "73830",
          "80933",
          "87292",
          "93165",
          "109022",
          "114036"
         ],
         "type": "scatter",
         "uid": "f630cd21-f556-4932-bb06-26ea9841dc1b",
         "x": [
          -31.6364,
          -70.206
         ],
         "y": [
          6.18379,
          14.1226
         ]
        },
        {
         "hoverinfo": "name+text",
         "legendgroup": "True",
         "line": {
          "color": "green",
          "width": 1
         },
         "name": "T7: real",
         "opacity": 1,
         "showlegend": false,
         "text": [
          "21265",
          "29504",
          "42350",
          "73830",
          "80933",
          "87292",
          "93165",
          "109022",
          "114036"
         ],
         "type": "scatter",
         "uid": "bd0be4ce-8188-4ffe-8f96-eae27f14a192",
         "x": [
          -70.206,
          -168.155
         ],
         "y": [
          14.1226,
          36.3725
         ]
        },
        {
         "hoverinfo": "name+text",
         "legendgroup": "True",
         "line": {
          "color": "green",
          "width": 1
         },
         "name": "T7: real",
         "opacity": 1,
         "showlegend": false,
         "text": [
          "21265",
          "29504",
          "42350",
          "73830",
          "80933",
          "87292",
          "93165",
          "109022",
          "114036"
         ],
         "type": "scatter",
         "uid": "ef6e21b3-c276-4f65-afad-a0d6c3842ed4",
         "x": [
          -168.155,
          -255.151
         ],
         "y": [
          36.3725,
          58.8872
         ]
        },
        {
         "hoverinfo": "name+text",
         "legendgroup": "True",
         "line": {
          "color": "green",
          "width": 1
         },
         "name": "T7: real",
         "opacity": 1,
         "showlegend": false,
         "text": [
          "21265",
          "29504",
          "42350",
          "73830",
          "80933",
          "87292",
          "93165",
          "109022",
          "114036"
         ],
         "type": "scatter",
         "uid": "05100a63-a4c2-4612-9b8d-35a08ac281fa",
         "x": [
          -255.151,
          -353.285
         ],
         "y": [
          58.8872,
          87.1991
         ]
        },
        {
         "hoverinfo": "name+text",
         "legendgroup": "True",
         "line": {
          "color": "green",
          "width": 1
         },
         "name": "T7: real",
         "opacity": 1,
         "showlegend": false,
         "text": [
          "21265",
          "29504",
          "42350",
          "73830",
          "80933",
          "87292",
          "93165",
          "109022",
          "114036"
         ],
         "type": "scatter",
         "uid": "dcdee773-d201-4e31-b211-230310ce4e2d",
         "x": [
          -353.285,
          -482.875
         ],
         "y": [
          87.1991,
          129.892
         ]
        },
        {
         "hoverinfo": "name+text",
         "legendgroup": "True",
         "line": {
          "color": "green",
          "width": 1
         },
         "name": "T7: real",
         "opacity": 1,
         "showlegend": false,
         "text": [
          "21265",
          "29504",
          "42350",
          "73830",
          "80933",
          "87292",
          "93165",
          "109022",
          "114036"
         ],
         "type": "scatter",
         "uid": "4b7fb76b-128b-406d-a724-30d43f05a2a5",
         "x": [
          -482.875,
          -633.385
         ],
         "y": [
          129.892,
          187.317
         ]
        },
        {
         "hoverinfo": "name+text",
         "legendgroup": "True",
         "line": {
          "color": "green",
          "width": 1
         },
         "name": "T7: real",
         "opacity": 1,
         "showlegend": false,
         "text": [
          "21265",
          "29504",
          "42350",
          "73830",
          "80933",
          "87292",
          "93165",
          "109022",
          "114036"
         ],
         "type": "scatter",
         "uid": "c9e996c1-5b88-4621-8dfe-131df098918e",
         "x": [
          -633.385,
          -782.4169999999998
         ],
         "y": [
          187.317,
          252.867
         ]
        },
        {
         "hoverinfo": "name+text",
         "legendgroup": "True",
         "line": {
          "color": "green",
          "width": 1
         },
         "name": "T7: real",
         "opacity": 1,
         "showlegend": false,
         "text": [
          "21265",
          "29504",
          "42350",
          "73830",
          "80933",
          "87292",
          "93165",
          "109022",
          "114036"
         ],
         "type": "scatter",
         "uid": "7340c628-10a5-41ac-a7bc-756e9d5489bc",
         "x": [
          -782.4169999999998,
          -962.827
         ],
         "y": [
          252.867,
          344.76199999999994
         ]
        },
        {
         "hoverinfo": "name+text",
         "legendgroup": "True",
         "line": {
          "color": "darkseagreen",
          "width": 1
         },
         "name": "T8: real",
         "opacity": 1,
         "showlegend": false,
         "text": [
          "75184",
          "82090",
          "88632",
          "94896",
          "110783",
          "116120"
         ],
         "type": "scatter",
         "uid": "dfef9e1e-1aa7-4824-b8c3-73e79d78c54e",
         "x": [
          -1.10379,
          -15.6281
         ],
         "y": [
          -262.164,
          -358.871
         ]
        },
        {
         "hoverinfo": "name+text",
         "legendgroup": "True",
         "line": {
          "color": "darkseagreen",
          "width": 1
         },
         "name": "T8: real",
         "opacity": 1,
         "showlegend": false,
         "text": [
          "75184",
          "82090",
          "88632",
          "94896",
          "110783",
          "116120"
         ],
         "type": "scatter",
         "uid": "413d1e6e-bb2c-48a8-95e9-dac4f0c7203e",
         "x": [
          -15.6281,
          -48.3976
         ],
         "y": [
          -358.871,
          -494.939
         ]
        },
        {
         "hoverinfo": "name+text",
         "legendgroup": "True",
         "line": {
          "color": "darkseagreen",
          "width": 1
         },
         "name": "T8: real",
         "opacity": 1,
         "showlegend": false,
         "text": [
          "75184",
          "82090",
          "88632",
          "94896",
          "110783",
          "116120"
         ],
         "type": "scatter",
         "uid": "46c5db5b-d23e-4184-8e30-8a87eb92bf30",
         "x": [
          -48.3976,
          -107.941
         ],
         "y": [
          -494.939,
          -654.971
         ]
        },
        {
         "hoverinfo": "name+text",
         "legendgroup": "True",
         "line": {
          "color": "darkseagreen",
          "width": 1
         },
         "name": "T8: real",
         "opacity": 1,
         "showlegend": false,
         "text": [
          "75184",
          "82090",
          "88632",
          "94896",
          "110783",
          "116120"
         ],
         "type": "scatter",
         "uid": "4de1e052-5256-41be-a978-702e27b26858",
         "x": [
          -107.941,
          -184.63
         ],
         "y": [
          -654.971,
          -801.703
         ]
        },
        {
         "hoverinfo": "name+text",
         "legendgroup": "True",
         "line": {
          "color": "darkseagreen",
          "width": 1
         },
         "name": "T8: real",
         "opacity": 1,
         "showlegend": false,
         "text": [
          "75184",
          "82090",
          "88632",
          "94896",
          "110783",
          "116120"
         ],
         "type": "scatter",
         "uid": "50153a8d-aef7-4631-8aa6-1e8ca8ba9fa5",
         "x": [
          -184.63,
          -306.828
         ],
         "y": [
          -801.703,
          -971.876
         ]
        }
       ],
       "layout": {
        "height": 800,
        "hovermode": "closest",
        "showlegend": true,
        "updatemenus": [
         {
          "buttons": [
           {
            "args": [
             "shapes",
             []
            ],
            "label": "hide layers",
            "method": "relayout"
           },
           {
            "args": [
             "shapes",
             [
              {
               "layer": "below",
               "line": {
                "color": "#ccc"
               },
               "opacity": 0.5,
               "type": "circle",
               "x0": -32,
               "x1": 32,
               "y0": -32,
               "y1": 32
              },
              {
               "layer": "below",
               "line": {
                "color": "#ccc"
               },
               "opacity": 0.5,
               "type": "circle",
               "x0": -72,
               "x1": 72,
               "y0": -72,
               "y1": 72
              },
              {
               "layer": "below",
               "line": {
                "color": "#ccc"
               },
               "opacity": 0.5,
               "type": "circle",
               "x0": -116,
               "x1": 116,
               "y0": -116,
               "y1": 116
              },
              {
               "layer": "below",
               "line": {
                "color": "#ccc"
               },
               "opacity": 0.5,
               "type": "circle",
               "x0": -172,
               "x1": 172,
               "y0": -172,
               "y1": 172
              },
              {
               "layer": "below",
               "line": {
                "color": "#cccc8d"
               },
               "opacity": 0.5,
               "type": "circle",
               "x0": -260,
               "x1": 260,
               "y0": -260,
               "y1": 260
              },
              {
               "layer": "below",
               "line": {
                "color": "#cccc8d"
               },
               "opacity": 0.5,
               "type": "circle",
               "x0": -360,
               "x1": 360,
               "y0": -360,
               "y1": 360
              },
              {
               "layer": "below",
               "line": {
                "color": "#cccc8d"
               },
               "opacity": 0.5,
               "type": "circle",
               "x0": -500,
               "x1": 500,
               "y0": -500,
               "y1": 500
              },
              {
               "layer": "below",
               "line": {
                "color": "#cccc8d"
               },
               "opacity": 0.5,
               "type": "circle",
               "x0": -660,
               "x1": 660,
               "y0": -660,
               "y1": 660
              },
              {
               "layer": "below",
               "line": {
                "color": "#ccc"
               },
               "opacity": 0.5,
               "type": "circle",
               "x0": -820,
               "x1": 820,
               "y0": -820,
               "y1": 820
              },
              {
               "layer": "below",
               "line": {
                "color": "#ccc"
               },
               "opacity": 0.5,
               "type": "circle",
               "x0": -1020,
               "x1": 1020,
               "y0": -1020,
               "y1": 1020
              }
             ]
            ],
            "label": "show layers",
            "method": "relayout"
           }
          ],
          "direction": "left",
          "pad": {
           "l": 0.1
          },
          "type": "buttons",
          "xanchor": "left",
          "y": 1.1,
          "yanchor": "top"
         },
         {
          "buttons": [
           {
            "args": [
             {
              "mode": "markers+lines"
             }
            ],
            "label": "hits+tracks",
            "method": "update"
           },
           {
            "args": [
             {
              "mode": "markers"
             }
            ],
            "label": "hits only",
            "method": "update"
           }
          ],
          "direction": "left",
          "pad": {
           "l": 200
          },
          "type": "buttons",
          "xanchor": "left",
          "y": 1.1,
          "yanchor": "top"
         },
         {
          "buttons": [
           {
            "args": [
             "yaxis.scaleanchor",
             null
            ],
            "label": "free",
            "method": "relayout"
           },
           {
            "args": [
             "yaxis.scaleanchor",
             "x"
            ],
            "label": "fixed",
            "method": "relayout"
           }
          ],
          "direction": "left",
          "pad": {
           "l": 380
          },
          "type": "buttons",
          "xanchor": "left",
          "y": 1.1,
          "yanchor": "top"
         }
        ],
        "width": 800,
        "xaxis": {
         "title": "x"
        },
        "yaxis": {
         "title": "y"
        }
       }
      },
      "text/html": [
       "<div id=\"288e4392-6ce6-4527-885e-e07b21932298\" style=\"height: 800px; width: 800px;\" class=\"plotly-graph-div\"></div><script type=\"text/javascript\">require([\"plotly\"], function(Plotly) { window.PLOTLYENV=window.PLOTLYENV || {};window.PLOTLYENV.BASE_URL=\"https://plot.ly\";Plotly.newPlot(\"288e4392-6ce6-4527-885e-e07b21932298\", [{\"hoverinfo\": \"name+text\", \"legendgroup\": \"True\", \"line\": {\"color\": \"darkseagreen\", \"width\": 1}, \"name\": \"T0: real\", \"opacity\": 1, \"showlegend\": true, \"text\": [\"18246\", \"27129\", \"34226\", \"40268\", \"72036\", \"78762\"], \"x\": [-21.7191, -49.4278], \"y\": [-22.879, -53.6609], \"type\": \"scatter\", \"uid\": \"8228daff-664d-4e34-8b30-3f2572c459d4\"}, {\"hoverinfo\": \"name+text\", \"legendgroup\": \"True\", \"line\": {\"color\": \"darkseagreen\", \"width\": 1}, \"name\": \"T0: real\", \"opacity\": 1, \"showlegend\": false, \"text\": [\"18246\", \"27129\", \"34226\", \"40268\", \"72036\", \"78762\"], \"x\": [-49.4278, -76.6251], \"y\": [-53.6609, -85.78], \"type\": \"scatter\", \"uid\": \"d5f02d00-1d03-4155-adbe-52b480852272\"}, {\"hoverinfo\": \"name+text\", \"legendgroup\": \"True\", \"line\": {\"color\": \"darkseagreen\", \"width\": 1}, \"name\": \"T0: real\", \"opacity\": 1, \"showlegend\": false, \"text\": [\"18246\", \"27129\", \"34226\", \"40268\", \"72036\", \"78762\"], \"x\": [-76.6251, -111.405], \"y\": [-85.78, -130.203], \"type\": \"scatter\", \"uid\": \"47860204-31f3-4e7c-9888-f36b51b87257\"}, {\"hoverinfo\": \"name+text\", \"legendgroup\": \"True\", \"line\": {\"color\": \"darkseagreen\", \"width\": 1}, \"name\": \"T0: real\", \"opacity\": 1, \"showlegend\": false, \"text\": [\"18246\", \"27129\", \"34226\", \"40268\", \"72036\", \"78762\"], \"x\": [-111.405, -163.782], \"y\": [-130.203, -205.827], \"type\": \"scatter\", \"uid\": \"f6d38053-9690-48e6-8fd3-111d5ab40dfd\"}, {\"hoverinfo\": \"name+text\", \"legendgroup\": \"True\", \"line\": {\"color\": \"darkseagreen\", \"width\": 1}, \"name\": \"T0: real\", \"opacity\": 1, \"showlegend\": false, \"text\": [\"18246\", \"27129\", \"34226\", \"40268\", \"72036\", \"78762\"], \"x\": [-163.782, -213.656], \"y\": [-205.827, -290.52], \"type\": \"scatter\", \"uid\": \"7109765a-ed14-45e5-ac55-5ed9e698afa0\"}, {\"hoverinfo\": \"name+text\", \"legendgroup\": \"True\", \"line\": {\"color\": \"darkseagreen\", \"width\": 1}, \"name\": \"T1: real\", \"opacity\": 1, \"showlegend\": false, \"text\": [\"23050\", \"30426\", \"37198\", \"44045\", \"75480\", \"82723\"], \"x\": [-4.64343, -9.44367], \"y\": [31.6821, 70.8192], \"type\": \"scatter\", \"uid\": \"8d283b94-e0d7-44a1-8f61-85abde6a328a\"}, {\"hoverinfo\": \"name+text\", \"legendgroup\": \"True\", \"line\": {\"color\": \"darkseagreen\", \"width\": 1}, \"name\": \"T1: real\", \"opacity\": 1, \"showlegend\": false, \"text\": [\"23050\", \"30426\", \"37198\", \"44045\", \"75480\", \"82723\"], \"x\": [-9.44367, -13.5617], \"y\": [70.8192, 114.204], \"type\": \"scatter\", \"uid\": \"ccf9adfd-5619-4609-b4bb-095316e799a2\"}, {\"hoverinfo\": \"name+text\", \"legendgroup\": \"True\", \"line\": {\"color\": \"darkseagreen\", \"width\": 1}, \"name\": \"T1: real\", \"opacity\": 1, \"showlegend\": false, \"text\": [\"23050\", \"30426\", \"37198\", \"44045\", \"75480\", \"82723\"], \"x\": [-13.5617, -16.8728], \"y\": [114.204, 171.016], \"type\": \"scatter\", \"uid\": \"3d4674b9-2b30-4960-88ea-3213a7c2bf2d\"}, {\"hoverinfo\": \"name+text\", \"legendgroup\": \"True\", \"line\": {\"color\": \"darkseagreen\", \"width\": 1}, \"name\": \"T1: real\", \"opacity\": 1, \"showlegend\": false, \"text\": [\"23050\", \"30426\", \"37198\", \"44045\", \"75480\", \"82723\"], \"x\": [-16.8728, -17.738], \"y\": [171.016, 257.521], \"type\": \"scatter\", \"uid\": \"b0db98d1-0361-4b2d-a0bc-68a9f3a88b1b\"}, {\"hoverinfo\": \"name+text\", \"legendgroup\": \"True\", \"line\": {\"color\": \"darkseagreen\", \"width\": 1}, \"name\": \"T1: real\", \"opacity\": 1, \"showlegend\": false, \"text\": [\"23050\", \"30426\", \"37198\", \"44045\", \"75480\", \"82723\"], \"x\": [-17.738, -11.9561], \"y\": [257.521, 360.148], \"type\": \"scatter\", \"uid\": \"b3300106-6ebe-4540-b0fb-7d302b57fff9\"}, {\"hoverinfo\": \"name+text\", \"legendgroup\": \"True\", \"line\": {\"color\": \"green\", \"width\": 1}, \"name\": \"T2: real\", \"opacity\": 1, \"showlegend\": false, \"text\": [\"20764\", \"27487\", \"34491\", \"40865\", \"72549\", \"79138\", \"85537\"], \"x\": [5.5706, 10.5024], \"y\": [31.671, 72.0453], \"type\": \"scatter\", \"uid\": \"d7051a95-862e-41d4-8ea0-8841497d3faf\"}, {\"hoverinfo\": \"name+text\", \"legendgroup\": \"True\", \"line\": {\"color\": \"green\", \"width\": 1}, \"name\": \"T2: real\", \"opacity\": 1, \"showlegend\": false, \"text\": [\"20764\", \"27487\", \"34491\", \"40865\", \"72549\", \"79138\", \"85537\"], \"x\": [10.5024, 14.7116], \"y\": [72.0453, 114.108], \"type\": \"scatter\", \"uid\": \"033e31c6-7903-4be7-aec0-4aed26646a35\"}, {\"hoverinfo\": \"name+text\", \"legendgroup\": \"True\", \"line\": {\"color\": \"green\", \"width\": 1}, \"name\": \"T2: real\", \"opacity\": 1, \"showlegend\": false, \"text\": [\"20764\", \"27487\", \"34491\", \"40865\", \"72549\", \"79138\", \"85537\"], \"x\": [14.7116, 18.992], \"y\": [114.108, 171.997], \"type\": \"scatter\", \"uid\": \"82708030-b3bf-4133-9528-2d1d3a266fdf\"}, {\"hoverinfo\": \"name+text\", \"legendgroup\": \"True\", \"line\": {\"color\": \"green\", \"width\": 1}, \"name\": \"T2: real\", \"opacity\": 1, \"showlegend\": false, \"text\": [\"20764\", \"27487\", \"34491\", \"40865\", \"72549\", \"79138\", \"85537\"], \"x\": [18.992, 22.298], \"y\": [171.997, 257.23400000000004], \"type\": \"scatter\", \"uid\": \"8224db40-4aa0-4844-80c0-31529c536364\"}, {\"hoverinfo\": \"name+text\", \"legendgroup\": \"True\", \"line\": {\"color\": \"green\", \"width\": 1}, \"name\": \"T2: real\", \"opacity\": 1, \"showlegend\": false, \"text\": [\"20764\", \"27487\", \"34491\", \"40865\", \"72549\", \"79138\", \"85537\"], \"x\": [22.298, 21.6577], \"y\": [257.23400000000004, 357.611], \"type\": \"scatter\", \"uid\": \"e540515f-dfc6-4a99-a850-b6848862acbe\"}, {\"hoverinfo\": \"name+text\", \"legendgroup\": \"True\", \"line\": {\"color\": \"green\", \"width\": 1}, \"name\": \"T2: real\", \"opacity\": 1, \"showlegend\": false, \"text\": [\"20764\", \"27487\", \"34491\", \"40865\", \"72549\", \"79138\", \"85537\"], \"x\": [21.6577, 12.251], \"y\": [357.611, 496.648], \"type\": \"scatter\", \"uid\": \"333594c7-461b-45ca-a2c3-37d9596d1daa\"}, {\"hoverinfo\": \"name+text\", \"legendgroup\": \"True\", \"line\": {\"color\": \"darkseagreen\", \"width\": 1}, \"name\": \"T3: real\", \"opacity\": 1, \"showlegend\": false, \"text\": [\"21405\", \"30694\", \"38058\", \"44664\", \"76101\", \"83615\", \"90565\", \"96738\"], \"x\": [-33.5947, -73.825], \"y\": [0.8266889999999999, 0.838565], \"type\": \"scatter\", \"uid\": \"18531c4a-de71-4cd1-a5b9-e05d343f1cf5\"}, {\"hoverinfo\": \"name+text\", \"legendgroup\": \"True\", \"line\": {\"color\": \"darkseagreen\", \"width\": 1}, \"name\": \"T3: real\", \"opacity\": 1, \"showlegend\": false, \"text\": [\"21405\", \"30694\", \"38058\", \"44664\", \"76101\", \"83615\", \"90565\", \"96738\"], \"x\": [-73.825, -116.911], \"y\": [0.838565, -0.235947], \"type\": \"scatter\", \"uid\": \"52c668dd-f89e-4934-8f43-4a2e2d8394b4\"}, {\"hoverinfo\": \"name+text\", \"legendgroup\": \"True\", \"line\": {\"color\": \"darkseagreen\", \"width\": 1}, \"name\": \"T3: real\", \"opacity\": 1, \"showlegend\": false, \"text\": [\"21405\", \"30694\", \"38058\", \"44664\", \"76101\", \"83615\", \"90565\", \"96738\"], \"x\": [-116.911, -172.74200000000005], \"y\": [-0.235947, -3.4674400000000003], \"type\": \"scatter\", \"uid\": \"576447ab-c31f-4ce2-8a4d-02b7e31c50cd\"}, {\"hoverinfo\": \"name+text\", \"legendgroup\": \"True\", \"line\": {\"color\": \"darkseagreen\", \"width\": 1}, \"name\": \"T3: real\", \"opacity\": 1, \"showlegend\": false, \"text\": [\"21405\", \"30694\", \"38058\", \"44664\", \"76101\", \"83615\", \"90565\", \"96738\"], \"x\": [-172.74200000000005, -257.127], \"y\": [-3.4674400000000003, -12.2321], \"type\": \"scatter\", \"uid\": \"4e8579a0-6af7-4014-88a1-55be5a28efab\"}, {\"hoverinfo\": \"name+text\", \"legendgroup\": \"True\", \"line\": {\"color\": \"darkseagreen\", \"width\": 1}, \"name\": \"T3: real\", \"opacity\": 1, \"showlegend\": false, \"text\": [\"21405\", \"30694\", \"38058\", \"44664\", \"76101\", \"83615\", \"90565\", \"96738\"], \"x\": [-257.127, -358.775], \"y\": [-12.2321, -29.005], \"type\": \"scatter\", \"uid\": \"906dee1f-c62b-469c-b359-f24609ea4b55\"}, {\"hoverinfo\": \"name+text\", \"legendgroup\": \"True\", \"line\": {\"color\": \"darkseagreen\", \"width\": 1}, \"name\": \"T3: real\", \"opacity\": 1, \"showlegend\": false, \"text\": [\"21405\", \"30694\", \"38058\", \"44664\", \"76101\", \"83615\", \"90565\", \"96738\"], \"x\": [-358.775, -494.937], \"y\": [-29.005, -62.5497], \"type\": \"scatter\", \"uid\": \"a911e841-67aa-47c3-a11d-544e72a46444\"}, {\"hoverinfo\": \"name+text\", \"legendgroup\": \"True\", \"line\": {\"color\": \"darkseagreen\", \"width\": 1}, \"name\": \"T3: real\", \"opacity\": 1, \"showlegend\": false, \"text\": [\"21405\", \"30694\", \"38058\", \"44664\", \"76101\", \"83615\", \"90565\", \"96738\"], \"x\": [-494.937, -650.641], \"y\": [-62.5497, -117.418], \"type\": \"scatter\", \"uid\": \"b2dac6df-00dc-4d12-a60b-139fa7acc5b7\"}, {\"hoverinfo\": \"name+text\", \"legendgroup\": \"True\", \"line\": {\"color\": \"green\", \"width\": 1}, \"name\": \"T4: real\", \"opacity\": 1, \"showlegend\": false, \"text\": [\"23536\", \"31418\", \"38524\", \"45067\", \"76902\", \"83944\", \"90803\", \"96934\"], \"x\": [-30.9263, -68.8454], \"y\": [9.9814, 22.8573], \"type\": \"scatter\", \"uid\": \"9cdfa6f5-8467-477a-895e-c56eee94d186\"}, {\"hoverinfo\": \"name+text\", \"legendgroup\": \"True\", \"line\": {\"color\": \"green\", \"width\": 1}, \"name\": \"T4: real\", \"opacity\": 1, \"showlegend\": false, \"text\": [\"23536\", \"31418\", \"38524\", \"45067\", \"76902\", \"83944\", \"90803\", \"96934\"], \"x\": [-68.8454, -109.987], \"y\": [22.8573, 37.6253], \"type\": \"scatter\", \"uid\": \"b064581d-99e8-4349-8556-2ba40608c367\"}, {\"hoverinfo\": \"name+text\", \"legendgroup\": \"True\", \"line\": {\"color\": \"green\", \"width\": 1}, \"name\": \"T4: real\", \"opacity\": 1, \"showlegend\": false, \"text\": [\"23536\", \"31418\", \"38524\", \"45067\", \"76902\", \"83944\", \"90803\", \"96934\"], \"x\": [-109.987, -161.876], \"y\": [37.6253, 57.4577], \"type\": \"scatter\", \"uid\": \"02a5f727-1ca0-4db8-9e2f-62085d0c9de4\"}, {\"hoverinfo\": \"name+text\", \"legendgroup\": \"True\", \"line\": {\"color\": \"green\", \"width\": 1}, \"name\": \"T4: real\", \"opacity\": 1, \"showlegend\": false, \"text\": [\"23536\", \"31418\", \"38524\", \"45067\", \"76902\", \"83944\", \"90803\", \"96934\"], \"x\": [-161.876, -246.02], \"y\": [57.4577, 92.7332], \"type\": \"scatter\", \"uid\": \"37a90aff-aa22-4956-b1be-d8d0359d52a3\"}, {\"hoverinfo\": \"name+text\", \"legendgroup\": \"True\", \"line\": {\"color\": \"green\", \"width\": 1}, \"name\": \"T4: real\", \"opacity\": 1, \"showlegend\": false, \"text\": [\"23536\", \"31418\", \"38524\", \"45067\", \"76902\", \"83944\", \"90803\", \"96934\"], \"x\": [-246.02, -333.426], \"y\": [92.7332, 133.519], \"type\": \"scatter\", \"uid\": \"314c9945-d334-4ab8-bb74-302dcafb8891\"}, {\"hoverinfo\": \"name+text\", \"legendgroup\": \"True\", \"line\": {\"color\": \"green\", \"width\": 1}, \"name\": \"T4: real\", \"opacity\": 1, \"showlegend\": false, \"text\": [\"23536\", \"31418\", \"38524\", \"45067\", \"76902\", \"83944\", \"90803\", \"96934\"], \"x\": [-333.426, -459.273], \"y\": [133.519, 200.49400000000003], \"type\": \"scatter\", \"uid\": \"0c7ab9d1-83e7-4617-b8be-6498ca7eae1f\"}, {\"hoverinfo\": \"name+text\", \"legendgroup\": \"True\", \"line\": {\"color\": \"green\", \"width\": 1}, \"name\": \"T4: real\", \"opacity\": 1, \"showlegend\": false, \"text\": [\"23536\", \"31418\", \"38524\", \"45067\", \"76902\", \"83944\", \"90803\", \"96934\"], \"x\": [-459.273, -595.614], \"y\": [200.49400000000003, 284.758], \"type\": \"scatter\", \"uid\": \"29cb43c5-49d2-4471-9e23-e1c3efe14a25\"}, {\"hoverinfo\": \"name+text\", \"legendgroup\": \"True\", \"line\": {\"color\": \"green\", \"width\": 1}, \"name\": \"T5: real\", \"opacity\": 1, \"showlegend\": false, \"text\": [\"20262\", \"28058\", \"34877\", \"41146\", \"73201\", \"79641\", \"86195\", \"91955\", \"107743\"], \"x\": [32.2451, 70.7765], \"y\": [4.53326, 9.61941], \"type\": \"scatter\", \"uid\": \"d9e0d073-bbc1-468c-b4df-4211e7ba482c\"}, {\"hoverinfo\": \"name+text\", \"legendgroup\": \"True\", \"line\": {\"color\": \"green\", \"width\": 1}, \"name\": \"T5: real\", \"opacity\": 1, \"showlegend\": false, \"text\": [\"20262\", \"28058\", \"34877\", \"41146\", \"73201\", \"79641\", \"86195\", \"91955\", \"107743\"], \"x\": [70.7765, 114.433], \"y\": [9.61941, 14.9217], \"type\": \"scatter\", \"uid\": \"974efc9a-3e3f-49fb-87dc-509a619ce55d\"}, {\"hoverinfo\": \"name+text\", \"legendgroup\": \"True\", \"line\": {\"color\": \"green\", \"width\": 1}, \"name\": \"T5: real\", \"opacity\": 1, \"showlegend\": false, \"text\": [\"20262\", \"28058\", \"34877\", \"41146\", \"73201\", \"79641\", \"86195\", \"91955\", \"107743\"], \"x\": [114.433, 170.40099999999995], \"y\": [14.9217, 21.0637], \"type\": \"scatter\", \"uid\": \"d7a8175c-85f2-4f23-a112-9ab23a2f10fa\"}, {\"hoverinfo\": \"name+text\", \"legendgroup\": \"True\", \"line\": {\"color\": \"green\", \"width\": 1}, \"name\": \"T5: real\", \"opacity\": 1, \"showlegend\": false, \"text\": [\"20262\", \"28058\", \"34877\", \"41146\", \"73201\", \"79641\", \"86195\", \"91955\", \"107743\"], \"x\": [170.40099999999995, 258.338], \"y\": [21.0637, 29.1488], \"type\": \"scatter\", \"uid\": \"27ef4e2f-75c2-40a2-a83e-58b268f09bb8\"}, {\"hoverinfo\": \"name+text\", \"legendgroup\": \"True\", \"line\": {\"color\": \"green\", \"width\": 1}, \"name\": \"T5: real\", \"opacity\": 1, \"showlegend\": false, \"text\": [\"20262\", \"28058\", \"34877\", \"41146\", \"73201\", \"79641\", \"86195\", \"91955\", \"107743\"], \"x\": [258.338, 359.452], \"y\": [29.1488, 36.1999], \"type\": \"scatter\", \"uid\": \"59829b20-8369-473f-b4b9-073d372744f1\"}, {\"hoverinfo\": \"name+text\", \"legendgroup\": \"True\", \"line\": {\"color\": \"green\", \"width\": 1}, \"name\": \"T5: real\", \"opacity\": 1, \"showlegend\": false, \"text\": [\"20262\", \"28058\", \"34877\", \"41146\", \"73201\", \"79641\", \"86195\", \"91955\", \"107743\"], \"x\": [359.452, 503.503], \"y\": [36.1999, 42.0709], \"type\": \"scatter\", \"uid\": \"8fd33fc9-07cc-4694-9f43-622126684bc0\"}, {\"hoverinfo\": \"name+text\", \"legendgroup\": \"True\", \"line\": {\"color\": \"green\", \"width\": 1}, \"name\": \"T5: real\", \"opacity\": 1, \"showlegend\": false, \"text\": [\"20262\", \"28058\", \"34877\", \"41146\", \"73201\", \"79641\", \"86195\", \"91955\", \"107743\"], \"x\": [503.503, 663.908], \"y\": [42.0709, 43.0984], \"type\": \"scatter\", \"uid\": \"861e5541-abbb-4b05-873b-df1e7dacedf8\"}, {\"hoverinfo\": \"name+text\", \"legendgroup\": \"True\", \"line\": {\"color\": \"green\", \"width\": 1}, \"name\": \"T5: real\", \"opacity\": 1, \"showlegend\": false, \"text\": [\"20262\", \"28058\", \"34877\", \"41146\", \"73201\", \"79641\", \"86195\", \"91955\", \"107743\"], \"x\": [663.908, 823.312], \"y\": [43.0984, 38.3265], \"type\": \"scatter\", \"uid\": \"00d21db3-05f4-4f34-8d82-2548affb3573\"}, {\"hoverinfo\": \"name+text\", \"legendgroup\": \"True\", \"line\": {\"color\": \"green\", \"width\": 1}, \"name\": \"T6: real\", \"opacity\": 1, \"showlegend\": false, \"text\": [\"19698\", \"27827\", \"35259\", \"41464\", \"73085\", \"79880\", \"86402\", \"92130\", \"107883\"], \"x\": [-4.16977, -9.16296], \"y\": [-31.75, -71.4937], \"type\": \"scatter\", \"uid\": \"09db1f37-234e-4f27-8e88-efacb19ec646\"}, {\"hoverinfo\": \"name+text\", \"legendgroup\": \"True\", \"line\": {\"color\": \"green\", \"width\": 1}, \"name\": \"T6: real\", \"opacity\": 1, \"showlegend\": false, \"text\": [\"19698\", \"27827\", \"35259\", \"41464\", \"73085\", \"79880\", \"86402\", \"92130\", \"107883\"], \"x\": [-9.16296, -14.2464], \"y\": [-71.4937, -114.127], \"type\": \"scatter\", \"uid\": \"2a84a813-c255-41ea-a599-fec87eb9ea54\"}, {\"hoverinfo\": \"name+text\", \"legendgroup\": \"True\", \"line\": {\"color\": \"green\", \"width\": 1}, \"name\": \"T6: real\", \"opacity\": 1, \"showlegend\": false, \"text\": [\"19698\", \"27827\", \"35259\", \"41464\", \"73085\", \"79880\", \"86402\", \"92130\", \"107883\"], \"x\": [-14.2464, -20.5217], \"y\": [-114.127, -170.169], \"type\": \"scatter\", \"uid\": \"3b4e39e9-0e40-45c3-8600-035ce2b8bfff\"}, {\"hoverinfo\": \"name+text\", \"legendgroup\": \"True\", \"line\": {\"color\": \"green\", \"width\": 1}, \"name\": \"T6: real\", \"opacity\": 1, \"showlegend\": false, \"text\": [\"19698\", \"27827\", \"35259\", \"41464\", \"73085\", \"79880\", \"86402\", \"92130\", \"107883\"], \"x\": [-20.5217, -29.116], \"y\": [-170.169, -255.648], \"type\": \"scatter\", \"uid\": \"132dfc69-a30f-4f97-aff3-b4446070a094\"}, {\"hoverinfo\": \"name+text\", \"legendgroup\": \"True\", \"line\": {\"color\": \"green\", \"width\": 1}, \"name\": \"T6: real\", \"opacity\": 1, \"showlegend\": false, \"text\": [\"19698\", \"27827\", \"35259\", \"41464\", \"73085\", \"79880\", \"86402\", \"92130\", \"107883\"], \"x\": [-29.116, -38.3955], \"y\": [-255.648, -363.693], \"type\": \"scatter\", \"uid\": \"ef21ecd9-01b9-435b-a86c-382f0eee6a38\"}, {\"hoverinfo\": \"name+text\", \"legendgroup\": \"True\", \"line\": {\"color\": \"green\", \"width\": 1}, \"name\": \"T6: real\", \"opacity\": 1, \"showlegend\": false, \"text\": [\"19698\", \"27827\", \"35259\", \"41464\", \"73085\", \"79880\", \"86402\", \"92130\", \"107883\"], \"x\": [-38.3955, -47.3072], \"y\": [-363.693, -495.195], \"type\": \"scatter\", \"uid\": \"f0c5f2c9-da0f-4f88-8d14-d96974b53d4a\"}, {\"hoverinfo\": \"name+text\", \"legendgroup\": \"True\", \"line\": {\"color\": \"green\", \"width\": 1}, \"name\": \"T6: real\", \"opacity\": 1, \"showlegend\": false, \"text\": [\"19698\", \"27827\", \"35259\", \"41464\", \"73085\", \"79880\", \"86402\", \"92130\", \"107883\"], \"x\": [-47.3072, -54.4897], \"y\": [-495.195, -654.254], \"type\": \"scatter\", \"uid\": \"9c370bcd-9a59-413a-aba4-e9f22b5d9053\"}, {\"hoverinfo\": \"name+text\", \"legendgroup\": \"True\", \"line\": {\"color\": \"green\", \"width\": 1}, \"name\": \"T6: real\", \"opacity\": 1, \"showlegend\": false, \"text\": [\"19698\", \"27827\", \"35259\", \"41464\", \"73085\", \"79880\", \"86402\", \"92130\", \"107883\"], \"x\": [-54.4897, -57.8177], \"y\": [-654.254, -817.466], \"type\": \"scatter\", \"uid\": \"77c3e648-07a7-4b6a-9d16-c60acd6ba65e\"}, {\"hoverinfo\": \"name+text\", \"legendgroup\": \"True\", \"line\": {\"color\": \"green\", \"width\": 1}, \"name\": \"T7: real\", \"opacity\": 1, \"showlegend\": false, \"text\": [\"21265\", \"29504\", \"42350\", \"73830\", \"80933\", \"87292\", \"93165\", \"109022\", \"114036\"], \"x\": [-31.6364, -70.206], \"y\": [6.18379, 14.1226], \"type\": \"scatter\", \"uid\": \"f630cd21-f556-4932-bb06-26ea9841dc1b\"}, {\"hoverinfo\": \"name+text\", \"legendgroup\": \"True\", \"line\": {\"color\": \"green\", \"width\": 1}, \"name\": \"T7: real\", \"opacity\": 1, \"showlegend\": false, \"text\": [\"21265\", \"29504\", \"42350\", \"73830\", \"80933\", \"87292\", \"93165\", \"109022\", \"114036\"], \"x\": [-70.206, -168.155], \"y\": [14.1226, 36.3725], \"type\": \"scatter\", \"uid\": \"bd0be4ce-8188-4ffe-8f96-eae27f14a192\"}, {\"hoverinfo\": \"name+text\", \"legendgroup\": \"True\", \"line\": {\"color\": \"green\", \"width\": 1}, \"name\": \"T7: real\", \"opacity\": 1, \"showlegend\": false, \"text\": [\"21265\", \"29504\", \"42350\", \"73830\", \"80933\", \"87292\", \"93165\", \"109022\", \"114036\"], \"x\": [-168.155, -255.151], \"y\": [36.3725, 58.8872], \"type\": \"scatter\", \"uid\": \"ef6e21b3-c276-4f65-afad-a0d6c3842ed4\"}, {\"hoverinfo\": \"name+text\", \"legendgroup\": \"True\", \"line\": {\"color\": \"green\", \"width\": 1}, \"name\": \"T7: real\", \"opacity\": 1, \"showlegend\": false, \"text\": [\"21265\", \"29504\", \"42350\", \"73830\", \"80933\", \"87292\", \"93165\", \"109022\", \"114036\"], \"x\": [-255.151, -353.285], \"y\": [58.8872, 87.1991], \"type\": \"scatter\", \"uid\": \"05100a63-a4c2-4612-9b8d-35a08ac281fa\"}, {\"hoverinfo\": \"name+text\", \"legendgroup\": \"True\", \"line\": {\"color\": \"green\", \"width\": 1}, \"name\": \"T7: real\", \"opacity\": 1, \"showlegend\": false, \"text\": [\"21265\", \"29504\", \"42350\", \"73830\", \"80933\", \"87292\", \"93165\", \"109022\", \"114036\"], \"x\": [-353.285, -482.875], \"y\": [87.1991, 129.892], \"type\": \"scatter\", \"uid\": \"dcdee773-d201-4e31-b211-230310ce4e2d\"}, {\"hoverinfo\": \"name+text\", \"legendgroup\": \"True\", \"line\": {\"color\": \"green\", \"width\": 1}, \"name\": \"T7: real\", \"opacity\": 1, \"showlegend\": false, \"text\": [\"21265\", \"29504\", \"42350\", \"73830\", \"80933\", \"87292\", \"93165\", \"109022\", \"114036\"], \"x\": [-482.875, -633.385], \"y\": [129.892, 187.317], \"type\": \"scatter\", \"uid\": \"4b7fb76b-128b-406d-a724-30d43f05a2a5\"}, {\"hoverinfo\": \"name+text\", \"legendgroup\": \"True\", \"line\": {\"color\": \"green\", \"width\": 1}, \"name\": \"T7: real\", \"opacity\": 1, \"showlegend\": false, \"text\": [\"21265\", \"29504\", \"42350\", \"73830\", \"80933\", \"87292\", \"93165\", \"109022\", \"114036\"], \"x\": [-633.385, -782.4169999999998], \"y\": [187.317, 252.867], \"type\": \"scatter\", \"uid\": \"c9e996c1-5b88-4621-8dfe-131df098918e\"}, {\"hoverinfo\": \"name+text\", \"legendgroup\": \"True\", \"line\": {\"color\": \"green\", \"width\": 1}, \"name\": \"T7: real\", \"opacity\": 1, \"showlegend\": false, \"text\": [\"21265\", \"29504\", \"42350\", \"73830\", \"80933\", \"87292\", \"93165\", \"109022\", \"114036\"], \"x\": [-782.4169999999998, -962.827], \"y\": [252.867, 344.76199999999994], \"type\": \"scatter\", \"uid\": \"7340c628-10a5-41ac-a7bc-756e9d5489bc\"}, {\"hoverinfo\": \"name+text\", \"legendgroup\": \"True\", \"line\": {\"color\": \"darkseagreen\", \"width\": 1}, \"name\": \"T8: real\", \"opacity\": 1, \"showlegend\": false, \"text\": [\"75184\", \"82090\", \"88632\", \"94896\", \"110783\", \"116120\"], \"x\": [-1.10379, -15.6281], \"y\": [-262.164, -358.871], \"type\": \"scatter\", \"uid\": \"dfef9e1e-1aa7-4824-b8c3-73e79d78c54e\"}, {\"hoverinfo\": \"name+text\", \"legendgroup\": \"True\", \"line\": {\"color\": \"darkseagreen\", \"width\": 1}, \"name\": \"T8: real\", \"opacity\": 1, \"showlegend\": false, \"text\": [\"75184\", \"82090\", \"88632\", \"94896\", \"110783\", \"116120\"], \"x\": [-15.6281, -48.3976], \"y\": [-358.871, -494.939], \"type\": \"scatter\", \"uid\": \"413d1e6e-bb2c-48a8-95e9-dac4f0c7203e\"}, {\"hoverinfo\": \"name+text\", \"legendgroup\": \"True\", \"line\": {\"color\": \"darkseagreen\", \"width\": 1}, \"name\": \"T8: real\", \"opacity\": 1, \"showlegend\": false, \"text\": [\"75184\", \"82090\", \"88632\", \"94896\", \"110783\", \"116120\"], \"x\": [-48.3976, -107.941], \"y\": [-494.939, -654.971], \"type\": \"scatter\", \"uid\": \"46c5db5b-d23e-4184-8e30-8a87eb92bf30\"}, {\"hoverinfo\": \"name+text\", \"legendgroup\": \"True\", \"line\": {\"color\": \"darkseagreen\", \"width\": 1}, \"name\": \"T8: real\", \"opacity\": 1, \"showlegend\": false, \"text\": [\"75184\", \"82090\", \"88632\", \"94896\", \"110783\", \"116120\"], \"x\": [-107.941, -184.63], \"y\": [-654.971, -801.703], \"type\": \"scatter\", \"uid\": \"4de1e052-5256-41be-a978-702e27b26858\"}, {\"hoverinfo\": \"name+text\", \"legendgroup\": \"True\", \"line\": {\"color\": \"darkseagreen\", \"width\": 1}, \"name\": \"T8: real\", \"opacity\": 1, \"showlegend\": false, \"text\": [\"75184\", \"82090\", \"88632\", \"94896\", \"110783\", \"116120\"], \"x\": [-184.63, -306.828], \"y\": [-801.703, -971.876], \"type\": \"scatter\", \"uid\": \"50153a8d-aef7-4631-8aa6-1e8ca8ba9fa5\"}], {\"height\": 800, \"hovermode\": \"closest\", \"showlegend\": true, \"updatemenus\": [{\"buttons\": [{\"args\": [\"shapes\", []], \"label\": \"hide layers\", \"method\": \"relayout\"}, {\"args\": [\"shapes\", [{\"type\": \"circle\", \"x0\": -32, \"x1\": 32, \"y0\": -32, \"y1\": 32, \"opacity\": 0.5, \"layer\": \"below\", \"line\": {\"color\": \"#ccc\"}}, {\"type\": \"circle\", \"x0\": -72, \"x1\": 72, \"y0\": -72, \"y1\": 72, \"opacity\": 0.5, \"layer\": \"below\", \"line\": {\"color\": \"#ccc\"}}, {\"type\": \"circle\", \"x0\": -116, \"x1\": 116, \"y0\": -116, \"y1\": 116, \"opacity\": 0.5, \"layer\": \"below\", \"line\": {\"color\": \"#ccc\"}}, {\"type\": \"circle\", \"x0\": -172, \"x1\": 172, \"y0\": -172, \"y1\": 172, \"opacity\": 0.5, \"layer\": \"below\", \"line\": {\"color\": \"#ccc\"}}, {\"type\": \"circle\", \"x0\": -260, \"x1\": 260, \"y0\": -260, \"y1\": 260, \"opacity\": 0.5, \"layer\": \"below\", \"line\": {\"color\": \"#cccc8d\"}}, {\"type\": \"circle\", \"x0\": -360, \"x1\": 360, \"y0\": -360, \"y1\": 360, \"opacity\": 0.5, \"layer\": \"below\", \"line\": {\"color\": \"#cccc8d\"}}, {\"type\": \"circle\", \"x0\": -500, \"x1\": 500, \"y0\": -500, \"y1\": 500, \"opacity\": 0.5, \"layer\": \"below\", \"line\": {\"color\": \"#cccc8d\"}}, {\"type\": \"circle\", \"x0\": -660, \"x1\": 660, \"y0\": -660, \"y1\": 660, \"opacity\": 0.5, \"layer\": \"below\", \"line\": {\"color\": \"#cccc8d\"}}, {\"type\": \"circle\", \"x0\": -820, \"x1\": 820, \"y0\": -820, \"y1\": 820, \"opacity\": 0.5, \"layer\": \"below\", \"line\": {\"color\": \"#ccc\"}}, {\"type\": \"circle\", \"x0\": -1020, \"x1\": 1020, \"y0\": -1020, \"y1\": 1020, \"opacity\": 0.5, \"layer\": \"below\", \"line\": {\"color\": \"#ccc\"}}]], \"label\": \"show layers\", \"method\": \"relayout\"}], \"direction\": \"left\", \"pad\": {\"l\": 0.1}, \"type\": \"buttons\", \"xanchor\": \"left\", \"y\": 1.1, \"yanchor\": \"top\"}, {\"buttons\": [{\"args\": [{\"mode\": \"markers+lines\"}], \"label\": \"hits+tracks\", \"method\": \"update\"}, {\"args\": [{\"mode\": \"markers\"}], \"label\": \"hits only\", \"method\": \"update\"}], \"direction\": \"left\", \"pad\": {\"l\": 200}, \"type\": \"buttons\", \"xanchor\": \"left\", \"y\": 1.1, \"yanchor\": \"top\"}, {\"buttons\": [{\"args\": [\"yaxis.scaleanchor\", null], \"label\": \"free\", \"method\": \"relayout\"}, {\"args\": [\"yaxis.scaleanchor\", \"x\"], \"label\": \"fixed\", \"method\": \"relayout\"}], \"direction\": \"left\", \"pad\": {\"l\": 380}, \"type\": \"buttons\", \"xanchor\": \"left\", \"y\": 1.1, \"yanchor\": \"top\"}], \"width\": 800, \"xaxis\": {\"title\": \"x\"}, \"yaxis\": {\"title\": \"y\"}}, {\"showLink\": true, \"linkText\": \"Export to plot.ly\", \"plotlyServerURL\": \"https://plot.ly\"})});</script>"
      ],
      "text/vnd.plotly.v1+html": [
       "<div id=\"288e4392-6ce6-4527-885e-e07b21932298\" style=\"height: 800px; width: 800px;\" class=\"plotly-graph-div\"></div><script type=\"text/javascript\">require([\"plotly\"], function(Plotly) { window.PLOTLYENV=window.PLOTLYENV || {};window.PLOTLYENV.BASE_URL=\"https://plot.ly\";Plotly.newPlot(\"288e4392-6ce6-4527-885e-e07b21932298\", [{\"hoverinfo\": \"name+text\", \"legendgroup\": \"True\", \"line\": {\"color\": \"darkseagreen\", \"width\": 1}, \"name\": \"T0: real\", \"opacity\": 1, \"showlegend\": true, \"text\": [\"18246\", \"27129\", \"34226\", \"40268\", \"72036\", \"78762\"], \"x\": [-21.7191, -49.4278], \"y\": [-22.879, -53.6609], \"type\": \"scatter\", \"uid\": \"8228daff-664d-4e34-8b30-3f2572c459d4\"}, {\"hoverinfo\": \"name+text\", \"legendgroup\": \"True\", \"line\": {\"color\": \"darkseagreen\", \"width\": 1}, \"name\": \"T0: real\", \"opacity\": 1, \"showlegend\": false, \"text\": [\"18246\", \"27129\", \"34226\", \"40268\", \"72036\", \"78762\"], \"x\": [-49.4278, -76.6251], \"y\": [-53.6609, -85.78], \"type\": \"scatter\", \"uid\": \"d5f02d00-1d03-4155-adbe-52b480852272\"}, {\"hoverinfo\": \"name+text\", \"legendgroup\": \"True\", \"line\": {\"color\": \"darkseagreen\", \"width\": 1}, \"name\": \"T0: real\", \"opacity\": 1, \"showlegend\": false, \"text\": [\"18246\", \"27129\", \"34226\", \"40268\", \"72036\", \"78762\"], \"x\": [-76.6251, -111.405], \"y\": [-85.78, -130.203], \"type\": \"scatter\", \"uid\": \"47860204-31f3-4e7c-9888-f36b51b87257\"}, {\"hoverinfo\": \"name+text\", \"legendgroup\": \"True\", \"line\": {\"color\": \"darkseagreen\", \"width\": 1}, \"name\": \"T0: real\", \"opacity\": 1, \"showlegend\": false, \"text\": [\"18246\", \"27129\", \"34226\", \"40268\", \"72036\", \"78762\"], \"x\": [-111.405, -163.782], \"y\": [-130.203, -205.827], \"type\": \"scatter\", \"uid\": \"f6d38053-9690-48e6-8fd3-111d5ab40dfd\"}, {\"hoverinfo\": \"name+text\", \"legendgroup\": \"True\", \"line\": {\"color\": \"darkseagreen\", \"width\": 1}, \"name\": \"T0: real\", \"opacity\": 1, \"showlegend\": false, \"text\": [\"18246\", \"27129\", \"34226\", \"40268\", \"72036\", \"78762\"], \"x\": [-163.782, -213.656], \"y\": [-205.827, -290.52], \"type\": \"scatter\", \"uid\": \"7109765a-ed14-45e5-ac55-5ed9e698afa0\"}, {\"hoverinfo\": \"name+text\", \"legendgroup\": \"True\", \"line\": {\"color\": \"darkseagreen\", \"width\": 1}, \"name\": \"T1: real\", \"opacity\": 1, \"showlegend\": false, \"text\": [\"23050\", \"30426\", \"37198\", \"44045\", \"75480\", \"82723\"], \"x\": [-4.64343, -9.44367], \"y\": [31.6821, 70.8192], \"type\": \"scatter\", \"uid\": \"8d283b94-e0d7-44a1-8f61-85abde6a328a\"}, {\"hoverinfo\": \"name+text\", \"legendgroup\": \"True\", \"line\": {\"color\": \"darkseagreen\", \"width\": 1}, \"name\": \"T1: real\", \"opacity\": 1, \"showlegend\": false, \"text\": [\"23050\", \"30426\", \"37198\", \"44045\", \"75480\", \"82723\"], \"x\": [-9.44367, -13.5617], \"y\": [70.8192, 114.204], \"type\": \"scatter\", \"uid\": \"ccf9adfd-5619-4609-b4bb-095316e799a2\"}, {\"hoverinfo\": \"name+text\", \"legendgroup\": \"True\", \"line\": {\"color\": \"darkseagreen\", \"width\": 1}, \"name\": \"T1: real\", \"opacity\": 1, \"showlegend\": false, \"text\": [\"23050\", \"30426\", \"37198\", \"44045\", \"75480\", \"82723\"], \"x\": [-13.5617, -16.8728], \"y\": [114.204, 171.016], \"type\": \"scatter\", \"uid\": \"3d4674b9-2b30-4960-88ea-3213a7c2bf2d\"}, {\"hoverinfo\": \"name+text\", \"legendgroup\": \"True\", \"line\": {\"color\": \"darkseagreen\", \"width\": 1}, \"name\": \"T1: real\", \"opacity\": 1, \"showlegend\": false, \"text\": [\"23050\", \"30426\", \"37198\", \"44045\", \"75480\", \"82723\"], \"x\": [-16.8728, -17.738], \"y\": [171.016, 257.521], \"type\": \"scatter\", \"uid\": \"b0db98d1-0361-4b2d-a0bc-68a9f3a88b1b\"}, {\"hoverinfo\": \"name+text\", \"legendgroup\": \"True\", \"line\": {\"color\": \"darkseagreen\", \"width\": 1}, \"name\": \"T1: real\", \"opacity\": 1, \"showlegend\": false, \"text\": [\"23050\", \"30426\", \"37198\", \"44045\", \"75480\", \"82723\"], \"x\": [-17.738, -11.9561], \"y\": [257.521, 360.148], \"type\": \"scatter\", \"uid\": \"b3300106-6ebe-4540-b0fb-7d302b57fff9\"}, {\"hoverinfo\": \"name+text\", \"legendgroup\": \"True\", \"line\": {\"color\": \"green\", \"width\": 1}, \"name\": \"T2: real\", \"opacity\": 1, \"showlegend\": false, \"text\": [\"20764\", \"27487\", \"34491\", \"40865\", \"72549\", \"79138\", \"85537\"], \"x\": [5.5706, 10.5024], \"y\": [31.671, 72.0453], \"type\": \"scatter\", \"uid\": \"d7051a95-862e-41d4-8ea0-8841497d3faf\"}, {\"hoverinfo\": \"name+text\", \"legendgroup\": \"True\", \"line\": {\"color\": \"green\", \"width\": 1}, \"name\": \"T2: real\", \"opacity\": 1, \"showlegend\": false, \"text\": [\"20764\", \"27487\", \"34491\", \"40865\", \"72549\", \"79138\", \"85537\"], \"x\": [10.5024, 14.7116], \"y\": [72.0453, 114.108], \"type\": \"scatter\", \"uid\": \"033e31c6-7903-4be7-aec0-4aed26646a35\"}, {\"hoverinfo\": \"name+text\", \"legendgroup\": \"True\", \"line\": {\"color\": \"green\", \"width\": 1}, \"name\": \"T2: real\", \"opacity\": 1, \"showlegend\": false, \"text\": [\"20764\", \"27487\", \"34491\", \"40865\", \"72549\", \"79138\", \"85537\"], \"x\": [14.7116, 18.992], \"y\": [114.108, 171.997], \"type\": \"scatter\", \"uid\": \"82708030-b3bf-4133-9528-2d1d3a266fdf\"}, {\"hoverinfo\": \"name+text\", \"legendgroup\": \"True\", \"line\": {\"color\": \"green\", \"width\": 1}, \"name\": \"T2: real\", \"opacity\": 1, \"showlegend\": false, \"text\": [\"20764\", \"27487\", \"34491\", \"40865\", \"72549\", \"79138\", \"85537\"], \"x\": [18.992, 22.298], \"y\": [171.997, 257.23400000000004], \"type\": \"scatter\", \"uid\": \"8224db40-4aa0-4844-80c0-31529c536364\"}, {\"hoverinfo\": \"name+text\", \"legendgroup\": \"True\", \"line\": {\"color\": \"green\", \"width\": 1}, \"name\": \"T2: real\", \"opacity\": 1, \"showlegend\": false, \"text\": [\"20764\", \"27487\", \"34491\", \"40865\", \"72549\", \"79138\", \"85537\"], \"x\": [22.298, 21.6577], \"y\": [257.23400000000004, 357.611], \"type\": \"scatter\", \"uid\": \"e540515f-dfc6-4a99-a850-b6848862acbe\"}, {\"hoverinfo\": \"name+text\", \"legendgroup\": \"True\", \"line\": {\"color\": \"green\", \"width\": 1}, \"name\": \"T2: real\", \"opacity\": 1, \"showlegend\": false, \"text\": [\"20764\", \"27487\", \"34491\", \"40865\", \"72549\", \"79138\", \"85537\"], \"x\": [21.6577, 12.251], \"y\": [357.611, 496.648], \"type\": \"scatter\", \"uid\": \"333594c7-461b-45ca-a2c3-37d9596d1daa\"}, {\"hoverinfo\": \"name+text\", \"legendgroup\": \"True\", \"line\": {\"color\": \"darkseagreen\", \"width\": 1}, \"name\": \"T3: real\", \"opacity\": 1, \"showlegend\": false, \"text\": [\"21405\", \"30694\", \"38058\", \"44664\", \"76101\", \"83615\", \"90565\", \"96738\"], \"x\": [-33.5947, -73.825], \"y\": [0.8266889999999999, 0.838565], \"type\": \"scatter\", \"uid\": \"18531c4a-de71-4cd1-a5b9-e05d343f1cf5\"}, {\"hoverinfo\": \"name+text\", \"legendgroup\": \"True\", \"line\": {\"color\": \"darkseagreen\", \"width\": 1}, \"name\": \"T3: real\", \"opacity\": 1, \"showlegend\": false, \"text\": [\"21405\", \"30694\", \"38058\", \"44664\", \"76101\", \"83615\", \"90565\", \"96738\"], \"x\": [-73.825, -116.911], \"y\": [0.838565, -0.235947], \"type\": \"scatter\", \"uid\": \"52c668dd-f89e-4934-8f43-4a2e2d8394b4\"}, {\"hoverinfo\": \"name+text\", \"legendgroup\": \"True\", \"line\": {\"color\": \"darkseagreen\", \"width\": 1}, \"name\": \"T3: real\", \"opacity\": 1, \"showlegend\": false, \"text\": [\"21405\", \"30694\", \"38058\", \"44664\", \"76101\", \"83615\", \"90565\", \"96738\"], \"x\": [-116.911, -172.74200000000005], \"y\": [-0.235947, -3.4674400000000003], \"type\": \"scatter\", \"uid\": \"576447ab-c31f-4ce2-8a4d-02b7e31c50cd\"}, {\"hoverinfo\": \"name+text\", \"legendgroup\": \"True\", \"line\": {\"color\": \"darkseagreen\", \"width\": 1}, \"name\": \"T3: real\", \"opacity\": 1, \"showlegend\": false, \"text\": [\"21405\", \"30694\", \"38058\", \"44664\", \"76101\", \"83615\", \"90565\", \"96738\"], \"x\": [-172.74200000000005, -257.127], \"y\": [-3.4674400000000003, -12.2321], \"type\": \"scatter\", \"uid\": \"4e8579a0-6af7-4014-88a1-55be5a28efab\"}, {\"hoverinfo\": \"name+text\", \"legendgroup\": \"True\", \"line\": {\"color\": \"darkseagreen\", \"width\": 1}, \"name\": \"T3: real\", \"opacity\": 1, \"showlegend\": false, \"text\": [\"21405\", \"30694\", \"38058\", \"44664\", \"76101\", \"83615\", \"90565\", \"96738\"], \"x\": [-257.127, -358.775], \"y\": [-12.2321, -29.005], \"type\": \"scatter\", \"uid\": \"906dee1f-c62b-469c-b359-f24609ea4b55\"}, {\"hoverinfo\": \"name+text\", \"legendgroup\": \"True\", \"line\": {\"color\": \"darkseagreen\", \"width\": 1}, \"name\": \"T3: real\", \"opacity\": 1, \"showlegend\": false, \"text\": [\"21405\", \"30694\", \"38058\", \"44664\", \"76101\", \"83615\", \"90565\", \"96738\"], \"x\": [-358.775, -494.937], \"y\": [-29.005, -62.5497], \"type\": \"scatter\", \"uid\": \"a911e841-67aa-47c3-a11d-544e72a46444\"}, {\"hoverinfo\": \"name+text\", \"legendgroup\": \"True\", \"line\": {\"color\": \"darkseagreen\", \"width\": 1}, \"name\": \"T3: real\", \"opacity\": 1, \"showlegend\": false, \"text\": [\"21405\", \"30694\", \"38058\", \"44664\", \"76101\", \"83615\", \"90565\", \"96738\"], \"x\": [-494.937, -650.641], \"y\": [-62.5497, -117.418], \"type\": \"scatter\", \"uid\": \"b2dac6df-00dc-4d12-a60b-139fa7acc5b7\"}, {\"hoverinfo\": \"name+text\", \"legendgroup\": \"True\", \"line\": {\"color\": \"green\", \"width\": 1}, \"name\": \"T4: real\", \"opacity\": 1, \"showlegend\": false, \"text\": [\"23536\", \"31418\", \"38524\", \"45067\", \"76902\", \"83944\", \"90803\", \"96934\"], \"x\": [-30.9263, -68.8454], \"y\": [9.9814, 22.8573], \"type\": \"scatter\", \"uid\": \"9cdfa6f5-8467-477a-895e-c56eee94d186\"}, {\"hoverinfo\": \"name+text\", \"legendgroup\": \"True\", \"line\": {\"color\": \"green\", \"width\": 1}, \"name\": \"T4: real\", \"opacity\": 1, \"showlegend\": false, \"text\": [\"23536\", \"31418\", \"38524\", \"45067\", \"76902\", \"83944\", \"90803\", \"96934\"], \"x\": [-68.8454, -109.987], \"y\": [22.8573, 37.6253], \"type\": \"scatter\", \"uid\": \"b064581d-99e8-4349-8556-2ba40608c367\"}, {\"hoverinfo\": \"name+text\", \"legendgroup\": \"True\", \"line\": {\"color\": \"green\", \"width\": 1}, \"name\": \"T4: real\", \"opacity\": 1, \"showlegend\": false, \"text\": [\"23536\", \"31418\", \"38524\", \"45067\", \"76902\", \"83944\", \"90803\", \"96934\"], \"x\": [-109.987, -161.876], \"y\": [37.6253, 57.4577], \"type\": \"scatter\", \"uid\": \"02a5f727-1ca0-4db8-9e2f-62085d0c9de4\"}, {\"hoverinfo\": \"name+text\", \"legendgroup\": \"True\", \"line\": {\"color\": \"green\", \"width\": 1}, \"name\": \"T4: real\", \"opacity\": 1, \"showlegend\": false, \"text\": [\"23536\", \"31418\", \"38524\", \"45067\", \"76902\", \"83944\", \"90803\", \"96934\"], \"x\": [-161.876, -246.02], \"y\": [57.4577, 92.7332], \"type\": \"scatter\", \"uid\": \"37a90aff-aa22-4956-b1be-d8d0359d52a3\"}, {\"hoverinfo\": \"name+text\", \"legendgroup\": \"True\", \"line\": {\"color\": \"green\", \"width\": 1}, \"name\": \"T4: real\", \"opacity\": 1, \"showlegend\": false, \"text\": [\"23536\", \"31418\", \"38524\", \"45067\", \"76902\", \"83944\", \"90803\", \"96934\"], \"x\": [-246.02, -333.426], \"y\": [92.7332, 133.519], \"type\": \"scatter\", \"uid\": \"314c9945-d334-4ab8-bb74-302dcafb8891\"}, {\"hoverinfo\": \"name+text\", \"legendgroup\": \"True\", \"line\": {\"color\": \"green\", \"width\": 1}, \"name\": \"T4: real\", \"opacity\": 1, \"showlegend\": false, \"text\": [\"23536\", \"31418\", \"38524\", \"45067\", \"76902\", \"83944\", \"90803\", \"96934\"], \"x\": [-333.426, -459.273], \"y\": [133.519, 200.49400000000003], \"type\": \"scatter\", \"uid\": \"0c7ab9d1-83e7-4617-b8be-6498ca7eae1f\"}, {\"hoverinfo\": \"name+text\", \"legendgroup\": \"True\", \"line\": {\"color\": \"green\", \"width\": 1}, \"name\": \"T4: real\", \"opacity\": 1, \"showlegend\": false, \"text\": [\"23536\", \"31418\", \"38524\", \"45067\", \"76902\", \"83944\", \"90803\", \"96934\"], \"x\": [-459.273, -595.614], \"y\": [200.49400000000003, 284.758], \"type\": \"scatter\", \"uid\": \"29cb43c5-49d2-4471-9e23-e1c3efe14a25\"}, {\"hoverinfo\": \"name+text\", \"legendgroup\": \"True\", \"line\": {\"color\": \"green\", \"width\": 1}, \"name\": \"T5: real\", \"opacity\": 1, \"showlegend\": false, \"text\": [\"20262\", \"28058\", \"34877\", \"41146\", \"73201\", \"79641\", \"86195\", \"91955\", \"107743\"], \"x\": [32.2451, 70.7765], \"y\": [4.53326, 9.61941], \"type\": \"scatter\", \"uid\": \"d9e0d073-bbc1-468c-b4df-4211e7ba482c\"}, {\"hoverinfo\": \"name+text\", \"legendgroup\": \"True\", \"line\": {\"color\": \"green\", \"width\": 1}, \"name\": \"T5: real\", \"opacity\": 1, \"showlegend\": false, \"text\": [\"20262\", \"28058\", \"34877\", \"41146\", \"73201\", \"79641\", \"86195\", \"91955\", \"107743\"], \"x\": [70.7765, 114.433], \"y\": [9.61941, 14.9217], \"type\": \"scatter\", \"uid\": \"974efc9a-3e3f-49fb-87dc-509a619ce55d\"}, {\"hoverinfo\": \"name+text\", \"legendgroup\": \"True\", \"line\": {\"color\": \"green\", \"width\": 1}, \"name\": \"T5: real\", \"opacity\": 1, \"showlegend\": false, \"text\": [\"20262\", \"28058\", \"34877\", \"41146\", \"73201\", \"79641\", \"86195\", \"91955\", \"107743\"], \"x\": [114.433, 170.40099999999995], \"y\": [14.9217, 21.0637], \"type\": \"scatter\", \"uid\": \"d7a8175c-85f2-4f23-a112-9ab23a2f10fa\"}, {\"hoverinfo\": \"name+text\", \"legendgroup\": \"True\", \"line\": {\"color\": \"green\", \"width\": 1}, \"name\": \"T5: real\", \"opacity\": 1, \"showlegend\": false, \"text\": [\"20262\", \"28058\", \"34877\", \"41146\", \"73201\", \"79641\", \"86195\", \"91955\", \"107743\"], \"x\": [170.40099999999995, 258.338], \"y\": [21.0637, 29.1488], \"type\": \"scatter\", \"uid\": \"27ef4e2f-75c2-40a2-a83e-58b268f09bb8\"}, {\"hoverinfo\": \"name+text\", \"legendgroup\": \"True\", \"line\": {\"color\": \"green\", \"width\": 1}, \"name\": \"T5: real\", \"opacity\": 1, \"showlegend\": false, \"text\": [\"20262\", \"28058\", \"34877\", \"41146\", \"73201\", \"79641\", \"86195\", \"91955\", \"107743\"], \"x\": [258.338, 359.452], \"y\": [29.1488, 36.1999], \"type\": \"scatter\", \"uid\": \"59829b20-8369-473f-b4b9-073d372744f1\"}, {\"hoverinfo\": \"name+text\", \"legendgroup\": \"True\", \"line\": {\"color\": \"green\", \"width\": 1}, \"name\": \"T5: real\", \"opacity\": 1, \"showlegend\": false, \"text\": [\"20262\", \"28058\", \"34877\", \"41146\", \"73201\", \"79641\", \"86195\", \"91955\", \"107743\"], \"x\": [359.452, 503.503], \"y\": [36.1999, 42.0709], \"type\": \"scatter\", \"uid\": \"8fd33fc9-07cc-4694-9f43-622126684bc0\"}, {\"hoverinfo\": \"name+text\", \"legendgroup\": \"True\", \"line\": {\"color\": \"green\", \"width\": 1}, \"name\": \"T5: real\", \"opacity\": 1, \"showlegend\": false, \"text\": [\"20262\", \"28058\", \"34877\", \"41146\", \"73201\", \"79641\", \"86195\", \"91955\", \"107743\"], \"x\": [503.503, 663.908], \"y\": [42.0709, 43.0984], \"type\": \"scatter\", \"uid\": \"861e5541-abbb-4b05-873b-df1e7dacedf8\"}, {\"hoverinfo\": \"name+text\", \"legendgroup\": \"True\", \"line\": {\"color\": \"green\", \"width\": 1}, \"name\": \"T5: real\", \"opacity\": 1, \"showlegend\": false, \"text\": [\"20262\", \"28058\", \"34877\", \"41146\", \"73201\", \"79641\", \"86195\", \"91955\", \"107743\"], \"x\": [663.908, 823.312], \"y\": [43.0984, 38.3265], \"type\": \"scatter\", \"uid\": \"00d21db3-05f4-4f34-8d82-2548affb3573\"}, {\"hoverinfo\": \"name+text\", \"legendgroup\": \"True\", \"line\": {\"color\": \"green\", \"width\": 1}, \"name\": \"T6: real\", \"opacity\": 1, \"showlegend\": false, \"text\": [\"19698\", \"27827\", \"35259\", \"41464\", \"73085\", \"79880\", \"86402\", \"92130\", \"107883\"], \"x\": [-4.16977, -9.16296], \"y\": [-31.75, -71.4937], \"type\": \"scatter\", \"uid\": \"09db1f37-234e-4f27-8e88-efacb19ec646\"}, {\"hoverinfo\": \"name+text\", \"legendgroup\": \"True\", \"line\": {\"color\": \"green\", \"width\": 1}, \"name\": \"T6: real\", \"opacity\": 1, \"showlegend\": false, \"text\": [\"19698\", \"27827\", \"35259\", \"41464\", \"73085\", \"79880\", \"86402\", \"92130\", \"107883\"], \"x\": [-9.16296, -14.2464], \"y\": [-71.4937, -114.127], \"type\": \"scatter\", \"uid\": \"2a84a813-c255-41ea-a599-fec87eb9ea54\"}, {\"hoverinfo\": \"name+text\", \"legendgroup\": \"True\", \"line\": {\"color\": \"green\", \"width\": 1}, \"name\": \"T6: real\", \"opacity\": 1, \"showlegend\": false, \"text\": [\"19698\", \"27827\", \"35259\", \"41464\", \"73085\", \"79880\", \"86402\", \"92130\", \"107883\"], \"x\": [-14.2464, -20.5217], \"y\": [-114.127, -170.169], \"type\": \"scatter\", \"uid\": \"3b4e39e9-0e40-45c3-8600-035ce2b8bfff\"}, {\"hoverinfo\": \"name+text\", \"legendgroup\": \"True\", \"line\": {\"color\": \"green\", \"width\": 1}, \"name\": \"T6: real\", \"opacity\": 1, \"showlegend\": false, \"text\": [\"19698\", \"27827\", \"35259\", \"41464\", \"73085\", \"79880\", \"86402\", \"92130\", \"107883\"], \"x\": [-20.5217, -29.116], \"y\": [-170.169, -255.648], \"type\": \"scatter\", \"uid\": \"132dfc69-a30f-4f97-aff3-b4446070a094\"}, {\"hoverinfo\": \"name+text\", \"legendgroup\": \"True\", \"line\": {\"color\": \"green\", \"width\": 1}, \"name\": \"T6: real\", \"opacity\": 1, \"showlegend\": false, \"text\": [\"19698\", \"27827\", \"35259\", \"41464\", \"73085\", \"79880\", \"86402\", \"92130\", \"107883\"], \"x\": [-29.116, -38.3955], \"y\": [-255.648, -363.693], \"type\": \"scatter\", \"uid\": \"ef21ecd9-01b9-435b-a86c-382f0eee6a38\"}, {\"hoverinfo\": \"name+text\", \"legendgroup\": \"True\", \"line\": {\"color\": \"green\", \"width\": 1}, \"name\": \"T6: real\", \"opacity\": 1, \"showlegend\": false, \"text\": [\"19698\", \"27827\", \"35259\", \"41464\", \"73085\", \"79880\", \"86402\", \"92130\", \"107883\"], \"x\": [-38.3955, -47.3072], \"y\": [-363.693, -495.195], \"type\": \"scatter\", \"uid\": \"f0c5f2c9-da0f-4f88-8d14-d96974b53d4a\"}, {\"hoverinfo\": \"name+text\", \"legendgroup\": \"True\", \"line\": {\"color\": \"green\", \"width\": 1}, \"name\": \"T6: real\", \"opacity\": 1, \"showlegend\": false, \"text\": [\"19698\", \"27827\", \"35259\", \"41464\", \"73085\", \"79880\", \"86402\", \"92130\", \"107883\"], \"x\": [-47.3072, -54.4897], \"y\": [-495.195, -654.254], \"type\": \"scatter\", \"uid\": \"9c370bcd-9a59-413a-aba4-e9f22b5d9053\"}, {\"hoverinfo\": \"name+text\", \"legendgroup\": \"True\", \"line\": {\"color\": \"green\", \"width\": 1}, \"name\": \"T6: real\", \"opacity\": 1, \"showlegend\": false, \"text\": [\"19698\", \"27827\", \"35259\", \"41464\", \"73085\", \"79880\", \"86402\", \"92130\", \"107883\"], \"x\": [-54.4897, -57.8177], \"y\": [-654.254, -817.466], \"type\": \"scatter\", \"uid\": \"77c3e648-07a7-4b6a-9d16-c60acd6ba65e\"}, {\"hoverinfo\": \"name+text\", \"legendgroup\": \"True\", \"line\": {\"color\": \"green\", \"width\": 1}, \"name\": \"T7: real\", \"opacity\": 1, \"showlegend\": false, \"text\": [\"21265\", \"29504\", \"42350\", \"73830\", \"80933\", \"87292\", \"93165\", \"109022\", \"114036\"], \"x\": [-31.6364, -70.206], \"y\": [6.18379, 14.1226], \"type\": \"scatter\", \"uid\": \"f630cd21-f556-4932-bb06-26ea9841dc1b\"}, {\"hoverinfo\": \"name+text\", \"legendgroup\": \"True\", \"line\": {\"color\": \"green\", \"width\": 1}, \"name\": \"T7: real\", \"opacity\": 1, \"showlegend\": false, \"text\": [\"21265\", \"29504\", \"42350\", \"73830\", \"80933\", \"87292\", \"93165\", \"109022\", \"114036\"], \"x\": [-70.206, -168.155], \"y\": [14.1226, 36.3725], \"type\": \"scatter\", \"uid\": \"bd0be4ce-8188-4ffe-8f96-eae27f14a192\"}, {\"hoverinfo\": \"name+text\", \"legendgroup\": \"True\", \"line\": {\"color\": \"green\", \"width\": 1}, \"name\": \"T7: real\", \"opacity\": 1, \"showlegend\": false, \"text\": [\"21265\", \"29504\", \"42350\", \"73830\", \"80933\", \"87292\", \"93165\", \"109022\", \"114036\"], \"x\": [-168.155, -255.151], \"y\": [36.3725, 58.8872], \"type\": \"scatter\", \"uid\": \"ef6e21b3-c276-4f65-afad-a0d6c3842ed4\"}, {\"hoverinfo\": \"name+text\", \"legendgroup\": \"True\", \"line\": {\"color\": \"green\", \"width\": 1}, \"name\": \"T7: real\", \"opacity\": 1, \"showlegend\": false, \"text\": [\"21265\", \"29504\", \"42350\", \"73830\", \"80933\", \"87292\", \"93165\", \"109022\", \"114036\"], \"x\": [-255.151, -353.285], \"y\": [58.8872, 87.1991], \"type\": \"scatter\", \"uid\": \"05100a63-a4c2-4612-9b8d-35a08ac281fa\"}, {\"hoverinfo\": \"name+text\", \"legendgroup\": \"True\", \"line\": {\"color\": \"green\", \"width\": 1}, \"name\": \"T7: real\", \"opacity\": 1, \"showlegend\": false, \"text\": [\"21265\", \"29504\", \"42350\", \"73830\", \"80933\", \"87292\", \"93165\", \"109022\", \"114036\"], \"x\": [-353.285, -482.875], \"y\": [87.1991, 129.892], \"type\": \"scatter\", \"uid\": \"dcdee773-d201-4e31-b211-230310ce4e2d\"}, {\"hoverinfo\": \"name+text\", \"legendgroup\": \"True\", \"line\": {\"color\": \"green\", \"width\": 1}, \"name\": \"T7: real\", \"opacity\": 1, \"showlegend\": false, \"text\": [\"21265\", \"29504\", \"42350\", \"73830\", \"80933\", \"87292\", \"93165\", \"109022\", \"114036\"], \"x\": [-482.875, -633.385], \"y\": [129.892, 187.317], \"type\": \"scatter\", \"uid\": \"4b7fb76b-128b-406d-a724-30d43f05a2a5\"}, {\"hoverinfo\": \"name+text\", \"legendgroup\": \"True\", \"line\": {\"color\": \"green\", \"width\": 1}, \"name\": \"T7: real\", \"opacity\": 1, \"showlegend\": false, \"text\": [\"21265\", \"29504\", \"42350\", \"73830\", \"80933\", \"87292\", \"93165\", \"109022\", \"114036\"], \"x\": [-633.385, -782.4169999999998], \"y\": [187.317, 252.867], \"type\": \"scatter\", \"uid\": \"c9e996c1-5b88-4621-8dfe-131df098918e\"}, {\"hoverinfo\": \"name+text\", \"legendgroup\": \"True\", \"line\": {\"color\": \"green\", \"width\": 1}, \"name\": \"T7: real\", \"opacity\": 1, \"showlegend\": false, \"text\": [\"21265\", \"29504\", \"42350\", \"73830\", \"80933\", \"87292\", \"93165\", \"109022\", \"114036\"], \"x\": [-782.4169999999998, -962.827], \"y\": [252.867, 344.76199999999994], \"type\": \"scatter\", \"uid\": \"7340c628-10a5-41ac-a7bc-756e9d5489bc\"}, {\"hoverinfo\": \"name+text\", \"legendgroup\": \"True\", \"line\": {\"color\": \"darkseagreen\", \"width\": 1}, \"name\": \"T8: real\", \"opacity\": 1, \"showlegend\": false, \"text\": [\"75184\", \"82090\", \"88632\", \"94896\", \"110783\", \"116120\"], \"x\": [-1.10379, -15.6281], \"y\": [-262.164, -358.871], \"type\": \"scatter\", \"uid\": \"dfef9e1e-1aa7-4824-b8c3-73e79d78c54e\"}, {\"hoverinfo\": \"name+text\", \"legendgroup\": \"True\", \"line\": {\"color\": \"darkseagreen\", \"width\": 1}, \"name\": \"T8: real\", \"opacity\": 1, \"showlegend\": false, \"text\": [\"75184\", \"82090\", \"88632\", \"94896\", \"110783\", \"116120\"], \"x\": [-15.6281, -48.3976], \"y\": [-358.871, -494.939], \"type\": \"scatter\", \"uid\": \"413d1e6e-bb2c-48a8-95e9-dac4f0c7203e\"}, {\"hoverinfo\": \"name+text\", \"legendgroup\": \"True\", \"line\": {\"color\": \"darkseagreen\", \"width\": 1}, \"name\": \"T8: real\", \"opacity\": 1, \"showlegend\": false, \"text\": [\"75184\", \"82090\", \"88632\", \"94896\", \"110783\", \"116120\"], \"x\": [-48.3976, -107.941], \"y\": [-494.939, -654.971], \"type\": \"scatter\", \"uid\": \"46c5db5b-d23e-4184-8e30-8a87eb92bf30\"}, {\"hoverinfo\": \"name+text\", \"legendgroup\": \"True\", \"line\": {\"color\": \"darkseagreen\", \"width\": 1}, \"name\": \"T8: real\", \"opacity\": 1, \"showlegend\": false, \"text\": [\"75184\", \"82090\", \"88632\", \"94896\", \"110783\", \"116120\"], \"x\": [-107.941, -184.63], \"y\": [-654.971, -801.703], \"type\": \"scatter\", \"uid\": \"4de1e052-5256-41be-a978-702e27b26858\"}, {\"hoverinfo\": \"name+text\", \"legendgroup\": \"True\", \"line\": {\"color\": \"darkseagreen\", \"width\": 1}, \"name\": \"T8: real\", \"opacity\": 1, \"showlegend\": false, \"text\": [\"75184\", \"82090\", \"88632\", \"94896\", \"110783\", \"116120\"], \"x\": [-184.63, -306.828], \"y\": [-801.703, -971.876], \"type\": \"scatter\", \"uid\": \"50153a8d-aef7-4631-8aa6-1e8ca8ba9fa5\"}], {\"height\": 800, \"hovermode\": \"closest\", \"showlegend\": true, \"updatemenus\": [{\"buttons\": [{\"args\": [\"shapes\", []], \"label\": \"hide layers\", \"method\": \"relayout\"}, {\"args\": [\"shapes\", [{\"type\": \"circle\", \"x0\": -32, \"x1\": 32, \"y0\": -32, \"y1\": 32, \"opacity\": 0.5, \"layer\": \"below\", \"line\": {\"color\": \"#ccc\"}}, {\"type\": \"circle\", \"x0\": -72, \"x1\": 72, \"y0\": -72, \"y1\": 72, \"opacity\": 0.5, \"layer\": \"below\", \"line\": {\"color\": \"#ccc\"}}, {\"type\": \"circle\", \"x0\": -116, \"x1\": 116, \"y0\": -116, \"y1\": 116, \"opacity\": 0.5, \"layer\": \"below\", \"line\": {\"color\": \"#ccc\"}}, {\"type\": \"circle\", \"x0\": -172, \"x1\": 172, \"y0\": -172, \"y1\": 172, \"opacity\": 0.5, \"layer\": \"below\", \"line\": {\"color\": \"#ccc\"}}, {\"type\": \"circle\", \"x0\": -260, \"x1\": 260, \"y0\": -260, \"y1\": 260, \"opacity\": 0.5, \"layer\": \"below\", \"line\": {\"color\": \"#cccc8d\"}}, {\"type\": \"circle\", \"x0\": -360, \"x1\": 360, \"y0\": -360, \"y1\": 360, \"opacity\": 0.5, \"layer\": \"below\", \"line\": {\"color\": \"#cccc8d\"}}, {\"type\": \"circle\", \"x0\": -500, \"x1\": 500, \"y0\": -500, \"y1\": 500, \"opacity\": 0.5, \"layer\": \"below\", \"line\": {\"color\": \"#cccc8d\"}}, {\"type\": \"circle\", \"x0\": -660, \"x1\": 660, \"y0\": -660, \"y1\": 660, \"opacity\": 0.5, \"layer\": \"below\", \"line\": {\"color\": \"#cccc8d\"}}, {\"type\": \"circle\", \"x0\": -820, \"x1\": 820, \"y0\": -820, \"y1\": 820, \"opacity\": 0.5, \"layer\": \"below\", \"line\": {\"color\": \"#ccc\"}}, {\"type\": \"circle\", \"x0\": -1020, \"x1\": 1020, \"y0\": -1020, \"y1\": 1020, \"opacity\": 0.5, \"layer\": \"below\", \"line\": {\"color\": \"#ccc\"}}]], \"label\": \"show layers\", \"method\": \"relayout\"}], \"direction\": \"left\", \"pad\": {\"l\": 0.1}, \"type\": \"buttons\", \"xanchor\": \"left\", \"y\": 1.1, \"yanchor\": \"top\"}, {\"buttons\": [{\"args\": [{\"mode\": \"markers+lines\"}], \"label\": \"hits+tracks\", \"method\": \"update\"}, {\"args\": [{\"mode\": \"markers\"}], \"label\": \"hits only\", \"method\": \"update\"}], \"direction\": \"left\", \"pad\": {\"l\": 200}, \"type\": \"buttons\", \"xanchor\": \"left\", \"y\": 1.1, \"yanchor\": \"top\"}, {\"buttons\": [{\"args\": [\"yaxis.scaleanchor\", null], \"label\": \"free\", \"method\": \"relayout\"}, {\"args\": [\"yaxis.scaleanchor\", \"x\"], \"label\": \"fixed\", \"method\": \"relayout\"}], \"direction\": \"left\", \"pad\": {\"l\": 380}, \"type\": \"buttons\", \"xanchor\": \"left\", \"y\": 1.1, \"yanchor\": \"top\"}], \"width\": 800, \"xaxis\": {\"title\": \"x\"}, \"yaxis\": {\"title\": \"y\"}}, {\"showLink\": true, \"linkText\": \"Export to plot.ly\", \"plotlyServerURL\": \"https://plot.ly\"})});</script>"
      ]
     },
     "metadata": {},
     "output_type": "display_data"
    }
   ],
   "source": [
    "set_notebook_mode() # if running inside a notebook\n",
    "\n",
    "# load the dataset and the response_neal (created using the qallse tool)\n",
    "dw = DataWrapper.from_path('C:/Users/timsc/hepqpr-qallse-data/ds1/event000001000-hits.csv')\n",
    "with open('C:/Users/timsc/hepqpr-qallse-data/ds1/evt1000-ds1-neal-0-response.pickle', 'rb') as f: \n",
    "    response_neal = pickle.load(f)\n",
    "\n",
    "# process the response_neal and get the set of missing doublets\n",
    "final_doublets, final_tracks = process_response(response_neal)\n",
    "precision, recall, missings = dw.compute_score(final_doublets)\n",
    "\n",
    "# plotting examples\n",
    "iplot_results(dw, final_doublets, missings)\n",
    "iplot_results(dw, final_doublets, missings, dims=list('zr'))\n",
    "iplot_results_tracks(dw, final_tracks)"
   ]
  },
  {
   "cell_type": "code",
   "execution_count": 3,
   "id": "0638c3ec",
   "metadata": {},
   "outputs": [
    {
     "data": {
      "text/html": [
       "<script type=\"text/javascript\">window.PlotlyConfig = {MathJaxConfig: 'local'};</script><script type=\"text/javascript\">if (window.MathJax) {MathJax.Hub.Config({SVG: {font: \"STIX-Web\"}});}</script><script>requirejs.config({paths: { 'plotly': ['https://cdn.plot.ly/plotly-latest.min']},});if(!window._Plotly) {require(['plotly'],function(plotly) {window._Plotly=plotly;});}</script>"
      ],
      "text/vnd.plotly.v1+html": [
       "<script type=\"text/javascript\">window.PlotlyConfig = {MathJaxConfig: 'local'};</script><script type=\"text/javascript\">if (window.MathJax) {MathJax.Hub.Config({SVG: {font: \"STIX-Web\"}});}</script><script>requirejs.config({paths: { 'plotly': ['https://cdn.plot.ly/plotly-latest.min']},});if(!window._Plotly) {require(['plotly'],function(plotly) {window._Plotly=plotly;});}</script>"
      ]
     },
     "metadata": {},
     "output_type": "display_data"
    },
    {
     "data": {
      "application/vnd.plotly.v1+json": {
       "config": {
        "linkText": "Export to plot.ly",
        "plotlyServerURL": "https://plot.ly",
        "showLink": true
       },
       "data": [
        {
         "hoverinfo": "name+text",
         "legendgroup": "fake",
         "line": {
          "color": "red",
          "width": 1
         },
         "name": "fake",
         "opacity": 1,
         "showlegend": true,
         "text": [
          "19698",
          "35259"
         ],
         "type": "scatter",
         "uid": "442ada78-abf0-44d9-9fdc-08736788cc05",
         "x": [
          -4.16977,
          -14.2464
         ],
         "y": [
          -31.75,
          -114.127
         ]
        },
        {
         "hoverinfo": "name+text",
         "legendgroup": "fake",
         "line": {
          "color": "red",
          "width": 1
         },
         "name": "fake",
         "opacity": 1,
         "showlegend": false,
         "text": [
          "79880",
          "92130"
         ],
         "type": "scatter",
         "uid": "354357f5-fe21-48ad-a585-7f532fcfc8a4",
         "x": [
          -38.3955,
          -54.4897
         ],
         "y": [
          -363.693,
          -654.254
         ]
        },
        {
         "hoverinfo": "name+text",
         "legendgroup": "real",
         "line": {
          "color": "green",
          "width": 1
         },
         "name": "real",
         "opacity": 1,
         "showlegend": true,
         "text": [
          "35259",
          "41464"
         ],
         "type": "scatter",
         "uid": "dace320e-5ca3-49ab-a620-fc518a132d2d",
         "x": [
          -14.2464,
          -20.5217
         ],
         "y": [
          -114.127,
          -170.169
         ]
        },
        {
         "hoverinfo": "name+text",
         "legendgroup": "real",
         "line": {
          "color": "green",
          "width": 1
         },
         "name": "real",
         "opacity": 1,
         "showlegend": false,
         "text": [
          "41464",
          "73085"
         ],
         "type": "scatter",
         "uid": "e0acab5c-90bb-4afa-b339-24b697dc06f8",
         "x": [
          -20.5217,
          -29.116
         ],
         "y": [
          -170.169,
          -255.648
         ]
        },
        {
         "hoverinfo": "name+text",
         "legendgroup": "real",
         "line": {
          "color": "green",
          "width": 1
         },
         "name": "real",
         "opacity": 1,
         "showlegend": false,
         "text": [
          "73085",
          "79880"
         ],
         "type": "scatter",
         "uid": "a2bea940-81dd-49cc-b28e-988be964aaff",
         "x": [
          -29.116,
          -38.3955
         ],
         "y": [
          -255.648,
          -363.693
         ]
        },
        {
         "hoverinfo": "name+text",
         "legendgroup": "real",
         "line": {
          "color": "green",
          "width": 1
         },
         "name": "real",
         "opacity": 1,
         "showlegend": false,
         "text": [
          "92130",
          "107883"
         ],
         "type": "scatter",
         "uid": "cfe30063-54a9-405b-9929-745baa2dc581",
         "x": [
          -54.4897,
          -57.8177
         ],
         "y": [
          -654.254,
          -817.466
         ]
        },
        {
         "hoverinfo": "name+text",
         "legendgroup": "missing",
         "line": {
          "color": "blue",
          "width": 1
         },
         "name": "missing",
         "opacity": 1,
         "showlegend": true,
         "text": [
          "19698",
          "27827"
         ],
         "type": "scatter",
         "uid": "9a9e4589-5d44-439e-9aa3-e3d618fd1872",
         "x": [
          -4.16977,
          -9.16296
         ],
         "y": [
          -31.75,
          -71.4937
         ]
        },
        {
         "hoverinfo": "name+text",
         "legendgroup": "missing",
         "line": {
          "color": "blue",
          "width": 1
         },
         "name": "missing",
         "opacity": 1,
         "showlegend": false,
         "text": [
          "20262",
          "28058"
         ],
         "type": "scatter",
         "uid": "a3f46735-8509-4096-aa83-1fa7337a5d6b",
         "x": [
          32.2451,
          70.7765
         ],
         "y": [
          4.53326,
          9.61941
         ]
        },
        {
         "hoverinfo": "name+text",
         "legendgroup": "missing",
         "line": {
          "color": "blue",
          "width": 1
         },
         "name": "missing",
         "opacity": 1,
         "showlegend": false,
         "text": [
          "20764",
          "27487"
         ],
         "type": "scatter",
         "uid": "b05548b1-984c-409c-96dd-8a3a91545849",
         "x": [
          5.5706,
          10.5024
         ],
         "y": [
          31.671,
          72.0453
         ]
        },
        {
         "hoverinfo": "name+text",
         "legendgroup": "missing",
         "line": {
          "color": "blue",
          "width": 1
         },
         "name": "missing",
         "opacity": 1,
         "showlegend": false,
         "text": [
          "21265",
          "29504"
         ],
         "type": "scatter",
         "uid": "c8a7a298-4162-41db-9253-74f2f55d81b8",
         "x": [
          -31.6364,
          -70.206
         ],
         "y": [
          6.18379,
          14.1226
         ]
        },
        {
         "hoverinfo": "name+text",
         "legendgroup": "missing",
         "line": {
          "color": "blue",
          "width": 1
         },
         "name": "missing",
         "opacity": 1,
         "showlegend": false,
         "text": [
          "23536",
          "31418"
         ],
         "type": "scatter",
         "uid": "7dd8b89e-b488-46e1-abcc-7582eb6f5ffb",
         "x": [
          -30.9263,
          -68.8454
         ],
         "y": [
          9.9814,
          22.8573
         ]
        },
        {
         "hoverinfo": "name+text",
         "legendgroup": "missing",
         "line": {
          "color": "blue",
          "width": 1
         },
         "name": "missing",
         "opacity": 1,
         "showlegend": false,
         "text": [
          "27487",
          "34491"
         ],
         "type": "scatter",
         "uid": "3033fc64-738c-4bcc-9c42-89e54c3e1f14",
         "x": [
          10.5024,
          14.7116
         ],
         "y": [
          72.0453,
          114.108
         ]
        },
        {
         "hoverinfo": "name+text",
         "legendgroup": "missing",
         "line": {
          "color": "blue",
          "width": 1
         },
         "name": "missing",
         "opacity": 1,
         "showlegend": false,
         "text": [
          "27827",
          "35259"
         ],
         "type": "scatter",
         "uid": "2b15b89a-a1ab-4fd6-929c-b779494a1cb1",
         "x": [
          -9.16296,
          -14.2464
         ],
         "y": [
          -71.4937,
          -114.127
         ]
        },
        {
         "hoverinfo": "name+text",
         "legendgroup": "missing",
         "line": {
          "color": "blue",
          "width": 1
         },
         "name": "missing",
         "opacity": 1,
         "showlegend": false,
         "text": [
          "28058",
          "34877"
         ],
         "type": "scatter",
         "uid": "29b9a592-0fd2-4b52-a637-767e171186f2",
         "x": [
          70.7765,
          114.433
         ],
         "y": [
          9.61941,
          14.9217
         ]
        },
        {
         "hoverinfo": "name+text",
         "legendgroup": "missing",
         "line": {
          "color": "blue",
          "width": 1
         },
         "name": "missing",
         "opacity": 1,
         "showlegend": false,
         "text": [
          "29504",
          "42350"
         ],
         "type": "scatter",
         "uid": "c00c9eb8-c632-4c73-a002-7c8cbe4ed012",
         "x": [
          -70.206,
          -168.155
         ],
         "y": [
          14.1226,
          36.3725
         ]
        },
        {
         "hoverinfo": "name+text",
         "legendgroup": "missing",
         "line": {
          "color": "blue",
          "width": 1
         },
         "name": "missing",
         "opacity": 1,
         "showlegend": false,
         "text": [
          "31418",
          "38524"
         ],
         "type": "scatter",
         "uid": "4278368d-e458-49f6-b64b-3b4c92b5074d",
         "x": [
          -68.8454,
          -109.987
         ],
         "y": [
          22.8573,
          37.6253
         ]
        },
        {
         "hoverinfo": "name+text",
         "legendgroup": "missing",
         "line": {
          "color": "blue",
          "width": 1
         },
         "name": "missing",
         "opacity": 1,
         "showlegend": false,
         "text": [
          "34491",
          "40865"
         ],
         "type": "scatter",
         "uid": "126c69b2-d713-4686-aba8-dd33448d1119",
         "x": [
          14.7116,
          18.992
         ],
         "y": [
          114.108,
          171.997
         ]
        },
        {
         "hoverinfo": "name+text",
         "legendgroup": "missing",
         "line": {
          "color": "blue",
          "width": 1
         },
         "name": "missing",
         "opacity": 1,
         "showlegend": false,
         "text": [
          "34877",
          "41146"
         ],
         "type": "scatter",
         "uid": "176a3cca-8a02-40cf-804f-1ac91e15530f",
         "x": [
          114.433,
          170.40099999999995
         ],
         "y": [
          14.9217,
          21.0637
         ]
        },
        {
         "hoverinfo": "name+text",
         "legendgroup": "missing",
         "line": {
          "color": "blue",
          "width": 1
         },
         "name": "missing",
         "opacity": 1,
         "showlegend": false,
         "text": [
          "38524",
          "45067"
         ],
         "type": "scatter",
         "uid": "cb42fbe5-2333-4c70-9290-12863a7b594e",
         "x": [
          -109.987,
          -161.876
         ],
         "y": [
          37.6253,
          57.4577
         ]
        },
        {
         "hoverinfo": "name+text",
         "legendgroup": "missing",
         "line": {
          "color": "blue",
          "width": 1
         },
         "name": "missing",
         "opacity": 1,
         "showlegend": false,
         "text": [
          "40865",
          "72549"
         ],
         "type": "scatter",
         "uid": "126f68a4-62d3-4f68-8d8d-80a45a20e5b3",
         "x": [
          18.992,
          22.298
         ],
         "y": [
          171.997,
          257.23400000000004
         ]
        },
        {
         "hoverinfo": "name+text",
         "legendgroup": "missing",
         "line": {
          "color": "blue",
          "width": 1
         },
         "name": "missing",
         "opacity": 1,
         "showlegend": false,
         "text": [
          "41146",
          "73201"
         ],
         "type": "scatter",
         "uid": "3209e16b-03c2-4aa3-b88e-6478ec0b3aba",
         "x": [
          170.40099999999995,
          258.338
         ],
         "y": [
          21.0637,
          29.1488
         ]
        },
        {
         "hoverinfo": "name+text",
         "legendgroup": "missing",
         "line": {
          "color": "blue",
          "width": 1
         },
         "name": "missing",
         "opacity": 1,
         "showlegend": false,
         "text": [
          "42350",
          "73830"
         ],
         "type": "scatter",
         "uid": "64a6009e-35f1-4196-9b2c-cc433524616c",
         "x": [
          -168.155,
          -255.151
         ],
         "y": [
          36.3725,
          58.8872
         ]
        },
        {
         "hoverinfo": "name+text",
         "legendgroup": "missing",
         "line": {
          "color": "blue",
          "width": 1
         },
         "name": "missing",
         "opacity": 1,
         "showlegend": false,
         "text": [
          "45067",
          "76902"
         ],
         "type": "scatter",
         "uid": "25ca320b-6f19-4caf-99dd-3a9930803d94",
         "x": [
          -161.876,
          -246.02
         ],
         "y": [
          57.4577,
          92.7332
         ]
        },
        {
         "hoverinfo": "name+text",
         "legendgroup": "missing",
         "line": {
          "color": "blue",
          "width": 1
         },
         "name": "missing",
         "opacity": 1,
         "showlegend": false,
         "text": [
          "72549",
          "79138"
         ],
         "type": "scatter",
         "uid": "294b6fbc-3c77-4725-a910-1cb4d3cea6e6",
         "x": [
          22.298,
          21.6577
         ],
         "y": [
          257.23400000000004,
          357.611
         ]
        },
        {
         "hoverinfo": "name+text",
         "legendgroup": "missing",
         "line": {
          "color": "blue",
          "width": 1
         },
         "name": "missing",
         "opacity": 1,
         "showlegend": false,
         "text": [
          "73201",
          "79641"
         ],
         "type": "scatter",
         "uid": "d9b63da6-7701-4c65-a074-9cb3b91ddd79",
         "x": [
          258.338,
          359.452
         ],
         "y": [
          29.1488,
          36.1999
         ]
        },
        {
         "hoverinfo": "name+text",
         "legendgroup": "missing",
         "line": {
          "color": "blue",
          "width": 1
         },
         "name": "missing",
         "opacity": 1,
         "showlegend": false,
         "text": [
          "73830",
          "80933"
         ],
         "type": "scatter",
         "uid": "9136c126-262d-4cf2-a16b-4691fca059bd",
         "x": [
          -255.151,
          -353.285
         ],
         "y": [
          58.8872,
          87.1991
         ]
        },
        {
         "hoverinfo": "name+text",
         "legendgroup": "missing",
         "line": {
          "color": "blue",
          "width": 1
         },
         "name": "missing",
         "opacity": 1,
         "showlegend": false,
         "text": [
          "76902",
          "83944"
         ],
         "type": "scatter",
         "uid": "ef7d663c-97a5-4d24-8c3c-08300b24a50e",
         "x": [
          -246.02,
          -333.426
         ],
         "y": [
          92.7332,
          133.519
         ]
        },
        {
         "hoverinfo": "name+text",
         "legendgroup": "missing",
         "line": {
          "color": "blue",
          "width": 1
         },
         "name": "missing",
         "opacity": 1,
         "showlegend": false,
         "text": [
          "79138",
          "85537"
         ],
         "type": "scatter",
         "uid": "30c2e27f-bb05-43b8-9a7c-0c7c446d37a5",
         "x": [
          21.6577,
          12.251
         ],
         "y": [
          357.611,
          496.648
         ]
        },
        {
         "hoverinfo": "name+text",
         "legendgroup": "missing",
         "line": {
          "color": "blue",
          "width": 1
         },
         "name": "missing",
         "opacity": 1,
         "showlegend": false,
         "text": [
          "79641",
          "86195"
         ],
         "type": "scatter",
         "uid": "51c1297e-4525-4b48-89c3-74c470cb0837",
         "x": [
          359.452,
          503.503
         ],
         "y": [
          36.1999,
          42.0709
         ]
        },
        {
         "hoverinfo": "name+text",
         "legendgroup": "missing",
         "line": {
          "color": "blue",
          "width": 1
         },
         "name": "missing",
         "opacity": 1,
         "showlegend": false,
         "text": [
          "79880",
          "86402"
         ],
         "type": "scatter",
         "uid": "904f531f-696c-4998-8431-a4cac0c8a91a",
         "x": [
          -38.3955,
          -47.3072
         ],
         "y": [
          -363.693,
          -495.195
         ]
        },
        {
         "hoverinfo": "name+text",
         "legendgroup": "missing",
         "line": {
          "color": "blue",
          "width": 1
         },
         "name": "missing",
         "opacity": 1,
         "showlegend": false,
         "text": [
          "80933",
          "87292"
         ],
         "type": "scatter",
         "uid": "82b1a15b-069b-48c0-bcab-07c3bb156c49",
         "x": [
          -353.285,
          -482.875
         ],
         "y": [
          87.1991,
          129.892
         ]
        },
        {
         "hoverinfo": "name+text",
         "legendgroup": "missing",
         "line": {
          "color": "blue",
          "width": 1
         },
         "name": "missing",
         "opacity": 1,
         "showlegend": false,
         "text": [
          "83944",
          "90803"
         ],
         "type": "scatter",
         "uid": "6e1b206e-6017-4e25-94ed-fe9677ca8639",
         "x": [
          -333.426,
          -459.273
         ],
         "y": [
          133.519,
          200.49400000000003
         ]
        },
        {
         "hoverinfo": "name+text",
         "legendgroup": "missing",
         "line": {
          "color": "blue",
          "width": 1
         },
         "name": "missing",
         "opacity": 1,
         "showlegend": false,
         "text": [
          "86195",
          "91955"
         ],
         "type": "scatter",
         "uid": "872e9a15-3849-43ff-abf5-038463f0d995",
         "x": [
          503.503,
          663.908
         ],
         "y": [
          42.0709,
          43.0984
         ]
        },
        {
         "hoverinfo": "name+text",
         "legendgroup": "missing",
         "line": {
          "color": "blue",
          "width": 1
         },
         "name": "missing",
         "opacity": 1,
         "showlegend": false,
         "text": [
          "86402",
          "92130"
         ],
         "type": "scatter",
         "uid": "3cdd4db0-7bee-4256-ab57-2081a65b9a2e",
         "x": [
          -47.3072,
          -54.4897
         ],
         "y": [
          -495.195,
          -654.254
         ]
        },
        {
         "hoverinfo": "name+text",
         "legendgroup": "missing",
         "line": {
          "color": "blue",
          "width": 1
         },
         "name": "missing",
         "opacity": 1,
         "showlegend": false,
         "text": [
          "87292",
          "93165"
         ],
         "type": "scatter",
         "uid": "e85d932a-6936-4a68-ad46-45d90dc2057a",
         "x": [
          -482.875,
          -633.385
         ],
         "y": [
          129.892,
          187.317
         ]
        },
        {
         "hoverinfo": "name+text",
         "legendgroup": "missing",
         "line": {
          "color": "blue",
          "width": 1
         },
         "name": "missing",
         "opacity": 1,
         "showlegend": false,
         "text": [
          "90803",
          "96934"
         ],
         "type": "scatter",
         "uid": "4d5cbddb-cd4a-4e4f-9135-d2e0cf3085ac",
         "x": [
          -459.273,
          -595.614
         ],
         "y": [
          200.49400000000003,
          284.758
         ]
        },
        {
         "hoverinfo": "name+text",
         "legendgroup": "missing",
         "line": {
          "color": "blue",
          "width": 1
         },
         "name": "missing",
         "opacity": 1,
         "showlegend": false,
         "text": [
          "91955",
          "107743"
         ],
         "type": "scatter",
         "uid": "7f022809-56c6-4c3c-89a8-162d75babb69",
         "x": [
          663.908,
          823.312
         ],
         "y": [
          43.0984,
          38.3265
         ]
        },
        {
         "hoverinfo": "name+text",
         "legendgroup": "missing",
         "line": {
          "color": "blue",
          "width": 1
         },
         "name": "missing",
         "opacity": 1,
         "showlegend": false,
         "text": [
          "93165",
          "109022"
         ],
         "type": "scatter",
         "uid": "8f8df54b-17cb-40f1-808a-b17046b29124",
         "x": [
          -633.385,
          -782.4169999999998
         ],
         "y": [
          187.317,
          252.867
         ]
        },
        {
         "hoverinfo": "name+text",
         "legendgroup": "missing",
         "line": {
          "color": "blue",
          "width": 1
         },
         "name": "missing",
         "opacity": 1,
         "showlegend": false,
         "text": [
          "109022",
          "114036"
         ],
         "type": "scatter",
         "uid": "46d040ce-49ae-43d7-b9be-48eb57807c65",
         "x": [
          -782.4169999999998,
          -962.827
         ],
         "y": [
          252.867,
          344.76199999999994
         ]
        }
       ],
       "layout": {
        "height": 800,
        "hovermode": "closest",
        "showlegend": true,
        "updatemenus": [
         {
          "buttons": [
           {
            "args": [
             "shapes",
             []
            ],
            "label": "hide layers",
            "method": "relayout"
           },
           {
            "args": [
             "shapes",
             [
              {
               "layer": "below",
               "line": {
                "color": "#ccc"
               },
               "opacity": 0.5,
               "type": "circle",
               "x0": -32,
               "x1": 32,
               "y0": -32,
               "y1": 32
              },
              {
               "layer": "below",
               "line": {
                "color": "#ccc"
               },
               "opacity": 0.5,
               "type": "circle",
               "x0": -72,
               "x1": 72,
               "y0": -72,
               "y1": 72
              },
              {
               "layer": "below",
               "line": {
                "color": "#ccc"
               },
               "opacity": 0.5,
               "type": "circle",
               "x0": -116,
               "x1": 116,
               "y0": -116,
               "y1": 116
              },
              {
               "layer": "below",
               "line": {
                "color": "#ccc"
               },
               "opacity": 0.5,
               "type": "circle",
               "x0": -172,
               "x1": 172,
               "y0": -172,
               "y1": 172
              },
              {
               "layer": "below",
               "line": {
                "color": "#cccc8d"
               },
               "opacity": 0.5,
               "type": "circle",
               "x0": -260,
               "x1": 260,
               "y0": -260,
               "y1": 260
              },
              {
               "layer": "below",
               "line": {
                "color": "#cccc8d"
               },
               "opacity": 0.5,
               "type": "circle",
               "x0": -360,
               "x1": 360,
               "y0": -360,
               "y1": 360
              },
              {
               "layer": "below",
               "line": {
                "color": "#cccc8d"
               },
               "opacity": 0.5,
               "type": "circle",
               "x0": -500,
               "x1": 500,
               "y0": -500,
               "y1": 500
              },
              {
               "layer": "below",
               "line": {
                "color": "#cccc8d"
               },
               "opacity": 0.5,
               "type": "circle",
               "x0": -660,
               "x1": 660,
               "y0": -660,
               "y1": 660
              },
              {
               "layer": "below",
               "line": {
                "color": "#ccc"
               },
               "opacity": 0.5,
               "type": "circle",
               "x0": -820,
               "x1": 820,
               "y0": -820,
               "y1": 820
              },
              {
               "layer": "below",
               "line": {
                "color": "#ccc"
               },
               "opacity": 0.5,
               "type": "circle",
               "x0": -1020,
               "x1": 1020,
               "y0": -1020,
               "y1": 1020
              }
             ]
            ],
            "label": "show layers",
            "method": "relayout"
           }
          ],
          "direction": "left",
          "pad": {
           "l": 0.1
          },
          "type": "buttons",
          "xanchor": "left",
          "y": 1.1,
          "yanchor": "top"
         },
         {
          "buttons": [
           {
            "args": [
             {
              "mode": "markers+lines"
             }
            ],
            "label": "hits+tracks",
            "method": "update"
           },
           {
            "args": [
             {
              "mode": "markers"
             }
            ],
            "label": "hits only",
            "method": "update"
           }
          ],
          "direction": "left",
          "pad": {
           "l": 200
          },
          "type": "buttons",
          "xanchor": "left",
          "y": 1.1,
          "yanchor": "top"
         },
         {
          "buttons": [
           {
            "args": [
             "yaxis.scaleanchor",
             null
            ],
            "label": "free",
            "method": "relayout"
           },
           {
            "args": [
             "yaxis.scaleanchor",
             "x"
            ],
            "label": "fixed",
            "method": "relayout"
           }
          ],
          "direction": "left",
          "pad": {
           "l": 380
          },
          "type": "buttons",
          "xanchor": "left",
          "y": 1.1,
          "yanchor": "top"
         }
        ],
        "width": 800,
        "xaxis": {
         "title": "x"
        },
        "yaxis": {
         "title": "y"
        }
       }
      },
      "text/html": [
       "<div id=\"bec98631-7453-4cbf-8b2c-b744d2eb15ee\" style=\"height: 800px; width: 800px;\" class=\"plotly-graph-div\"></div><script type=\"text/javascript\">require([\"plotly\"], function(Plotly) { window.PLOTLYENV=window.PLOTLYENV || {};window.PLOTLYENV.BASE_URL=\"https://plot.ly\";Plotly.newPlot(\"bec98631-7453-4cbf-8b2c-b744d2eb15ee\", [{\"hoverinfo\": \"name+text\", \"legendgroup\": \"fake\", \"line\": {\"color\": \"red\", \"width\": 1}, \"name\": \"fake\", \"opacity\": 1, \"showlegend\": true, \"text\": [\"19698\", \"35259\"], \"x\": [-4.16977, -14.2464], \"y\": [-31.75, -114.127], \"type\": \"scatter\", \"uid\": \"442ada78-abf0-44d9-9fdc-08736788cc05\"}, {\"hoverinfo\": \"name+text\", \"legendgroup\": \"fake\", \"line\": {\"color\": \"red\", \"width\": 1}, \"name\": \"fake\", \"opacity\": 1, \"showlegend\": false, \"text\": [\"79880\", \"92130\"], \"x\": [-38.3955, -54.4897], \"y\": [-363.693, -654.254], \"type\": \"scatter\", \"uid\": \"354357f5-fe21-48ad-a585-7f532fcfc8a4\"}, {\"hoverinfo\": \"name+text\", \"legendgroup\": \"real\", \"line\": {\"color\": \"green\", \"width\": 1}, \"name\": \"real\", \"opacity\": 1, \"showlegend\": true, \"text\": [\"35259\", \"41464\"], \"x\": [-14.2464, -20.5217], \"y\": [-114.127, -170.169], \"type\": \"scatter\", \"uid\": \"dace320e-5ca3-49ab-a620-fc518a132d2d\"}, {\"hoverinfo\": \"name+text\", \"legendgroup\": \"real\", \"line\": {\"color\": \"green\", \"width\": 1}, \"name\": \"real\", \"opacity\": 1, \"showlegend\": false, \"text\": [\"41464\", \"73085\"], \"x\": [-20.5217, -29.116], \"y\": [-170.169, -255.648], \"type\": \"scatter\", \"uid\": \"e0acab5c-90bb-4afa-b339-24b697dc06f8\"}, {\"hoverinfo\": \"name+text\", \"legendgroup\": \"real\", \"line\": {\"color\": \"green\", \"width\": 1}, \"name\": \"real\", \"opacity\": 1, \"showlegend\": false, \"text\": [\"73085\", \"79880\"], \"x\": [-29.116, -38.3955], \"y\": [-255.648, -363.693], \"type\": \"scatter\", \"uid\": \"a2bea940-81dd-49cc-b28e-988be964aaff\"}, {\"hoverinfo\": \"name+text\", \"legendgroup\": \"real\", \"line\": {\"color\": \"green\", \"width\": 1}, \"name\": \"real\", \"opacity\": 1, \"showlegend\": false, \"text\": [\"92130\", \"107883\"], \"x\": [-54.4897, -57.8177], \"y\": [-654.254, -817.466], \"type\": \"scatter\", \"uid\": \"cfe30063-54a9-405b-9929-745baa2dc581\"}, {\"hoverinfo\": \"name+text\", \"legendgroup\": \"missing\", \"line\": {\"color\": \"blue\", \"width\": 1}, \"name\": \"missing\", \"opacity\": 1, \"showlegend\": true, \"text\": [\"19698\", \"27827\"], \"x\": [-4.16977, -9.16296], \"y\": [-31.75, -71.4937], \"type\": \"scatter\", \"uid\": \"9a9e4589-5d44-439e-9aa3-e3d618fd1872\"}, {\"hoverinfo\": \"name+text\", \"legendgroup\": \"missing\", \"line\": {\"color\": \"blue\", \"width\": 1}, \"name\": \"missing\", \"opacity\": 1, \"showlegend\": false, \"text\": [\"20262\", \"28058\"], \"x\": [32.2451, 70.7765], \"y\": [4.53326, 9.61941], \"type\": \"scatter\", \"uid\": \"a3f46735-8509-4096-aa83-1fa7337a5d6b\"}, {\"hoverinfo\": \"name+text\", \"legendgroup\": \"missing\", \"line\": {\"color\": \"blue\", \"width\": 1}, \"name\": \"missing\", \"opacity\": 1, \"showlegend\": false, \"text\": [\"20764\", \"27487\"], \"x\": [5.5706, 10.5024], \"y\": [31.671, 72.0453], \"type\": \"scatter\", \"uid\": \"b05548b1-984c-409c-96dd-8a3a91545849\"}, {\"hoverinfo\": \"name+text\", \"legendgroup\": \"missing\", \"line\": {\"color\": \"blue\", \"width\": 1}, \"name\": \"missing\", \"opacity\": 1, \"showlegend\": false, \"text\": [\"21265\", \"29504\"], \"x\": [-31.6364, -70.206], \"y\": [6.18379, 14.1226], \"type\": \"scatter\", \"uid\": \"c8a7a298-4162-41db-9253-74f2f55d81b8\"}, {\"hoverinfo\": \"name+text\", \"legendgroup\": \"missing\", \"line\": {\"color\": \"blue\", \"width\": 1}, \"name\": \"missing\", \"opacity\": 1, \"showlegend\": false, \"text\": [\"23536\", \"31418\"], \"x\": [-30.9263, -68.8454], \"y\": [9.9814, 22.8573], \"type\": \"scatter\", \"uid\": \"7dd8b89e-b488-46e1-abcc-7582eb6f5ffb\"}, {\"hoverinfo\": \"name+text\", \"legendgroup\": \"missing\", \"line\": {\"color\": \"blue\", \"width\": 1}, \"name\": \"missing\", \"opacity\": 1, \"showlegend\": false, \"text\": [\"27487\", \"34491\"], \"x\": [10.5024, 14.7116], \"y\": [72.0453, 114.108], \"type\": \"scatter\", \"uid\": \"3033fc64-738c-4bcc-9c42-89e54c3e1f14\"}, {\"hoverinfo\": \"name+text\", \"legendgroup\": \"missing\", \"line\": {\"color\": \"blue\", \"width\": 1}, \"name\": \"missing\", \"opacity\": 1, \"showlegend\": false, \"text\": [\"27827\", \"35259\"], \"x\": [-9.16296, -14.2464], \"y\": [-71.4937, -114.127], \"type\": \"scatter\", \"uid\": \"2b15b89a-a1ab-4fd6-929c-b779494a1cb1\"}, {\"hoverinfo\": \"name+text\", \"legendgroup\": \"missing\", \"line\": {\"color\": \"blue\", \"width\": 1}, \"name\": \"missing\", \"opacity\": 1, \"showlegend\": false, \"text\": [\"28058\", \"34877\"], \"x\": [70.7765, 114.433], \"y\": [9.61941, 14.9217], \"type\": \"scatter\", \"uid\": \"29b9a592-0fd2-4b52-a637-767e171186f2\"}, {\"hoverinfo\": \"name+text\", \"legendgroup\": \"missing\", \"line\": {\"color\": \"blue\", \"width\": 1}, \"name\": \"missing\", \"opacity\": 1, \"showlegend\": false, \"text\": [\"29504\", \"42350\"], \"x\": [-70.206, -168.155], \"y\": [14.1226, 36.3725], \"type\": \"scatter\", \"uid\": \"c00c9eb8-c632-4c73-a002-7c8cbe4ed012\"}, {\"hoverinfo\": \"name+text\", \"legendgroup\": \"missing\", \"line\": {\"color\": \"blue\", \"width\": 1}, \"name\": \"missing\", \"opacity\": 1, \"showlegend\": false, \"text\": [\"31418\", \"38524\"], \"x\": [-68.8454, -109.987], \"y\": [22.8573, 37.6253], \"type\": \"scatter\", \"uid\": \"4278368d-e458-49f6-b64b-3b4c92b5074d\"}, {\"hoverinfo\": \"name+text\", \"legendgroup\": \"missing\", \"line\": {\"color\": \"blue\", \"width\": 1}, \"name\": \"missing\", \"opacity\": 1, \"showlegend\": false, \"text\": [\"34491\", \"40865\"], \"x\": [14.7116, 18.992], \"y\": [114.108, 171.997], \"type\": \"scatter\", \"uid\": \"126c69b2-d713-4686-aba8-dd33448d1119\"}, {\"hoverinfo\": \"name+text\", \"legendgroup\": \"missing\", \"line\": {\"color\": \"blue\", \"width\": 1}, \"name\": \"missing\", \"opacity\": 1, \"showlegend\": false, \"text\": [\"34877\", \"41146\"], \"x\": [114.433, 170.40099999999995], \"y\": [14.9217, 21.0637], \"type\": \"scatter\", \"uid\": \"176a3cca-8a02-40cf-804f-1ac91e15530f\"}, {\"hoverinfo\": \"name+text\", \"legendgroup\": \"missing\", \"line\": {\"color\": \"blue\", \"width\": 1}, \"name\": \"missing\", \"opacity\": 1, \"showlegend\": false, \"text\": [\"38524\", \"45067\"], \"x\": [-109.987, -161.876], \"y\": [37.6253, 57.4577], \"type\": \"scatter\", \"uid\": \"cb42fbe5-2333-4c70-9290-12863a7b594e\"}, {\"hoverinfo\": \"name+text\", \"legendgroup\": \"missing\", \"line\": {\"color\": \"blue\", \"width\": 1}, \"name\": \"missing\", \"opacity\": 1, \"showlegend\": false, \"text\": [\"40865\", \"72549\"], \"x\": [18.992, 22.298], \"y\": [171.997, 257.23400000000004], \"type\": \"scatter\", \"uid\": \"126f68a4-62d3-4f68-8d8d-80a45a20e5b3\"}, {\"hoverinfo\": \"name+text\", \"legendgroup\": \"missing\", \"line\": {\"color\": \"blue\", \"width\": 1}, \"name\": \"missing\", \"opacity\": 1, \"showlegend\": false, \"text\": [\"41146\", \"73201\"], \"x\": [170.40099999999995, 258.338], \"y\": [21.0637, 29.1488], \"type\": \"scatter\", \"uid\": \"3209e16b-03c2-4aa3-b88e-6478ec0b3aba\"}, {\"hoverinfo\": \"name+text\", \"legendgroup\": \"missing\", \"line\": {\"color\": \"blue\", \"width\": 1}, \"name\": \"missing\", \"opacity\": 1, \"showlegend\": false, \"text\": [\"42350\", \"73830\"], \"x\": [-168.155, -255.151], \"y\": [36.3725, 58.8872], \"type\": \"scatter\", \"uid\": \"64a6009e-35f1-4196-9b2c-cc433524616c\"}, {\"hoverinfo\": \"name+text\", \"legendgroup\": \"missing\", \"line\": {\"color\": \"blue\", \"width\": 1}, \"name\": \"missing\", \"opacity\": 1, \"showlegend\": false, \"text\": [\"45067\", \"76902\"], \"x\": [-161.876, -246.02], \"y\": [57.4577, 92.7332], \"type\": \"scatter\", \"uid\": \"25ca320b-6f19-4caf-99dd-3a9930803d94\"}, {\"hoverinfo\": \"name+text\", \"legendgroup\": \"missing\", \"line\": {\"color\": \"blue\", \"width\": 1}, \"name\": \"missing\", \"opacity\": 1, \"showlegend\": false, \"text\": [\"72549\", \"79138\"], \"x\": [22.298, 21.6577], \"y\": [257.23400000000004, 357.611], \"type\": \"scatter\", \"uid\": \"294b6fbc-3c77-4725-a910-1cb4d3cea6e6\"}, {\"hoverinfo\": \"name+text\", \"legendgroup\": \"missing\", \"line\": {\"color\": \"blue\", \"width\": 1}, \"name\": \"missing\", \"opacity\": 1, \"showlegend\": false, \"text\": [\"73201\", \"79641\"], \"x\": [258.338, 359.452], \"y\": [29.1488, 36.1999], \"type\": \"scatter\", \"uid\": \"d9b63da6-7701-4c65-a074-9cb3b91ddd79\"}, {\"hoverinfo\": \"name+text\", \"legendgroup\": \"missing\", \"line\": {\"color\": \"blue\", \"width\": 1}, \"name\": \"missing\", \"opacity\": 1, \"showlegend\": false, \"text\": [\"73830\", \"80933\"], \"x\": [-255.151, -353.285], \"y\": [58.8872, 87.1991], \"type\": \"scatter\", \"uid\": \"9136c126-262d-4cf2-a16b-4691fca059bd\"}, {\"hoverinfo\": \"name+text\", \"legendgroup\": \"missing\", \"line\": {\"color\": \"blue\", \"width\": 1}, \"name\": \"missing\", \"opacity\": 1, \"showlegend\": false, \"text\": [\"76902\", \"83944\"], \"x\": [-246.02, -333.426], \"y\": [92.7332, 133.519], \"type\": \"scatter\", \"uid\": \"ef7d663c-97a5-4d24-8c3c-08300b24a50e\"}, {\"hoverinfo\": \"name+text\", \"legendgroup\": \"missing\", \"line\": {\"color\": \"blue\", \"width\": 1}, \"name\": \"missing\", \"opacity\": 1, \"showlegend\": false, \"text\": [\"79138\", \"85537\"], \"x\": [21.6577, 12.251], \"y\": [357.611, 496.648], \"type\": \"scatter\", \"uid\": \"30c2e27f-bb05-43b8-9a7c-0c7c446d37a5\"}, {\"hoverinfo\": \"name+text\", \"legendgroup\": \"missing\", \"line\": {\"color\": \"blue\", \"width\": 1}, \"name\": \"missing\", \"opacity\": 1, \"showlegend\": false, \"text\": [\"79641\", \"86195\"], \"x\": [359.452, 503.503], \"y\": [36.1999, 42.0709], \"type\": \"scatter\", \"uid\": \"51c1297e-4525-4b48-89c3-74c470cb0837\"}, {\"hoverinfo\": \"name+text\", \"legendgroup\": \"missing\", \"line\": {\"color\": \"blue\", \"width\": 1}, \"name\": \"missing\", \"opacity\": 1, \"showlegend\": false, \"text\": [\"79880\", \"86402\"], \"x\": [-38.3955, -47.3072], \"y\": [-363.693, -495.195], \"type\": \"scatter\", \"uid\": \"904f531f-696c-4998-8431-a4cac0c8a91a\"}, {\"hoverinfo\": \"name+text\", \"legendgroup\": \"missing\", \"line\": {\"color\": \"blue\", \"width\": 1}, \"name\": \"missing\", \"opacity\": 1, \"showlegend\": false, \"text\": [\"80933\", \"87292\"], \"x\": [-353.285, -482.875], \"y\": [87.1991, 129.892], \"type\": \"scatter\", \"uid\": \"82b1a15b-069b-48c0-bcab-07c3bb156c49\"}, {\"hoverinfo\": \"name+text\", \"legendgroup\": \"missing\", \"line\": {\"color\": \"blue\", \"width\": 1}, \"name\": \"missing\", \"opacity\": 1, \"showlegend\": false, \"text\": [\"83944\", \"90803\"], \"x\": [-333.426, -459.273], \"y\": [133.519, 200.49400000000003], \"type\": \"scatter\", \"uid\": \"6e1b206e-6017-4e25-94ed-fe9677ca8639\"}, {\"hoverinfo\": \"name+text\", \"legendgroup\": \"missing\", \"line\": {\"color\": \"blue\", \"width\": 1}, \"name\": \"missing\", \"opacity\": 1, \"showlegend\": false, \"text\": [\"86195\", \"91955\"], \"x\": [503.503, 663.908], \"y\": [42.0709, 43.0984], \"type\": \"scatter\", \"uid\": \"872e9a15-3849-43ff-abf5-038463f0d995\"}, {\"hoverinfo\": \"name+text\", \"legendgroup\": \"missing\", \"line\": {\"color\": \"blue\", \"width\": 1}, \"name\": \"missing\", \"opacity\": 1, \"showlegend\": false, \"text\": [\"86402\", \"92130\"], \"x\": [-47.3072, -54.4897], \"y\": [-495.195, -654.254], \"type\": \"scatter\", \"uid\": \"3cdd4db0-7bee-4256-ab57-2081a65b9a2e\"}, {\"hoverinfo\": \"name+text\", \"legendgroup\": \"missing\", \"line\": {\"color\": \"blue\", \"width\": 1}, \"name\": \"missing\", \"opacity\": 1, \"showlegend\": false, \"text\": [\"87292\", \"93165\"], \"x\": [-482.875, -633.385], \"y\": [129.892, 187.317], \"type\": \"scatter\", \"uid\": \"e85d932a-6936-4a68-ad46-45d90dc2057a\"}, {\"hoverinfo\": \"name+text\", \"legendgroup\": \"missing\", \"line\": {\"color\": \"blue\", \"width\": 1}, \"name\": \"missing\", \"opacity\": 1, \"showlegend\": false, \"text\": [\"90803\", \"96934\"], \"x\": [-459.273, -595.614], \"y\": [200.49400000000003, 284.758], \"type\": \"scatter\", \"uid\": \"4d5cbddb-cd4a-4e4f-9135-d2e0cf3085ac\"}, {\"hoverinfo\": \"name+text\", \"legendgroup\": \"missing\", \"line\": {\"color\": \"blue\", \"width\": 1}, \"name\": \"missing\", \"opacity\": 1, \"showlegend\": false, \"text\": [\"91955\", \"107743\"], \"x\": [663.908, 823.312], \"y\": [43.0984, 38.3265], \"type\": \"scatter\", \"uid\": \"7f022809-56c6-4c3c-89a8-162d75babb69\"}, {\"hoverinfo\": \"name+text\", \"legendgroup\": \"missing\", \"line\": {\"color\": \"blue\", \"width\": 1}, \"name\": \"missing\", \"opacity\": 1, \"showlegend\": false, \"text\": [\"93165\", \"109022\"], \"x\": [-633.385, -782.4169999999998], \"y\": [187.317, 252.867], \"type\": \"scatter\", \"uid\": \"8f8df54b-17cb-40f1-808a-b17046b29124\"}, {\"hoverinfo\": \"name+text\", \"legendgroup\": \"missing\", \"line\": {\"color\": \"blue\", \"width\": 1}, \"name\": \"missing\", \"opacity\": 1, \"showlegend\": false, \"text\": [\"109022\", \"114036\"], \"x\": [-782.4169999999998, -962.827], \"y\": [252.867, 344.76199999999994], \"type\": \"scatter\", \"uid\": \"46d040ce-49ae-43d7-b9be-48eb57807c65\"}], {\"height\": 800, \"hovermode\": \"closest\", \"showlegend\": true, \"updatemenus\": [{\"buttons\": [{\"args\": [\"shapes\", []], \"label\": \"hide layers\", \"method\": \"relayout\"}, {\"args\": [\"shapes\", [{\"type\": \"circle\", \"x0\": -32, \"x1\": 32, \"y0\": -32, \"y1\": 32, \"opacity\": 0.5, \"layer\": \"below\", \"line\": {\"color\": \"#ccc\"}}, {\"type\": \"circle\", \"x0\": -72, \"x1\": 72, \"y0\": -72, \"y1\": 72, \"opacity\": 0.5, \"layer\": \"below\", \"line\": {\"color\": \"#ccc\"}}, {\"type\": \"circle\", \"x0\": -116, \"x1\": 116, \"y0\": -116, \"y1\": 116, \"opacity\": 0.5, \"layer\": \"below\", \"line\": {\"color\": \"#ccc\"}}, {\"type\": \"circle\", \"x0\": -172, \"x1\": 172, \"y0\": -172, \"y1\": 172, \"opacity\": 0.5, \"layer\": \"below\", \"line\": {\"color\": \"#ccc\"}}, {\"type\": \"circle\", \"x0\": -260, \"x1\": 260, \"y0\": -260, \"y1\": 260, \"opacity\": 0.5, \"layer\": \"below\", \"line\": {\"color\": \"#cccc8d\"}}, {\"type\": \"circle\", \"x0\": -360, \"x1\": 360, \"y0\": -360, \"y1\": 360, \"opacity\": 0.5, \"layer\": \"below\", \"line\": {\"color\": \"#cccc8d\"}}, {\"type\": \"circle\", \"x0\": -500, \"x1\": 500, \"y0\": -500, \"y1\": 500, \"opacity\": 0.5, \"layer\": \"below\", \"line\": {\"color\": \"#cccc8d\"}}, {\"type\": \"circle\", \"x0\": -660, \"x1\": 660, \"y0\": -660, \"y1\": 660, \"opacity\": 0.5, \"layer\": \"below\", \"line\": {\"color\": \"#cccc8d\"}}, {\"type\": \"circle\", \"x0\": -820, \"x1\": 820, \"y0\": -820, \"y1\": 820, \"opacity\": 0.5, \"layer\": \"below\", \"line\": {\"color\": \"#ccc\"}}, {\"type\": \"circle\", \"x0\": -1020, \"x1\": 1020, \"y0\": -1020, \"y1\": 1020, \"opacity\": 0.5, \"layer\": \"below\", \"line\": {\"color\": \"#ccc\"}}]], \"label\": \"show layers\", \"method\": \"relayout\"}], \"direction\": \"left\", \"pad\": {\"l\": 0.1}, \"type\": \"buttons\", \"xanchor\": \"left\", \"y\": 1.1, \"yanchor\": \"top\"}, {\"buttons\": [{\"args\": [{\"mode\": \"markers+lines\"}], \"label\": \"hits+tracks\", \"method\": \"update\"}, {\"args\": [{\"mode\": \"markers\"}], \"label\": \"hits only\", \"method\": \"update\"}], \"direction\": \"left\", \"pad\": {\"l\": 200}, \"type\": \"buttons\", \"xanchor\": \"left\", \"y\": 1.1, \"yanchor\": \"top\"}, {\"buttons\": [{\"args\": [\"yaxis.scaleanchor\", null], \"label\": \"free\", \"method\": \"relayout\"}, {\"args\": [\"yaxis.scaleanchor\", \"x\"], \"label\": \"fixed\", \"method\": \"relayout\"}], \"direction\": \"left\", \"pad\": {\"l\": 380}, \"type\": \"buttons\", \"xanchor\": \"left\", \"y\": 1.1, \"yanchor\": \"top\"}], \"width\": 800, \"xaxis\": {\"title\": \"x\"}, \"yaxis\": {\"title\": \"y\"}}, {\"showLink\": true, \"linkText\": \"Export to plot.ly\", \"plotlyServerURL\": \"https://plot.ly\"})});</script>"
      ],
      "text/vnd.plotly.v1+html": [
       "<div id=\"bec98631-7453-4cbf-8b2c-b744d2eb15ee\" style=\"height: 800px; width: 800px;\" class=\"plotly-graph-div\"></div><script type=\"text/javascript\">require([\"plotly\"], function(Plotly) { window.PLOTLYENV=window.PLOTLYENV || {};window.PLOTLYENV.BASE_URL=\"https://plot.ly\";Plotly.newPlot(\"bec98631-7453-4cbf-8b2c-b744d2eb15ee\", [{\"hoverinfo\": \"name+text\", \"legendgroup\": \"fake\", \"line\": {\"color\": \"red\", \"width\": 1}, \"name\": \"fake\", \"opacity\": 1, \"showlegend\": true, \"text\": [\"19698\", \"35259\"], \"x\": [-4.16977, -14.2464], \"y\": [-31.75, -114.127], \"type\": \"scatter\", \"uid\": \"442ada78-abf0-44d9-9fdc-08736788cc05\"}, {\"hoverinfo\": \"name+text\", \"legendgroup\": \"fake\", \"line\": {\"color\": \"red\", \"width\": 1}, \"name\": \"fake\", \"opacity\": 1, \"showlegend\": false, \"text\": [\"79880\", \"92130\"], \"x\": [-38.3955, -54.4897], \"y\": [-363.693, -654.254], \"type\": \"scatter\", \"uid\": \"354357f5-fe21-48ad-a585-7f532fcfc8a4\"}, {\"hoverinfo\": \"name+text\", \"legendgroup\": \"real\", \"line\": {\"color\": \"green\", \"width\": 1}, \"name\": \"real\", \"opacity\": 1, \"showlegend\": true, \"text\": [\"35259\", \"41464\"], \"x\": [-14.2464, -20.5217], \"y\": [-114.127, -170.169], \"type\": \"scatter\", \"uid\": \"dace320e-5ca3-49ab-a620-fc518a132d2d\"}, {\"hoverinfo\": \"name+text\", \"legendgroup\": \"real\", \"line\": {\"color\": \"green\", \"width\": 1}, \"name\": \"real\", \"opacity\": 1, \"showlegend\": false, \"text\": [\"41464\", \"73085\"], \"x\": [-20.5217, -29.116], \"y\": [-170.169, -255.648], \"type\": \"scatter\", \"uid\": \"e0acab5c-90bb-4afa-b339-24b697dc06f8\"}, {\"hoverinfo\": \"name+text\", \"legendgroup\": \"real\", \"line\": {\"color\": \"green\", \"width\": 1}, \"name\": \"real\", \"opacity\": 1, \"showlegend\": false, \"text\": [\"73085\", \"79880\"], \"x\": [-29.116, -38.3955], \"y\": [-255.648, -363.693], \"type\": \"scatter\", \"uid\": \"a2bea940-81dd-49cc-b28e-988be964aaff\"}, {\"hoverinfo\": \"name+text\", \"legendgroup\": \"real\", \"line\": {\"color\": \"green\", \"width\": 1}, \"name\": \"real\", \"opacity\": 1, \"showlegend\": false, \"text\": [\"92130\", \"107883\"], \"x\": [-54.4897, -57.8177], \"y\": [-654.254, -817.466], \"type\": \"scatter\", \"uid\": \"cfe30063-54a9-405b-9929-745baa2dc581\"}, {\"hoverinfo\": \"name+text\", \"legendgroup\": \"missing\", \"line\": {\"color\": \"blue\", \"width\": 1}, \"name\": \"missing\", \"opacity\": 1, \"showlegend\": true, \"text\": [\"19698\", \"27827\"], \"x\": [-4.16977, -9.16296], \"y\": [-31.75, -71.4937], \"type\": \"scatter\", \"uid\": \"9a9e4589-5d44-439e-9aa3-e3d618fd1872\"}, {\"hoverinfo\": \"name+text\", \"legendgroup\": \"missing\", \"line\": {\"color\": \"blue\", \"width\": 1}, \"name\": \"missing\", \"opacity\": 1, \"showlegend\": false, \"text\": [\"20262\", \"28058\"], \"x\": [32.2451, 70.7765], \"y\": [4.53326, 9.61941], \"type\": \"scatter\", \"uid\": \"a3f46735-8509-4096-aa83-1fa7337a5d6b\"}, {\"hoverinfo\": \"name+text\", \"legendgroup\": \"missing\", \"line\": {\"color\": \"blue\", \"width\": 1}, \"name\": \"missing\", \"opacity\": 1, \"showlegend\": false, \"text\": [\"20764\", \"27487\"], \"x\": [5.5706, 10.5024], \"y\": [31.671, 72.0453], \"type\": \"scatter\", \"uid\": \"b05548b1-984c-409c-96dd-8a3a91545849\"}, {\"hoverinfo\": \"name+text\", \"legendgroup\": \"missing\", \"line\": {\"color\": \"blue\", \"width\": 1}, \"name\": \"missing\", \"opacity\": 1, \"showlegend\": false, \"text\": [\"21265\", \"29504\"], \"x\": [-31.6364, -70.206], \"y\": [6.18379, 14.1226], \"type\": \"scatter\", \"uid\": \"c8a7a298-4162-41db-9253-74f2f55d81b8\"}, {\"hoverinfo\": \"name+text\", \"legendgroup\": \"missing\", \"line\": {\"color\": \"blue\", \"width\": 1}, \"name\": \"missing\", \"opacity\": 1, \"showlegend\": false, \"text\": [\"23536\", \"31418\"], \"x\": [-30.9263, -68.8454], \"y\": [9.9814, 22.8573], \"type\": \"scatter\", \"uid\": \"7dd8b89e-b488-46e1-abcc-7582eb6f5ffb\"}, {\"hoverinfo\": \"name+text\", \"legendgroup\": \"missing\", \"line\": {\"color\": \"blue\", \"width\": 1}, \"name\": \"missing\", \"opacity\": 1, \"showlegend\": false, \"text\": [\"27487\", \"34491\"], \"x\": [10.5024, 14.7116], \"y\": [72.0453, 114.108], \"type\": \"scatter\", \"uid\": \"3033fc64-738c-4bcc-9c42-89e54c3e1f14\"}, {\"hoverinfo\": \"name+text\", \"legendgroup\": \"missing\", \"line\": {\"color\": \"blue\", \"width\": 1}, \"name\": \"missing\", \"opacity\": 1, \"showlegend\": false, \"text\": [\"27827\", \"35259\"], \"x\": [-9.16296, -14.2464], \"y\": [-71.4937, -114.127], \"type\": \"scatter\", \"uid\": \"2b15b89a-a1ab-4fd6-929c-b779494a1cb1\"}, {\"hoverinfo\": \"name+text\", \"legendgroup\": \"missing\", \"line\": {\"color\": \"blue\", \"width\": 1}, \"name\": \"missing\", \"opacity\": 1, \"showlegend\": false, \"text\": [\"28058\", \"34877\"], \"x\": [70.7765, 114.433], \"y\": [9.61941, 14.9217], \"type\": \"scatter\", \"uid\": \"29b9a592-0fd2-4b52-a637-767e171186f2\"}, {\"hoverinfo\": \"name+text\", \"legendgroup\": \"missing\", \"line\": {\"color\": \"blue\", \"width\": 1}, \"name\": \"missing\", \"opacity\": 1, \"showlegend\": false, \"text\": [\"29504\", \"42350\"], \"x\": [-70.206, -168.155], \"y\": [14.1226, 36.3725], \"type\": \"scatter\", \"uid\": \"c00c9eb8-c632-4c73-a002-7c8cbe4ed012\"}, {\"hoverinfo\": \"name+text\", \"legendgroup\": \"missing\", \"line\": {\"color\": \"blue\", \"width\": 1}, \"name\": \"missing\", \"opacity\": 1, \"showlegend\": false, \"text\": [\"31418\", \"38524\"], \"x\": [-68.8454, -109.987], \"y\": [22.8573, 37.6253], \"type\": \"scatter\", \"uid\": \"4278368d-e458-49f6-b64b-3b4c92b5074d\"}, {\"hoverinfo\": \"name+text\", \"legendgroup\": \"missing\", \"line\": {\"color\": \"blue\", \"width\": 1}, \"name\": \"missing\", \"opacity\": 1, \"showlegend\": false, \"text\": [\"34491\", \"40865\"], \"x\": [14.7116, 18.992], \"y\": [114.108, 171.997], \"type\": \"scatter\", \"uid\": \"126c69b2-d713-4686-aba8-dd33448d1119\"}, {\"hoverinfo\": \"name+text\", \"legendgroup\": \"missing\", \"line\": {\"color\": \"blue\", \"width\": 1}, \"name\": \"missing\", \"opacity\": 1, \"showlegend\": false, \"text\": [\"34877\", \"41146\"], \"x\": [114.433, 170.40099999999995], \"y\": [14.9217, 21.0637], \"type\": \"scatter\", \"uid\": \"176a3cca-8a02-40cf-804f-1ac91e15530f\"}, {\"hoverinfo\": \"name+text\", \"legendgroup\": \"missing\", \"line\": {\"color\": \"blue\", \"width\": 1}, \"name\": \"missing\", \"opacity\": 1, \"showlegend\": false, \"text\": [\"38524\", \"45067\"], \"x\": [-109.987, -161.876], \"y\": [37.6253, 57.4577], \"type\": \"scatter\", \"uid\": \"cb42fbe5-2333-4c70-9290-12863a7b594e\"}, {\"hoverinfo\": \"name+text\", \"legendgroup\": \"missing\", \"line\": {\"color\": \"blue\", \"width\": 1}, \"name\": \"missing\", \"opacity\": 1, \"showlegend\": false, \"text\": [\"40865\", \"72549\"], \"x\": [18.992, 22.298], \"y\": [171.997, 257.23400000000004], \"type\": \"scatter\", \"uid\": \"126f68a4-62d3-4f68-8d8d-80a45a20e5b3\"}, {\"hoverinfo\": \"name+text\", \"legendgroup\": \"missing\", \"line\": {\"color\": \"blue\", \"width\": 1}, \"name\": \"missing\", \"opacity\": 1, \"showlegend\": false, \"text\": [\"41146\", \"73201\"], \"x\": [170.40099999999995, 258.338], \"y\": [21.0637, 29.1488], \"type\": \"scatter\", \"uid\": \"3209e16b-03c2-4aa3-b88e-6478ec0b3aba\"}, {\"hoverinfo\": \"name+text\", \"legendgroup\": \"missing\", \"line\": {\"color\": \"blue\", \"width\": 1}, \"name\": \"missing\", \"opacity\": 1, \"showlegend\": false, \"text\": [\"42350\", \"73830\"], \"x\": [-168.155, -255.151], \"y\": [36.3725, 58.8872], \"type\": \"scatter\", \"uid\": \"64a6009e-35f1-4196-9b2c-cc433524616c\"}, {\"hoverinfo\": \"name+text\", \"legendgroup\": \"missing\", \"line\": {\"color\": \"blue\", \"width\": 1}, \"name\": \"missing\", \"opacity\": 1, \"showlegend\": false, \"text\": [\"45067\", \"76902\"], \"x\": [-161.876, -246.02], \"y\": [57.4577, 92.7332], \"type\": \"scatter\", \"uid\": \"25ca320b-6f19-4caf-99dd-3a9930803d94\"}, {\"hoverinfo\": \"name+text\", \"legendgroup\": \"missing\", \"line\": {\"color\": \"blue\", \"width\": 1}, \"name\": \"missing\", \"opacity\": 1, \"showlegend\": false, \"text\": [\"72549\", \"79138\"], \"x\": [22.298, 21.6577], \"y\": [257.23400000000004, 357.611], \"type\": \"scatter\", \"uid\": \"294b6fbc-3c77-4725-a910-1cb4d3cea6e6\"}, {\"hoverinfo\": \"name+text\", \"legendgroup\": \"missing\", \"line\": {\"color\": \"blue\", \"width\": 1}, \"name\": \"missing\", \"opacity\": 1, \"showlegend\": false, \"text\": [\"73201\", \"79641\"], \"x\": [258.338, 359.452], \"y\": [29.1488, 36.1999], \"type\": \"scatter\", \"uid\": \"d9b63da6-7701-4c65-a074-9cb3b91ddd79\"}, {\"hoverinfo\": \"name+text\", \"legendgroup\": \"missing\", \"line\": {\"color\": \"blue\", \"width\": 1}, \"name\": \"missing\", \"opacity\": 1, \"showlegend\": false, \"text\": [\"73830\", \"80933\"], \"x\": [-255.151, -353.285], \"y\": [58.8872, 87.1991], \"type\": \"scatter\", \"uid\": \"9136c126-262d-4cf2-a16b-4691fca059bd\"}, {\"hoverinfo\": \"name+text\", \"legendgroup\": \"missing\", \"line\": {\"color\": \"blue\", \"width\": 1}, \"name\": \"missing\", \"opacity\": 1, \"showlegend\": false, \"text\": [\"76902\", \"83944\"], \"x\": [-246.02, -333.426], \"y\": [92.7332, 133.519], \"type\": \"scatter\", \"uid\": \"ef7d663c-97a5-4d24-8c3c-08300b24a50e\"}, {\"hoverinfo\": \"name+text\", \"legendgroup\": \"missing\", \"line\": {\"color\": \"blue\", \"width\": 1}, \"name\": \"missing\", \"opacity\": 1, \"showlegend\": false, \"text\": [\"79138\", \"85537\"], \"x\": [21.6577, 12.251], \"y\": [357.611, 496.648], \"type\": \"scatter\", \"uid\": \"30c2e27f-bb05-43b8-9a7c-0c7c446d37a5\"}, {\"hoverinfo\": \"name+text\", \"legendgroup\": \"missing\", \"line\": {\"color\": \"blue\", \"width\": 1}, \"name\": \"missing\", \"opacity\": 1, \"showlegend\": false, \"text\": [\"79641\", \"86195\"], \"x\": [359.452, 503.503], \"y\": [36.1999, 42.0709], \"type\": \"scatter\", \"uid\": \"51c1297e-4525-4b48-89c3-74c470cb0837\"}, {\"hoverinfo\": \"name+text\", \"legendgroup\": \"missing\", \"line\": {\"color\": \"blue\", \"width\": 1}, \"name\": \"missing\", \"opacity\": 1, \"showlegend\": false, \"text\": [\"79880\", \"86402\"], \"x\": [-38.3955, -47.3072], \"y\": [-363.693, -495.195], \"type\": \"scatter\", \"uid\": \"904f531f-696c-4998-8431-a4cac0c8a91a\"}, {\"hoverinfo\": \"name+text\", \"legendgroup\": \"missing\", \"line\": {\"color\": \"blue\", \"width\": 1}, \"name\": \"missing\", \"opacity\": 1, \"showlegend\": false, \"text\": [\"80933\", \"87292\"], \"x\": [-353.285, -482.875], \"y\": [87.1991, 129.892], \"type\": \"scatter\", \"uid\": \"82b1a15b-069b-48c0-bcab-07c3bb156c49\"}, {\"hoverinfo\": \"name+text\", \"legendgroup\": \"missing\", \"line\": {\"color\": \"blue\", \"width\": 1}, \"name\": \"missing\", \"opacity\": 1, \"showlegend\": false, \"text\": [\"83944\", \"90803\"], \"x\": [-333.426, -459.273], \"y\": [133.519, 200.49400000000003], \"type\": \"scatter\", \"uid\": \"6e1b206e-6017-4e25-94ed-fe9677ca8639\"}, {\"hoverinfo\": \"name+text\", \"legendgroup\": \"missing\", \"line\": {\"color\": \"blue\", \"width\": 1}, \"name\": \"missing\", \"opacity\": 1, \"showlegend\": false, \"text\": [\"86195\", \"91955\"], \"x\": [503.503, 663.908], \"y\": [42.0709, 43.0984], \"type\": \"scatter\", \"uid\": \"872e9a15-3849-43ff-abf5-038463f0d995\"}, {\"hoverinfo\": \"name+text\", \"legendgroup\": \"missing\", \"line\": {\"color\": \"blue\", \"width\": 1}, \"name\": \"missing\", \"opacity\": 1, \"showlegend\": false, \"text\": [\"86402\", \"92130\"], \"x\": [-47.3072, -54.4897], \"y\": [-495.195, -654.254], \"type\": \"scatter\", \"uid\": \"3cdd4db0-7bee-4256-ab57-2081a65b9a2e\"}, {\"hoverinfo\": \"name+text\", \"legendgroup\": \"missing\", \"line\": {\"color\": \"blue\", \"width\": 1}, \"name\": \"missing\", \"opacity\": 1, \"showlegend\": false, \"text\": [\"87292\", \"93165\"], \"x\": [-482.875, -633.385], \"y\": [129.892, 187.317], \"type\": \"scatter\", \"uid\": \"e85d932a-6936-4a68-ad46-45d90dc2057a\"}, {\"hoverinfo\": \"name+text\", \"legendgroup\": \"missing\", \"line\": {\"color\": \"blue\", \"width\": 1}, \"name\": \"missing\", \"opacity\": 1, \"showlegend\": false, \"text\": [\"90803\", \"96934\"], \"x\": [-459.273, -595.614], \"y\": [200.49400000000003, 284.758], \"type\": \"scatter\", \"uid\": \"4d5cbddb-cd4a-4e4f-9135-d2e0cf3085ac\"}, {\"hoverinfo\": \"name+text\", \"legendgroup\": \"missing\", \"line\": {\"color\": \"blue\", \"width\": 1}, \"name\": \"missing\", \"opacity\": 1, \"showlegend\": false, \"text\": [\"91955\", \"107743\"], \"x\": [663.908, 823.312], \"y\": [43.0984, 38.3265], \"type\": \"scatter\", \"uid\": \"7f022809-56c6-4c3c-89a8-162d75babb69\"}, {\"hoverinfo\": \"name+text\", \"legendgroup\": \"missing\", \"line\": {\"color\": \"blue\", \"width\": 1}, \"name\": \"missing\", \"opacity\": 1, \"showlegend\": false, \"text\": [\"93165\", \"109022\"], \"x\": [-633.385, -782.4169999999998], \"y\": [187.317, 252.867], \"type\": \"scatter\", \"uid\": \"8f8df54b-17cb-40f1-808a-b17046b29124\"}, {\"hoverinfo\": \"name+text\", \"legendgroup\": \"missing\", \"line\": {\"color\": \"blue\", \"width\": 1}, \"name\": \"missing\", \"opacity\": 1, \"showlegend\": false, \"text\": [\"109022\", \"114036\"], \"x\": [-782.4169999999998, -962.827], \"y\": [252.867, 344.76199999999994], \"type\": \"scatter\", \"uid\": \"46d040ce-49ae-43d7-b9be-48eb57807c65\"}], {\"height\": 800, \"hovermode\": \"closest\", \"showlegend\": true, \"updatemenus\": [{\"buttons\": [{\"args\": [\"shapes\", []], \"label\": \"hide layers\", \"method\": \"relayout\"}, {\"args\": [\"shapes\", [{\"type\": \"circle\", \"x0\": -32, \"x1\": 32, \"y0\": -32, \"y1\": 32, \"opacity\": 0.5, \"layer\": \"below\", \"line\": {\"color\": \"#ccc\"}}, {\"type\": \"circle\", \"x0\": -72, \"x1\": 72, \"y0\": -72, \"y1\": 72, \"opacity\": 0.5, \"layer\": \"below\", \"line\": {\"color\": \"#ccc\"}}, {\"type\": \"circle\", \"x0\": -116, \"x1\": 116, \"y0\": -116, \"y1\": 116, \"opacity\": 0.5, \"layer\": \"below\", \"line\": {\"color\": \"#ccc\"}}, {\"type\": \"circle\", \"x0\": -172, \"x1\": 172, \"y0\": -172, \"y1\": 172, \"opacity\": 0.5, \"layer\": \"below\", \"line\": {\"color\": \"#ccc\"}}, {\"type\": \"circle\", \"x0\": -260, \"x1\": 260, \"y0\": -260, \"y1\": 260, \"opacity\": 0.5, \"layer\": \"below\", \"line\": {\"color\": \"#cccc8d\"}}, {\"type\": \"circle\", \"x0\": -360, \"x1\": 360, \"y0\": -360, \"y1\": 360, \"opacity\": 0.5, \"layer\": \"below\", \"line\": {\"color\": \"#cccc8d\"}}, {\"type\": \"circle\", \"x0\": -500, \"x1\": 500, \"y0\": -500, \"y1\": 500, \"opacity\": 0.5, \"layer\": \"below\", \"line\": {\"color\": \"#cccc8d\"}}, {\"type\": \"circle\", \"x0\": -660, \"x1\": 660, \"y0\": -660, \"y1\": 660, \"opacity\": 0.5, \"layer\": \"below\", \"line\": {\"color\": \"#cccc8d\"}}, {\"type\": \"circle\", \"x0\": -820, \"x1\": 820, \"y0\": -820, \"y1\": 820, \"opacity\": 0.5, \"layer\": \"below\", \"line\": {\"color\": \"#ccc\"}}, {\"type\": \"circle\", \"x0\": -1020, \"x1\": 1020, \"y0\": -1020, \"y1\": 1020, \"opacity\": 0.5, \"layer\": \"below\", \"line\": {\"color\": \"#ccc\"}}]], \"label\": \"show layers\", \"method\": \"relayout\"}], \"direction\": \"left\", \"pad\": {\"l\": 0.1}, \"type\": \"buttons\", \"xanchor\": \"left\", \"y\": 1.1, \"yanchor\": \"top\"}, {\"buttons\": [{\"args\": [{\"mode\": \"markers+lines\"}], \"label\": \"hits+tracks\", \"method\": \"update\"}, {\"args\": [{\"mode\": \"markers\"}], \"label\": \"hits only\", \"method\": \"update\"}], \"direction\": \"left\", \"pad\": {\"l\": 200}, \"type\": \"buttons\", \"xanchor\": \"left\", \"y\": 1.1, \"yanchor\": \"top\"}, {\"buttons\": [{\"args\": [\"yaxis.scaleanchor\", null], \"label\": \"free\", \"method\": \"relayout\"}, {\"args\": [\"yaxis.scaleanchor\", \"x\"], \"label\": \"fixed\", \"method\": \"relayout\"}], \"direction\": \"left\", \"pad\": {\"l\": 380}, \"type\": \"buttons\", \"xanchor\": \"left\", \"y\": 1.1, \"yanchor\": \"top\"}], \"width\": 800, \"xaxis\": {\"title\": \"x\"}, \"yaxis\": {\"title\": \"y\"}}, {\"showLink\": true, \"linkText\": \"Export to plot.ly\", \"plotlyServerURL\": \"https://plot.ly\"})});</script>"
      ]
     },
     "metadata": {},
     "output_type": "display_data"
    },
    {
     "data": {
      "application/vnd.plotly.v1+json": {
       "config": {
        "linkText": "Export to plot.ly",
        "plotlyServerURL": "https://plot.ly",
        "showLink": true
       },
       "data": [
        {
         "hoverinfo": "name+text",
         "legendgroup": "fake",
         "line": {
          "color": "red",
          "width": 1
         },
         "name": "fake",
         "opacity": 1,
         "showlegend": true,
         "text": [
          "19698",
          "35259"
         ],
         "type": "scatter",
         "uid": "21a1f193-d942-4a0e-9323-4a4261fedb26",
         "x": [
          -43.6337,
          -131.795
         ],
         "y": [
          32.02264014494901,
          115.01274730202735
         ]
        },
        {
         "hoverinfo": "name+text",
         "legendgroup": "fake",
         "line": {
          "color": "red",
          "width": 1
         },
         "name": "fake",
         "opacity": 1,
         "showlegend": false,
         "text": [
          "79880",
          "92130"
         ],
         "type": "scatter",
         "uid": "da7ea9fc-3e18-430a-9469-0a7eb5cf65fb",
         "x": [
          -398.2,
          -707.2
         ],
         "y": [
          365.71411330334246,
          656.5191725472228
         ]
        },
        {
         "hoverinfo": "name+text",
         "legendgroup": "real",
         "line": {
          "color": "green",
          "width": 1
         },
         "name": "real",
         "opacity": 1,
         "showlegend": true,
         "text": [
          "35259",
          "41464"
         ],
         "type": "scatter",
         "uid": "9676be87-a989-4c11-b42e-107b1886a805",
         "x": [
          -131.795,
          -191.758
         ],
         "y": [
          115.01274730202735,
          171.40195078204334
         ]
        },
        {
         "hoverinfo": "name+text",
         "legendgroup": "real",
         "line": {
          "color": "green",
          "width": 1
         },
         "name": "real",
         "opacity": 1,
         "showlegend": false,
         "text": [
          "41464",
          "73085"
         ],
         "type": "scatter",
         "uid": "0e872fd2-418c-48ff-9264-2ec5c3c63d02",
         "x": [
          -191.758,
          -283.2
         ],
         "y": [
          171.40195078204334,
          257.30068278183796
         ]
        },
        {
         "hoverinfo": "name+text",
         "legendgroup": "real",
         "line": {
          "color": "green",
          "width": 1
         },
         "name": "real",
         "opacity": 1,
         "showlegend": false,
         "text": [
          "73085",
          "79880"
         ],
         "type": "scatter",
         "uid": "a204597e-3c06-4184-bdde-1e7bd4fd4702",
         "x": [
          -283.2,
          -398.2
         ],
         "y": [
          257.30068278183796,
          365.71411330334246
         ]
        },
        {
         "hoverinfo": "name+text",
         "legendgroup": "real",
         "line": {
          "color": "green",
          "width": 1
         },
         "name": "real",
         "opacity": 1,
         "showlegend": false,
         "text": [
          "92130",
          "107883"
         ],
         "type": "scatter",
         "uid": "e40e474f-aa1c-40fd-b737-8818b9838f1c",
         "x": [
          -707.2,
          -878.4
         ],
         "y": [
          656.5191725472228,
          819.5081131930848
         ]
        },
        {
         "hoverinfo": "name+text",
         "legendgroup": "missing",
         "line": {
          "color": "blue",
          "width": 1
         },
         "name": "missing",
         "opacity": 1,
         "showlegend": true,
         "text": [
          "19698",
          "27827"
         ],
         "type": "scatter",
         "uid": "44fa3b8e-e6e9-4fbe-b8d2-4611b23a9e87",
         "x": [
          -43.6337,
          -86.1783
         ],
         "y": [
          32.02264014494901,
          72.07849176870727
         ]
        },
        {
         "hoverinfo": "name+text",
         "legendgroup": "missing",
         "line": {
          "color": "blue",
          "width": 1
         },
         "name": "missing",
         "opacity": 1,
         "showlegend": false,
         "text": [
          "20262",
          "28058"
         ],
         "type": "scatter",
         "uid": "4256b08c-e070-4a59-91d2-8b16a2aa86ce",
         "x": [
          -43.7904,
          -94.3151
         ],
         "y": [
          32.562200789221855,
          71.42720770825427
         ]
        },
        {
         "hoverinfo": "name+text",
         "legendgroup": "missing",
         "line": {
          "color": "blue",
          "width": 1
         },
         "name": "missing",
         "opacity": 1,
         "showlegend": false,
         "text": [
          "20764",
          "27487"
         ],
         "type": "scatter",
         "uid": "42d5e1e9-9e09-4c6a-9935-2e22110fda96",
         "x": [
          -67.8321,
          -145.30700000000004
         ],
         "y": [
          32.157173777557006,
          72.80676931336811
         ]
        },
        {
         "hoverinfo": "name+text",
         "legendgroup": "missing",
         "line": {
          "color": "blue",
          "width": 1
         },
         "name": "missing",
         "opacity": 1,
         "showlegend": false,
         "text": [
          "21265",
          "29504"
         ],
         "type": "scatter",
         "uid": "9b0dfe91-b8dc-4ac0-8755-0a00e8a80091",
         "x": [
          -24.6702,
          -46.6699
         ],
         "y": [
          32.23509056485029,
          71.61236113102264
         ]
        },
        {
         "hoverinfo": "name+text",
         "legendgroup": "missing",
         "line": {
          "color": "blue",
          "width": 1
         },
         "name": "missing",
         "opacity": 1,
         "showlegend": false,
         "text": [
          "23536",
          "31418"
         ],
         "type": "scatter",
         "uid": "961f1a2e-0f4b-4515-9c82-f43aaeeeac84",
         "x": [
          41.7502,
          99.58
         ],
         "y": [
          32.49714414606305,
          72.54064560265508
         ]
        },
        {
         "hoverinfo": "name+text",
         "legendgroup": "missing",
         "line": {
          "color": "blue",
          "width": 1
         },
         "name": "missing",
         "opacity": 1,
         "showlegend": false,
         "text": [
          "27487",
          "34491"
         ],
         "type": "scatter",
         "uid": "fd86afe3-9428-49be-931a-4d6c7a3ccb7b",
         "x": [
          -145.30700000000004,
          -225.866
         ],
         "y": [
          72.80676931336811,
          115.05245255343321
         ]
        },
        {
         "hoverinfo": "name+text",
         "legendgroup": "missing",
         "line": {
          "color": "blue",
          "width": 1
         },
         "name": "missing",
         "opacity": 1,
         "showlegend": false,
         "text": [
          "27827",
          "35259"
         ],
         "type": "scatter",
         "uid": "92ecce21-3949-4be9-ad15-f2f229a4a66e",
         "x": [
          -86.1783,
          -131.795
         ],
         "y": [
          72.07849176870727,
          115.01274730202735
         ]
        },
        {
         "hoverinfo": "name+text",
         "legendgroup": "missing",
         "line": {
          "color": "blue",
          "width": 1
         },
         "name": "missing",
         "opacity": 1,
         "showlegend": false,
         "text": [
          "28058",
          "34877"
         ],
         "type": "scatter",
         "uid": "a45bc3b3-3fa6-430e-87c9-f2c7fc83b829",
         "x": [
          -94.3151,
          -151.393
         ],
         "y": [
          71.42720770825427,
          115.4017704365492
         ]
        },
        {
         "hoverinfo": "name+text",
         "legendgroup": "missing",
         "line": {
          "color": "blue",
          "width": 1
         },
         "name": "missing",
         "opacity": 1,
         "showlegend": false,
         "text": [
          "29504",
          "42350"
         ],
         "type": "scatter",
         "uid": "0153d8cb-ffa6-4eb1-ae5e-894e52c74629",
         "x": [
          -46.6699,
          -102.632
         ],
         "y": [
          71.61236113102264,
          172.0437815826251
         ]
        },
        {
         "hoverinfo": "name+text",
         "legendgroup": "missing",
         "line": {
          "color": "blue",
          "width": 1
         },
         "name": "missing",
         "opacity": 1,
         "showlegend": false,
         "text": [
          "31418",
          "38524"
         ],
         "type": "scatter",
         "uid": "b1f59039-80e2-4a0e-a801-2b35c45d7f81",
         "x": [
          99.58,
          162.741
         ],
         "y": [
          72.54064560265508,
          116.24458425703108
         ]
        },
        {
         "hoverinfo": "name+text",
         "legendgroup": "missing",
         "line": {
          "color": "blue",
          "width": 1
         },
         "name": "missing",
         "opacity": 1,
         "showlegend": false,
         "text": [
          "34491",
          "40865"
         ],
         "type": "scatter",
         "uid": "faf5d0cc-782c-4d2b-9d71-fd75ee069d6e",
         "x": [
          -225.866,
          -336.397
         ],
         "y": [
          115.05245255343321,
          173.0423765237868
         ]
        },
        {
         "hoverinfo": "name+text",
         "legendgroup": "missing",
         "line": {
          "color": "blue",
          "width": 1
         },
         "name": "missing",
         "opacity": 1,
         "showlegend": false,
         "text": [
          "34877",
          "41146"
         ],
         "type": "scatter",
         "uid": "d2569909-4e70-411b-834b-34722206ca47",
         "x": [
          -151.393,
          -224.485
         ],
         "y": [
          115.4017704365492,
          171.697933181183
         ]
        },
        {
         "hoverinfo": "name+text",
         "legendgroup": "missing",
         "line": {
          "color": "blue",
          "width": 1
         },
         "name": "missing",
         "opacity": 1,
         "showlegend": false,
         "text": [
          "38524",
          "45067"
         ],
         "type": "scatter",
         "uid": "749840fc-7bdf-4bf3-b5f1-6ed0877d37ee",
         "x": [
          162.741,
          243.228
         ],
         "y": [
          116.24458425703108,
          171.77085511020198
         ]
        },
        {
         "hoverinfo": "name+text",
         "legendgroup": "missing",
         "line": {
          "color": "blue",
          "width": 1
         },
         "name": "missing",
         "opacity": 1,
         "showlegend": false,
         "text": [
          "40865",
          "72549"
         ],
         "type": "scatter",
         "uid": "14bd0399-0b78-4a1b-90b0-c07810d498c4",
         "x": [
          -336.397,
          -499.4
         ],
         "y": [
          173.0423765237868,
          258.1986281140936
         ]
        },
        {
         "hoverinfo": "name+text",
         "legendgroup": "missing",
         "line": {
          "color": "blue",
          "width": 1
         },
         "name": "missing",
         "opacity": 1,
         "showlegend": false,
         "text": [
          "41146",
          "73201"
         ],
         "type": "scatter",
         "uid": "e4f2ec45-c57a-4a77-80ae-a57f97e65c63",
         "x": [
          -224.485,
          -339
         ],
         "y": [
          171.697933181183,
          259.9772582081748
         ]
        },
        {
         "hoverinfo": "name+text",
         "legendgroup": "missing",
         "line": {
          "color": "blue",
          "width": 1
         },
         "name": "missing",
         "opacity": 1,
         "showlegend": false,
         "text": [
          "42350",
          "73830"
         ],
         "type": "scatter",
         "uid": "43edefe0-35b0-4c1b-b083-2a2174d755fc",
         "x": [
          -102.632,
          -152.6
         ],
         "y": [
          172.0437815826251,
          261.85823478523645
         ]
        },
        {
         "hoverinfo": "name+text",
         "legendgroup": "missing",
         "line": {
          "color": "blue",
          "width": 1
         },
         "name": "missing",
         "opacity": 1,
         "showlegend": false,
         "text": [
          "45067",
          "76902"
         ],
         "type": "scatter",
         "uid": "1c7a38aa-a80b-4c7c-875c-451640c1c8e1",
         "x": [
          243.228,
          375.4
         ],
         "y": [
          171.77085511020198,
          262.9168818890107
         ]
        },
        {
         "hoverinfo": "name+text",
         "legendgroup": "missing",
         "line": {
          "color": "blue",
          "width": 1
         },
         "name": "missing",
         "opacity": 1,
         "showlegend": false,
         "text": [
          "72549",
          "79138"
         ],
         "type": "scatter",
         "uid": "1b6de47f-19d6-431b-a0c3-016f3247335b",
         "x": [
          -499.4,
          -689.8
         ],
         "y": [
          258.1986281140936,
          358.26621846092326
         ]
        },
        {
         "hoverinfo": "name+text",
         "legendgroup": "missing",
         "line": {
          "color": "blue",
          "width": 1
         },
         "name": "missing",
         "opacity": 1,
         "showlegend": false,
         "text": [
          "73201",
          "79641"
         ],
         "type": "scatter",
         "uid": "fe1fbf71-928f-474b-875c-9406fef8f040",
         "x": [
          -339,
          -470.6
         ],
         "y": [
          259.9772582081748,
          361.27022166795035
         ]
        },
        {
         "hoverinfo": "name+text",
         "legendgroup": "missing",
         "line": {
          "color": "blue",
          "width": 1
         },
         "name": "missing",
         "opacity": 1,
         "showlegend": false,
         "text": [
          "73830",
          "80933"
         ],
         "type": "scatter",
         "uid": "77456dcb-4448-4d7d-934e-16dd6880742a",
         "x": [
          -152.6,
          -209.6
         ],
         "y": [
          261.85823478523645,
          363.8873098444215
         ]
        },
        {
         "hoverinfo": "name+text",
         "legendgroup": "missing",
         "line": {
          "color": "blue",
          "width": 1
         },
         "name": "missing",
         "opacity": 1,
         "showlegend": false,
         "text": [
          "76902",
          "83944"
         ],
         "type": "scatter",
         "uid": "6e1f52dd-44e0-4701-ab37-53b42eaefe6e",
         "x": [
          375.4,
          515.6
         ],
         "y": [
          262.9168818890107,
          359.1660073517537
         ]
        },
        {
         "hoverinfo": "name+text",
         "legendgroup": "missing",
         "line": {
          "color": "blue",
          "width": 1
         },
         "name": "missing",
         "opacity": 1,
         "showlegend": false,
         "text": [
          "79138",
          "85537"
         ],
         "type": "scatter",
         "uid": "5db93625-08b8-4eb9-b9b8-3c3fb9ff1ad3",
         "x": [
          -689.8,
          -955.8
         ],
         "y": [
          358.26621846092326,
          496.7990769969284
         ]
        },
        {
         "hoverinfo": "name+text",
         "legendgroup": "missing",
         "line": {
          "color": "blue",
          "width": 1
         },
         "name": "missing",
         "opacity": 1,
         "showlegend": false,
         "text": [
          "79641",
          "86195"
         ],
         "type": "scatter",
         "uid": "8c496bfe-e97a-4a72-9e54-c39ce591bb79",
         "x": [
          -470.6,
          -657.6
         ],
         "y": [
          361.27022166795035,
          505.25758938962014
         ]
        },
        {
         "hoverinfo": "name+text",
         "legendgroup": "missing",
         "line": {
          "color": "blue",
          "width": 1
         },
         "name": "missing",
         "opacity": 1,
         "showlegend": false,
         "text": [
          "79880",
          "86402"
         ],
         "type": "scatter",
         "uid": "d1498fd4-8c73-43a4-909a-4ee158bedae1",
         "x": [
          -398.2,
          -538.4
         ],
         "y": [
          365.71411330334246,
          497.4495544242049
         ]
        },
        {
         "hoverinfo": "name+text",
         "legendgroup": "missing",
         "line": {
          "color": "blue",
          "width": 1
         },
         "name": "missing",
         "opacity": 1,
         "showlegend": false,
         "text": [
          "80933",
          "87292"
         ],
         "type": "scatter",
         "uid": "500b458c-6461-4d0b-ae77-672d4331594b",
         "x": [
          -209.6,
          -285.6
         ],
         "y": [
          363.8873098444215,
          500.04019567330784
         ]
        },
        {
         "hoverinfo": "name+text",
         "legendgroup": "missing",
         "line": {
          "color": "blue",
          "width": 1
         },
         "name": "missing",
         "opacity": 1,
         "showlegend": false,
         "text": [
          "83944",
          "90803"
         ],
         "type": "scatter",
         "uid": "e8444858-83dc-422a-9018-e341f1b865a4",
         "x": [
          515.6,
          722.2
         ],
         "y": [
          359.1660073517537,
          501.1282595952857
         ]
        },
        {
         "hoverinfo": "name+text",
         "legendgroup": "missing",
         "line": {
          "color": "blue",
          "width": 1
         },
         "name": "missing",
         "opacity": 1,
         "showlegend": false,
         "text": [
          "86195",
          "91955"
         ],
         "type": "scatter",
         "uid": "d4fdac25-a316-43d6-9376-451a8bf39397",
         "x": [
          -657.6,
          -865.4
         ],
         "y": [
          505.25758938962014,
          665.3054220029776
         ]
        },
        {
         "hoverinfo": "name+text",
         "legendgroup": "missing",
         "line": {
          "color": "blue",
          "width": 1
         },
         "name": "missing",
         "opacity": 1,
         "showlegend": false,
         "text": [
          "86402",
          "92130"
         ],
         "type": "scatter",
         "uid": "7f47f96a-cf06-4f9a-beed-51bfb792a1bc",
         "x": [
          -538.4,
          -707.2
         ],
         "y": [
          497.4495544242049,
          656.5191725472228
         ]
        },
        {
         "hoverinfo": "name+text",
         "legendgroup": "missing",
         "line": {
          "color": "blue",
          "width": 1
         },
         "name": "missing",
         "opacity": 1,
         "showlegend": false,
         "text": [
          "87292",
          "93165"
         ],
         "type": "scatter",
         "uid": "345eb070-467d-43d3-a904-2ba7b5bb9797",
         "x": [
          -285.6,
          -375.4
         ],
         "y": [
          500.04019567330784,
          660.5030028046807
         ]
        },
        {
         "hoverinfo": "name+text",
         "legendgroup": "missing",
         "line": {
          "color": "blue",
          "width": 1
         },
         "name": "missing",
         "opacity": 1,
         "showlegend": false,
         "text": [
          "90803",
          "96934"
         ],
         "type": "scatter",
         "uid": "5e5d4f41-994f-4b50-bc7d-4c00193a1596",
         "x": [
          722.2,
          956
         ],
         "y": [
          501.1282595952857,
          660.1841830580312
         ]
        },
        {
         "hoverinfo": "name+text",
         "legendgroup": "missing",
         "line": {
          "color": "blue",
          "width": 1
         },
         "name": "missing",
         "opacity": 1,
         "showlegend": false,
         "text": [
          "91955",
          "107743"
         ],
         "type": "scatter",
         "uid": "8966377b-b559-4276-9134-103623391ad1",
         "x": [
          -865.4,
          -1067.8
         ],
         "y": [
          665.3054220029776,
          824.2035973873507
         ]
        },
        {
         "hoverinfo": "name+text",
         "legendgroup": "missing",
         "line": {
          "color": "blue",
          "width": 1
         },
         "name": "missing",
         "opacity": 1,
         "showlegend": false,
         "text": [
          "93165",
          "109022"
         ],
         "type": "scatter",
         "uid": "aedcf2d5-057f-4d50-a93f-0a05086a07d4",
         "x": [
          -375.4,
          -466.4
         ],
         "y": [
          660.5030028046807,
          822.2639974959379
         ]
        },
        {
         "hoverinfo": "name+text",
         "legendgroup": "missing",
         "line": {
          "color": "blue",
          "width": 1
         },
         "name": "missing",
         "opacity": 1,
         "showlegend": false,
         "text": [
          "109022",
          "114036"
         ],
         "type": "scatter",
         "uid": "464a4a13-0df3-4d96-a7b8-7bbd37cdce45",
         "x": [
          -466.4,
          -580.2
         ],
         "y": [
          822.2639974959379,
          1022.6908959079474
         ]
        }
       ],
       "layout": {
        "height": 800,
        "hovermode": "closest",
        "showlegend": true,
        "updatemenus": [
         {
          "buttons": [
           {
            "args": [
             "shapes",
             []
            ],
            "label": "hide layers",
            "method": "relayout"
           },
           {
            "args": [
             "shapes",
             [
              {
               "layer": "below",
               "line": {
                "color": "#ccc"
               },
               "opacity": 0.5,
               "type": "line",
               "x0": -455,
               "x1": 455,
               "y0": 32,
               "y1": 32
              },
              {
               "layer": "below",
               "line": {
                "color": "#ccc"
               },
               "opacity": 0.5,
               "type": "line",
               "x0": -455,
               "x1": 455,
               "y0": 72,
               "y1": 72
              },
              {
               "layer": "below",
               "line": {
                "color": "#ccc"
               },
               "opacity": 0.5,
               "type": "line",
               "x0": -455,
               "x1": 455,
               "y0": 116,
               "y1": 116
              },
              {
               "layer": "below",
               "line": {
                "color": "#ccc"
               },
               "opacity": 0.5,
               "type": "line",
               "x0": -455,
               "x1": 455,
               "y0": 172,
               "y1": 172
              },
              {
               "layer": "below",
               "line": {
                "color": "#cccc8d"
               },
               "opacity": 0.5,
               "type": "line",
               "x0": -1030,
               "x1": 1030,
               "y0": 260,
               "y1": 260
              },
              {
               "layer": "below",
               "line": {
                "color": "#cccc8d"
               },
               "opacity": 0.5,
               "type": "line",
               "x0": -1030,
               "x1": 1030,
               "y0": 360,
               "y1": 360
              },
              {
               "layer": "below",
               "line": {
                "color": "#cccc8d"
               },
               "opacity": 0.5,
               "type": "line",
               "x0": -1030,
               "x1": 1030,
               "y0": 500,
               "y1": 500
              },
              {
               "layer": "below",
               "line": {
                "color": "#cccc8d"
               },
               "opacity": 0.5,
               "type": "line",
               "x0": -1030,
               "x1": 1030,
               "y0": 660,
               "y1": 660
              },
              {
               "layer": "below",
               "line": {
                "color": "#ccc"
               },
               "opacity": 0.5,
               "type": "line",
               "x0": -1030,
               "x1": 1030,
               "y0": 820,
               "y1": 820
              },
              {
               "layer": "below",
               "line": {
                "color": "#ccc"
               },
               "opacity": 0.5,
               "type": "line",
               "x0": -1030,
               "x1": 1030,
               "y0": 1020,
               "y1": 1020
              }
             ]
            ],
            "label": "show layers",
            "method": "relayout"
           }
          ],
          "direction": "left",
          "pad": {
           "l": 0.1
          },
          "type": "buttons",
          "xanchor": "left",
          "y": 1.1,
          "yanchor": "top"
         },
         {
          "buttons": [
           {
            "args": [
             {
              "mode": "markers+lines"
             }
            ],
            "label": "hits+tracks",
            "method": "update"
           },
           {
            "args": [
             {
              "mode": "markers"
             }
            ],
            "label": "hits only",
            "method": "update"
           }
          ],
          "direction": "left",
          "pad": {
           "l": 200
          },
          "type": "buttons",
          "xanchor": "left",
          "y": 1.1,
          "yanchor": "top"
         },
         {
          "buttons": [
           {
            "args": [
             "yaxis.scaleanchor",
             null
            ],
            "label": "free",
            "method": "relayout"
           },
           {
            "args": [
             "yaxis.scaleanchor",
             "x"
            ],
            "label": "fixed",
            "method": "relayout"
           }
          ],
          "direction": "left",
          "pad": {
           "l": 380
          },
          "type": "buttons",
          "xanchor": "left",
          "y": 1.1,
          "yanchor": "top"
         }
        ],
        "width": 800,
        "xaxis": {
         "title": "z"
        },
        "yaxis": {
         "title": "r"
        }
       }
      },
      "text/html": [
       "<div id=\"a4f7cfc3-5417-4c64-ada8-d16f113b61ff\" style=\"height: 800px; width: 800px;\" class=\"plotly-graph-div\"></div><script type=\"text/javascript\">require([\"plotly\"], function(Plotly) { window.PLOTLYENV=window.PLOTLYENV || {};window.PLOTLYENV.BASE_URL=\"https://plot.ly\";Plotly.newPlot(\"a4f7cfc3-5417-4c64-ada8-d16f113b61ff\", [{\"hoverinfo\": \"name+text\", \"legendgroup\": \"fake\", \"line\": {\"color\": \"red\", \"width\": 1}, \"name\": \"fake\", \"opacity\": 1, \"showlegend\": true, \"text\": [\"19698\", \"35259\"], \"x\": [-43.6337, -131.795], \"y\": [32.02264014494901, 115.01274730202735], \"type\": \"scatter\", \"uid\": \"21a1f193-d942-4a0e-9323-4a4261fedb26\"}, {\"hoverinfo\": \"name+text\", \"legendgroup\": \"fake\", \"line\": {\"color\": \"red\", \"width\": 1}, \"name\": \"fake\", \"opacity\": 1, \"showlegend\": false, \"text\": [\"79880\", \"92130\"], \"x\": [-398.2, -707.2], \"y\": [365.71411330334246, 656.5191725472228], \"type\": \"scatter\", \"uid\": \"da7ea9fc-3e18-430a-9469-0a7eb5cf65fb\"}, {\"hoverinfo\": \"name+text\", \"legendgroup\": \"real\", \"line\": {\"color\": \"green\", \"width\": 1}, \"name\": \"real\", \"opacity\": 1, \"showlegend\": true, \"text\": [\"35259\", \"41464\"], \"x\": [-131.795, -191.758], \"y\": [115.01274730202735, 171.40195078204334], \"type\": \"scatter\", \"uid\": \"9676be87-a989-4c11-b42e-107b1886a805\"}, {\"hoverinfo\": \"name+text\", \"legendgroup\": \"real\", \"line\": {\"color\": \"green\", \"width\": 1}, \"name\": \"real\", \"opacity\": 1, \"showlegend\": false, \"text\": [\"41464\", \"73085\"], \"x\": [-191.758, -283.2], \"y\": [171.40195078204334, 257.30068278183796], \"type\": \"scatter\", \"uid\": \"0e872fd2-418c-48ff-9264-2ec5c3c63d02\"}, {\"hoverinfo\": \"name+text\", \"legendgroup\": \"real\", \"line\": {\"color\": \"green\", \"width\": 1}, \"name\": \"real\", \"opacity\": 1, \"showlegend\": false, \"text\": [\"73085\", \"79880\"], \"x\": [-283.2, -398.2], \"y\": [257.30068278183796, 365.71411330334246], \"type\": \"scatter\", \"uid\": \"a204597e-3c06-4184-bdde-1e7bd4fd4702\"}, {\"hoverinfo\": \"name+text\", \"legendgroup\": \"real\", \"line\": {\"color\": \"green\", \"width\": 1}, \"name\": \"real\", \"opacity\": 1, \"showlegend\": false, \"text\": [\"92130\", \"107883\"], \"x\": [-707.2, -878.4], \"y\": [656.5191725472228, 819.5081131930848], \"type\": \"scatter\", \"uid\": \"e40e474f-aa1c-40fd-b737-8818b9838f1c\"}, {\"hoverinfo\": \"name+text\", \"legendgroup\": \"missing\", \"line\": {\"color\": \"blue\", \"width\": 1}, \"name\": \"missing\", \"opacity\": 1, \"showlegend\": true, \"text\": [\"19698\", \"27827\"], \"x\": [-43.6337, -86.1783], \"y\": [32.02264014494901, 72.07849176870727], \"type\": \"scatter\", \"uid\": \"44fa3b8e-e6e9-4fbe-b8d2-4611b23a9e87\"}, {\"hoverinfo\": \"name+text\", \"legendgroup\": \"missing\", \"line\": {\"color\": \"blue\", \"width\": 1}, \"name\": \"missing\", \"opacity\": 1, \"showlegend\": false, \"text\": [\"20262\", \"28058\"], \"x\": [-43.7904, -94.3151], \"y\": [32.562200789221855, 71.42720770825427], \"type\": \"scatter\", \"uid\": \"4256b08c-e070-4a59-91d2-8b16a2aa86ce\"}, {\"hoverinfo\": \"name+text\", \"legendgroup\": \"missing\", \"line\": {\"color\": \"blue\", \"width\": 1}, \"name\": \"missing\", \"opacity\": 1, \"showlegend\": false, \"text\": [\"20764\", \"27487\"], \"x\": [-67.8321, -145.30700000000004], \"y\": [32.157173777557006, 72.80676931336811], \"type\": \"scatter\", \"uid\": \"42d5e1e9-9e09-4c6a-9935-2e22110fda96\"}, {\"hoverinfo\": \"name+text\", \"legendgroup\": \"missing\", \"line\": {\"color\": \"blue\", \"width\": 1}, \"name\": \"missing\", \"opacity\": 1, \"showlegend\": false, \"text\": [\"21265\", \"29504\"], \"x\": [-24.6702, -46.6699], \"y\": [32.23509056485029, 71.61236113102264], \"type\": \"scatter\", \"uid\": \"9b0dfe91-b8dc-4ac0-8755-0a00e8a80091\"}, {\"hoverinfo\": \"name+text\", \"legendgroup\": \"missing\", \"line\": {\"color\": \"blue\", \"width\": 1}, \"name\": \"missing\", \"opacity\": 1, \"showlegend\": false, \"text\": [\"23536\", \"31418\"], \"x\": [41.7502, 99.58], \"y\": [32.49714414606305, 72.54064560265508], \"type\": \"scatter\", \"uid\": \"961f1a2e-0f4b-4515-9c82-f43aaeeeac84\"}, {\"hoverinfo\": \"name+text\", \"legendgroup\": \"missing\", \"line\": {\"color\": \"blue\", \"width\": 1}, \"name\": \"missing\", \"opacity\": 1, \"showlegend\": false, \"text\": [\"27487\", \"34491\"], \"x\": [-145.30700000000004, -225.866], \"y\": [72.80676931336811, 115.05245255343321], \"type\": \"scatter\", \"uid\": \"fd86afe3-9428-49be-931a-4d6c7a3ccb7b\"}, {\"hoverinfo\": \"name+text\", \"legendgroup\": \"missing\", \"line\": {\"color\": \"blue\", \"width\": 1}, \"name\": \"missing\", \"opacity\": 1, \"showlegend\": false, \"text\": [\"27827\", \"35259\"], \"x\": [-86.1783, -131.795], \"y\": [72.07849176870727, 115.01274730202735], \"type\": \"scatter\", \"uid\": \"92ecce21-3949-4be9-ad15-f2f229a4a66e\"}, {\"hoverinfo\": \"name+text\", \"legendgroup\": \"missing\", \"line\": {\"color\": \"blue\", \"width\": 1}, \"name\": \"missing\", \"opacity\": 1, \"showlegend\": false, \"text\": [\"28058\", \"34877\"], \"x\": [-94.3151, -151.393], \"y\": [71.42720770825427, 115.4017704365492], \"type\": \"scatter\", \"uid\": \"a45bc3b3-3fa6-430e-87c9-f2c7fc83b829\"}, {\"hoverinfo\": \"name+text\", \"legendgroup\": \"missing\", \"line\": {\"color\": \"blue\", \"width\": 1}, \"name\": \"missing\", \"opacity\": 1, \"showlegend\": false, \"text\": [\"29504\", \"42350\"], \"x\": [-46.6699, -102.632], \"y\": [71.61236113102264, 172.0437815826251], \"type\": \"scatter\", \"uid\": \"0153d8cb-ffa6-4eb1-ae5e-894e52c74629\"}, {\"hoverinfo\": \"name+text\", \"legendgroup\": \"missing\", \"line\": {\"color\": \"blue\", \"width\": 1}, \"name\": \"missing\", \"opacity\": 1, \"showlegend\": false, \"text\": [\"31418\", \"38524\"], \"x\": [99.58, 162.741], \"y\": [72.54064560265508, 116.24458425703108], \"type\": \"scatter\", \"uid\": \"b1f59039-80e2-4a0e-a801-2b35c45d7f81\"}, {\"hoverinfo\": \"name+text\", \"legendgroup\": \"missing\", \"line\": {\"color\": \"blue\", \"width\": 1}, \"name\": \"missing\", \"opacity\": 1, \"showlegend\": false, \"text\": [\"34491\", \"40865\"], \"x\": [-225.866, -336.397], \"y\": [115.05245255343321, 173.0423765237868], \"type\": \"scatter\", \"uid\": \"faf5d0cc-782c-4d2b-9d71-fd75ee069d6e\"}, {\"hoverinfo\": \"name+text\", \"legendgroup\": \"missing\", \"line\": {\"color\": \"blue\", \"width\": 1}, \"name\": \"missing\", \"opacity\": 1, \"showlegend\": false, \"text\": [\"34877\", \"41146\"], \"x\": [-151.393, -224.485], \"y\": [115.4017704365492, 171.697933181183], \"type\": \"scatter\", \"uid\": \"d2569909-4e70-411b-834b-34722206ca47\"}, {\"hoverinfo\": \"name+text\", \"legendgroup\": \"missing\", \"line\": {\"color\": \"blue\", \"width\": 1}, \"name\": \"missing\", \"opacity\": 1, \"showlegend\": false, \"text\": [\"38524\", \"45067\"], \"x\": [162.741, 243.228], \"y\": [116.24458425703108, 171.77085511020198], \"type\": \"scatter\", \"uid\": \"749840fc-7bdf-4bf3-b5f1-6ed0877d37ee\"}, {\"hoverinfo\": \"name+text\", \"legendgroup\": \"missing\", \"line\": {\"color\": \"blue\", \"width\": 1}, \"name\": \"missing\", \"opacity\": 1, \"showlegend\": false, \"text\": [\"40865\", \"72549\"], \"x\": [-336.397, -499.4], \"y\": [173.0423765237868, 258.1986281140936], \"type\": \"scatter\", \"uid\": \"14bd0399-0b78-4a1b-90b0-c07810d498c4\"}, {\"hoverinfo\": \"name+text\", \"legendgroup\": \"missing\", \"line\": {\"color\": \"blue\", \"width\": 1}, \"name\": \"missing\", \"opacity\": 1, \"showlegend\": false, \"text\": [\"41146\", \"73201\"], \"x\": [-224.485, -339.0], \"y\": [171.697933181183, 259.9772582081748], \"type\": \"scatter\", \"uid\": \"e4f2ec45-c57a-4a77-80ae-a57f97e65c63\"}, {\"hoverinfo\": \"name+text\", \"legendgroup\": \"missing\", \"line\": {\"color\": \"blue\", \"width\": 1}, \"name\": \"missing\", \"opacity\": 1, \"showlegend\": false, \"text\": [\"42350\", \"73830\"], \"x\": [-102.632, -152.6], \"y\": [172.0437815826251, 261.85823478523645], \"type\": \"scatter\", \"uid\": \"43edefe0-35b0-4c1b-b083-2a2174d755fc\"}, {\"hoverinfo\": \"name+text\", \"legendgroup\": \"missing\", \"line\": {\"color\": \"blue\", \"width\": 1}, \"name\": \"missing\", \"opacity\": 1, \"showlegend\": false, \"text\": [\"45067\", \"76902\"], \"x\": [243.228, 375.4], \"y\": [171.77085511020198, 262.9168818890107], \"type\": \"scatter\", \"uid\": \"1c7a38aa-a80b-4c7c-875c-451640c1c8e1\"}, {\"hoverinfo\": \"name+text\", \"legendgroup\": \"missing\", \"line\": {\"color\": \"blue\", \"width\": 1}, \"name\": \"missing\", \"opacity\": 1, \"showlegend\": false, \"text\": [\"72549\", \"79138\"], \"x\": [-499.4, -689.8], \"y\": [258.1986281140936, 358.26621846092326], \"type\": \"scatter\", \"uid\": \"1b6de47f-19d6-431b-a0c3-016f3247335b\"}, {\"hoverinfo\": \"name+text\", \"legendgroup\": \"missing\", \"line\": {\"color\": \"blue\", \"width\": 1}, \"name\": \"missing\", \"opacity\": 1, \"showlegend\": false, \"text\": [\"73201\", \"79641\"], \"x\": [-339.0, -470.6], \"y\": [259.9772582081748, 361.27022166795035], \"type\": \"scatter\", \"uid\": \"fe1fbf71-928f-474b-875c-9406fef8f040\"}, {\"hoverinfo\": \"name+text\", \"legendgroup\": \"missing\", \"line\": {\"color\": \"blue\", \"width\": 1}, \"name\": \"missing\", \"opacity\": 1, \"showlegend\": false, \"text\": [\"73830\", \"80933\"], \"x\": [-152.6, -209.6], \"y\": [261.85823478523645, 363.8873098444215], \"type\": \"scatter\", \"uid\": \"77456dcb-4448-4d7d-934e-16dd6880742a\"}, {\"hoverinfo\": \"name+text\", \"legendgroup\": \"missing\", \"line\": {\"color\": \"blue\", \"width\": 1}, \"name\": \"missing\", \"opacity\": 1, \"showlegend\": false, \"text\": [\"76902\", \"83944\"], \"x\": [375.4, 515.6], \"y\": [262.9168818890107, 359.1660073517537], \"type\": \"scatter\", \"uid\": \"6e1f52dd-44e0-4701-ab37-53b42eaefe6e\"}, {\"hoverinfo\": \"name+text\", \"legendgroup\": \"missing\", \"line\": {\"color\": \"blue\", \"width\": 1}, \"name\": \"missing\", \"opacity\": 1, \"showlegend\": false, \"text\": [\"79138\", \"85537\"], \"x\": [-689.8, -955.8], \"y\": [358.26621846092326, 496.7990769969284], \"type\": \"scatter\", \"uid\": \"5db93625-08b8-4eb9-b9b8-3c3fb9ff1ad3\"}, {\"hoverinfo\": \"name+text\", \"legendgroup\": \"missing\", \"line\": {\"color\": \"blue\", \"width\": 1}, \"name\": \"missing\", \"opacity\": 1, \"showlegend\": false, \"text\": [\"79641\", \"86195\"], \"x\": [-470.6, -657.6], \"y\": [361.27022166795035, 505.25758938962014], \"type\": \"scatter\", \"uid\": \"8c496bfe-e97a-4a72-9e54-c39ce591bb79\"}, {\"hoverinfo\": \"name+text\", \"legendgroup\": \"missing\", \"line\": {\"color\": \"blue\", \"width\": 1}, \"name\": \"missing\", \"opacity\": 1, \"showlegend\": false, \"text\": [\"79880\", \"86402\"], \"x\": [-398.2, -538.4], \"y\": [365.71411330334246, 497.4495544242049], \"type\": \"scatter\", \"uid\": \"d1498fd4-8c73-43a4-909a-4ee158bedae1\"}, {\"hoverinfo\": \"name+text\", \"legendgroup\": \"missing\", \"line\": {\"color\": \"blue\", \"width\": 1}, \"name\": \"missing\", \"opacity\": 1, \"showlegend\": false, \"text\": [\"80933\", \"87292\"], \"x\": [-209.6, -285.6], \"y\": [363.8873098444215, 500.04019567330784], \"type\": \"scatter\", \"uid\": \"500b458c-6461-4d0b-ae77-672d4331594b\"}, {\"hoverinfo\": \"name+text\", \"legendgroup\": \"missing\", \"line\": {\"color\": \"blue\", \"width\": 1}, \"name\": \"missing\", \"opacity\": 1, \"showlegend\": false, \"text\": [\"83944\", \"90803\"], \"x\": [515.6, 722.2], \"y\": [359.1660073517537, 501.1282595952857], \"type\": \"scatter\", \"uid\": \"e8444858-83dc-422a-9018-e341f1b865a4\"}, {\"hoverinfo\": \"name+text\", \"legendgroup\": \"missing\", \"line\": {\"color\": \"blue\", \"width\": 1}, \"name\": \"missing\", \"opacity\": 1, \"showlegend\": false, \"text\": [\"86195\", \"91955\"], \"x\": [-657.6, -865.4], \"y\": [505.25758938962014, 665.3054220029776], \"type\": \"scatter\", \"uid\": \"d4fdac25-a316-43d6-9376-451a8bf39397\"}, {\"hoverinfo\": \"name+text\", \"legendgroup\": \"missing\", \"line\": {\"color\": \"blue\", \"width\": 1}, \"name\": \"missing\", \"opacity\": 1, \"showlegend\": false, \"text\": [\"86402\", \"92130\"], \"x\": [-538.4, -707.2], \"y\": [497.4495544242049, 656.5191725472228], \"type\": \"scatter\", \"uid\": \"7f47f96a-cf06-4f9a-beed-51bfb792a1bc\"}, {\"hoverinfo\": \"name+text\", \"legendgroup\": \"missing\", \"line\": {\"color\": \"blue\", \"width\": 1}, \"name\": \"missing\", \"opacity\": 1, \"showlegend\": false, \"text\": [\"87292\", \"93165\"], \"x\": [-285.6, -375.4], \"y\": [500.04019567330784, 660.5030028046807], \"type\": \"scatter\", \"uid\": \"345eb070-467d-43d3-a904-2ba7b5bb9797\"}, {\"hoverinfo\": \"name+text\", \"legendgroup\": \"missing\", \"line\": {\"color\": \"blue\", \"width\": 1}, \"name\": \"missing\", \"opacity\": 1, \"showlegend\": false, \"text\": [\"90803\", \"96934\"], \"x\": [722.2, 956.0], \"y\": [501.1282595952857, 660.1841830580312], \"type\": \"scatter\", \"uid\": \"5e5d4f41-994f-4b50-bc7d-4c00193a1596\"}, {\"hoverinfo\": \"name+text\", \"legendgroup\": \"missing\", \"line\": {\"color\": \"blue\", \"width\": 1}, \"name\": \"missing\", \"opacity\": 1, \"showlegend\": false, \"text\": [\"91955\", \"107743\"], \"x\": [-865.4, -1067.8], \"y\": [665.3054220029776, 824.2035973873507], \"type\": \"scatter\", \"uid\": \"8966377b-b559-4276-9134-103623391ad1\"}, {\"hoverinfo\": \"name+text\", \"legendgroup\": \"missing\", \"line\": {\"color\": \"blue\", \"width\": 1}, \"name\": \"missing\", \"opacity\": 1, \"showlegend\": false, \"text\": [\"93165\", \"109022\"], \"x\": [-375.4, -466.4], \"y\": [660.5030028046807, 822.2639974959379], \"type\": \"scatter\", \"uid\": \"aedcf2d5-057f-4d50-a93f-0a05086a07d4\"}, {\"hoverinfo\": \"name+text\", \"legendgroup\": \"missing\", \"line\": {\"color\": \"blue\", \"width\": 1}, \"name\": \"missing\", \"opacity\": 1, \"showlegend\": false, \"text\": [\"109022\", \"114036\"], \"x\": [-466.4, -580.2], \"y\": [822.2639974959379, 1022.6908959079474], \"type\": \"scatter\", \"uid\": \"464a4a13-0df3-4d96-a7b8-7bbd37cdce45\"}], {\"height\": 800, \"hovermode\": \"closest\", \"showlegend\": true, \"updatemenus\": [{\"buttons\": [{\"args\": [\"shapes\", []], \"label\": \"hide layers\", \"method\": \"relayout\"}, {\"args\": [\"shapes\", [{\"type\": \"line\", \"x0\": -455, \"x1\": 455, \"y0\": 32, \"y1\": 32, \"opacity\": 0.5, \"layer\": \"below\", \"line\": {\"color\": \"#ccc\"}}, {\"type\": \"line\", \"x0\": -455, \"x1\": 455, \"y0\": 72, \"y1\": 72, \"opacity\": 0.5, \"layer\": \"below\", \"line\": {\"color\": \"#ccc\"}}, {\"type\": \"line\", \"x0\": -455, \"x1\": 455, \"y0\": 116, \"y1\": 116, \"opacity\": 0.5, \"layer\": \"below\", \"line\": {\"color\": \"#ccc\"}}, {\"type\": \"line\", \"x0\": -455, \"x1\": 455, \"y0\": 172, \"y1\": 172, \"opacity\": 0.5, \"layer\": \"below\", \"line\": {\"color\": \"#ccc\"}}, {\"type\": \"line\", \"x0\": -1030, \"x1\": 1030, \"y0\": 260, \"y1\": 260, \"opacity\": 0.5, \"layer\": \"below\", \"line\": {\"color\": \"#cccc8d\"}}, {\"type\": \"line\", \"x0\": -1030, \"x1\": 1030, \"y0\": 360, \"y1\": 360, \"opacity\": 0.5, \"layer\": \"below\", \"line\": {\"color\": \"#cccc8d\"}}, {\"type\": \"line\", \"x0\": -1030, \"x1\": 1030, \"y0\": 500, \"y1\": 500, \"opacity\": 0.5, \"layer\": \"below\", \"line\": {\"color\": \"#cccc8d\"}}, {\"type\": \"line\", \"x0\": -1030, \"x1\": 1030, \"y0\": 660, \"y1\": 660, \"opacity\": 0.5, \"layer\": \"below\", \"line\": {\"color\": \"#cccc8d\"}}, {\"type\": \"line\", \"x0\": -1030, \"x1\": 1030, \"y0\": 820, \"y1\": 820, \"opacity\": 0.5, \"layer\": \"below\", \"line\": {\"color\": \"#ccc\"}}, {\"type\": \"line\", \"x0\": -1030, \"x1\": 1030, \"y0\": 1020, \"y1\": 1020, \"opacity\": 0.5, \"layer\": \"below\", \"line\": {\"color\": \"#ccc\"}}]], \"label\": \"show layers\", \"method\": \"relayout\"}], \"direction\": \"left\", \"pad\": {\"l\": 0.1}, \"type\": \"buttons\", \"xanchor\": \"left\", \"y\": 1.1, \"yanchor\": \"top\"}, {\"buttons\": [{\"args\": [{\"mode\": \"markers+lines\"}], \"label\": \"hits+tracks\", \"method\": \"update\"}, {\"args\": [{\"mode\": \"markers\"}], \"label\": \"hits only\", \"method\": \"update\"}], \"direction\": \"left\", \"pad\": {\"l\": 200}, \"type\": \"buttons\", \"xanchor\": \"left\", \"y\": 1.1, \"yanchor\": \"top\"}, {\"buttons\": [{\"args\": [\"yaxis.scaleanchor\", null], \"label\": \"free\", \"method\": \"relayout\"}, {\"args\": [\"yaxis.scaleanchor\", \"x\"], \"label\": \"fixed\", \"method\": \"relayout\"}], \"direction\": \"left\", \"pad\": {\"l\": 380}, \"type\": \"buttons\", \"xanchor\": \"left\", \"y\": 1.1, \"yanchor\": \"top\"}], \"width\": 800, \"xaxis\": {\"title\": \"z\"}, \"yaxis\": {\"title\": \"r\"}}, {\"showLink\": true, \"linkText\": \"Export to plot.ly\", \"plotlyServerURL\": \"https://plot.ly\"})});</script>"
      ],
      "text/vnd.plotly.v1+html": [
       "<div id=\"a4f7cfc3-5417-4c64-ada8-d16f113b61ff\" style=\"height: 800px; width: 800px;\" class=\"plotly-graph-div\"></div><script type=\"text/javascript\">require([\"plotly\"], function(Plotly) { window.PLOTLYENV=window.PLOTLYENV || {};window.PLOTLYENV.BASE_URL=\"https://plot.ly\";Plotly.newPlot(\"a4f7cfc3-5417-4c64-ada8-d16f113b61ff\", [{\"hoverinfo\": \"name+text\", \"legendgroup\": \"fake\", \"line\": {\"color\": \"red\", \"width\": 1}, \"name\": \"fake\", \"opacity\": 1, \"showlegend\": true, \"text\": [\"19698\", \"35259\"], \"x\": [-43.6337, -131.795], \"y\": [32.02264014494901, 115.01274730202735], \"type\": \"scatter\", \"uid\": \"21a1f193-d942-4a0e-9323-4a4261fedb26\"}, {\"hoverinfo\": \"name+text\", \"legendgroup\": \"fake\", \"line\": {\"color\": \"red\", \"width\": 1}, \"name\": \"fake\", \"opacity\": 1, \"showlegend\": false, \"text\": [\"79880\", \"92130\"], \"x\": [-398.2, -707.2], \"y\": [365.71411330334246, 656.5191725472228], \"type\": \"scatter\", \"uid\": \"da7ea9fc-3e18-430a-9469-0a7eb5cf65fb\"}, {\"hoverinfo\": \"name+text\", \"legendgroup\": \"real\", \"line\": {\"color\": \"green\", \"width\": 1}, \"name\": \"real\", \"opacity\": 1, \"showlegend\": true, \"text\": [\"35259\", \"41464\"], \"x\": [-131.795, -191.758], \"y\": [115.01274730202735, 171.40195078204334], \"type\": \"scatter\", \"uid\": \"9676be87-a989-4c11-b42e-107b1886a805\"}, {\"hoverinfo\": \"name+text\", \"legendgroup\": \"real\", \"line\": {\"color\": \"green\", \"width\": 1}, \"name\": \"real\", \"opacity\": 1, \"showlegend\": false, \"text\": [\"41464\", \"73085\"], \"x\": [-191.758, -283.2], \"y\": [171.40195078204334, 257.30068278183796], \"type\": \"scatter\", \"uid\": \"0e872fd2-418c-48ff-9264-2ec5c3c63d02\"}, {\"hoverinfo\": \"name+text\", \"legendgroup\": \"real\", \"line\": {\"color\": \"green\", \"width\": 1}, \"name\": \"real\", \"opacity\": 1, \"showlegend\": false, \"text\": [\"73085\", \"79880\"], \"x\": [-283.2, -398.2], \"y\": [257.30068278183796, 365.71411330334246], \"type\": \"scatter\", \"uid\": \"a204597e-3c06-4184-bdde-1e7bd4fd4702\"}, {\"hoverinfo\": \"name+text\", \"legendgroup\": \"real\", \"line\": {\"color\": \"green\", \"width\": 1}, \"name\": \"real\", \"opacity\": 1, \"showlegend\": false, \"text\": [\"92130\", \"107883\"], \"x\": [-707.2, -878.4], \"y\": [656.5191725472228, 819.5081131930848], \"type\": \"scatter\", \"uid\": \"e40e474f-aa1c-40fd-b737-8818b9838f1c\"}, {\"hoverinfo\": \"name+text\", \"legendgroup\": \"missing\", \"line\": {\"color\": \"blue\", \"width\": 1}, \"name\": \"missing\", \"opacity\": 1, \"showlegend\": true, \"text\": [\"19698\", \"27827\"], \"x\": [-43.6337, -86.1783], \"y\": [32.02264014494901, 72.07849176870727], \"type\": \"scatter\", \"uid\": \"44fa3b8e-e6e9-4fbe-b8d2-4611b23a9e87\"}, {\"hoverinfo\": \"name+text\", \"legendgroup\": \"missing\", \"line\": {\"color\": \"blue\", \"width\": 1}, \"name\": \"missing\", \"opacity\": 1, \"showlegend\": false, \"text\": [\"20262\", \"28058\"], \"x\": [-43.7904, -94.3151], \"y\": [32.562200789221855, 71.42720770825427], \"type\": \"scatter\", \"uid\": \"4256b08c-e070-4a59-91d2-8b16a2aa86ce\"}, {\"hoverinfo\": \"name+text\", \"legendgroup\": \"missing\", \"line\": {\"color\": \"blue\", \"width\": 1}, \"name\": \"missing\", \"opacity\": 1, \"showlegend\": false, \"text\": [\"20764\", \"27487\"], \"x\": [-67.8321, -145.30700000000004], \"y\": [32.157173777557006, 72.80676931336811], \"type\": \"scatter\", \"uid\": \"42d5e1e9-9e09-4c6a-9935-2e22110fda96\"}, {\"hoverinfo\": \"name+text\", \"legendgroup\": \"missing\", \"line\": {\"color\": \"blue\", \"width\": 1}, \"name\": \"missing\", \"opacity\": 1, \"showlegend\": false, \"text\": [\"21265\", \"29504\"], \"x\": [-24.6702, -46.6699], \"y\": [32.23509056485029, 71.61236113102264], \"type\": \"scatter\", \"uid\": \"9b0dfe91-b8dc-4ac0-8755-0a00e8a80091\"}, {\"hoverinfo\": \"name+text\", \"legendgroup\": \"missing\", \"line\": {\"color\": \"blue\", \"width\": 1}, \"name\": \"missing\", \"opacity\": 1, \"showlegend\": false, \"text\": [\"23536\", \"31418\"], \"x\": [41.7502, 99.58], \"y\": [32.49714414606305, 72.54064560265508], \"type\": \"scatter\", \"uid\": \"961f1a2e-0f4b-4515-9c82-f43aaeeeac84\"}, {\"hoverinfo\": \"name+text\", \"legendgroup\": \"missing\", \"line\": {\"color\": \"blue\", \"width\": 1}, \"name\": \"missing\", \"opacity\": 1, \"showlegend\": false, \"text\": [\"27487\", \"34491\"], \"x\": [-145.30700000000004, -225.866], \"y\": [72.80676931336811, 115.05245255343321], \"type\": \"scatter\", \"uid\": \"fd86afe3-9428-49be-931a-4d6c7a3ccb7b\"}, {\"hoverinfo\": \"name+text\", \"legendgroup\": \"missing\", \"line\": {\"color\": \"blue\", \"width\": 1}, \"name\": \"missing\", \"opacity\": 1, \"showlegend\": false, \"text\": [\"27827\", \"35259\"], \"x\": [-86.1783, -131.795], \"y\": [72.07849176870727, 115.01274730202735], \"type\": \"scatter\", \"uid\": \"92ecce21-3949-4be9-ad15-f2f229a4a66e\"}, {\"hoverinfo\": \"name+text\", \"legendgroup\": \"missing\", \"line\": {\"color\": \"blue\", \"width\": 1}, \"name\": \"missing\", \"opacity\": 1, \"showlegend\": false, \"text\": [\"28058\", \"34877\"], \"x\": [-94.3151, -151.393], \"y\": [71.42720770825427, 115.4017704365492], \"type\": \"scatter\", \"uid\": \"a45bc3b3-3fa6-430e-87c9-f2c7fc83b829\"}, {\"hoverinfo\": \"name+text\", \"legendgroup\": \"missing\", \"line\": {\"color\": \"blue\", \"width\": 1}, \"name\": \"missing\", \"opacity\": 1, \"showlegend\": false, \"text\": [\"29504\", \"42350\"], \"x\": [-46.6699, -102.632], \"y\": [71.61236113102264, 172.0437815826251], \"type\": \"scatter\", \"uid\": \"0153d8cb-ffa6-4eb1-ae5e-894e52c74629\"}, {\"hoverinfo\": \"name+text\", \"legendgroup\": \"missing\", \"line\": {\"color\": \"blue\", \"width\": 1}, \"name\": \"missing\", \"opacity\": 1, \"showlegend\": false, \"text\": [\"31418\", \"38524\"], \"x\": [99.58, 162.741], \"y\": [72.54064560265508, 116.24458425703108], \"type\": \"scatter\", \"uid\": \"b1f59039-80e2-4a0e-a801-2b35c45d7f81\"}, {\"hoverinfo\": \"name+text\", \"legendgroup\": \"missing\", \"line\": {\"color\": \"blue\", \"width\": 1}, \"name\": \"missing\", \"opacity\": 1, \"showlegend\": false, \"text\": [\"34491\", \"40865\"], \"x\": [-225.866, -336.397], \"y\": [115.05245255343321, 173.0423765237868], \"type\": \"scatter\", \"uid\": \"faf5d0cc-782c-4d2b-9d71-fd75ee069d6e\"}, {\"hoverinfo\": \"name+text\", \"legendgroup\": \"missing\", \"line\": {\"color\": \"blue\", \"width\": 1}, \"name\": \"missing\", \"opacity\": 1, \"showlegend\": false, \"text\": [\"34877\", \"41146\"], \"x\": [-151.393, -224.485], \"y\": [115.4017704365492, 171.697933181183], \"type\": \"scatter\", \"uid\": \"d2569909-4e70-411b-834b-34722206ca47\"}, {\"hoverinfo\": \"name+text\", \"legendgroup\": \"missing\", \"line\": {\"color\": \"blue\", \"width\": 1}, \"name\": \"missing\", \"opacity\": 1, \"showlegend\": false, \"text\": [\"38524\", \"45067\"], \"x\": [162.741, 243.228], \"y\": [116.24458425703108, 171.77085511020198], \"type\": \"scatter\", \"uid\": \"749840fc-7bdf-4bf3-b5f1-6ed0877d37ee\"}, {\"hoverinfo\": \"name+text\", \"legendgroup\": \"missing\", \"line\": {\"color\": \"blue\", \"width\": 1}, \"name\": \"missing\", \"opacity\": 1, \"showlegend\": false, \"text\": [\"40865\", \"72549\"], \"x\": [-336.397, -499.4], \"y\": [173.0423765237868, 258.1986281140936], \"type\": \"scatter\", \"uid\": \"14bd0399-0b78-4a1b-90b0-c07810d498c4\"}, {\"hoverinfo\": \"name+text\", \"legendgroup\": \"missing\", \"line\": {\"color\": \"blue\", \"width\": 1}, \"name\": \"missing\", \"opacity\": 1, \"showlegend\": false, \"text\": [\"41146\", \"73201\"], \"x\": [-224.485, -339.0], \"y\": [171.697933181183, 259.9772582081748], \"type\": \"scatter\", \"uid\": \"e4f2ec45-c57a-4a77-80ae-a57f97e65c63\"}, {\"hoverinfo\": \"name+text\", \"legendgroup\": \"missing\", \"line\": {\"color\": \"blue\", \"width\": 1}, \"name\": \"missing\", \"opacity\": 1, \"showlegend\": false, \"text\": [\"42350\", \"73830\"], \"x\": [-102.632, -152.6], \"y\": [172.0437815826251, 261.85823478523645], \"type\": \"scatter\", \"uid\": \"43edefe0-35b0-4c1b-b083-2a2174d755fc\"}, {\"hoverinfo\": \"name+text\", \"legendgroup\": \"missing\", \"line\": {\"color\": \"blue\", \"width\": 1}, \"name\": \"missing\", \"opacity\": 1, \"showlegend\": false, \"text\": [\"45067\", \"76902\"], \"x\": [243.228, 375.4], \"y\": [171.77085511020198, 262.9168818890107], \"type\": \"scatter\", \"uid\": \"1c7a38aa-a80b-4c7c-875c-451640c1c8e1\"}, {\"hoverinfo\": \"name+text\", \"legendgroup\": \"missing\", \"line\": {\"color\": \"blue\", \"width\": 1}, \"name\": \"missing\", \"opacity\": 1, \"showlegend\": false, \"text\": [\"72549\", \"79138\"], \"x\": [-499.4, -689.8], \"y\": [258.1986281140936, 358.26621846092326], \"type\": \"scatter\", \"uid\": \"1b6de47f-19d6-431b-a0c3-016f3247335b\"}, {\"hoverinfo\": \"name+text\", \"legendgroup\": \"missing\", \"line\": {\"color\": \"blue\", \"width\": 1}, \"name\": \"missing\", \"opacity\": 1, \"showlegend\": false, \"text\": [\"73201\", \"79641\"], \"x\": [-339.0, -470.6], \"y\": [259.9772582081748, 361.27022166795035], \"type\": \"scatter\", \"uid\": \"fe1fbf71-928f-474b-875c-9406fef8f040\"}, {\"hoverinfo\": \"name+text\", \"legendgroup\": \"missing\", \"line\": {\"color\": \"blue\", \"width\": 1}, \"name\": \"missing\", \"opacity\": 1, \"showlegend\": false, \"text\": [\"73830\", \"80933\"], \"x\": [-152.6, -209.6], \"y\": [261.85823478523645, 363.8873098444215], \"type\": \"scatter\", \"uid\": \"77456dcb-4448-4d7d-934e-16dd6880742a\"}, {\"hoverinfo\": \"name+text\", \"legendgroup\": \"missing\", \"line\": {\"color\": \"blue\", \"width\": 1}, \"name\": \"missing\", \"opacity\": 1, \"showlegend\": false, \"text\": [\"76902\", \"83944\"], \"x\": [375.4, 515.6], \"y\": [262.9168818890107, 359.1660073517537], \"type\": \"scatter\", \"uid\": \"6e1f52dd-44e0-4701-ab37-53b42eaefe6e\"}, {\"hoverinfo\": \"name+text\", \"legendgroup\": \"missing\", \"line\": {\"color\": \"blue\", \"width\": 1}, \"name\": \"missing\", \"opacity\": 1, \"showlegend\": false, \"text\": [\"79138\", \"85537\"], \"x\": [-689.8, -955.8], \"y\": [358.26621846092326, 496.7990769969284], \"type\": \"scatter\", \"uid\": \"5db93625-08b8-4eb9-b9b8-3c3fb9ff1ad3\"}, {\"hoverinfo\": \"name+text\", \"legendgroup\": \"missing\", \"line\": {\"color\": \"blue\", \"width\": 1}, \"name\": \"missing\", \"opacity\": 1, \"showlegend\": false, \"text\": [\"79641\", \"86195\"], \"x\": [-470.6, -657.6], \"y\": [361.27022166795035, 505.25758938962014], \"type\": \"scatter\", \"uid\": \"8c496bfe-e97a-4a72-9e54-c39ce591bb79\"}, {\"hoverinfo\": \"name+text\", \"legendgroup\": \"missing\", \"line\": {\"color\": \"blue\", \"width\": 1}, \"name\": \"missing\", \"opacity\": 1, \"showlegend\": false, \"text\": [\"79880\", \"86402\"], \"x\": [-398.2, -538.4], \"y\": [365.71411330334246, 497.4495544242049], \"type\": \"scatter\", \"uid\": \"d1498fd4-8c73-43a4-909a-4ee158bedae1\"}, {\"hoverinfo\": \"name+text\", \"legendgroup\": \"missing\", \"line\": {\"color\": \"blue\", \"width\": 1}, \"name\": \"missing\", \"opacity\": 1, \"showlegend\": false, \"text\": [\"80933\", \"87292\"], \"x\": [-209.6, -285.6], \"y\": [363.8873098444215, 500.04019567330784], \"type\": \"scatter\", \"uid\": \"500b458c-6461-4d0b-ae77-672d4331594b\"}, {\"hoverinfo\": \"name+text\", \"legendgroup\": \"missing\", \"line\": {\"color\": \"blue\", \"width\": 1}, \"name\": \"missing\", \"opacity\": 1, \"showlegend\": false, \"text\": [\"83944\", \"90803\"], \"x\": [515.6, 722.2], \"y\": [359.1660073517537, 501.1282595952857], \"type\": \"scatter\", \"uid\": \"e8444858-83dc-422a-9018-e341f1b865a4\"}, {\"hoverinfo\": \"name+text\", \"legendgroup\": \"missing\", \"line\": {\"color\": \"blue\", \"width\": 1}, \"name\": \"missing\", \"opacity\": 1, \"showlegend\": false, \"text\": [\"86195\", \"91955\"], \"x\": [-657.6, -865.4], \"y\": [505.25758938962014, 665.3054220029776], \"type\": \"scatter\", \"uid\": \"d4fdac25-a316-43d6-9376-451a8bf39397\"}, {\"hoverinfo\": \"name+text\", \"legendgroup\": \"missing\", \"line\": {\"color\": \"blue\", \"width\": 1}, \"name\": \"missing\", \"opacity\": 1, \"showlegend\": false, \"text\": [\"86402\", \"92130\"], \"x\": [-538.4, -707.2], \"y\": [497.4495544242049, 656.5191725472228], \"type\": \"scatter\", \"uid\": \"7f47f96a-cf06-4f9a-beed-51bfb792a1bc\"}, {\"hoverinfo\": \"name+text\", \"legendgroup\": \"missing\", \"line\": {\"color\": \"blue\", \"width\": 1}, \"name\": \"missing\", \"opacity\": 1, \"showlegend\": false, \"text\": [\"87292\", \"93165\"], \"x\": [-285.6, -375.4], \"y\": [500.04019567330784, 660.5030028046807], \"type\": \"scatter\", \"uid\": \"345eb070-467d-43d3-a904-2ba7b5bb9797\"}, {\"hoverinfo\": \"name+text\", \"legendgroup\": \"missing\", \"line\": {\"color\": \"blue\", \"width\": 1}, \"name\": \"missing\", \"opacity\": 1, \"showlegend\": false, \"text\": [\"90803\", \"96934\"], \"x\": [722.2, 956.0], \"y\": [501.1282595952857, 660.1841830580312], \"type\": \"scatter\", \"uid\": \"5e5d4f41-994f-4b50-bc7d-4c00193a1596\"}, {\"hoverinfo\": \"name+text\", \"legendgroup\": \"missing\", \"line\": {\"color\": \"blue\", \"width\": 1}, \"name\": \"missing\", \"opacity\": 1, \"showlegend\": false, \"text\": [\"91955\", \"107743\"], \"x\": [-865.4, -1067.8], \"y\": [665.3054220029776, 824.2035973873507], \"type\": \"scatter\", \"uid\": \"8966377b-b559-4276-9134-103623391ad1\"}, {\"hoverinfo\": \"name+text\", \"legendgroup\": \"missing\", \"line\": {\"color\": \"blue\", \"width\": 1}, \"name\": \"missing\", \"opacity\": 1, \"showlegend\": false, \"text\": [\"93165\", \"109022\"], \"x\": [-375.4, -466.4], \"y\": [660.5030028046807, 822.2639974959379], \"type\": \"scatter\", \"uid\": \"aedcf2d5-057f-4d50-a93f-0a05086a07d4\"}, {\"hoverinfo\": \"name+text\", \"legendgroup\": \"missing\", \"line\": {\"color\": \"blue\", \"width\": 1}, \"name\": \"missing\", \"opacity\": 1, \"showlegend\": false, \"text\": [\"109022\", \"114036\"], \"x\": [-466.4, -580.2], \"y\": [822.2639974959379, 1022.6908959079474], \"type\": \"scatter\", \"uid\": \"464a4a13-0df3-4d96-a7b8-7bbd37cdce45\"}], {\"height\": 800, \"hovermode\": \"closest\", \"showlegend\": true, \"updatemenus\": [{\"buttons\": [{\"args\": [\"shapes\", []], \"label\": \"hide layers\", \"method\": \"relayout\"}, {\"args\": [\"shapes\", [{\"type\": \"line\", \"x0\": -455, \"x1\": 455, \"y0\": 32, \"y1\": 32, \"opacity\": 0.5, \"layer\": \"below\", \"line\": {\"color\": \"#ccc\"}}, {\"type\": \"line\", \"x0\": -455, \"x1\": 455, \"y0\": 72, \"y1\": 72, \"opacity\": 0.5, \"layer\": \"below\", \"line\": {\"color\": \"#ccc\"}}, {\"type\": \"line\", \"x0\": -455, \"x1\": 455, \"y0\": 116, \"y1\": 116, \"opacity\": 0.5, \"layer\": \"below\", \"line\": {\"color\": \"#ccc\"}}, {\"type\": \"line\", \"x0\": -455, \"x1\": 455, \"y0\": 172, \"y1\": 172, \"opacity\": 0.5, \"layer\": \"below\", \"line\": {\"color\": \"#ccc\"}}, {\"type\": \"line\", \"x0\": -1030, \"x1\": 1030, \"y0\": 260, \"y1\": 260, \"opacity\": 0.5, \"layer\": \"below\", \"line\": {\"color\": \"#cccc8d\"}}, {\"type\": \"line\", \"x0\": -1030, \"x1\": 1030, \"y0\": 360, \"y1\": 360, \"opacity\": 0.5, \"layer\": \"below\", \"line\": {\"color\": \"#cccc8d\"}}, {\"type\": \"line\", \"x0\": -1030, \"x1\": 1030, \"y0\": 500, \"y1\": 500, \"opacity\": 0.5, \"layer\": \"below\", \"line\": {\"color\": \"#cccc8d\"}}, {\"type\": \"line\", \"x0\": -1030, \"x1\": 1030, \"y0\": 660, \"y1\": 660, \"opacity\": 0.5, \"layer\": \"below\", \"line\": {\"color\": \"#cccc8d\"}}, {\"type\": \"line\", \"x0\": -1030, \"x1\": 1030, \"y0\": 820, \"y1\": 820, \"opacity\": 0.5, \"layer\": \"below\", \"line\": {\"color\": \"#ccc\"}}, {\"type\": \"line\", \"x0\": -1030, \"x1\": 1030, \"y0\": 1020, \"y1\": 1020, \"opacity\": 0.5, \"layer\": \"below\", \"line\": {\"color\": \"#ccc\"}}]], \"label\": \"show layers\", \"method\": \"relayout\"}], \"direction\": \"left\", \"pad\": {\"l\": 0.1}, \"type\": \"buttons\", \"xanchor\": \"left\", \"y\": 1.1, \"yanchor\": \"top\"}, {\"buttons\": [{\"args\": [{\"mode\": \"markers+lines\"}], \"label\": \"hits+tracks\", \"method\": \"update\"}, {\"args\": [{\"mode\": \"markers\"}], \"label\": \"hits only\", \"method\": \"update\"}], \"direction\": \"left\", \"pad\": {\"l\": 200}, \"type\": \"buttons\", \"xanchor\": \"left\", \"y\": 1.1, \"yanchor\": \"top\"}, {\"buttons\": [{\"args\": [\"yaxis.scaleanchor\", null], \"label\": \"free\", \"method\": \"relayout\"}, {\"args\": [\"yaxis.scaleanchor\", \"x\"], \"label\": \"fixed\", \"method\": \"relayout\"}], \"direction\": \"left\", \"pad\": {\"l\": 380}, \"type\": \"buttons\", \"xanchor\": \"left\", \"y\": 1.1, \"yanchor\": \"top\"}], \"width\": 800, \"xaxis\": {\"title\": \"z\"}, \"yaxis\": {\"title\": \"r\"}}, {\"showLink\": true, \"linkText\": \"Export to plot.ly\", \"plotlyServerURL\": \"https://plot.ly\"})});</script>"
      ]
     },
     "metadata": {},
     "output_type": "display_data"
    },
    {
     "data": {
      "application/vnd.plotly.v1+json": {
       "config": {
        "linkText": "Export to plot.ly",
        "plotlyServerURL": "https://plot.ly",
        "showLink": true
       },
       "data": [
        {
         "hoverinfo": "name+text",
         "legendgroup": "0",
         "line": {
          "color": "red",
          "width": 1
         },
         "name": "T0: 4/6 ok",
         "opacity": 1,
         "showlegend": true,
         "text": [
          "19698",
          "35259",
          "41464",
          "73085",
          "79880",
          "92130",
          "107883"
         ],
         "type": "scatter",
         "uid": "f5b1519d-328f-440d-821a-8fc932846cce",
         "x": [
          -4.16977,
          -14.2464
         ],
         "y": [
          -31.75,
          -114.127
         ]
        },
        {
         "hoverinfo": "name+text",
         "legendgroup": "0",
         "line": {
          "color": "green",
          "width": 1
         },
         "name": "T0: 4/6 ok",
         "opacity": 1,
         "showlegend": false,
         "text": [
          "19698",
          "35259",
          "41464",
          "73085",
          "79880",
          "92130",
          "107883"
         ],
         "type": "scatter",
         "uid": "26402010-361a-486f-950b-129af1f7065d",
         "x": [
          -14.2464,
          -20.5217
         ],
         "y": [
          -114.127,
          -170.169
         ]
        },
        {
         "hoverinfo": "name+text",
         "legendgroup": "0",
         "line": {
          "color": "green",
          "width": 1
         },
         "name": "T0: 4/6 ok",
         "opacity": 1,
         "showlegend": false,
         "text": [
          "19698",
          "35259",
          "41464",
          "73085",
          "79880",
          "92130",
          "107883"
         ],
         "type": "scatter",
         "uid": "aaf987c9-7ac7-4ab9-bdb1-2b4cdf502931",
         "x": [
          -20.5217,
          -29.116
         ],
         "y": [
          -170.169,
          -255.648
         ]
        },
        {
         "hoverinfo": "name+text",
         "legendgroup": "0",
         "line": {
          "color": "green",
          "width": 1
         },
         "name": "T0: 4/6 ok",
         "opacity": 1,
         "showlegend": false,
         "text": [
          "19698",
          "35259",
          "41464",
          "73085",
          "79880",
          "92130",
          "107883"
         ],
         "type": "scatter",
         "uid": "6799c614-00a6-4cb5-8d4d-c7b797106d8e",
         "x": [
          -29.116,
          -38.3955
         ],
         "y": [
          -255.648,
          -363.693
         ]
        },
        {
         "hoverinfo": "name+text",
         "legendgroup": "0",
         "line": {
          "color": "red",
          "width": 1
         },
         "name": "T0: 4/6 ok",
         "opacity": 1,
         "showlegend": false,
         "text": [
          "19698",
          "35259",
          "41464",
          "73085",
          "79880",
          "92130",
          "107883"
         ],
         "type": "scatter",
         "uid": "c76ab70e-80a4-4250-b7d1-4d7f8d866cab",
         "x": [
          -38.3955,
          -54.4897
         ],
         "y": [
          -363.693,
          -654.254
         ]
        },
        {
         "hoverinfo": "name+text",
         "legendgroup": "0",
         "line": {
          "color": "green",
          "width": 1
         },
         "name": "T0: 4/6 ok",
         "opacity": 1,
         "showlegend": false,
         "text": [
          "19698",
          "35259",
          "41464",
          "73085",
          "79880",
          "92130",
          "107883"
         ],
         "type": "scatter",
         "uid": "cb1366a6-3171-4852-a10a-432373bd3041",
         "x": [
          -54.4897,
          -57.8177
         ],
         "y": [
          -654.254,
          -817.466
         ]
        }
       ],
       "layout": {
        "height": 800,
        "hovermode": "closest",
        "showlegend": true,
        "updatemenus": [
         {
          "buttons": [
           {
            "args": [
             "shapes",
             []
            ],
            "label": "hide layers",
            "method": "relayout"
           },
           {
            "args": [
             "shapes",
             [
              {
               "layer": "below",
               "line": {
                "color": "#ccc"
               },
               "opacity": 0.5,
               "type": "circle",
               "x0": -32,
               "x1": 32,
               "y0": -32,
               "y1": 32
              },
              {
               "layer": "below",
               "line": {
                "color": "#ccc"
               },
               "opacity": 0.5,
               "type": "circle",
               "x0": -72,
               "x1": 72,
               "y0": -72,
               "y1": 72
              },
              {
               "layer": "below",
               "line": {
                "color": "#ccc"
               },
               "opacity": 0.5,
               "type": "circle",
               "x0": -116,
               "x1": 116,
               "y0": -116,
               "y1": 116
              },
              {
               "layer": "below",
               "line": {
                "color": "#ccc"
               },
               "opacity": 0.5,
               "type": "circle",
               "x0": -172,
               "x1": 172,
               "y0": -172,
               "y1": 172
              },
              {
               "layer": "below",
               "line": {
                "color": "#cccc8d"
               },
               "opacity": 0.5,
               "type": "circle",
               "x0": -260,
               "x1": 260,
               "y0": -260,
               "y1": 260
              },
              {
               "layer": "below",
               "line": {
                "color": "#cccc8d"
               },
               "opacity": 0.5,
               "type": "circle",
               "x0": -360,
               "x1": 360,
               "y0": -360,
               "y1": 360
              },
              {
               "layer": "below",
               "line": {
                "color": "#cccc8d"
               },
               "opacity": 0.5,
               "type": "circle",
               "x0": -500,
               "x1": 500,
               "y0": -500,
               "y1": 500
              },
              {
               "layer": "below",
               "line": {
                "color": "#cccc8d"
               },
               "opacity": 0.5,
               "type": "circle",
               "x0": -660,
               "x1": 660,
               "y0": -660,
               "y1": 660
              },
              {
               "layer": "below",
               "line": {
                "color": "#ccc"
               },
               "opacity": 0.5,
               "type": "circle",
               "x0": -820,
               "x1": 820,
               "y0": -820,
               "y1": 820
              },
              {
               "layer": "below",
               "line": {
                "color": "#ccc"
               },
               "opacity": 0.5,
               "type": "circle",
               "x0": -1020,
               "x1": 1020,
               "y0": -1020,
               "y1": 1020
              }
             ]
            ],
            "label": "show layers",
            "method": "relayout"
           }
          ],
          "direction": "left",
          "pad": {
           "l": 0.1
          },
          "type": "buttons",
          "xanchor": "left",
          "y": 1.1,
          "yanchor": "top"
         },
         {
          "buttons": [
           {
            "args": [
             {
              "mode": "markers+lines"
             }
            ],
            "label": "hits+tracks",
            "method": "update"
           },
           {
            "args": [
             {
              "mode": "markers"
             }
            ],
            "label": "hits only",
            "method": "update"
           }
          ],
          "direction": "left",
          "pad": {
           "l": 200
          },
          "type": "buttons",
          "xanchor": "left",
          "y": 1.1,
          "yanchor": "top"
         },
         {
          "buttons": [
           {
            "args": [
             "yaxis.scaleanchor",
             null
            ],
            "label": "free",
            "method": "relayout"
           },
           {
            "args": [
             "yaxis.scaleanchor",
             "x"
            ],
            "label": "fixed",
            "method": "relayout"
           }
          ],
          "direction": "left",
          "pad": {
           "l": 380
          },
          "type": "buttons",
          "xanchor": "left",
          "y": 1.1,
          "yanchor": "top"
         }
        ],
        "width": 800,
        "xaxis": {
         "title": "x"
        },
        "yaxis": {
         "title": "y"
        }
       }
      },
      "text/html": [
       "<div id=\"c512e707-288e-4884-acd7-0ff777c720d0\" style=\"height: 800px; width: 800px;\" class=\"plotly-graph-div\"></div><script type=\"text/javascript\">require([\"plotly\"], function(Plotly) { window.PLOTLYENV=window.PLOTLYENV || {};window.PLOTLYENV.BASE_URL=\"https://plot.ly\";Plotly.newPlot(\"c512e707-288e-4884-acd7-0ff777c720d0\", [{\"hoverinfo\": \"name+text\", \"legendgroup\": \"0\", \"line\": {\"color\": \"red\", \"width\": 1}, \"name\": \"T0: 4/6 ok\", \"opacity\": 1, \"showlegend\": true, \"text\": [\"19698\", \"35259\", \"41464\", \"73085\", \"79880\", \"92130\", \"107883\"], \"x\": [-4.16977, -14.2464], \"y\": [-31.75, -114.127], \"type\": \"scatter\", \"uid\": \"f5b1519d-328f-440d-821a-8fc932846cce\"}, {\"hoverinfo\": \"name+text\", \"legendgroup\": \"0\", \"line\": {\"color\": \"green\", \"width\": 1}, \"name\": \"T0: 4/6 ok\", \"opacity\": 1, \"showlegend\": false, \"text\": [\"19698\", \"35259\", \"41464\", \"73085\", \"79880\", \"92130\", \"107883\"], \"x\": [-14.2464, -20.5217], \"y\": [-114.127, -170.169], \"type\": \"scatter\", \"uid\": \"26402010-361a-486f-950b-129af1f7065d\"}, {\"hoverinfo\": \"name+text\", \"legendgroup\": \"0\", \"line\": {\"color\": \"green\", \"width\": 1}, \"name\": \"T0: 4/6 ok\", \"opacity\": 1, \"showlegend\": false, \"text\": [\"19698\", \"35259\", \"41464\", \"73085\", \"79880\", \"92130\", \"107883\"], \"x\": [-20.5217, -29.116], \"y\": [-170.169, -255.648], \"type\": \"scatter\", \"uid\": \"aaf987c9-7ac7-4ab9-bdb1-2b4cdf502931\"}, {\"hoverinfo\": \"name+text\", \"legendgroup\": \"0\", \"line\": {\"color\": \"green\", \"width\": 1}, \"name\": \"T0: 4/6 ok\", \"opacity\": 1, \"showlegend\": false, \"text\": [\"19698\", \"35259\", \"41464\", \"73085\", \"79880\", \"92130\", \"107883\"], \"x\": [-29.116, -38.3955], \"y\": [-255.648, -363.693], \"type\": \"scatter\", \"uid\": \"6799c614-00a6-4cb5-8d4d-c7b797106d8e\"}, {\"hoverinfo\": \"name+text\", \"legendgroup\": \"0\", \"line\": {\"color\": \"red\", \"width\": 1}, \"name\": \"T0: 4/6 ok\", \"opacity\": 1, \"showlegend\": false, \"text\": [\"19698\", \"35259\", \"41464\", \"73085\", \"79880\", \"92130\", \"107883\"], \"x\": [-38.3955, -54.4897], \"y\": [-363.693, -654.254], \"type\": \"scatter\", \"uid\": \"c76ab70e-80a4-4250-b7d1-4d7f8d866cab\"}, {\"hoverinfo\": \"name+text\", \"legendgroup\": \"0\", \"line\": {\"color\": \"green\", \"width\": 1}, \"name\": \"T0: 4/6 ok\", \"opacity\": 1, \"showlegend\": false, \"text\": [\"19698\", \"35259\", \"41464\", \"73085\", \"79880\", \"92130\", \"107883\"], \"x\": [-54.4897, -57.8177], \"y\": [-654.254, -817.466], \"type\": \"scatter\", \"uid\": \"cb1366a6-3171-4852-a10a-432373bd3041\"}], {\"height\": 800, \"hovermode\": \"closest\", \"showlegend\": true, \"updatemenus\": [{\"buttons\": [{\"args\": [\"shapes\", []], \"label\": \"hide layers\", \"method\": \"relayout\"}, {\"args\": [\"shapes\", [{\"type\": \"circle\", \"x0\": -32, \"x1\": 32, \"y0\": -32, \"y1\": 32, \"opacity\": 0.5, \"layer\": \"below\", \"line\": {\"color\": \"#ccc\"}}, {\"type\": \"circle\", \"x0\": -72, \"x1\": 72, \"y0\": -72, \"y1\": 72, \"opacity\": 0.5, \"layer\": \"below\", \"line\": {\"color\": \"#ccc\"}}, {\"type\": \"circle\", \"x0\": -116, \"x1\": 116, \"y0\": -116, \"y1\": 116, \"opacity\": 0.5, \"layer\": \"below\", \"line\": {\"color\": \"#ccc\"}}, {\"type\": \"circle\", \"x0\": -172, \"x1\": 172, \"y0\": -172, \"y1\": 172, \"opacity\": 0.5, \"layer\": \"below\", \"line\": {\"color\": \"#ccc\"}}, {\"type\": \"circle\", \"x0\": -260, \"x1\": 260, \"y0\": -260, \"y1\": 260, \"opacity\": 0.5, \"layer\": \"below\", \"line\": {\"color\": \"#cccc8d\"}}, {\"type\": \"circle\", \"x0\": -360, \"x1\": 360, \"y0\": -360, \"y1\": 360, \"opacity\": 0.5, \"layer\": \"below\", \"line\": {\"color\": \"#cccc8d\"}}, {\"type\": \"circle\", \"x0\": -500, \"x1\": 500, \"y0\": -500, \"y1\": 500, \"opacity\": 0.5, \"layer\": \"below\", \"line\": {\"color\": \"#cccc8d\"}}, {\"type\": \"circle\", \"x0\": -660, \"x1\": 660, \"y0\": -660, \"y1\": 660, \"opacity\": 0.5, \"layer\": \"below\", \"line\": {\"color\": \"#cccc8d\"}}, {\"type\": \"circle\", \"x0\": -820, \"x1\": 820, \"y0\": -820, \"y1\": 820, \"opacity\": 0.5, \"layer\": \"below\", \"line\": {\"color\": \"#ccc\"}}, {\"type\": \"circle\", \"x0\": -1020, \"x1\": 1020, \"y0\": -1020, \"y1\": 1020, \"opacity\": 0.5, \"layer\": \"below\", \"line\": {\"color\": \"#ccc\"}}]], \"label\": \"show layers\", \"method\": \"relayout\"}], \"direction\": \"left\", \"pad\": {\"l\": 0.1}, \"type\": \"buttons\", \"xanchor\": \"left\", \"y\": 1.1, \"yanchor\": \"top\"}, {\"buttons\": [{\"args\": [{\"mode\": \"markers+lines\"}], \"label\": \"hits+tracks\", \"method\": \"update\"}, {\"args\": [{\"mode\": \"markers\"}], \"label\": \"hits only\", \"method\": \"update\"}], \"direction\": \"left\", \"pad\": {\"l\": 200}, \"type\": \"buttons\", \"xanchor\": \"left\", \"y\": 1.1, \"yanchor\": \"top\"}, {\"buttons\": [{\"args\": [\"yaxis.scaleanchor\", null], \"label\": \"free\", \"method\": \"relayout\"}, {\"args\": [\"yaxis.scaleanchor\", \"x\"], \"label\": \"fixed\", \"method\": \"relayout\"}], \"direction\": \"left\", \"pad\": {\"l\": 380}, \"type\": \"buttons\", \"xanchor\": \"left\", \"y\": 1.1, \"yanchor\": \"top\"}], \"width\": 800, \"xaxis\": {\"title\": \"x\"}, \"yaxis\": {\"title\": \"y\"}}, {\"showLink\": true, \"linkText\": \"Export to plot.ly\", \"plotlyServerURL\": \"https://plot.ly\"})});</script>"
      ],
      "text/vnd.plotly.v1+html": [
       "<div id=\"c512e707-288e-4884-acd7-0ff777c720d0\" style=\"height: 800px; width: 800px;\" class=\"plotly-graph-div\"></div><script type=\"text/javascript\">require([\"plotly\"], function(Plotly) { window.PLOTLYENV=window.PLOTLYENV || {};window.PLOTLYENV.BASE_URL=\"https://plot.ly\";Plotly.newPlot(\"c512e707-288e-4884-acd7-0ff777c720d0\", [{\"hoverinfo\": \"name+text\", \"legendgroup\": \"0\", \"line\": {\"color\": \"red\", \"width\": 1}, \"name\": \"T0: 4/6 ok\", \"opacity\": 1, \"showlegend\": true, \"text\": [\"19698\", \"35259\", \"41464\", \"73085\", \"79880\", \"92130\", \"107883\"], \"x\": [-4.16977, -14.2464], \"y\": [-31.75, -114.127], \"type\": \"scatter\", \"uid\": \"f5b1519d-328f-440d-821a-8fc932846cce\"}, {\"hoverinfo\": \"name+text\", \"legendgroup\": \"0\", \"line\": {\"color\": \"green\", \"width\": 1}, \"name\": \"T0: 4/6 ok\", \"opacity\": 1, \"showlegend\": false, \"text\": [\"19698\", \"35259\", \"41464\", \"73085\", \"79880\", \"92130\", \"107883\"], \"x\": [-14.2464, -20.5217], \"y\": [-114.127, -170.169], \"type\": \"scatter\", \"uid\": \"26402010-361a-486f-950b-129af1f7065d\"}, {\"hoverinfo\": \"name+text\", \"legendgroup\": \"0\", \"line\": {\"color\": \"green\", \"width\": 1}, \"name\": \"T0: 4/6 ok\", \"opacity\": 1, \"showlegend\": false, \"text\": [\"19698\", \"35259\", \"41464\", \"73085\", \"79880\", \"92130\", \"107883\"], \"x\": [-20.5217, -29.116], \"y\": [-170.169, -255.648], \"type\": \"scatter\", \"uid\": \"aaf987c9-7ac7-4ab9-bdb1-2b4cdf502931\"}, {\"hoverinfo\": \"name+text\", \"legendgroup\": \"0\", \"line\": {\"color\": \"green\", \"width\": 1}, \"name\": \"T0: 4/6 ok\", \"opacity\": 1, \"showlegend\": false, \"text\": [\"19698\", \"35259\", \"41464\", \"73085\", \"79880\", \"92130\", \"107883\"], \"x\": [-29.116, -38.3955], \"y\": [-255.648, -363.693], \"type\": \"scatter\", \"uid\": \"6799c614-00a6-4cb5-8d4d-c7b797106d8e\"}, {\"hoverinfo\": \"name+text\", \"legendgroup\": \"0\", \"line\": {\"color\": \"red\", \"width\": 1}, \"name\": \"T0: 4/6 ok\", \"opacity\": 1, \"showlegend\": false, \"text\": [\"19698\", \"35259\", \"41464\", \"73085\", \"79880\", \"92130\", \"107883\"], \"x\": [-38.3955, -54.4897], \"y\": [-363.693, -654.254], \"type\": \"scatter\", \"uid\": \"c76ab70e-80a4-4250-b7d1-4d7f8d866cab\"}, {\"hoverinfo\": \"name+text\", \"legendgroup\": \"0\", \"line\": {\"color\": \"green\", \"width\": 1}, \"name\": \"T0: 4/6 ok\", \"opacity\": 1, \"showlegend\": false, \"text\": [\"19698\", \"35259\", \"41464\", \"73085\", \"79880\", \"92130\", \"107883\"], \"x\": [-54.4897, -57.8177], \"y\": [-654.254, -817.466], \"type\": \"scatter\", \"uid\": \"cb1366a6-3171-4852-a10a-432373bd3041\"}], {\"height\": 800, \"hovermode\": \"closest\", \"showlegend\": true, \"updatemenus\": [{\"buttons\": [{\"args\": [\"shapes\", []], \"label\": \"hide layers\", \"method\": \"relayout\"}, {\"args\": [\"shapes\", [{\"type\": \"circle\", \"x0\": -32, \"x1\": 32, \"y0\": -32, \"y1\": 32, \"opacity\": 0.5, \"layer\": \"below\", \"line\": {\"color\": \"#ccc\"}}, {\"type\": \"circle\", \"x0\": -72, \"x1\": 72, \"y0\": -72, \"y1\": 72, \"opacity\": 0.5, \"layer\": \"below\", \"line\": {\"color\": \"#ccc\"}}, {\"type\": \"circle\", \"x0\": -116, \"x1\": 116, \"y0\": -116, \"y1\": 116, \"opacity\": 0.5, \"layer\": \"below\", \"line\": {\"color\": \"#ccc\"}}, {\"type\": \"circle\", \"x0\": -172, \"x1\": 172, \"y0\": -172, \"y1\": 172, \"opacity\": 0.5, \"layer\": \"below\", \"line\": {\"color\": \"#ccc\"}}, {\"type\": \"circle\", \"x0\": -260, \"x1\": 260, \"y0\": -260, \"y1\": 260, \"opacity\": 0.5, \"layer\": \"below\", \"line\": {\"color\": \"#cccc8d\"}}, {\"type\": \"circle\", \"x0\": -360, \"x1\": 360, \"y0\": -360, \"y1\": 360, \"opacity\": 0.5, \"layer\": \"below\", \"line\": {\"color\": \"#cccc8d\"}}, {\"type\": \"circle\", \"x0\": -500, \"x1\": 500, \"y0\": -500, \"y1\": 500, \"opacity\": 0.5, \"layer\": \"below\", \"line\": {\"color\": \"#cccc8d\"}}, {\"type\": \"circle\", \"x0\": -660, \"x1\": 660, \"y0\": -660, \"y1\": 660, \"opacity\": 0.5, \"layer\": \"below\", \"line\": {\"color\": \"#cccc8d\"}}, {\"type\": \"circle\", \"x0\": -820, \"x1\": 820, \"y0\": -820, \"y1\": 820, \"opacity\": 0.5, \"layer\": \"below\", \"line\": {\"color\": \"#ccc\"}}, {\"type\": \"circle\", \"x0\": -1020, \"x1\": 1020, \"y0\": -1020, \"y1\": 1020, \"opacity\": 0.5, \"layer\": \"below\", \"line\": {\"color\": \"#ccc\"}}]], \"label\": \"show layers\", \"method\": \"relayout\"}], \"direction\": \"left\", \"pad\": {\"l\": 0.1}, \"type\": \"buttons\", \"xanchor\": \"left\", \"y\": 1.1, \"yanchor\": \"top\"}, {\"buttons\": [{\"args\": [{\"mode\": \"markers+lines\"}], \"label\": \"hits+tracks\", \"method\": \"update\"}, {\"args\": [{\"mode\": \"markers\"}], \"label\": \"hits only\", \"method\": \"update\"}], \"direction\": \"left\", \"pad\": {\"l\": 200}, \"type\": \"buttons\", \"xanchor\": \"left\", \"y\": 1.1, \"yanchor\": \"top\"}, {\"buttons\": [{\"args\": [\"yaxis.scaleanchor\", null], \"label\": \"free\", \"method\": \"relayout\"}, {\"args\": [\"yaxis.scaleanchor\", \"x\"], \"label\": \"fixed\", \"method\": \"relayout\"}], \"direction\": \"left\", \"pad\": {\"l\": 380}, \"type\": \"buttons\", \"xanchor\": \"left\", \"y\": 1.1, \"yanchor\": \"top\"}], \"width\": 800, \"xaxis\": {\"title\": \"x\"}, \"yaxis\": {\"title\": \"y\"}}, {\"showLink\": true, \"linkText\": \"Export to plot.ly\", \"plotlyServerURL\": \"https://plot.ly\"})});</script>"
      ]
     },
     "metadata": {},
     "output_type": "display_data"
    }
   ],
   "source": [
    "set_notebook_mode() # if running inside a notebook\n",
    "\n",
    "# load the dataset and the response_vqe (created using the qallse tool)\n",
    "dw = DataWrapper.from_path('C:/Users/timsc/hepqpr-qallse-data/ds1/event000001000-hits.csv')\n",
    "with open('C:/Users/timsc/hepqpr-qallse-data/ds1/evt1000-ds1-vqe-0-response.pickle', 'rb') as f: \n",
    "    response_vqe = pickle.load(f)\n",
    "\n",
    "# process the response_vqe and get the set of missing doublets\n",
    "final_doublets, final_tracks, energy = process_response_vqe(response_vqe)\n",
    "precision, recall, missings = dw.compute_score(final_doublets)\n",
    "\n",
    "# plotting examples\n",
    "iplot_results(dw, final_doublets, missings)\n",
    "iplot_results(dw, final_doublets, missings, dims=list('zr'))\n",
    "iplot_results_tracks(dw, final_tracks)"
   ]
  },
  {
   "cell_type": "code",
   "execution_count": 3,
   "id": "622d277b",
   "metadata": {},
   "outputs": [
    {
     "data": {
      "text/html": [
       "<script type=\"text/javascript\">window.PlotlyConfig = {MathJaxConfig: 'local'};</script><script type=\"text/javascript\">if (window.MathJax) {MathJax.Hub.Config({SVG: {font: \"STIX-Web\"}});}</script><script>requirejs.config({paths: { 'plotly': ['https://cdn.plot.ly/plotly-latest.min']},});if(!window._Plotly) {require(['plotly'],function(plotly) {window._Plotly=plotly;});}</script>"
      ],
      "text/vnd.plotly.v1+html": [
       "<script type=\"text/javascript\">window.PlotlyConfig = {MathJaxConfig: 'local'};</script><script type=\"text/javascript\">if (window.MathJax) {MathJax.Hub.Config({SVG: {font: \"STIX-Web\"}});}</script><script>requirejs.config({paths: { 'plotly': ['https://cdn.plot.ly/plotly-latest.min']},});if(!window._Plotly) {require(['plotly'],function(plotly) {window._Plotly=plotly;});}</script>"
      ]
     },
     "metadata": {},
     "output_type": "display_data"
    },
    {
     "data": {
      "application/vnd.plotly.v1+json": {
       "config": {
        "linkText": "Export to plot.ly",
        "plotlyServerURL": "https://plot.ly",
        "showLink": true
       },
       "data": [
        {
         "hoverinfo": "name+text",
         "legendgroup": "fake",
         "line": {
          "color": "red",
          "width": 1
         },
         "name": "fake",
         "opacity": 1,
         "showlegend": true,
         "text": [
          "23050",
          "37198"
         ],
         "type": "scatter",
         "uid": "d0d7b88c-88eb-4c23-b41a-ba39d1c7151c",
         "x": [
          -4.64343,
          -13.5617
         ],
         "y": [
          31.6821,
          114.204
         ]
        },
        {
         "hoverinfo": "name+text",
         "legendgroup": "real_unfocused",
         "line": {
          "color": "darkseagreen",
          "width": 1
         },
         "name": "real_unfocused",
         "opacity": 1,
         "showlegend": true,
         "text": [
          "18246",
          "27129"
         ],
         "type": "scatter",
         "uid": "3f2e314c-7994-471c-b28b-23efc61efe35",
         "x": [
          -21.7191,
          -49.4278
         ],
         "y": [
          -22.879,
          -53.6609
         ]
        },
        {
         "hoverinfo": "name+text",
         "legendgroup": "real_unfocused",
         "line": {
          "color": "darkseagreen",
          "width": 1
         },
         "name": "real_unfocused",
         "opacity": 1,
         "showlegend": false,
         "text": [
          "27129",
          "34226"
         ],
         "type": "scatter",
         "uid": "4edad21b-bb7a-4d2e-9a66-9e8732f1e4c6",
         "x": [
          -49.4278,
          -76.6251
         ],
         "y": [
          -53.6609,
          -85.78
         ]
        },
        {
         "hoverinfo": "name+text",
         "legendgroup": "real_unfocused",
         "line": {
          "color": "darkseagreen",
          "width": 1
         },
         "name": "real_unfocused",
         "opacity": 1,
         "showlegend": false,
         "text": [
          "34226",
          "40268"
         ],
         "type": "scatter",
         "uid": "f9c46f06-0678-4cf5-a7c6-dc336eb93a3a",
         "x": [
          -76.6251,
          -111.405
         ],
         "y": [
          -85.78,
          -130.203
         ]
        },
        {
         "hoverinfo": "name+text",
         "legendgroup": "real_unfocused",
         "line": {
          "color": "darkseagreen",
          "width": 1
         },
         "name": "real_unfocused",
         "opacity": 1,
         "showlegend": false,
         "text": [
          "40268",
          "72036"
         ],
         "type": "scatter",
         "uid": "9ef0ae00-9bee-4bc3-9b0e-827d564f3588",
         "x": [
          -111.405,
          -163.782
         ],
         "y": [
          -130.203,
          -205.827
         ]
        },
        {
         "hoverinfo": "name+text",
         "legendgroup": "real_unfocused",
         "line": {
          "color": "darkseagreen",
          "width": 1
         },
         "name": "real_unfocused",
         "opacity": 1,
         "showlegend": false,
         "text": [
          "72036",
          "78762"
         ],
         "type": "scatter",
         "uid": "657abb3f-b66a-4ee8-91fa-12ff2ba90e8f",
         "x": [
          -163.782,
          -213.656
         ],
         "y": [
          -205.827,
          -290.52
         ]
        },
        {
         "hoverinfo": "name+text",
         "legendgroup": "real_unfocused",
         "line": {
          "color": "darkseagreen",
          "width": 1
         },
         "name": "real_unfocused",
         "opacity": 1,
         "showlegend": false,
         "text": [
          "75184",
          "82090"
         ],
         "type": "scatter",
         "uid": "1fbcc3f7-4f88-45b9-8c0f-93f1f9d907fd",
         "x": [
          -1.10379,
          -15.6281
         ],
         "y": [
          -262.164,
          -358.871
         ]
        },
        {
         "hoverinfo": "name+text",
         "legendgroup": "real_unfocused",
         "line": {
          "color": "darkseagreen",
          "width": 1
         },
         "name": "real_unfocused",
         "opacity": 1,
         "showlegend": false,
         "text": [
          "82090",
          "88632"
         ],
         "type": "scatter",
         "uid": "3fa323eb-ab02-421a-8aa6-526dafb079a7",
         "x": [
          -15.6281,
          -48.3976
         ],
         "y": [
          -358.871,
          -494.939
         ]
        },
        {
         "hoverinfo": "name+text",
         "legendgroup": "real_unfocused",
         "line": {
          "color": "darkseagreen",
          "width": 1
         },
         "name": "real_unfocused",
         "opacity": 1,
         "showlegend": false,
         "text": [
          "88632",
          "94896"
         ],
         "type": "scatter",
         "uid": "1a290243-2d7d-4e10-9042-2b62204293d8",
         "x": [
          -48.3976,
          -107.941
         ],
         "y": [
          -494.939,
          -654.971
         ]
        },
        {
         "hoverinfo": "name+text",
         "legendgroup": "real_unfocused",
         "line": {
          "color": "darkseagreen",
          "width": 1
         },
         "name": "real_unfocused",
         "opacity": 1,
         "showlegend": false,
         "text": [
          "94896",
          "110783"
         ],
         "type": "scatter",
         "uid": "4f4b076b-5b59-407b-b7b6-cd29b8190144",
         "x": [
          -107.941,
          -184.63
         ],
         "y": [
          -654.971,
          -801.703
         ]
        },
        {
         "hoverinfo": "name+text",
         "legendgroup": "real_unfocused",
         "line": {
          "color": "darkseagreen",
          "width": 1
         },
         "name": "real_unfocused",
         "opacity": 1,
         "showlegend": false,
         "text": [
          "110783",
          "116120"
         ],
         "type": "scatter",
         "uid": "1542384b-33de-445f-a3c2-1db771c0f53a",
         "x": [
          -184.63,
          -306.828
         ],
         "y": [
          -801.703,
          -971.876
         ]
        },
        {
         "hoverinfo": "name+text",
         "legendgroup": "real_unfocused",
         "line": {
          "color": "darkseagreen",
          "width": 1
         },
         "name": "real_unfocused",
         "opacity": 1,
         "showlegend": false,
         "text": [
          "37198",
          "44045"
         ],
         "type": "scatter",
         "uid": "0874d9d3-9090-45b7-8e83-d1252ef503e2",
         "x": [
          -13.5617,
          -16.8728
         ],
         "y": [
          114.204,
          171.016
         ]
        },
        {
         "hoverinfo": "name+text",
         "legendgroup": "real_unfocused",
         "line": {
          "color": "darkseagreen",
          "width": 1
         },
         "name": "real_unfocused",
         "opacity": 1,
         "showlegend": false,
         "text": [
          "44045",
          "75480"
         ],
         "type": "scatter",
         "uid": "5cd29f36-8d1a-4bfd-8f98-64da2bdd9a87",
         "x": [
          -16.8728,
          -17.738
         ],
         "y": [
          171.016,
          257.521
         ]
        },
        {
         "hoverinfo": "name+text",
         "legendgroup": "real_unfocused",
         "line": {
          "color": "darkseagreen",
          "width": 1
         },
         "name": "real_unfocused",
         "opacity": 1,
         "showlegend": false,
         "text": [
          "75480",
          "82723"
         ],
         "type": "scatter",
         "uid": "429d3e2d-9fb7-4e17-a1a8-556fedcfb90c",
         "x": [
          -17.738,
          -11.9561
         ],
         "y": [
          257.521,
          360.148
         ]
        },
        {
         "hoverinfo": "name+text",
         "legendgroup": "real_unfocused",
         "line": {
          "color": "darkseagreen",
          "width": 1
         },
         "name": "real_unfocused",
         "opacity": 1,
         "showlegend": false,
         "text": [
          "21405",
          "30694"
         ],
         "type": "scatter",
         "uid": "bfb035cb-0d83-41cd-aff6-cc80535d3e05",
         "x": [
          -33.5947,
          -73.825
         ],
         "y": [
          0.8266889999999999,
          0.838565
         ]
        },
        {
         "hoverinfo": "name+text",
         "legendgroup": "real_unfocused",
         "line": {
          "color": "darkseagreen",
          "width": 1
         },
         "name": "real_unfocused",
         "opacity": 1,
         "showlegend": false,
         "text": [
          "30694",
          "38058"
         ],
         "type": "scatter",
         "uid": "82376558-1ab9-4dc3-ba0b-71228b30d7e0",
         "x": [
          -73.825,
          -116.911
         ],
         "y": [
          0.838565,
          -0.235947
         ]
        },
        {
         "hoverinfo": "name+text",
         "legendgroup": "real_unfocused",
         "line": {
          "color": "darkseagreen",
          "width": 1
         },
         "name": "real_unfocused",
         "opacity": 1,
         "showlegend": false,
         "text": [
          "38058",
          "44664"
         ],
         "type": "scatter",
         "uid": "6be5c237-f9bb-4296-8f2a-ae76e41fb3ae",
         "x": [
          -116.911,
          -172.74200000000005
         ],
         "y": [
          -0.235947,
          -3.4674400000000003
         ]
        },
        {
         "hoverinfo": "name+text",
         "legendgroup": "real_unfocused",
         "line": {
          "color": "darkseagreen",
          "width": 1
         },
         "name": "real_unfocused",
         "opacity": 1,
         "showlegend": false,
         "text": [
          "44664",
          "76101"
         ],
         "type": "scatter",
         "uid": "db96a91f-7ade-4dcf-96a3-1cd7430f5839",
         "x": [
          -172.74200000000005,
          -257.127
         ],
         "y": [
          -3.4674400000000003,
          -12.2321
         ]
        },
        {
         "hoverinfo": "name+text",
         "legendgroup": "real_unfocused",
         "line": {
          "color": "darkseagreen",
          "width": 1
         },
         "name": "real_unfocused",
         "opacity": 1,
         "showlegend": false,
         "text": [
          "76101",
          "83615"
         ],
         "type": "scatter",
         "uid": "96f559d2-afb2-40bc-a475-1c2b9cb0338c",
         "x": [
          -257.127,
          -358.775
         ],
         "y": [
          -12.2321,
          -29.005
         ]
        },
        {
         "hoverinfo": "name+text",
         "legendgroup": "real_unfocused",
         "line": {
          "color": "darkseagreen",
          "width": 1
         },
         "name": "real_unfocused",
         "opacity": 1,
         "showlegend": false,
         "text": [
          "83615",
          "90565"
         ],
         "type": "scatter",
         "uid": "24455024-96f5-4a8c-8f35-e6601ec5bcdb",
         "x": [
          -358.775,
          -494.937
         ],
         "y": [
          -29.005,
          -62.5497
         ]
        },
        {
         "hoverinfo": "name+text",
         "legendgroup": "real_unfocused",
         "line": {
          "color": "darkseagreen",
          "width": 1
         },
         "name": "real_unfocused",
         "opacity": 1,
         "showlegend": false,
         "text": [
          "90565",
          "96738"
         ],
         "type": "scatter",
         "uid": "d44159c2-21e5-4883-842d-74f986b4efff",
         "x": [
          -494.937,
          -650.641
         ],
         "y": [
          -62.5497,
          -117.418
         ]
        },
        {
         "hoverinfo": "name+text",
         "legendgroup": "real",
         "line": {
          "color": "green",
          "width": 1
         },
         "name": "real",
         "opacity": 1,
         "showlegend": true,
         "text": [
          "20764",
          "27487"
         ],
         "type": "scatter",
         "uid": "e900ecb7-3396-4acf-bd69-9c7b15d6fcad",
         "x": [
          5.5706,
          10.5024
         ],
         "y": [
          31.671,
          72.0453
         ]
        },
        {
         "hoverinfo": "name+text",
         "legendgroup": "real",
         "line": {
          "color": "green",
          "width": 1
         },
         "name": "real",
         "opacity": 1,
         "showlegend": false,
         "text": [
          "27487",
          "34491"
         ],
         "type": "scatter",
         "uid": "78673461-1fdc-4602-baa2-daaee5fd2163",
         "x": [
          10.5024,
          14.7116
         ],
         "y": [
          72.0453,
          114.108
         ]
        },
        {
         "hoverinfo": "name+text",
         "legendgroup": "real",
         "line": {
          "color": "green",
          "width": 1
         },
         "name": "real",
         "opacity": 1,
         "showlegend": false,
         "text": [
          "34491",
          "40865"
         ],
         "type": "scatter",
         "uid": "8ba0cce3-0e65-44eb-9ebb-bf5366afd633",
         "x": [
          14.7116,
          18.992
         ],
         "y": [
          114.108,
          171.997
         ]
        },
        {
         "hoverinfo": "name+text",
         "legendgroup": "real",
         "line": {
          "color": "green",
          "width": 1
         },
         "name": "real",
         "opacity": 1,
         "showlegend": false,
         "text": [
          "40865",
          "72549"
         ],
         "type": "scatter",
         "uid": "0939cad9-a526-44b4-bdea-8ea868cc2632",
         "x": [
          18.992,
          22.298
         ],
         "y": [
          171.997,
          257.23400000000004
         ]
        },
        {
         "hoverinfo": "name+text",
         "legendgroup": "real",
         "line": {
          "color": "green",
          "width": 1
         },
         "name": "real",
         "opacity": 1,
         "showlegend": false,
         "text": [
          "72549",
          "79138"
         ],
         "type": "scatter",
         "uid": "d2f64dd7-1706-4d61-bcc8-64c70d10df9b",
         "x": [
          22.298,
          21.6577
         ],
         "y": [
          257.23400000000004,
          357.611
         ]
        },
        {
         "hoverinfo": "name+text",
         "legendgroup": "real",
         "line": {
          "color": "green",
          "width": 1
         },
         "name": "real",
         "opacity": 1,
         "showlegend": false,
         "text": [
          "79138",
          "85537"
         ],
         "type": "scatter",
         "uid": "6ea0a92d-5315-4ce9-bfc6-08bd509d4620",
         "x": [
          21.6577,
          12.251
         ],
         "y": [
          357.611,
          496.648
         ]
        },
        {
         "hoverinfo": "name+text",
         "legendgroup": "real",
         "line": {
          "color": "green",
          "width": 1
         },
         "name": "real",
         "opacity": 1,
         "showlegend": false,
         "text": [
          "20262",
          "28058"
         ],
         "type": "scatter",
         "uid": "d8950512-e265-41af-a748-36b2e00f2a6a",
         "x": [
          32.2451,
          70.7765
         ],
         "y": [
          4.53326,
          9.61941
         ]
        },
        {
         "hoverinfo": "name+text",
         "legendgroup": "real",
         "line": {
          "color": "green",
          "width": 1
         },
         "name": "real",
         "opacity": 1,
         "showlegend": false,
         "text": [
          "28058",
          "34877"
         ],
         "type": "scatter",
         "uid": "6b582c63-04c1-4ed1-9445-410969289655",
         "x": [
          70.7765,
          114.433
         ],
         "y": [
          9.61941,
          14.9217
         ]
        },
        {
         "hoverinfo": "name+text",
         "legendgroup": "real",
         "line": {
          "color": "green",
          "width": 1
         },
         "name": "real",
         "opacity": 1,
         "showlegend": false,
         "text": [
          "34877",
          "41146"
         ],
         "type": "scatter",
         "uid": "ea811727-8a35-4678-b9c5-e3fc6e65819b",
         "x": [
          114.433,
          170.40099999999995
         ],
         "y": [
          14.9217,
          21.0637
         ]
        },
        {
         "hoverinfo": "name+text",
         "legendgroup": "real",
         "line": {
          "color": "green",
          "width": 1
         },
         "name": "real",
         "opacity": 1,
         "showlegend": false,
         "text": [
          "41146",
          "73201"
         ],
         "type": "scatter",
         "uid": "724ea4a1-b9cf-4b2f-ace8-194b6311b837",
         "x": [
          170.40099999999995,
          258.338
         ],
         "y": [
          21.0637,
          29.1488
         ]
        },
        {
         "hoverinfo": "name+text",
         "legendgroup": "real",
         "line": {
          "color": "green",
          "width": 1
         },
         "name": "real",
         "opacity": 1,
         "showlegend": false,
         "text": [
          "73201",
          "79641"
         ],
         "type": "scatter",
         "uid": "4c7e9d34-0c1a-451c-9649-beccb4ecf527",
         "x": [
          258.338,
          359.452
         ],
         "y": [
          29.1488,
          36.1999
         ]
        },
        {
         "hoverinfo": "name+text",
         "legendgroup": "real",
         "line": {
          "color": "green",
          "width": 1
         },
         "name": "real",
         "opacity": 1,
         "showlegend": false,
         "text": [
          "79641",
          "86195"
         ],
         "type": "scatter",
         "uid": "4c25d878-ff4f-460f-99a0-86451985c3a8",
         "x": [
          359.452,
          503.503
         ],
         "y": [
          36.1999,
          42.0709
         ]
        },
        {
         "hoverinfo": "name+text",
         "legendgroup": "real",
         "line": {
          "color": "green",
          "width": 1
         },
         "name": "real",
         "opacity": 1,
         "showlegend": false,
         "text": [
          "86195",
          "91955"
         ],
         "type": "scatter",
         "uid": "28bb899d-e07f-44da-9690-df0cbae12398",
         "x": [
          503.503,
          663.908
         ],
         "y": [
          42.0709,
          43.0984
         ]
        },
        {
         "hoverinfo": "name+text",
         "legendgroup": "real",
         "line": {
          "color": "green",
          "width": 1
         },
         "name": "real",
         "opacity": 1,
         "showlegend": false,
         "text": [
          "91955",
          "107743"
         ],
         "type": "scatter",
         "uid": "1c59b922-4f31-41af-8c07-862a7cc855e2",
         "x": [
          663.908,
          823.312
         ],
         "y": [
          43.0984,
          38.3265
         ]
        },
        {
         "hoverinfo": "name+text",
         "legendgroup": "real",
         "line": {
          "color": "green",
          "width": 1
         },
         "name": "real",
         "opacity": 1,
         "showlegend": false,
         "text": [
          "19698",
          "27827"
         ],
         "type": "scatter",
         "uid": "76f32830-5b3c-4cb3-a80c-7e09bd593fae",
         "x": [
          -4.16977,
          -9.16296
         ],
         "y": [
          -31.75,
          -71.4937
         ]
        },
        {
         "hoverinfo": "name+text",
         "legendgroup": "real",
         "line": {
          "color": "green",
          "width": 1
         },
         "name": "real",
         "opacity": 1,
         "showlegend": false,
         "text": [
          "27827",
          "35259"
         ],
         "type": "scatter",
         "uid": "9bc216dc-c7cc-4e81-982e-cd68a9995a59",
         "x": [
          -9.16296,
          -14.2464
         ],
         "y": [
          -71.4937,
          -114.127
         ]
        },
        {
         "hoverinfo": "name+text",
         "legendgroup": "real",
         "line": {
          "color": "green",
          "width": 1
         },
         "name": "real",
         "opacity": 1,
         "showlegend": false,
         "text": [
          "35259",
          "41464"
         ],
         "type": "scatter",
         "uid": "d24db658-d5a6-45e1-93e7-3ed7c0cdf157",
         "x": [
          -14.2464,
          -20.5217
         ],
         "y": [
          -114.127,
          -170.169
         ]
        },
        {
         "hoverinfo": "name+text",
         "legendgroup": "real",
         "line": {
          "color": "green",
          "width": 1
         },
         "name": "real",
         "opacity": 1,
         "showlegend": false,
         "text": [
          "41464",
          "73085"
         ],
         "type": "scatter",
         "uid": "ddcdf4b1-021b-4333-b31d-56ce58e2c875",
         "x": [
          -20.5217,
          -29.116
         ],
         "y": [
          -170.169,
          -255.648
         ]
        },
        {
         "hoverinfo": "name+text",
         "legendgroup": "real",
         "line": {
          "color": "green",
          "width": 1
         },
         "name": "real",
         "opacity": 1,
         "showlegend": false,
         "text": [
          "73085",
          "79880"
         ],
         "type": "scatter",
         "uid": "511d392a-2ea4-49a2-9f43-d11b4768c2f8",
         "x": [
          -29.116,
          -38.3955
         ],
         "y": [
          -255.648,
          -363.693
         ]
        },
        {
         "hoverinfo": "name+text",
         "legendgroup": "real",
         "line": {
          "color": "green",
          "width": 1
         },
         "name": "real",
         "opacity": 1,
         "showlegend": false,
         "text": [
          "79880",
          "86402"
         ],
         "type": "scatter",
         "uid": "b2f7a53c-5b93-48a0-b147-d463eea06b94",
         "x": [
          -38.3955,
          -47.3072
         ],
         "y": [
          -363.693,
          -495.195
         ]
        },
        {
         "hoverinfo": "name+text",
         "legendgroup": "real",
         "line": {
          "color": "green",
          "width": 1
         },
         "name": "real",
         "opacity": 1,
         "showlegend": false,
         "text": [
          "86402",
          "92130"
         ],
         "type": "scatter",
         "uid": "6ffc63b1-ee70-41c0-81b3-832d63afa3e6",
         "x": [
          -47.3072,
          -54.4897
         ],
         "y": [
          -495.195,
          -654.254
         ]
        },
        {
         "hoverinfo": "name+text",
         "legendgroup": "real",
         "line": {
          "color": "green",
          "width": 1
         },
         "name": "real",
         "opacity": 1,
         "showlegend": false,
         "text": [
          "92130",
          "107883"
         ],
         "type": "scatter",
         "uid": "93bb8c53-43cd-4851-bcfb-9d78974b8ac7",
         "x": [
          -54.4897,
          -57.8177
         ],
         "y": [
          -654.254,
          -817.466
         ]
        },
        {
         "hoverinfo": "name+text",
         "legendgroup": "real",
         "line": {
          "color": "green",
          "width": 1
         },
         "name": "real",
         "opacity": 1,
         "showlegend": false,
         "text": [
          "21265",
          "29504"
         ],
         "type": "scatter",
         "uid": "c5784691-9359-4535-9c43-994de8020c5e",
         "x": [
          -31.6364,
          -70.206
         ],
         "y": [
          6.18379,
          14.1226
         ]
        },
        {
         "hoverinfo": "name+text",
         "legendgroup": "real",
         "line": {
          "color": "green",
          "width": 1
         },
         "name": "real",
         "opacity": 1,
         "showlegend": false,
         "text": [
          "29504",
          "42350"
         ],
         "type": "scatter",
         "uid": "a843120b-d8a3-4f80-b083-02d1e98f65ff",
         "x": [
          -70.206,
          -168.155
         ],
         "y": [
          14.1226,
          36.3725
         ]
        },
        {
         "hoverinfo": "name+text",
         "legendgroup": "real",
         "line": {
          "color": "green",
          "width": 1
         },
         "name": "real",
         "opacity": 1,
         "showlegend": false,
         "text": [
          "42350",
          "73830"
         ],
         "type": "scatter",
         "uid": "87a5903e-3d7a-43b0-b44e-3671004d846b",
         "x": [
          -168.155,
          -255.151
         ],
         "y": [
          36.3725,
          58.8872
         ]
        },
        {
         "hoverinfo": "name+text",
         "legendgroup": "real",
         "line": {
          "color": "green",
          "width": 1
         },
         "name": "real",
         "opacity": 1,
         "showlegend": false,
         "text": [
          "73830",
          "80933"
         ],
         "type": "scatter",
         "uid": "fd6b0d69-cc11-4fd6-a07e-c2aae1aa555e",
         "x": [
          -255.151,
          -353.285
         ],
         "y": [
          58.8872,
          87.1991
         ]
        },
        {
         "hoverinfo": "name+text",
         "legendgroup": "real",
         "line": {
          "color": "green",
          "width": 1
         },
         "name": "real",
         "opacity": 1,
         "showlegend": false,
         "text": [
          "80933",
          "87292"
         ],
         "type": "scatter",
         "uid": "da73dc68-65a2-41b2-b907-44712f466226",
         "x": [
          -353.285,
          -482.875
         ],
         "y": [
          87.1991,
          129.892
         ]
        },
        {
         "hoverinfo": "name+text",
         "legendgroup": "real",
         "line": {
          "color": "green",
          "width": 1
         },
         "name": "real",
         "opacity": 1,
         "showlegend": false,
         "text": [
          "87292",
          "93165"
         ],
         "type": "scatter",
         "uid": "39263bee-e6c8-4675-88a2-c7c10d01b6a4",
         "x": [
          -482.875,
          -633.385
         ],
         "y": [
          129.892,
          187.317
         ]
        },
        {
         "hoverinfo": "name+text",
         "legendgroup": "real",
         "line": {
          "color": "green",
          "width": 1
         },
         "name": "real",
         "opacity": 1,
         "showlegend": false,
         "text": [
          "93165",
          "109022"
         ],
         "type": "scatter",
         "uid": "4188a0d5-4e17-46d5-ad36-e020d9f7d6a4",
         "x": [
          -633.385,
          -782.4169999999998
         ],
         "y": [
          187.317,
          252.867
         ]
        },
        {
         "hoverinfo": "name+text",
         "legendgroup": "real",
         "line": {
          "color": "green",
          "width": 1
         },
         "name": "real",
         "opacity": 1,
         "showlegend": false,
         "text": [
          "109022",
          "114036"
         ],
         "type": "scatter",
         "uid": "87eaac48-e878-407f-b4f1-368024be515f",
         "x": [
          -782.4169999999998,
          -962.827
         ],
         "y": [
          252.867,
          344.76199999999994
         ]
        },
        {
         "hoverinfo": "name+text",
         "legendgroup": "real",
         "line": {
          "color": "green",
          "width": 1
         },
         "name": "real",
         "opacity": 1,
         "showlegend": false,
         "text": [
          "23536",
          "31418"
         ],
         "type": "scatter",
         "uid": "f9cfe447-d167-48eb-bb42-df817b7735ea",
         "x": [
          -30.9263,
          -68.8454
         ],
         "y": [
          9.9814,
          22.8573
         ]
        },
        {
         "hoverinfo": "name+text",
         "legendgroup": "real",
         "line": {
          "color": "green",
          "width": 1
         },
         "name": "real",
         "opacity": 1,
         "showlegend": false,
         "text": [
          "31418",
          "38524"
         ],
         "type": "scatter",
         "uid": "1312e229-d473-4cd6-be6f-9b4e1402185f",
         "x": [
          -68.8454,
          -109.987
         ],
         "y": [
          22.8573,
          37.6253
         ]
        },
        {
         "hoverinfo": "name+text",
         "legendgroup": "real",
         "line": {
          "color": "green",
          "width": 1
         },
         "name": "real",
         "opacity": 1,
         "showlegend": false,
         "text": [
          "38524",
          "45067"
         ],
         "type": "scatter",
         "uid": "f03e8c4f-7e29-40cb-ab92-a3c833f1d943",
         "x": [
          -109.987,
          -161.876
         ],
         "y": [
          37.6253,
          57.4577
         ]
        },
        {
         "hoverinfo": "name+text",
         "legendgroup": "real",
         "line": {
          "color": "green",
          "width": 1
         },
         "name": "real",
         "opacity": 1,
         "showlegend": false,
         "text": [
          "45067",
          "76902"
         ],
         "type": "scatter",
         "uid": "dfaec092-26ec-4e09-b793-a934e5cba73c",
         "x": [
          -161.876,
          -246.02
         ],
         "y": [
          57.4577,
          92.7332
         ]
        },
        {
         "hoverinfo": "name+text",
         "legendgroup": "real",
         "line": {
          "color": "green",
          "width": 1
         },
         "name": "real",
         "opacity": 1,
         "showlegend": false,
         "text": [
          "76902",
          "83944"
         ],
         "type": "scatter",
         "uid": "8a0e3923-7fcd-4f40-8106-e98d2df220bb",
         "x": [
          -246.02,
          -333.426
         ],
         "y": [
          92.7332,
          133.519
         ]
        },
        {
         "hoverinfo": "name+text",
         "legendgroup": "real",
         "line": {
          "color": "green",
          "width": 1
         },
         "name": "real",
         "opacity": 1,
         "showlegend": false,
         "text": [
          "83944",
          "90803"
         ],
         "type": "scatter",
         "uid": "abc21f9e-0008-4245-9bb9-9eb4d437a152",
         "x": [
          -333.426,
          -459.273
         ],
         "y": [
          133.519,
          200.49400000000003
         ]
        },
        {
         "hoverinfo": "name+text",
         "legendgroup": "real",
         "line": {
          "color": "green",
          "width": 1
         },
         "name": "real",
         "opacity": 1,
         "showlegend": false,
         "text": [
          "90803",
          "96934"
         ],
         "type": "scatter",
         "uid": "fd3b3b0f-d163-4b89-8bfb-e8303de4ec0f",
         "x": [
          -459.273,
          -595.614
         ],
         "y": [
          200.49400000000003,
          284.758
         ]
        }
       ],
       "layout": {
        "height": 800,
        "hovermode": "closest",
        "showlegend": true,
        "updatemenus": [
         {
          "buttons": [
           {
            "args": [
             "shapes",
             []
            ],
            "label": "hide layers",
            "method": "relayout"
           },
           {
            "args": [
             "shapes",
             [
              {
               "layer": "below",
               "line": {
                "color": "#ccc"
               },
               "opacity": 0.5,
               "type": "circle",
               "x0": -32,
               "x1": 32,
               "y0": -32,
               "y1": 32
              },
              {
               "layer": "below",
               "line": {
                "color": "#ccc"
               },
               "opacity": 0.5,
               "type": "circle",
               "x0": -72,
               "x1": 72,
               "y0": -72,
               "y1": 72
              },
              {
               "layer": "below",
               "line": {
                "color": "#ccc"
               },
               "opacity": 0.5,
               "type": "circle",
               "x0": -116,
               "x1": 116,
               "y0": -116,
               "y1": 116
              },
              {
               "layer": "below",
               "line": {
                "color": "#ccc"
               },
               "opacity": 0.5,
               "type": "circle",
               "x0": -172,
               "x1": 172,
               "y0": -172,
               "y1": 172
              },
              {
               "layer": "below",
               "line": {
                "color": "#cccc8d"
               },
               "opacity": 0.5,
               "type": "circle",
               "x0": -260,
               "x1": 260,
               "y0": -260,
               "y1": 260
              },
              {
               "layer": "below",
               "line": {
                "color": "#cccc8d"
               },
               "opacity": 0.5,
               "type": "circle",
               "x0": -360,
               "x1": 360,
               "y0": -360,
               "y1": 360
              },
              {
               "layer": "below",
               "line": {
                "color": "#cccc8d"
               },
               "opacity": 0.5,
               "type": "circle",
               "x0": -500,
               "x1": 500,
               "y0": -500,
               "y1": 500
              },
              {
               "layer": "below",
               "line": {
                "color": "#cccc8d"
               },
               "opacity": 0.5,
               "type": "circle",
               "x0": -660,
               "x1": 660,
               "y0": -660,
               "y1": 660
              },
              {
               "layer": "below",
               "line": {
                "color": "#ccc"
               },
               "opacity": 0.5,
               "type": "circle",
               "x0": -820,
               "x1": 820,
               "y0": -820,
               "y1": 820
              },
              {
               "layer": "below",
               "line": {
                "color": "#ccc"
               },
               "opacity": 0.5,
               "type": "circle",
               "x0": -1020,
               "x1": 1020,
               "y0": -1020,
               "y1": 1020
              }
             ]
            ],
            "label": "show layers",
            "method": "relayout"
           }
          ],
          "direction": "left",
          "pad": {
           "l": 0.1
          },
          "type": "buttons",
          "xanchor": "left",
          "y": 1.1,
          "yanchor": "top"
         },
         {
          "buttons": [
           {
            "args": [
             {
              "mode": "markers+lines"
             }
            ],
            "label": "hits+tracks",
            "method": "update"
           },
           {
            "args": [
             {
              "mode": "markers"
             }
            ],
            "label": "hits only",
            "method": "update"
           }
          ],
          "direction": "left",
          "pad": {
           "l": 200
          },
          "type": "buttons",
          "xanchor": "left",
          "y": 1.1,
          "yanchor": "top"
         },
         {
          "buttons": [
           {
            "args": [
             "yaxis.scaleanchor",
             null
            ],
            "label": "free",
            "method": "relayout"
           },
           {
            "args": [
             "yaxis.scaleanchor",
             "x"
            ],
            "label": "fixed",
            "method": "relayout"
           }
          ],
          "direction": "left",
          "pad": {
           "l": 380
          },
          "type": "buttons",
          "xanchor": "left",
          "y": 1.1,
          "yanchor": "top"
         }
        ],
        "width": 800,
        "xaxis": {
         "title": "x"
        },
        "yaxis": {
         "title": "y"
        }
       }
      },
      "text/html": [
       "<div id=\"c3bf448e-4e34-4322-b52d-50fa195ea820\" style=\"height: 800px; width: 800px;\" class=\"plotly-graph-div\"></div><script type=\"text/javascript\">require([\"plotly\"], function(Plotly) { window.PLOTLYENV=window.PLOTLYENV || {};window.PLOTLYENV.BASE_URL=\"https://plot.ly\";Plotly.newPlot(\"c3bf448e-4e34-4322-b52d-50fa195ea820\", [{\"hoverinfo\": \"name+text\", \"legendgroup\": \"fake\", \"line\": {\"color\": \"red\", \"width\": 1}, \"name\": \"fake\", \"opacity\": 1, \"showlegend\": true, \"text\": [\"23050\", \"37198\"], \"x\": [-4.64343, -13.5617], \"y\": [31.6821, 114.204], \"type\": \"scatter\", \"uid\": \"d0d7b88c-88eb-4c23-b41a-ba39d1c7151c\"}, {\"hoverinfo\": \"name+text\", \"legendgroup\": \"real_unfocused\", \"line\": {\"color\": \"darkseagreen\", \"width\": 1}, \"name\": \"real_unfocused\", \"opacity\": 1, \"showlegend\": true, \"text\": [\"18246\", \"27129\"], \"x\": [-21.7191, -49.4278], \"y\": [-22.879, -53.6609], \"type\": \"scatter\", \"uid\": \"3f2e314c-7994-471c-b28b-23efc61efe35\"}, {\"hoverinfo\": \"name+text\", \"legendgroup\": \"real_unfocused\", \"line\": {\"color\": \"darkseagreen\", \"width\": 1}, \"name\": \"real_unfocused\", \"opacity\": 1, \"showlegend\": false, \"text\": [\"27129\", \"34226\"], \"x\": [-49.4278, -76.6251], \"y\": [-53.6609, -85.78], \"type\": \"scatter\", \"uid\": \"4edad21b-bb7a-4d2e-9a66-9e8732f1e4c6\"}, {\"hoverinfo\": \"name+text\", \"legendgroup\": \"real_unfocused\", \"line\": {\"color\": \"darkseagreen\", \"width\": 1}, \"name\": \"real_unfocused\", \"opacity\": 1, \"showlegend\": false, \"text\": [\"34226\", \"40268\"], \"x\": [-76.6251, -111.405], \"y\": [-85.78, -130.203], \"type\": \"scatter\", \"uid\": \"f9c46f06-0678-4cf5-a7c6-dc336eb93a3a\"}, {\"hoverinfo\": \"name+text\", \"legendgroup\": \"real_unfocused\", \"line\": {\"color\": \"darkseagreen\", \"width\": 1}, \"name\": \"real_unfocused\", \"opacity\": 1, \"showlegend\": false, \"text\": [\"40268\", \"72036\"], \"x\": [-111.405, -163.782], \"y\": [-130.203, -205.827], \"type\": \"scatter\", \"uid\": \"9ef0ae00-9bee-4bc3-9b0e-827d564f3588\"}, {\"hoverinfo\": \"name+text\", \"legendgroup\": \"real_unfocused\", \"line\": {\"color\": \"darkseagreen\", \"width\": 1}, \"name\": \"real_unfocused\", \"opacity\": 1, \"showlegend\": false, \"text\": [\"72036\", \"78762\"], \"x\": [-163.782, -213.656], \"y\": [-205.827, -290.52], \"type\": \"scatter\", \"uid\": \"657abb3f-b66a-4ee8-91fa-12ff2ba90e8f\"}, {\"hoverinfo\": \"name+text\", \"legendgroup\": \"real_unfocused\", \"line\": {\"color\": \"darkseagreen\", \"width\": 1}, \"name\": \"real_unfocused\", \"opacity\": 1, \"showlegend\": false, \"text\": [\"75184\", \"82090\"], \"x\": [-1.10379, -15.6281], \"y\": [-262.164, -358.871], \"type\": \"scatter\", \"uid\": \"1fbcc3f7-4f88-45b9-8c0f-93f1f9d907fd\"}, {\"hoverinfo\": \"name+text\", \"legendgroup\": \"real_unfocused\", \"line\": {\"color\": \"darkseagreen\", \"width\": 1}, \"name\": \"real_unfocused\", \"opacity\": 1, \"showlegend\": false, \"text\": [\"82090\", \"88632\"], \"x\": [-15.6281, -48.3976], \"y\": [-358.871, -494.939], \"type\": \"scatter\", \"uid\": \"3fa323eb-ab02-421a-8aa6-526dafb079a7\"}, {\"hoverinfo\": \"name+text\", \"legendgroup\": \"real_unfocused\", \"line\": {\"color\": \"darkseagreen\", \"width\": 1}, \"name\": \"real_unfocused\", \"opacity\": 1, \"showlegend\": false, \"text\": [\"88632\", \"94896\"], \"x\": [-48.3976, -107.941], \"y\": [-494.939, -654.971], \"type\": \"scatter\", \"uid\": \"1a290243-2d7d-4e10-9042-2b62204293d8\"}, {\"hoverinfo\": \"name+text\", \"legendgroup\": \"real_unfocused\", \"line\": {\"color\": \"darkseagreen\", \"width\": 1}, \"name\": \"real_unfocused\", \"opacity\": 1, \"showlegend\": false, \"text\": [\"94896\", \"110783\"], \"x\": [-107.941, -184.63], \"y\": [-654.971, -801.703], \"type\": \"scatter\", \"uid\": \"4f4b076b-5b59-407b-b7b6-cd29b8190144\"}, {\"hoverinfo\": \"name+text\", \"legendgroup\": \"real_unfocused\", \"line\": {\"color\": \"darkseagreen\", \"width\": 1}, \"name\": \"real_unfocused\", \"opacity\": 1, \"showlegend\": false, \"text\": [\"110783\", \"116120\"], \"x\": [-184.63, -306.828], \"y\": [-801.703, -971.876], \"type\": \"scatter\", \"uid\": \"1542384b-33de-445f-a3c2-1db771c0f53a\"}, {\"hoverinfo\": \"name+text\", \"legendgroup\": \"real_unfocused\", \"line\": {\"color\": \"darkseagreen\", \"width\": 1}, \"name\": \"real_unfocused\", \"opacity\": 1, \"showlegend\": false, \"text\": [\"37198\", \"44045\"], \"x\": [-13.5617, -16.8728], \"y\": [114.204, 171.016], \"type\": \"scatter\", \"uid\": \"0874d9d3-9090-45b7-8e83-d1252ef503e2\"}, {\"hoverinfo\": \"name+text\", \"legendgroup\": \"real_unfocused\", \"line\": {\"color\": \"darkseagreen\", \"width\": 1}, \"name\": \"real_unfocused\", \"opacity\": 1, \"showlegend\": false, \"text\": [\"44045\", \"75480\"], \"x\": [-16.8728, -17.738], \"y\": [171.016, 257.521], \"type\": \"scatter\", \"uid\": \"5cd29f36-8d1a-4bfd-8f98-64da2bdd9a87\"}, {\"hoverinfo\": \"name+text\", \"legendgroup\": \"real_unfocused\", \"line\": {\"color\": \"darkseagreen\", \"width\": 1}, \"name\": \"real_unfocused\", \"opacity\": 1, \"showlegend\": false, \"text\": [\"75480\", \"82723\"], \"x\": [-17.738, -11.9561], \"y\": [257.521, 360.148], \"type\": \"scatter\", \"uid\": \"429d3e2d-9fb7-4e17-a1a8-556fedcfb90c\"}, {\"hoverinfo\": \"name+text\", \"legendgroup\": \"real_unfocused\", \"line\": {\"color\": \"darkseagreen\", \"width\": 1}, \"name\": \"real_unfocused\", \"opacity\": 1, \"showlegend\": false, \"text\": [\"21405\", \"30694\"], \"x\": [-33.5947, -73.825], \"y\": [0.8266889999999999, 0.838565], \"type\": \"scatter\", \"uid\": \"bfb035cb-0d83-41cd-aff6-cc80535d3e05\"}, {\"hoverinfo\": \"name+text\", \"legendgroup\": \"real_unfocused\", \"line\": {\"color\": \"darkseagreen\", \"width\": 1}, \"name\": \"real_unfocused\", \"opacity\": 1, \"showlegend\": false, \"text\": [\"30694\", \"38058\"], \"x\": [-73.825, -116.911], \"y\": [0.838565, -0.235947], \"type\": \"scatter\", \"uid\": \"82376558-1ab9-4dc3-ba0b-71228b30d7e0\"}, {\"hoverinfo\": \"name+text\", \"legendgroup\": \"real_unfocused\", \"line\": {\"color\": \"darkseagreen\", \"width\": 1}, \"name\": \"real_unfocused\", \"opacity\": 1, \"showlegend\": false, \"text\": [\"38058\", \"44664\"], \"x\": [-116.911, -172.74200000000005], \"y\": [-0.235947, -3.4674400000000003], \"type\": \"scatter\", \"uid\": \"6be5c237-f9bb-4296-8f2a-ae76e41fb3ae\"}, {\"hoverinfo\": \"name+text\", \"legendgroup\": \"real_unfocused\", \"line\": {\"color\": \"darkseagreen\", \"width\": 1}, \"name\": \"real_unfocused\", \"opacity\": 1, \"showlegend\": false, \"text\": [\"44664\", \"76101\"], \"x\": [-172.74200000000005, -257.127], \"y\": [-3.4674400000000003, -12.2321], \"type\": \"scatter\", \"uid\": \"db96a91f-7ade-4dcf-96a3-1cd7430f5839\"}, {\"hoverinfo\": \"name+text\", \"legendgroup\": \"real_unfocused\", \"line\": {\"color\": \"darkseagreen\", \"width\": 1}, \"name\": \"real_unfocused\", \"opacity\": 1, \"showlegend\": false, \"text\": [\"76101\", \"83615\"], \"x\": [-257.127, -358.775], \"y\": [-12.2321, -29.005], \"type\": \"scatter\", \"uid\": \"96f559d2-afb2-40bc-a475-1c2b9cb0338c\"}, {\"hoverinfo\": \"name+text\", \"legendgroup\": \"real_unfocused\", \"line\": {\"color\": \"darkseagreen\", \"width\": 1}, \"name\": \"real_unfocused\", \"opacity\": 1, \"showlegend\": false, \"text\": [\"83615\", \"90565\"], \"x\": [-358.775, -494.937], \"y\": [-29.005, -62.5497], \"type\": \"scatter\", \"uid\": \"24455024-96f5-4a8c-8f35-e6601ec5bcdb\"}, {\"hoverinfo\": \"name+text\", \"legendgroup\": \"real_unfocused\", \"line\": {\"color\": \"darkseagreen\", \"width\": 1}, \"name\": \"real_unfocused\", \"opacity\": 1, \"showlegend\": false, \"text\": [\"90565\", \"96738\"], \"x\": [-494.937, -650.641], \"y\": [-62.5497, -117.418], \"type\": \"scatter\", \"uid\": \"d44159c2-21e5-4883-842d-74f986b4efff\"}, {\"hoverinfo\": \"name+text\", \"legendgroup\": \"real\", \"line\": {\"color\": \"green\", \"width\": 1}, \"name\": \"real\", \"opacity\": 1, \"showlegend\": true, \"text\": [\"20764\", \"27487\"], \"x\": [5.5706, 10.5024], \"y\": [31.671, 72.0453], \"type\": \"scatter\", \"uid\": \"e900ecb7-3396-4acf-bd69-9c7b15d6fcad\"}, {\"hoverinfo\": \"name+text\", \"legendgroup\": \"real\", \"line\": {\"color\": \"green\", \"width\": 1}, \"name\": \"real\", \"opacity\": 1, \"showlegend\": false, \"text\": [\"27487\", \"34491\"], \"x\": [10.5024, 14.7116], \"y\": [72.0453, 114.108], \"type\": \"scatter\", \"uid\": \"78673461-1fdc-4602-baa2-daaee5fd2163\"}, {\"hoverinfo\": \"name+text\", \"legendgroup\": \"real\", \"line\": {\"color\": \"green\", \"width\": 1}, \"name\": \"real\", \"opacity\": 1, \"showlegend\": false, \"text\": [\"34491\", \"40865\"], \"x\": [14.7116, 18.992], \"y\": [114.108, 171.997], \"type\": \"scatter\", \"uid\": \"8ba0cce3-0e65-44eb-9ebb-bf5366afd633\"}, {\"hoverinfo\": \"name+text\", \"legendgroup\": \"real\", \"line\": {\"color\": \"green\", \"width\": 1}, \"name\": \"real\", \"opacity\": 1, \"showlegend\": false, \"text\": [\"40865\", \"72549\"], \"x\": [18.992, 22.298], \"y\": [171.997, 257.23400000000004], \"type\": \"scatter\", \"uid\": \"0939cad9-a526-44b4-bdea-8ea868cc2632\"}, {\"hoverinfo\": \"name+text\", \"legendgroup\": \"real\", \"line\": {\"color\": \"green\", \"width\": 1}, \"name\": \"real\", \"opacity\": 1, \"showlegend\": false, \"text\": [\"72549\", \"79138\"], \"x\": [22.298, 21.6577], \"y\": [257.23400000000004, 357.611], \"type\": \"scatter\", \"uid\": \"d2f64dd7-1706-4d61-bcc8-64c70d10df9b\"}, {\"hoverinfo\": \"name+text\", \"legendgroup\": \"real\", \"line\": {\"color\": \"green\", \"width\": 1}, \"name\": \"real\", \"opacity\": 1, \"showlegend\": false, \"text\": [\"79138\", \"85537\"], \"x\": [21.6577, 12.251], \"y\": [357.611, 496.648], \"type\": \"scatter\", \"uid\": \"6ea0a92d-5315-4ce9-bfc6-08bd509d4620\"}, {\"hoverinfo\": \"name+text\", \"legendgroup\": \"real\", \"line\": {\"color\": \"green\", \"width\": 1}, \"name\": \"real\", \"opacity\": 1, \"showlegend\": false, \"text\": [\"20262\", \"28058\"], \"x\": [32.2451, 70.7765], \"y\": [4.53326, 9.61941], \"type\": \"scatter\", \"uid\": \"d8950512-e265-41af-a748-36b2e00f2a6a\"}, {\"hoverinfo\": \"name+text\", \"legendgroup\": \"real\", \"line\": {\"color\": \"green\", \"width\": 1}, \"name\": \"real\", \"opacity\": 1, \"showlegend\": false, \"text\": [\"28058\", \"34877\"], \"x\": [70.7765, 114.433], \"y\": [9.61941, 14.9217], \"type\": \"scatter\", \"uid\": \"6b582c63-04c1-4ed1-9445-410969289655\"}, {\"hoverinfo\": \"name+text\", \"legendgroup\": \"real\", \"line\": {\"color\": \"green\", \"width\": 1}, \"name\": \"real\", \"opacity\": 1, \"showlegend\": false, \"text\": [\"34877\", \"41146\"], \"x\": [114.433, 170.40099999999995], \"y\": [14.9217, 21.0637], \"type\": \"scatter\", \"uid\": \"ea811727-8a35-4678-b9c5-e3fc6e65819b\"}, {\"hoverinfo\": \"name+text\", \"legendgroup\": \"real\", \"line\": {\"color\": \"green\", \"width\": 1}, \"name\": \"real\", \"opacity\": 1, \"showlegend\": false, \"text\": [\"41146\", \"73201\"], \"x\": [170.40099999999995, 258.338], \"y\": [21.0637, 29.1488], \"type\": \"scatter\", \"uid\": \"724ea4a1-b9cf-4b2f-ace8-194b6311b837\"}, {\"hoverinfo\": \"name+text\", \"legendgroup\": \"real\", \"line\": {\"color\": \"green\", \"width\": 1}, \"name\": \"real\", \"opacity\": 1, \"showlegend\": false, \"text\": [\"73201\", \"79641\"], \"x\": [258.338, 359.452], \"y\": [29.1488, 36.1999], \"type\": \"scatter\", \"uid\": \"4c7e9d34-0c1a-451c-9649-beccb4ecf527\"}, {\"hoverinfo\": \"name+text\", \"legendgroup\": \"real\", \"line\": {\"color\": \"green\", \"width\": 1}, \"name\": \"real\", \"opacity\": 1, \"showlegend\": false, \"text\": [\"79641\", \"86195\"], \"x\": [359.452, 503.503], \"y\": [36.1999, 42.0709], \"type\": \"scatter\", \"uid\": \"4c25d878-ff4f-460f-99a0-86451985c3a8\"}, {\"hoverinfo\": \"name+text\", \"legendgroup\": \"real\", \"line\": {\"color\": \"green\", \"width\": 1}, \"name\": \"real\", \"opacity\": 1, \"showlegend\": false, \"text\": [\"86195\", \"91955\"], \"x\": [503.503, 663.908], \"y\": [42.0709, 43.0984], \"type\": \"scatter\", \"uid\": \"28bb899d-e07f-44da-9690-df0cbae12398\"}, {\"hoverinfo\": \"name+text\", \"legendgroup\": \"real\", \"line\": {\"color\": \"green\", \"width\": 1}, \"name\": \"real\", \"opacity\": 1, \"showlegend\": false, \"text\": [\"91955\", \"107743\"], \"x\": [663.908, 823.312], \"y\": [43.0984, 38.3265], \"type\": \"scatter\", \"uid\": \"1c59b922-4f31-41af-8c07-862a7cc855e2\"}, {\"hoverinfo\": \"name+text\", \"legendgroup\": \"real\", \"line\": {\"color\": \"green\", \"width\": 1}, \"name\": \"real\", \"opacity\": 1, \"showlegend\": false, \"text\": [\"19698\", \"27827\"], \"x\": [-4.16977, -9.16296], \"y\": [-31.75, -71.4937], \"type\": \"scatter\", \"uid\": \"76f32830-5b3c-4cb3-a80c-7e09bd593fae\"}, {\"hoverinfo\": \"name+text\", \"legendgroup\": \"real\", \"line\": {\"color\": \"green\", \"width\": 1}, \"name\": \"real\", \"opacity\": 1, \"showlegend\": false, \"text\": [\"27827\", \"35259\"], \"x\": [-9.16296, -14.2464], \"y\": [-71.4937, -114.127], \"type\": \"scatter\", \"uid\": \"9bc216dc-c7cc-4e81-982e-cd68a9995a59\"}, {\"hoverinfo\": \"name+text\", \"legendgroup\": \"real\", \"line\": {\"color\": \"green\", \"width\": 1}, \"name\": \"real\", \"opacity\": 1, \"showlegend\": false, \"text\": [\"35259\", \"41464\"], \"x\": [-14.2464, -20.5217], \"y\": [-114.127, -170.169], \"type\": \"scatter\", \"uid\": \"d24db658-d5a6-45e1-93e7-3ed7c0cdf157\"}, {\"hoverinfo\": \"name+text\", \"legendgroup\": \"real\", \"line\": {\"color\": \"green\", \"width\": 1}, \"name\": \"real\", \"opacity\": 1, \"showlegend\": false, \"text\": [\"41464\", \"73085\"], \"x\": [-20.5217, -29.116], \"y\": [-170.169, -255.648], \"type\": \"scatter\", \"uid\": \"ddcdf4b1-021b-4333-b31d-56ce58e2c875\"}, {\"hoverinfo\": \"name+text\", \"legendgroup\": \"real\", \"line\": {\"color\": \"green\", \"width\": 1}, \"name\": \"real\", \"opacity\": 1, \"showlegend\": false, \"text\": [\"73085\", \"79880\"], \"x\": [-29.116, -38.3955], \"y\": [-255.648, -363.693], \"type\": \"scatter\", \"uid\": \"511d392a-2ea4-49a2-9f43-d11b4768c2f8\"}, {\"hoverinfo\": \"name+text\", \"legendgroup\": \"real\", \"line\": {\"color\": \"green\", \"width\": 1}, \"name\": \"real\", \"opacity\": 1, \"showlegend\": false, \"text\": [\"79880\", \"86402\"], \"x\": [-38.3955, -47.3072], \"y\": [-363.693, -495.195], \"type\": \"scatter\", \"uid\": \"b2f7a53c-5b93-48a0-b147-d463eea06b94\"}, {\"hoverinfo\": \"name+text\", \"legendgroup\": \"real\", \"line\": {\"color\": \"green\", \"width\": 1}, \"name\": \"real\", \"opacity\": 1, \"showlegend\": false, \"text\": [\"86402\", \"92130\"], \"x\": [-47.3072, -54.4897], \"y\": [-495.195, -654.254], \"type\": \"scatter\", \"uid\": \"6ffc63b1-ee70-41c0-81b3-832d63afa3e6\"}, {\"hoverinfo\": \"name+text\", \"legendgroup\": \"real\", \"line\": {\"color\": \"green\", \"width\": 1}, \"name\": \"real\", \"opacity\": 1, \"showlegend\": false, \"text\": [\"92130\", \"107883\"], \"x\": [-54.4897, -57.8177], \"y\": [-654.254, -817.466], \"type\": \"scatter\", \"uid\": \"93bb8c53-43cd-4851-bcfb-9d78974b8ac7\"}, {\"hoverinfo\": \"name+text\", \"legendgroup\": \"real\", \"line\": {\"color\": \"green\", \"width\": 1}, \"name\": \"real\", \"opacity\": 1, \"showlegend\": false, \"text\": [\"21265\", \"29504\"], \"x\": [-31.6364, -70.206], \"y\": [6.18379, 14.1226], \"type\": \"scatter\", \"uid\": \"c5784691-9359-4535-9c43-994de8020c5e\"}, {\"hoverinfo\": \"name+text\", \"legendgroup\": \"real\", \"line\": {\"color\": \"green\", \"width\": 1}, \"name\": \"real\", \"opacity\": 1, \"showlegend\": false, \"text\": [\"29504\", \"42350\"], \"x\": [-70.206, -168.155], \"y\": [14.1226, 36.3725], \"type\": \"scatter\", \"uid\": \"a843120b-d8a3-4f80-b083-02d1e98f65ff\"}, {\"hoverinfo\": \"name+text\", \"legendgroup\": \"real\", \"line\": {\"color\": \"green\", \"width\": 1}, \"name\": \"real\", \"opacity\": 1, \"showlegend\": false, \"text\": [\"42350\", \"73830\"], \"x\": [-168.155, -255.151], \"y\": [36.3725, 58.8872], \"type\": \"scatter\", \"uid\": \"87a5903e-3d7a-43b0-b44e-3671004d846b\"}, {\"hoverinfo\": \"name+text\", \"legendgroup\": \"real\", \"line\": {\"color\": \"green\", \"width\": 1}, \"name\": \"real\", \"opacity\": 1, \"showlegend\": false, \"text\": [\"73830\", \"80933\"], \"x\": [-255.151, -353.285], \"y\": [58.8872, 87.1991], \"type\": \"scatter\", \"uid\": \"fd6b0d69-cc11-4fd6-a07e-c2aae1aa555e\"}, {\"hoverinfo\": \"name+text\", \"legendgroup\": \"real\", \"line\": {\"color\": \"green\", \"width\": 1}, \"name\": \"real\", \"opacity\": 1, \"showlegend\": false, \"text\": [\"80933\", \"87292\"], \"x\": [-353.285, -482.875], \"y\": [87.1991, 129.892], \"type\": \"scatter\", \"uid\": \"da73dc68-65a2-41b2-b907-44712f466226\"}, {\"hoverinfo\": \"name+text\", \"legendgroup\": \"real\", \"line\": {\"color\": \"green\", \"width\": 1}, \"name\": \"real\", \"opacity\": 1, \"showlegend\": false, \"text\": [\"87292\", \"93165\"], \"x\": [-482.875, -633.385], \"y\": [129.892, 187.317], \"type\": \"scatter\", \"uid\": \"39263bee-e6c8-4675-88a2-c7c10d01b6a4\"}, {\"hoverinfo\": \"name+text\", \"legendgroup\": \"real\", \"line\": {\"color\": \"green\", \"width\": 1}, \"name\": \"real\", \"opacity\": 1, \"showlegend\": false, \"text\": [\"93165\", \"109022\"], \"x\": [-633.385, -782.4169999999998], \"y\": [187.317, 252.867], \"type\": \"scatter\", \"uid\": \"4188a0d5-4e17-46d5-ad36-e020d9f7d6a4\"}, {\"hoverinfo\": \"name+text\", \"legendgroup\": \"real\", \"line\": {\"color\": \"green\", \"width\": 1}, \"name\": \"real\", \"opacity\": 1, \"showlegend\": false, \"text\": [\"109022\", \"114036\"], \"x\": [-782.4169999999998, -962.827], \"y\": [252.867, 344.76199999999994], \"type\": \"scatter\", \"uid\": \"87eaac48-e878-407f-b4f1-368024be515f\"}, {\"hoverinfo\": \"name+text\", \"legendgroup\": \"real\", \"line\": {\"color\": \"green\", \"width\": 1}, \"name\": \"real\", \"opacity\": 1, \"showlegend\": false, \"text\": [\"23536\", \"31418\"], \"x\": [-30.9263, -68.8454], \"y\": [9.9814, 22.8573], \"type\": \"scatter\", \"uid\": \"f9cfe447-d167-48eb-bb42-df817b7735ea\"}, {\"hoverinfo\": \"name+text\", \"legendgroup\": \"real\", \"line\": {\"color\": \"green\", \"width\": 1}, \"name\": \"real\", \"opacity\": 1, \"showlegend\": false, \"text\": [\"31418\", \"38524\"], \"x\": [-68.8454, -109.987], \"y\": [22.8573, 37.6253], \"type\": \"scatter\", \"uid\": \"1312e229-d473-4cd6-be6f-9b4e1402185f\"}, {\"hoverinfo\": \"name+text\", \"legendgroup\": \"real\", \"line\": {\"color\": \"green\", \"width\": 1}, \"name\": \"real\", \"opacity\": 1, \"showlegend\": false, \"text\": [\"38524\", \"45067\"], \"x\": [-109.987, -161.876], \"y\": [37.6253, 57.4577], \"type\": \"scatter\", \"uid\": \"f03e8c4f-7e29-40cb-ab92-a3c833f1d943\"}, {\"hoverinfo\": \"name+text\", \"legendgroup\": \"real\", \"line\": {\"color\": \"green\", \"width\": 1}, \"name\": \"real\", \"opacity\": 1, \"showlegend\": false, \"text\": [\"45067\", \"76902\"], \"x\": [-161.876, -246.02], \"y\": [57.4577, 92.7332], \"type\": \"scatter\", \"uid\": \"dfaec092-26ec-4e09-b793-a934e5cba73c\"}, {\"hoverinfo\": \"name+text\", \"legendgroup\": \"real\", \"line\": {\"color\": \"green\", \"width\": 1}, \"name\": \"real\", \"opacity\": 1, \"showlegend\": false, \"text\": [\"76902\", \"83944\"], \"x\": [-246.02, -333.426], \"y\": [92.7332, 133.519], \"type\": \"scatter\", \"uid\": \"8a0e3923-7fcd-4f40-8106-e98d2df220bb\"}, {\"hoverinfo\": \"name+text\", \"legendgroup\": \"real\", \"line\": {\"color\": \"green\", \"width\": 1}, \"name\": \"real\", \"opacity\": 1, \"showlegend\": false, \"text\": [\"83944\", \"90803\"], \"x\": [-333.426, -459.273], \"y\": [133.519, 200.49400000000003], \"type\": \"scatter\", \"uid\": \"abc21f9e-0008-4245-9bb9-9eb4d437a152\"}, {\"hoverinfo\": \"name+text\", \"legendgroup\": \"real\", \"line\": {\"color\": \"green\", \"width\": 1}, \"name\": \"real\", \"opacity\": 1, \"showlegend\": false, \"text\": [\"90803\", \"96934\"], \"x\": [-459.273, -595.614], \"y\": [200.49400000000003, 284.758], \"type\": \"scatter\", \"uid\": \"fd3b3b0f-d163-4b89-8bfb-e8303de4ec0f\"}], {\"height\": 800, \"hovermode\": \"closest\", \"showlegend\": true, \"updatemenus\": [{\"buttons\": [{\"args\": [\"shapes\", []], \"label\": \"hide layers\", \"method\": \"relayout\"}, {\"args\": [\"shapes\", [{\"type\": \"circle\", \"x0\": -32, \"x1\": 32, \"y0\": -32, \"y1\": 32, \"opacity\": 0.5, \"layer\": \"below\", \"line\": {\"color\": \"#ccc\"}}, {\"type\": \"circle\", \"x0\": -72, \"x1\": 72, \"y0\": -72, \"y1\": 72, \"opacity\": 0.5, \"layer\": \"below\", \"line\": {\"color\": \"#ccc\"}}, {\"type\": \"circle\", \"x0\": -116, \"x1\": 116, \"y0\": -116, \"y1\": 116, \"opacity\": 0.5, \"layer\": \"below\", \"line\": {\"color\": \"#ccc\"}}, {\"type\": \"circle\", \"x0\": -172, \"x1\": 172, \"y0\": -172, \"y1\": 172, \"opacity\": 0.5, \"layer\": \"below\", \"line\": {\"color\": \"#ccc\"}}, {\"type\": \"circle\", \"x0\": -260, \"x1\": 260, \"y0\": -260, \"y1\": 260, \"opacity\": 0.5, \"layer\": \"below\", \"line\": {\"color\": \"#cccc8d\"}}, {\"type\": \"circle\", \"x0\": -360, \"x1\": 360, \"y0\": -360, \"y1\": 360, \"opacity\": 0.5, \"layer\": \"below\", \"line\": {\"color\": \"#cccc8d\"}}, {\"type\": \"circle\", \"x0\": -500, \"x1\": 500, \"y0\": -500, \"y1\": 500, \"opacity\": 0.5, \"layer\": \"below\", \"line\": {\"color\": \"#cccc8d\"}}, {\"type\": \"circle\", \"x0\": -660, \"x1\": 660, \"y0\": -660, \"y1\": 660, \"opacity\": 0.5, \"layer\": \"below\", \"line\": {\"color\": \"#cccc8d\"}}, {\"type\": \"circle\", \"x0\": -820, \"x1\": 820, \"y0\": -820, \"y1\": 820, \"opacity\": 0.5, \"layer\": \"below\", \"line\": {\"color\": \"#ccc\"}}, {\"type\": \"circle\", \"x0\": -1020, \"x1\": 1020, \"y0\": -1020, \"y1\": 1020, \"opacity\": 0.5, \"layer\": \"below\", \"line\": {\"color\": \"#ccc\"}}]], \"label\": \"show layers\", \"method\": \"relayout\"}], \"direction\": \"left\", \"pad\": {\"l\": 0.1}, \"type\": \"buttons\", \"xanchor\": \"left\", \"y\": 1.1, \"yanchor\": \"top\"}, {\"buttons\": [{\"args\": [{\"mode\": \"markers+lines\"}], \"label\": \"hits+tracks\", \"method\": \"update\"}, {\"args\": [{\"mode\": \"markers\"}], \"label\": \"hits only\", \"method\": \"update\"}], \"direction\": \"left\", \"pad\": {\"l\": 200}, \"type\": \"buttons\", \"xanchor\": \"left\", \"y\": 1.1, \"yanchor\": \"top\"}, {\"buttons\": [{\"args\": [\"yaxis.scaleanchor\", null], \"label\": \"free\", \"method\": \"relayout\"}, {\"args\": [\"yaxis.scaleanchor\", \"x\"], \"label\": \"fixed\", \"method\": \"relayout\"}], \"direction\": \"left\", \"pad\": {\"l\": 380}, \"type\": \"buttons\", \"xanchor\": \"left\", \"y\": 1.1, \"yanchor\": \"top\"}], \"width\": 800, \"xaxis\": {\"title\": \"x\"}, \"yaxis\": {\"title\": \"y\"}}, {\"showLink\": true, \"linkText\": \"Export to plot.ly\", \"plotlyServerURL\": \"https://plot.ly\"})});</script>"
      ],
      "text/vnd.plotly.v1+html": [
       "<div id=\"c3bf448e-4e34-4322-b52d-50fa195ea820\" style=\"height: 800px; width: 800px;\" class=\"plotly-graph-div\"></div><script type=\"text/javascript\">require([\"plotly\"], function(Plotly) { window.PLOTLYENV=window.PLOTLYENV || {};window.PLOTLYENV.BASE_URL=\"https://plot.ly\";Plotly.newPlot(\"c3bf448e-4e34-4322-b52d-50fa195ea820\", [{\"hoverinfo\": \"name+text\", \"legendgroup\": \"fake\", \"line\": {\"color\": \"red\", \"width\": 1}, \"name\": \"fake\", \"opacity\": 1, \"showlegend\": true, \"text\": [\"23050\", \"37198\"], \"x\": [-4.64343, -13.5617], \"y\": [31.6821, 114.204], \"type\": \"scatter\", \"uid\": \"d0d7b88c-88eb-4c23-b41a-ba39d1c7151c\"}, {\"hoverinfo\": \"name+text\", \"legendgroup\": \"real_unfocused\", \"line\": {\"color\": \"darkseagreen\", \"width\": 1}, \"name\": \"real_unfocused\", \"opacity\": 1, \"showlegend\": true, \"text\": [\"18246\", \"27129\"], \"x\": [-21.7191, -49.4278], \"y\": [-22.879, -53.6609], \"type\": \"scatter\", \"uid\": \"3f2e314c-7994-471c-b28b-23efc61efe35\"}, {\"hoverinfo\": \"name+text\", \"legendgroup\": \"real_unfocused\", \"line\": {\"color\": \"darkseagreen\", \"width\": 1}, \"name\": \"real_unfocused\", \"opacity\": 1, \"showlegend\": false, \"text\": [\"27129\", \"34226\"], \"x\": [-49.4278, -76.6251], \"y\": [-53.6609, -85.78], \"type\": \"scatter\", \"uid\": \"4edad21b-bb7a-4d2e-9a66-9e8732f1e4c6\"}, {\"hoverinfo\": \"name+text\", \"legendgroup\": \"real_unfocused\", \"line\": {\"color\": \"darkseagreen\", \"width\": 1}, \"name\": \"real_unfocused\", \"opacity\": 1, \"showlegend\": false, \"text\": [\"34226\", \"40268\"], \"x\": [-76.6251, -111.405], \"y\": [-85.78, -130.203], \"type\": \"scatter\", \"uid\": \"f9c46f06-0678-4cf5-a7c6-dc336eb93a3a\"}, {\"hoverinfo\": \"name+text\", \"legendgroup\": \"real_unfocused\", \"line\": {\"color\": \"darkseagreen\", \"width\": 1}, \"name\": \"real_unfocused\", \"opacity\": 1, \"showlegend\": false, \"text\": [\"40268\", \"72036\"], \"x\": [-111.405, -163.782], \"y\": [-130.203, -205.827], \"type\": \"scatter\", \"uid\": \"9ef0ae00-9bee-4bc3-9b0e-827d564f3588\"}, {\"hoverinfo\": \"name+text\", \"legendgroup\": \"real_unfocused\", \"line\": {\"color\": \"darkseagreen\", \"width\": 1}, \"name\": \"real_unfocused\", \"opacity\": 1, \"showlegend\": false, \"text\": [\"72036\", \"78762\"], \"x\": [-163.782, -213.656], \"y\": [-205.827, -290.52], \"type\": \"scatter\", \"uid\": \"657abb3f-b66a-4ee8-91fa-12ff2ba90e8f\"}, {\"hoverinfo\": \"name+text\", \"legendgroup\": \"real_unfocused\", \"line\": {\"color\": \"darkseagreen\", \"width\": 1}, \"name\": \"real_unfocused\", \"opacity\": 1, \"showlegend\": false, \"text\": [\"75184\", \"82090\"], \"x\": [-1.10379, -15.6281], \"y\": [-262.164, -358.871], \"type\": \"scatter\", \"uid\": \"1fbcc3f7-4f88-45b9-8c0f-93f1f9d907fd\"}, {\"hoverinfo\": \"name+text\", \"legendgroup\": \"real_unfocused\", \"line\": {\"color\": \"darkseagreen\", \"width\": 1}, \"name\": \"real_unfocused\", \"opacity\": 1, \"showlegend\": false, \"text\": [\"82090\", \"88632\"], \"x\": [-15.6281, -48.3976], \"y\": [-358.871, -494.939], \"type\": \"scatter\", \"uid\": \"3fa323eb-ab02-421a-8aa6-526dafb079a7\"}, {\"hoverinfo\": \"name+text\", \"legendgroup\": \"real_unfocused\", \"line\": {\"color\": \"darkseagreen\", \"width\": 1}, \"name\": \"real_unfocused\", \"opacity\": 1, \"showlegend\": false, \"text\": [\"88632\", \"94896\"], \"x\": [-48.3976, -107.941], \"y\": [-494.939, -654.971], \"type\": \"scatter\", \"uid\": \"1a290243-2d7d-4e10-9042-2b62204293d8\"}, {\"hoverinfo\": \"name+text\", \"legendgroup\": \"real_unfocused\", \"line\": {\"color\": \"darkseagreen\", \"width\": 1}, \"name\": \"real_unfocused\", \"opacity\": 1, \"showlegend\": false, \"text\": [\"94896\", \"110783\"], \"x\": [-107.941, -184.63], \"y\": [-654.971, -801.703], \"type\": \"scatter\", \"uid\": \"4f4b076b-5b59-407b-b7b6-cd29b8190144\"}, {\"hoverinfo\": \"name+text\", \"legendgroup\": \"real_unfocused\", \"line\": {\"color\": \"darkseagreen\", \"width\": 1}, \"name\": \"real_unfocused\", \"opacity\": 1, \"showlegend\": false, \"text\": [\"110783\", \"116120\"], \"x\": [-184.63, -306.828], \"y\": [-801.703, -971.876], \"type\": \"scatter\", \"uid\": \"1542384b-33de-445f-a3c2-1db771c0f53a\"}, {\"hoverinfo\": \"name+text\", \"legendgroup\": \"real_unfocused\", \"line\": {\"color\": \"darkseagreen\", \"width\": 1}, \"name\": \"real_unfocused\", \"opacity\": 1, \"showlegend\": false, \"text\": [\"37198\", \"44045\"], \"x\": [-13.5617, -16.8728], \"y\": [114.204, 171.016], \"type\": \"scatter\", \"uid\": \"0874d9d3-9090-45b7-8e83-d1252ef503e2\"}, {\"hoverinfo\": \"name+text\", \"legendgroup\": \"real_unfocused\", \"line\": {\"color\": \"darkseagreen\", \"width\": 1}, \"name\": \"real_unfocused\", \"opacity\": 1, \"showlegend\": false, \"text\": [\"44045\", \"75480\"], \"x\": [-16.8728, -17.738], \"y\": [171.016, 257.521], \"type\": \"scatter\", \"uid\": \"5cd29f36-8d1a-4bfd-8f98-64da2bdd9a87\"}, {\"hoverinfo\": \"name+text\", \"legendgroup\": \"real_unfocused\", \"line\": {\"color\": \"darkseagreen\", \"width\": 1}, \"name\": \"real_unfocused\", \"opacity\": 1, \"showlegend\": false, \"text\": [\"75480\", \"82723\"], \"x\": [-17.738, -11.9561], \"y\": [257.521, 360.148], \"type\": \"scatter\", \"uid\": \"429d3e2d-9fb7-4e17-a1a8-556fedcfb90c\"}, {\"hoverinfo\": \"name+text\", \"legendgroup\": \"real_unfocused\", \"line\": {\"color\": \"darkseagreen\", \"width\": 1}, \"name\": \"real_unfocused\", \"opacity\": 1, \"showlegend\": false, \"text\": [\"21405\", \"30694\"], \"x\": [-33.5947, -73.825], \"y\": [0.8266889999999999, 0.838565], \"type\": \"scatter\", \"uid\": \"bfb035cb-0d83-41cd-aff6-cc80535d3e05\"}, {\"hoverinfo\": \"name+text\", \"legendgroup\": \"real_unfocused\", \"line\": {\"color\": \"darkseagreen\", \"width\": 1}, \"name\": \"real_unfocused\", \"opacity\": 1, \"showlegend\": false, \"text\": [\"30694\", \"38058\"], \"x\": [-73.825, -116.911], \"y\": [0.838565, -0.235947], \"type\": \"scatter\", \"uid\": \"82376558-1ab9-4dc3-ba0b-71228b30d7e0\"}, {\"hoverinfo\": \"name+text\", \"legendgroup\": \"real_unfocused\", \"line\": {\"color\": \"darkseagreen\", \"width\": 1}, \"name\": \"real_unfocused\", \"opacity\": 1, \"showlegend\": false, \"text\": [\"38058\", \"44664\"], \"x\": [-116.911, -172.74200000000005], \"y\": [-0.235947, -3.4674400000000003], \"type\": \"scatter\", \"uid\": \"6be5c237-f9bb-4296-8f2a-ae76e41fb3ae\"}, {\"hoverinfo\": \"name+text\", \"legendgroup\": \"real_unfocused\", \"line\": {\"color\": \"darkseagreen\", \"width\": 1}, \"name\": \"real_unfocused\", \"opacity\": 1, \"showlegend\": false, \"text\": [\"44664\", \"76101\"], \"x\": [-172.74200000000005, -257.127], \"y\": [-3.4674400000000003, -12.2321], \"type\": \"scatter\", \"uid\": \"db96a91f-7ade-4dcf-96a3-1cd7430f5839\"}, {\"hoverinfo\": \"name+text\", \"legendgroup\": \"real_unfocused\", \"line\": {\"color\": \"darkseagreen\", \"width\": 1}, \"name\": \"real_unfocused\", \"opacity\": 1, \"showlegend\": false, \"text\": [\"76101\", \"83615\"], \"x\": [-257.127, -358.775], \"y\": [-12.2321, -29.005], \"type\": \"scatter\", \"uid\": \"96f559d2-afb2-40bc-a475-1c2b9cb0338c\"}, {\"hoverinfo\": \"name+text\", \"legendgroup\": \"real_unfocused\", \"line\": {\"color\": \"darkseagreen\", \"width\": 1}, \"name\": \"real_unfocused\", \"opacity\": 1, \"showlegend\": false, \"text\": [\"83615\", \"90565\"], \"x\": [-358.775, -494.937], \"y\": [-29.005, -62.5497], \"type\": \"scatter\", \"uid\": \"24455024-96f5-4a8c-8f35-e6601ec5bcdb\"}, {\"hoverinfo\": \"name+text\", \"legendgroup\": \"real_unfocused\", \"line\": {\"color\": \"darkseagreen\", \"width\": 1}, \"name\": \"real_unfocused\", \"opacity\": 1, \"showlegend\": false, \"text\": [\"90565\", \"96738\"], \"x\": [-494.937, -650.641], \"y\": [-62.5497, -117.418], \"type\": \"scatter\", \"uid\": \"d44159c2-21e5-4883-842d-74f986b4efff\"}, {\"hoverinfo\": \"name+text\", \"legendgroup\": \"real\", \"line\": {\"color\": \"green\", \"width\": 1}, \"name\": \"real\", \"opacity\": 1, \"showlegend\": true, \"text\": [\"20764\", \"27487\"], \"x\": [5.5706, 10.5024], \"y\": [31.671, 72.0453], \"type\": \"scatter\", \"uid\": \"e900ecb7-3396-4acf-bd69-9c7b15d6fcad\"}, {\"hoverinfo\": \"name+text\", \"legendgroup\": \"real\", \"line\": {\"color\": \"green\", \"width\": 1}, \"name\": \"real\", \"opacity\": 1, \"showlegend\": false, \"text\": [\"27487\", \"34491\"], \"x\": [10.5024, 14.7116], \"y\": [72.0453, 114.108], \"type\": \"scatter\", \"uid\": \"78673461-1fdc-4602-baa2-daaee5fd2163\"}, {\"hoverinfo\": \"name+text\", \"legendgroup\": \"real\", \"line\": {\"color\": \"green\", \"width\": 1}, \"name\": \"real\", \"opacity\": 1, \"showlegend\": false, \"text\": [\"34491\", \"40865\"], \"x\": [14.7116, 18.992], \"y\": [114.108, 171.997], \"type\": \"scatter\", \"uid\": \"8ba0cce3-0e65-44eb-9ebb-bf5366afd633\"}, {\"hoverinfo\": \"name+text\", \"legendgroup\": \"real\", \"line\": {\"color\": \"green\", \"width\": 1}, \"name\": \"real\", \"opacity\": 1, \"showlegend\": false, \"text\": [\"40865\", \"72549\"], \"x\": [18.992, 22.298], \"y\": [171.997, 257.23400000000004], \"type\": \"scatter\", \"uid\": \"0939cad9-a526-44b4-bdea-8ea868cc2632\"}, {\"hoverinfo\": \"name+text\", \"legendgroup\": \"real\", \"line\": {\"color\": \"green\", \"width\": 1}, \"name\": \"real\", \"opacity\": 1, \"showlegend\": false, \"text\": [\"72549\", \"79138\"], \"x\": [22.298, 21.6577], \"y\": [257.23400000000004, 357.611], \"type\": \"scatter\", \"uid\": \"d2f64dd7-1706-4d61-bcc8-64c70d10df9b\"}, {\"hoverinfo\": \"name+text\", \"legendgroup\": \"real\", \"line\": {\"color\": \"green\", \"width\": 1}, \"name\": \"real\", \"opacity\": 1, \"showlegend\": false, \"text\": [\"79138\", \"85537\"], \"x\": [21.6577, 12.251], \"y\": [357.611, 496.648], \"type\": \"scatter\", \"uid\": \"6ea0a92d-5315-4ce9-bfc6-08bd509d4620\"}, {\"hoverinfo\": \"name+text\", \"legendgroup\": \"real\", \"line\": {\"color\": \"green\", \"width\": 1}, \"name\": \"real\", \"opacity\": 1, \"showlegend\": false, \"text\": [\"20262\", \"28058\"], \"x\": [32.2451, 70.7765], \"y\": [4.53326, 9.61941], \"type\": \"scatter\", \"uid\": \"d8950512-e265-41af-a748-36b2e00f2a6a\"}, {\"hoverinfo\": \"name+text\", \"legendgroup\": \"real\", \"line\": {\"color\": \"green\", \"width\": 1}, \"name\": \"real\", \"opacity\": 1, \"showlegend\": false, \"text\": [\"28058\", \"34877\"], \"x\": [70.7765, 114.433], \"y\": [9.61941, 14.9217], \"type\": \"scatter\", \"uid\": \"6b582c63-04c1-4ed1-9445-410969289655\"}, {\"hoverinfo\": \"name+text\", \"legendgroup\": \"real\", \"line\": {\"color\": \"green\", \"width\": 1}, \"name\": \"real\", \"opacity\": 1, \"showlegend\": false, \"text\": [\"34877\", \"41146\"], \"x\": [114.433, 170.40099999999995], \"y\": [14.9217, 21.0637], \"type\": \"scatter\", \"uid\": \"ea811727-8a35-4678-b9c5-e3fc6e65819b\"}, {\"hoverinfo\": \"name+text\", \"legendgroup\": \"real\", \"line\": {\"color\": \"green\", \"width\": 1}, \"name\": \"real\", \"opacity\": 1, \"showlegend\": false, \"text\": [\"41146\", \"73201\"], \"x\": [170.40099999999995, 258.338], \"y\": [21.0637, 29.1488], \"type\": \"scatter\", \"uid\": \"724ea4a1-b9cf-4b2f-ace8-194b6311b837\"}, {\"hoverinfo\": \"name+text\", \"legendgroup\": \"real\", \"line\": {\"color\": \"green\", \"width\": 1}, \"name\": \"real\", \"opacity\": 1, \"showlegend\": false, \"text\": [\"73201\", \"79641\"], \"x\": [258.338, 359.452], \"y\": [29.1488, 36.1999], \"type\": \"scatter\", \"uid\": \"4c7e9d34-0c1a-451c-9649-beccb4ecf527\"}, {\"hoverinfo\": \"name+text\", \"legendgroup\": \"real\", \"line\": {\"color\": \"green\", \"width\": 1}, \"name\": \"real\", \"opacity\": 1, \"showlegend\": false, \"text\": [\"79641\", \"86195\"], \"x\": [359.452, 503.503], \"y\": [36.1999, 42.0709], \"type\": \"scatter\", \"uid\": \"4c25d878-ff4f-460f-99a0-86451985c3a8\"}, {\"hoverinfo\": \"name+text\", \"legendgroup\": \"real\", \"line\": {\"color\": \"green\", \"width\": 1}, \"name\": \"real\", \"opacity\": 1, \"showlegend\": false, \"text\": [\"86195\", \"91955\"], \"x\": [503.503, 663.908], \"y\": [42.0709, 43.0984], \"type\": \"scatter\", \"uid\": \"28bb899d-e07f-44da-9690-df0cbae12398\"}, {\"hoverinfo\": \"name+text\", \"legendgroup\": \"real\", \"line\": {\"color\": \"green\", \"width\": 1}, \"name\": \"real\", \"opacity\": 1, \"showlegend\": false, \"text\": [\"91955\", \"107743\"], \"x\": [663.908, 823.312], \"y\": [43.0984, 38.3265], \"type\": \"scatter\", \"uid\": \"1c59b922-4f31-41af-8c07-862a7cc855e2\"}, {\"hoverinfo\": \"name+text\", \"legendgroup\": \"real\", \"line\": {\"color\": \"green\", \"width\": 1}, \"name\": \"real\", \"opacity\": 1, \"showlegend\": false, \"text\": [\"19698\", \"27827\"], \"x\": [-4.16977, -9.16296], \"y\": [-31.75, -71.4937], \"type\": \"scatter\", \"uid\": \"76f32830-5b3c-4cb3-a80c-7e09bd593fae\"}, {\"hoverinfo\": \"name+text\", \"legendgroup\": \"real\", \"line\": {\"color\": \"green\", \"width\": 1}, \"name\": \"real\", \"opacity\": 1, \"showlegend\": false, \"text\": [\"27827\", \"35259\"], \"x\": [-9.16296, -14.2464], \"y\": [-71.4937, -114.127], \"type\": \"scatter\", \"uid\": \"9bc216dc-c7cc-4e81-982e-cd68a9995a59\"}, {\"hoverinfo\": \"name+text\", \"legendgroup\": \"real\", \"line\": {\"color\": \"green\", \"width\": 1}, \"name\": \"real\", \"opacity\": 1, \"showlegend\": false, \"text\": [\"35259\", \"41464\"], \"x\": [-14.2464, -20.5217], \"y\": [-114.127, -170.169], \"type\": \"scatter\", \"uid\": \"d24db658-d5a6-45e1-93e7-3ed7c0cdf157\"}, {\"hoverinfo\": \"name+text\", \"legendgroup\": \"real\", \"line\": {\"color\": \"green\", \"width\": 1}, \"name\": \"real\", \"opacity\": 1, \"showlegend\": false, \"text\": [\"41464\", \"73085\"], \"x\": [-20.5217, -29.116], \"y\": [-170.169, -255.648], \"type\": \"scatter\", \"uid\": \"ddcdf4b1-021b-4333-b31d-56ce58e2c875\"}, {\"hoverinfo\": \"name+text\", \"legendgroup\": \"real\", \"line\": {\"color\": \"green\", \"width\": 1}, \"name\": \"real\", \"opacity\": 1, \"showlegend\": false, \"text\": [\"73085\", \"79880\"], \"x\": [-29.116, -38.3955], \"y\": [-255.648, -363.693], \"type\": \"scatter\", \"uid\": \"511d392a-2ea4-49a2-9f43-d11b4768c2f8\"}, {\"hoverinfo\": \"name+text\", \"legendgroup\": \"real\", \"line\": {\"color\": \"green\", \"width\": 1}, \"name\": \"real\", \"opacity\": 1, \"showlegend\": false, \"text\": [\"79880\", \"86402\"], \"x\": [-38.3955, -47.3072], \"y\": [-363.693, -495.195], \"type\": \"scatter\", \"uid\": \"b2f7a53c-5b93-48a0-b147-d463eea06b94\"}, {\"hoverinfo\": \"name+text\", \"legendgroup\": \"real\", \"line\": {\"color\": \"green\", \"width\": 1}, \"name\": \"real\", \"opacity\": 1, \"showlegend\": false, \"text\": [\"86402\", \"92130\"], \"x\": [-47.3072, -54.4897], \"y\": [-495.195, -654.254], \"type\": \"scatter\", \"uid\": \"6ffc63b1-ee70-41c0-81b3-832d63afa3e6\"}, {\"hoverinfo\": \"name+text\", \"legendgroup\": \"real\", \"line\": {\"color\": \"green\", \"width\": 1}, \"name\": \"real\", \"opacity\": 1, \"showlegend\": false, \"text\": [\"92130\", \"107883\"], \"x\": [-54.4897, -57.8177], \"y\": [-654.254, -817.466], \"type\": \"scatter\", \"uid\": \"93bb8c53-43cd-4851-bcfb-9d78974b8ac7\"}, {\"hoverinfo\": \"name+text\", \"legendgroup\": \"real\", \"line\": {\"color\": \"green\", \"width\": 1}, \"name\": \"real\", \"opacity\": 1, \"showlegend\": false, \"text\": [\"21265\", \"29504\"], \"x\": [-31.6364, -70.206], \"y\": [6.18379, 14.1226], \"type\": \"scatter\", \"uid\": \"c5784691-9359-4535-9c43-994de8020c5e\"}, {\"hoverinfo\": \"name+text\", \"legendgroup\": \"real\", \"line\": {\"color\": \"green\", \"width\": 1}, \"name\": \"real\", \"opacity\": 1, \"showlegend\": false, \"text\": [\"29504\", \"42350\"], \"x\": [-70.206, -168.155], \"y\": [14.1226, 36.3725], \"type\": \"scatter\", \"uid\": \"a843120b-d8a3-4f80-b083-02d1e98f65ff\"}, {\"hoverinfo\": \"name+text\", \"legendgroup\": \"real\", \"line\": {\"color\": \"green\", \"width\": 1}, \"name\": \"real\", \"opacity\": 1, \"showlegend\": false, \"text\": [\"42350\", \"73830\"], \"x\": [-168.155, -255.151], \"y\": [36.3725, 58.8872], \"type\": \"scatter\", \"uid\": \"87a5903e-3d7a-43b0-b44e-3671004d846b\"}, {\"hoverinfo\": \"name+text\", \"legendgroup\": \"real\", \"line\": {\"color\": \"green\", \"width\": 1}, \"name\": \"real\", \"opacity\": 1, \"showlegend\": false, \"text\": [\"73830\", \"80933\"], \"x\": [-255.151, -353.285], \"y\": [58.8872, 87.1991], \"type\": \"scatter\", \"uid\": \"fd6b0d69-cc11-4fd6-a07e-c2aae1aa555e\"}, {\"hoverinfo\": \"name+text\", \"legendgroup\": \"real\", \"line\": {\"color\": \"green\", \"width\": 1}, \"name\": \"real\", \"opacity\": 1, \"showlegend\": false, \"text\": [\"80933\", \"87292\"], \"x\": [-353.285, -482.875], \"y\": [87.1991, 129.892], \"type\": \"scatter\", \"uid\": \"da73dc68-65a2-41b2-b907-44712f466226\"}, {\"hoverinfo\": \"name+text\", \"legendgroup\": \"real\", \"line\": {\"color\": \"green\", \"width\": 1}, \"name\": \"real\", \"opacity\": 1, \"showlegend\": false, \"text\": [\"87292\", \"93165\"], \"x\": [-482.875, -633.385], \"y\": [129.892, 187.317], \"type\": \"scatter\", \"uid\": \"39263bee-e6c8-4675-88a2-c7c10d01b6a4\"}, {\"hoverinfo\": \"name+text\", \"legendgroup\": \"real\", \"line\": {\"color\": \"green\", \"width\": 1}, \"name\": \"real\", \"opacity\": 1, \"showlegend\": false, \"text\": [\"93165\", \"109022\"], \"x\": [-633.385, -782.4169999999998], \"y\": [187.317, 252.867], \"type\": \"scatter\", \"uid\": \"4188a0d5-4e17-46d5-ad36-e020d9f7d6a4\"}, {\"hoverinfo\": \"name+text\", \"legendgroup\": \"real\", \"line\": {\"color\": \"green\", \"width\": 1}, \"name\": \"real\", \"opacity\": 1, \"showlegend\": false, \"text\": [\"109022\", \"114036\"], \"x\": [-782.4169999999998, -962.827], \"y\": [252.867, 344.76199999999994], \"type\": \"scatter\", \"uid\": \"87eaac48-e878-407f-b4f1-368024be515f\"}, {\"hoverinfo\": \"name+text\", \"legendgroup\": \"real\", \"line\": {\"color\": \"green\", \"width\": 1}, \"name\": \"real\", \"opacity\": 1, \"showlegend\": false, \"text\": [\"23536\", \"31418\"], \"x\": [-30.9263, -68.8454], \"y\": [9.9814, 22.8573], \"type\": \"scatter\", \"uid\": \"f9cfe447-d167-48eb-bb42-df817b7735ea\"}, {\"hoverinfo\": \"name+text\", \"legendgroup\": \"real\", \"line\": {\"color\": \"green\", \"width\": 1}, \"name\": \"real\", \"opacity\": 1, \"showlegend\": false, \"text\": [\"31418\", \"38524\"], \"x\": [-68.8454, -109.987], \"y\": [22.8573, 37.6253], \"type\": \"scatter\", \"uid\": \"1312e229-d473-4cd6-be6f-9b4e1402185f\"}, {\"hoverinfo\": \"name+text\", \"legendgroup\": \"real\", \"line\": {\"color\": \"green\", \"width\": 1}, \"name\": \"real\", \"opacity\": 1, \"showlegend\": false, \"text\": [\"38524\", \"45067\"], \"x\": [-109.987, -161.876], \"y\": [37.6253, 57.4577], \"type\": \"scatter\", \"uid\": \"f03e8c4f-7e29-40cb-ab92-a3c833f1d943\"}, {\"hoverinfo\": \"name+text\", \"legendgroup\": \"real\", \"line\": {\"color\": \"green\", \"width\": 1}, \"name\": \"real\", \"opacity\": 1, \"showlegend\": false, \"text\": [\"45067\", \"76902\"], \"x\": [-161.876, -246.02], \"y\": [57.4577, 92.7332], \"type\": \"scatter\", \"uid\": \"dfaec092-26ec-4e09-b793-a934e5cba73c\"}, {\"hoverinfo\": \"name+text\", \"legendgroup\": \"real\", \"line\": {\"color\": \"green\", \"width\": 1}, \"name\": \"real\", \"opacity\": 1, \"showlegend\": false, \"text\": [\"76902\", \"83944\"], \"x\": [-246.02, -333.426], \"y\": [92.7332, 133.519], \"type\": \"scatter\", \"uid\": \"8a0e3923-7fcd-4f40-8106-e98d2df220bb\"}, {\"hoverinfo\": \"name+text\", \"legendgroup\": \"real\", \"line\": {\"color\": \"green\", \"width\": 1}, \"name\": \"real\", \"opacity\": 1, \"showlegend\": false, \"text\": [\"83944\", \"90803\"], \"x\": [-333.426, -459.273], \"y\": [133.519, 200.49400000000003], \"type\": \"scatter\", \"uid\": \"abc21f9e-0008-4245-9bb9-9eb4d437a152\"}, {\"hoverinfo\": \"name+text\", \"legendgroup\": \"real\", \"line\": {\"color\": \"green\", \"width\": 1}, \"name\": \"real\", \"opacity\": 1, \"showlegend\": false, \"text\": [\"90803\", \"96934\"], \"x\": [-459.273, -595.614], \"y\": [200.49400000000003, 284.758], \"type\": \"scatter\", \"uid\": \"fd3b3b0f-d163-4b89-8bfb-e8303de4ec0f\"}], {\"height\": 800, \"hovermode\": \"closest\", \"showlegend\": true, \"updatemenus\": [{\"buttons\": [{\"args\": [\"shapes\", []], \"label\": \"hide layers\", \"method\": \"relayout\"}, {\"args\": [\"shapes\", [{\"type\": \"circle\", \"x0\": -32, \"x1\": 32, \"y0\": -32, \"y1\": 32, \"opacity\": 0.5, \"layer\": \"below\", \"line\": {\"color\": \"#ccc\"}}, {\"type\": \"circle\", \"x0\": -72, \"x1\": 72, \"y0\": -72, \"y1\": 72, \"opacity\": 0.5, \"layer\": \"below\", \"line\": {\"color\": \"#ccc\"}}, {\"type\": \"circle\", \"x0\": -116, \"x1\": 116, \"y0\": -116, \"y1\": 116, \"opacity\": 0.5, \"layer\": \"below\", \"line\": {\"color\": \"#ccc\"}}, {\"type\": \"circle\", \"x0\": -172, \"x1\": 172, \"y0\": -172, \"y1\": 172, \"opacity\": 0.5, \"layer\": \"below\", \"line\": {\"color\": \"#ccc\"}}, {\"type\": \"circle\", \"x0\": -260, \"x1\": 260, \"y0\": -260, \"y1\": 260, \"opacity\": 0.5, \"layer\": \"below\", \"line\": {\"color\": \"#cccc8d\"}}, {\"type\": \"circle\", \"x0\": -360, \"x1\": 360, \"y0\": -360, \"y1\": 360, \"opacity\": 0.5, \"layer\": \"below\", \"line\": {\"color\": \"#cccc8d\"}}, {\"type\": \"circle\", \"x0\": -500, \"x1\": 500, \"y0\": -500, \"y1\": 500, \"opacity\": 0.5, \"layer\": \"below\", \"line\": {\"color\": \"#cccc8d\"}}, {\"type\": \"circle\", \"x0\": -660, \"x1\": 660, \"y0\": -660, \"y1\": 660, \"opacity\": 0.5, \"layer\": \"below\", \"line\": {\"color\": \"#cccc8d\"}}, {\"type\": \"circle\", \"x0\": -820, \"x1\": 820, \"y0\": -820, \"y1\": 820, \"opacity\": 0.5, \"layer\": \"below\", \"line\": {\"color\": \"#ccc\"}}, {\"type\": \"circle\", \"x0\": -1020, \"x1\": 1020, \"y0\": -1020, \"y1\": 1020, \"opacity\": 0.5, \"layer\": \"below\", \"line\": {\"color\": \"#ccc\"}}]], \"label\": \"show layers\", \"method\": \"relayout\"}], \"direction\": \"left\", \"pad\": {\"l\": 0.1}, \"type\": \"buttons\", \"xanchor\": \"left\", \"y\": 1.1, \"yanchor\": \"top\"}, {\"buttons\": [{\"args\": [{\"mode\": \"markers+lines\"}], \"label\": \"hits+tracks\", \"method\": \"update\"}, {\"args\": [{\"mode\": \"markers\"}], \"label\": \"hits only\", \"method\": \"update\"}], \"direction\": \"left\", \"pad\": {\"l\": 200}, \"type\": \"buttons\", \"xanchor\": \"left\", \"y\": 1.1, \"yanchor\": \"top\"}, {\"buttons\": [{\"args\": [\"yaxis.scaleanchor\", null], \"label\": \"free\", \"method\": \"relayout\"}, {\"args\": [\"yaxis.scaleanchor\", \"x\"], \"label\": \"fixed\", \"method\": \"relayout\"}], \"direction\": \"left\", \"pad\": {\"l\": 380}, \"type\": \"buttons\", \"xanchor\": \"left\", \"y\": 1.1, \"yanchor\": \"top\"}], \"width\": 800, \"xaxis\": {\"title\": \"x\"}, \"yaxis\": {\"title\": \"y\"}}, {\"showLink\": true, \"linkText\": \"Export to plot.ly\", \"plotlyServerURL\": \"https://plot.ly\"})});</script>"
      ]
     },
     "metadata": {},
     "output_type": "display_data"
    },
    {
     "data": {
      "application/vnd.plotly.v1+json": {
       "config": {
        "linkText": "Export to plot.ly",
        "plotlyServerURL": "https://plot.ly",
        "showLink": true
       },
       "data": [
        {
         "hoverinfo": "name+text",
         "legendgroup": "fake",
         "line": {
          "color": "red",
          "width": 1
         },
         "name": "fake",
         "opacity": 1,
         "showlegend": true,
         "text": [
          "23050",
          "37198"
         ],
         "type": "scatter",
         "uid": "d99d227a-10c7-4470-976b-b1c8fc00fee5",
         "x": [
          23.0524,
          59.2064
         ],
         "y": [
          32.02056999141177,
          115.0064055732984
         ]
        },
        {
         "hoverinfo": "name+text",
         "legendgroup": "real_unfocused",
         "line": {
          "color": "darkseagreen",
          "width": 1
         },
         "name": "real_unfocused",
         "opacity": 1,
         "showlegend": true,
         "text": [
          "18246",
          "27129"
         ],
         "type": "scatter",
         "uid": "629616be-aa60-4689-92d7-53e3e6bbb550",
         "x": [
          -70.5503,
          -161.067
         ],
         "y": [
          31.546282598905375,
          72.95614848420934
         ]
        },
        {
         "hoverinfo": "name+text",
         "legendgroup": "real_unfocused",
         "line": {
          "color": "darkseagreen",
          "width": 1
         },
         "name": "real_unfocused",
         "opacity": 1,
         "showlegend": false,
         "text": [
          "27129",
          "34226"
         ],
         "type": "scatter",
         "uid": "44280b7f-3823-45eb-b440-78942a800e62",
         "x": [
          -161.067,
          -252.93400000000003
         ],
         "y": [
          72.95614848420934,
          115.02006064165504
         ]
        },
        {
         "hoverinfo": "name+text",
         "legendgroup": "real_unfocused",
         "line": {
          "color": "darkseagreen",
          "width": 1
         },
         "name": "real_unfocused",
         "opacity": 1,
         "showlegend": false,
         "text": [
          "34226",
          "40268"
         ],
         "type": "scatter",
         "uid": "6dc92338-e623-433b-a159-512e53c313fa",
         "x": [
          -252.93400000000003,
          -376.026
         ],
         "y": [
          115.02006064165504,
          171.35896601578804
         ]
        },
        {
         "hoverinfo": "name+text",
         "legendgroup": "real_unfocused",
         "line": {
          "color": "darkseagreen",
          "width": 1
         },
         "name": "real_unfocused",
         "opacity": 1,
         "showlegend": false,
         "text": [
          "40268",
          "72036"
         ],
         "type": "scatter",
         "uid": "85c53cf4-5932-40f6-b757-32ed313d3b88",
         "x": [
          -376.026,
          -576.2
         ],
         "y": [
          171.35896601578804,
          263.0385854831949
         ]
        },
        {
         "hoverinfo": "name+text",
         "legendgroup": "real_unfocused",
         "line": {
          "color": "darkseagreen",
          "width": 1
         },
         "name": "real_unfocused",
         "opacity": 1,
         "showlegend": false,
         "text": [
          "72036",
          "78762"
         ],
         "type": "scatter",
         "uid": "2b34bf37-1607-4744-9d73-2b91ef7bcd00",
         "x": [
          -576.2,
          -790.6
         ],
         "y": [
          263.0385854831949,
          360.6255076058819
         ]
        },
        {
         "hoverinfo": "name+text",
         "legendgroup": "real_unfocused",
         "line": {
          "color": "darkseagreen",
          "width": 1
         },
         "name": "real_unfocused",
         "opacity": 1,
         "showlegend": false,
         "text": [
          "75184",
          "82090"
         ],
         "type": "scatter",
         "uid": "810c1e76-8761-4c2c-96ae-103aba09dfed",
         "x": [
          77.2,
          104.8
         ],
         "y": [
          262.1663236351383,
          359.2111247589779
         ]
        },
        {
         "hoverinfo": "name+text",
         "legendgroup": "real_unfocused",
         "line": {
          "color": "darkseagreen",
          "width": 1
         },
         "name": "real_unfocused",
         "opacity": 1,
         "showlegend": false,
         "text": [
          "82090",
          "88632"
         ],
         "type": "scatter",
         "uid": "ff38a55f-ca99-4cc0-ac1e-2e8ed2a99557",
         "x": [
          104.8,
          145.6
         ],
         "y": [
          359.2111247589779,
          497.29964951401286
         ]
        },
        {
         "hoverinfo": "name+text",
         "legendgroup": "real_unfocused",
         "line": {
          "color": "darkseagreen",
          "width": 1
         },
         "name": "real_unfocused",
         "opacity": 1,
         "showlegend": false,
         "text": [
          "88632",
          "94896"
         ],
         "type": "scatter",
         "uid": "66237437-6590-410c-8cb3-66b47dc550c0",
         "x": [
          145.6,
          194.6
         ],
         "y": [
          497.29964951401286,
          663.8058980771413
         ]
        },
        {
         "hoverinfo": "name+text",
         "legendgroup": "real_unfocused",
         "line": {
          "color": "darkseagreen",
          "width": 1
         },
         "name": "real_unfocused",
         "opacity": 1,
         "showlegend": false,
         "text": [
          "94896",
          "110783"
         ],
         "type": "scatter",
         "uid": "4b1eecf7-6c39-45ba-8220-1c162cd7ca68",
         "x": [
          194.6,
          243.8
         ],
         "y": [
          663.8058980771413,
          822.6882381005577
         ]
        },
        {
         "hoverinfo": "name+text",
         "legendgroup": "real_unfocused",
         "line": {
          "color": "darkseagreen",
          "width": 1
         },
         "name": "real_unfocused",
         "opacity": 1,
         "showlegend": false,
         "text": [
          "110783",
          "116120"
         ],
         "type": "scatter",
         "uid": "e5c23244-9501-4691-b20e-597f914756b9",
         "x": [
          243.8,
          303.6
         ],
         "y": [
          822.6882381005577,
          1019.1596444914801
         ]
        },
        {
         "hoverinfo": "name+text",
         "legendgroup": "real_unfocused",
         "line": {
          "color": "darkseagreen",
          "width": 1
         },
         "name": "real_unfocused",
         "opacity": 1,
         "showlegend": false,
         "text": [
          "37198",
          "44045"
         ],
         "type": "scatter",
         "uid": "a70ec10c-0f31-44a0-b87d-e97c1ea1aa14",
         "x": [
          59.2064,
          83.8711
         ],
         "y": [
          115.0064055732984,
          171.8463372779298
         ]
        },
        {
         "hoverinfo": "name+text",
         "legendgroup": "real_unfocused",
         "line": {
          "color": "darkseagreen",
          "width": 1
         },
         "name": "real_unfocused",
         "opacity": 1,
         "showlegend": false,
         "text": [
          "44045",
          "75480"
         ],
         "type": "scatter",
         "uid": "9a792578-9fe3-42ca-9d28-4e29a61a97d5",
         "x": [
          83.8711,
          121.6
         ],
         "y": [
          171.8463372779298,
          258.1311722458177
         ]
        },
        {
         "hoverinfo": "name+text",
         "legendgroup": "real_unfocused",
         "line": {
          "color": "darkseagreen",
          "width": 1
         },
         "name": "real_unfocused",
         "opacity": 1,
         "showlegend": false,
         "text": [
          "75480",
          "82723"
         ],
         "type": "scatter",
         "uid": "6df5f4f2-085a-481b-9d2e-fd81a83a1e45",
         "x": [
          121.6,
          165.8
         ],
         "y": [
          258.1311722458177,
          360.3464031056922
         ]
        },
        {
         "hoverinfo": "name+text",
         "legendgroup": "real_unfocused",
         "line": {
          "color": "darkseagreen",
          "width": 1
         },
         "name": "real_unfocused",
         "opacity": 1,
         "showlegend": false,
         "text": [
          "21405",
          "30694"
         ],
         "type": "scatter",
         "uid": "53d5ef87-eb6d-477a-80a8-5b53ae70bd0f",
         "x": [
          52.0145,
          107.158
         ],
         "y": [
          33.604869926734146,
          73.82976240148159
         ]
        },
        {
         "hoverinfo": "name+text",
         "legendgroup": "real_unfocused",
         "line": {
          "color": "darkseagreen",
          "width": 1
         },
         "name": "real_unfocused",
         "opacity": 1,
         "showlegend": false,
         "text": [
          "30694",
          "38058"
         ],
         "type": "scatter",
         "uid": "dd93d1f9-a92a-40d0-9721-558d752722fd",
         "x": [
          107.158,
          166.491
         ],
         "y": [
          73.82976240148159,
          116.91123809106979
         ]
        },
        {
         "hoverinfo": "name+text",
         "legendgroup": "real_unfocused",
         "line": {
          "color": "darkseagreen",
          "width": 1
         },
         "name": "real_unfocused",
         "opacity": 1,
         "showlegend": false,
         "text": [
          "38058",
          "44664"
         ],
         "type": "scatter",
         "uid": "80924aa1-23bd-4fb1-8227-5a491cad89aa",
         "x": [
          166.491,
          243.461
         ],
         "y": [
          116.91123809106979,
          172.77679735471895
         ]
        },
        {
         "hoverinfo": "name+text",
         "legendgroup": "real_unfocused",
         "line": {
          "color": "darkseagreen",
          "width": 1
         },
         "name": "real_unfocused",
         "opacity": 1,
         "showlegend": false,
         "text": [
          "44664",
          "76101"
         ],
         "type": "scatter",
         "uid": "35265a1a-dafd-461c-b970-54145ba73de7",
         "x": [
          243.461,
          360.6
         ],
         "y": [
          172.77679735471895,
          257.4177895939012
         ]
        },
        {
         "hoverinfo": "name+text",
         "legendgroup": "real_unfocused",
         "line": {
          "color": "darkseagreen",
          "width": 1
         },
         "name": "real_unfocused",
         "opacity": 1,
         "showlegend": false,
         "text": [
          "76101",
          "83615"
         ],
         "type": "scatter",
         "uid": "b702e1df-9719-4275-8823-344ad69f16c6",
         "x": [
          360.6,
          502.8
         ],
         "y": [
          257.4177895939012,
          359.94553844991606
         ]
        },
        {
         "hoverinfo": "name+text",
         "legendgroup": "real_unfocused",
         "line": {
          "color": "darkseagreen",
          "width": 1
         },
         "name": "real_unfocused",
         "opacity": 1,
         "showlegend": false,
         "text": [
          "83615",
          "90565"
         ],
         "type": "scatter",
         "uid": "dcb1acd8-6787-43ad-acf8-487c0d9d9c1e",
         "x": [
          502.8,
          698
         ],
         "y": [
          359.94553844991606,
          498.87383068175666
         ]
        },
        {
         "hoverinfo": "name+text",
         "legendgroup": "real_unfocused",
         "line": {
          "color": "darkseagreen",
          "width": 1
         },
         "name": "real_unfocused",
         "opacity": 1,
         "showlegend": false,
         "text": [
          "90565",
          "96738"
         ],
         "type": "scatter",
         "uid": "4cc6953e-eead-456a-95b3-9174706d877f",
         "x": [
          698,
          928.2
         ],
         "y": [
          498.87383068175666,
          661.1510399333877
         ]
        },
        {
         "hoverinfo": "name+text",
         "legendgroup": "real",
         "line": {
          "color": "green",
          "width": 1
         },
         "name": "real",
         "opacity": 1,
         "showlegend": true,
         "text": [
          "20764",
          "27487"
         ],
         "type": "scatter",
         "uid": "2cb85c58-b55a-4241-81fd-067ad9d3fb44",
         "x": [
          -67.8321,
          -145.30700000000004
         ],
         "y": [
          32.157173777557006,
          72.80676931336811
         ]
        },
        {
         "hoverinfo": "name+text",
         "legendgroup": "real",
         "line": {
          "color": "green",
          "width": 1
         },
         "name": "real",
         "opacity": 1,
         "showlegend": false,
         "text": [
          "27487",
          "34491"
         ],
         "type": "scatter",
         "uid": "e16bb9bf-2f58-4ceb-bc61-d35b21f6e2ab",
         "x": [
          -145.30700000000004,
          -225.866
         ],
         "y": [
          72.80676931336811,
          115.05245255343321
         ]
        },
        {
         "hoverinfo": "name+text",
         "legendgroup": "real",
         "line": {
          "color": "green",
          "width": 1
         },
         "name": "real",
         "opacity": 1,
         "showlegend": false,
         "text": [
          "34491",
          "40865"
         ],
         "type": "scatter",
         "uid": "b9f0571e-b0f3-4e6a-87c0-e6c09c71ec73",
         "x": [
          -225.866,
          -336.397
         ],
         "y": [
          115.05245255343321,
          173.0423765237868
         ]
        },
        {
         "hoverinfo": "name+text",
         "legendgroup": "real",
         "line": {
          "color": "green",
          "width": 1
         },
         "name": "real",
         "opacity": 1,
         "showlegend": false,
         "text": [
          "40865",
          "72549"
         ],
         "type": "scatter",
         "uid": "888bdd93-6758-4345-b012-efa3297321ec",
         "x": [
          -336.397,
          -499.4
         ],
         "y": [
          173.0423765237868,
          258.1986281140936
         ]
        },
        {
         "hoverinfo": "name+text",
         "legendgroup": "real",
         "line": {
          "color": "green",
          "width": 1
         },
         "name": "real",
         "opacity": 1,
         "showlegend": false,
         "text": [
          "72549",
          "79138"
         ],
         "type": "scatter",
         "uid": "b4e3db7f-2a28-4e15-9d81-9153ec26e093",
         "x": [
          -499.4,
          -689.8
         ],
         "y": [
          258.1986281140936,
          358.26621846092326
         ]
        },
        {
         "hoverinfo": "name+text",
         "legendgroup": "real",
         "line": {
          "color": "green",
          "width": 1
         },
         "name": "real",
         "opacity": 1,
         "showlegend": false,
         "text": [
          "79138",
          "85537"
         ],
         "type": "scatter",
         "uid": "1cdd8ae2-7253-4a95-920b-94afb620fd2d",
         "x": [
          -689.8,
          -955.8
         ],
         "y": [
          358.26621846092326,
          496.7990769969284
         ]
        },
        {
         "hoverinfo": "name+text",
         "legendgroup": "real",
         "line": {
          "color": "green",
          "width": 1
         },
         "name": "real",
         "opacity": 1,
         "showlegend": false,
         "text": [
          "20262",
          "28058"
         ],
         "type": "scatter",
         "uid": "35177dbc-4147-4024-9259-36a65e113688",
         "x": [
          -43.7904,
          -94.3151
         ],
         "y": [
          32.562200789221855,
          71.42720770825427
         ]
        },
        {
         "hoverinfo": "name+text",
         "legendgroup": "real",
         "line": {
          "color": "green",
          "width": 1
         },
         "name": "real",
         "opacity": 1,
         "showlegend": false,
         "text": [
          "28058",
          "34877"
         ],
         "type": "scatter",
         "uid": "ae498e05-96d1-47dc-ae78-5c76f6313e95",
         "x": [
          -94.3151,
          -151.393
         ],
         "y": [
          71.42720770825427,
          115.4017704365492
         ]
        },
        {
         "hoverinfo": "name+text",
         "legendgroup": "real",
         "line": {
          "color": "green",
          "width": 1
         },
         "name": "real",
         "opacity": 1,
         "showlegend": false,
         "text": [
          "34877",
          "41146"
         ],
         "type": "scatter",
         "uid": "27bd66a5-751d-4943-bd9e-3ae88c1db388",
         "x": [
          -151.393,
          -224.485
         ],
         "y": [
          115.4017704365492,
          171.697933181183
         ]
        },
        {
         "hoverinfo": "name+text",
         "legendgroup": "real",
         "line": {
          "color": "green",
          "width": 1
         },
         "name": "real",
         "opacity": 1,
         "showlegend": false,
         "text": [
          "41146",
          "73201"
         ],
         "type": "scatter",
         "uid": "af0a27b1-6b9b-48d3-acc6-2584253fd830",
         "x": [
          -224.485,
          -339
         ],
         "y": [
          171.697933181183,
          259.9772582081748
         ]
        },
        {
         "hoverinfo": "name+text",
         "legendgroup": "real",
         "line": {
          "color": "green",
          "width": 1
         },
         "name": "real",
         "opacity": 1,
         "showlegend": false,
         "text": [
          "73201",
          "79641"
         ],
         "type": "scatter",
         "uid": "45537027-0278-4e35-94c4-4b247775d49d",
         "x": [
          -339,
          -470.6
         ],
         "y": [
          259.9772582081748,
          361.27022166795035
         ]
        },
        {
         "hoverinfo": "name+text",
         "legendgroup": "real",
         "line": {
          "color": "green",
          "width": 1
         },
         "name": "real",
         "opacity": 1,
         "showlegend": false,
         "text": [
          "79641",
          "86195"
         ],
         "type": "scatter",
         "uid": "e5da4f5f-5c01-430d-b920-5c6eeb2ae2b3",
         "x": [
          -470.6,
          -657.6
         ],
         "y": [
          361.27022166795035,
          505.25758938962014
         ]
        },
        {
         "hoverinfo": "name+text",
         "legendgroup": "real",
         "line": {
          "color": "green",
          "width": 1
         },
         "name": "real",
         "opacity": 1,
         "showlegend": false,
         "text": [
          "86195",
          "91955"
         ],
         "type": "scatter",
         "uid": "7189696e-54e9-49c0-9158-6db2cb5253fc",
         "x": [
          -657.6,
          -865.4
         ],
         "y": [
          505.25758938962014,
          665.3054220029776
         ]
        },
        {
         "hoverinfo": "name+text",
         "legendgroup": "real",
         "line": {
          "color": "green",
          "width": 1
         },
         "name": "real",
         "opacity": 1,
         "showlegend": false,
         "text": [
          "91955",
          "107743"
         ],
         "type": "scatter",
         "uid": "980b5287-3f78-4561-9214-cd40841df709",
         "x": [
          -865.4,
          -1067.8
         ],
         "y": [
          665.3054220029776,
          824.2035973873507
         ]
        },
        {
         "hoverinfo": "name+text",
         "legendgroup": "real",
         "line": {
          "color": "green",
          "width": 1
         },
         "name": "real",
         "opacity": 1,
         "showlegend": false,
         "text": [
          "19698",
          "27827"
         ],
         "type": "scatter",
         "uid": "294138e1-e037-4d3f-a576-ae6576e3110b",
         "x": [
          -43.6337,
          -86.1783
         ],
         "y": [
          32.02264014494901,
          72.07849176870727
         ]
        },
        {
         "hoverinfo": "name+text",
         "legendgroup": "real",
         "line": {
          "color": "green",
          "width": 1
         },
         "name": "real",
         "opacity": 1,
         "showlegend": false,
         "text": [
          "27827",
          "35259"
         ],
         "type": "scatter",
         "uid": "8305ca82-68f0-4659-8e2b-49925595ad62",
         "x": [
          -86.1783,
          -131.795
         ],
         "y": [
          72.07849176870727,
          115.01274730202735
         ]
        },
        {
         "hoverinfo": "name+text",
         "legendgroup": "real",
         "line": {
          "color": "green",
          "width": 1
         },
         "name": "real",
         "opacity": 1,
         "showlegend": false,
         "text": [
          "35259",
          "41464"
         ],
         "type": "scatter",
         "uid": "ce7a03b1-2461-4668-a536-a200c509b43a",
         "x": [
          -131.795,
          -191.758
         ],
         "y": [
          115.01274730202735,
          171.40195078204334
         ]
        },
        {
         "hoverinfo": "name+text",
         "legendgroup": "real",
         "line": {
          "color": "green",
          "width": 1
         },
         "name": "real",
         "opacity": 1,
         "showlegend": false,
         "text": [
          "41464",
          "73085"
         ],
         "type": "scatter",
         "uid": "a7632f58-b8fb-4717-90ab-90ed6610c888",
         "x": [
          -191.758,
          -283.2
         ],
         "y": [
          171.40195078204334,
          257.30068278183796
         ]
        },
        {
         "hoverinfo": "name+text",
         "legendgroup": "real",
         "line": {
          "color": "green",
          "width": 1
         },
         "name": "real",
         "opacity": 1,
         "showlegend": false,
         "text": [
          "73085",
          "79880"
         ],
         "type": "scatter",
         "uid": "22d7223e-8713-43e9-a4c7-af05183e2bb2",
         "x": [
          -283.2,
          -398.2
         ],
         "y": [
          257.30068278183796,
          365.71411330334246
         ]
        },
        {
         "hoverinfo": "name+text",
         "legendgroup": "real",
         "line": {
          "color": "green",
          "width": 1
         },
         "name": "real",
         "opacity": 1,
         "showlegend": false,
         "text": [
          "79880",
          "86402"
         ],
         "type": "scatter",
         "uid": "216c51ea-da5b-40be-a509-b9fa482e6638",
         "x": [
          -398.2,
          -538.4
         ],
         "y": [
          365.71411330334246,
          497.4495544242049
         ]
        },
        {
         "hoverinfo": "name+text",
         "legendgroup": "real",
         "line": {
          "color": "green",
          "width": 1
         },
         "name": "real",
         "opacity": 1,
         "showlegend": false,
         "text": [
          "86402",
          "92130"
         ],
         "type": "scatter",
         "uid": "be4f1431-5597-41ff-bbf1-136d2b17b3f1",
         "x": [
          -538.4,
          -707.2
         ],
         "y": [
          497.4495544242049,
          656.5191725472228
         ]
        },
        {
         "hoverinfo": "name+text",
         "legendgroup": "real",
         "line": {
          "color": "green",
          "width": 1
         },
         "name": "real",
         "opacity": 1,
         "showlegend": false,
         "text": [
          "92130",
          "107883"
         ],
         "type": "scatter",
         "uid": "7e6ad41d-639a-492a-ab3c-e1f47c2a025e",
         "x": [
          -707.2,
          -878.4
         ],
         "y": [
          656.5191725472228,
          819.5081131930848
         ]
        },
        {
         "hoverinfo": "name+text",
         "legendgroup": "real",
         "line": {
          "color": "green",
          "width": 1
         },
         "name": "real",
         "opacity": 1,
         "showlegend": false,
         "text": [
          "21265",
          "29504"
         ],
         "type": "scatter",
         "uid": "e9709e81-6f2a-422b-a8a4-974370d68e67",
         "x": [
          -24.6702,
          -46.6699
         ],
         "y": [
          32.23509056485029,
          71.61236113102264
         ]
        },
        {
         "hoverinfo": "name+text",
         "legendgroup": "real",
         "line": {
          "color": "green",
          "width": 1
         },
         "name": "real",
         "opacity": 1,
         "showlegend": false,
         "text": [
          "29504",
          "42350"
         ],
         "type": "scatter",
         "uid": "e1fbde07-a835-48f3-9cf9-467f211f84d1",
         "x": [
          -46.6699,
          -102.632
         ],
         "y": [
          71.61236113102264,
          172.0437815826251
         ]
        },
        {
         "hoverinfo": "name+text",
         "legendgroup": "real",
         "line": {
          "color": "green",
          "width": 1
         },
         "name": "real",
         "opacity": 1,
         "showlegend": false,
         "text": [
          "42350",
          "73830"
         ],
         "type": "scatter",
         "uid": "e2ce5ef2-8948-43f7-b036-76802bcc6ec0",
         "x": [
          -102.632,
          -152.6
         ],
         "y": [
          172.0437815826251,
          261.85823478523645
         ]
        },
        {
         "hoverinfo": "name+text",
         "legendgroup": "real",
         "line": {
          "color": "green",
          "width": 1
         },
         "name": "real",
         "opacity": 1,
         "showlegend": false,
         "text": [
          "73830",
          "80933"
         ],
         "type": "scatter",
         "uid": "b786f711-9d9f-47df-8f9d-f40714351f04",
         "x": [
          -152.6,
          -209.6
         ],
         "y": [
          261.85823478523645,
          363.8873098444215
         ]
        },
        {
         "hoverinfo": "name+text",
         "legendgroup": "real",
         "line": {
          "color": "green",
          "width": 1
         },
         "name": "real",
         "opacity": 1,
         "showlegend": false,
         "text": [
          "80933",
          "87292"
         ],
         "type": "scatter",
         "uid": "11372b68-f0c3-4219-931a-d52845314a79",
         "x": [
          -209.6,
          -285.6
         ],
         "y": [
          363.8873098444215,
          500.04019567330784
         ]
        },
        {
         "hoverinfo": "name+text",
         "legendgroup": "real",
         "line": {
          "color": "green",
          "width": 1
         },
         "name": "real",
         "opacity": 1,
         "showlegend": false,
         "text": [
          "87292",
          "93165"
         ],
         "type": "scatter",
         "uid": "4d10c3b1-dcbf-401b-bc83-de3736f523ce",
         "x": [
          -285.6,
          -375.4
         ],
         "y": [
          500.04019567330784,
          660.5030028046807
         ]
        },
        {
         "hoverinfo": "name+text",
         "legendgroup": "real",
         "line": {
          "color": "green",
          "width": 1
         },
         "name": "real",
         "opacity": 1,
         "showlegend": false,
         "text": [
          "93165",
          "109022"
         ],
         "type": "scatter",
         "uid": "86dc2aa5-4678-47a9-b06a-7625ee7a56b7",
         "x": [
          -375.4,
          -466.4
         ],
         "y": [
          660.5030028046807,
          822.2639974959379
         ]
        },
        {
         "hoverinfo": "name+text",
         "legendgroup": "real",
         "line": {
          "color": "green",
          "width": 1
         },
         "name": "real",
         "opacity": 1,
         "showlegend": false,
         "text": [
          "109022",
          "114036"
         ],
         "type": "scatter",
         "uid": "548980f9-766c-41e1-915d-0c7e9bedb78d",
         "x": [
          -466.4,
          -580.2
         ],
         "y": [
          822.2639974959379,
          1022.6908959079474
         ]
        },
        {
         "hoverinfo": "name+text",
         "legendgroup": "real",
         "line": {
          "color": "green",
          "width": 1
         },
         "name": "real",
         "opacity": 1,
         "showlegend": false,
         "text": [
          "23536",
          "31418"
         ],
         "type": "scatter",
         "uid": "4c149600-75e9-47a9-8844-2d7583655b38",
         "x": [
          41.7502,
          99.58
         ],
         "y": [
          32.49714414606305,
          72.54064560265508
         ]
        },
        {
         "hoverinfo": "name+text",
         "legendgroup": "real",
         "line": {
          "color": "green",
          "width": 1
         },
         "name": "real",
         "opacity": 1,
         "showlegend": false,
         "text": [
          "31418",
          "38524"
         ],
         "type": "scatter",
         "uid": "420b0942-856c-43f7-a082-550be061445c",
         "x": [
          99.58,
          162.741
         ],
         "y": [
          72.54064560265508,
          116.24458425703108
         ]
        },
        {
         "hoverinfo": "name+text",
         "legendgroup": "real",
         "line": {
          "color": "green",
          "width": 1
         },
         "name": "real",
         "opacity": 1,
         "showlegend": false,
         "text": [
          "38524",
          "45067"
         ],
         "type": "scatter",
         "uid": "d1a7eb6b-126e-44d2-b224-71dca43b4f1f",
         "x": [
          162.741,
          243.228
         ],
         "y": [
          116.24458425703108,
          171.77085511020198
         ]
        },
        {
         "hoverinfo": "name+text",
         "legendgroup": "real",
         "line": {
          "color": "green",
          "width": 1
         },
         "name": "real",
         "opacity": 1,
         "showlegend": false,
         "text": [
          "45067",
          "76902"
         ],
         "type": "scatter",
         "uid": "a0b9902c-118a-4970-89a3-631877ce1d58",
         "x": [
          243.228,
          375.4
         ],
         "y": [
          171.77085511020198,
          262.9168818890107
         ]
        },
        {
         "hoverinfo": "name+text",
         "legendgroup": "real",
         "line": {
          "color": "green",
          "width": 1
         },
         "name": "real",
         "opacity": 1,
         "showlegend": false,
         "text": [
          "76902",
          "83944"
         ],
         "type": "scatter",
         "uid": "654d8813-feed-451a-a9f1-b93d6207efa9",
         "x": [
          375.4,
          515.6
         ],
         "y": [
          262.9168818890107,
          359.1660073517537
         ]
        },
        {
         "hoverinfo": "name+text",
         "legendgroup": "real",
         "line": {
          "color": "green",
          "width": 1
         },
         "name": "real",
         "opacity": 1,
         "showlegend": false,
         "text": [
          "83944",
          "90803"
         ],
         "type": "scatter",
         "uid": "30fed075-82e3-4a11-8e9e-16666eb9ba4f",
         "x": [
          515.6,
          722.2
         ],
         "y": [
          359.1660073517537,
          501.1282595952857
         ]
        },
        {
         "hoverinfo": "name+text",
         "legendgroup": "real",
         "line": {
          "color": "green",
          "width": 1
         },
         "name": "real",
         "opacity": 1,
         "showlegend": false,
         "text": [
          "90803",
          "96934"
         ],
         "type": "scatter",
         "uid": "0500053b-1bd1-4000-9a65-413d11a16758",
         "x": [
          722.2,
          956
         ],
         "y": [
          501.1282595952857,
          660.1841830580312
         ]
        }
       ],
       "layout": {
        "height": 800,
        "hovermode": "closest",
        "showlegend": true,
        "updatemenus": [
         {
          "buttons": [
           {
            "args": [
             "shapes",
             []
            ],
            "label": "hide layers",
            "method": "relayout"
           },
           {
            "args": [
             "shapes",
             [
              {
               "layer": "below",
               "line": {
                "color": "#ccc"
               },
               "opacity": 0.5,
               "type": "line",
               "x0": -455,
               "x1": 455,
               "y0": 32,
               "y1": 32
              },
              {
               "layer": "below",
               "line": {
                "color": "#ccc"
               },
               "opacity": 0.5,
               "type": "line",
               "x0": -455,
               "x1": 455,
               "y0": 72,
               "y1": 72
              },
              {
               "layer": "below",
               "line": {
                "color": "#ccc"
               },
               "opacity": 0.5,
               "type": "line",
               "x0": -455,
               "x1": 455,
               "y0": 116,
               "y1": 116
              },
              {
               "layer": "below",
               "line": {
                "color": "#ccc"
               },
               "opacity": 0.5,
               "type": "line",
               "x0": -455,
               "x1": 455,
               "y0": 172,
               "y1": 172
              },
              {
               "layer": "below",
               "line": {
                "color": "#cccc8d"
               },
               "opacity": 0.5,
               "type": "line",
               "x0": -1030,
               "x1": 1030,
               "y0": 260,
               "y1": 260
              },
              {
               "layer": "below",
               "line": {
                "color": "#cccc8d"
               },
               "opacity": 0.5,
               "type": "line",
               "x0": -1030,
               "x1": 1030,
               "y0": 360,
               "y1": 360
              },
              {
               "layer": "below",
               "line": {
                "color": "#cccc8d"
               },
               "opacity": 0.5,
               "type": "line",
               "x0": -1030,
               "x1": 1030,
               "y0": 500,
               "y1": 500
              },
              {
               "layer": "below",
               "line": {
                "color": "#cccc8d"
               },
               "opacity": 0.5,
               "type": "line",
               "x0": -1030,
               "x1": 1030,
               "y0": 660,
               "y1": 660
              },
              {
               "layer": "below",
               "line": {
                "color": "#ccc"
               },
               "opacity": 0.5,
               "type": "line",
               "x0": -1030,
               "x1": 1030,
               "y0": 820,
               "y1": 820
              },
              {
               "layer": "below",
               "line": {
                "color": "#ccc"
               },
               "opacity": 0.5,
               "type": "line",
               "x0": -1030,
               "x1": 1030,
               "y0": 1020,
               "y1": 1020
              }
             ]
            ],
            "label": "show layers",
            "method": "relayout"
           }
          ],
          "direction": "left",
          "pad": {
           "l": 0.1
          },
          "type": "buttons",
          "xanchor": "left",
          "y": 1.1,
          "yanchor": "top"
         },
         {
          "buttons": [
           {
            "args": [
             {
              "mode": "markers+lines"
             }
            ],
            "label": "hits+tracks",
            "method": "update"
           },
           {
            "args": [
             {
              "mode": "markers"
             }
            ],
            "label": "hits only",
            "method": "update"
           }
          ],
          "direction": "left",
          "pad": {
           "l": 200
          },
          "type": "buttons",
          "xanchor": "left",
          "y": 1.1,
          "yanchor": "top"
         },
         {
          "buttons": [
           {
            "args": [
             "yaxis.scaleanchor",
             null
            ],
            "label": "free",
            "method": "relayout"
           },
           {
            "args": [
             "yaxis.scaleanchor",
             "x"
            ],
            "label": "fixed",
            "method": "relayout"
           }
          ],
          "direction": "left",
          "pad": {
           "l": 380
          },
          "type": "buttons",
          "xanchor": "left",
          "y": 1.1,
          "yanchor": "top"
         }
        ],
        "width": 800,
        "xaxis": {
         "title": "z"
        },
        "yaxis": {
         "title": "r"
        }
       }
      },
      "text/html": [
       "<div id=\"548b6263-33d7-49f2-9863-5cb667027a72\" style=\"height: 800px; width: 800px;\" class=\"plotly-graph-div\"></div><script type=\"text/javascript\">require([\"plotly\"], function(Plotly) { window.PLOTLYENV=window.PLOTLYENV || {};window.PLOTLYENV.BASE_URL=\"https://plot.ly\";Plotly.newPlot(\"548b6263-33d7-49f2-9863-5cb667027a72\", [{\"hoverinfo\": \"name+text\", \"legendgroup\": \"fake\", \"line\": {\"color\": \"red\", \"width\": 1}, \"name\": \"fake\", \"opacity\": 1, \"showlegend\": true, \"text\": [\"23050\", \"37198\"], \"x\": [23.0524, 59.2064], \"y\": [32.02056999141177, 115.0064055732984], \"type\": \"scatter\", \"uid\": \"d99d227a-10c7-4470-976b-b1c8fc00fee5\"}, {\"hoverinfo\": \"name+text\", \"legendgroup\": \"real_unfocused\", \"line\": {\"color\": \"darkseagreen\", \"width\": 1}, \"name\": \"real_unfocused\", \"opacity\": 1, \"showlegend\": true, \"text\": [\"18246\", \"27129\"], \"x\": [-70.5503, -161.067], \"y\": [31.546282598905375, 72.95614848420934], \"type\": \"scatter\", \"uid\": \"629616be-aa60-4689-92d7-53e3e6bbb550\"}, {\"hoverinfo\": \"name+text\", \"legendgroup\": \"real_unfocused\", \"line\": {\"color\": \"darkseagreen\", \"width\": 1}, \"name\": \"real_unfocused\", \"opacity\": 1, \"showlegend\": false, \"text\": [\"27129\", \"34226\"], \"x\": [-161.067, -252.93400000000003], \"y\": [72.95614848420934, 115.02006064165504], \"type\": \"scatter\", \"uid\": \"44280b7f-3823-45eb-b440-78942a800e62\"}, {\"hoverinfo\": \"name+text\", \"legendgroup\": \"real_unfocused\", \"line\": {\"color\": \"darkseagreen\", \"width\": 1}, \"name\": \"real_unfocused\", \"opacity\": 1, \"showlegend\": false, \"text\": [\"34226\", \"40268\"], \"x\": [-252.93400000000003, -376.026], \"y\": [115.02006064165504, 171.35896601578804], \"type\": \"scatter\", \"uid\": \"6dc92338-e623-433b-a159-512e53c313fa\"}, {\"hoverinfo\": \"name+text\", \"legendgroup\": \"real_unfocused\", \"line\": {\"color\": \"darkseagreen\", \"width\": 1}, \"name\": \"real_unfocused\", \"opacity\": 1, \"showlegend\": false, \"text\": [\"40268\", \"72036\"], \"x\": [-376.026, -576.2], \"y\": [171.35896601578804, 263.0385854831949], \"type\": \"scatter\", \"uid\": \"85c53cf4-5932-40f6-b757-32ed313d3b88\"}, {\"hoverinfo\": \"name+text\", \"legendgroup\": \"real_unfocused\", \"line\": {\"color\": \"darkseagreen\", \"width\": 1}, \"name\": \"real_unfocused\", \"opacity\": 1, \"showlegend\": false, \"text\": [\"72036\", \"78762\"], \"x\": [-576.2, -790.6], \"y\": [263.0385854831949, 360.6255076058819], \"type\": \"scatter\", \"uid\": \"2b34bf37-1607-4744-9d73-2b91ef7bcd00\"}, {\"hoverinfo\": \"name+text\", \"legendgroup\": \"real_unfocused\", \"line\": {\"color\": \"darkseagreen\", \"width\": 1}, \"name\": \"real_unfocused\", \"opacity\": 1, \"showlegend\": false, \"text\": [\"75184\", \"82090\"], \"x\": [77.2, 104.8], \"y\": [262.1663236351383, 359.2111247589779], \"type\": \"scatter\", \"uid\": \"810c1e76-8761-4c2c-96ae-103aba09dfed\"}, {\"hoverinfo\": \"name+text\", \"legendgroup\": \"real_unfocused\", \"line\": {\"color\": \"darkseagreen\", \"width\": 1}, \"name\": \"real_unfocused\", \"opacity\": 1, \"showlegend\": false, \"text\": [\"82090\", \"88632\"], \"x\": [104.8, 145.6], \"y\": [359.2111247589779, 497.29964951401286], \"type\": \"scatter\", \"uid\": \"ff38a55f-ca99-4cc0-ac1e-2e8ed2a99557\"}, {\"hoverinfo\": \"name+text\", \"legendgroup\": \"real_unfocused\", \"line\": {\"color\": \"darkseagreen\", \"width\": 1}, \"name\": \"real_unfocused\", \"opacity\": 1, \"showlegend\": false, \"text\": [\"88632\", \"94896\"], \"x\": [145.6, 194.6], \"y\": [497.29964951401286, 663.8058980771413], \"type\": \"scatter\", \"uid\": \"66237437-6590-410c-8cb3-66b47dc550c0\"}, {\"hoverinfo\": \"name+text\", \"legendgroup\": \"real_unfocused\", \"line\": {\"color\": \"darkseagreen\", \"width\": 1}, \"name\": \"real_unfocused\", \"opacity\": 1, \"showlegend\": false, \"text\": [\"94896\", \"110783\"], \"x\": [194.6, 243.8], \"y\": [663.8058980771413, 822.6882381005577], \"type\": \"scatter\", \"uid\": \"4b1eecf7-6c39-45ba-8220-1c162cd7ca68\"}, {\"hoverinfo\": \"name+text\", \"legendgroup\": \"real_unfocused\", \"line\": {\"color\": \"darkseagreen\", \"width\": 1}, \"name\": \"real_unfocused\", \"opacity\": 1, \"showlegend\": false, \"text\": [\"110783\", \"116120\"], \"x\": [243.8, 303.6], \"y\": [822.6882381005577, 1019.1596444914801], \"type\": \"scatter\", \"uid\": \"e5c23244-9501-4691-b20e-597f914756b9\"}, {\"hoverinfo\": \"name+text\", \"legendgroup\": \"real_unfocused\", \"line\": {\"color\": \"darkseagreen\", \"width\": 1}, \"name\": \"real_unfocused\", \"opacity\": 1, \"showlegend\": false, \"text\": [\"37198\", \"44045\"], \"x\": [59.2064, 83.8711], \"y\": [115.0064055732984, 171.8463372779298], \"type\": \"scatter\", \"uid\": \"a70ec10c-0f31-44a0-b87d-e97c1ea1aa14\"}, {\"hoverinfo\": \"name+text\", \"legendgroup\": \"real_unfocused\", \"line\": {\"color\": \"darkseagreen\", \"width\": 1}, \"name\": \"real_unfocused\", \"opacity\": 1, \"showlegend\": false, \"text\": [\"44045\", \"75480\"], \"x\": [83.8711, 121.6], \"y\": [171.8463372779298, 258.1311722458177], \"type\": \"scatter\", \"uid\": \"9a792578-9fe3-42ca-9d28-4e29a61a97d5\"}, {\"hoverinfo\": \"name+text\", \"legendgroup\": \"real_unfocused\", \"line\": {\"color\": \"darkseagreen\", \"width\": 1}, \"name\": \"real_unfocused\", \"opacity\": 1, \"showlegend\": false, \"text\": [\"75480\", \"82723\"], \"x\": [121.6, 165.8], \"y\": [258.1311722458177, 360.3464031056922], \"type\": \"scatter\", \"uid\": \"6df5f4f2-085a-481b-9d2e-fd81a83a1e45\"}, {\"hoverinfo\": \"name+text\", \"legendgroup\": \"real_unfocused\", \"line\": {\"color\": \"darkseagreen\", \"width\": 1}, \"name\": \"real_unfocused\", \"opacity\": 1, \"showlegend\": false, \"text\": [\"21405\", \"30694\"], \"x\": [52.0145, 107.158], \"y\": [33.604869926734146, 73.82976240148159], \"type\": \"scatter\", \"uid\": \"53d5ef87-eb6d-477a-80a8-5b53ae70bd0f\"}, {\"hoverinfo\": \"name+text\", \"legendgroup\": \"real_unfocused\", \"line\": {\"color\": \"darkseagreen\", \"width\": 1}, \"name\": \"real_unfocused\", \"opacity\": 1, \"showlegend\": false, \"text\": [\"30694\", \"38058\"], \"x\": [107.158, 166.491], \"y\": [73.82976240148159, 116.91123809106979], \"type\": \"scatter\", \"uid\": \"dd93d1f9-a92a-40d0-9721-558d752722fd\"}, {\"hoverinfo\": \"name+text\", \"legendgroup\": \"real_unfocused\", \"line\": {\"color\": \"darkseagreen\", \"width\": 1}, \"name\": \"real_unfocused\", \"opacity\": 1, \"showlegend\": false, \"text\": [\"38058\", \"44664\"], \"x\": [166.491, 243.461], \"y\": [116.91123809106979, 172.77679735471895], \"type\": \"scatter\", \"uid\": \"80924aa1-23bd-4fb1-8227-5a491cad89aa\"}, {\"hoverinfo\": \"name+text\", \"legendgroup\": \"real_unfocused\", \"line\": {\"color\": \"darkseagreen\", \"width\": 1}, \"name\": \"real_unfocused\", \"opacity\": 1, \"showlegend\": false, \"text\": [\"44664\", \"76101\"], \"x\": [243.461, 360.6], \"y\": [172.77679735471895, 257.4177895939012], \"type\": \"scatter\", \"uid\": \"35265a1a-dafd-461c-b970-54145ba73de7\"}, {\"hoverinfo\": \"name+text\", \"legendgroup\": \"real_unfocused\", \"line\": {\"color\": \"darkseagreen\", \"width\": 1}, \"name\": \"real_unfocused\", \"opacity\": 1, \"showlegend\": false, \"text\": [\"76101\", \"83615\"], \"x\": [360.6, 502.8], \"y\": [257.4177895939012, 359.94553844991606], \"type\": \"scatter\", \"uid\": \"b702e1df-9719-4275-8823-344ad69f16c6\"}, {\"hoverinfo\": \"name+text\", \"legendgroup\": \"real_unfocused\", \"line\": {\"color\": \"darkseagreen\", \"width\": 1}, \"name\": \"real_unfocused\", \"opacity\": 1, \"showlegend\": false, \"text\": [\"83615\", \"90565\"], \"x\": [502.8, 698.0], \"y\": [359.94553844991606, 498.87383068175666], \"type\": \"scatter\", \"uid\": \"dcb1acd8-6787-43ad-acf8-487c0d9d9c1e\"}, {\"hoverinfo\": \"name+text\", \"legendgroup\": \"real_unfocused\", \"line\": {\"color\": \"darkseagreen\", \"width\": 1}, \"name\": \"real_unfocused\", \"opacity\": 1, \"showlegend\": false, \"text\": [\"90565\", \"96738\"], \"x\": [698.0, 928.2], \"y\": [498.87383068175666, 661.1510399333877], \"type\": \"scatter\", \"uid\": \"4cc6953e-eead-456a-95b3-9174706d877f\"}, {\"hoverinfo\": \"name+text\", \"legendgroup\": \"real\", \"line\": {\"color\": \"green\", \"width\": 1}, \"name\": \"real\", \"opacity\": 1, \"showlegend\": true, \"text\": [\"20764\", \"27487\"], \"x\": [-67.8321, -145.30700000000004], \"y\": [32.157173777557006, 72.80676931336811], \"type\": \"scatter\", \"uid\": \"2cb85c58-b55a-4241-81fd-067ad9d3fb44\"}, {\"hoverinfo\": \"name+text\", \"legendgroup\": \"real\", \"line\": {\"color\": \"green\", \"width\": 1}, \"name\": \"real\", \"opacity\": 1, \"showlegend\": false, \"text\": [\"27487\", \"34491\"], \"x\": [-145.30700000000004, -225.866], \"y\": [72.80676931336811, 115.05245255343321], \"type\": \"scatter\", \"uid\": \"e16bb9bf-2f58-4ceb-bc61-d35b21f6e2ab\"}, {\"hoverinfo\": \"name+text\", \"legendgroup\": \"real\", \"line\": {\"color\": \"green\", \"width\": 1}, \"name\": \"real\", \"opacity\": 1, \"showlegend\": false, \"text\": [\"34491\", \"40865\"], \"x\": [-225.866, -336.397], \"y\": [115.05245255343321, 173.0423765237868], \"type\": \"scatter\", \"uid\": \"b9f0571e-b0f3-4e6a-87c0-e6c09c71ec73\"}, {\"hoverinfo\": \"name+text\", \"legendgroup\": \"real\", \"line\": {\"color\": \"green\", \"width\": 1}, \"name\": \"real\", \"opacity\": 1, \"showlegend\": false, \"text\": [\"40865\", \"72549\"], \"x\": [-336.397, -499.4], \"y\": [173.0423765237868, 258.1986281140936], \"type\": \"scatter\", \"uid\": \"888bdd93-6758-4345-b012-efa3297321ec\"}, {\"hoverinfo\": \"name+text\", \"legendgroup\": \"real\", \"line\": {\"color\": \"green\", \"width\": 1}, \"name\": \"real\", \"opacity\": 1, \"showlegend\": false, \"text\": [\"72549\", \"79138\"], \"x\": [-499.4, -689.8], \"y\": [258.1986281140936, 358.26621846092326], \"type\": \"scatter\", \"uid\": \"b4e3db7f-2a28-4e15-9d81-9153ec26e093\"}, {\"hoverinfo\": \"name+text\", \"legendgroup\": \"real\", \"line\": {\"color\": \"green\", \"width\": 1}, \"name\": \"real\", \"opacity\": 1, \"showlegend\": false, \"text\": [\"79138\", \"85537\"], \"x\": [-689.8, -955.8], \"y\": [358.26621846092326, 496.7990769969284], \"type\": \"scatter\", \"uid\": \"1cdd8ae2-7253-4a95-920b-94afb620fd2d\"}, {\"hoverinfo\": \"name+text\", \"legendgroup\": \"real\", \"line\": {\"color\": \"green\", \"width\": 1}, \"name\": \"real\", \"opacity\": 1, \"showlegend\": false, \"text\": [\"20262\", \"28058\"], \"x\": [-43.7904, -94.3151], \"y\": [32.562200789221855, 71.42720770825427], \"type\": \"scatter\", \"uid\": \"35177dbc-4147-4024-9259-36a65e113688\"}, {\"hoverinfo\": \"name+text\", \"legendgroup\": \"real\", \"line\": {\"color\": \"green\", \"width\": 1}, \"name\": \"real\", \"opacity\": 1, \"showlegend\": false, \"text\": [\"28058\", \"34877\"], \"x\": [-94.3151, -151.393], \"y\": [71.42720770825427, 115.4017704365492], \"type\": \"scatter\", \"uid\": \"ae498e05-96d1-47dc-ae78-5c76f6313e95\"}, {\"hoverinfo\": \"name+text\", \"legendgroup\": \"real\", \"line\": {\"color\": \"green\", \"width\": 1}, \"name\": \"real\", \"opacity\": 1, \"showlegend\": false, \"text\": [\"34877\", \"41146\"], \"x\": [-151.393, -224.485], \"y\": [115.4017704365492, 171.697933181183], \"type\": \"scatter\", \"uid\": \"27bd66a5-751d-4943-bd9e-3ae88c1db388\"}, {\"hoverinfo\": \"name+text\", \"legendgroup\": \"real\", \"line\": {\"color\": \"green\", \"width\": 1}, \"name\": \"real\", \"opacity\": 1, \"showlegend\": false, \"text\": [\"41146\", \"73201\"], \"x\": [-224.485, -339.0], \"y\": [171.697933181183, 259.9772582081748], \"type\": \"scatter\", \"uid\": \"af0a27b1-6b9b-48d3-acc6-2584253fd830\"}, {\"hoverinfo\": \"name+text\", \"legendgroup\": \"real\", \"line\": {\"color\": \"green\", \"width\": 1}, \"name\": \"real\", \"opacity\": 1, \"showlegend\": false, \"text\": [\"73201\", \"79641\"], \"x\": [-339.0, -470.6], \"y\": [259.9772582081748, 361.27022166795035], \"type\": \"scatter\", \"uid\": \"45537027-0278-4e35-94c4-4b247775d49d\"}, {\"hoverinfo\": \"name+text\", \"legendgroup\": \"real\", \"line\": {\"color\": \"green\", \"width\": 1}, \"name\": \"real\", \"opacity\": 1, \"showlegend\": false, \"text\": [\"79641\", \"86195\"], \"x\": [-470.6, -657.6], \"y\": [361.27022166795035, 505.25758938962014], \"type\": \"scatter\", \"uid\": \"e5da4f5f-5c01-430d-b920-5c6eeb2ae2b3\"}, {\"hoverinfo\": \"name+text\", \"legendgroup\": \"real\", \"line\": {\"color\": \"green\", \"width\": 1}, \"name\": \"real\", \"opacity\": 1, \"showlegend\": false, \"text\": [\"86195\", \"91955\"], \"x\": [-657.6, -865.4], \"y\": [505.25758938962014, 665.3054220029776], \"type\": \"scatter\", \"uid\": \"7189696e-54e9-49c0-9158-6db2cb5253fc\"}, {\"hoverinfo\": \"name+text\", \"legendgroup\": \"real\", \"line\": {\"color\": \"green\", \"width\": 1}, \"name\": \"real\", \"opacity\": 1, \"showlegend\": false, \"text\": [\"91955\", \"107743\"], \"x\": [-865.4, -1067.8], \"y\": [665.3054220029776, 824.2035973873507], \"type\": \"scatter\", \"uid\": \"980b5287-3f78-4561-9214-cd40841df709\"}, {\"hoverinfo\": \"name+text\", \"legendgroup\": \"real\", \"line\": {\"color\": \"green\", \"width\": 1}, \"name\": \"real\", \"opacity\": 1, \"showlegend\": false, \"text\": [\"19698\", \"27827\"], \"x\": [-43.6337, -86.1783], \"y\": [32.02264014494901, 72.07849176870727], \"type\": \"scatter\", \"uid\": \"294138e1-e037-4d3f-a576-ae6576e3110b\"}, {\"hoverinfo\": \"name+text\", \"legendgroup\": \"real\", \"line\": {\"color\": \"green\", \"width\": 1}, \"name\": \"real\", \"opacity\": 1, \"showlegend\": false, \"text\": [\"27827\", \"35259\"], \"x\": [-86.1783, -131.795], \"y\": [72.07849176870727, 115.01274730202735], \"type\": \"scatter\", \"uid\": \"8305ca82-68f0-4659-8e2b-49925595ad62\"}, {\"hoverinfo\": \"name+text\", \"legendgroup\": \"real\", \"line\": {\"color\": \"green\", \"width\": 1}, \"name\": \"real\", \"opacity\": 1, \"showlegend\": false, \"text\": [\"35259\", \"41464\"], \"x\": [-131.795, -191.758], \"y\": [115.01274730202735, 171.40195078204334], \"type\": \"scatter\", \"uid\": \"ce7a03b1-2461-4668-a536-a200c509b43a\"}, {\"hoverinfo\": \"name+text\", \"legendgroup\": \"real\", \"line\": {\"color\": \"green\", \"width\": 1}, \"name\": \"real\", \"opacity\": 1, \"showlegend\": false, \"text\": [\"41464\", \"73085\"], \"x\": [-191.758, -283.2], \"y\": [171.40195078204334, 257.30068278183796], \"type\": \"scatter\", \"uid\": \"a7632f58-b8fb-4717-90ab-90ed6610c888\"}, {\"hoverinfo\": \"name+text\", \"legendgroup\": \"real\", \"line\": {\"color\": \"green\", \"width\": 1}, \"name\": \"real\", \"opacity\": 1, \"showlegend\": false, \"text\": [\"73085\", \"79880\"], \"x\": [-283.2, -398.2], \"y\": [257.30068278183796, 365.71411330334246], \"type\": \"scatter\", \"uid\": \"22d7223e-8713-43e9-a4c7-af05183e2bb2\"}, {\"hoverinfo\": \"name+text\", \"legendgroup\": \"real\", \"line\": {\"color\": \"green\", \"width\": 1}, \"name\": \"real\", \"opacity\": 1, \"showlegend\": false, \"text\": [\"79880\", \"86402\"], \"x\": [-398.2, -538.4], \"y\": [365.71411330334246, 497.4495544242049], \"type\": \"scatter\", \"uid\": \"216c51ea-da5b-40be-a509-b9fa482e6638\"}, {\"hoverinfo\": \"name+text\", \"legendgroup\": \"real\", \"line\": {\"color\": \"green\", \"width\": 1}, \"name\": \"real\", \"opacity\": 1, \"showlegend\": false, \"text\": [\"86402\", \"92130\"], \"x\": [-538.4, -707.2], \"y\": [497.4495544242049, 656.5191725472228], \"type\": \"scatter\", \"uid\": \"be4f1431-5597-41ff-bbf1-136d2b17b3f1\"}, {\"hoverinfo\": \"name+text\", \"legendgroup\": \"real\", \"line\": {\"color\": \"green\", \"width\": 1}, \"name\": \"real\", \"opacity\": 1, \"showlegend\": false, \"text\": [\"92130\", \"107883\"], \"x\": [-707.2, -878.4], \"y\": [656.5191725472228, 819.5081131930848], \"type\": \"scatter\", \"uid\": \"7e6ad41d-639a-492a-ab3c-e1f47c2a025e\"}, {\"hoverinfo\": \"name+text\", \"legendgroup\": \"real\", \"line\": {\"color\": \"green\", \"width\": 1}, \"name\": \"real\", \"opacity\": 1, \"showlegend\": false, \"text\": [\"21265\", \"29504\"], \"x\": [-24.6702, -46.6699], \"y\": [32.23509056485029, 71.61236113102264], \"type\": \"scatter\", \"uid\": \"e9709e81-6f2a-422b-a8a4-974370d68e67\"}, {\"hoverinfo\": \"name+text\", \"legendgroup\": \"real\", \"line\": {\"color\": \"green\", \"width\": 1}, \"name\": \"real\", \"opacity\": 1, \"showlegend\": false, \"text\": [\"29504\", \"42350\"], \"x\": [-46.6699, -102.632], \"y\": [71.61236113102264, 172.0437815826251], \"type\": \"scatter\", \"uid\": \"e1fbde07-a835-48f3-9cf9-467f211f84d1\"}, {\"hoverinfo\": \"name+text\", \"legendgroup\": \"real\", \"line\": {\"color\": \"green\", \"width\": 1}, \"name\": \"real\", \"opacity\": 1, \"showlegend\": false, \"text\": [\"42350\", \"73830\"], \"x\": [-102.632, -152.6], \"y\": [172.0437815826251, 261.85823478523645], \"type\": \"scatter\", \"uid\": \"e2ce5ef2-8948-43f7-b036-76802bcc6ec0\"}, {\"hoverinfo\": \"name+text\", \"legendgroup\": \"real\", \"line\": {\"color\": \"green\", \"width\": 1}, \"name\": \"real\", \"opacity\": 1, \"showlegend\": false, \"text\": [\"73830\", \"80933\"], \"x\": [-152.6, -209.6], \"y\": [261.85823478523645, 363.8873098444215], \"type\": \"scatter\", \"uid\": \"b786f711-9d9f-47df-8f9d-f40714351f04\"}, {\"hoverinfo\": \"name+text\", \"legendgroup\": \"real\", \"line\": {\"color\": \"green\", \"width\": 1}, \"name\": \"real\", \"opacity\": 1, \"showlegend\": false, \"text\": [\"80933\", \"87292\"], \"x\": [-209.6, -285.6], \"y\": [363.8873098444215, 500.04019567330784], \"type\": \"scatter\", \"uid\": \"11372b68-f0c3-4219-931a-d52845314a79\"}, {\"hoverinfo\": \"name+text\", \"legendgroup\": \"real\", \"line\": {\"color\": \"green\", \"width\": 1}, \"name\": \"real\", \"opacity\": 1, \"showlegend\": false, \"text\": [\"87292\", \"93165\"], \"x\": [-285.6, -375.4], \"y\": [500.04019567330784, 660.5030028046807], \"type\": \"scatter\", \"uid\": \"4d10c3b1-dcbf-401b-bc83-de3736f523ce\"}, {\"hoverinfo\": \"name+text\", \"legendgroup\": \"real\", \"line\": {\"color\": \"green\", \"width\": 1}, \"name\": \"real\", \"opacity\": 1, \"showlegend\": false, \"text\": [\"93165\", \"109022\"], \"x\": [-375.4, -466.4], \"y\": [660.5030028046807, 822.2639974959379], \"type\": \"scatter\", \"uid\": \"86dc2aa5-4678-47a9-b06a-7625ee7a56b7\"}, {\"hoverinfo\": \"name+text\", \"legendgroup\": \"real\", \"line\": {\"color\": \"green\", \"width\": 1}, \"name\": \"real\", \"opacity\": 1, \"showlegend\": false, \"text\": [\"109022\", \"114036\"], \"x\": [-466.4, -580.2], \"y\": [822.2639974959379, 1022.6908959079474], \"type\": \"scatter\", \"uid\": \"548980f9-766c-41e1-915d-0c7e9bedb78d\"}, {\"hoverinfo\": \"name+text\", \"legendgroup\": \"real\", \"line\": {\"color\": \"green\", \"width\": 1}, \"name\": \"real\", \"opacity\": 1, \"showlegend\": false, \"text\": [\"23536\", \"31418\"], \"x\": [41.7502, 99.58], \"y\": [32.49714414606305, 72.54064560265508], \"type\": \"scatter\", \"uid\": \"4c149600-75e9-47a9-8844-2d7583655b38\"}, {\"hoverinfo\": \"name+text\", \"legendgroup\": \"real\", \"line\": {\"color\": \"green\", \"width\": 1}, \"name\": \"real\", \"opacity\": 1, \"showlegend\": false, \"text\": [\"31418\", \"38524\"], \"x\": [99.58, 162.741], \"y\": [72.54064560265508, 116.24458425703108], \"type\": \"scatter\", \"uid\": \"420b0942-856c-43f7-a082-550be061445c\"}, {\"hoverinfo\": \"name+text\", \"legendgroup\": \"real\", \"line\": {\"color\": \"green\", \"width\": 1}, \"name\": \"real\", \"opacity\": 1, \"showlegend\": false, \"text\": [\"38524\", \"45067\"], \"x\": [162.741, 243.228], \"y\": [116.24458425703108, 171.77085511020198], \"type\": \"scatter\", \"uid\": \"d1a7eb6b-126e-44d2-b224-71dca43b4f1f\"}, {\"hoverinfo\": \"name+text\", \"legendgroup\": \"real\", \"line\": {\"color\": \"green\", \"width\": 1}, \"name\": \"real\", \"opacity\": 1, \"showlegend\": false, \"text\": [\"45067\", \"76902\"], \"x\": [243.228, 375.4], \"y\": [171.77085511020198, 262.9168818890107], \"type\": \"scatter\", \"uid\": \"a0b9902c-118a-4970-89a3-631877ce1d58\"}, {\"hoverinfo\": \"name+text\", \"legendgroup\": \"real\", \"line\": {\"color\": \"green\", \"width\": 1}, \"name\": \"real\", \"opacity\": 1, \"showlegend\": false, \"text\": [\"76902\", \"83944\"], \"x\": [375.4, 515.6], \"y\": [262.9168818890107, 359.1660073517537], \"type\": \"scatter\", \"uid\": \"654d8813-feed-451a-a9f1-b93d6207efa9\"}, {\"hoverinfo\": \"name+text\", \"legendgroup\": \"real\", \"line\": {\"color\": \"green\", \"width\": 1}, \"name\": \"real\", \"opacity\": 1, \"showlegend\": false, \"text\": [\"83944\", \"90803\"], \"x\": [515.6, 722.2], \"y\": [359.1660073517537, 501.1282595952857], \"type\": \"scatter\", \"uid\": \"30fed075-82e3-4a11-8e9e-16666eb9ba4f\"}, {\"hoverinfo\": \"name+text\", \"legendgroup\": \"real\", \"line\": {\"color\": \"green\", \"width\": 1}, \"name\": \"real\", \"opacity\": 1, \"showlegend\": false, \"text\": [\"90803\", \"96934\"], \"x\": [722.2, 956.0], \"y\": [501.1282595952857, 660.1841830580312], \"type\": \"scatter\", \"uid\": \"0500053b-1bd1-4000-9a65-413d11a16758\"}], {\"height\": 800, \"hovermode\": \"closest\", \"showlegend\": true, \"updatemenus\": [{\"buttons\": [{\"args\": [\"shapes\", []], \"label\": \"hide layers\", \"method\": \"relayout\"}, {\"args\": [\"shapes\", [{\"type\": \"line\", \"x0\": -455, \"x1\": 455, \"y0\": 32, \"y1\": 32, \"opacity\": 0.5, \"layer\": \"below\", \"line\": {\"color\": \"#ccc\"}}, {\"type\": \"line\", \"x0\": -455, \"x1\": 455, \"y0\": 72, \"y1\": 72, \"opacity\": 0.5, \"layer\": \"below\", \"line\": {\"color\": \"#ccc\"}}, {\"type\": \"line\", \"x0\": -455, \"x1\": 455, \"y0\": 116, \"y1\": 116, \"opacity\": 0.5, \"layer\": \"below\", \"line\": {\"color\": \"#ccc\"}}, {\"type\": \"line\", \"x0\": -455, \"x1\": 455, \"y0\": 172, \"y1\": 172, \"opacity\": 0.5, \"layer\": \"below\", \"line\": {\"color\": \"#ccc\"}}, {\"type\": \"line\", \"x0\": -1030, \"x1\": 1030, \"y0\": 260, \"y1\": 260, \"opacity\": 0.5, \"layer\": \"below\", \"line\": {\"color\": \"#cccc8d\"}}, {\"type\": \"line\", \"x0\": -1030, \"x1\": 1030, \"y0\": 360, \"y1\": 360, \"opacity\": 0.5, \"layer\": \"below\", \"line\": {\"color\": \"#cccc8d\"}}, {\"type\": \"line\", \"x0\": -1030, \"x1\": 1030, \"y0\": 500, \"y1\": 500, \"opacity\": 0.5, \"layer\": \"below\", \"line\": {\"color\": \"#cccc8d\"}}, {\"type\": \"line\", \"x0\": -1030, \"x1\": 1030, \"y0\": 660, \"y1\": 660, \"opacity\": 0.5, \"layer\": \"below\", \"line\": {\"color\": \"#cccc8d\"}}, {\"type\": \"line\", \"x0\": -1030, \"x1\": 1030, \"y0\": 820, \"y1\": 820, \"opacity\": 0.5, \"layer\": \"below\", \"line\": {\"color\": \"#ccc\"}}, {\"type\": \"line\", \"x0\": -1030, \"x1\": 1030, \"y0\": 1020, \"y1\": 1020, \"opacity\": 0.5, \"layer\": \"below\", \"line\": {\"color\": \"#ccc\"}}]], \"label\": \"show layers\", \"method\": \"relayout\"}], \"direction\": \"left\", \"pad\": {\"l\": 0.1}, \"type\": \"buttons\", \"xanchor\": \"left\", \"y\": 1.1, \"yanchor\": \"top\"}, {\"buttons\": [{\"args\": [{\"mode\": \"markers+lines\"}], \"label\": \"hits+tracks\", \"method\": \"update\"}, {\"args\": [{\"mode\": \"markers\"}], \"label\": \"hits only\", \"method\": \"update\"}], \"direction\": \"left\", \"pad\": {\"l\": 200}, \"type\": \"buttons\", \"xanchor\": \"left\", \"y\": 1.1, \"yanchor\": \"top\"}, {\"buttons\": [{\"args\": [\"yaxis.scaleanchor\", null], \"label\": \"free\", \"method\": \"relayout\"}, {\"args\": [\"yaxis.scaleanchor\", \"x\"], \"label\": \"fixed\", \"method\": \"relayout\"}], \"direction\": \"left\", \"pad\": {\"l\": 380}, \"type\": \"buttons\", \"xanchor\": \"left\", \"y\": 1.1, \"yanchor\": \"top\"}], \"width\": 800, \"xaxis\": {\"title\": \"z\"}, \"yaxis\": {\"title\": \"r\"}}, {\"showLink\": true, \"linkText\": \"Export to plot.ly\", \"plotlyServerURL\": \"https://plot.ly\"})});</script>"
      ],
      "text/vnd.plotly.v1+html": [
       "<div id=\"548b6263-33d7-49f2-9863-5cb667027a72\" style=\"height: 800px; width: 800px;\" class=\"plotly-graph-div\"></div><script type=\"text/javascript\">require([\"plotly\"], function(Plotly) { window.PLOTLYENV=window.PLOTLYENV || {};window.PLOTLYENV.BASE_URL=\"https://plot.ly\";Plotly.newPlot(\"548b6263-33d7-49f2-9863-5cb667027a72\", [{\"hoverinfo\": \"name+text\", \"legendgroup\": \"fake\", \"line\": {\"color\": \"red\", \"width\": 1}, \"name\": \"fake\", \"opacity\": 1, \"showlegend\": true, \"text\": [\"23050\", \"37198\"], \"x\": [23.0524, 59.2064], \"y\": [32.02056999141177, 115.0064055732984], \"type\": \"scatter\", \"uid\": \"d99d227a-10c7-4470-976b-b1c8fc00fee5\"}, {\"hoverinfo\": \"name+text\", \"legendgroup\": \"real_unfocused\", \"line\": {\"color\": \"darkseagreen\", \"width\": 1}, \"name\": \"real_unfocused\", \"opacity\": 1, \"showlegend\": true, \"text\": [\"18246\", \"27129\"], \"x\": [-70.5503, -161.067], \"y\": [31.546282598905375, 72.95614848420934], \"type\": \"scatter\", \"uid\": \"629616be-aa60-4689-92d7-53e3e6bbb550\"}, {\"hoverinfo\": \"name+text\", \"legendgroup\": \"real_unfocused\", \"line\": {\"color\": \"darkseagreen\", \"width\": 1}, \"name\": \"real_unfocused\", \"opacity\": 1, \"showlegend\": false, \"text\": [\"27129\", \"34226\"], \"x\": [-161.067, -252.93400000000003], \"y\": [72.95614848420934, 115.02006064165504], \"type\": \"scatter\", \"uid\": \"44280b7f-3823-45eb-b440-78942a800e62\"}, {\"hoverinfo\": \"name+text\", \"legendgroup\": \"real_unfocused\", \"line\": {\"color\": \"darkseagreen\", \"width\": 1}, \"name\": \"real_unfocused\", \"opacity\": 1, \"showlegend\": false, \"text\": [\"34226\", \"40268\"], \"x\": [-252.93400000000003, -376.026], \"y\": [115.02006064165504, 171.35896601578804], \"type\": \"scatter\", \"uid\": \"6dc92338-e623-433b-a159-512e53c313fa\"}, {\"hoverinfo\": \"name+text\", \"legendgroup\": \"real_unfocused\", \"line\": {\"color\": \"darkseagreen\", \"width\": 1}, \"name\": \"real_unfocused\", \"opacity\": 1, \"showlegend\": false, \"text\": [\"40268\", \"72036\"], \"x\": [-376.026, -576.2], \"y\": [171.35896601578804, 263.0385854831949], \"type\": \"scatter\", \"uid\": \"85c53cf4-5932-40f6-b757-32ed313d3b88\"}, {\"hoverinfo\": \"name+text\", \"legendgroup\": \"real_unfocused\", \"line\": {\"color\": \"darkseagreen\", \"width\": 1}, \"name\": \"real_unfocused\", \"opacity\": 1, \"showlegend\": false, \"text\": [\"72036\", \"78762\"], \"x\": [-576.2, -790.6], \"y\": [263.0385854831949, 360.6255076058819], \"type\": \"scatter\", \"uid\": \"2b34bf37-1607-4744-9d73-2b91ef7bcd00\"}, {\"hoverinfo\": \"name+text\", \"legendgroup\": \"real_unfocused\", \"line\": {\"color\": \"darkseagreen\", \"width\": 1}, \"name\": \"real_unfocused\", \"opacity\": 1, \"showlegend\": false, \"text\": [\"75184\", \"82090\"], \"x\": [77.2, 104.8], \"y\": [262.1663236351383, 359.2111247589779], \"type\": \"scatter\", \"uid\": \"810c1e76-8761-4c2c-96ae-103aba09dfed\"}, {\"hoverinfo\": \"name+text\", \"legendgroup\": \"real_unfocused\", \"line\": {\"color\": \"darkseagreen\", \"width\": 1}, \"name\": \"real_unfocused\", \"opacity\": 1, \"showlegend\": false, \"text\": [\"82090\", \"88632\"], \"x\": [104.8, 145.6], \"y\": [359.2111247589779, 497.29964951401286], \"type\": \"scatter\", \"uid\": \"ff38a55f-ca99-4cc0-ac1e-2e8ed2a99557\"}, {\"hoverinfo\": \"name+text\", \"legendgroup\": \"real_unfocused\", \"line\": {\"color\": \"darkseagreen\", \"width\": 1}, \"name\": \"real_unfocused\", \"opacity\": 1, \"showlegend\": false, \"text\": [\"88632\", \"94896\"], \"x\": [145.6, 194.6], \"y\": [497.29964951401286, 663.8058980771413], \"type\": \"scatter\", \"uid\": \"66237437-6590-410c-8cb3-66b47dc550c0\"}, {\"hoverinfo\": \"name+text\", \"legendgroup\": \"real_unfocused\", \"line\": {\"color\": \"darkseagreen\", \"width\": 1}, \"name\": \"real_unfocused\", \"opacity\": 1, \"showlegend\": false, \"text\": [\"94896\", \"110783\"], \"x\": [194.6, 243.8], \"y\": [663.8058980771413, 822.6882381005577], \"type\": \"scatter\", \"uid\": \"4b1eecf7-6c39-45ba-8220-1c162cd7ca68\"}, {\"hoverinfo\": \"name+text\", \"legendgroup\": \"real_unfocused\", \"line\": {\"color\": \"darkseagreen\", \"width\": 1}, \"name\": \"real_unfocused\", \"opacity\": 1, \"showlegend\": false, \"text\": [\"110783\", \"116120\"], \"x\": [243.8, 303.6], \"y\": [822.6882381005577, 1019.1596444914801], \"type\": \"scatter\", \"uid\": \"e5c23244-9501-4691-b20e-597f914756b9\"}, {\"hoverinfo\": \"name+text\", \"legendgroup\": \"real_unfocused\", \"line\": {\"color\": \"darkseagreen\", \"width\": 1}, \"name\": \"real_unfocused\", \"opacity\": 1, \"showlegend\": false, \"text\": [\"37198\", \"44045\"], \"x\": [59.2064, 83.8711], \"y\": [115.0064055732984, 171.8463372779298], \"type\": \"scatter\", \"uid\": \"a70ec10c-0f31-44a0-b87d-e97c1ea1aa14\"}, {\"hoverinfo\": \"name+text\", \"legendgroup\": \"real_unfocused\", \"line\": {\"color\": \"darkseagreen\", \"width\": 1}, \"name\": \"real_unfocused\", \"opacity\": 1, \"showlegend\": false, \"text\": [\"44045\", \"75480\"], \"x\": [83.8711, 121.6], \"y\": [171.8463372779298, 258.1311722458177], \"type\": \"scatter\", \"uid\": \"9a792578-9fe3-42ca-9d28-4e29a61a97d5\"}, {\"hoverinfo\": \"name+text\", \"legendgroup\": \"real_unfocused\", \"line\": {\"color\": \"darkseagreen\", \"width\": 1}, \"name\": \"real_unfocused\", \"opacity\": 1, \"showlegend\": false, \"text\": [\"75480\", \"82723\"], \"x\": [121.6, 165.8], \"y\": [258.1311722458177, 360.3464031056922], \"type\": \"scatter\", \"uid\": \"6df5f4f2-085a-481b-9d2e-fd81a83a1e45\"}, {\"hoverinfo\": \"name+text\", \"legendgroup\": \"real_unfocused\", \"line\": {\"color\": \"darkseagreen\", \"width\": 1}, \"name\": \"real_unfocused\", \"opacity\": 1, \"showlegend\": false, \"text\": [\"21405\", \"30694\"], \"x\": [52.0145, 107.158], \"y\": [33.604869926734146, 73.82976240148159], \"type\": \"scatter\", \"uid\": \"53d5ef87-eb6d-477a-80a8-5b53ae70bd0f\"}, {\"hoverinfo\": \"name+text\", \"legendgroup\": \"real_unfocused\", \"line\": {\"color\": \"darkseagreen\", \"width\": 1}, \"name\": \"real_unfocused\", \"opacity\": 1, \"showlegend\": false, \"text\": [\"30694\", \"38058\"], \"x\": [107.158, 166.491], \"y\": [73.82976240148159, 116.91123809106979], \"type\": \"scatter\", \"uid\": \"dd93d1f9-a92a-40d0-9721-558d752722fd\"}, {\"hoverinfo\": \"name+text\", \"legendgroup\": \"real_unfocused\", \"line\": {\"color\": \"darkseagreen\", \"width\": 1}, \"name\": \"real_unfocused\", \"opacity\": 1, \"showlegend\": false, \"text\": [\"38058\", \"44664\"], \"x\": [166.491, 243.461], \"y\": [116.91123809106979, 172.77679735471895], \"type\": \"scatter\", \"uid\": \"80924aa1-23bd-4fb1-8227-5a491cad89aa\"}, {\"hoverinfo\": \"name+text\", \"legendgroup\": \"real_unfocused\", \"line\": {\"color\": \"darkseagreen\", \"width\": 1}, \"name\": \"real_unfocused\", \"opacity\": 1, \"showlegend\": false, \"text\": [\"44664\", \"76101\"], \"x\": [243.461, 360.6], \"y\": [172.77679735471895, 257.4177895939012], \"type\": \"scatter\", \"uid\": \"35265a1a-dafd-461c-b970-54145ba73de7\"}, {\"hoverinfo\": \"name+text\", \"legendgroup\": \"real_unfocused\", \"line\": {\"color\": \"darkseagreen\", \"width\": 1}, \"name\": \"real_unfocused\", \"opacity\": 1, \"showlegend\": false, \"text\": [\"76101\", \"83615\"], \"x\": [360.6, 502.8], \"y\": [257.4177895939012, 359.94553844991606], \"type\": \"scatter\", \"uid\": \"b702e1df-9719-4275-8823-344ad69f16c6\"}, {\"hoverinfo\": \"name+text\", \"legendgroup\": \"real_unfocused\", \"line\": {\"color\": \"darkseagreen\", \"width\": 1}, \"name\": \"real_unfocused\", \"opacity\": 1, \"showlegend\": false, \"text\": [\"83615\", \"90565\"], \"x\": [502.8, 698.0], \"y\": [359.94553844991606, 498.87383068175666], \"type\": \"scatter\", \"uid\": \"dcb1acd8-6787-43ad-acf8-487c0d9d9c1e\"}, {\"hoverinfo\": \"name+text\", \"legendgroup\": \"real_unfocused\", \"line\": {\"color\": \"darkseagreen\", \"width\": 1}, \"name\": \"real_unfocused\", \"opacity\": 1, \"showlegend\": false, \"text\": [\"90565\", \"96738\"], \"x\": [698.0, 928.2], \"y\": [498.87383068175666, 661.1510399333877], \"type\": \"scatter\", \"uid\": \"4cc6953e-eead-456a-95b3-9174706d877f\"}, {\"hoverinfo\": \"name+text\", \"legendgroup\": \"real\", \"line\": {\"color\": \"green\", \"width\": 1}, \"name\": \"real\", \"opacity\": 1, \"showlegend\": true, \"text\": [\"20764\", \"27487\"], \"x\": [-67.8321, -145.30700000000004], \"y\": [32.157173777557006, 72.80676931336811], \"type\": \"scatter\", \"uid\": \"2cb85c58-b55a-4241-81fd-067ad9d3fb44\"}, {\"hoverinfo\": \"name+text\", \"legendgroup\": \"real\", \"line\": {\"color\": \"green\", \"width\": 1}, \"name\": \"real\", \"opacity\": 1, \"showlegend\": false, \"text\": [\"27487\", \"34491\"], \"x\": [-145.30700000000004, -225.866], \"y\": [72.80676931336811, 115.05245255343321], \"type\": \"scatter\", \"uid\": \"e16bb9bf-2f58-4ceb-bc61-d35b21f6e2ab\"}, {\"hoverinfo\": \"name+text\", \"legendgroup\": \"real\", \"line\": {\"color\": \"green\", \"width\": 1}, \"name\": \"real\", \"opacity\": 1, \"showlegend\": false, \"text\": [\"34491\", \"40865\"], \"x\": [-225.866, -336.397], \"y\": [115.05245255343321, 173.0423765237868], \"type\": \"scatter\", \"uid\": \"b9f0571e-b0f3-4e6a-87c0-e6c09c71ec73\"}, {\"hoverinfo\": \"name+text\", \"legendgroup\": \"real\", \"line\": {\"color\": \"green\", \"width\": 1}, \"name\": \"real\", \"opacity\": 1, \"showlegend\": false, \"text\": [\"40865\", \"72549\"], \"x\": [-336.397, -499.4], \"y\": [173.0423765237868, 258.1986281140936], \"type\": \"scatter\", \"uid\": \"888bdd93-6758-4345-b012-efa3297321ec\"}, {\"hoverinfo\": \"name+text\", \"legendgroup\": \"real\", \"line\": {\"color\": \"green\", \"width\": 1}, \"name\": \"real\", \"opacity\": 1, \"showlegend\": false, \"text\": [\"72549\", \"79138\"], \"x\": [-499.4, -689.8], \"y\": [258.1986281140936, 358.26621846092326], \"type\": \"scatter\", \"uid\": \"b4e3db7f-2a28-4e15-9d81-9153ec26e093\"}, {\"hoverinfo\": \"name+text\", \"legendgroup\": \"real\", \"line\": {\"color\": \"green\", \"width\": 1}, \"name\": \"real\", \"opacity\": 1, \"showlegend\": false, \"text\": [\"79138\", \"85537\"], \"x\": [-689.8, -955.8], \"y\": [358.26621846092326, 496.7990769969284], \"type\": \"scatter\", \"uid\": \"1cdd8ae2-7253-4a95-920b-94afb620fd2d\"}, {\"hoverinfo\": \"name+text\", \"legendgroup\": \"real\", \"line\": {\"color\": \"green\", \"width\": 1}, \"name\": \"real\", \"opacity\": 1, \"showlegend\": false, \"text\": [\"20262\", \"28058\"], \"x\": [-43.7904, -94.3151], \"y\": [32.562200789221855, 71.42720770825427], \"type\": \"scatter\", \"uid\": \"35177dbc-4147-4024-9259-36a65e113688\"}, {\"hoverinfo\": \"name+text\", \"legendgroup\": \"real\", \"line\": {\"color\": \"green\", \"width\": 1}, \"name\": \"real\", \"opacity\": 1, \"showlegend\": false, \"text\": [\"28058\", \"34877\"], \"x\": [-94.3151, -151.393], \"y\": [71.42720770825427, 115.4017704365492], \"type\": \"scatter\", \"uid\": \"ae498e05-96d1-47dc-ae78-5c76f6313e95\"}, {\"hoverinfo\": \"name+text\", \"legendgroup\": \"real\", \"line\": {\"color\": \"green\", \"width\": 1}, \"name\": \"real\", \"opacity\": 1, \"showlegend\": false, \"text\": [\"34877\", \"41146\"], \"x\": [-151.393, -224.485], \"y\": [115.4017704365492, 171.697933181183], \"type\": \"scatter\", \"uid\": \"27bd66a5-751d-4943-bd9e-3ae88c1db388\"}, {\"hoverinfo\": \"name+text\", \"legendgroup\": \"real\", \"line\": {\"color\": \"green\", \"width\": 1}, \"name\": \"real\", \"opacity\": 1, \"showlegend\": false, \"text\": [\"41146\", \"73201\"], \"x\": [-224.485, -339.0], \"y\": [171.697933181183, 259.9772582081748], \"type\": \"scatter\", \"uid\": \"af0a27b1-6b9b-48d3-acc6-2584253fd830\"}, {\"hoverinfo\": \"name+text\", \"legendgroup\": \"real\", \"line\": {\"color\": \"green\", \"width\": 1}, \"name\": \"real\", \"opacity\": 1, \"showlegend\": false, \"text\": [\"73201\", \"79641\"], \"x\": [-339.0, -470.6], \"y\": [259.9772582081748, 361.27022166795035], \"type\": \"scatter\", \"uid\": \"45537027-0278-4e35-94c4-4b247775d49d\"}, {\"hoverinfo\": \"name+text\", \"legendgroup\": \"real\", \"line\": {\"color\": \"green\", \"width\": 1}, \"name\": \"real\", \"opacity\": 1, \"showlegend\": false, \"text\": [\"79641\", \"86195\"], \"x\": [-470.6, -657.6], \"y\": [361.27022166795035, 505.25758938962014], \"type\": \"scatter\", \"uid\": \"e5da4f5f-5c01-430d-b920-5c6eeb2ae2b3\"}, {\"hoverinfo\": \"name+text\", \"legendgroup\": \"real\", \"line\": {\"color\": \"green\", \"width\": 1}, \"name\": \"real\", \"opacity\": 1, \"showlegend\": false, \"text\": [\"86195\", \"91955\"], \"x\": [-657.6, -865.4], \"y\": [505.25758938962014, 665.3054220029776], \"type\": \"scatter\", \"uid\": \"7189696e-54e9-49c0-9158-6db2cb5253fc\"}, {\"hoverinfo\": \"name+text\", \"legendgroup\": \"real\", \"line\": {\"color\": \"green\", \"width\": 1}, \"name\": \"real\", \"opacity\": 1, \"showlegend\": false, \"text\": [\"91955\", \"107743\"], \"x\": [-865.4, -1067.8], \"y\": [665.3054220029776, 824.2035973873507], \"type\": \"scatter\", \"uid\": \"980b5287-3f78-4561-9214-cd40841df709\"}, {\"hoverinfo\": \"name+text\", \"legendgroup\": \"real\", \"line\": {\"color\": \"green\", \"width\": 1}, \"name\": \"real\", \"opacity\": 1, \"showlegend\": false, \"text\": [\"19698\", \"27827\"], \"x\": [-43.6337, -86.1783], \"y\": [32.02264014494901, 72.07849176870727], \"type\": \"scatter\", \"uid\": \"294138e1-e037-4d3f-a576-ae6576e3110b\"}, {\"hoverinfo\": \"name+text\", \"legendgroup\": \"real\", \"line\": {\"color\": \"green\", \"width\": 1}, \"name\": \"real\", \"opacity\": 1, \"showlegend\": false, \"text\": [\"27827\", \"35259\"], \"x\": [-86.1783, -131.795], \"y\": [72.07849176870727, 115.01274730202735], \"type\": \"scatter\", \"uid\": \"8305ca82-68f0-4659-8e2b-49925595ad62\"}, {\"hoverinfo\": \"name+text\", \"legendgroup\": \"real\", \"line\": {\"color\": \"green\", \"width\": 1}, \"name\": \"real\", \"opacity\": 1, \"showlegend\": false, \"text\": [\"35259\", \"41464\"], \"x\": [-131.795, -191.758], \"y\": [115.01274730202735, 171.40195078204334], \"type\": \"scatter\", \"uid\": \"ce7a03b1-2461-4668-a536-a200c509b43a\"}, {\"hoverinfo\": \"name+text\", \"legendgroup\": \"real\", \"line\": {\"color\": \"green\", \"width\": 1}, \"name\": \"real\", \"opacity\": 1, \"showlegend\": false, \"text\": [\"41464\", \"73085\"], \"x\": [-191.758, -283.2], \"y\": [171.40195078204334, 257.30068278183796], \"type\": \"scatter\", \"uid\": \"a7632f58-b8fb-4717-90ab-90ed6610c888\"}, {\"hoverinfo\": \"name+text\", \"legendgroup\": \"real\", \"line\": {\"color\": \"green\", \"width\": 1}, \"name\": \"real\", \"opacity\": 1, \"showlegend\": false, \"text\": [\"73085\", \"79880\"], \"x\": [-283.2, -398.2], \"y\": [257.30068278183796, 365.71411330334246], \"type\": \"scatter\", \"uid\": \"22d7223e-8713-43e9-a4c7-af05183e2bb2\"}, {\"hoverinfo\": \"name+text\", \"legendgroup\": \"real\", \"line\": {\"color\": \"green\", \"width\": 1}, \"name\": \"real\", \"opacity\": 1, \"showlegend\": false, \"text\": [\"79880\", \"86402\"], \"x\": [-398.2, -538.4], \"y\": [365.71411330334246, 497.4495544242049], \"type\": \"scatter\", \"uid\": \"216c51ea-da5b-40be-a509-b9fa482e6638\"}, {\"hoverinfo\": \"name+text\", \"legendgroup\": \"real\", \"line\": {\"color\": \"green\", \"width\": 1}, \"name\": \"real\", \"opacity\": 1, \"showlegend\": false, \"text\": [\"86402\", \"92130\"], \"x\": [-538.4, -707.2], \"y\": [497.4495544242049, 656.5191725472228], \"type\": \"scatter\", \"uid\": \"be4f1431-5597-41ff-bbf1-136d2b17b3f1\"}, {\"hoverinfo\": \"name+text\", \"legendgroup\": \"real\", \"line\": {\"color\": \"green\", \"width\": 1}, \"name\": \"real\", \"opacity\": 1, \"showlegend\": false, \"text\": [\"92130\", \"107883\"], \"x\": [-707.2, -878.4], \"y\": [656.5191725472228, 819.5081131930848], \"type\": \"scatter\", \"uid\": \"7e6ad41d-639a-492a-ab3c-e1f47c2a025e\"}, {\"hoverinfo\": \"name+text\", \"legendgroup\": \"real\", \"line\": {\"color\": \"green\", \"width\": 1}, \"name\": \"real\", \"opacity\": 1, \"showlegend\": false, \"text\": [\"21265\", \"29504\"], \"x\": [-24.6702, -46.6699], \"y\": [32.23509056485029, 71.61236113102264], \"type\": \"scatter\", \"uid\": \"e9709e81-6f2a-422b-a8a4-974370d68e67\"}, {\"hoverinfo\": \"name+text\", \"legendgroup\": \"real\", \"line\": {\"color\": \"green\", \"width\": 1}, \"name\": \"real\", \"opacity\": 1, \"showlegend\": false, \"text\": [\"29504\", \"42350\"], \"x\": [-46.6699, -102.632], \"y\": [71.61236113102264, 172.0437815826251], \"type\": \"scatter\", \"uid\": \"e1fbde07-a835-48f3-9cf9-467f211f84d1\"}, {\"hoverinfo\": \"name+text\", \"legendgroup\": \"real\", \"line\": {\"color\": \"green\", \"width\": 1}, \"name\": \"real\", \"opacity\": 1, \"showlegend\": false, \"text\": [\"42350\", \"73830\"], \"x\": [-102.632, -152.6], \"y\": [172.0437815826251, 261.85823478523645], \"type\": \"scatter\", \"uid\": \"e2ce5ef2-8948-43f7-b036-76802bcc6ec0\"}, {\"hoverinfo\": \"name+text\", \"legendgroup\": \"real\", \"line\": {\"color\": \"green\", \"width\": 1}, \"name\": \"real\", \"opacity\": 1, \"showlegend\": false, \"text\": [\"73830\", \"80933\"], \"x\": [-152.6, -209.6], \"y\": [261.85823478523645, 363.8873098444215], \"type\": \"scatter\", \"uid\": \"b786f711-9d9f-47df-8f9d-f40714351f04\"}, {\"hoverinfo\": \"name+text\", \"legendgroup\": \"real\", \"line\": {\"color\": \"green\", \"width\": 1}, \"name\": \"real\", \"opacity\": 1, \"showlegend\": false, \"text\": [\"80933\", \"87292\"], \"x\": [-209.6, -285.6], \"y\": [363.8873098444215, 500.04019567330784], \"type\": \"scatter\", \"uid\": \"11372b68-f0c3-4219-931a-d52845314a79\"}, {\"hoverinfo\": \"name+text\", \"legendgroup\": \"real\", \"line\": {\"color\": \"green\", \"width\": 1}, \"name\": \"real\", \"opacity\": 1, \"showlegend\": false, \"text\": [\"87292\", \"93165\"], \"x\": [-285.6, -375.4], \"y\": [500.04019567330784, 660.5030028046807], \"type\": \"scatter\", \"uid\": \"4d10c3b1-dcbf-401b-bc83-de3736f523ce\"}, {\"hoverinfo\": \"name+text\", \"legendgroup\": \"real\", \"line\": {\"color\": \"green\", \"width\": 1}, \"name\": \"real\", \"opacity\": 1, \"showlegend\": false, \"text\": [\"93165\", \"109022\"], \"x\": [-375.4, -466.4], \"y\": [660.5030028046807, 822.2639974959379], \"type\": \"scatter\", \"uid\": \"86dc2aa5-4678-47a9-b06a-7625ee7a56b7\"}, {\"hoverinfo\": \"name+text\", \"legendgroup\": \"real\", \"line\": {\"color\": \"green\", \"width\": 1}, \"name\": \"real\", \"opacity\": 1, \"showlegend\": false, \"text\": [\"109022\", \"114036\"], \"x\": [-466.4, -580.2], \"y\": [822.2639974959379, 1022.6908959079474], \"type\": \"scatter\", \"uid\": \"548980f9-766c-41e1-915d-0c7e9bedb78d\"}, {\"hoverinfo\": \"name+text\", \"legendgroup\": \"real\", \"line\": {\"color\": \"green\", \"width\": 1}, \"name\": \"real\", \"opacity\": 1, \"showlegend\": false, \"text\": [\"23536\", \"31418\"], \"x\": [41.7502, 99.58], \"y\": [32.49714414606305, 72.54064560265508], \"type\": \"scatter\", \"uid\": \"4c149600-75e9-47a9-8844-2d7583655b38\"}, {\"hoverinfo\": \"name+text\", \"legendgroup\": \"real\", \"line\": {\"color\": \"green\", \"width\": 1}, \"name\": \"real\", \"opacity\": 1, \"showlegend\": false, \"text\": [\"31418\", \"38524\"], \"x\": [99.58, 162.741], \"y\": [72.54064560265508, 116.24458425703108], \"type\": \"scatter\", \"uid\": \"420b0942-856c-43f7-a082-550be061445c\"}, {\"hoverinfo\": \"name+text\", \"legendgroup\": \"real\", \"line\": {\"color\": \"green\", \"width\": 1}, \"name\": \"real\", \"opacity\": 1, \"showlegend\": false, \"text\": [\"38524\", \"45067\"], \"x\": [162.741, 243.228], \"y\": [116.24458425703108, 171.77085511020198], \"type\": \"scatter\", \"uid\": \"d1a7eb6b-126e-44d2-b224-71dca43b4f1f\"}, {\"hoverinfo\": \"name+text\", \"legendgroup\": \"real\", \"line\": {\"color\": \"green\", \"width\": 1}, \"name\": \"real\", \"opacity\": 1, \"showlegend\": false, \"text\": [\"45067\", \"76902\"], \"x\": [243.228, 375.4], \"y\": [171.77085511020198, 262.9168818890107], \"type\": \"scatter\", \"uid\": \"a0b9902c-118a-4970-89a3-631877ce1d58\"}, {\"hoverinfo\": \"name+text\", \"legendgroup\": \"real\", \"line\": {\"color\": \"green\", \"width\": 1}, \"name\": \"real\", \"opacity\": 1, \"showlegend\": false, \"text\": [\"76902\", \"83944\"], \"x\": [375.4, 515.6], \"y\": [262.9168818890107, 359.1660073517537], \"type\": \"scatter\", \"uid\": \"654d8813-feed-451a-a9f1-b93d6207efa9\"}, {\"hoverinfo\": \"name+text\", \"legendgroup\": \"real\", \"line\": {\"color\": \"green\", \"width\": 1}, \"name\": \"real\", \"opacity\": 1, \"showlegend\": false, \"text\": [\"83944\", \"90803\"], \"x\": [515.6, 722.2], \"y\": [359.1660073517537, 501.1282595952857], \"type\": \"scatter\", \"uid\": \"30fed075-82e3-4a11-8e9e-16666eb9ba4f\"}, {\"hoverinfo\": \"name+text\", \"legendgroup\": \"real\", \"line\": {\"color\": \"green\", \"width\": 1}, \"name\": \"real\", \"opacity\": 1, \"showlegend\": false, \"text\": [\"90803\", \"96934\"], \"x\": [722.2, 956.0], \"y\": [501.1282595952857, 660.1841830580312], \"type\": \"scatter\", \"uid\": \"0500053b-1bd1-4000-9a65-413d11a16758\"}], {\"height\": 800, \"hovermode\": \"closest\", \"showlegend\": true, \"updatemenus\": [{\"buttons\": [{\"args\": [\"shapes\", []], \"label\": \"hide layers\", \"method\": \"relayout\"}, {\"args\": [\"shapes\", [{\"type\": \"line\", \"x0\": -455, \"x1\": 455, \"y0\": 32, \"y1\": 32, \"opacity\": 0.5, \"layer\": \"below\", \"line\": {\"color\": \"#ccc\"}}, {\"type\": \"line\", \"x0\": -455, \"x1\": 455, \"y0\": 72, \"y1\": 72, \"opacity\": 0.5, \"layer\": \"below\", \"line\": {\"color\": \"#ccc\"}}, {\"type\": \"line\", \"x0\": -455, \"x1\": 455, \"y0\": 116, \"y1\": 116, \"opacity\": 0.5, \"layer\": \"below\", \"line\": {\"color\": \"#ccc\"}}, {\"type\": \"line\", \"x0\": -455, \"x1\": 455, \"y0\": 172, \"y1\": 172, \"opacity\": 0.5, \"layer\": \"below\", \"line\": {\"color\": \"#ccc\"}}, {\"type\": \"line\", \"x0\": -1030, \"x1\": 1030, \"y0\": 260, \"y1\": 260, \"opacity\": 0.5, \"layer\": \"below\", \"line\": {\"color\": \"#cccc8d\"}}, {\"type\": \"line\", \"x0\": -1030, \"x1\": 1030, \"y0\": 360, \"y1\": 360, \"opacity\": 0.5, \"layer\": \"below\", \"line\": {\"color\": \"#cccc8d\"}}, {\"type\": \"line\", \"x0\": -1030, \"x1\": 1030, \"y0\": 500, \"y1\": 500, \"opacity\": 0.5, \"layer\": \"below\", \"line\": {\"color\": \"#cccc8d\"}}, {\"type\": \"line\", \"x0\": -1030, \"x1\": 1030, \"y0\": 660, \"y1\": 660, \"opacity\": 0.5, \"layer\": \"below\", \"line\": {\"color\": \"#cccc8d\"}}, {\"type\": \"line\", \"x0\": -1030, \"x1\": 1030, \"y0\": 820, \"y1\": 820, \"opacity\": 0.5, \"layer\": \"below\", \"line\": {\"color\": \"#ccc\"}}, {\"type\": \"line\", \"x0\": -1030, \"x1\": 1030, \"y0\": 1020, \"y1\": 1020, \"opacity\": 0.5, \"layer\": \"below\", \"line\": {\"color\": \"#ccc\"}}]], \"label\": \"show layers\", \"method\": \"relayout\"}], \"direction\": \"left\", \"pad\": {\"l\": 0.1}, \"type\": \"buttons\", \"xanchor\": \"left\", \"y\": 1.1, \"yanchor\": \"top\"}, {\"buttons\": [{\"args\": [{\"mode\": \"markers+lines\"}], \"label\": \"hits+tracks\", \"method\": \"update\"}, {\"args\": [{\"mode\": \"markers\"}], \"label\": \"hits only\", \"method\": \"update\"}], \"direction\": \"left\", \"pad\": {\"l\": 200}, \"type\": \"buttons\", \"xanchor\": \"left\", \"y\": 1.1, \"yanchor\": \"top\"}, {\"buttons\": [{\"args\": [\"yaxis.scaleanchor\", null], \"label\": \"free\", \"method\": \"relayout\"}, {\"args\": [\"yaxis.scaleanchor\", \"x\"], \"label\": \"fixed\", \"method\": \"relayout\"}], \"direction\": \"left\", \"pad\": {\"l\": 380}, \"type\": \"buttons\", \"xanchor\": \"left\", \"y\": 1.1, \"yanchor\": \"top\"}], \"width\": 800, \"xaxis\": {\"title\": \"z\"}, \"yaxis\": {\"title\": \"r\"}}, {\"showLink\": true, \"linkText\": \"Export to plot.ly\", \"plotlyServerURL\": \"https://plot.ly\"})});</script>"
      ]
     },
     "metadata": {},
     "output_type": "display_data"
    },
    {
     "data": {
      "application/vnd.plotly.v1+json": {
       "config": {
        "linkText": "Export to plot.ly",
        "plotlyServerURL": "https://plot.ly",
        "showLink": true
       },
       "data": [
        {
         "hoverinfo": "name+text",
         "legendgroup": "True",
         "line": {
          "color": "darkseagreen",
          "width": 1
         },
         "name": "T0: real",
         "opacity": 1,
         "showlegend": true,
         "text": [
          "18246",
          "27129",
          "34226",
          "40268",
          "72036",
          "78762"
         ],
         "type": "scatter",
         "uid": "cc8a595b-f069-45d9-9d00-cdf0030f0979",
         "x": [
          -21.7191,
          -49.4278
         ],
         "y": [
          -22.879,
          -53.6609
         ]
        },
        {
         "hoverinfo": "name+text",
         "legendgroup": "True",
         "line": {
          "color": "darkseagreen",
          "width": 1
         },
         "name": "T0: real",
         "opacity": 1,
         "showlegend": false,
         "text": [
          "18246",
          "27129",
          "34226",
          "40268",
          "72036",
          "78762"
         ],
         "type": "scatter",
         "uid": "0b33fecc-0a28-4af0-933c-fd5f106a105f",
         "x": [
          -49.4278,
          -76.6251
         ],
         "y": [
          -53.6609,
          -85.78
         ]
        },
        {
         "hoverinfo": "name+text",
         "legendgroup": "True",
         "line": {
          "color": "darkseagreen",
          "width": 1
         },
         "name": "T0: real",
         "opacity": 1,
         "showlegend": false,
         "text": [
          "18246",
          "27129",
          "34226",
          "40268",
          "72036",
          "78762"
         ],
         "type": "scatter",
         "uid": "0cab1c3c-a919-4989-8e7d-0ae1da2cb0ec",
         "x": [
          -76.6251,
          -111.405
         ],
         "y": [
          -85.78,
          -130.203
         ]
        },
        {
         "hoverinfo": "name+text",
         "legendgroup": "True",
         "line": {
          "color": "darkseagreen",
          "width": 1
         },
         "name": "T0: real",
         "opacity": 1,
         "showlegend": false,
         "text": [
          "18246",
          "27129",
          "34226",
          "40268",
          "72036",
          "78762"
         ],
         "type": "scatter",
         "uid": "b6c8e9a1-9779-4ee5-aab9-03b1f79c4040",
         "x": [
          -111.405,
          -163.782
         ],
         "y": [
          -130.203,
          -205.827
         ]
        },
        {
         "hoverinfo": "name+text",
         "legendgroup": "True",
         "line": {
          "color": "darkseagreen",
          "width": 1
         },
         "name": "T0: real",
         "opacity": 1,
         "showlegend": false,
         "text": [
          "18246",
          "27129",
          "34226",
          "40268",
          "72036",
          "78762"
         ],
         "type": "scatter",
         "uid": "1edfd153-4eb8-4a49-87bc-4686567a38c0",
         "x": [
          -163.782,
          -213.656
         ],
         "y": [
          -205.827,
          -290.52
         ]
        },
        {
         "hoverinfo": "name+text",
         "legendgroup": "True",
         "line": {
          "color": "green",
          "width": 1
         },
         "name": "T1: real",
         "opacity": 1,
         "showlegend": false,
         "text": [
          "20764",
          "27487",
          "34491",
          "40865",
          "72549",
          "79138",
          "85537"
         ],
         "type": "scatter",
         "uid": "53c0fe15-9d3e-4de7-9e54-4b6438119b61",
         "x": [
          5.5706,
          10.5024
         ],
         "y": [
          31.671,
          72.0453
         ]
        },
        {
         "hoverinfo": "name+text",
         "legendgroup": "True",
         "line": {
          "color": "green",
          "width": 1
         },
         "name": "T1: real",
         "opacity": 1,
         "showlegend": false,
         "text": [
          "20764",
          "27487",
          "34491",
          "40865",
          "72549",
          "79138",
          "85537"
         ],
         "type": "scatter",
         "uid": "bc9a542e-e96b-4397-81ad-1a5fe8d3582b",
         "x": [
          10.5024,
          14.7116
         ],
         "y": [
          72.0453,
          114.108
         ]
        },
        {
         "hoverinfo": "name+text",
         "legendgroup": "True",
         "line": {
          "color": "green",
          "width": 1
         },
         "name": "T1: real",
         "opacity": 1,
         "showlegend": false,
         "text": [
          "20764",
          "27487",
          "34491",
          "40865",
          "72549",
          "79138",
          "85537"
         ],
         "type": "scatter",
         "uid": "0cd3b01e-cc04-470e-82ed-516a87f4e7fb",
         "x": [
          14.7116,
          18.992
         ],
         "y": [
          114.108,
          171.997
         ]
        },
        {
         "hoverinfo": "name+text",
         "legendgroup": "True",
         "line": {
          "color": "green",
          "width": 1
         },
         "name": "T1: real",
         "opacity": 1,
         "showlegend": false,
         "text": [
          "20764",
          "27487",
          "34491",
          "40865",
          "72549",
          "79138",
          "85537"
         ],
         "type": "scatter",
         "uid": "2df4d72a-c5d8-47f8-b753-9164bf272208",
         "x": [
          18.992,
          22.298
         ],
         "y": [
          171.997,
          257.23400000000004
         ]
        },
        {
         "hoverinfo": "name+text",
         "legendgroup": "True",
         "line": {
          "color": "green",
          "width": 1
         },
         "name": "T1: real",
         "opacity": 1,
         "showlegend": false,
         "text": [
          "20764",
          "27487",
          "34491",
          "40865",
          "72549",
          "79138",
          "85537"
         ],
         "type": "scatter",
         "uid": "c4b86c6e-32c3-4a24-b05e-b01cf023d161",
         "x": [
          22.298,
          21.6577
         ],
         "y": [
          257.23400000000004,
          357.611
         ]
        },
        {
         "hoverinfo": "name+text",
         "legendgroup": "True",
         "line": {
          "color": "green",
          "width": 1
         },
         "name": "T1: real",
         "opacity": 1,
         "showlegend": false,
         "text": [
          "20764",
          "27487",
          "34491",
          "40865",
          "72549",
          "79138",
          "85537"
         ],
         "type": "scatter",
         "uid": "3984d726-cc8f-4a06-b7b4-34b66f242edd",
         "x": [
          21.6577,
          12.251
         ],
         "y": [
          357.611,
          496.648
         ]
        },
        {
         "hoverinfo": "name+text",
         "legendgroup": "True",
         "line": {
          "color": "green",
          "width": 1
         },
         "name": "T2: real",
         "opacity": 1,
         "showlegend": false,
         "text": [
          "20262",
          "28058",
          "34877",
          "41146",
          "73201",
          "79641",
          "86195",
          "91955",
          "107743"
         ],
         "type": "scatter",
         "uid": "08c8eb5f-f872-46e3-8c4c-ecc8307ac61f",
         "x": [
          32.2451,
          70.7765
         ],
         "y": [
          4.53326,
          9.61941
         ]
        },
        {
         "hoverinfo": "name+text",
         "legendgroup": "True",
         "line": {
          "color": "green",
          "width": 1
         },
         "name": "T2: real",
         "opacity": 1,
         "showlegend": false,
         "text": [
          "20262",
          "28058",
          "34877",
          "41146",
          "73201",
          "79641",
          "86195",
          "91955",
          "107743"
         ],
         "type": "scatter",
         "uid": "de4c2e3d-7cf5-42da-aa03-0bf63efe5485",
         "x": [
          70.7765,
          114.433
         ],
         "y": [
          9.61941,
          14.9217
         ]
        },
        {
         "hoverinfo": "name+text",
         "legendgroup": "True",
         "line": {
          "color": "green",
          "width": 1
         },
         "name": "T2: real",
         "opacity": 1,
         "showlegend": false,
         "text": [
          "20262",
          "28058",
          "34877",
          "41146",
          "73201",
          "79641",
          "86195",
          "91955",
          "107743"
         ],
         "type": "scatter",
         "uid": "419957d0-38f8-4ac6-adee-fc871a023582",
         "x": [
          114.433,
          170.40099999999995
         ],
         "y": [
          14.9217,
          21.0637
         ]
        },
        {
         "hoverinfo": "name+text",
         "legendgroup": "True",
         "line": {
          "color": "green",
          "width": 1
         },
         "name": "T2: real",
         "opacity": 1,
         "showlegend": false,
         "text": [
          "20262",
          "28058",
          "34877",
          "41146",
          "73201",
          "79641",
          "86195",
          "91955",
          "107743"
         ],
         "type": "scatter",
         "uid": "9422a14d-1e95-4591-ad0e-c6b247083151",
         "x": [
          170.40099999999995,
          258.338
         ],
         "y": [
          21.0637,
          29.1488
         ]
        },
        {
         "hoverinfo": "name+text",
         "legendgroup": "True",
         "line": {
          "color": "green",
          "width": 1
         },
         "name": "T2: real",
         "opacity": 1,
         "showlegend": false,
         "text": [
          "20262",
          "28058",
          "34877",
          "41146",
          "73201",
          "79641",
          "86195",
          "91955",
          "107743"
         ],
         "type": "scatter",
         "uid": "d3686604-b2d1-41ff-bb8b-433c7dc778af",
         "x": [
          258.338,
          359.452
         ],
         "y": [
          29.1488,
          36.1999
         ]
        },
        {
         "hoverinfo": "name+text",
         "legendgroup": "True",
         "line": {
          "color": "green",
          "width": 1
         },
         "name": "T2: real",
         "opacity": 1,
         "showlegend": false,
         "text": [
          "20262",
          "28058",
          "34877",
          "41146",
          "73201",
          "79641",
          "86195",
          "91955",
          "107743"
         ],
         "type": "scatter",
         "uid": "a31948be-c4ef-472f-b999-8402ae33b312",
         "x": [
          359.452,
          503.503
         ],
         "y": [
          36.1999,
          42.0709
         ]
        },
        {
         "hoverinfo": "name+text",
         "legendgroup": "True",
         "line": {
          "color": "green",
          "width": 1
         },
         "name": "T2: real",
         "opacity": 1,
         "showlegend": false,
         "text": [
          "20262",
          "28058",
          "34877",
          "41146",
          "73201",
          "79641",
          "86195",
          "91955",
          "107743"
         ],
         "type": "scatter",
         "uid": "43eeb5eb-259f-49ae-a03b-d3985d622a43",
         "x": [
          503.503,
          663.908
         ],
         "y": [
          42.0709,
          43.0984
         ]
        },
        {
         "hoverinfo": "name+text",
         "legendgroup": "True",
         "line": {
          "color": "green",
          "width": 1
         },
         "name": "T2: real",
         "opacity": 1,
         "showlegend": false,
         "text": [
          "20262",
          "28058",
          "34877",
          "41146",
          "73201",
          "79641",
          "86195",
          "91955",
          "107743"
         ],
         "type": "scatter",
         "uid": "37221113-c37c-45a9-8c05-cada2175dbcb",
         "x": [
          663.908,
          823.312
         ],
         "y": [
          43.0984,
          38.3265
         ]
        },
        {
         "hoverinfo": "name+text",
         "legendgroup": "True",
         "line": {
          "color": "green",
          "width": 1
         },
         "name": "T3: real",
         "opacity": 1,
         "showlegend": false,
         "text": [
          "19698",
          "27827",
          "35259",
          "41464",
          "73085",
          "79880",
          "86402",
          "92130",
          "107883"
         ],
         "type": "scatter",
         "uid": "652eda7d-bfb7-4376-b9f4-4b16f9645a5b",
         "x": [
          -4.16977,
          -9.16296
         ],
         "y": [
          -31.75,
          -71.4937
         ]
        },
        {
         "hoverinfo": "name+text",
         "legendgroup": "True",
         "line": {
          "color": "green",
          "width": 1
         },
         "name": "T3: real",
         "opacity": 1,
         "showlegend": false,
         "text": [
          "19698",
          "27827",
          "35259",
          "41464",
          "73085",
          "79880",
          "86402",
          "92130",
          "107883"
         ],
         "type": "scatter",
         "uid": "2b25c604-5ed6-4dc9-a0b1-c4f40f4e606f",
         "x": [
          -9.16296,
          -14.2464
         ],
         "y": [
          -71.4937,
          -114.127
         ]
        },
        {
         "hoverinfo": "name+text",
         "legendgroup": "True",
         "line": {
          "color": "green",
          "width": 1
         },
         "name": "T3: real",
         "opacity": 1,
         "showlegend": false,
         "text": [
          "19698",
          "27827",
          "35259",
          "41464",
          "73085",
          "79880",
          "86402",
          "92130",
          "107883"
         ],
         "type": "scatter",
         "uid": "469f5802-2cfc-4526-a5d1-75cb45e8519c",
         "x": [
          -14.2464,
          -20.5217
         ],
         "y": [
          -114.127,
          -170.169
         ]
        },
        {
         "hoverinfo": "name+text",
         "legendgroup": "True",
         "line": {
          "color": "green",
          "width": 1
         },
         "name": "T3: real",
         "opacity": 1,
         "showlegend": false,
         "text": [
          "19698",
          "27827",
          "35259",
          "41464",
          "73085",
          "79880",
          "86402",
          "92130",
          "107883"
         ],
         "type": "scatter",
         "uid": "3e771f85-3863-4f50-8063-db7dccb981a5",
         "x": [
          -20.5217,
          -29.116
         ],
         "y": [
          -170.169,
          -255.648
         ]
        },
        {
         "hoverinfo": "name+text",
         "legendgroup": "True",
         "line": {
          "color": "green",
          "width": 1
         },
         "name": "T3: real",
         "opacity": 1,
         "showlegend": false,
         "text": [
          "19698",
          "27827",
          "35259",
          "41464",
          "73085",
          "79880",
          "86402",
          "92130",
          "107883"
         ],
         "type": "scatter",
         "uid": "433ae7ca-fd28-471d-ba39-df6da9917514",
         "x": [
          -29.116,
          -38.3955
         ],
         "y": [
          -255.648,
          -363.693
         ]
        },
        {
         "hoverinfo": "name+text",
         "legendgroup": "True",
         "line": {
          "color": "green",
          "width": 1
         },
         "name": "T3: real",
         "opacity": 1,
         "showlegend": false,
         "text": [
          "19698",
          "27827",
          "35259",
          "41464",
          "73085",
          "79880",
          "86402",
          "92130",
          "107883"
         ],
         "type": "scatter",
         "uid": "09a42472-b649-430a-a33d-cfe622b950a8",
         "x": [
          -38.3955,
          -47.3072
         ],
         "y": [
          -363.693,
          -495.195
         ]
        },
        {
         "hoverinfo": "name+text",
         "legendgroup": "True",
         "line": {
          "color": "green",
          "width": 1
         },
         "name": "T3: real",
         "opacity": 1,
         "showlegend": false,
         "text": [
          "19698",
          "27827",
          "35259",
          "41464",
          "73085",
          "79880",
          "86402",
          "92130",
          "107883"
         ],
         "type": "scatter",
         "uid": "8dfa9d78-1f59-4f88-956c-e50ae76d7863",
         "x": [
          -47.3072,
          -54.4897
         ],
         "y": [
          -495.195,
          -654.254
         ]
        },
        {
         "hoverinfo": "name+text",
         "legendgroup": "True",
         "line": {
          "color": "green",
          "width": 1
         },
         "name": "T3: real",
         "opacity": 1,
         "showlegend": false,
         "text": [
          "19698",
          "27827",
          "35259",
          "41464",
          "73085",
          "79880",
          "86402",
          "92130",
          "107883"
         ],
         "type": "scatter",
         "uid": "f48151e5-7010-4ce6-9dc5-3371666cf14e",
         "x": [
          -54.4897,
          -57.8177
         ],
         "y": [
          -654.254,
          -817.466
         ]
        },
        {
         "hoverinfo": "name+text",
         "legendgroup": "True",
         "line": {
          "color": "darkseagreen",
          "width": 1
         },
         "name": "T4: real",
         "opacity": 1,
         "showlegend": false,
         "text": [
          "75184",
          "82090",
          "88632",
          "94896",
          "110783",
          "116120"
         ],
         "type": "scatter",
         "uid": "c63be5b8-1de7-434f-9d33-bfc17654c29c",
         "x": [
          -1.10379,
          -15.6281
         ],
         "y": [
          -262.164,
          -358.871
         ]
        },
        {
         "hoverinfo": "name+text",
         "legendgroup": "True",
         "line": {
          "color": "darkseagreen",
          "width": 1
         },
         "name": "T4: real",
         "opacity": 1,
         "showlegend": false,
         "text": [
          "75184",
          "82090",
          "88632",
          "94896",
          "110783",
          "116120"
         ],
         "type": "scatter",
         "uid": "18a45e70-451f-4c91-a9a9-ff3fb89f30f4",
         "x": [
          -15.6281,
          -48.3976
         ],
         "y": [
          -358.871,
          -494.939
         ]
        },
        {
         "hoverinfo": "name+text",
         "legendgroup": "True",
         "line": {
          "color": "darkseagreen",
          "width": 1
         },
         "name": "T4: real",
         "opacity": 1,
         "showlegend": false,
         "text": [
          "75184",
          "82090",
          "88632",
          "94896",
          "110783",
          "116120"
         ],
         "type": "scatter",
         "uid": "7e34a45f-8a5f-4a14-bd75-c39ed9dfda87",
         "x": [
          -48.3976,
          -107.941
         ],
         "y": [
          -494.939,
          -654.971
         ]
        },
        {
         "hoverinfo": "name+text",
         "legendgroup": "True",
         "line": {
          "color": "darkseagreen",
          "width": 1
         },
         "name": "T4: real",
         "opacity": 1,
         "showlegend": false,
         "text": [
          "75184",
          "82090",
          "88632",
          "94896",
          "110783",
          "116120"
         ],
         "type": "scatter",
         "uid": "fc723a70-aaff-486f-af2b-56b702024bf8",
         "x": [
          -107.941,
          -184.63
         ],
         "y": [
          -654.971,
          -801.703
         ]
        },
        {
         "hoverinfo": "name+text",
         "legendgroup": "True",
         "line": {
          "color": "darkseagreen",
          "width": 1
         },
         "name": "T4: real",
         "opacity": 1,
         "showlegend": false,
         "text": [
          "75184",
          "82090",
          "88632",
          "94896",
          "110783",
          "116120"
         ],
         "type": "scatter",
         "uid": "ab8821e4-8ac8-423b-ad33-80a19a750aab",
         "x": [
          -184.63,
          -306.828
         ],
         "y": [
          -801.703,
          -971.876
         ]
        },
        {
         "hoverinfo": "name+text",
         "legendgroup": "True",
         "line": {
          "color": "green",
          "width": 1
         },
         "name": "T5: real",
         "opacity": 1,
         "showlegend": false,
         "text": [
          "21265",
          "29504",
          "42350",
          "73830",
          "80933",
          "87292",
          "93165",
          "109022",
          "114036"
         ],
         "type": "scatter",
         "uid": "c8538e8b-9368-4a77-a2ce-becd4633fec1",
         "x": [
          -31.6364,
          -70.206
         ],
         "y": [
          6.18379,
          14.1226
         ]
        },
        {
         "hoverinfo": "name+text",
         "legendgroup": "True",
         "line": {
          "color": "green",
          "width": 1
         },
         "name": "T5: real",
         "opacity": 1,
         "showlegend": false,
         "text": [
          "21265",
          "29504",
          "42350",
          "73830",
          "80933",
          "87292",
          "93165",
          "109022",
          "114036"
         ],
         "type": "scatter",
         "uid": "24b2b8c1-969c-419a-a3ec-da9c6c212c2f",
         "x": [
          -70.206,
          -168.155
         ],
         "y": [
          14.1226,
          36.3725
         ]
        },
        {
         "hoverinfo": "name+text",
         "legendgroup": "True",
         "line": {
          "color": "green",
          "width": 1
         },
         "name": "T5: real",
         "opacity": 1,
         "showlegend": false,
         "text": [
          "21265",
          "29504",
          "42350",
          "73830",
          "80933",
          "87292",
          "93165",
          "109022",
          "114036"
         ],
         "type": "scatter",
         "uid": "f4d3c09e-83ba-47a4-8444-19ab6ac5b571",
         "x": [
          -168.155,
          -255.151
         ],
         "y": [
          36.3725,
          58.8872
         ]
        },
        {
         "hoverinfo": "name+text",
         "legendgroup": "True",
         "line": {
          "color": "green",
          "width": 1
         },
         "name": "T5: real",
         "opacity": 1,
         "showlegend": false,
         "text": [
          "21265",
          "29504",
          "42350",
          "73830",
          "80933",
          "87292",
          "93165",
          "109022",
          "114036"
         ],
         "type": "scatter",
         "uid": "d3ae31a4-70f4-4c52-9de9-60f4025e42db",
         "x": [
          -255.151,
          -353.285
         ],
         "y": [
          58.8872,
          87.1991
         ]
        },
        {
         "hoverinfo": "name+text",
         "legendgroup": "True",
         "line": {
          "color": "green",
          "width": 1
         },
         "name": "T5: real",
         "opacity": 1,
         "showlegend": false,
         "text": [
          "21265",
          "29504",
          "42350",
          "73830",
          "80933",
          "87292",
          "93165",
          "109022",
          "114036"
         ],
         "type": "scatter",
         "uid": "3a5a4d97-ec1e-4cd4-891f-99098a0d258a",
         "x": [
          -353.285,
          -482.875
         ],
         "y": [
          87.1991,
          129.892
         ]
        },
        {
         "hoverinfo": "name+text",
         "legendgroup": "True",
         "line": {
          "color": "green",
          "width": 1
         },
         "name": "T5: real",
         "opacity": 1,
         "showlegend": false,
         "text": [
          "21265",
          "29504",
          "42350",
          "73830",
          "80933",
          "87292",
          "93165",
          "109022",
          "114036"
         ],
         "type": "scatter",
         "uid": "8f272bcb-5d43-463c-a696-cc35d586ca85",
         "x": [
          -482.875,
          -633.385
         ],
         "y": [
          129.892,
          187.317
         ]
        },
        {
         "hoverinfo": "name+text",
         "legendgroup": "True",
         "line": {
          "color": "green",
          "width": 1
         },
         "name": "T5: real",
         "opacity": 1,
         "showlegend": false,
         "text": [
          "21265",
          "29504",
          "42350",
          "73830",
          "80933",
          "87292",
          "93165",
          "109022",
          "114036"
         ],
         "type": "scatter",
         "uid": "bb83f4fd-c3c4-4b83-9942-db87f7e2776d",
         "x": [
          -633.385,
          -782.4169999999998
         ],
         "y": [
          187.317,
          252.867
         ]
        },
        {
         "hoverinfo": "name+text",
         "legendgroup": "True",
         "line": {
          "color": "green",
          "width": 1
         },
         "name": "T5: real",
         "opacity": 1,
         "showlegend": false,
         "text": [
          "21265",
          "29504",
          "42350",
          "73830",
          "80933",
          "87292",
          "93165",
          "109022",
          "114036"
         ],
         "type": "scatter",
         "uid": "39b850ff-b26d-4269-ae08-617b949d76cd",
         "x": [
          -782.4169999999998,
          -962.827
         ],
         "y": [
          252.867,
          344.76199999999994
         ]
        },
        {
         "hoverinfo": "name+text",
         "legendgroup": "6",
         "line": {
          "color": "red",
          "width": 1
         },
         "name": "T6: 3/4 ok",
         "opacity": 1,
         "showlegend": true,
         "text": [
          "23050",
          "37198",
          "44045",
          "75480",
          "82723"
         ],
         "type": "scatter",
         "uid": "41d98230-1b07-4ef9-86a0-c7154cc64a02",
         "x": [
          -4.64343,
          -13.5617
         ],
         "y": [
          31.6821,
          114.204
         ]
        },
        {
         "hoverinfo": "name+text",
         "legendgroup": "6",
         "line": {
          "color": "darkseagreen",
          "width": 1
         },
         "name": "T6: 3/4 ok",
         "opacity": 1,
         "showlegend": false,
         "text": [
          "23050",
          "37198",
          "44045",
          "75480",
          "82723"
         ],
         "type": "scatter",
         "uid": "5667c075-3489-4623-a1fe-6138e7051b36",
         "x": [
          -13.5617,
          -16.8728
         ],
         "y": [
          114.204,
          171.016
         ]
        },
        {
         "hoverinfo": "name+text",
         "legendgroup": "6",
         "line": {
          "color": "darkseagreen",
          "width": 1
         },
         "name": "T6: 3/4 ok",
         "opacity": 1,
         "showlegend": false,
         "text": [
          "23050",
          "37198",
          "44045",
          "75480",
          "82723"
         ],
         "type": "scatter",
         "uid": "acb99097-a8df-415f-9fab-9b09c4726085",
         "x": [
          -16.8728,
          -17.738
         ],
         "y": [
          171.016,
          257.521
         ]
        },
        {
         "hoverinfo": "name+text",
         "legendgroup": "6",
         "line": {
          "color": "darkseagreen",
          "width": 1
         },
         "name": "T6: 3/4 ok",
         "opacity": 1,
         "showlegend": false,
         "text": [
          "23050",
          "37198",
          "44045",
          "75480",
          "82723"
         ],
         "type": "scatter",
         "uid": "99afaca4-0450-4fd4-af4d-aecaacaaad4f",
         "x": [
          -17.738,
          -11.9561
         ],
         "y": [
          257.521,
          360.148
         ]
        },
        {
         "hoverinfo": "name+text",
         "legendgroup": "True",
         "line": {
          "color": "green",
          "width": 1
         },
         "name": "T7: real",
         "opacity": 1,
         "showlegend": false,
         "text": [
          "23536",
          "31418",
          "38524",
          "45067",
          "76902",
          "83944",
          "90803",
          "96934"
         ],
         "type": "scatter",
         "uid": "c1fe0aea-b3be-4f14-b560-4c0346673a01",
         "x": [
          -30.9263,
          -68.8454
         ],
         "y": [
          9.9814,
          22.8573
         ]
        },
        {
         "hoverinfo": "name+text",
         "legendgroup": "True",
         "line": {
          "color": "green",
          "width": 1
         },
         "name": "T7: real",
         "opacity": 1,
         "showlegend": false,
         "text": [
          "23536",
          "31418",
          "38524",
          "45067",
          "76902",
          "83944",
          "90803",
          "96934"
         ],
         "type": "scatter",
         "uid": "2ba5d88d-58eb-41cb-8826-f24bd92dcb71",
         "x": [
          -68.8454,
          -109.987
         ],
         "y": [
          22.8573,
          37.6253
         ]
        },
        {
         "hoverinfo": "name+text",
         "legendgroup": "True",
         "line": {
          "color": "green",
          "width": 1
         },
         "name": "T7: real",
         "opacity": 1,
         "showlegend": false,
         "text": [
          "23536",
          "31418",
          "38524",
          "45067",
          "76902",
          "83944",
          "90803",
          "96934"
         ],
         "type": "scatter",
         "uid": "e1c2ca7f-ea70-4d66-95ef-c949024e37c4",
         "x": [
          -109.987,
          -161.876
         ],
         "y": [
          37.6253,
          57.4577
         ]
        },
        {
         "hoverinfo": "name+text",
         "legendgroup": "True",
         "line": {
          "color": "green",
          "width": 1
         },
         "name": "T7: real",
         "opacity": 1,
         "showlegend": false,
         "text": [
          "23536",
          "31418",
          "38524",
          "45067",
          "76902",
          "83944",
          "90803",
          "96934"
         ],
         "type": "scatter",
         "uid": "df46aab7-40ad-429b-b2e5-6404b592d289",
         "x": [
          -161.876,
          -246.02
         ],
         "y": [
          57.4577,
          92.7332
         ]
        },
        {
         "hoverinfo": "name+text",
         "legendgroup": "True",
         "line": {
          "color": "green",
          "width": 1
         },
         "name": "T7: real",
         "opacity": 1,
         "showlegend": false,
         "text": [
          "23536",
          "31418",
          "38524",
          "45067",
          "76902",
          "83944",
          "90803",
          "96934"
         ],
         "type": "scatter",
         "uid": "f193bff9-ded0-47e8-ae54-ebca5c20a899",
         "x": [
          -246.02,
          -333.426
         ],
         "y": [
          92.7332,
          133.519
         ]
        },
        {
         "hoverinfo": "name+text",
         "legendgroup": "True",
         "line": {
          "color": "green",
          "width": 1
         },
         "name": "T7: real",
         "opacity": 1,
         "showlegend": false,
         "text": [
          "23536",
          "31418",
          "38524",
          "45067",
          "76902",
          "83944",
          "90803",
          "96934"
         ],
         "type": "scatter",
         "uid": "b7b3df63-2196-40ca-a81d-d2bc10300d28",
         "x": [
          -333.426,
          -459.273
         ],
         "y": [
          133.519,
          200.49400000000003
         ]
        },
        {
         "hoverinfo": "name+text",
         "legendgroup": "True",
         "line": {
          "color": "green",
          "width": 1
         },
         "name": "T7: real",
         "opacity": 1,
         "showlegend": false,
         "text": [
          "23536",
          "31418",
          "38524",
          "45067",
          "76902",
          "83944",
          "90803",
          "96934"
         ],
         "type": "scatter",
         "uid": "9dfddb2b-587c-441f-bad6-5727562373bf",
         "x": [
          -459.273,
          -595.614
         ],
         "y": [
          200.49400000000003,
          284.758
         ]
        },
        {
         "hoverinfo": "name+text",
         "legendgroup": "True",
         "line": {
          "color": "darkseagreen",
          "width": 1
         },
         "name": "T8: real",
         "opacity": 1,
         "showlegend": false,
         "text": [
          "21405",
          "30694",
          "38058",
          "44664",
          "76101",
          "83615",
          "90565",
          "96738"
         ],
         "type": "scatter",
         "uid": "29eab42a-d437-425f-ad9f-2a360a692e1e",
         "x": [
          -33.5947,
          -73.825
         ],
         "y": [
          0.8266889999999999,
          0.838565
         ]
        },
        {
         "hoverinfo": "name+text",
         "legendgroup": "True",
         "line": {
          "color": "darkseagreen",
          "width": 1
         },
         "name": "T8: real",
         "opacity": 1,
         "showlegend": false,
         "text": [
          "21405",
          "30694",
          "38058",
          "44664",
          "76101",
          "83615",
          "90565",
          "96738"
         ],
         "type": "scatter",
         "uid": "8141174a-a5b8-4764-95e8-5ba8fba7b905",
         "x": [
          -73.825,
          -116.911
         ],
         "y": [
          0.838565,
          -0.235947
         ]
        },
        {
         "hoverinfo": "name+text",
         "legendgroup": "True",
         "line": {
          "color": "darkseagreen",
          "width": 1
         },
         "name": "T8: real",
         "opacity": 1,
         "showlegend": false,
         "text": [
          "21405",
          "30694",
          "38058",
          "44664",
          "76101",
          "83615",
          "90565",
          "96738"
         ],
         "type": "scatter",
         "uid": "51f0d83b-7fe3-4fc9-b876-3078e941d0c6",
         "x": [
          -116.911,
          -172.74200000000005
         ],
         "y": [
          -0.235947,
          -3.4674400000000003
         ]
        },
        {
         "hoverinfo": "name+text",
         "legendgroup": "True",
         "line": {
          "color": "darkseagreen",
          "width": 1
         },
         "name": "T8: real",
         "opacity": 1,
         "showlegend": false,
         "text": [
          "21405",
          "30694",
          "38058",
          "44664",
          "76101",
          "83615",
          "90565",
          "96738"
         ],
         "type": "scatter",
         "uid": "5ab9c529-0f72-4227-8807-f7f09450c086",
         "x": [
          -172.74200000000005,
          -257.127
         ],
         "y": [
          -3.4674400000000003,
          -12.2321
         ]
        },
        {
         "hoverinfo": "name+text",
         "legendgroup": "True",
         "line": {
          "color": "darkseagreen",
          "width": 1
         },
         "name": "T8: real",
         "opacity": 1,
         "showlegend": false,
         "text": [
          "21405",
          "30694",
          "38058",
          "44664",
          "76101",
          "83615",
          "90565",
          "96738"
         ],
         "type": "scatter",
         "uid": "ee6cbeca-fc82-4473-ba38-980065a00a62",
         "x": [
          -257.127,
          -358.775
         ],
         "y": [
          -12.2321,
          -29.005
         ]
        },
        {
         "hoverinfo": "name+text",
         "legendgroup": "True",
         "line": {
          "color": "darkseagreen",
          "width": 1
         },
         "name": "T8: real",
         "opacity": 1,
         "showlegend": false,
         "text": [
          "21405",
          "30694",
          "38058",
          "44664",
          "76101",
          "83615",
          "90565",
          "96738"
         ],
         "type": "scatter",
         "uid": "25d239a4-58fb-4e41-a567-b0e6c5286223",
         "x": [
          -358.775,
          -494.937
         ],
         "y": [
          -29.005,
          -62.5497
         ]
        },
        {
         "hoverinfo": "name+text",
         "legendgroup": "True",
         "line": {
          "color": "darkseagreen",
          "width": 1
         },
         "name": "T8: real",
         "opacity": 1,
         "showlegend": false,
         "text": [
          "21405",
          "30694",
          "38058",
          "44664",
          "76101",
          "83615",
          "90565",
          "96738"
         ],
         "type": "scatter",
         "uid": "482199ee-d205-4cb3-bc20-12b06bb4e0f9",
         "x": [
          -494.937,
          -650.641
         ],
         "y": [
          -62.5497,
          -117.418
         ]
        }
       ],
       "layout": {
        "height": 800,
        "hovermode": "closest",
        "showlegend": true,
        "updatemenus": [
         {
          "buttons": [
           {
            "args": [
             "shapes",
             []
            ],
            "label": "hide layers",
            "method": "relayout"
           },
           {
            "args": [
             "shapes",
             [
              {
               "layer": "below",
               "line": {
                "color": "#ccc"
               },
               "opacity": 0.5,
               "type": "circle",
               "x0": -32,
               "x1": 32,
               "y0": -32,
               "y1": 32
              },
              {
               "layer": "below",
               "line": {
                "color": "#ccc"
               },
               "opacity": 0.5,
               "type": "circle",
               "x0": -72,
               "x1": 72,
               "y0": -72,
               "y1": 72
              },
              {
               "layer": "below",
               "line": {
                "color": "#ccc"
               },
               "opacity": 0.5,
               "type": "circle",
               "x0": -116,
               "x1": 116,
               "y0": -116,
               "y1": 116
              },
              {
               "layer": "below",
               "line": {
                "color": "#ccc"
               },
               "opacity": 0.5,
               "type": "circle",
               "x0": -172,
               "x1": 172,
               "y0": -172,
               "y1": 172
              },
              {
               "layer": "below",
               "line": {
                "color": "#cccc8d"
               },
               "opacity": 0.5,
               "type": "circle",
               "x0": -260,
               "x1": 260,
               "y0": -260,
               "y1": 260
              },
              {
               "layer": "below",
               "line": {
                "color": "#cccc8d"
               },
               "opacity": 0.5,
               "type": "circle",
               "x0": -360,
               "x1": 360,
               "y0": -360,
               "y1": 360
              },
              {
               "layer": "below",
               "line": {
                "color": "#cccc8d"
               },
               "opacity": 0.5,
               "type": "circle",
               "x0": -500,
               "x1": 500,
               "y0": -500,
               "y1": 500
              },
              {
               "layer": "below",
               "line": {
                "color": "#cccc8d"
               },
               "opacity": 0.5,
               "type": "circle",
               "x0": -660,
               "x1": 660,
               "y0": -660,
               "y1": 660
              },
              {
               "layer": "below",
               "line": {
                "color": "#ccc"
               },
               "opacity": 0.5,
               "type": "circle",
               "x0": -820,
               "x1": 820,
               "y0": -820,
               "y1": 820
              },
              {
               "layer": "below",
               "line": {
                "color": "#ccc"
               },
               "opacity": 0.5,
               "type": "circle",
               "x0": -1020,
               "x1": 1020,
               "y0": -1020,
               "y1": 1020
              }
             ]
            ],
            "label": "show layers",
            "method": "relayout"
           }
          ],
          "direction": "left",
          "pad": {
           "l": 0.1
          },
          "type": "buttons",
          "xanchor": "left",
          "y": 1.1,
          "yanchor": "top"
         },
         {
          "buttons": [
           {
            "args": [
             {
              "mode": "markers+lines"
             }
            ],
            "label": "hits+tracks",
            "method": "update"
           },
           {
            "args": [
             {
              "mode": "markers"
             }
            ],
            "label": "hits only",
            "method": "update"
           }
          ],
          "direction": "left",
          "pad": {
           "l": 200
          },
          "type": "buttons",
          "xanchor": "left",
          "y": 1.1,
          "yanchor": "top"
         },
         {
          "buttons": [
           {
            "args": [
             "yaxis.scaleanchor",
             null
            ],
            "label": "free",
            "method": "relayout"
           },
           {
            "args": [
             "yaxis.scaleanchor",
             "x"
            ],
            "label": "fixed",
            "method": "relayout"
           }
          ],
          "direction": "left",
          "pad": {
           "l": 380
          },
          "type": "buttons",
          "xanchor": "left",
          "y": 1.1,
          "yanchor": "top"
         }
        ],
        "width": 800,
        "xaxis": {
         "title": "x"
        },
        "yaxis": {
         "title": "y"
        }
       }
      },
      "text/html": [
       "<div id=\"df2ab34c-b585-4c85-85b5-adfde94d29c5\" style=\"height: 800px; width: 800px;\" class=\"plotly-graph-div\"></div><script type=\"text/javascript\">require([\"plotly\"], function(Plotly) { window.PLOTLYENV=window.PLOTLYENV || {};window.PLOTLYENV.BASE_URL=\"https://plot.ly\";Plotly.newPlot(\"df2ab34c-b585-4c85-85b5-adfde94d29c5\", [{\"hoverinfo\": \"name+text\", \"legendgroup\": \"True\", \"line\": {\"color\": \"darkseagreen\", \"width\": 1}, \"name\": \"T0: real\", \"opacity\": 1, \"showlegend\": true, \"text\": [\"18246\", \"27129\", \"34226\", \"40268\", \"72036\", \"78762\"], \"x\": [-21.7191, -49.4278], \"y\": [-22.879, -53.6609], \"type\": \"scatter\", \"uid\": \"cc8a595b-f069-45d9-9d00-cdf0030f0979\"}, {\"hoverinfo\": \"name+text\", \"legendgroup\": \"True\", \"line\": {\"color\": \"darkseagreen\", \"width\": 1}, \"name\": \"T0: real\", \"opacity\": 1, \"showlegend\": false, \"text\": [\"18246\", \"27129\", \"34226\", \"40268\", \"72036\", \"78762\"], \"x\": [-49.4278, -76.6251], \"y\": [-53.6609, -85.78], \"type\": \"scatter\", \"uid\": \"0b33fecc-0a28-4af0-933c-fd5f106a105f\"}, {\"hoverinfo\": \"name+text\", \"legendgroup\": \"True\", \"line\": {\"color\": \"darkseagreen\", \"width\": 1}, \"name\": \"T0: real\", \"opacity\": 1, \"showlegend\": false, \"text\": [\"18246\", \"27129\", \"34226\", \"40268\", \"72036\", \"78762\"], \"x\": [-76.6251, -111.405], \"y\": [-85.78, -130.203], \"type\": \"scatter\", \"uid\": \"0cab1c3c-a919-4989-8e7d-0ae1da2cb0ec\"}, {\"hoverinfo\": \"name+text\", \"legendgroup\": \"True\", \"line\": {\"color\": \"darkseagreen\", \"width\": 1}, \"name\": \"T0: real\", \"opacity\": 1, \"showlegend\": false, \"text\": [\"18246\", \"27129\", \"34226\", \"40268\", \"72036\", \"78762\"], \"x\": [-111.405, -163.782], \"y\": [-130.203, -205.827], \"type\": \"scatter\", \"uid\": \"b6c8e9a1-9779-4ee5-aab9-03b1f79c4040\"}, {\"hoverinfo\": \"name+text\", \"legendgroup\": \"True\", \"line\": {\"color\": \"darkseagreen\", \"width\": 1}, \"name\": \"T0: real\", \"opacity\": 1, \"showlegend\": false, \"text\": [\"18246\", \"27129\", \"34226\", \"40268\", \"72036\", \"78762\"], \"x\": [-163.782, -213.656], \"y\": [-205.827, -290.52], \"type\": \"scatter\", \"uid\": \"1edfd153-4eb8-4a49-87bc-4686567a38c0\"}, {\"hoverinfo\": \"name+text\", \"legendgroup\": \"True\", \"line\": {\"color\": \"green\", \"width\": 1}, \"name\": \"T1: real\", \"opacity\": 1, \"showlegend\": false, \"text\": [\"20764\", \"27487\", \"34491\", \"40865\", \"72549\", \"79138\", \"85537\"], \"x\": [5.5706, 10.5024], \"y\": [31.671, 72.0453], \"type\": \"scatter\", \"uid\": \"53c0fe15-9d3e-4de7-9e54-4b6438119b61\"}, {\"hoverinfo\": \"name+text\", \"legendgroup\": \"True\", \"line\": {\"color\": \"green\", \"width\": 1}, \"name\": \"T1: real\", \"opacity\": 1, \"showlegend\": false, \"text\": [\"20764\", \"27487\", \"34491\", \"40865\", \"72549\", \"79138\", \"85537\"], \"x\": [10.5024, 14.7116], \"y\": [72.0453, 114.108], \"type\": \"scatter\", \"uid\": \"bc9a542e-e96b-4397-81ad-1a5fe8d3582b\"}, {\"hoverinfo\": \"name+text\", \"legendgroup\": \"True\", \"line\": {\"color\": \"green\", \"width\": 1}, \"name\": \"T1: real\", \"opacity\": 1, \"showlegend\": false, \"text\": [\"20764\", \"27487\", \"34491\", \"40865\", \"72549\", \"79138\", \"85537\"], \"x\": [14.7116, 18.992], \"y\": [114.108, 171.997], \"type\": \"scatter\", \"uid\": \"0cd3b01e-cc04-470e-82ed-516a87f4e7fb\"}, {\"hoverinfo\": \"name+text\", \"legendgroup\": \"True\", \"line\": {\"color\": \"green\", \"width\": 1}, \"name\": \"T1: real\", \"opacity\": 1, \"showlegend\": false, \"text\": [\"20764\", \"27487\", \"34491\", \"40865\", \"72549\", \"79138\", \"85537\"], \"x\": [18.992, 22.298], \"y\": [171.997, 257.23400000000004], \"type\": \"scatter\", \"uid\": \"2df4d72a-c5d8-47f8-b753-9164bf272208\"}, {\"hoverinfo\": \"name+text\", \"legendgroup\": \"True\", \"line\": {\"color\": \"green\", \"width\": 1}, \"name\": \"T1: real\", \"opacity\": 1, \"showlegend\": false, \"text\": [\"20764\", \"27487\", \"34491\", \"40865\", \"72549\", \"79138\", \"85537\"], \"x\": [22.298, 21.6577], \"y\": [257.23400000000004, 357.611], \"type\": \"scatter\", \"uid\": \"c4b86c6e-32c3-4a24-b05e-b01cf023d161\"}, {\"hoverinfo\": \"name+text\", \"legendgroup\": \"True\", \"line\": {\"color\": \"green\", \"width\": 1}, \"name\": \"T1: real\", \"opacity\": 1, \"showlegend\": false, \"text\": [\"20764\", \"27487\", \"34491\", \"40865\", \"72549\", \"79138\", \"85537\"], \"x\": [21.6577, 12.251], \"y\": [357.611, 496.648], \"type\": \"scatter\", \"uid\": \"3984d726-cc8f-4a06-b7b4-34b66f242edd\"}, {\"hoverinfo\": \"name+text\", \"legendgroup\": \"True\", \"line\": {\"color\": \"green\", \"width\": 1}, \"name\": \"T2: real\", \"opacity\": 1, \"showlegend\": false, \"text\": [\"20262\", \"28058\", \"34877\", \"41146\", \"73201\", \"79641\", \"86195\", \"91955\", \"107743\"], \"x\": [32.2451, 70.7765], \"y\": [4.53326, 9.61941], \"type\": \"scatter\", \"uid\": \"08c8eb5f-f872-46e3-8c4c-ecc8307ac61f\"}, {\"hoverinfo\": \"name+text\", \"legendgroup\": \"True\", \"line\": {\"color\": \"green\", \"width\": 1}, \"name\": \"T2: real\", \"opacity\": 1, \"showlegend\": false, \"text\": [\"20262\", \"28058\", \"34877\", \"41146\", \"73201\", \"79641\", \"86195\", \"91955\", \"107743\"], \"x\": [70.7765, 114.433], \"y\": [9.61941, 14.9217], \"type\": \"scatter\", \"uid\": \"de4c2e3d-7cf5-42da-aa03-0bf63efe5485\"}, {\"hoverinfo\": \"name+text\", \"legendgroup\": \"True\", \"line\": {\"color\": \"green\", \"width\": 1}, \"name\": \"T2: real\", \"opacity\": 1, \"showlegend\": false, \"text\": [\"20262\", \"28058\", \"34877\", \"41146\", \"73201\", \"79641\", \"86195\", \"91955\", \"107743\"], \"x\": [114.433, 170.40099999999995], \"y\": [14.9217, 21.0637], \"type\": \"scatter\", \"uid\": \"419957d0-38f8-4ac6-adee-fc871a023582\"}, {\"hoverinfo\": \"name+text\", \"legendgroup\": \"True\", \"line\": {\"color\": \"green\", \"width\": 1}, \"name\": \"T2: real\", \"opacity\": 1, \"showlegend\": false, \"text\": [\"20262\", \"28058\", \"34877\", \"41146\", \"73201\", \"79641\", \"86195\", \"91955\", \"107743\"], \"x\": [170.40099999999995, 258.338], \"y\": [21.0637, 29.1488], \"type\": \"scatter\", \"uid\": \"9422a14d-1e95-4591-ad0e-c6b247083151\"}, {\"hoverinfo\": \"name+text\", \"legendgroup\": \"True\", \"line\": {\"color\": \"green\", \"width\": 1}, \"name\": \"T2: real\", \"opacity\": 1, \"showlegend\": false, \"text\": [\"20262\", \"28058\", \"34877\", \"41146\", \"73201\", \"79641\", \"86195\", \"91955\", \"107743\"], \"x\": [258.338, 359.452], \"y\": [29.1488, 36.1999], \"type\": \"scatter\", \"uid\": \"d3686604-b2d1-41ff-bb8b-433c7dc778af\"}, {\"hoverinfo\": \"name+text\", \"legendgroup\": \"True\", \"line\": {\"color\": \"green\", \"width\": 1}, \"name\": \"T2: real\", \"opacity\": 1, \"showlegend\": false, \"text\": [\"20262\", \"28058\", \"34877\", \"41146\", \"73201\", \"79641\", \"86195\", \"91955\", \"107743\"], \"x\": [359.452, 503.503], \"y\": [36.1999, 42.0709], \"type\": \"scatter\", \"uid\": \"a31948be-c4ef-472f-b999-8402ae33b312\"}, {\"hoverinfo\": \"name+text\", \"legendgroup\": \"True\", \"line\": {\"color\": \"green\", \"width\": 1}, \"name\": \"T2: real\", \"opacity\": 1, \"showlegend\": false, \"text\": [\"20262\", \"28058\", \"34877\", \"41146\", \"73201\", \"79641\", \"86195\", \"91955\", \"107743\"], \"x\": [503.503, 663.908], \"y\": [42.0709, 43.0984], \"type\": \"scatter\", \"uid\": \"43eeb5eb-259f-49ae-a03b-d3985d622a43\"}, {\"hoverinfo\": \"name+text\", \"legendgroup\": \"True\", \"line\": {\"color\": \"green\", \"width\": 1}, \"name\": \"T2: real\", \"opacity\": 1, \"showlegend\": false, \"text\": [\"20262\", \"28058\", \"34877\", \"41146\", \"73201\", \"79641\", \"86195\", \"91955\", \"107743\"], \"x\": [663.908, 823.312], \"y\": [43.0984, 38.3265], \"type\": \"scatter\", \"uid\": \"37221113-c37c-45a9-8c05-cada2175dbcb\"}, {\"hoverinfo\": \"name+text\", \"legendgroup\": \"True\", \"line\": {\"color\": \"green\", \"width\": 1}, \"name\": \"T3: real\", \"opacity\": 1, \"showlegend\": false, \"text\": [\"19698\", \"27827\", \"35259\", \"41464\", \"73085\", \"79880\", \"86402\", \"92130\", \"107883\"], \"x\": [-4.16977, -9.16296], \"y\": [-31.75, -71.4937], \"type\": \"scatter\", \"uid\": \"652eda7d-bfb7-4376-b9f4-4b16f9645a5b\"}, {\"hoverinfo\": \"name+text\", \"legendgroup\": \"True\", \"line\": {\"color\": \"green\", \"width\": 1}, \"name\": \"T3: real\", \"opacity\": 1, \"showlegend\": false, \"text\": [\"19698\", \"27827\", \"35259\", \"41464\", \"73085\", \"79880\", \"86402\", \"92130\", \"107883\"], \"x\": [-9.16296, -14.2464], \"y\": [-71.4937, -114.127], \"type\": \"scatter\", \"uid\": \"2b25c604-5ed6-4dc9-a0b1-c4f40f4e606f\"}, {\"hoverinfo\": \"name+text\", \"legendgroup\": \"True\", \"line\": {\"color\": \"green\", \"width\": 1}, \"name\": \"T3: real\", \"opacity\": 1, \"showlegend\": false, \"text\": [\"19698\", \"27827\", \"35259\", \"41464\", \"73085\", \"79880\", \"86402\", \"92130\", \"107883\"], \"x\": [-14.2464, -20.5217], \"y\": [-114.127, -170.169], \"type\": \"scatter\", \"uid\": \"469f5802-2cfc-4526-a5d1-75cb45e8519c\"}, {\"hoverinfo\": \"name+text\", \"legendgroup\": \"True\", \"line\": {\"color\": \"green\", \"width\": 1}, \"name\": \"T3: real\", \"opacity\": 1, \"showlegend\": false, \"text\": [\"19698\", \"27827\", \"35259\", \"41464\", \"73085\", \"79880\", \"86402\", \"92130\", \"107883\"], \"x\": [-20.5217, -29.116], \"y\": [-170.169, -255.648], \"type\": \"scatter\", \"uid\": \"3e771f85-3863-4f50-8063-db7dccb981a5\"}, {\"hoverinfo\": \"name+text\", \"legendgroup\": \"True\", \"line\": {\"color\": \"green\", \"width\": 1}, \"name\": \"T3: real\", \"opacity\": 1, \"showlegend\": false, \"text\": [\"19698\", \"27827\", \"35259\", \"41464\", \"73085\", \"79880\", \"86402\", \"92130\", \"107883\"], \"x\": [-29.116, -38.3955], \"y\": [-255.648, -363.693], \"type\": \"scatter\", \"uid\": \"433ae7ca-fd28-471d-ba39-df6da9917514\"}, {\"hoverinfo\": \"name+text\", \"legendgroup\": \"True\", \"line\": {\"color\": \"green\", \"width\": 1}, \"name\": \"T3: real\", \"opacity\": 1, \"showlegend\": false, \"text\": [\"19698\", \"27827\", \"35259\", \"41464\", \"73085\", \"79880\", \"86402\", \"92130\", \"107883\"], \"x\": [-38.3955, -47.3072], \"y\": [-363.693, -495.195], \"type\": \"scatter\", \"uid\": \"09a42472-b649-430a-a33d-cfe622b950a8\"}, {\"hoverinfo\": \"name+text\", \"legendgroup\": \"True\", \"line\": {\"color\": \"green\", \"width\": 1}, \"name\": \"T3: real\", \"opacity\": 1, \"showlegend\": false, \"text\": [\"19698\", \"27827\", \"35259\", \"41464\", \"73085\", \"79880\", \"86402\", \"92130\", \"107883\"], \"x\": [-47.3072, -54.4897], \"y\": [-495.195, -654.254], \"type\": \"scatter\", \"uid\": \"8dfa9d78-1f59-4f88-956c-e50ae76d7863\"}, {\"hoverinfo\": \"name+text\", \"legendgroup\": \"True\", \"line\": {\"color\": \"green\", \"width\": 1}, \"name\": \"T3: real\", \"opacity\": 1, \"showlegend\": false, \"text\": [\"19698\", \"27827\", \"35259\", \"41464\", \"73085\", \"79880\", \"86402\", \"92130\", \"107883\"], \"x\": [-54.4897, -57.8177], \"y\": [-654.254, -817.466], \"type\": \"scatter\", \"uid\": \"f48151e5-7010-4ce6-9dc5-3371666cf14e\"}, {\"hoverinfo\": \"name+text\", \"legendgroup\": \"True\", \"line\": {\"color\": \"darkseagreen\", \"width\": 1}, \"name\": \"T4: real\", \"opacity\": 1, \"showlegend\": false, \"text\": [\"75184\", \"82090\", \"88632\", \"94896\", \"110783\", \"116120\"], \"x\": [-1.10379, -15.6281], \"y\": [-262.164, -358.871], \"type\": \"scatter\", \"uid\": \"c63be5b8-1de7-434f-9d33-bfc17654c29c\"}, {\"hoverinfo\": \"name+text\", \"legendgroup\": \"True\", \"line\": {\"color\": \"darkseagreen\", \"width\": 1}, \"name\": \"T4: real\", \"opacity\": 1, \"showlegend\": false, \"text\": [\"75184\", \"82090\", \"88632\", \"94896\", \"110783\", \"116120\"], \"x\": [-15.6281, -48.3976], \"y\": [-358.871, -494.939], \"type\": \"scatter\", \"uid\": \"18a45e70-451f-4c91-a9a9-ff3fb89f30f4\"}, {\"hoverinfo\": \"name+text\", \"legendgroup\": \"True\", \"line\": {\"color\": \"darkseagreen\", \"width\": 1}, \"name\": \"T4: real\", \"opacity\": 1, \"showlegend\": false, \"text\": [\"75184\", \"82090\", \"88632\", \"94896\", \"110783\", \"116120\"], \"x\": [-48.3976, -107.941], \"y\": [-494.939, -654.971], \"type\": \"scatter\", \"uid\": \"7e34a45f-8a5f-4a14-bd75-c39ed9dfda87\"}, {\"hoverinfo\": \"name+text\", \"legendgroup\": \"True\", \"line\": {\"color\": \"darkseagreen\", \"width\": 1}, \"name\": \"T4: real\", \"opacity\": 1, \"showlegend\": false, \"text\": [\"75184\", \"82090\", \"88632\", \"94896\", \"110783\", \"116120\"], \"x\": [-107.941, -184.63], \"y\": [-654.971, -801.703], \"type\": \"scatter\", \"uid\": \"fc723a70-aaff-486f-af2b-56b702024bf8\"}, {\"hoverinfo\": \"name+text\", \"legendgroup\": \"True\", \"line\": {\"color\": \"darkseagreen\", \"width\": 1}, \"name\": \"T4: real\", \"opacity\": 1, \"showlegend\": false, \"text\": [\"75184\", \"82090\", \"88632\", \"94896\", \"110783\", \"116120\"], \"x\": [-184.63, -306.828], \"y\": [-801.703, -971.876], \"type\": \"scatter\", \"uid\": \"ab8821e4-8ac8-423b-ad33-80a19a750aab\"}, {\"hoverinfo\": \"name+text\", \"legendgroup\": \"True\", \"line\": {\"color\": \"green\", \"width\": 1}, \"name\": \"T5: real\", \"opacity\": 1, \"showlegend\": false, \"text\": [\"21265\", \"29504\", \"42350\", \"73830\", \"80933\", \"87292\", \"93165\", \"109022\", \"114036\"], \"x\": [-31.6364, -70.206], \"y\": [6.18379, 14.1226], \"type\": \"scatter\", \"uid\": \"c8538e8b-9368-4a77-a2ce-becd4633fec1\"}, {\"hoverinfo\": \"name+text\", \"legendgroup\": \"True\", \"line\": {\"color\": \"green\", \"width\": 1}, \"name\": \"T5: real\", \"opacity\": 1, \"showlegend\": false, \"text\": [\"21265\", \"29504\", \"42350\", \"73830\", \"80933\", \"87292\", \"93165\", \"109022\", \"114036\"], \"x\": [-70.206, -168.155], \"y\": [14.1226, 36.3725], \"type\": \"scatter\", \"uid\": \"24b2b8c1-969c-419a-a3ec-da9c6c212c2f\"}, {\"hoverinfo\": \"name+text\", \"legendgroup\": \"True\", \"line\": {\"color\": \"green\", \"width\": 1}, \"name\": \"T5: real\", \"opacity\": 1, \"showlegend\": false, \"text\": [\"21265\", \"29504\", \"42350\", \"73830\", \"80933\", \"87292\", \"93165\", \"109022\", \"114036\"], \"x\": [-168.155, -255.151], \"y\": [36.3725, 58.8872], \"type\": \"scatter\", \"uid\": \"f4d3c09e-83ba-47a4-8444-19ab6ac5b571\"}, {\"hoverinfo\": \"name+text\", \"legendgroup\": \"True\", \"line\": {\"color\": \"green\", \"width\": 1}, \"name\": \"T5: real\", \"opacity\": 1, \"showlegend\": false, \"text\": [\"21265\", \"29504\", \"42350\", \"73830\", \"80933\", \"87292\", \"93165\", \"109022\", \"114036\"], \"x\": [-255.151, -353.285], \"y\": [58.8872, 87.1991], \"type\": \"scatter\", \"uid\": \"d3ae31a4-70f4-4c52-9de9-60f4025e42db\"}, {\"hoverinfo\": \"name+text\", \"legendgroup\": \"True\", \"line\": {\"color\": \"green\", \"width\": 1}, \"name\": \"T5: real\", \"opacity\": 1, \"showlegend\": false, \"text\": [\"21265\", \"29504\", \"42350\", \"73830\", \"80933\", \"87292\", \"93165\", \"109022\", \"114036\"], \"x\": [-353.285, -482.875], \"y\": [87.1991, 129.892], \"type\": \"scatter\", \"uid\": \"3a5a4d97-ec1e-4cd4-891f-99098a0d258a\"}, {\"hoverinfo\": \"name+text\", \"legendgroup\": \"True\", \"line\": {\"color\": \"green\", \"width\": 1}, \"name\": \"T5: real\", \"opacity\": 1, \"showlegend\": false, \"text\": [\"21265\", \"29504\", \"42350\", \"73830\", \"80933\", \"87292\", \"93165\", \"109022\", \"114036\"], \"x\": [-482.875, -633.385], \"y\": [129.892, 187.317], \"type\": \"scatter\", \"uid\": \"8f272bcb-5d43-463c-a696-cc35d586ca85\"}, {\"hoverinfo\": \"name+text\", \"legendgroup\": \"True\", \"line\": {\"color\": \"green\", \"width\": 1}, \"name\": \"T5: real\", \"opacity\": 1, \"showlegend\": false, \"text\": [\"21265\", \"29504\", \"42350\", \"73830\", \"80933\", \"87292\", \"93165\", \"109022\", \"114036\"], \"x\": [-633.385, -782.4169999999998], \"y\": [187.317, 252.867], \"type\": \"scatter\", \"uid\": \"bb83f4fd-c3c4-4b83-9942-db87f7e2776d\"}, {\"hoverinfo\": \"name+text\", \"legendgroup\": \"True\", \"line\": {\"color\": \"green\", \"width\": 1}, \"name\": \"T5: real\", \"opacity\": 1, \"showlegend\": false, \"text\": [\"21265\", \"29504\", \"42350\", \"73830\", \"80933\", \"87292\", \"93165\", \"109022\", \"114036\"], \"x\": [-782.4169999999998, -962.827], \"y\": [252.867, 344.76199999999994], \"type\": \"scatter\", \"uid\": \"39b850ff-b26d-4269-ae08-617b949d76cd\"}, {\"hoverinfo\": \"name+text\", \"legendgroup\": \"6\", \"line\": {\"color\": \"red\", \"width\": 1}, \"name\": \"T6: 3/4 ok\", \"opacity\": 1, \"showlegend\": true, \"text\": [\"23050\", \"37198\", \"44045\", \"75480\", \"82723\"], \"x\": [-4.64343, -13.5617], \"y\": [31.6821, 114.204], \"type\": \"scatter\", \"uid\": \"41d98230-1b07-4ef9-86a0-c7154cc64a02\"}, {\"hoverinfo\": \"name+text\", \"legendgroup\": \"6\", \"line\": {\"color\": \"darkseagreen\", \"width\": 1}, \"name\": \"T6: 3/4 ok\", \"opacity\": 1, \"showlegend\": false, \"text\": [\"23050\", \"37198\", \"44045\", \"75480\", \"82723\"], \"x\": [-13.5617, -16.8728], \"y\": [114.204, 171.016], \"type\": \"scatter\", \"uid\": \"5667c075-3489-4623-a1fe-6138e7051b36\"}, {\"hoverinfo\": \"name+text\", \"legendgroup\": \"6\", \"line\": {\"color\": \"darkseagreen\", \"width\": 1}, \"name\": \"T6: 3/4 ok\", \"opacity\": 1, \"showlegend\": false, \"text\": [\"23050\", \"37198\", \"44045\", \"75480\", \"82723\"], \"x\": [-16.8728, -17.738], \"y\": [171.016, 257.521], \"type\": \"scatter\", \"uid\": \"acb99097-a8df-415f-9fab-9b09c4726085\"}, {\"hoverinfo\": \"name+text\", \"legendgroup\": \"6\", \"line\": {\"color\": \"darkseagreen\", \"width\": 1}, \"name\": \"T6: 3/4 ok\", \"opacity\": 1, \"showlegend\": false, \"text\": [\"23050\", \"37198\", \"44045\", \"75480\", \"82723\"], \"x\": [-17.738, -11.9561], \"y\": [257.521, 360.148], \"type\": \"scatter\", \"uid\": \"99afaca4-0450-4fd4-af4d-aecaacaaad4f\"}, {\"hoverinfo\": \"name+text\", \"legendgroup\": \"True\", \"line\": {\"color\": \"green\", \"width\": 1}, \"name\": \"T7: real\", \"opacity\": 1, \"showlegend\": false, \"text\": [\"23536\", \"31418\", \"38524\", \"45067\", \"76902\", \"83944\", \"90803\", \"96934\"], \"x\": [-30.9263, -68.8454], \"y\": [9.9814, 22.8573], \"type\": \"scatter\", \"uid\": \"c1fe0aea-b3be-4f14-b560-4c0346673a01\"}, {\"hoverinfo\": \"name+text\", \"legendgroup\": \"True\", \"line\": {\"color\": \"green\", \"width\": 1}, \"name\": \"T7: real\", \"opacity\": 1, \"showlegend\": false, \"text\": [\"23536\", \"31418\", \"38524\", \"45067\", \"76902\", \"83944\", \"90803\", \"96934\"], \"x\": [-68.8454, -109.987], \"y\": [22.8573, 37.6253], \"type\": \"scatter\", \"uid\": \"2ba5d88d-58eb-41cb-8826-f24bd92dcb71\"}, {\"hoverinfo\": \"name+text\", \"legendgroup\": \"True\", \"line\": {\"color\": \"green\", \"width\": 1}, \"name\": \"T7: real\", \"opacity\": 1, \"showlegend\": false, \"text\": [\"23536\", \"31418\", \"38524\", \"45067\", \"76902\", \"83944\", \"90803\", \"96934\"], \"x\": [-109.987, -161.876], \"y\": [37.6253, 57.4577], \"type\": \"scatter\", \"uid\": \"e1c2ca7f-ea70-4d66-95ef-c949024e37c4\"}, {\"hoverinfo\": \"name+text\", \"legendgroup\": \"True\", \"line\": {\"color\": \"green\", \"width\": 1}, \"name\": \"T7: real\", \"opacity\": 1, \"showlegend\": false, \"text\": [\"23536\", \"31418\", \"38524\", \"45067\", \"76902\", \"83944\", \"90803\", \"96934\"], \"x\": [-161.876, -246.02], \"y\": [57.4577, 92.7332], \"type\": \"scatter\", \"uid\": \"df46aab7-40ad-429b-b2e5-6404b592d289\"}, {\"hoverinfo\": \"name+text\", \"legendgroup\": \"True\", \"line\": {\"color\": \"green\", \"width\": 1}, \"name\": \"T7: real\", \"opacity\": 1, \"showlegend\": false, \"text\": [\"23536\", \"31418\", \"38524\", \"45067\", \"76902\", \"83944\", \"90803\", \"96934\"], \"x\": [-246.02, -333.426], \"y\": [92.7332, 133.519], \"type\": \"scatter\", \"uid\": \"f193bff9-ded0-47e8-ae54-ebca5c20a899\"}, {\"hoverinfo\": \"name+text\", \"legendgroup\": \"True\", \"line\": {\"color\": \"green\", \"width\": 1}, \"name\": \"T7: real\", \"opacity\": 1, \"showlegend\": false, \"text\": [\"23536\", \"31418\", \"38524\", \"45067\", \"76902\", \"83944\", \"90803\", \"96934\"], \"x\": [-333.426, -459.273], \"y\": [133.519, 200.49400000000003], \"type\": \"scatter\", \"uid\": \"b7b3df63-2196-40ca-a81d-d2bc10300d28\"}, {\"hoverinfo\": \"name+text\", \"legendgroup\": \"True\", \"line\": {\"color\": \"green\", \"width\": 1}, \"name\": \"T7: real\", \"opacity\": 1, \"showlegend\": false, \"text\": [\"23536\", \"31418\", \"38524\", \"45067\", \"76902\", \"83944\", \"90803\", \"96934\"], \"x\": [-459.273, -595.614], \"y\": [200.49400000000003, 284.758], \"type\": \"scatter\", \"uid\": \"9dfddb2b-587c-441f-bad6-5727562373bf\"}, {\"hoverinfo\": \"name+text\", \"legendgroup\": \"True\", \"line\": {\"color\": \"darkseagreen\", \"width\": 1}, \"name\": \"T8: real\", \"opacity\": 1, \"showlegend\": false, \"text\": [\"21405\", \"30694\", \"38058\", \"44664\", \"76101\", \"83615\", \"90565\", \"96738\"], \"x\": [-33.5947, -73.825], \"y\": [0.8266889999999999, 0.838565], \"type\": \"scatter\", \"uid\": \"29eab42a-d437-425f-ad9f-2a360a692e1e\"}, {\"hoverinfo\": \"name+text\", \"legendgroup\": \"True\", \"line\": {\"color\": \"darkseagreen\", \"width\": 1}, \"name\": \"T8: real\", \"opacity\": 1, \"showlegend\": false, \"text\": [\"21405\", \"30694\", \"38058\", \"44664\", \"76101\", \"83615\", \"90565\", \"96738\"], \"x\": [-73.825, -116.911], \"y\": [0.838565, -0.235947], \"type\": \"scatter\", \"uid\": \"8141174a-a5b8-4764-95e8-5ba8fba7b905\"}, {\"hoverinfo\": \"name+text\", \"legendgroup\": \"True\", \"line\": {\"color\": \"darkseagreen\", \"width\": 1}, \"name\": \"T8: real\", \"opacity\": 1, \"showlegend\": false, \"text\": [\"21405\", \"30694\", \"38058\", \"44664\", \"76101\", \"83615\", \"90565\", \"96738\"], \"x\": [-116.911, -172.74200000000005], \"y\": [-0.235947, -3.4674400000000003], \"type\": \"scatter\", \"uid\": \"51f0d83b-7fe3-4fc9-b876-3078e941d0c6\"}, {\"hoverinfo\": \"name+text\", \"legendgroup\": \"True\", \"line\": {\"color\": \"darkseagreen\", \"width\": 1}, \"name\": \"T8: real\", \"opacity\": 1, \"showlegend\": false, \"text\": [\"21405\", \"30694\", \"38058\", \"44664\", \"76101\", \"83615\", \"90565\", \"96738\"], \"x\": [-172.74200000000005, -257.127], \"y\": [-3.4674400000000003, -12.2321], \"type\": \"scatter\", \"uid\": \"5ab9c529-0f72-4227-8807-f7f09450c086\"}, {\"hoverinfo\": \"name+text\", \"legendgroup\": \"True\", \"line\": {\"color\": \"darkseagreen\", \"width\": 1}, \"name\": \"T8: real\", \"opacity\": 1, \"showlegend\": false, \"text\": [\"21405\", \"30694\", \"38058\", \"44664\", \"76101\", \"83615\", \"90565\", \"96738\"], \"x\": [-257.127, -358.775], \"y\": [-12.2321, -29.005], \"type\": \"scatter\", \"uid\": \"ee6cbeca-fc82-4473-ba38-980065a00a62\"}, {\"hoverinfo\": \"name+text\", \"legendgroup\": \"True\", \"line\": {\"color\": \"darkseagreen\", \"width\": 1}, \"name\": \"T8: real\", \"opacity\": 1, \"showlegend\": false, \"text\": [\"21405\", \"30694\", \"38058\", \"44664\", \"76101\", \"83615\", \"90565\", \"96738\"], \"x\": [-358.775, -494.937], \"y\": [-29.005, -62.5497], \"type\": \"scatter\", \"uid\": \"25d239a4-58fb-4e41-a567-b0e6c5286223\"}, {\"hoverinfo\": \"name+text\", \"legendgroup\": \"True\", \"line\": {\"color\": \"darkseagreen\", \"width\": 1}, \"name\": \"T8: real\", \"opacity\": 1, \"showlegend\": false, \"text\": [\"21405\", \"30694\", \"38058\", \"44664\", \"76101\", \"83615\", \"90565\", \"96738\"], \"x\": [-494.937, -650.641], \"y\": [-62.5497, -117.418], \"type\": \"scatter\", \"uid\": \"482199ee-d205-4cb3-bc20-12b06bb4e0f9\"}], {\"height\": 800, \"hovermode\": \"closest\", \"showlegend\": true, \"updatemenus\": [{\"buttons\": [{\"args\": [\"shapes\", []], \"label\": \"hide layers\", \"method\": \"relayout\"}, {\"args\": [\"shapes\", [{\"type\": \"circle\", \"x0\": -32, \"x1\": 32, \"y0\": -32, \"y1\": 32, \"opacity\": 0.5, \"layer\": \"below\", \"line\": {\"color\": \"#ccc\"}}, {\"type\": \"circle\", \"x0\": -72, \"x1\": 72, \"y0\": -72, \"y1\": 72, \"opacity\": 0.5, \"layer\": \"below\", \"line\": {\"color\": \"#ccc\"}}, {\"type\": \"circle\", \"x0\": -116, \"x1\": 116, \"y0\": -116, \"y1\": 116, \"opacity\": 0.5, \"layer\": \"below\", \"line\": {\"color\": \"#ccc\"}}, {\"type\": \"circle\", \"x0\": -172, \"x1\": 172, \"y0\": -172, \"y1\": 172, \"opacity\": 0.5, \"layer\": \"below\", \"line\": {\"color\": \"#ccc\"}}, {\"type\": \"circle\", \"x0\": -260, \"x1\": 260, \"y0\": -260, \"y1\": 260, \"opacity\": 0.5, \"layer\": \"below\", \"line\": {\"color\": \"#cccc8d\"}}, {\"type\": \"circle\", \"x0\": -360, \"x1\": 360, \"y0\": -360, \"y1\": 360, \"opacity\": 0.5, \"layer\": \"below\", \"line\": {\"color\": \"#cccc8d\"}}, {\"type\": \"circle\", \"x0\": -500, \"x1\": 500, \"y0\": -500, \"y1\": 500, \"opacity\": 0.5, \"layer\": \"below\", \"line\": {\"color\": \"#cccc8d\"}}, {\"type\": \"circle\", \"x0\": -660, \"x1\": 660, \"y0\": -660, \"y1\": 660, \"opacity\": 0.5, \"layer\": \"below\", \"line\": {\"color\": \"#cccc8d\"}}, {\"type\": \"circle\", \"x0\": -820, \"x1\": 820, \"y0\": -820, \"y1\": 820, \"opacity\": 0.5, \"layer\": \"below\", \"line\": {\"color\": \"#ccc\"}}, {\"type\": \"circle\", \"x0\": -1020, \"x1\": 1020, \"y0\": -1020, \"y1\": 1020, \"opacity\": 0.5, \"layer\": \"below\", \"line\": {\"color\": \"#ccc\"}}]], \"label\": \"show layers\", \"method\": \"relayout\"}], \"direction\": \"left\", \"pad\": {\"l\": 0.1}, \"type\": \"buttons\", \"xanchor\": \"left\", \"y\": 1.1, \"yanchor\": \"top\"}, {\"buttons\": [{\"args\": [{\"mode\": \"markers+lines\"}], \"label\": \"hits+tracks\", \"method\": \"update\"}, {\"args\": [{\"mode\": \"markers\"}], \"label\": \"hits only\", \"method\": \"update\"}], \"direction\": \"left\", \"pad\": {\"l\": 200}, \"type\": \"buttons\", \"xanchor\": \"left\", \"y\": 1.1, \"yanchor\": \"top\"}, {\"buttons\": [{\"args\": [\"yaxis.scaleanchor\", null], \"label\": \"free\", \"method\": \"relayout\"}, {\"args\": [\"yaxis.scaleanchor\", \"x\"], \"label\": \"fixed\", \"method\": \"relayout\"}], \"direction\": \"left\", \"pad\": {\"l\": 380}, \"type\": \"buttons\", \"xanchor\": \"left\", \"y\": 1.1, \"yanchor\": \"top\"}], \"width\": 800, \"xaxis\": {\"title\": \"x\"}, \"yaxis\": {\"title\": \"y\"}}, {\"showLink\": true, \"linkText\": \"Export to plot.ly\", \"plotlyServerURL\": \"https://plot.ly\"})});</script>"
      ],
      "text/vnd.plotly.v1+html": [
       "<div id=\"df2ab34c-b585-4c85-85b5-adfde94d29c5\" style=\"height: 800px; width: 800px;\" class=\"plotly-graph-div\"></div><script type=\"text/javascript\">require([\"plotly\"], function(Plotly) { window.PLOTLYENV=window.PLOTLYENV || {};window.PLOTLYENV.BASE_URL=\"https://plot.ly\";Plotly.newPlot(\"df2ab34c-b585-4c85-85b5-adfde94d29c5\", [{\"hoverinfo\": \"name+text\", \"legendgroup\": \"True\", \"line\": {\"color\": \"darkseagreen\", \"width\": 1}, \"name\": \"T0: real\", \"opacity\": 1, \"showlegend\": true, \"text\": [\"18246\", \"27129\", \"34226\", \"40268\", \"72036\", \"78762\"], \"x\": [-21.7191, -49.4278], \"y\": [-22.879, -53.6609], \"type\": \"scatter\", \"uid\": \"cc8a595b-f069-45d9-9d00-cdf0030f0979\"}, {\"hoverinfo\": \"name+text\", \"legendgroup\": \"True\", \"line\": {\"color\": \"darkseagreen\", \"width\": 1}, \"name\": \"T0: real\", \"opacity\": 1, \"showlegend\": false, \"text\": [\"18246\", \"27129\", \"34226\", \"40268\", \"72036\", \"78762\"], \"x\": [-49.4278, -76.6251], \"y\": [-53.6609, -85.78], \"type\": \"scatter\", \"uid\": \"0b33fecc-0a28-4af0-933c-fd5f106a105f\"}, {\"hoverinfo\": \"name+text\", \"legendgroup\": \"True\", \"line\": {\"color\": \"darkseagreen\", \"width\": 1}, \"name\": \"T0: real\", \"opacity\": 1, \"showlegend\": false, \"text\": [\"18246\", \"27129\", \"34226\", \"40268\", \"72036\", \"78762\"], \"x\": [-76.6251, -111.405], \"y\": [-85.78, -130.203], \"type\": \"scatter\", \"uid\": \"0cab1c3c-a919-4989-8e7d-0ae1da2cb0ec\"}, {\"hoverinfo\": \"name+text\", \"legendgroup\": \"True\", \"line\": {\"color\": \"darkseagreen\", \"width\": 1}, \"name\": \"T0: real\", \"opacity\": 1, \"showlegend\": false, \"text\": [\"18246\", \"27129\", \"34226\", \"40268\", \"72036\", \"78762\"], \"x\": [-111.405, -163.782], \"y\": [-130.203, -205.827], \"type\": \"scatter\", \"uid\": \"b6c8e9a1-9779-4ee5-aab9-03b1f79c4040\"}, {\"hoverinfo\": \"name+text\", \"legendgroup\": \"True\", \"line\": {\"color\": \"darkseagreen\", \"width\": 1}, \"name\": \"T0: real\", \"opacity\": 1, \"showlegend\": false, \"text\": [\"18246\", \"27129\", \"34226\", \"40268\", \"72036\", \"78762\"], \"x\": [-163.782, -213.656], \"y\": [-205.827, -290.52], \"type\": \"scatter\", \"uid\": \"1edfd153-4eb8-4a49-87bc-4686567a38c0\"}, {\"hoverinfo\": \"name+text\", \"legendgroup\": \"True\", \"line\": {\"color\": \"green\", \"width\": 1}, \"name\": \"T1: real\", \"opacity\": 1, \"showlegend\": false, \"text\": [\"20764\", \"27487\", \"34491\", \"40865\", \"72549\", \"79138\", \"85537\"], \"x\": [5.5706, 10.5024], \"y\": [31.671, 72.0453], \"type\": \"scatter\", \"uid\": \"53c0fe15-9d3e-4de7-9e54-4b6438119b61\"}, {\"hoverinfo\": \"name+text\", \"legendgroup\": \"True\", \"line\": {\"color\": \"green\", \"width\": 1}, \"name\": \"T1: real\", \"opacity\": 1, \"showlegend\": false, \"text\": [\"20764\", \"27487\", \"34491\", \"40865\", \"72549\", \"79138\", \"85537\"], \"x\": [10.5024, 14.7116], \"y\": [72.0453, 114.108], \"type\": \"scatter\", \"uid\": \"bc9a542e-e96b-4397-81ad-1a5fe8d3582b\"}, {\"hoverinfo\": \"name+text\", \"legendgroup\": \"True\", \"line\": {\"color\": \"green\", \"width\": 1}, \"name\": \"T1: real\", \"opacity\": 1, \"showlegend\": false, \"text\": [\"20764\", \"27487\", \"34491\", \"40865\", \"72549\", \"79138\", \"85537\"], \"x\": [14.7116, 18.992], \"y\": [114.108, 171.997], \"type\": \"scatter\", \"uid\": \"0cd3b01e-cc04-470e-82ed-516a87f4e7fb\"}, {\"hoverinfo\": \"name+text\", \"legendgroup\": \"True\", \"line\": {\"color\": \"green\", \"width\": 1}, \"name\": \"T1: real\", \"opacity\": 1, \"showlegend\": false, \"text\": [\"20764\", \"27487\", \"34491\", \"40865\", \"72549\", \"79138\", \"85537\"], \"x\": [18.992, 22.298], \"y\": [171.997, 257.23400000000004], \"type\": \"scatter\", \"uid\": \"2df4d72a-c5d8-47f8-b753-9164bf272208\"}, {\"hoverinfo\": \"name+text\", \"legendgroup\": \"True\", \"line\": {\"color\": \"green\", \"width\": 1}, \"name\": \"T1: real\", \"opacity\": 1, \"showlegend\": false, \"text\": [\"20764\", \"27487\", \"34491\", \"40865\", \"72549\", \"79138\", \"85537\"], \"x\": [22.298, 21.6577], \"y\": [257.23400000000004, 357.611], \"type\": \"scatter\", \"uid\": \"c4b86c6e-32c3-4a24-b05e-b01cf023d161\"}, {\"hoverinfo\": \"name+text\", \"legendgroup\": \"True\", \"line\": {\"color\": \"green\", \"width\": 1}, \"name\": \"T1: real\", \"opacity\": 1, \"showlegend\": false, \"text\": [\"20764\", \"27487\", \"34491\", \"40865\", \"72549\", \"79138\", \"85537\"], \"x\": [21.6577, 12.251], \"y\": [357.611, 496.648], \"type\": \"scatter\", \"uid\": \"3984d726-cc8f-4a06-b7b4-34b66f242edd\"}, {\"hoverinfo\": \"name+text\", \"legendgroup\": \"True\", \"line\": {\"color\": \"green\", \"width\": 1}, \"name\": \"T2: real\", \"opacity\": 1, \"showlegend\": false, \"text\": [\"20262\", \"28058\", \"34877\", \"41146\", \"73201\", \"79641\", \"86195\", \"91955\", \"107743\"], \"x\": [32.2451, 70.7765], \"y\": [4.53326, 9.61941], \"type\": \"scatter\", \"uid\": \"08c8eb5f-f872-46e3-8c4c-ecc8307ac61f\"}, {\"hoverinfo\": \"name+text\", \"legendgroup\": \"True\", \"line\": {\"color\": \"green\", \"width\": 1}, \"name\": \"T2: real\", \"opacity\": 1, \"showlegend\": false, \"text\": [\"20262\", \"28058\", \"34877\", \"41146\", \"73201\", \"79641\", \"86195\", \"91955\", \"107743\"], \"x\": [70.7765, 114.433], \"y\": [9.61941, 14.9217], \"type\": \"scatter\", \"uid\": \"de4c2e3d-7cf5-42da-aa03-0bf63efe5485\"}, {\"hoverinfo\": \"name+text\", \"legendgroup\": \"True\", \"line\": {\"color\": \"green\", \"width\": 1}, \"name\": \"T2: real\", \"opacity\": 1, \"showlegend\": false, \"text\": [\"20262\", \"28058\", \"34877\", \"41146\", \"73201\", \"79641\", \"86195\", \"91955\", \"107743\"], \"x\": [114.433, 170.40099999999995], \"y\": [14.9217, 21.0637], \"type\": \"scatter\", \"uid\": \"419957d0-38f8-4ac6-adee-fc871a023582\"}, {\"hoverinfo\": \"name+text\", \"legendgroup\": \"True\", \"line\": {\"color\": \"green\", \"width\": 1}, \"name\": \"T2: real\", \"opacity\": 1, \"showlegend\": false, \"text\": [\"20262\", \"28058\", \"34877\", \"41146\", \"73201\", \"79641\", \"86195\", \"91955\", \"107743\"], \"x\": [170.40099999999995, 258.338], \"y\": [21.0637, 29.1488], \"type\": \"scatter\", \"uid\": \"9422a14d-1e95-4591-ad0e-c6b247083151\"}, {\"hoverinfo\": \"name+text\", \"legendgroup\": \"True\", \"line\": {\"color\": \"green\", \"width\": 1}, \"name\": \"T2: real\", \"opacity\": 1, \"showlegend\": false, \"text\": [\"20262\", \"28058\", \"34877\", \"41146\", \"73201\", \"79641\", \"86195\", \"91955\", \"107743\"], \"x\": [258.338, 359.452], \"y\": [29.1488, 36.1999], \"type\": \"scatter\", \"uid\": \"d3686604-b2d1-41ff-bb8b-433c7dc778af\"}, {\"hoverinfo\": \"name+text\", \"legendgroup\": \"True\", \"line\": {\"color\": \"green\", \"width\": 1}, \"name\": \"T2: real\", \"opacity\": 1, \"showlegend\": false, \"text\": [\"20262\", \"28058\", \"34877\", \"41146\", \"73201\", \"79641\", \"86195\", \"91955\", \"107743\"], \"x\": [359.452, 503.503], \"y\": [36.1999, 42.0709], \"type\": \"scatter\", \"uid\": \"a31948be-c4ef-472f-b999-8402ae33b312\"}, {\"hoverinfo\": \"name+text\", \"legendgroup\": \"True\", \"line\": {\"color\": \"green\", \"width\": 1}, \"name\": \"T2: real\", \"opacity\": 1, \"showlegend\": false, \"text\": [\"20262\", \"28058\", \"34877\", \"41146\", \"73201\", \"79641\", \"86195\", \"91955\", \"107743\"], \"x\": [503.503, 663.908], \"y\": [42.0709, 43.0984], \"type\": \"scatter\", \"uid\": \"43eeb5eb-259f-49ae-a03b-d3985d622a43\"}, {\"hoverinfo\": \"name+text\", \"legendgroup\": \"True\", \"line\": {\"color\": \"green\", \"width\": 1}, \"name\": \"T2: real\", \"opacity\": 1, \"showlegend\": false, \"text\": [\"20262\", \"28058\", \"34877\", \"41146\", \"73201\", \"79641\", \"86195\", \"91955\", \"107743\"], \"x\": [663.908, 823.312], \"y\": [43.0984, 38.3265], \"type\": \"scatter\", \"uid\": \"37221113-c37c-45a9-8c05-cada2175dbcb\"}, {\"hoverinfo\": \"name+text\", \"legendgroup\": \"True\", \"line\": {\"color\": \"green\", \"width\": 1}, \"name\": \"T3: real\", \"opacity\": 1, \"showlegend\": false, \"text\": [\"19698\", \"27827\", \"35259\", \"41464\", \"73085\", \"79880\", \"86402\", \"92130\", \"107883\"], \"x\": [-4.16977, -9.16296], \"y\": [-31.75, -71.4937], \"type\": \"scatter\", \"uid\": \"652eda7d-bfb7-4376-b9f4-4b16f9645a5b\"}, {\"hoverinfo\": \"name+text\", \"legendgroup\": \"True\", \"line\": {\"color\": \"green\", \"width\": 1}, \"name\": \"T3: real\", \"opacity\": 1, \"showlegend\": false, \"text\": [\"19698\", \"27827\", \"35259\", \"41464\", \"73085\", \"79880\", \"86402\", \"92130\", \"107883\"], \"x\": [-9.16296, -14.2464], \"y\": [-71.4937, -114.127], \"type\": \"scatter\", \"uid\": \"2b25c604-5ed6-4dc9-a0b1-c4f40f4e606f\"}, {\"hoverinfo\": \"name+text\", \"legendgroup\": \"True\", \"line\": {\"color\": \"green\", \"width\": 1}, \"name\": \"T3: real\", \"opacity\": 1, \"showlegend\": false, \"text\": [\"19698\", \"27827\", \"35259\", \"41464\", \"73085\", \"79880\", \"86402\", \"92130\", \"107883\"], \"x\": [-14.2464, -20.5217], \"y\": [-114.127, -170.169], \"type\": \"scatter\", \"uid\": \"469f5802-2cfc-4526-a5d1-75cb45e8519c\"}, {\"hoverinfo\": \"name+text\", \"legendgroup\": \"True\", \"line\": {\"color\": \"green\", \"width\": 1}, \"name\": \"T3: real\", \"opacity\": 1, \"showlegend\": false, \"text\": [\"19698\", \"27827\", \"35259\", \"41464\", \"73085\", \"79880\", \"86402\", \"92130\", \"107883\"], \"x\": [-20.5217, -29.116], \"y\": [-170.169, -255.648], \"type\": \"scatter\", \"uid\": \"3e771f85-3863-4f50-8063-db7dccb981a5\"}, {\"hoverinfo\": \"name+text\", \"legendgroup\": \"True\", \"line\": {\"color\": \"green\", \"width\": 1}, \"name\": \"T3: real\", \"opacity\": 1, \"showlegend\": false, \"text\": [\"19698\", \"27827\", \"35259\", \"41464\", \"73085\", \"79880\", \"86402\", \"92130\", \"107883\"], \"x\": [-29.116, -38.3955], \"y\": [-255.648, -363.693], \"type\": \"scatter\", \"uid\": \"433ae7ca-fd28-471d-ba39-df6da9917514\"}, {\"hoverinfo\": \"name+text\", \"legendgroup\": \"True\", \"line\": {\"color\": \"green\", \"width\": 1}, \"name\": \"T3: real\", \"opacity\": 1, \"showlegend\": false, \"text\": [\"19698\", \"27827\", \"35259\", \"41464\", \"73085\", \"79880\", \"86402\", \"92130\", \"107883\"], \"x\": [-38.3955, -47.3072], \"y\": [-363.693, -495.195], \"type\": \"scatter\", \"uid\": \"09a42472-b649-430a-a33d-cfe622b950a8\"}, {\"hoverinfo\": \"name+text\", \"legendgroup\": \"True\", \"line\": {\"color\": \"green\", \"width\": 1}, \"name\": \"T3: real\", \"opacity\": 1, \"showlegend\": false, \"text\": [\"19698\", \"27827\", \"35259\", \"41464\", \"73085\", \"79880\", \"86402\", \"92130\", \"107883\"], \"x\": [-47.3072, -54.4897], \"y\": [-495.195, -654.254], \"type\": \"scatter\", \"uid\": \"8dfa9d78-1f59-4f88-956c-e50ae76d7863\"}, {\"hoverinfo\": \"name+text\", \"legendgroup\": \"True\", \"line\": {\"color\": \"green\", \"width\": 1}, \"name\": \"T3: real\", \"opacity\": 1, \"showlegend\": false, \"text\": [\"19698\", \"27827\", \"35259\", \"41464\", \"73085\", \"79880\", \"86402\", \"92130\", \"107883\"], \"x\": [-54.4897, -57.8177], \"y\": [-654.254, -817.466], \"type\": \"scatter\", \"uid\": \"f48151e5-7010-4ce6-9dc5-3371666cf14e\"}, {\"hoverinfo\": \"name+text\", \"legendgroup\": \"True\", \"line\": {\"color\": \"darkseagreen\", \"width\": 1}, \"name\": \"T4: real\", \"opacity\": 1, \"showlegend\": false, \"text\": [\"75184\", \"82090\", \"88632\", \"94896\", \"110783\", \"116120\"], \"x\": [-1.10379, -15.6281], \"y\": [-262.164, -358.871], \"type\": \"scatter\", \"uid\": \"c63be5b8-1de7-434f-9d33-bfc17654c29c\"}, {\"hoverinfo\": \"name+text\", \"legendgroup\": \"True\", \"line\": {\"color\": \"darkseagreen\", \"width\": 1}, \"name\": \"T4: real\", \"opacity\": 1, \"showlegend\": false, \"text\": [\"75184\", \"82090\", \"88632\", \"94896\", \"110783\", \"116120\"], \"x\": [-15.6281, -48.3976], \"y\": [-358.871, -494.939], \"type\": \"scatter\", \"uid\": \"18a45e70-451f-4c91-a9a9-ff3fb89f30f4\"}, {\"hoverinfo\": \"name+text\", \"legendgroup\": \"True\", \"line\": {\"color\": \"darkseagreen\", \"width\": 1}, \"name\": \"T4: real\", \"opacity\": 1, \"showlegend\": false, \"text\": [\"75184\", \"82090\", \"88632\", \"94896\", \"110783\", \"116120\"], \"x\": [-48.3976, -107.941], \"y\": [-494.939, -654.971], \"type\": \"scatter\", \"uid\": \"7e34a45f-8a5f-4a14-bd75-c39ed9dfda87\"}, {\"hoverinfo\": \"name+text\", \"legendgroup\": \"True\", \"line\": {\"color\": \"darkseagreen\", \"width\": 1}, \"name\": \"T4: real\", \"opacity\": 1, \"showlegend\": false, \"text\": [\"75184\", \"82090\", \"88632\", \"94896\", \"110783\", \"116120\"], \"x\": [-107.941, -184.63], \"y\": [-654.971, -801.703], \"type\": \"scatter\", \"uid\": \"fc723a70-aaff-486f-af2b-56b702024bf8\"}, {\"hoverinfo\": \"name+text\", \"legendgroup\": \"True\", \"line\": {\"color\": \"darkseagreen\", \"width\": 1}, \"name\": \"T4: real\", \"opacity\": 1, \"showlegend\": false, \"text\": [\"75184\", \"82090\", \"88632\", \"94896\", \"110783\", \"116120\"], \"x\": [-184.63, -306.828], \"y\": [-801.703, -971.876], \"type\": \"scatter\", \"uid\": \"ab8821e4-8ac8-423b-ad33-80a19a750aab\"}, {\"hoverinfo\": \"name+text\", \"legendgroup\": \"True\", \"line\": {\"color\": \"green\", \"width\": 1}, \"name\": \"T5: real\", \"opacity\": 1, \"showlegend\": false, \"text\": [\"21265\", \"29504\", \"42350\", \"73830\", \"80933\", \"87292\", \"93165\", \"109022\", \"114036\"], \"x\": [-31.6364, -70.206], \"y\": [6.18379, 14.1226], \"type\": \"scatter\", \"uid\": \"c8538e8b-9368-4a77-a2ce-becd4633fec1\"}, {\"hoverinfo\": \"name+text\", \"legendgroup\": \"True\", \"line\": {\"color\": \"green\", \"width\": 1}, \"name\": \"T5: real\", \"opacity\": 1, \"showlegend\": false, \"text\": [\"21265\", \"29504\", \"42350\", \"73830\", \"80933\", \"87292\", \"93165\", \"109022\", \"114036\"], \"x\": [-70.206, -168.155], \"y\": [14.1226, 36.3725], \"type\": \"scatter\", \"uid\": \"24b2b8c1-969c-419a-a3ec-da9c6c212c2f\"}, {\"hoverinfo\": \"name+text\", \"legendgroup\": \"True\", \"line\": {\"color\": \"green\", \"width\": 1}, \"name\": \"T5: real\", \"opacity\": 1, \"showlegend\": false, \"text\": [\"21265\", \"29504\", \"42350\", \"73830\", \"80933\", \"87292\", \"93165\", \"109022\", \"114036\"], \"x\": [-168.155, -255.151], \"y\": [36.3725, 58.8872], \"type\": \"scatter\", \"uid\": \"f4d3c09e-83ba-47a4-8444-19ab6ac5b571\"}, {\"hoverinfo\": \"name+text\", \"legendgroup\": \"True\", \"line\": {\"color\": \"green\", \"width\": 1}, \"name\": \"T5: real\", \"opacity\": 1, \"showlegend\": false, \"text\": [\"21265\", \"29504\", \"42350\", \"73830\", \"80933\", \"87292\", \"93165\", \"109022\", \"114036\"], \"x\": [-255.151, -353.285], \"y\": [58.8872, 87.1991], \"type\": \"scatter\", \"uid\": \"d3ae31a4-70f4-4c52-9de9-60f4025e42db\"}, {\"hoverinfo\": \"name+text\", \"legendgroup\": \"True\", \"line\": {\"color\": \"green\", \"width\": 1}, \"name\": \"T5: real\", \"opacity\": 1, \"showlegend\": false, \"text\": [\"21265\", \"29504\", \"42350\", \"73830\", \"80933\", \"87292\", \"93165\", \"109022\", \"114036\"], \"x\": [-353.285, -482.875], \"y\": [87.1991, 129.892], \"type\": \"scatter\", \"uid\": \"3a5a4d97-ec1e-4cd4-891f-99098a0d258a\"}, {\"hoverinfo\": \"name+text\", \"legendgroup\": \"True\", \"line\": {\"color\": \"green\", \"width\": 1}, \"name\": \"T5: real\", \"opacity\": 1, \"showlegend\": false, \"text\": [\"21265\", \"29504\", \"42350\", \"73830\", \"80933\", \"87292\", \"93165\", \"109022\", \"114036\"], \"x\": [-482.875, -633.385], \"y\": [129.892, 187.317], \"type\": \"scatter\", \"uid\": \"8f272bcb-5d43-463c-a696-cc35d586ca85\"}, {\"hoverinfo\": \"name+text\", \"legendgroup\": \"True\", \"line\": {\"color\": \"green\", \"width\": 1}, \"name\": \"T5: real\", \"opacity\": 1, \"showlegend\": false, \"text\": [\"21265\", \"29504\", \"42350\", \"73830\", \"80933\", \"87292\", \"93165\", \"109022\", \"114036\"], \"x\": [-633.385, -782.4169999999998], \"y\": [187.317, 252.867], \"type\": \"scatter\", \"uid\": \"bb83f4fd-c3c4-4b83-9942-db87f7e2776d\"}, {\"hoverinfo\": \"name+text\", \"legendgroup\": \"True\", \"line\": {\"color\": \"green\", \"width\": 1}, \"name\": \"T5: real\", \"opacity\": 1, \"showlegend\": false, \"text\": [\"21265\", \"29504\", \"42350\", \"73830\", \"80933\", \"87292\", \"93165\", \"109022\", \"114036\"], \"x\": [-782.4169999999998, -962.827], \"y\": [252.867, 344.76199999999994], \"type\": \"scatter\", \"uid\": \"39b850ff-b26d-4269-ae08-617b949d76cd\"}, {\"hoverinfo\": \"name+text\", \"legendgroup\": \"6\", \"line\": {\"color\": \"red\", \"width\": 1}, \"name\": \"T6: 3/4 ok\", \"opacity\": 1, \"showlegend\": true, \"text\": [\"23050\", \"37198\", \"44045\", \"75480\", \"82723\"], \"x\": [-4.64343, -13.5617], \"y\": [31.6821, 114.204], \"type\": \"scatter\", \"uid\": \"41d98230-1b07-4ef9-86a0-c7154cc64a02\"}, {\"hoverinfo\": \"name+text\", \"legendgroup\": \"6\", \"line\": {\"color\": \"darkseagreen\", \"width\": 1}, \"name\": \"T6: 3/4 ok\", \"opacity\": 1, \"showlegend\": false, \"text\": [\"23050\", \"37198\", \"44045\", \"75480\", \"82723\"], \"x\": [-13.5617, -16.8728], \"y\": [114.204, 171.016], \"type\": \"scatter\", \"uid\": \"5667c075-3489-4623-a1fe-6138e7051b36\"}, {\"hoverinfo\": \"name+text\", \"legendgroup\": \"6\", \"line\": {\"color\": \"darkseagreen\", \"width\": 1}, \"name\": \"T6: 3/4 ok\", \"opacity\": 1, \"showlegend\": false, \"text\": [\"23050\", \"37198\", \"44045\", \"75480\", \"82723\"], \"x\": [-16.8728, -17.738], \"y\": [171.016, 257.521], \"type\": \"scatter\", \"uid\": \"acb99097-a8df-415f-9fab-9b09c4726085\"}, {\"hoverinfo\": \"name+text\", \"legendgroup\": \"6\", \"line\": {\"color\": \"darkseagreen\", \"width\": 1}, \"name\": \"T6: 3/4 ok\", \"opacity\": 1, \"showlegend\": false, \"text\": [\"23050\", \"37198\", \"44045\", \"75480\", \"82723\"], \"x\": [-17.738, -11.9561], \"y\": [257.521, 360.148], \"type\": \"scatter\", \"uid\": \"99afaca4-0450-4fd4-af4d-aecaacaaad4f\"}, {\"hoverinfo\": \"name+text\", \"legendgroup\": \"True\", \"line\": {\"color\": \"green\", \"width\": 1}, \"name\": \"T7: real\", \"opacity\": 1, \"showlegend\": false, \"text\": [\"23536\", \"31418\", \"38524\", \"45067\", \"76902\", \"83944\", \"90803\", \"96934\"], \"x\": [-30.9263, -68.8454], \"y\": [9.9814, 22.8573], \"type\": \"scatter\", \"uid\": \"c1fe0aea-b3be-4f14-b560-4c0346673a01\"}, {\"hoverinfo\": \"name+text\", \"legendgroup\": \"True\", \"line\": {\"color\": \"green\", \"width\": 1}, \"name\": \"T7: real\", \"opacity\": 1, \"showlegend\": false, \"text\": [\"23536\", \"31418\", \"38524\", \"45067\", \"76902\", \"83944\", \"90803\", \"96934\"], \"x\": [-68.8454, -109.987], \"y\": [22.8573, 37.6253], \"type\": \"scatter\", \"uid\": \"2ba5d88d-58eb-41cb-8826-f24bd92dcb71\"}, {\"hoverinfo\": \"name+text\", \"legendgroup\": \"True\", \"line\": {\"color\": \"green\", \"width\": 1}, \"name\": \"T7: real\", \"opacity\": 1, \"showlegend\": false, \"text\": [\"23536\", \"31418\", \"38524\", \"45067\", \"76902\", \"83944\", \"90803\", \"96934\"], \"x\": [-109.987, -161.876], \"y\": [37.6253, 57.4577], \"type\": \"scatter\", \"uid\": \"e1c2ca7f-ea70-4d66-95ef-c949024e37c4\"}, {\"hoverinfo\": \"name+text\", \"legendgroup\": \"True\", \"line\": {\"color\": \"green\", \"width\": 1}, \"name\": \"T7: real\", \"opacity\": 1, \"showlegend\": false, \"text\": [\"23536\", \"31418\", \"38524\", \"45067\", \"76902\", \"83944\", \"90803\", \"96934\"], \"x\": [-161.876, -246.02], \"y\": [57.4577, 92.7332], \"type\": \"scatter\", \"uid\": \"df46aab7-40ad-429b-b2e5-6404b592d289\"}, {\"hoverinfo\": \"name+text\", \"legendgroup\": \"True\", \"line\": {\"color\": \"green\", \"width\": 1}, \"name\": \"T7: real\", \"opacity\": 1, \"showlegend\": false, \"text\": [\"23536\", \"31418\", \"38524\", \"45067\", \"76902\", \"83944\", \"90803\", \"96934\"], \"x\": [-246.02, -333.426], \"y\": [92.7332, 133.519], \"type\": \"scatter\", \"uid\": \"f193bff9-ded0-47e8-ae54-ebca5c20a899\"}, {\"hoverinfo\": \"name+text\", \"legendgroup\": \"True\", \"line\": {\"color\": \"green\", \"width\": 1}, \"name\": \"T7: real\", \"opacity\": 1, \"showlegend\": false, \"text\": [\"23536\", \"31418\", \"38524\", \"45067\", \"76902\", \"83944\", \"90803\", \"96934\"], \"x\": [-333.426, -459.273], \"y\": [133.519, 200.49400000000003], \"type\": \"scatter\", \"uid\": \"b7b3df63-2196-40ca-a81d-d2bc10300d28\"}, {\"hoverinfo\": \"name+text\", \"legendgroup\": \"True\", \"line\": {\"color\": \"green\", \"width\": 1}, \"name\": \"T7: real\", \"opacity\": 1, \"showlegend\": false, \"text\": [\"23536\", \"31418\", \"38524\", \"45067\", \"76902\", \"83944\", \"90803\", \"96934\"], \"x\": [-459.273, -595.614], \"y\": [200.49400000000003, 284.758], \"type\": \"scatter\", \"uid\": \"9dfddb2b-587c-441f-bad6-5727562373bf\"}, {\"hoverinfo\": \"name+text\", \"legendgroup\": \"True\", \"line\": {\"color\": \"darkseagreen\", \"width\": 1}, \"name\": \"T8: real\", \"opacity\": 1, \"showlegend\": false, \"text\": [\"21405\", \"30694\", \"38058\", \"44664\", \"76101\", \"83615\", \"90565\", \"96738\"], \"x\": [-33.5947, -73.825], \"y\": [0.8266889999999999, 0.838565], \"type\": \"scatter\", \"uid\": \"29eab42a-d437-425f-ad9f-2a360a692e1e\"}, {\"hoverinfo\": \"name+text\", \"legendgroup\": \"True\", \"line\": {\"color\": \"darkseagreen\", \"width\": 1}, \"name\": \"T8: real\", \"opacity\": 1, \"showlegend\": false, \"text\": [\"21405\", \"30694\", \"38058\", \"44664\", \"76101\", \"83615\", \"90565\", \"96738\"], \"x\": [-73.825, -116.911], \"y\": [0.838565, -0.235947], \"type\": \"scatter\", \"uid\": \"8141174a-a5b8-4764-95e8-5ba8fba7b905\"}, {\"hoverinfo\": \"name+text\", \"legendgroup\": \"True\", \"line\": {\"color\": \"darkseagreen\", \"width\": 1}, \"name\": \"T8: real\", \"opacity\": 1, \"showlegend\": false, \"text\": [\"21405\", \"30694\", \"38058\", \"44664\", \"76101\", \"83615\", \"90565\", \"96738\"], \"x\": [-116.911, -172.74200000000005], \"y\": [-0.235947, -3.4674400000000003], \"type\": \"scatter\", \"uid\": \"51f0d83b-7fe3-4fc9-b876-3078e941d0c6\"}, {\"hoverinfo\": \"name+text\", \"legendgroup\": \"True\", \"line\": {\"color\": \"darkseagreen\", \"width\": 1}, \"name\": \"T8: real\", \"opacity\": 1, \"showlegend\": false, \"text\": [\"21405\", \"30694\", \"38058\", \"44664\", \"76101\", \"83615\", \"90565\", \"96738\"], \"x\": [-172.74200000000005, -257.127], \"y\": [-3.4674400000000003, -12.2321], \"type\": \"scatter\", \"uid\": \"5ab9c529-0f72-4227-8807-f7f09450c086\"}, {\"hoverinfo\": \"name+text\", \"legendgroup\": \"True\", \"line\": {\"color\": \"darkseagreen\", \"width\": 1}, \"name\": \"T8: real\", \"opacity\": 1, \"showlegend\": false, \"text\": [\"21405\", \"30694\", \"38058\", \"44664\", \"76101\", \"83615\", \"90565\", \"96738\"], \"x\": [-257.127, -358.775], \"y\": [-12.2321, -29.005], \"type\": \"scatter\", \"uid\": \"ee6cbeca-fc82-4473-ba38-980065a00a62\"}, {\"hoverinfo\": \"name+text\", \"legendgroup\": \"True\", \"line\": {\"color\": \"darkseagreen\", \"width\": 1}, \"name\": \"T8: real\", \"opacity\": 1, \"showlegend\": false, \"text\": [\"21405\", \"30694\", \"38058\", \"44664\", \"76101\", \"83615\", \"90565\", \"96738\"], \"x\": [-358.775, -494.937], \"y\": [-29.005, -62.5497], \"type\": \"scatter\", \"uid\": \"25d239a4-58fb-4e41-a567-b0e6c5286223\"}, {\"hoverinfo\": \"name+text\", \"legendgroup\": \"True\", \"line\": {\"color\": \"darkseagreen\", \"width\": 1}, \"name\": \"T8: real\", \"opacity\": 1, \"showlegend\": false, \"text\": [\"21405\", \"30694\", \"38058\", \"44664\", \"76101\", \"83615\", \"90565\", \"96738\"], \"x\": [-494.937, -650.641], \"y\": [-62.5497, -117.418], \"type\": \"scatter\", \"uid\": \"482199ee-d205-4cb3-bc20-12b06bb4e0f9\"}], {\"height\": 800, \"hovermode\": \"closest\", \"showlegend\": true, \"updatemenus\": [{\"buttons\": [{\"args\": [\"shapes\", []], \"label\": \"hide layers\", \"method\": \"relayout\"}, {\"args\": [\"shapes\", [{\"type\": \"circle\", \"x0\": -32, \"x1\": 32, \"y0\": -32, \"y1\": 32, \"opacity\": 0.5, \"layer\": \"below\", \"line\": {\"color\": \"#ccc\"}}, {\"type\": \"circle\", \"x0\": -72, \"x1\": 72, \"y0\": -72, \"y1\": 72, \"opacity\": 0.5, \"layer\": \"below\", \"line\": {\"color\": \"#ccc\"}}, {\"type\": \"circle\", \"x0\": -116, \"x1\": 116, \"y0\": -116, \"y1\": 116, \"opacity\": 0.5, \"layer\": \"below\", \"line\": {\"color\": \"#ccc\"}}, {\"type\": \"circle\", \"x0\": -172, \"x1\": 172, \"y0\": -172, \"y1\": 172, \"opacity\": 0.5, \"layer\": \"below\", \"line\": {\"color\": \"#ccc\"}}, {\"type\": \"circle\", \"x0\": -260, \"x1\": 260, \"y0\": -260, \"y1\": 260, \"opacity\": 0.5, \"layer\": \"below\", \"line\": {\"color\": \"#cccc8d\"}}, {\"type\": \"circle\", \"x0\": -360, \"x1\": 360, \"y0\": -360, \"y1\": 360, \"opacity\": 0.5, \"layer\": \"below\", \"line\": {\"color\": \"#cccc8d\"}}, {\"type\": \"circle\", \"x0\": -500, \"x1\": 500, \"y0\": -500, \"y1\": 500, \"opacity\": 0.5, \"layer\": \"below\", \"line\": {\"color\": \"#cccc8d\"}}, {\"type\": \"circle\", \"x0\": -660, \"x1\": 660, \"y0\": -660, \"y1\": 660, \"opacity\": 0.5, \"layer\": \"below\", \"line\": {\"color\": \"#cccc8d\"}}, {\"type\": \"circle\", \"x0\": -820, \"x1\": 820, \"y0\": -820, \"y1\": 820, \"opacity\": 0.5, \"layer\": \"below\", \"line\": {\"color\": \"#ccc\"}}, {\"type\": \"circle\", \"x0\": -1020, \"x1\": 1020, \"y0\": -1020, \"y1\": 1020, \"opacity\": 0.5, \"layer\": \"below\", \"line\": {\"color\": \"#ccc\"}}]], \"label\": \"show layers\", \"method\": \"relayout\"}], \"direction\": \"left\", \"pad\": {\"l\": 0.1}, \"type\": \"buttons\", \"xanchor\": \"left\", \"y\": 1.1, \"yanchor\": \"top\"}, {\"buttons\": [{\"args\": [{\"mode\": \"markers+lines\"}], \"label\": \"hits+tracks\", \"method\": \"update\"}, {\"args\": [{\"mode\": \"markers\"}], \"label\": \"hits only\", \"method\": \"update\"}], \"direction\": \"left\", \"pad\": {\"l\": 200}, \"type\": \"buttons\", \"xanchor\": \"left\", \"y\": 1.1, \"yanchor\": \"top\"}, {\"buttons\": [{\"args\": [\"yaxis.scaleanchor\", null], \"label\": \"free\", \"method\": \"relayout\"}, {\"args\": [\"yaxis.scaleanchor\", \"x\"], \"label\": \"fixed\", \"method\": \"relayout\"}], \"direction\": \"left\", \"pad\": {\"l\": 380}, \"type\": \"buttons\", \"xanchor\": \"left\", \"y\": 1.1, \"yanchor\": \"top\"}], \"width\": 800, \"xaxis\": {\"title\": \"x\"}, \"yaxis\": {\"title\": \"y\"}}, {\"showLink\": true, \"linkText\": \"Export to plot.ly\", \"plotlyServerURL\": \"https://plot.ly\"})});</script>"
      ]
     },
     "metadata": {},
     "output_type": "display_data"
    }
   ],
   "source": [
    "set_notebook_mode() # if running inside a notebook\n",
    "\n",
    "# load the dataset and the response_eigensolver (created using the qallse tool)\n",
    "dw = DataWrapper.from_path('C:/Users/timsc/hepqpr-qallse-data/ds1/event000001000-hits.csv')\n",
    "with open('C:/Users/timsc/hepqpr-qallse-data/ds1/evt1000-ds1-eigensolver-0-response.pickle', 'rb') as f: \n",
    "    response_eigensolver = pickle.load(f)\n",
    "\n",
    "# process the response_eigensolver and get the set of missing doublets\n",
    "final_doublets, final_tracks, energy = process_response_eigensolver(response_eigensolver)\n",
    "precision, recall, missings = dw.compute_score(final_doublets)\n",
    "\n",
    "# plotting examples\n",
    "iplot_results(dw, final_doublets, missings)\n",
    "iplot_results(dw, final_doublets, missings, dims=list('zr'))\n",
    "iplot_results_tracks(dw, final_tracks)"
   ]
  },
  {
   "cell_type": "code",
   "execution_count": 10,
   "id": "44332f56",
   "metadata": {},
   "outputs": [],
   "source": [
    "import sys\n",
    "import os.path as op\n",
    "sys.path.append('C:/Users/timsc/Documents/particle_tracking/code/')\n",
    "from particle_tracking import *"
   ]
  },
  {
   "cell_type": "code",
   "execution_count": 11,
   "id": "67433b35",
   "metadata": {},
   "outputs": [],
   "source": [
    "sub_qubo_path = 'C:/Users/timsc/hepqpr-qallse-data/ds1/sub_qubos/'\n",
    "sub_qubos = [op.join(sub_qubo_path, x) for x in os.listdir(sub_qubo_path)]\n",
    "results_exact = []\n",
    "for sub_qubo_file in sub_qubos:\n",
    "    with open(sub_qubo_file, 'rb') as f: \n",
    "        sub_qubo = pickle.load(f)[1]\n",
    "        b_ij, a_i, relations = prepare_data_dicts(sub_qubo)\n",
    "        op = Tracking_Hamiltonian(b_ij, a_i)\n",
    "        npme = NumPyMinimumEigensolver()\n",
    "        result_exact = npme.compute_minimum_eigenvalue(operator=op)\n",
    "        results_exact.append(result_exact)"
   ]
  },
  {
   "cell_type": "code",
   "execution_count": 21,
   "id": "4b1b61a7",
   "metadata": {},
   "outputs": [],
   "source": [
    "precisions = []\n",
    "recalls = []\n",
    "for i in range(6):\n",
    "    result_vqe_min_energy = min(response_vqe[i][1], key=lambda result_one_run: result_one_run['optimal_value'])\n",
    "    precisions.append(precision(result_vqe_min_energy, results_exact[i]))\n",
    "    recalls.append(recall(result_vqe_min_energy, results_exact[i]))"
   ]
  },
  {
   "cell_type": "code",
   "execution_count": 13,
   "id": "d086e4d8",
   "metadata": {},
   "outputs": [],
   "source": [
    "def precision(result_vqe, result_exact):\n",
    "\n",
    "    precision = 0\n",
    "    true_positives = 0\n",
    "    dict_vqe=result_vqe['eigenstate']\n",
    "    key_max=max(dict_vqe, key = lambda x: dict_vqe[x])\n",
    "    positives = key_max.count('1')\n",
    "    dict_exact=result_exact.eigenstate.to_dict_fn().sample()\n",
    "    n_triplets = len(key_max)\n",
    "    for i in range(n_triplets):\n",
    "        if key_max[i]=='1' and list(dict_exact.keys())[0][i]=='1':\n",
    "            true_positives += 1\n",
    "\n",
    "    if positives!=0:\n",
    "        precision = true_positives/positives\n",
    "\n",
    "    return precision\n",
    "\n",
    "def recall(result_vqe, result_exact):\n",
    "    recall = 0\n",
    "    true_positives = 0\n",
    "    false_negatives = 0\n",
    "    dict_vqe=result_vqe['eigenstate']\n",
    "    key_max=max(dict_vqe, key = lambda x: dict_vqe[x])\n",
    "    dict_exact=result_exact.eigenstate.to_dict_fn().sample()\n",
    "    n_triplets = len(key_max)\n",
    "    for i in range(n_triplets):\n",
    "        if key_max[i]=='1' and list(dict_exact.keys())[0][i]=='1':\n",
    "            true_positives += 1\n",
    "        if key_max[i]=='0' and list(dict_exact.keys())[0][i]=='1':\n",
    "            false_negatives += 1\n",
    "\n",
    "    if true_positives+false_negatives!=0:\n",
    "        recall = true_positives/(true_positives+false_negatives)\n",
    "\n",
    "    return recall"
   ]
  },
  {
   "cell_type": "code",
   "execution_count": 22,
   "id": "4f265d46",
   "metadata": {},
   "outputs": [
    {
     "data": {
      "text/plain": [
       "[0.6, 0.0, 0.6, 0, 0.16666666666666666, 0.6]"
      ]
     },
     "execution_count": 22,
     "metadata": {},
     "output_type": "execute_result"
    }
   ],
   "source": [
    "precisions"
   ]
  },
  {
   "cell_type": "code",
   "execution_count": 23,
   "id": "ffccfbef",
   "metadata": {},
   "outputs": [
    {
     "data": {
      "text/plain": [
       "[0.42857142857142855, 0.0, 0.375, 0.0, 0.14285714285714285, 0.375]"
      ]
     },
     "execution_count": 23,
     "metadata": {},
     "output_type": "execute_result"
    }
   ],
   "source": [
    "recalls"
   ]
  },
  {
   "cell_type": "code",
   "execution_count": 26,
   "id": "c627fa73",
   "metadata": {},
   "outputs": [
    {
     "name": "stdout",
     "output_type": "stream",
     "text": [
      "{'0100000110110001010': 1.0}\n",
      "{'0010111010110010010': 1.0}\n",
      "{'1001001011101001000': 1.0}\n",
      "{'1100110101010000011': 1.0}\n",
      "{'1100000100010101001': 1.0}\n",
      "{'1010000011011001001': 1.0}\n"
     ]
    }
   ],
   "source": [
    "for x in results_exact:\n",
    "    print(x.eigenstate.to_dict_fn().sample())"
   ]
  },
  {
   "cell_type": "code",
   "execution_count": 33,
   "id": "e41b2887",
   "metadata": {},
   "outputs": [
    {
     "name": "stdout",
     "output_type": "stream",
     "text": [
      "{   'aux_operator_eigenvalues': None,\n",
      "    'eigenstate': VectorStateFn(Statevector([0.+0.j, 0.+0.j, 0.+0.j, ..., 0.+0.j, 0.+0.j, 0.+0.j],\n",
      "            dims=(2, 2, 2, 2, 2, 2, 2, 2, 2, 2, 2, 2, 2, 2, 2, 2, 2, 2, 2)), coeff=1.0, is_measurement=False),\n",
      "    'eigenvalue': (-62.43459336014448+0j)}\n"
     ]
    }
   ],
   "source": [
    "print(result_exact)"
   ]
  }
 ],
 "metadata": {
  "kernelspec": {
   "display_name": "Python 3 (ipykernel)",
   "language": "python",
   "name": "python3"
  },
  "language_info": {
   "codemirror_mode": {
    "name": "ipython",
    "version": 3
   },
   "file_extension": ".py",
   "mimetype": "text/x-python",
   "name": "python",
   "nbconvert_exporter": "python",
   "pygments_lexer": "ipython3",
   "version": "3.7.13"
  }
 },
 "nbformat": 4,
 "nbformat_minor": 5
}
